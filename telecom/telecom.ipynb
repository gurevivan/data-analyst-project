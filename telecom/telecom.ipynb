{
 "cells": [
  {
   "cell_type": "markdown",
   "metadata": {},
   "source": [
    "## Шаг 1. Получение данных"
   ]
  },
  {
   "cell_type": "code",
   "execution_count": 1,
   "metadata": {},
   "outputs": [],
   "source": [
    "# импорт библиотек\n",
    "import pandas as pd\n",
    "import numpy as np \n",
    "import matplotlib.pyplot as plt \n",
    "from scipy import stats as st "
   ]
  },
  {
   "cell_type": "code",
   "execution_count": 2,
   "metadata": {},
   "outputs": [],
   "source": [
    "try:\n",
    "    calls = pd.read_csv('/datasets/calls.csv') # чтение файла с данными и сохранение в calls\n",
    "    internet = pd.read_csv('/datasets/internet.csv') # чтение файла с данными и сохранение в internet\n",
    "    messages = pd.read_csv('/datasets/messages.csv') # чтение файла с данными и сохранение в messages\n",
    "    tariffs = pd.read_csv('/datasets/tariffs.csv') # чтение файла с данными и сохранение в tariffs\n",
    "    users = pd.read_csv('/datasets/users.csv') # чтение файла с данными и сохранение в users\n",
    "except FileNotFoundError:\n",
    "    print('файл или директория не существует!')  "
   ]
  },
  {
   "cell_type": "code",
   "execution_count": 3,
   "metadata": {},
   "outputs": [],
   "source": [
    "# функция получения информации\n",
    "def get_info(name, df): \n",
    "    print('\\033[1m' + 'Первые 5 строк таблицы: ' + name + '\\033[0m')\n",
    "    display(df.head())\n",
    "    print()\n",
    "    print('\\033[1m' + 'Сводная информация о таблице: ' + name + '\\033[0m')\n",
    "    print()\n",
    "    df.info()\n",
    "    print()\n",
    "    print('\\033[1m' + 'Описательная статистика таблицы: ' + name + '\\033[0m')\n",
    "    display(df.describe())\n",
    "    print()\n",
    "    print('\\033[1m' + 'Описательная статистика таблицы: ' + name + '\\033[0m')\n",
    "    display(df.describe(include=[object]))\n",
    "    print()\n",
    "    print('\\033[1m' + 'Пропуски в таблице: ' + name + '\\033[0m')\n",
    "    report = df.isna().sum().to_frame()\n",
    "    report = report.rename(columns = {0: 'missing_values'})\n",
    "    report['% of total'] = (100 * report['missing_values'] / df.shape[0]).round(2)\n",
    "    display(report.sort_values(by = 'missing_values', ascending = False))\n",
    "    print()\n",
    "    print('\\033[1m' + 'Дубликатов в таблице ' + name + '\\033[0m'':', df.duplicated().sum())\n",
    "    print()"
   ]
  },
  {
   "cell_type": "code",
   "execution_count": 4,
   "metadata": {},
   "outputs": [
    {
     "name": "stdout",
     "output_type": "stream",
     "text": [
      "\u001b[1mПервые 5 строк таблицы: Звонки\u001b[0m\n"
     ]
    },
    {
     "data": {
      "text/html": [
       "<div>\n",
       "<style scoped>\n",
       "    .dataframe tbody tr th:only-of-type {\n",
       "        vertical-align: middle;\n",
       "    }\n",
       "\n",
       "    .dataframe tbody tr th {\n",
       "        vertical-align: top;\n",
       "    }\n",
       "\n",
       "    .dataframe thead th {\n",
       "        text-align: right;\n",
       "    }\n",
       "</style>\n",
       "<table border=\"1\" class=\"dataframe\">\n",
       "  <thead>\n",
       "    <tr style=\"text-align: right;\">\n",
       "      <th></th>\n",
       "      <th>id</th>\n",
       "      <th>call_date</th>\n",
       "      <th>duration</th>\n",
       "      <th>user_id</th>\n",
       "    </tr>\n",
       "  </thead>\n",
       "  <tbody>\n",
       "    <tr>\n",
       "      <th>0</th>\n",
       "      <td>1000_0</td>\n",
       "      <td>2018-07-25</td>\n",
       "      <td>0.00</td>\n",
       "      <td>1000</td>\n",
       "    </tr>\n",
       "    <tr>\n",
       "      <th>1</th>\n",
       "      <td>1000_1</td>\n",
       "      <td>2018-08-17</td>\n",
       "      <td>0.00</td>\n",
       "      <td>1000</td>\n",
       "    </tr>\n",
       "    <tr>\n",
       "      <th>2</th>\n",
       "      <td>1000_2</td>\n",
       "      <td>2018-06-11</td>\n",
       "      <td>2.85</td>\n",
       "      <td>1000</td>\n",
       "    </tr>\n",
       "    <tr>\n",
       "      <th>3</th>\n",
       "      <td>1000_3</td>\n",
       "      <td>2018-09-21</td>\n",
       "      <td>13.80</td>\n",
       "      <td>1000</td>\n",
       "    </tr>\n",
       "    <tr>\n",
       "      <th>4</th>\n",
       "      <td>1000_4</td>\n",
       "      <td>2018-12-15</td>\n",
       "      <td>5.18</td>\n",
       "      <td>1000</td>\n",
       "    </tr>\n",
       "  </tbody>\n",
       "</table>\n",
       "</div>"
      ],
      "text/plain": [
       "       id   call_date  duration  user_id\n",
       "0  1000_0  2018-07-25      0.00     1000\n",
       "1  1000_1  2018-08-17      0.00     1000\n",
       "2  1000_2  2018-06-11      2.85     1000\n",
       "3  1000_3  2018-09-21     13.80     1000\n",
       "4  1000_4  2018-12-15      5.18     1000"
      ]
     },
     "metadata": {},
     "output_type": "display_data"
    },
    {
     "name": "stdout",
     "output_type": "stream",
     "text": [
      "\n",
      "\u001b[1mСводная информация о таблице: Звонки\u001b[0m\n",
      "\n",
      "<class 'pandas.core.frame.DataFrame'>\n",
      "RangeIndex: 202607 entries, 0 to 202606\n",
      "Data columns (total 4 columns):\n",
      " #   Column     Non-Null Count   Dtype  \n",
      "---  ------     --------------   -----  \n",
      " 0   id         202607 non-null  object \n",
      " 1   call_date  202607 non-null  object \n",
      " 2   duration   202607 non-null  float64\n",
      " 3   user_id    202607 non-null  int64  \n",
      "dtypes: float64(1), int64(1), object(2)\n",
      "memory usage: 6.2+ MB\n",
      "\n",
      "\u001b[1mОписательная статистика таблицы: Звонки\u001b[0m\n"
     ]
    },
    {
     "data": {
      "text/html": [
       "<div>\n",
       "<style scoped>\n",
       "    .dataframe tbody tr th:only-of-type {\n",
       "        vertical-align: middle;\n",
       "    }\n",
       "\n",
       "    .dataframe tbody tr th {\n",
       "        vertical-align: top;\n",
       "    }\n",
       "\n",
       "    .dataframe thead th {\n",
       "        text-align: right;\n",
       "    }\n",
       "</style>\n",
       "<table border=\"1\" class=\"dataframe\">\n",
       "  <thead>\n",
       "    <tr style=\"text-align: right;\">\n",
       "      <th></th>\n",
       "      <th>duration</th>\n",
       "      <th>user_id</th>\n",
       "    </tr>\n",
       "  </thead>\n",
       "  <tbody>\n",
       "    <tr>\n",
       "      <th>count</th>\n",
       "      <td>202607.000000</td>\n",
       "      <td>202607.000000</td>\n",
       "    </tr>\n",
       "    <tr>\n",
       "      <th>mean</th>\n",
       "      <td>6.755887</td>\n",
       "      <td>1253.940619</td>\n",
       "    </tr>\n",
       "    <tr>\n",
       "      <th>std</th>\n",
       "      <td>5.843365</td>\n",
       "      <td>144.722751</td>\n",
       "    </tr>\n",
       "    <tr>\n",
       "      <th>min</th>\n",
       "      <td>0.000000</td>\n",
       "      <td>1000.000000</td>\n",
       "    </tr>\n",
       "    <tr>\n",
       "      <th>25%</th>\n",
       "      <td>1.300000</td>\n",
       "      <td>1126.000000</td>\n",
       "    </tr>\n",
       "    <tr>\n",
       "      <th>50%</th>\n",
       "      <td>6.000000</td>\n",
       "      <td>1260.000000</td>\n",
       "    </tr>\n",
       "    <tr>\n",
       "      <th>75%</th>\n",
       "      <td>10.700000</td>\n",
       "      <td>1379.000000</td>\n",
       "    </tr>\n",
       "    <tr>\n",
       "      <th>max</th>\n",
       "      <td>38.000000</td>\n",
       "      <td>1499.000000</td>\n",
       "    </tr>\n",
       "  </tbody>\n",
       "</table>\n",
       "</div>"
      ],
      "text/plain": [
       "            duration        user_id\n",
       "count  202607.000000  202607.000000\n",
       "mean        6.755887    1253.940619\n",
       "std         5.843365     144.722751\n",
       "min         0.000000    1000.000000\n",
       "25%         1.300000    1126.000000\n",
       "50%         6.000000    1260.000000\n",
       "75%        10.700000    1379.000000\n",
       "max        38.000000    1499.000000"
      ]
     },
     "metadata": {},
     "output_type": "display_data"
    },
    {
     "name": "stdout",
     "output_type": "stream",
     "text": [
      "\n",
      "\u001b[1mОписательная статистика таблицы: Звонки\u001b[0m\n"
     ]
    },
    {
     "data": {
      "text/html": [
       "<div>\n",
       "<style scoped>\n",
       "    .dataframe tbody tr th:only-of-type {\n",
       "        vertical-align: middle;\n",
       "    }\n",
       "\n",
       "    .dataframe tbody tr th {\n",
       "        vertical-align: top;\n",
       "    }\n",
       "\n",
       "    .dataframe thead th {\n",
       "        text-align: right;\n",
       "    }\n",
       "</style>\n",
       "<table border=\"1\" class=\"dataframe\">\n",
       "  <thead>\n",
       "    <tr style=\"text-align: right;\">\n",
       "      <th></th>\n",
       "      <th>id</th>\n",
       "      <th>call_date</th>\n",
       "    </tr>\n",
       "  </thead>\n",
       "  <tbody>\n",
       "    <tr>\n",
       "      <th>count</th>\n",
       "      <td>202607</td>\n",
       "      <td>202607</td>\n",
       "    </tr>\n",
       "    <tr>\n",
       "      <th>unique</th>\n",
       "      <td>202607</td>\n",
       "      <td>365</td>\n",
       "    </tr>\n",
       "    <tr>\n",
       "      <th>top</th>\n",
       "      <td>1262_381</td>\n",
       "      <td>2018-12-31</td>\n",
       "    </tr>\n",
       "    <tr>\n",
       "      <th>freq</th>\n",
       "      <td>1</td>\n",
       "      <td>1435</td>\n",
       "    </tr>\n",
       "  </tbody>\n",
       "</table>\n",
       "</div>"
      ],
      "text/plain": [
       "              id   call_date\n",
       "count     202607      202607\n",
       "unique    202607         365\n",
       "top     1262_381  2018-12-31\n",
       "freq           1        1435"
      ]
     },
     "metadata": {},
     "output_type": "display_data"
    },
    {
     "name": "stdout",
     "output_type": "stream",
     "text": [
      "\n",
      "\u001b[1mПропуски в таблице: Звонки\u001b[0m\n"
     ]
    },
    {
     "data": {
      "text/html": [
       "<div>\n",
       "<style scoped>\n",
       "    .dataframe tbody tr th:only-of-type {\n",
       "        vertical-align: middle;\n",
       "    }\n",
       "\n",
       "    .dataframe tbody tr th {\n",
       "        vertical-align: top;\n",
       "    }\n",
       "\n",
       "    .dataframe thead th {\n",
       "        text-align: right;\n",
       "    }\n",
       "</style>\n",
       "<table border=\"1\" class=\"dataframe\">\n",
       "  <thead>\n",
       "    <tr style=\"text-align: right;\">\n",
       "      <th></th>\n",
       "      <th>missing_values</th>\n",
       "      <th>% of total</th>\n",
       "    </tr>\n",
       "  </thead>\n",
       "  <tbody>\n",
       "    <tr>\n",
       "      <th>id</th>\n",
       "      <td>0</td>\n",
       "      <td>0.0</td>\n",
       "    </tr>\n",
       "    <tr>\n",
       "      <th>call_date</th>\n",
       "      <td>0</td>\n",
       "      <td>0.0</td>\n",
       "    </tr>\n",
       "    <tr>\n",
       "      <th>duration</th>\n",
       "      <td>0</td>\n",
       "      <td>0.0</td>\n",
       "    </tr>\n",
       "    <tr>\n",
       "      <th>user_id</th>\n",
       "      <td>0</td>\n",
       "      <td>0.0</td>\n",
       "    </tr>\n",
       "  </tbody>\n",
       "</table>\n",
       "</div>"
      ],
      "text/plain": [
       "           missing_values  % of total\n",
       "id                      0         0.0\n",
       "call_date               0         0.0\n",
       "duration                0         0.0\n",
       "user_id                 0         0.0"
      ]
     },
     "metadata": {},
     "output_type": "display_data"
    },
    {
     "name": "stdout",
     "output_type": "stream",
     "text": [
      "\n",
      "\u001b[1mДубликатов в таблице Звонки\u001b[0m: 0\n",
      "\n",
      "\u001b[1mПервые 5 строк таблицы: Интернет\u001b[0m\n"
     ]
    },
    {
     "data": {
      "text/html": [
       "<div>\n",
       "<style scoped>\n",
       "    .dataframe tbody tr th:only-of-type {\n",
       "        vertical-align: middle;\n",
       "    }\n",
       "\n",
       "    .dataframe tbody tr th {\n",
       "        vertical-align: top;\n",
       "    }\n",
       "\n",
       "    .dataframe thead th {\n",
       "        text-align: right;\n",
       "    }\n",
       "</style>\n",
       "<table border=\"1\" class=\"dataframe\">\n",
       "  <thead>\n",
       "    <tr style=\"text-align: right;\">\n",
       "      <th></th>\n",
       "      <th>Unnamed: 0</th>\n",
       "      <th>id</th>\n",
       "      <th>mb_used</th>\n",
       "      <th>session_date</th>\n",
       "      <th>user_id</th>\n",
       "    </tr>\n",
       "  </thead>\n",
       "  <tbody>\n",
       "    <tr>\n",
       "      <th>0</th>\n",
       "      <td>0</td>\n",
       "      <td>1000_0</td>\n",
       "      <td>112.95</td>\n",
       "      <td>2018-11-25</td>\n",
       "      <td>1000</td>\n",
       "    </tr>\n",
       "    <tr>\n",
       "      <th>1</th>\n",
       "      <td>1</td>\n",
       "      <td>1000_1</td>\n",
       "      <td>1052.81</td>\n",
       "      <td>2018-09-07</td>\n",
       "      <td>1000</td>\n",
       "    </tr>\n",
       "    <tr>\n",
       "      <th>2</th>\n",
       "      <td>2</td>\n",
       "      <td>1000_2</td>\n",
       "      <td>1197.26</td>\n",
       "      <td>2018-06-25</td>\n",
       "      <td>1000</td>\n",
       "    </tr>\n",
       "    <tr>\n",
       "      <th>3</th>\n",
       "      <td>3</td>\n",
       "      <td>1000_3</td>\n",
       "      <td>550.27</td>\n",
       "      <td>2018-08-22</td>\n",
       "      <td>1000</td>\n",
       "    </tr>\n",
       "    <tr>\n",
       "      <th>4</th>\n",
       "      <td>4</td>\n",
       "      <td>1000_4</td>\n",
       "      <td>302.56</td>\n",
       "      <td>2018-09-24</td>\n",
       "      <td>1000</td>\n",
       "    </tr>\n",
       "  </tbody>\n",
       "</table>\n",
       "</div>"
      ],
      "text/plain": [
       "   Unnamed: 0      id  mb_used session_date  user_id\n",
       "0           0  1000_0   112.95   2018-11-25     1000\n",
       "1           1  1000_1  1052.81   2018-09-07     1000\n",
       "2           2  1000_2  1197.26   2018-06-25     1000\n",
       "3           3  1000_3   550.27   2018-08-22     1000\n",
       "4           4  1000_4   302.56   2018-09-24     1000"
      ]
     },
     "metadata": {},
     "output_type": "display_data"
    },
    {
     "name": "stdout",
     "output_type": "stream",
     "text": [
      "\n",
      "\u001b[1mСводная информация о таблице: Интернет\u001b[0m\n",
      "\n",
      "<class 'pandas.core.frame.DataFrame'>\n",
      "RangeIndex: 149396 entries, 0 to 149395\n",
      "Data columns (total 5 columns):\n",
      " #   Column        Non-Null Count   Dtype  \n",
      "---  ------        --------------   -----  \n",
      " 0   Unnamed: 0    149396 non-null  int64  \n",
      " 1   id            149396 non-null  object \n",
      " 2   mb_used       149396 non-null  float64\n",
      " 3   session_date  149396 non-null  object \n",
      " 4   user_id       149396 non-null  int64  \n",
      "dtypes: float64(1), int64(2), object(2)\n",
      "memory usage: 5.7+ MB\n",
      "\n",
      "\u001b[1mОписательная статистика таблицы: Интернет\u001b[0m\n"
     ]
    },
    {
     "data": {
      "text/html": [
       "<div>\n",
       "<style scoped>\n",
       "    .dataframe tbody tr th:only-of-type {\n",
       "        vertical-align: middle;\n",
       "    }\n",
       "\n",
       "    .dataframe tbody tr th {\n",
       "        vertical-align: top;\n",
       "    }\n",
       "\n",
       "    .dataframe thead th {\n",
       "        text-align: right;\n",
       "    }\n",
       "</style>\n",
       "<table border=\"1\" class=\"dataframe\">\n",
       "  <thead>\n",
       "    <tr style=\"text-align: right;\">\n",
       "      <th></th>\n",
       "      <th>Unnamed: 0</th>\n",
       "      <th>mb_used</th>\n",
       "      <th>user_id</th>\n",
       "    </tr>\n",
       "  </thead>\n",
       "  <tbody>\n",
       "    <tr>\n",
       "      <th>count</th>\n",
       "      <td>149396.000000</td>\n",
       "      <td>149396.000000</td>\n",
       "      <td>149396.000000</td>\n",
       "    </tr>\n",
       "    <tr>\n",
       "      <th>mean</th>\n",
       "      <td>74697.500000</td>\n",
       "      <td>370.192426</td>\n",
       "      <td>1252.099842</td>\n",
       "    </tr>\n",
       "    <tr>\n",
       "      <th>std</th>\n",
       "      <td>43127.054745</td>\n",
       "      <td>278.300951</td>\n",
       "      <td>144.050823</td>\n",
       "    </tr>\n",
       "    <tr>\n",
       "      <th>min</th>\n",
       "      <td>0.000000</td>\n",
       "      <td>0.000000</td>\n",
       "      <td>1000.000000</td>\n",
       "    </tr>\n",
       "    <tr>\n",
       "      <th>25%</th>\n",
       "      <td>37348.750000</td>\n",
       "      <td>138.187500</td>\n",
       "      <td>1130.000000</td>\n",
       "    </tr>\n",
       "    <tr>\n",
       "      <th>50%</th>\n",
       "      <td>74697.500000</td>\n",
       "      <td>348.015000</td>\n",
       "      <td>1251.000000</td>\n",
       "    </tr>\n",
       "    <tr>\n",
       "      <th>75%</th>\n",
       "      <td>112046.250000</td>\n",
       "      <td>559.552500</td>\n",
       "      <td>1380.000000</td>\n",
       "    </tr>\n",
       "    <tr>\n",
       "      <th>max</th>\n",
       "      <td>149395.000000</td>\n",
       "      <td>1724.830000</td>\n",
       "      <td>1499.000000</td>\n",
       "    </tr>\n",
       "  </tbody>\n",
       "</table>\n",
       "</div>"
      ],
      "text/plain": [
       "          Unnamed: 0        mb_used        user_id\n",
       "count  149396.000000  149396.000000  149396.000000\n",
       "mean    74697.500000     370.192426    1252.099842\n",
       "std     43127.054745     278.300951     144.050823\n",
       "min         0.000000       0.000000    1000.000000\n",
       "25%     37348.750000     138.187500    1130.000000\n",
       "50%     74697.500000     348.015000    1251.000000\n",
       "75%    112046.250000     559.552500    1380.000000\n",
       "max    149395.000000    1724.830000    1499.000000"
      ]
     },
     "metadata": {},
     "output_type": "display_data"
    },
    {
     "name": "stdout",
     "output_type": "stream",
     "text": [
      "\n",
      "\u001b[1mОписательная статистика таблицы: Интернет\u001b[0m\n"
     ]
    },
    {
     "data": {
      "text/html": [
       "<div>\n",
       "<style scoped>\n",
       "    .dataframe tbody tr th:only-of-type {\n",
       "        vertical-align: middle;\n",
       "    }\n",
       "\n",
       "    .dataframe tbody tr th {\n",
       "        vertical-align: top;\n",
       "    }\n",
       "\n",
       "    .dataframe thead th {\n",
       "        text-align: right;\n",
       "    }\n",
       "</style>\n",
       "<table border=\"1\" class=\"dataframe\">\n",
       "  <thead>\n",
       "    <tr style=\"text-align: right;\">\n",
       "      <th></th>\n",
       "      <th>id</th>\n",
       "      <th>session_date</th>\n",
       "    </tr>\n",
       "  </thead>\n",
       "  <tbody>\n",
       "    <tr>\n",
       "      <th>count</th>\n",
       "      <td>149396</td>\n",
       "      <td>149396</td>\n",
       "    </tr>\n",
       "    <tr>\n",
       "      <th>unique</th>\n",
       "      <td>149396</td>\n",
       "      <td>365</td>\n",
       "    </tr>\n",
       "    <tr>\n",
       "      <th>top</th>\n",
       "      <td>1262_381</td>\n",
       "      <td>2018-12-31</td>\n",
       "    </tr>\n",
       "    <tr>\n",
       "      <th>freq</th>\n",
       "      <td>1</td>\n",
       "      <td>1057</td>\n",
       "    </tr>\n",
       "  </tbody>\n",
       "</table>\n",
       "</div>"
      ],
      "text/plain": [
       "              id session_date\n",
       "count     149396       149396\n",
       "unique    149396          365\n",
       "top     1262_381   2018-12-31\n",
       "freq           1         1057"
      ]
     },
     "metadata": {},
     "output_type": "display_data"
    },
    {
     "name": "stdout",
     "output_type": "stream",
     "text": [
      "\n",
      "\u001b[1mПропуски в таблице: Интернет\u001b[0m\n"
     ]
    },
    {
     "data": {
      "text/html": [
       "<div>\n",
       "<style scoped>\n",
       "    .dataframe tbody tr th:only-of-type {\n",
       "        vertical-align: middle;\n",
       "    }\n",
       "\n",
       "    .dataframe tbody tr th {\n",
       "        vertical-align: top;\n",
       "    }\n",
       "\n",
       "    .dataframe thead th {\n",
       "        text-align: right;\n",
       "    }\n",
       "</style>\n",
       "<table border=\"1\" class=\"dataframe\">\n",
       "  <thead>\n",
       "    <tr style=\"text-align: right;\">\n",
       "      <th></th>\n",
       "      <th>missing_values</th>\n",
       "      <th>% of total</th>\n",
       "    </tr>\n",
       "  </thead>\n",
       "  <tbody>\n",
       "    <tr>\n",
       "      <th>Unnamed: 0</th>\n",
       "      <td>0</td>\n",
       "      <td>0.0</td>\n",
       "    </tr>\n",
       "    <tr>\n",
       "      <th>id</th>\n",
       "      <td>0</td>\n",
       "      <td>0.0</td>\n",
       "    </tr>\n",
       "    <tr>\n",
       "      <th>mb_used</th>\n",
       "      <td>0</td>\n",
       "      <td>0.0</td>\n",
       "    </tr>\n",
       "    <tr>\n",
       "      <th>session_date</th>\n",
       "      <td>0</td>\n",
       "      <td>0.0</td>\n",
       "    </tr>\n",
       "    <tr>\n",
       "      <th>user_id</th>\n",
       "      <td>0</td>\n",
       "      <td>0.0</td>\n",
       "    </tr>\n",
       "  </tbody>\n",
       "</table>\n",
       "</div>"
      ],
      "text/plain": [
       "              missing_values  % of total\n",
       "Unnamed: 0                 0         0.0\n",
       "id                         0         0.0\n",
       "mb_used                    0         0.0\n",
       "session_date               0         0.0\n",
       "user_id                    0         0.0"
      ]
     },
     "metadata": {},
     "output_type": "display_data"
    },
    {
     "name": "stdout",
     "output_type": "stream",
     "text": [
      "\n",
      "\u001b[1mДубликатов в таблице Интернет\u001b[0m: 0\n",
      "\n",
      "\u001b[1mПервые 5 строк таблицы: Сообщения\u001b[0m\n"
     ]
    },
    {
     "data": {
      "text/html": [
       "<div>\n",
       "<style scoped>\n",
       "    .dataframe tbody tr th:only-of-type {\n",
       "        vertical-align: middle;\n",
       "    }\n",
       "\n",
       "    .dataframe tbody tr th {\n",
       "        vertical-align: top;\n",
       "    }\n",
       "\n",
       "    .dataframe thead th {\n",
       "        text-align: right;\n",
       "    }\n",
       "</style>\n",
       "<table border=\"1\" class=\"dataframe\">\n",
       "  <thead>\n",
       "    <tr style=\"text-align: right;\">\n",
       "      <th></th>\n",
       "      <th>id</th>\n",
       "      <th>message_date</th>\n",
       "      <th>user_id</th>\n",
       "    </tr>\n",
       "  </thead>\n",
       "  <tbody>\n",
       "    <tr>\n",
       "      <th>0</th>\n",
       "      <td>1000_0</td>\n",
       "      <td>2018-06-27</td>\n",
       "      <td>1000</td>\n",
       "    </tr>\n",
       "    <tr>\n",
       "      <th>1</th>\n",
       "      <td>1000_1</td>\n",
       "      <td>2018-10-08</td>\n",
       "      <td>1000</td>\n",
       "    </tr>\n",
       "    <tr>\n",
       "      <th>2</th>\n",
       "      <td>1000_2</td>\n",
       "      <td>2018-08-04</td>\n",
       "      <td>1000</td>\n",
       "    </tr>\n",
       "    <tr>\n",
       "      <th>3</th>\n",
       "      <td>1000_3</td>\n",
       "      <td>2018-06-16</td>\n",
       "      <td>1000</td>\n",
       "    </tr>\n",
       "    <tr>\n",
       "      <th>4</th>\n",
       "      <td>1000_4</td>\n",
       "      <td>2018-12-05</td>\n",
       "      <td>1000</td>\n",
       "    </tr>\n",
       "  </tbody>\n",
       "</table>\n",
       "</div>"
      ],
      "text/plain": [
       "       id message_date  user_id\n",
       "0  1000_0   2018-06-27     1000\n",
       "1  1000_1   2018-10-08     1000\n",
       "2  1000_2   2018-08-04     1000\n",
       "3  1000_3   2018-06-16     1000\n",
       "4  1000_4   2018-12-05     1000"
      ]
     },
     "metadata": {},
     "output_type": "display_data"
    },
    {
     "name": "stdout",
     "output_type": "stream",
     "text": [
      "\n",
      "\u001b[1mСводная информация о таблице: Сообщения\u001b[0m\n",
      "\n",
      "<class 'pandas.core.frame.DataFrame'>\n",
      "RangeIndex: 123036 entries, 0 to 123035\n",
      "Data columns (total 3 columns):\n",
      " #   Column        Non-Null Count   Dtype \n",
      "---  ------        --------------   ----- \n",
      " 0   id            123036 non-null  object\n",
      " 1   message_date  123036 non-null  object\n",
      " 2   user_id       123036 non-null  int64 \n",
      "dtypes: int64(1), object(2)\n",
      "memory usage: 2.8+ MB\n",
      "\n",
      "\u001b[1mОписательная статистика таблицы: Сообщения\u001b[0m\n"
     ]
    },
    {
     "data": {
      "text/html": [
       "<div>\n",
       "<style scoped>\n",
       "    .dataframe tbody tr th:only-of-type {\n",
       "        vertical-align: middle;\n",
       "    }\n",
       "\n",
       "    .dataframe tbody tr th {\n",
       "        vertical-align: top;\n",
       "    }\n",
       "\n",
       "    .dataframe thead th {\n",
       "        text-align: right;\n",
       "    }\n",
       "</style>\n",
       "<table border=\"1\" class=\"dataframe\">\n",
       "  <thead>\n",
       "    <tr style=\"text-align: right;\">\n",
       "      <th></th>\n",
       "      <th>user_id</th>\n",
       "    </tr>\n",
       "  </thead>\n",
       "  <tbody>\n",
       "    <tr>\n",
       "      <th>count</th>\n",
       "      <td>123036.000000</td>\n",
       "    </tr>\n",
       "    <tr>\n",
       "      <th>mean</th>\n",
       "      <td>1256.989410</td>\n",
       "    </tr>\n",
       "    <tr>\n",
       "      <th>std</th>\n",
       "      <td>143.523967</td>\n",
       "    </tr>\n",
       "    <tr>\n",
       "      <th>min</th>\n",
       "      <td>1000.000000</td>\n",
       "    </tr>\n",
       "    <tr>\n",
       "      <th>25%</th>\n",
       "      <td>1134.000000</td>\n",
       "    </tr>\n",
       "    <tr>\n",
       "      <th>50%</th>\n",
       "      <td>1271.000000</td>\n",
       "    </tr>\n",
       "    <tr>\n",
       "      <th>75%</th>\n",
       "      <td>1381.000000</td>\n",
       "    </tr>\n",
       "    <tr>\n",
       "      <th>max</th>\n",
       "      <td>1499.000000</td>\n",
       "    </tr>\n",
       "  </tbody>\n",
       "</table>\n",
       "</div>"
      ],
      "text/plain": [
       "             user_id\n",
       "count  123036.000000\n",
       "mean     1256.989410\n",
       "std       143.523967\n",
       "min      1000.000000\n",
       "25%      1134.000000\n",
       "50%      1271.000000\n",
       "75%      1381.000000\n",
       "max      1499.000000"
      ]
     },
     "metadata": {},
     "output_type": "display_data"
    },
    {
     "name": "stdout",
     "output_type": "stream",
     "text": [
      "\n",
      "\u001b[1mОписательная статистика таблицы: Сообщения\u001b[0m\n"
     ]
    },
    {
     "data": {
      "text/html": [
       "<div>\n",
       "<style scoped>\n",
       "    .dataframe tbody tr th:only-of-type {\n",
       "        vertical-align: middle;\n",
       "    }\n",
       "\n",
       "    .dataframe tbody tr th {\n",
       "        vertical-align: top;\n",
       "    }\n",
       "\n",
       "    .dataframe thead th {\n",
       "        text-align: right;\n",
       "    }\n",
       "</style>\n",
       "<table border=\"1\" class=\"dataframe\">\n",
       "  <thead>\n",
       "    <tr style=\"text-align: right;\">\n",
       "      <th></th>\n",
       "      <th>id</th>\n",
       "      <th>message_date</th>\n",
       "    </tr>\n",
       "  </thead>\n",
       "  <tbody>\n",
       "    <tr>\n",
       "      <th>count</th>\n",
       "      <td>123036</td>\n",
       "      <td>123036</td>\n",
       "    </tr>\n",
       "    <tr>\n",
       "      <th>unique</th>\n",
       "      <td>123036</td>\n",
       "      <td>364</td>\n",
       "    </tr>\n",
       "    <tr>\n",
       "      <th>top</th>\n",
       "      <td>1468_26</td>\n",
       "      <td>2018-12-31</td>\n",
       "    </tr>\n",
       "    <tr>\n",
       "      <th>freq</th>\n",
       "      <td>1</td>\n",
       "      <td>859</td>\n",
       "    </tr>\n",
       "  </tbody>\n",
       "</table>\n",
       "</div>"
      ],
      "text/plain": [
       "             id message_date\n",
       "count    123036       123036\n",
       "unique   123036          364\n",
       "top     1468_26   2018-12-31\n",
       "freq          1          859"
      ]
     },
     "metadata": {},
     "output_type": "display_data"
    },
    {
     "name": "stdout",
     "output_type": "stream",
     "text": [
      "\n",
      "\u001b[1mПропуски в таблице: Сообщения\u001b[0m\n"
     ]
    },
    {
     "data": {
      "text/html": [
       "<div>\n",
       "<style scoped>\n",
       "    .dataframe tbody tr th:only-of-type {\n",
       "        vertical-align: middle;\n",
       "    }\n",
       "\n",
       "    .dataframe tbody tr th {\n",
       "        vertical-align: top;\n",
       "    }\n",
       "\n",
       "    .dataframe thead th {\n",
       "        text-align: right;\n",
       "    }\n",
       "</style>\n",
       "<table border=\"1\" class=\"dataframe\">\n",
       "  <thead>\n",
       "    <tr style=\"text-align: right;\">\n",
       "      <th></th>\n",
       "      <th>missing_values</th>\n",
       "      <th>% of total</th>\n",
       "    </tr>\n",
       "  </thead>\n",
       "  <tbody>\n",
       "    <tr>\n",
       "      <th>id</th>\n",
       "      <td>0</td>\n",
       "      <td>0.0</td>\n",
       "    </tr>\n",
       "    <tr>\n",
       "      <th>message_date</th>\n",
       "      <td>0</td>\n",
       "      <td>0.0</td>\n",
       "    </tr>\n",
       "    <tr>\n",
       "      <th>user_id</th>\n",
       "      <td>0</td>\n",
       "      <td>0.0</td>\n",
       "    </tr>\n",
       "  </tbody>\n",
       "</table>\n",
       "</div>"
      ],
      "text/plain": [
       "              missing_values  % of total\n",
       "id                         0         0.0\n",
       "message_date               0         0.0\n",
       "user_id                    0         0.0"
      ]
     },
     "metadata": {},
     "output_type": "display_data"
    },
    {
     "name": "stdout",
     "output_type": "stream",
     "text": [
      "\n",
      "\u001b[1mДубликатов в таблице Сообщения\u001b[0m: 0\n",
      "\n",
      "\u001b[1mПервые 5 строк таблицы: Тарифы\u001b[0m\n"
     ]
    },
    {
     "data": {
      "text/html": [
       "<div>\n",
       "<style scoped>\n",
       "    .dataframe tbody tr th:only-of-type {\n",
       "        vertical-align: middle;\n",
       "    }\n",
       "\n",
       "    .dataframe tbody tr th {\n",
       "        vertical-align: top;\n",
       "    }\n",
       "\n",
       "    .dataframe thead th {\n",
       "        text-align: right;\n",
       "    }\n",
       "</style>\n",
       "<table border=\"1\" class=\"dataframe\">\n",
       "  <thead>\n",
       "    <tr style=\"text-align: right;\">\n",
       "      <th></th>\n",
       "      <th>messages_included</th>\n",
       "      <th>mb_per_month_included</th>\n",
       "      <th>minutes_included</th>\n",
       "      <th>rub_monthly_fee</th>\n",
       "      <th>rub_per_gb</th>\n",
       "      <th>rub_per_message</th>\n",
       "      <th>rub_per_minute</th>\n",
       "      <th>tariff_name</th>\n",
       "    </tr>\n",
       "  </thead>\n",
       "  <tbody>\n",
       "    <tr>\n",
       "      <th>0</th>\n",
       "      <td>50</td>\n",
       "      <td>15360</td>\n",
       "      <td>500</td>\n",
       "      <td>550</td>\n",
       "      <td>200</td>\n",
       "      <td>3</td>\n",
       "      <td>3</td>\n",
       "      <td>smart</td>\n",
       "    </tr>\n",
       "    <tr>\n",
       "      <th>1</th>\n",
       "      <td>1000</td>\n",
       "      <td>30720</td>\n",
       "      <td>3000</td>\n",
       "      <td>1950</td>\n",
       "      <td>150</td>\n",
       "      <td>1</td>\n",
       "      <td>1</td>\n",
       "      <td>ultra</td>\n",
       "    </tr>\n",
       "  </tbody>\n",
       "</table>\n",
       "</div>"
      ],
      "text/plain": [
       "   messages_included  mb_per_month_included  minutes_included  \\\n",
       "0                 50                  15360               500   \n",
       "1               1000                  30720              3000   \n",
       "\n",
       "   rub_monthly_fee  rub_per_gb  rub_per_message  rub_per_minute tariff_name  \n",
       "0              550         200                3               3       smart  \n",
       "1             1950         150                1               1       ultra  "
      ]
     },
     "metadata": {},
     "output_type": "display_data"
    },
    {
     "name": "stdout",
     "output_type": "stream",
     "text": [
      "\n",
      "\u001b[1mСводная информация о таблице: Тарифы\u001b[0m\n",
      "\n",
      "<class 'pandas.core.frame.DataFrame'>\n",
      "RangeIndex: 2 entries, 0 to 1\n",
      "Data columns (total 8 columns):\n",
      " #   Column                 Non-Null Count  Dtype \n",
      "---  ------                 --------------  ----- \n",
      " 0   messages_included      2 non-null      int64 \n",
      " 1   mb_per_month_included  2 non-null      int64 \n",
      " 2   minutes_included       2 non-null      int64 \n",
      " 3   rub_monthly_fee        2 non-null      int64 \n",
      " 4   rub_per_gb             2 non-null      int64 \n",
      " 5   rub_per_message        2 non-null      int64 \n",
      " 6   rub_per_minute         2 non-null      int64 \n",
      " 7   tariff_name            2 non-null      object\n",
      "dtypes: int64(7), object(1)\n",
      "memory usage: 256.0+ bytes\n",
      "\n",
      "\u001b[1mОписательная статистика таблицы: Тарифы\u001b[0m\n"
     ]
    },
    {
     "data": {
      "text/html": [
       "<div>\n",
       "<style scoped>\n",
       "    .dataframe tbody tr th:only-of-type {\n",
       "        vertical-align: middle;\n",
       "    }\n",
       "\n",
       "    .dataframe tbody tr th {\n",
       "        vertical-align: top;\n",
       "    }\n",
       "\n",
       "    .dataframe thead th {\n",
       "        text-align: right;\n",
       "    }\n",
       "</style>\n",
       "<table border=\"1\" class=\"dataframe\">\n",
       "  <thead>\n",
       "    <tr style=\"text-align: right;\">\n",
       "      <th></th>\n",
       "      <th>messages_included</th>\n",
       "      <th>mb_per_month_included</th>\n",
       "      <th>minutes_included</th>\n",
       "      <th>rub_monthly_fee</th>\n",
       "      <th>rub_per_gb</th>\n",
       "      <th>rub_per_message</th>\n",
       "      <th>rub_per_minute</th>\n",
       "    </tr>\n",
       "  </thead>\n",
       "  <tbody>\n",
       "    <tr>\n",
       "      <th>count</th>\n",
       "      <td>2.000000</td>\n",
       "      <td>2.000000</td>\n",
       "      <td>2.000000</td>\n",
       "      <td>2.000000</td>\n",
       "      <td>2.000000</td>\n",
       "      <td>2.000000</td>\n",
       "      <td>2.000000</td>\n",
       "    </tr>\n",
       "    <tr>\n",
       "      <th>mean</th>\n",
       "      <td>525.000000</td>\n",
       "      <td>23040.000000</td>\n",
       "      <td>1750.000000</td>\n",
       "      <td>1250.000000</td>\n",
       "      <td>175.000000</td>\n",
       "      <td>2.000000</td>\n",
       "      <td>2.000000</td>\n",
       "    </tr>\n",
       "    <tr>\n",
       "      <th>std</th>\n",
       "      <td>671.751442</td>\n",
       "      <td>10861.160159</td>\n",
       "      <td>1767.766953</td>\n",
       "      <td>989.949494</td>\n",
       "      <td>35.355339</td>\n",
       "      <td>1.414214</td>\n",
       "      <td>1.414214</td>\n",
       "    </tr>\n",
       "    <tr>\n",
       "      <th>min</th>\n",
       "      <td>50.000000</td>\n",
       "      <td>15360.000000</td>\n",
       "      <td>500.000000</td>\n",
       "      <td>550.000000</td>\n",
       "      <td>150.000000</td>\n",
       "      <td>1.000000</td>\n",
       "      <td>1.000000</td>\n",
       "    </tr>\n",
       "    <tr>\n",
       "      <th>25%</th>\n",
       "      <td>287.500000</td>\n",
       "      <td>19200.000000</td>\n",
       "      <td>1125.000000</td>\n",
       "      <td>900.000000</td>\n",
       "      <td>162.500000</td>\n",
       "      <td>1.500000</td>\n",
       "      <td>1.500000</td>\n",
       "    </tr>\n",
       "    <tr>\n",
       "      <th>50%</th>\n",
       "      <td>525.000000</td>\n",
       "      <td>23040.000000</td>\n",
       "      <td>1750.000000</td>\n",
       "      <td>1250.000000</td>\n",
       "      <td>175.000000</td>\n",
       "      <td>2.000000</td>\n",
       "      <td>2.000000</td>\n",
       "    </tr>\n",
       "    <tr>\n",
       "      <th>75%</th>\n",
       "      <td>762.500000</td>\n",
       "      <td>26880.000000</td>\n",
       "      <td>2375.000000</td>\n",
       "      <td>1600.000000</td>\n",
       "      <td>187.500000</td>\n",
       "      <td>2.500000</td>\n",
       "      <td>2.500000</td>\n",
       "    </tr>\n",
       "    <tr>\n",
       "      <th>max</th>\n",
       "      <td>1000.000000</td>\n",
       "      <td>30720.000000</td>\n",
       "      <td>3000.000000</td>\n",
       "      <td>1950.000000</td>\n",
       "      <td>200.000000</td>\n",
       "      <td>3.000000</td>\n",
       "      <td>3.000000</td>\n",
       "    </tr>\n",
       "  </tbody>\n",
       "</table>\n",
       "</div>"
      ],
      "text/plain": [
       "       messages_included  mb_per_month_included  minutes_included  \\\n",
       "count           2.000000               2.000000          2.000000   \n",
       "mean          525.000000           23040.000000       1750.000000   \n",
       "std           671.751442           10861.160159       1767.766953   \n",
       "min            50.000000           15360.000000        500.000000   \n",
       "25%           287.500000           19200.000000       1125.000000   \n",
       "50%           525.000000           23040.000000       1750.000000   \n",
       "75%           762.500000           26880.000000       2375.000000   \n",
       "max          1000.000000           30720.000000       3000.000000   \n",
       "\n",
       "       rub_monthly_fee  rub_per_gb  rub_per_message  rub_per_minute  \n",
       "count         2.000000    2.000000         2.000000        2.000000  \n",
       "mean       1250.000000  175.000000         2.000000        2.000000  \n",
       "std         989.949494   35.355339         1.414214        1.414214  \n",
       "min         550.000000  150.000000         1.000000        1.000000  \n",
       "25%         900.000000  162.500000         1.500000        1.500000  \n",
       "50%        1250.000000  175.000000         2.000000        2.000000  \n",
       "75%        1600.000000  187.500000         2.500000        2.500000  \n",
       "max        1950.000000  200.000000         3.000000        3.000000  "
      ]
     },
     "metadata": {},
     "output_type": "display_data"
    },
    {
     "name": "stdout",
     "output_type": "stream",
     "text": [
      "\n",
      "\u001b[1mОписательная статистика таблицы: Тарифы\u001b[0m\n"
     ]
    },
    {
     "data": {
      "text/html": [
       "<div>\n",
       "<style scoped>\n",
       "    .dataframe tbody tr th:only-of-type {\n",
       "        vertical-align: middle;\n",
       "    }\n",
       "\n",
       "    .dataframe tbody tr th {\n",
       "        vertical-align: top;\n",
       "    }\n",
       "\n",
       "    .dataframe thead th {\n",
       "        text-align: right;\n",
       "    }\n",
       "</style>\n",
       "<table border=\"1\" class=\"dataframe\">\n",
       "  <thead>\n",
       "    <tr style=\"text-align: right;\">\n",
       "      <th></th>\n",
       "      <th>tariff_name</th>\n",
       "    </tr>\n",
       "  </thead>\n",
       "  <tbody>\n",
       "    <tr>\n",
       "      <th>count</th>\n",
       "      <td>2</td>\n",
       "    </tr>\n",
       "    <tr>\n",
       "      <th>unique</th>\n",
       "      <td>2</td>\n",
       "    </tr>\n",
       "    <tr>\n",
       "      <th>top</th>\n",
       "      <td>ultra</td>\n",
       "    </tr>\n",
       "    <tr>\n",
       "      <th>freq</th>\n",
       "      <td>1</td>\n",
       "    </tr>\n",
       "  </tbody>\n",
       "</table>\n",
       "</div>"
      ],
      "text/plain": [
       "       tariff_name\n",
       "count            2\n",
       "unique           2\n",
       "top          ultra\n",
       "freq             1"
      ]
     },
     "metadata": {},
     "output_type": "display_data"
    },
    {
     "name": "stdout",
     "output_type": "stream",
     "text": [
      "\n",
      "\u001b[1mПропуски в таблице: Тарифы\u001b[0m\n"
     ]
    },
    {
     "data": {
      "text/html": [
       "<div>\n",
       "<style scoped>\n",
       "    .dataframe tbody tr th:only-of-type {\n",
       "        vertical-align: middle;\n",
       "    }\n",
       "\n",
       "    .dataframe tbody tr th {\n",
       "        vertical-align: top;\n",
       "    }\n",
       "\n",
       "    .dataframe thead th {\n",
       "        text-align: right;\n",
       "    }\n",
       "</style>\n",
       "<table border=\"1\" class=\"dataframe\">\n",
       "  <thead>\n",
       "    <tr style=\"text-align: right;\">\n",
       "      <th></th>\n",
       "      <th>missing_values</th>\n",
       "      <th>% of total</th>\n",
       "    </tr>\n",
       "  </thead>\n",
       "  <tbody>\n",
       "    <tr>\n",
       "      <th>messages_included</th>\n",
       "      <td>0</td>\n",
       "      <td>0.0</td>\n",
       "    </tr>\n",
       "    <tr>\n",
       "      <th>mb_per_month_included</th>\n",
       "      <td>0</td>\n",
       "      <td>0.0</td>\n",
       "    </tr>\n",
       "    <tr>\n",
       "      <th>minutes_included</th>\n",
       "      <td>0</td>\n",
       "      <td>0.0</td>\n",
       "    </tr>\n",
       "    <tr>\n",
       "      <th>rub_monthly_fee</th>\n",
       "      <td>0</td>\n",
       "      <td>0.0</td>\n",
       "    </tr>\n",
       "    <tr>\n",
       "      <th>rub_per_gb</th>\n",
       "      <td>0</td>\n",
       "      <td>0.0</td>\n",
       "    </tr>\n",
       "    <tr>\n",
       "      <th>rub_per_message</th>\n",
       "      <td>0</td>\n",
       "      <td>0.0</td>\n",
       "    </tr>\n",
       "    <tr>\n",
       "      <th>rub_per_minute</th>\n",
       "      <td>0</td>\n",
       "      <td>0.0</td>\n",
       "    </tr>\n",
       "    <tr>\n",
       "      <th>tariff_name</th>\n",
       "      <td>0</td>\n",
       "      <td>0.0</td>\n",
       "    </tr>\n",
       "  </tbody>\n",
       "</table>\n",
       "</div>"
      ],
      "text/plain": [
       "                       missing_values  % of total\n",
       "messages_included                   0         0.0\n",
       "mb_per_month_included               0         0.0\n",
       "minutes_included                    0         0.0\n",
       "rub_monthly_fee                     0         0.0\n",
       "rub_per_gb                          0         0.0\n",
       "rub_per_message                     0         0.0\n",
       "rub_per_minute                      0         0.0\n",
       "tariff_name                         0         0.0"
      ]
     },
     "metadata": {},
     "output_type": "display_data"
    },
    {
     "name": "stdout",
     "output_type": "stream",
     "text": [
      "\n",
      "\u001b[1mДубликатов в таблице Тарифы\u001b[0m: 0\n",
      "\n",
      "\u001b[1mПервые 5 строк таблицы: Пользователи\u001b[0m\n"
     ]
    },
    {
     "data": {
      "text/html": [
       "<div>\n",
       "<style scoped>\n",
       "    .dataframe tbody tr th:only-of-type {\n",
       "        vertical-align: middle;\n",
       "    }\n",
       "\n",
       "    .dataframe tbody tr th {\n",
       "        vertical-align: top;\n",
       "    }\n",
       "\n",
       "    .dataframe thead th {\n",
       "        text-align: right;\n",
       "    }\n",
       "</style>\n",
       "<table border=\"1\" class=\"dataframe\">\n",
       "  <thead>\n",
       "    <tr style=\"text-align: right;\">\n",
       "      <th></th>\n",
       "      <th>user_id</th>\n",
       "      <th>age</th>\n",
       "      <th>churn_date</th>\n",
       "      <th>city</th>\n",
       "      <th>first_name</th>\n",
       "      <th>last_name</th>\n",
       "      <th>reg_date</th>\n",
       "      <th>tariff</th>\n",
       "    </tr>\n",
       "  </thead>\n",
       "  <tbody>\n",
       "    <tr>\n",
       "      <th>0</th>\n",
       "      <td>1000</td>\n",
       "      <td>52</td>\n",
       "      <td>NaN</td>\n",
       "      <td>Краснодар</td>\n",
       "      <td>Рафаил</td>\n",
       "      <td>Верещагин</td>\n",
       "      <td>2018-05-25</td>\n",
       "      <td>ultra</td>\n",
       "    </tr>\n",
       "    <tr>\n",
       "      <th>1</th>\n",
       "      <td>1001</td>\n",
       "      <td>41</td>\n",
       "      <td>NaN</td>\n",
       "      <td>Москва</td>\n",
       "      <td>Иван</td>\n",
       "      <td>Ежов</td>\n",
       "      <td>2018-11-01</td>\n",
       "      <td>smart</td>\n",
       "    </tr>\n",
       "    <tr>\n",
       "      <th>2</th>\n",
       "      <td>1002</td>\n",
       "      <td>59</td>\n",
       "      <td>NaN</td>\n",
       "      <td>Стерлитамак</td>\n",
       "      <td>Евгений</td>\n",
       "      <td>Абрамович</td>\n",
       "      <td>2018-06-17</td>\n",
       "      <td>smart</td>\n",
       "    </tr>\n",
       "    <tr>\n",
       "      <th>3</th>\n",
       "      <td>1003</td>\n",
       "      <td>23</td>\n",
       "      <td>NaN</td>\n",
       "      <td>Москва</td>\n",
       "      <td>Белла</td>\n",
       "      <td>Белякова</td>\n",
       "      <td>2018-08-17</td>\n",
       "      <td>ultra</td>\n",
       "    </tr>\n",
       "    <tr>\n",
       "      <th>4</th>\n",
       "      <td>1004</td>\n",
       "      <td>68</td>\n",
       "      <td>NaN</td>\n",
       "      <td>Новокузнецк</td>\n",
       "      <td>Татьяна</td>\n",
       "      <td>Авдеенко</td>\n",
       "      <td>2018-05-14</td>\n",
       "      <td>ultra</td>\n",
       "    </tr>\n",
       "  </tbody>\n",
       "</table>\n",
       "</div>"
      ],
      "text/plain": [
       "   user_id  age churn_date         city first_name  last_name    reg_date  \\\n",
       "0     1000   52        NaN    Краснодар     Рафаил  Верещагин  2018-05-25   \n",
       "1     1001   41        NaN       Москва       Иван       Ежов  2018-11-01   \n",
       "2     1002   59        NaN  Стерлитамак    Евгений  Абрамович  2018-06-17   \n",
       "3     1003   23        NaN       Москва      Белла   Белякова  2018-08-17   \n",
       "4     1004   68        NaN  Новокузнецк    Татьяна   Авдеенко  2018-05-14   \n",
       "\n",
       "  tariff  \n",
       "0  ultra  \n",
       "1  smart  \n",
       "2  smart  \n",
       "3  ultra  \n",
       "4  ultra  "
      ]
     },
     "metadata": {},
     "output_type": "display_data"
    },
    {
     "name": "stdout",
     "output_type": "stream",
     "text": [
      "\n",
      "\u001b[1mСводная информация о таблице: Пользователи\u001b[0m\n",
      "\n",
      "<class 'pandas.core.frame.DataFrame'>\n",
      "RangeIndex: 500 entries, 0 to 499\n",
      "Data columns (total 8 columns):\n",
      " #   Column      Non-Null Count  Dtype \n",
      "---  ------      --------------  ----- \n",
      " 0   user_id     500 non-null    int64 \n",
      " 1   age         500 non-null    int64 \n",
      " 2   churn_date  38 non-null     object\n",
      " 3   city        500 non-null    object\n",
      " 4   first_name  500 non-null    object\n",
      " 5   last_name   500 non-null    object\n",
      " 6   reg_date    500 non-null    object\n",
      " 7   tariff      500 non-null    object\n",
      "dtypes: int64(2), object(6)\n",
      "memory usage: 31.4+ KB\n",
      "\n",
      "\u001b[1mОписательная статистика таблицы: Пользователи\u001b[0m\n"
     ]
    },
    {
     "data": {
      "text/html": [
       "<div>\n",
       "<style scoped>\n",
       "    .dataframe tbody tr th:only-of-type {\n",
       "        vertical-align: middle;\n",
       "    }\n",
       "\n",
       "    .dataframe tbody tr th {\n",
       "        vertical-align: top;\n",
       "    }\n",
       "\n",
       "    .dataframe thead th {\n",
       "        text-align: right;\n",
       "    }\n",
       "</style>\n",
       "<table border=\"1\" class=\"dataframe\">\n",
       "  <thead>\n",
       "    <tr style=\"text-align: right;\">\n",
       "      <th></th>\n",
       "      <th>user_id</th>\n",
       "      <th>age</th>\n",
       "    </tr>\n",
       "  </thead>\n",
       "  <tbody>\n",
       "    <tr>\n",
       "      <th>count</th>\n",
       "      <td>500.000000</td>\n",
       "      <td>500.00000</td>\n",
       "    </tr>\n",
       "    <tr>\n",
       "      <th>mean</th>\n",
       "      <td>1249.500000</td>\n",
       "      <td>46.58800</td>\n",
       "    </tr>\n",
       "    <tr>\n",
       "      <th>std</th>\n",
       "      <td>144.481833</td>\n",
       "      <td>16.66763</td>\n",
       "    </tr>\n",
       "    <tr>\n",
       "      <th>min</th>\n",
       "      <td>1000.000000</td>\n",
       "      <td>18.00000</td>\n",
       "    </tr>\n",
       "    <tr>\n",
       "      <th>25%</th>\n",
       "      <td>1124.750000</td>\n",
       "      <td>32.00000</td>\n",
       "    </tr>\n",
       "    <tr>\n",
       "      <th>50%</th>\n",
       "      <td>1249.500000</td>\n",
       "      <td>46.00000</td>\n",
       "    </tr>\n",
       "    <tr>\n",
       "      <th>75%</th>\n",
       "      <td>1374.250000</td>\n",
       "      <td>62.00000</td>\n",
       "    </tr>\n",
       "    <tr>\n",
       "      <th>max</th>\n",
       "      <td>1499.000000</td>\n",
       "      <td>75.00000</td>\n",
       "    </tr>\n",
       "  </tbody>\n",
       "</table>\n",
       "</div>"
      ],
      "text/plain": [
       "           user_id        age\n",
       "count   500.000000  500.00000\n",
       "mean   1249.500000   46.58800\n",
       "std     144.481833   16.66763\n",
       "min    1000.000000   18.00000\n",
       "25%    1124.750000   32.00000\n",
       "50%    1249.500000   46.00000\n",
       "75%    1374.250000   62.00000\n",
       "max    1499.000000   75.00000"
      ]
     },
     "metadata": {},
     "output_type": "display_data"
    },
    {
     "name": "stdout",
     "output_type": "stream",
     "text": [
      "\n",
      "\u001b[1mОписательная статистика таблицы: Пользователи\u001b[0m\n"
     ]
    },
    {
     "data": {
      "text/html": [
       "<div>\n",
       "<style scoped>\n",
       "    .dataframe tbody tr th:only-of-type {\n",
       "        vertical-align: middle;\n",
       "    }\n",
       "\n",
       "    .dataframe tbody tr th {\n",
       "        vertical-align: top;\n",
       "    }\n",
       "\n",
       "    .dataframe thead th {\n",
       "        text-align: right;\n",
       "    }\n",
       "</style>\n",
       "<table border=\"1\" class=\"dataframe\">\n",
       "  <thead>\n",
       "    <tr style=\"text-align: right;\">\n",
       "      <th></th>\n",
       "      <th>churn_date</th>\n",
       "      <th>city</th>\n",
       "      <th>first_name</th>\n",
       "      <th>last_name</th>\n",
       "      <th>reg_date</th>\n",
       "      <th>tariff</th>\n",
       "    </tr>\n",
       "  </thead>\n",
       "  <tbody>\n",
       "    <tr>\n",
       "      <th>count</th>\n",
       "      <td>38</td>\n",
       "      <td>500</td>\n",
       "      <td>500</td>\n",
       "      <td>500</td>\n",
       "      <td>500</td>\n",
       "      <td>500</td>\n",
       "    </tr>\n",
       "    <tr>\n",
       "      <th>unique</th>\n",
       "      <td>33</td>\n",
       "      <td>76</td>\n",
       "      <td>246</td>\n",
       "      <td>419</td>\n",
       "      <td>270</td>\n",
       "      <td>2</td>\n",
       "    </tr>\n",
       "    <tr>\n",
       "      <th>top</th>\n",
       "      <td>2018-10-14</td>\n",
       "      <td>Москва</td>\n",
       "      <td>Радим</td>\n",
       "      <td>Андреенко</td>\n",
       "      <td>2018-05-28</td>\n",
       "      <td>smart</td>\n",
       "    </tr>\n",
       "    <tr>\n",
       "      <th>freq</th>\n",
       "      <td>2</td>\n",
       "      <td>99</td>\n",
       "      <td>6</td>\n",
       "      <td>5</td>\n",
       "      <td>8</td>\n",
       "      <td>351</td>\n",
       "    </tr>\n",
       "  </tbody>\n",
       "</table>\n",
       "</div>"
      ],
      "text/plain": [
       "        churn_date    city first_name  last_name    reg_date tariff\n",
       "count           38     500        500        500         500    500\n",
       "unique          33      76        246        419         270      2\n",
       "top     2018-10-14  Москва      Радим  Андреенко  2018-05-28  smart\n",
       "freq             2      99          6          5           8    351"
      ]
     },
     "metadata": {},
     "output_type": "display_data"
    },
    {
     "name": "stdout",
     "output_type": "stream",
     "text": [
      "\n",
      "\u001b[1mПропуски в таблице: Пользователи\u001b[0m\n"
     ]
    },
    {
     "data": {
      "text/html": [
       "<div>\n",
       "<style scoped>\n",
       "    .dataframe tbody tr th:only-of-type {\n",
       "        vertical-align: middle;\n",
       "    }\n",
       "\n",
       "    .dataframe tbody tr th {\n",
       "        vertical-align: top;\n",
       "    }\n",
       "\n",
       "    .dataframe thead th {\n",
       "        text-align: right;\n",
       "    }\n",
       "</style>\n",
       "<table border=\"1\" class=\"dataframe\">\n",
       "  <thead>\n",
       "    <tr style=\"text-align: right;\">\n",
       "      <th></th>\n",
       "      <th>missing_values</th>\n",
       "      <th>% of total</th>\n",
       "    </tr>\n",
       "  </thead>\n",
       "  <tbody>\n",
       "    <tr>\n",
       "      <th>churn_date</th>\n",
       "      <td>462</td>\n",
       "      <td>92.4</td>\n",
       "    </tr>\n",
       "    <tr>\n",
       "      <th>user_id</th>\n",
       "      <td>0</td>\n",
       "      <td>0.0</td>\n",
       "    </tr>\n",
       "    <tr>\n",
       "      <th>age</th>\n",
       "      <td>0</td>\n",
       "      <td>0.0</td>\n",
       "    </tr>\n",
       "    <tr>\n",
       "      <th>city</th>\n",
       "      <td>0</td>\n",
       "      <td>0.0</td>\n",
       "    </tr>\n",
       "    <tr>\n",
       "      <th>first_name</th>\n",
       "      <td>0</td>\n",
       "      <td>0.0</td>\n",
       "    </tr>\n",
       "    <tr>\n",
       "      <th>last_name</th>\n",
       "      <td>0</td>\n",
       "      <td>0.0</td>\n",
       "    </tr>\n",
       "    <tr>\n",
       "      <th>reg_date</th>\n",
       "      <td>0</td>\n",
       "      <td>0.0</td>\n",
       "    </tr>\n",
       "    <tr>\n",
       "      <th>tariff</th>\n",
       "      <td>0</td>\n",
       "      <td>0.0</td>\n",
       "    </tr>\n",
       "  </tbody>\n",
       "</table>\n",
       "</div>"
      ],
      "text/plain": [
       "            missing_values  % of total\n",
       "churn_date             462        92.4\n",
       "user_id                  0         0.0\n",
       "age                      0         0.0\n",
       "city                     0         0.0\n",
       "first_name               0         0.0\n",
       "last_name                0         0.0\n",
       "reg_date                 0         0.0\n",
       "tariff                   0         0.0"
      ]
     },
     "metadata": {},
     "output_type": "display_data"
    },
    {
     "name": "stdout",
     "output_type": "stream",
     "text": [
      "\n",
      "\u001b[1mДубликатов в таблице Пользователи\u001b[0m: 0\n",
      "\n"
     ]
    }
   ],
   "source": [
    "# получаем информацию по таблицам\n",
    "dict_df = {'Звонки': calls, 'Интернет': internet, 'Сообщения': messages, 'Тарифы': tariffs, 'Пользователи': users} \n",
    "for dfd in dict_df:\n",
    "    get_info(dfd, dict_df[dfd])"
   ]
  },
  {
   "cell_type": "code",
   "execution_count": 5,
   "metadata": {},
   "outputs": [
    {
     "name": "stdout",
     "output_type": "stream",
     "text": [
      "Доля duration = 0 в данных calls: 0.19551644316336553\n",
      "Доля mb_used = 0 в данных internet: 0.13118155773916304\n"
     ]
    }
   ],
   "source": [
    "print('Доля duration = 0 в данных calls:',calls.query('duration == 0')['duration'].count()/len(calls)) # вывод на экран долю 0 в данных\n",
    "print('Доля mb_used = 0 в данных internet:',internet.query('mb_used == 0')['mb_used'].count()/len(internet)) # вывод на экран долю 0 в данных"
   ]
  },
  {
   "cell_type": "markdown",
   "metadata": {},
   "source": [
    "### Вывод"
   ]
  },
  {
   "cell_type": "markdown",
   "metadata": {},
   "source": [
    "При изучении файла выявлены ошибки:\n",
    "\n",
    "- В таблице interne лишний столбец Unnamed: 0, удалим.\n",
    "- В таблицах calls, internet, messages, users столбцы с датой тип object, преобразуем в datetime64.\n",
    "- Доля duration = 0 в данных calls: 0.195 - пропущеные звонки.  \n",
    "- Доля mb_used = 0 в данных internet: 0.131 - возможно попытки подключения к интернету не в зоне покрытия.  \n",
    "- 0 в данных никак не влияют на финансовые показатели, строки с 0 в таблицах calls и internet удалим.\n",
    "\n",
    "Перед анализом нужно предобработать данные."
   ]
  },
  {
   "cell_type": "markdown",
   "metadata": {},
   "source": [
    "## Шаг 2. Предобработка данных"
   ]
  },
  {
   "cell_type": "code",
   "execution_count": 6,
   "metadata": {},
   "outputs": [],
   "source": [
    "calls=calls.query('duration>0') # удаляем строик где duration <= 0"
   ]
  },
  {
   "cell_type": "code",
   "execution_count": 7,
   "metadata": {},
   "outputs": [
    
   ],
   "source": [
    "calls['duration'] = np.ceil(calls['duration']) # округляем в болбшую сторону столбец duration\n",
    "calls['call_date'] = pd.to_datetime(calls['call_date'], format='%Y-%m-%d') # преобразуем столбец call_date в datetime64\n",
    "calls['month'] = calls['call_date'].dt.month_name() # создатём столбец month"
   ]
  },
  {
   "cell_type": "code",
   "execution_count": 8,
   "metadata": {},
   "outputs": [],
   "source": [
    "calls_agg = calls.groupby(['user_id', 'month']).agg({'duration': 'sum'}).reset_index() # группируем calls по user_id и month"
   ]
  },
  {
   "cell_type": "code",
   "execution_count": 9,
   "metadata": {},
   "outputs": [],
   "source": [
    "internet=internet.query('mb_used>0') # удаляем строик где mb_used <= 0 "
   ]
  },
  {
   "cell_type": "code",
   "execution_count": 10,
   "metadata": {},
   "outputs": [],
   "source": [
    "internet = internet.drop(columns = 'Unnamed: 0') # удаляем столбец Unnamed: 0"
   ]
  },
  {
   "cell_type": "code",
   "execution_count": 11,
   "metadata": {},
   "outputs": [],
   "source": [
    "internet['session_date'] = pd.to_datetime(internet['session_date'], format='%Y-%m-%d') # преобразуем столбец session_date в datetime64\n",
    "internet['month'] = internet['session_date'].dt.month_name() # создатём столбец month"
   ]
  },
  {
   "cell_type": "code",
   "execution_count": 12,
   "metadata": {},
   "outputs": [],
   "source": [
    "internet_agg = internet.groupby(['user_id', 'month']).agg({'mb_used': 'sum'}).reset_index() # группируем internet по user_id и month"
   ]
  },
  {
   "cell_type": "code",
   "execution_count": 13,
   "metadata": {},
   "outputs": [],
   "source": [
    "internet_agg['mb_used'] = np.ceil(internet_agg['mb_used']/1024) # пересчитываем мегабайты в гигабайты и округляем в большую сторону"
   ]
  },
  {
   "cell_type": "code",
   "execution_count": 14,
   "metadata": {},
   "outputs": [],
   "source": [
    "internet_agg = internet_agg.rename(columns = {'mb_used':'gb_used'}) # переименовывапем столбец mb_used в gb_used"
   ]
  },
  {
   "cell_type": "code",
   "execution_count": 15,
   "metadata": {},
   "outputs": [],
   "source": [
    "messages['message_date'] = pd.to_datetime(messages['message_date'], format='%Y-%m-%d') # преобразуем столбец message_date в datetime64\n",
    "messages['month'] = messages['message_date'].dt.month_name() # создатём столбец month"
   ]
  },
  {
   "cell_type": "code",
   "execution_count": 16,
   "metadata": {},
   "outputs": [],
   "source": [
    "messages_agg = messages.groupby(['user_id', 'month']).agg({'message_date': 'count'}).reset_index() # группируем internet по user_id и month"
   ]
  },
  {
   "cell_type": "code",
   "execution_count": 17,
   "metadata": {},
   "outputs": [],
   "source": [
    "messages_agg = messages_agg.rename(columns = {'message_date':'message'}) # переименовывапем столбец message_date в message"
   ]
  },
  {
   "cell_type": "code",
   "execution_count": 18,
   "metadata": {},
   "outputs": [],
   "source": [
    "df = calls_agg.merge(internet_agg, on = ['user_id', 'month'], how = 'outer') # объединяем таблицы calls и internet и записываем в df"
   ]
  },
  {
   "cell_type": "code",
   "execution_count": 19,
   "metadata": {},
   "outputs": [],
   "source": [
    "df = messages_agg.merge(df, on = ['user_id', 'month'], how = 'outer') # объединяем таблицы df и messages и записываем в df "
   ]
  },
  {
   "cell_type": "code",
   "execution_count": 20,
   "metadata": {},
   "outputs": [],
   "source": [
    "tariffs['mb_per_month_included'] = tariffs['mb_per_month_included']/1024 # пересчитываем мегабайты в гигабайты"
   ]
  },
  {
   "cell_type": "code",
   "execution_count": 21,
   "metadata": {},
   "outputs": [],
   "source": [
    "tariffs = tariffs.rename(columns = {'tariff_name':'tariff', 'mb_per_month_included':'gb_per_month_included'}) # переименовывапем столбец tariff_name в tariff, mb_per_month_included в gb_per_month_included "
   ]
  },
  {
   "cell_type": "code",
   "execution_count": 22,
   "metadata": {},
   "outputs": [],
   "source": [
    "users_tariffs = tariffs.merge(users, on = 'tariff', how = 'outer') # объединяем таблицы users и tariffs и записываем в users_tariffs "
   ]
  },
  {
   "cell_type": "code",
   "execution_count": 23,
   "metadata": {},
   "outputs": [],
   "source": [
    "df = users_tariffs.merge(df, on = 'user_id', how = 'outer') # объединяем таблицы users_tariffs и df и записываем в df"
   ]
  },
  {
   "cell_type": "code",
   "execution_count": 24,
   "metadata": {},
   "outputs": [
    {
     "data": {
      "text/html": [
       "<div>\n",
       "<style scoped>\n",
       "    .dataframe tbody tr th:only-of-type {\n",
       "        vertical-align: middle;\n",
       "    }\n",
       "\n",
       "    .dataframe tbody tr th {\n",
       "        vertical-align: top;\n",
       "    }\n",
       "\n",
       "    .dataframe thead th {\n",
       "        text-align: right;\n",
       "    }\n",
       "</style>\n",
       "<table border=\"1\" class=\"dataframe\">\n",
       "  <thead>\n",
       "    <tr style=\"text-align: right;\">\n",
       "      <th></th>\n",
       "      <th>messages_included</th>\n",
       "      <th>gb_per_month_included</th>\n",
       "      <th>minutes_included</th>\n",
       "      <th>rub_monthly_fee</th>\n",
       "      <th>rub_per_gb</th>\n",
       "      <th>rub_per_message</th>\n",
       "      <th>rub_per_minute</th>\n",
       "      <th>tariff</th>\n",
       "      <th>user_id</th>\n",
       "      <th>age</th>\n",
       "      <th>churn_date</th>\n",
       "      <th>city</th>\n",
       "      <th>first_name</th>\n",
       "      <th>last_name</th>\n",
       "      <th>reg_date</th>\n",
       "      <th>month</th>\n",
       "      <th>message</th>\n",
       "      <th>duration</th>\n",
       "      <th>gb_used</th>\n",
       "    </tr>\n",
       "  </thead>\n",
       "  <tbody>\n",
       "    <tr>\n",
       "      <th>0</th>\n",
       "      <td>50</td>\n",
       "      <td>15.0</td>\n",
       "      <td>500</td>\n",
       "      <td>550</td>\n",
       "      <td>200</td>\n",
       "      <td>3</td>\n",
       "      <td>3</td>\n",
       "      <td>smart</td>\n",
       "      <td>1001</td>\n",
       "      <td>41</td>\n",
       "      <td>NaN</td>\n",
       "      <td>Москва</td>\n",
       "      <td>Иван</td>\n",
       "      <td>Ежов</td>\n",
       "      <td>2018-11-01</td>\n",
       "      <td>December</td>\n",
       "      <td>NaN</td>\n",
       "      <td>414.0</td>\n",
       "      <td>14.0</td>\n",
       "    </tr>\n",
       "    <tr>\n",
       "      <th>1</th>\n",
       "      <td>50</td>\n",
       "      <td>15.0</td>\n",
       "      <td>500</td>\n",
       "      <td>550</td>\n",
       "      <td>200</td>\n",
       "      <td>3</td>\n",
       "      <td>3</td>\n",
       "      <td>smart</td>\n",
       "      <td>1001</td>\n",
       "      <td>41</td>\n",
       "      <td>NaN</td>\n",
       "      <td>Москва</td>\n",
       "      <td>Иван</td>\n",
       "      <td>Ежов</td>\n",
       "      <td>2018-11-01</td>\n",
       "      <td>November</td>\n",
       "      <td>NaN</td>\n",
       "      <td>430.0</td>\n",
       "      <td>18.0</td>\n",
       "    </tr>\n",
       "    <tr>\n",
       "      <th>2</th>\n",
       "      <td>50</td>\n",
       "      <td>15.0</td>\n",
       "      <td>500</td>\n",
       "      <td>550</td>\n",
       "      <td>200</td>\n",
       "      <td>3</td>\n",
       "      <td>3</td>\n",
       "      <td>smart</td>\n",
       "      <td>1002</td>\n",
       "      <td>59</td>\n",
       "      <td>NaN</td>\n",
       "      <td>Стерлитамак</td>\n",
       "      <td>Евгений</td>\n",
       "      <td>Абрамович</td>\n",
       "      <td>2018-06-17</td>\n",
       "      <td>August</td>\n",
       "      <td>13.0</td>\n",
       "      <td>289.0</td>\n",
       "      <td>20.0</td>\n",
       "    </tr>\n",
       "    <tr>\n",
       "      <th>3</th>\n",
       "      <td>50</td>\n",
       "      <td>15.0</td>\n",
       "      <td>500</td>\n",
       "      <td>550</td>\n",
       "      <td>200</td>\n",
       "      <td>3</td>\n",
       "      <td>3</td>\n",
       "      <td>smart</td>\n",
       "      <td>1002</td>\n",
       "      <td>59</td>\n",
       "      <td>NaN</td>\n",
       "      <td>Стерлитамак</td>\n",
       "      <td>Евгений</td>\n",
       "      <td>Абрамович</td>\n",
       "      <td>2018-06-17</td>\n",
       "      <td>December</td>\n",
       "      <td>12.0</td>\n",
       "      <td>236.0</td>\n",
       "      <td>18.0</td>\n",
       "    </tr>\n",
       "    <tr>\n",
       "      <th>4</th>\n",
       "      <td>50</td>\n",
       "      <td>15.0</td>\n",
       "      <td>500</td>\n",
       "      <td>550</td>\n",
       "      <td>200</td>\n",
       "      <td>3</td>\n",
       "      <td>3</td>\n",
       "      <td>smart</td>\n",
       "      <td>1002</td>\n",
       "      <td>59</td>\n",
       "      <td>NaN</td>\n",
       "      <td>Стерлитамак</td>\n",
       "      <td>Евгений</td>\n",
       "      <td>Абрамович</td>\n",
       "      <td>2018-06-17</td>\n",
       "      <td>July</td>\n",
       "      <td>11.0</td>\n",
       "      <td>214.0</td>\n",
       "      <td>18.0</td>\n",
       "    </tr>\n",
       "    <tr>\n",
       "      <th>5</th>\n",
       "      <td>50</td>\n",
       "      <td>15.0</td>\n",
       "      <td>500</td>\n",
       "      <td>550</td>\n",
       "      <td>200</td>\n",
       "      <td>3</td>\n",
       "      <td>3</td>\n",
       "      <td>smart</td>\n",
       "      <td>1002</td>\n",
       "      <td>59</td>\n",
       "      <td>NaN</td>\n",
       "      <td>Стерлитамак</td>\n",
       "      <td>Евгений</td>\n",
       "      <td>Абрамович</td>\n",
       "      <td>2018-06-17</td>\n",
       "      <td>June</td>\n",
       "      <td>4.0</td>\n",
       "      <td>117.0</td>\n",
       "      <td>11.0</td>\n",
       "    </tr>\n",
       "    <tr>\n",
       "      <th>6</th>\n",
       "      <td>50</td>\n",
       "      <td>15.0</td>\n",
       "      <td>500</td>\n",
       "      <td>550</td>\n",
       "      <td>200</td>\n",
       "      <td>3</td>\n",
       "      <td>3</td>\n",
       "      <td>smart</td>\n",
       "      <td>1002</td>\n",
       "      <td>59</td>\n",
       "      <td>NaN</td>\n",
       "      <td>Стерлитамак</td>\n",
       "      <td>Евгений</td>\n",
       "      <td>Абрамович</td>\n",
       "      <td>2018-06-17</td>\n",
       "      <td>November</td>\n",
       "      <td>16.0</td>\n",
       "      <td>243.0</td>\n",
       "      <td>19.0</td>\n",
       "    </tr>\n",
       "    <tr>\n",
       "      <th>7</th>\n",
       "      <td>50</td>\n",
       "      <td>15.0</td>\n",
       "      <td>500</td>\n",
       "      <td>550</td>\n",
       "      <td>200</td>\n",
       "      <td>3</td>\n",
       "      <td>3</td>\n",
       "      <td>smart</td>\n",
       "      <td>1002</td>\n",
       "      <td>59</td>\n",
       "      <td>NaN</td>\n",
       "      <td>Стерлитамак</td>\n",
       "      <td>Евгений</td>\n",
       "      <td>Абрамович</td>\n",
       "      <td>2018-06-17</td>\n",
       "      <td>October</td>\n",
       "      <td>10.0</td>\n",
       "      <td>212.0</td>\n",
       "      <td>14.0</td>\n",
       "    </tr>\n",
       "    <tr>\n",
       "      <th>8</th>\n",
       "      <td>50</td>\n",
       "      <td>15.0</td>\n",
       "      <td>500</td>\n",
       "      <td>550</td>\n",
       "      <td>200</td>\n",
       "      <td>3</td>\n",
       "      <td>3</td>\n",
       "      <td>smart</td>\n",
       "      <td>1002</td>\n",
       "      <td>59</td>\n",
       "      <td>NaN</td>\n",
       "      <td>Стерлитамак</td>\n",
       "      <td>Евгений</td>\n",
       "      <td>Абрамович</td>\n",
       "      <td>2018-06-17</td>\n",
       "      <td>September</td>\n",
       "      <td>4.0</td>\n",
       "      <td>206.0</td>\n",
       "      <td>17.0</td>\n",
       "    </tr>\n",
       "    <tr>\n",
       "      <th>9</th>\n",
       "      <td>50</td>\n",
       "      <td>15.0</td>\n",
       "      <td>500</td>\n",
       "      <td>550</td>\n",
       "      <td>200</td>\n",
       "      <td>3</td>\n",
       "      <td>3</td>\n",
       "      <td>smart</td>\n",
       "      <td>1005</td>\n",
       "      <td>67</td>\n",
       "      <td>NaN</td>\n",
       "      <td>Набережные Челны</td>\n",
       "      <td>Афанасий</td>\n",
       "      <td>Горлов</td>\n",
       "      <td>2018-01-25</td>\n",
       "      <td>April</td>\n",
       "      <td>41.0</td>\n",
       "      <td>712.0</td>\n",
       "      <td>10.0</td>\n",
       "    </tr>\n",
       "  </tbody>\n",
       "</table>\n",
       "</div>"
      ],
      "text/plain": [
       "   messages_included  gb_per_month_included  minutes_included  \\\n",
       "0                 50                   15.0               500   \n",
       "1                 50                   15.0               500   \n",
       "2                 50                   15.0               500   \n",
       "3                 50                   15.0               500   \n",
       "4                 50                   15.0               500   \n",
       "5                 50                   15.0               500   \n",
       "6                 50                   15.0               500   \n",
       "7                 50                   15.0               500   \n",
       "8                 50                   15.0               500   \n",
       "9                 50                   15.0               500   \n",
       "\n",
       "   rub_monthly_fee  rub_per_gb  rub_per_message  rub_per_minute tariff  \\\n",
       "0              550         200                3               3  smart   \n",
       "1              550         200                3               3  smart   \n",
       "2              550         200                3               3  smart   \n",
       "3              550         200                3               3  smart   \n",
       "4              550         200                3               3  smart   \n",
       "5              550         200                3               3  smart   \n",
       "6              550         200                3               3  smart   \n",
       "7              550         200                3               3  smart   \n",
       "8              550         200                3               3  smart   \n",
       "9              550         200                3               3  smart   \n",
       "\n",
       "   user_id  age churn_date              city first_name  last_name  \\\n",
       "0     1001   41        NaN            Москва       Иван       Ежов   \n",
       "1     1001   41        NaN            Москва       Иван       Ежов   \n",
       "2     1002   59        NaN       Стерлитамак    Евгений  Абрамович   \n",
       "3     1002   59        NaN       Стерлитамак    Евгений  Абрамович   \n",
       "4     1002   59        NaN       Стерлитамак    Евгений  Абрамович   \n",
       "5     1002   59        NaN       Стерлитамак    Евгений  Абрамович   \n",
       "6     1002   59        NaN       Стерлитамак    Евгений  Абрамович   \n",
       "7     1002   59        NaN       Стерлитамак    Евгений  Абрамович   \n",
       "8     1002   59        NaN       Стерлитамак    Евгений  Абрамович   \n",
       "9     1005   67        NaN  Набережные Челны   Афанасий     Горлов   \n",
       "\n",
       "     reg_date      month  message  duration  gb_used  \n",
       "0  2018-11-01   December      NaN     414.0     14.0  \n",
       "1  2018-11-01   November      NaN     430.0     18.0  \n",
       "2  2018-06-17     August     13.0     289.0     20.0  \n",
       "3  2018-06-17   December     12.0     236.0     18.0  \n",
       "4  2018-06-17       July     11.0     214.0     18.0  \n",
       "5  2018-06-17       June      4.0     117.0     11.0  \n",
       "6  2018-06-17   November     16.0     243.0     19.0  \n",
       "7  2018-06-17    October     10.0     212.0     14.0  \n",
       "8  2018-06-17  September      4.0     206.0     17.0  \n",
       "9  2018-01-25      April     41.0     712.0     10.0  "
      ]
     },
     "metadata": {},
     "output_type": "display_data"
    }
   ],
   "source": [
    "display(df.head(10)) # получение первых 10 строк таблицы df"
   ]
  },
  {
   "cell_type": "code",
   "execution_count": 25,
   "metadata": {},
   "outputs": [],
   "source": [
    "df['over_duration'] = df['duration'] - df['minutes_included'] # создатём столбец over_duration превышение лимита длительности звонков\n",
    "df['over_duration'] = df['over_duration'].where(df['over_duration'] > 0, 0) \n",
    "df['over_gb_used'] = df['gb_used'] - df['gb_per_month_included'] # создатём столбец over_gb_used превышение лимита интернет-трафика\n",
    "df['over_gb_used'] = df['over_gb_used'].where(df['over_gb_used'] > 0, 0)\n",
    "df['over_message'] = df['message'] - df['messages_included'] # создатём столбец over_message превышение лимита сообщений\n",
    "df['over_message'] = df['over_message'].where(df['over_message'] > 0, 0)"
   ]
  },
  {
   "cell_type": "code",
   "execution_count": 26,
   "metadata": {},
   "outputs": [],
   "source": [
    "df['revenue'] = df['rub_monthly_fee'] + df['over_duration'] * df['rub_per_minute'] + df['over_gb_used'] * df['rub_per_gb'] + df['over_message'] * df['rub_per_message'] # создатём столбец revenue  "
   ]
  },
  {
   "cell_type": "code",
   "execution_count": 27,
   "metadata": {},
   "outputs": [
    {
     "data": {
      "text/html": [
       "<div>\n",
       "<style scoped>\n",
       "    .dataframe tbody tr th:only-of-type {\n",
       "        vertical-align: middle;\n",
       "    }\n",
       "\n",
       "    .dataframe tbody tr th {\n",
       "        vertical-align: top;\n",
       "    }\n",
       "\n",
       "    .dataframe thead th {\n",
       "        text-align: right;\n",
       "    }\n",
       "</style>\n",
       "<table border=\"1\" class=\"dataframe\">\n",
       "  <thead>\n",
       "    <tr style=\"text-align: right;\">\n",
       "      <th></th>\n",
       "      <th>messages_included</th>\n",
       "      <th>gb_per_month_included</th>\n",
       "      <th>minutes_included</th>\n",
       "      <th>rub_monthly_fee</th>\n",
       "      <th>rub_per_gb</th>\n",
       "      <th>rub_per_message</th>\n",
       "      <th>rub_per_minute</th>\n",
       "      <th>tariff</th>\n",
       "      <th>user_id</th>\n",
       "      <th>age</th>\n",
       "      <th>...</th>\n",
       "      <th>last_name</th>\n",
       "      <th>reg_date</th>\n",
       "      <th>month</th>\n",
       "      <th>message</th>\n",
       "      <th>duration</th>\n",
       "      <th>gb_used</th>\n",
       "      <th>over_duration</th>\n",
       "      <th>over_gb_used</th>\n",
       "      <th>over_message</th>\n",
       "      <th>revenue</th>\n",
       "    </tr>\n",
       "  </thead>\n",
       "  <tbody>\n",
       "    <tr>\n",
       "      <th>0</th>\n",
       "      <td>50</td>\n",
       "      <td>15.0</td>\n",
       "      <td>500</td>\n",
       "      <td>550</td>\n",
       "      <td>200</td>\n",
       "      <td>3</td>\n",
       "      <td>3</td>\n",
       "      <td>smart</td>\n",
       "      <td>1001</td>\n",
       "      <td>41</td>\n",
       "      <td>...</td>\n",
       "      <td>Ежов</td>\n",
       "      <td>2018-11-01</td>\n",
       "      <td>December</td>\n",
       "      <td>NaN</td>\n",
       "      <td>414.0</td>\n",
       "      <td>14.0</td>\n",
       "      <td>0.0</td>\n",
       "      <td>0.0</td>\n",
       "      <td>0.0</td>\n",
       "      <td>550.0</td>\n",
       "    </tr>\n",
       "    <tr>\n",
       "      <th>1</th>\n",
       "      <td>50</td>\n",
       "      <td>15.0</td>\n",
       "      <td>500</td>\n",
       "      <td>550</td>\n",
       "      <td>200</td>\n",
       "      <td>3</td>\n",
       "      <td>3</td>\n",
       "      <td>smart</td>\n",
       "      <td>1001</td>\n",
       "      <td>41</td>\n",
       "      <td>...</td>\n",
       "      <td>Ежов</td>\n",
       "      <td>2018-11-01</td>\n",
       "      <td>November</td>\n",
       "      <td>NaN</td>\n",
       "      <td>430.0</td>\n",
       "      <td>18.0</td>\n",
       "      <td>0.0</td>\n",
       "      <td>3.0</td>\n",
       "      <td>0.0</td>\n",
       "      <td>1150.0</td>\n",
       "    </tr>\n",
       "    <tr>\n",
       "      <th>2</th>\n",
       "      <td>50</td>\n",
       "      <td>15.0</td>\n",
       "      <td>500</td>\n",
       "      <td>550</td>\n",
       "      <td>200</td>\n",
       "      <td>3</td>\n",
       "      <td>3</td>\n",
       "      <td>smart</td>\n",
       "      <td>1002</td>\n",
       "      <td>59</td>\n",
       "      <td>...</td>\n",
       "      <td>Абрамович</td>\n",
       "      <td>2018-06-17</td>\n",
       "      <td>August</td>\n",
       "      <td>13.0</td>\n",
       "      <td>289.0</td>\n",
       "      <td>20.0</td>\n",
       "      <td>0.0</td>\n",
       "      <td>5.0</td>\n",
       "      <td>0.0</td>\n",
       "      <td>1550.0</td>\n",
       "    </tr>\n",
       "    <tr>\n",
       "      <th>3</th>\n",
       "      <td>50</td>\n",
       "      <td>15.0</td>\n",
       "      <td>500</td>\n",
       "      <td>550</td>\n",
       "      <td>200</td>\n",
       "      <td>3</td>\n",
       "      <td>3</td>\n",
       "      <td>smart</td>\n",
       "      <td>1002</td>\n",
       "      <td>59</td>\n",
       "      <td>...</td>\n",
       "      <td>Абрамович</td>\n",
       "      <td>2018-06-17</td>\n",
       "      <td>December</td>\n",
       "      <td>12.0</td>\n",
       "      <td>236.0</td>\n",
       "      <td>18.0</td>\n",
       "      <td>0.0</td>\n",
       "      <td>3.0</td>\n",
       "      <td>0.0</td>\n",
       "      <td>1150.0</td>\n",
       "    </tr>\n",
       "    <tr>\n",
       "      <th>4</th>\n",
       "      <td>50</td>\n",
       "      <td>15.0</td>\n",
       "      <td>500</td>\n",
       "      <td>550</td>\n",
       "      <td>200</td>\n",
       "      <td>3</td>\n",
       "      <td>3</td>\n",
       "      <td>smart</td>\n",
       "      <td>1002</td>\n",
       "      <td>59</td>\n",
       "      <td>...</td>\n",
       "      <td>Абрамович</td>\n",
       "      <td>2018-06-17</td>\n",
       "      <td>July</td>\n",
       "      <td>11.0</td>\n",
       "      <td>214.0</td>\n",
       "      <td>18.0</td>\n",
       "      <td>0.0</td>\n",
       "      <td>3.0</td>\n",
       "      <td>0.0</td>\n",
       "      <td>1150.0</td>\n",
       "    </tr>\n",
       "    <tr>\n",
       "      <th>5</th>\n",
       "      <td>50</td>\n",
       "      <td>15.0</td>\n",
       "      <td>500</td>\n",
       "      <td>550</td>\n",
       "      <td>200</td>\n",
       "      <td>3</td>\n",
       "      <td>3</td>\n",
       "      <td>smart</td>\n",
       "      <td>1002</td>\n",
       "      <td>59</td>\n",
       "      <td>...</td>\n",
       "      <td>Абрамович</td>\n",
       "      <td>2018-06-17</td>\n",
       "      <td>June</td>\n",
       "      <td>4.0</td>\n",
       "      <td>117.0</td>\n",
       "      <td>11.0</td>\n",
       "      <td>0.0</td>\n",
       "      <td>0.0</td>\n",
       "      <td>0.0</td>\n",
       "      <td>550.0</td>\n",
       "    </tr>\n",
       "    <tr>\n",
       "      <th>6</th>\n",
       "      <td>50</td>\n",
       "      <td>15.0</td>\n",
       "      <td>500</td>\n",
       "      <td>550</td>\n",
       "      <td>200</td>\n",
       "      <td>3</td>\n",
       "      <td>3</td>\n",
       "      <td>smart</td>\n",
       "      <td>1002</td>\n",
       "      <td>59</td>\n",
       "      <td>...</td>\n",
       "      <td>Абрамович</td>\n",
       "      <td>2018-06-17</td>\n",
       "      <td>November</td>\n",
       "      <td>16.0</td>\n",
       "      <td>243.0</td>\n",
       "      <td>19.0</td>\n",
       "      <td>0.0</td>\n",
       "      <td>4.0</td>\n",
       "      <td>0.0</td>\n",
       "      <td>1350.0</td>\n",
       "    </tr>\n",
       "    <tr>\n",
       "      <th>7</th>\n",
       "      <td>50</td>\n",
       "      <td>15.0</td>\n",
       "      <td>500</td>\n",
       "      <td>550</td>\n",
       "      <td>200</td>\n",
       "      <td>3</td>\n",
       "      <td>3</td>\n",
       "      <td>smart</td>\n",
       "      <td>1002</td>\n",
       "      <td>59</td>\n",
       "      <td>...</td>\n",
       "      <td>Абрамович</td>\n",
       "      <td>2018-06-17</td>\n",
       "      <td>October</td>\n",
       "      <td>10.0</td>\n",
       "      <td>212.0</td>\n",
       "      <td>14.0</td>\n",
       "      <td>0.0</td>\n",
       "      <td>0.0</td>\n",
       "      <td>0.0</td>\n",
       "      <td>550.0</td>\n",
       "    </tr>\n",
       "    <tr>\n",
       "      <th>8</th>\n",
       "      <td>50</td>\n",
       "      <td>15.0</td>\n",
       "      <td>500</td>\n",
       "      <td>550</td>\n",
       "      <td>200</td>\n",
       "      <td>3</td>\n",
       "      <td>3</td>\n",
       "      <td>smart</td>\n",
       "      <td>1002</td>\n",
       "      <td>59</td>\n",
       "      <td>...</td>\n",
       "      <td>Абрамович</td>\n",
       "      <td>2018-06-17</td>\n",
       "      <td>September</td>\n",
       "      <td>4.0</td>\n",
       "      <td>206.0</td>\n",
       "      <td>17.0</td>\n",
       "      <td>0.0</td>\n",
       "      <td>2.0</td>\n",
       "      <td>0.0</td>\n",
       "      <td>950.0</td>\n",
       "    </tr>\n",
       "    <tr>\n",
       "      <th>9</th>\n",
       "      <td>50</td>\n",
       "      <td>15.0</td>\n",
       "      <td>500</td>\n",
       "      <td>550</td>\n",
       "      <td>200</td>\n",
       "      <td>3</td>\n",
       "      <td>3</td>\n",
       "      <td>smart</td>\n",
       "      <td>1005</td>\n",
       "      <td>67</td>\n",
       "      <td>...</td>\n",
       "      <td>Горлов</td>\n",
       "      <td>2018-01-25</td>\n",
       "      <td>April</td>\n",
       "      <td>41.0</td>\n",
       "      <td>712.0</td>\n",
       "      <td>10.0</td>\n",
       "      <td>212.0</td>\n",
       "      <td>0.0</td>\n",
       "      <td>0.0</td>\n",
       "      <td>1186.0</td>\n",
       "    </tr>\n",
       "  </tbody>\n",
       "</table>\n",
       "<p>10 rows × 23 columns</p>\n",
       "</div>"
      ],
      "text/plain": [
       "   messages_included  gb_per_month_included  minutes_included  \\\n",
       "0                 50                   15.0               500   \n",
       "1                 50                   15.0               500   \n",
       "2                 50                   15.0               500   \n",
       "3                 50                   15.0               500   \n",
       "4                 50                   15.0               500   \n",
       "5                 50                   15.0               500   \n",
       "6                 50                   15.0               500   \n",
       "7                 50                   15.0               500   \n",
       "8                 50                   15.0               500   \n",
       "9                 50                   15.0               500   \n",
       "\n",
       "   rub_monthly_fee  rub_per_gb  rub_per_message  rub_per_minute tariff  \\\n",
       "0              550         200                3               3  smart   \n",
       "1              550         200                3               3  smart   \n",
       "2              550         200                3               3  smart   \n",
       "3              550         200                3               3  smart   \n",
       "4              550         200                3               3  smart   \n",
       "5              550         200                3               3  smart   \n",
       "6              550         200                3               3  smart   \n",
       "7              550         200                3               3  smart   \n",
       "8              550         200                3               3  smart   \n",
       "9              550         200                3               3  smart   \n",
       "\n",
       "   user_id  age  ...  last_name    reg_date      month message duration  \\\n",
       "0     1001   41  ...       Ежов  2018-11-01   December     NaN    414.0   \n",
       "1     1001   41  ...       Ежов  2018-11-01   November     NaN    430.0   \n",
       "2     1002   59  ...  Абрамович  2018-06-17     August    13.0    289.0   \n",
       "3     1002   59  ...  Абрамович  2018-06-17   December    12.0    236.0   \n",
       "4     1002   59  ...  Абрамович  2018-06-17       July    11.0    214.0   \n",
       "5     1002   59  ...  Абрамович  2018-06-17       June     4.0    117.0   \n",
       "6     1002   59  ...  Абрамович  2018-06-17   November    16.0    243.0   \n",
       "7     1002   59  ...  Абрамович  2018-06-17    October    10.0    212.0   \n",
       "8     1002   59  ...  Абрамович  2018-06-17  September     4.0    206.0   \n",
       "9     1005   67  ...     Горлов  2018-01-25      April    41.0    712.0   \n",
       "\n",
       "  gb_used  over_duration  over_gb_used  over_message  revenue  \n",
       "0    14.0            0.0           0.0           0.0    550.0  \n",
       "1    18.0            0.0           3.0           0.0   1150.0  \n",
       "2    20.0            0.0           5.0           0.0   1550.0  \n",
       "3    18.0            0.0           3.0           0.0   1150.0  \n",
       "4    18.0            0.0           3.0           0.0   1150.0  \n",
       "5    11.0            0.0           0.0           0.0    550.0  \n",
       "6    19.0            0.0           4.0           0.0   1350.0  \n",
       "7    14.0            0.0           0.0           0.0    550.0  \n",
       "8    17.0            0.0           2.0           0.0    950.0  \n",
       "9    10.0          212.0           0.0           0.0   1186.0  \n",
       "\n",
       "[10 rows x 23 columns]"
      ]
     },
     "metadata": {},
     "output_type": "display_data"
    }
   ],
   "source": [
    "display(df.head(10)) # получение первых 10 строк таблицы df"
   ]
  },
  {
   "cell_type": "code",
   "execution_count": 28,
   "metadata": {},
   "outputs": [
    {
     "data": {
      "text/plain": [
       "500"
      ]
     },
     "execution_count": 28,
     "metadata": {},
     "output_type": "execute_result"
    }
   ],
   "source": [
    "# пользователей в финальной таблице\n",
    "df['user_id'].nunique()"
   ]
  },
  {
   "cell_type": "code",
   "execution_count": 29,
   "metadata": {},
   "outputs": [
    {
     "name": "stdout",
     "output_type": "stream",
     "text": [
      "492\n",
      "497\n",
      "426\n"
     ]
    }
   ],
   "source": [
    "# пользователей по таблицам отдельно\n",
    "for table in [calls, internet, messages]:\n",
    "    print(table['user_id'].nunique())"
   ]
  },
  {
   "cell_type": "markdown",
   "metadata": {},
   "source": [
    "### Вывод"
   ]
  },
  {
   "cell_type": "markdown",
   "metadata": {},
   "source": [
    "- Столбцы с датами приведены к типу datetime64. \n",
    "- Удален столбец Unnamed: 0.  \n",
    "- Посчитаны для каждого пользователя: количество сделанных звонков и израсходованных минут разговора по месяцам; количество отправленных сообщений по месяцам; объем израсходованного интернет-трафика по месяцам. \n",
    "- Все таблицы объединены в одну df. \n",
    "- Создан столбец revenue."
   ]
  },
  {
   "cell_type": "markdown",
   "metadata": {},
   "source": [
    "## Шаг 3. Анализ и описание данных"
   ]
  },
  {
   "cell_type": "code",
   "execution_count": 30,
   "metadata": {},
   "outputs": [
    {
     "data": {
      "text/html": [
       "<div>\n",
       "<style scoped>\n",
       "    .dataframe tbody tr th:only-of-type {\n",
       "        vertical-align: middle;\n",
       "    }\n",
       "\n",
       "    .dataframe tbody tr th {\n",
       "        vertical-align: top;\n",
       "    }\n",
       "\n",
       "    .dataframe thead tr th {\n",
       "        text-align: left;\n",
       "    }\n",
       "\n",
       "    .dataframe thead tr:last-of-type th {\n",
       "        text-align: right;\n",
       "    }\n",
       "</style>\n",
       "<table border=\"1\" class=\"dataframe\">\n",
       "  <thead>\n",
       "    <tr>\n",
       "      <th></th>\n",
       "      <th colspan=\"3\" halign=\"left\">duration</th>\n",
       "    </tr>\n",
       "    <tr>\n",
       "      <th></th>\n",
       "      <th>mean</th>\n",
       "      <th>std</th>\n",
       "      <th>var</th>\n",
       "    </tr>\n",
       "    <tr>\n",
       "      <th>tariff</th>\n",
       "      <th></th>\n",
       "      <th></th>\n",
       "      <th></th>\n",
       "    </tr>\n",
       "  </thead>\n",
       "  <tbody>\n",
       "    <tr>\n",
       "      <th>smart</th>\n",
       "      <td>419.440342</td>\n",
       "      <td>188.992403</td>\n",
       "      <td>35718.128534</td>\n",
       "    </tr>\n",
       "    <tr>\n",
       "      <th>ultra</th>\n",
       "      <td>547.755016</td>\n",
       "      <td>305.513385</td>\n",
       "      <td>93338.428291</td>\n",
       "    </tr>\n",
       "  </tbody>\n",
       "</table>\n",
       "</div>"
      ],
      "text/plain": [
       "          duration                          \n",
       "              mean         std           var\n",
       "tariff                                      \n",
       "smart   419.440342  188.992403  35718.128534\n",
       "ultra   547.755016  305.513385  93338.428291"
      ]
     },
     "execution_count": 30,
     "metadata": {},
     "output_type": "execute_result"
    }
   ],
   "source": [
    "df.groupby('tariff').agg({'duration': ['mean', 'std', 'var']}) # группируем df по tariff и считаем среднее, стандартное отклонение и дисперсию столбца duration "
   ]
  },
  {
   "cell_type": "code",
   "execution_count": 31,
   "metadata": {},
   "outputs": [
    {
     "data": {
      "image/png": "[encoded data removed]",
      "text/plain": [
       "<Figure size 1080x360 with 1 Axes>"
      ]
     },
     "metadata": {
      "needs_background": "light"
     },
     "output_type": "display_data"
    }
   ],
   "source": [
    "df.query('tariff == \"smart\"')['duration'].plot(kind = 'hist', bins = 100, figsize=(15,5), alpha=0.3, legend = True,  label = 'smart') # строим гистограмму duration тарифа smart \n",
    "df.query('tariff == \"ultra\"')['duration'].plot(kind = 'hist', bins = 100, figsize=(15,5), alpha=0.3, legend = True, label = 'ultra') # строим гистограмму duration тарифа ultra \n",
    "plt.title('Звонки', fontsize=22) # задаём название графика\n",
    "plt.xlabel('минуты') # задаём подпись горизонтальной оси\n",
    "plt.show() # показываем график"
   ]
  },
  {
   "cell_type": "code",
   "execution_count": 32,
   "metadata": {},
   "outputs": [
    {
     "data": {
      "text/html": [
       "<div>\n",
       "<style scoped>\n",
       "    .dataframe tbody tr th:only-of-type {\n",
       "        vertical-align: middle;\n",
       "    }\n",
       "\n",
       "    .dataframe tbody tr th {\n",
       "        vertical-align: top;\n",
       "    }\n",
       "\n",
       "    .dataframe thead tr th {\n",
       "        text-align: left;\n",
       "    }\n",
       "\n",
       "    .dataframe thead tr:last-of-type th {\n",
       "        text-align: right;\n",
       "    }\n",
       "</style>\n",
       "<table border=\"1\" class=\"dataframe\">\n",
       "  <thead>\n",
       "    <tr>\n",
       "      <th></th>\n",
       "      <th colspan=\"3\" halign=\"left\">gb_used</th>\n",
       "    </tr>\n",
       "    <tr>\n",
       "      <th></th>\n",
       "      <th>mean</th>\n",
       "      <th>std</th>\n",
       "      <th>var</th>\n",
       "    </tr>\n",
       "    <tr>\n",
       "      <th>tariff</th>\n",
       "      <th></th>\n",
       "      <th></th>\n",
       "      <th></th>\n",
       "    </tr>\n",
       "  </thead>\n",
       "  <tbody>\n",
       "    <tr>\n",
       "      <th>smart</th>\n",
       "      <td>16.343511</td>\n",
       "      <td>5.728752</td>\n",
       "      <td>32.818605</td>\n",
       "    </tr>\n",
       "    <tr>\n",
       "      <th>ultra</th>\n",
       "      <td>19.714579</td>\n",
       "      <td>9.687335</td>\n",
       "      <td>93.844453</td>\n",
       "    </tr>\n",
       "  </tbody>\n",
       "</table>\n",
       "</div>"
      ],
      "text/plain": [
       "          gb_used                     \n",
       "             mean       std        var\n",
       "tariff                                \n",
       "smart   16.343511  5.728752  32.818605\n",
       "ultra   19.714579  9.687335  93.844453"
      ]
     },
     "execution_count": 32,
     "metadata": {},
     "output_type": "execute_result"
    }
   ],
   "source": [
    "df.groupby('tariff').agg({'gb_used': ['mean', 'std', 'var']}) # группируем df по tariff и считаем среднее, стандартное отклонение и дисперсию столбца gb_used"
   ]
  },
  {
   "cell_type": "code",
   "execution_count": 33,
   "metadata": {},
   "outputs": [
    {
     "data": {
      "image/png": "[encoded data removed]",
      "text/plain": [
       "<Figure size 1080x360 with 1 Axes>"
      ]
     },
     "metadata": {
      "needs_background": "light"
     },
     "output_type": "display_data"
    }
   ],
   "source": [
    "df.query('tariff == \"smart\"')['gb_used'].plot(kind = 'hist', bins = 50, figsize=(15,5), alpha=0.3, legend = True,  label = 'smart') # строим гистограмму gb_used тарифа smart \n",
    "df.query('tariff == \"ultra\"')['gb_used'].plot(kind = 'hist', bins = 50, figsize=(15,5), alpha=0.3, legend = True, label = 'ultra') # строим гистограмму gb_used тарифа ultra \n",
    "plt.title('Интернет', fontsize=22) # задаём название графика\n",
    "plt.xlabel('гигабайты') # задаём подпись горизонтальной оси\n",
    "plt.show() # показываем график"
   ]
  },
  {
   "cell_type": "code",
   "execution_count": 34,
   "metadata": {},
   "outputs": [
    {
     "data": {
      "text/html": [
       "<div>\n",
       "<style scoped>\n",
       "    .dataframe tbody tr th:only-of-type {\n",
       "        vertical-align: middle;\n",
       "    }\n",
       "\n",
       "    .dataframe tbody tr th {\n",
       "        vertical-align: top;\n",
       "    }\n",
       "\n",
       "    .dataframe thead tr th {\n",
       "        text-align: left;\n",
       "    }\n",
       "\n",
       "    .dataframe thead tr:last-of-type th {\n",
       "        text-align: right;\n",
       "    }\n",
       "</style>\n",
       "<table border=\"1\" class=\"dataframe\">\n",
       "  <thead>\n",
       "    <tr>\n",
       "      <th></th>\n",
       "      <th colspan=\"3\" halign=\"left\">message</th>\n",
       "    </tr>\n",
       "    <tr>\n",
       "      <th></th>\n",
       "      <th>mean</th>\n",
       "      <th>std</th>\n",
       "      <th>var</th>\n",
       "    </tr>\n",
       "    <tr>\n",
       "      <th>tariff</th>\n",
       "      <th></th>\n",
       "      <th></th>\n",
       "      <th></th>\n",
       "    </tr>\n",
       "  </thead>\n",
       "  <tbody>\n",
       "    <tr>\n",
       "      <th>smart</th>\n",
       "      <td>38.716441</td>\n",
       "      <td>26.787949</td>\n",
       "      <td>717.594201</td>\n",
       "    </tr>\n",
       "    <tr>\n",
       "      <th>ultra</th>\n",
       "      <td>61.161006</td>\n",
       "      <td>45.931026</td>\n",
       "      <td>2109.659183</td>\n",
       "    </tr>\n",
       "  </tbody>\n",
       "</table>\n",
       "</div>"
      ],
      "text/plain": [
       "          message                        \n",
       "             mean        std          var\n",
       "tariff                                   \n",
       "smart   38.716441  26.787949   717.594201\n",
       "ultra   61.161006  45.931026  2109.659183"
      ]
     },
     "execution_count": 34,
     "metadata": {},
     "output_type": "execute_result"
    }
   ],
   "source": [
    "df.groupby('tariff').agg({'message': ['mean', 'std', 'var']}) # группируем df по tariff и считаем среднее, стандартное отклонение и дисперсию столбца message"
   ]
  },
  {
   "cell_type": "code",
   "execution_count": 35,
   "metadata": {},
   "outputs": [
    {
     "data": {
      "image/png": "[encoded data removed]",
      "text/plain": [
       "<Figure size 1080x360 with 1 Axes>"
      ]
     },
     "metadata": {
      "needs_background": "light"
     },
     "output_type": "display_data"
    }
   ],
   "source": [
    "df.query('tariff == \"smart\"')['message'].plot(kind = 'hist', bins = 50, figsize=(15,5), alpha=0.3, legend = True,  label = 'smart') # строим гистограмму message тарифа smart \n",
    "df.query('tariff == \"ultra\"')['message'].plot(kind = 'hist', bins = 50, figsize=(15,5), alpha=0.3, legend = True, label = 'ultra') # строим гистограмму message тарифа ultra \n",
    "plt.title('Сообщения', fontsize=22) # задаём название графика\n",
    "plt.xlabel('сообщения') # задаём подпись горизонтальной оси\n",
    "plt.show() # показываем график"
   ]
  },
  {
   "cell_type": "code",
   "execution_count": 36,
   "metadata": {},
   "outputs": [
    {
     "data": {
      "text/html": [
       "<div>\n",
       "<style scoped>\n",
       "    .dataframe tbody tr th:only-of-type {\n",
       "        vertical-align: middle;\n",
       "    }\n",
       "\n",
       "    .dataframe tbody tr th {\n",
       "        vertical-align: top;\n",
       "    }\n",
       "\n",
       "    .dataframe thead tr th {\n",
       "        text-align: left;\n",
       "    }\n",
       "\n",
       "    .dataframe thead tr:last-of-type th {\n",
       "        text-align: right;\n",
       "    }\n",
       "</style>\n",
       "<table border=\"1\" class=\"dataframe\">\n",
       "  <thead>\n",
       "    <tr>\n",
       "      <th></th>\n",
       "      <th colspan=\"3\" halign=\"left\">revenue</th>\n",
       "    </tr>\n",
       "    <tr>\n",
       "      <th></th>\n",
       "      <th>mean</th>\n",
       "      <th>std</th>\n",
       "      <th>var</th>\n",
       "    </tr>\n",
       "    <tr>\n",
       "      <th>tariff</th>\n",
       "      <th></th>\n",
       "      <th></th>\n",
       "      <th></th>\n",
       "    </tr>\n",
       "  </thead>\n",
       "  <tbody>\n",
       "    <tr>\n",
       "      <th>smart</th>\n",
       "      <td>1289.641704</td>\n",
       "      <td>818.370799</td>\n",
       "      <td>669730.763895</td>\n",
       "    </tr>\n",
       "    <tr>\n",
       "      <th>ultra</th>\n",
       "      <td>2070.030426</td>\n",
       "      <td>376.015578</td>\n",
       "      <td>141387.714809</td>\n",
       "    </tr>\n",
       "  </tbody>\n",
       "</table>\n",
       "</div>"
      ],
      "text/plain": [
       "            revenue                           \n",
       "               mean         std            var\n",
       "tariff                                        \n",
       "smart   1289.641704  818.370799  669730.763895\n",
       "ultra   2070.030426  376.015578  141387.714809"
      ]
     },
     "execution_count": 36,
     "metadata": {},
     "output_type": "execute_result"
    }
   ],
   "source": [
    "df.groupby('tariff').agg({'revenue': ['mean', 'std', 'var']}) # группируем df по tariff и считаем среднее, стандартное отклонение и дисперсию столбца revenue"
   ]
  },
  {
   "cell_type": "code",
   "execution_count": 37,
   "metadata": {
    "scrolled": false
   },
   "outputs": [
    {
     "data": {
      "image/png": "[encoded data removed]",
      "text/plain": [
       "<Figure size 1080x360 with 1 Axes>"
      ]
     },
     "metadata": {
      "needs_background": "light"
     },
     "output_type": "display_data"
    }
   ],
   "source": [
    "df.query('tariff == \"smart\"')['revenue'].plot(kind = 'hist', bins = 50, figsize=(15,5), alpha=0.3, legend = True,  label = 'smart') # строим гистограмму revenue тарифа smart \n",
    "df.query('tariff == \"ultra\"')['revenue'].plot(kind = 'hist', bins = 50, figsize=(15,5), alpha=0.3, legend = True, label = 'ultra') # строим гистограмму revenue тарифа ultra\n",
    "plt.title('Выручка', fontsize=22) # задаём название графика\n",
    "plt.xlabel('рубли') # задаём подпись горизонтальной оси\n",
    "plt.show() # показываем график"
   ]
  },
  {
   "cell_type": "markdown",
   "metadata": {},
   "source": [
    "### Вывод"
   ]
  },
  {
   "cell_type": "markdown",
   "metadata": {},
   "source": [
    "Средний клиент с тарифом smart расходует 420 минуты разговора включены в тариф, 17 гигабайт интернет трафика превышает лимит на 2 гигабайта и 39 сообщение включены в тариф.\n",
    "Средний клиент с тарифом ultra расходует 547 минут разговора включены в тариф, 20 гигабайт интернет трафика включены в тариф и 62 сообщения включены в тариф."
   ]
  },
  {
   "cell_type": "markdown",
   "metadata": {},
   "source": [
    "## Шаг 4. Проверка гипотез"
   ]
  },
  {
   "cell_type": "markdown",
   "metadata": {},
   "source": [
    "1. Гипотеза средняя выручка пользователей тарифов «Ультра» и «Смарт» различаются."
   ]
  },
  {
   "cell_type": "markdown",
   "metadata": {},
   "source": [
    "- Нулевая гипотеза: средняя выручка тарифов «Ультра» и «Смарт» равны.\n",
    "- Альтернативная гипотеза: средняя выручка тарифов «Ультра» и «Смарт» разлтчаются."
   ]
  },
  {
   "cell_type": "code",
   "execution_count": 38,
   "metadata": {},
   "outputs": [
    {
     "name": "stdout",
     "output_type": "stream",
     "text": [
      "p-значение:  8.081909555489933e-161\n",
      "Отвергаем нулевую гипотезу\n"
     ]
    }
   ],
   "source": [
    "alpha = 0.05 # задаём пороговое значение\n",
    "results = st.ttest_ind(df.query('tariff == \"smart\"')['revenue'], df.query('tariff == \"ultra\"')['revenue']) # проверка гипотезы о равенстве среднего двух генеральных совокупностей по взятым из них выборкам \n",
    "print('p-значение: ', results.pvalue) # вывод на экран значения p-value\n",
    "if results.pvalue < alpha: # сравниваем p-value с пороговым значением\n",
    "    print('Отвергаем нулевую гипотезу') \n",
    "else:\n",
    "    print('Не получилось отвергнуть нулевую гипотезу')"
   ]
  },
  {
   "cell_type": "markdown",
   "metadata": {},
   "source": [
    "2. Гипотеза средняя выручка пользователей из Москвы отличается от выручки пользователей из других регионов."
   ]
  },
  {
   "cell_type": "markdown",
   "metadata": {},
   "source": [
    "- Нулевая гипотеза: средняя выручка пользователей Москвы и других регионов равны.\n",
    "- Альтернативная гипотеза: средняя выручка пользователей Москвы и других регионов разлтчаются."
   ]
  },
  {
   "cell_type": "code",
   "execution_count": 39,
   "metadata": {},
   "outputs": [
    {
     "name": "stdout",
     "output_type": "stream",
     "text": [
      "p-значение:  0.5400751614511182\n",
      "Не получилось отвергнуть нулевую гипотезу\n"
     ]
    }
   ],
   "source": [
    "results = st.ttest_ind(df.query('city == \"Москва\"')['revenue'], df.query('city != \"Москва\"')['revenue']) # проверка гипотезы о равенстве среднего двух генеральных совокупностей по взятым из них выборкам\n",
    "print('p-значение: ', results.pvalue) # вывод на экран значения p-value\n",
    "if results.pvalue < alpha: # сравниваем p-value с пороговым значением\n",
    "    print('Отвергаем нулевую гипотезу')\n",
    "else:\n",
    "    print('Не получилось отвергнуть нулевую гипотезу')"
   ]
  },
  {
   "cell_type": "markdown",
   "metadata": {},
   "source": [
    "### Вывод"
   ]
  },
  {
   "cell_type": "markdown",
   "metadata": {},
   "source": [
    "1. Мы отвергли нулевую гипотезу средняя выручка тарифов «Ультра» и «Смарт» равны, делаем вывод, что средняя выручка пользователей тарифов «Ультра» и «Смарт» различаются.\n",
    "2. Не получилось отвергнуть нулевую гипотезу средняя выручка пользователей Москвы и других регионов равны. Отвергаем гипотезу средняя выручка пользователей из Москвы отличается от выручки пользователей из других регионов.\n"
   ]
  },
  {
   "cell_type": "markdown",
   "metadata": {},
   "source": [
    "## Шаг 5. Общий вывод"
   ]
  },
  {
   "cell_type": "markdown",
   "metadata": {},
   "source": [
    "Тариф «Ультра» лучше чем тариф «Смарт». Средняя выручка у тарифа «Ультра» в 2.5 раза выше чем у тарифа «Смарт». Чтобы завлеч клиентов на тариф «Ультра» можно уменьшеть стоимость услуг сверх тарифного пакета. "
   ]
  },
  {
   "cell_type": "markdown",
   "metadata": {},
   "source": [
    "<hr style=\"border: 2px solid green;\" />\n",
    "\n",
    "## Шаг 6. Общий комментарий\n",
    "Спасибо за проделанную работу🤝\n",
    "\n",
    "Иван, проект выполнен достаточно хорошо, но ошибка при подготовке таблицы для основного анализа могла помешать корректным выводам. Найденные ошибки:\n",
    "- изучить записи с нулевой длительностью или нулевым траффиком\n",
    "- проверить корректность сборки общей таблицы\n",
    "- по необходимости скорректировать выводы\n",
    "\n",
    "Исправляй и отправляй на проверку🛠"
   ]
  }
 ],
 "metadata": {
  "ExecuteTimeLog": [
   {
    "duration": 765,
    "start_time": "2021-12-18T20:30:50.295Z"
   },
   {
    "duration": 210,
    "start_time": "2021-12-18T20:34:11.040Z"
   },
   {
    "duration": 20,
    "start_time": "2021-12-18T20:34:25.945Z"
   },
   {
    "duration": 738,
    "start_time": "2021-12-18T20:34:48.734Z"
   },
   {
    "duration": 207,
    "start_time": "2021-12-18T20:34:49.474Z"
   },
   {
    "duration": 26,
    "start_time": "2021-12-18T20:34:49.683Z"
   },
   {
    "duration": 348,
    "start_time": "2021-12-18T20:37:29.495Z"
   },
   {
    "duration": 541,
    "start_time": "2021-12-18T20:37:42.179Z"
   },
   {
    "duration": 15,
    "start_time": "2021-12-18T20:37:43.475Z"
   },
   {
    "duration": 20,
    "start_time": "2021-12-18T20:37:44.483Z"
   },
   {
    "duration": 13,
    "start_time": "2021-12-18T20:38:53.462Z"
   },
   {
    "duration": 11,
    "start_time": "2021-12-18T20:39:37.535Z"
   },
   {
    "duration": 19,
    "start_time": "2021-12-18T20:40:22.411Z"
   },
   {
    "duration": 22,
    "start_time": "2021-12-18T20:54:11.067Z"
   },
   {
    "duration": 308,
    "start_time": "2021-12-18T20:54:32.618Z"
   },
   {
    "duration": 255,
    "start_time": "2021-12-18T20:54:54.110Z"
   },
   {
    "duration": 11,
    "start_time": "2021-12-18T20:55:11.798Z"
   },
   {
    "duration": 10,
    "start_time": "2021-12-18T20:55:34.573Z"
   },
   {
    "duration": 298,
    "start_time": "2021-12-18T20:56:03.321Z"
   },
   {
    "duration": 41,
    "start_time": "2021-12-18T20:56:54.501Z"
   },
   {
    "duration": 519,
    "start_time": "2021-12-19T08:00:05.909Z"
   },
   {
    "duration": 639,
    "start_time": "2021-12-19T08:00:12.276Z"
   },
   {
    "duration": 456,
    "start_time": "2021-12-19T08:00:13.175Z"
   },
   {
    "duration": 50,
    "start_time": "2021-12-19T08:00:14.391Z"
   },
   {
    "duration": 40,
    "start_time": "2021-12-19T08:01:42.334Z"
   },
   {
    "duration": 15,
    "start_time": "2021-12-19T08:02:48.292Z"
   },
   {
    "duration": 9,
    "start_time": "2021-12-19T08:03:20.410Z"
   },
   {
    "duration": 8,
    "start_time": "2021-12-19T08:03:36.756Z"
   },
   {
    "duration": 32,
    "start_time": "2021-12-19T08:04:35.228Z"
   },
   {
    "duration": 7,
    "start_time": "2021-12-19T08:05:45.732Z"
   },
   {
    "duration": 6,
    "start_time": "2021-12-19T08:06:20.522Z"
   },
   {
    "duration": 6,
    "start_time": "2021-12-19T08:07:54.268Z"
   },
   {
    "duration": 338,
    "start_time": "2021-12-19T09:48:57.875Z"
   },
   {
    "duration": 271,
    "start_time": "2021-12-19T09:49:37.551Z"
   },
   {
    "duration": 717,
    "start_time": "2021-12-19T09:51:03.571Z"
   },
   {
    "duration": 483,
    "start_time": "2021-12-19T09:51:04.391Z"
   },
   {
    "duration": 27,
    "start_time": "2021-12-19T09:51:05.103Z"
   },
   {
    "duration": 22,
    "start_time": "2021-12-19T09:51:06.098Z"
   },
   {
    "duration": 22,
    "start_time": "2021-12-19T09:51:06.502Z"
   },
   {
    "duration": 12,
    "start_time": "2021-12-19T09:51:07.335Z"
   },
   {
    "duration": 17,
    "start_time": "2021-12-19T09:51:07.879Z"
   },
   {
    "duration": 10,
    "start_time": "2021-12-19T09:51:08.787Z"
   },
   {
    "duration": 9,
    "start_time": "2021-12-19T09:51:09.243Z"
   },
   {
    "duration": 11,
    "start_time": "2021-12-19T09:51:10.419Z"
   },
   {
    "duration": 10,
    "start_time": "2021-12-19T09:51:11.155Z"
   },
   {
    "duration": 18,
    "start_time": "2021-12-19T09:51:12.847Z"
   },
   {
    "duration": 6957,
    "start_time": "2021-12-19T09:51:15.987Z"
   },
   {
    "duration": 261,
    "start_time": "2021-12-19T09:51:40.387Z"
   },
   {
    "duration": 317,
    "start_time": "2021-12-19T09:59:55.562Z"
   },
   {
    "duration": 287,
    "start_time": "2021-12-19T10:01:20.344Z"
   },
   {
    "duration": 778,
    "start_time": "2021-12-19T10:01:29.501Z"
   },
   {
    "duration": 570,
    "start_time": "2021-12-19T10:01:30.283Z"
   },
   {
    "duration": 26,
    "start_time": "2021-12-19T10:01:30.857Z"
   },
   {
    "duration": 44,
    "start_time": "2021-12-19T10:01:30.886Z"
   },
   {
    "duration": 29,
    "start_time": "2021-12-19T10:01:30.932Z"
   },
   {
    "duration": 26,
    "start_time": "2021-12-19T10:01:30.964Z"
   },
   {
    "duration": 44,
    "start_time": "2021-12-19T10:01:30.993Z"
   },
   {
    "duration": 36,
    "start_time": "2021-12-19T10:01:31.041Z"
   },
   {
    "duration": 32,
    "start_time": "2021-12-19T10:01:31.081Z"
   },
   {
    "duration": 33,
    "start_time": "2021-12-19T10:01:31.116Z"
   },
   {
    "duration": 21,
    "start_time": "2021-12-19T10:01:31.151Z"
   },
   {
    "duration": 29,
    "start_time": "2021-12-19T10:01:31.174Z"
   },
   {
    "duration": 21,
    "start_time": "2021-12-19T10:01:31.206Z"
   },
   {
    "duration": 12,
    "start_time": "2021-12-19T10:02:03.362Z"
   },
   {
    "duration": 6,
    "start_time": "2021-12-19T10:02:19.265Z"
   },
   {
    "duration": 12,
    "start_time": "2021-12-19T10:02:21.814Z"
   },
   {
    "duration": 573,
    "start_time": "2021-12-19T17:19:15.056Z"
   },
   {
    "duration": 411,
    "start_time": "2021-12-19T17:19:15.630Z"
   },
   {
    "duration": 31,
    "start_time": "2021-12-19T17:19:16.047Z"
   },
   {
    "duration": 19,
    "start_time": "2021-12-19T17:19:16.080Z"
   },
   {
    "duration": 24,
    "start_time": "2021-12-19T17:19:16.101Z"
   },
   {
    "duration": 8,
    "start_time": "2021-12-19T17:19:16.127Z"
   },
   {
    "duration": 14,
    "start_time": "2021-12-19T17:19:16.137Z"
   },
   {
    "duration": 7,
    "start_time": "2021-12-19T17:19:16.153Z"
   },
   {
    "duration": 6,
    "start_time": "2021-12-19T17:19:16.162Z"
   },
   {
    "duration": 8,
    "start_time": "2021-12-19T17:19:16.169Z"
   },
   {
    "duration": 6,
    "start_time": "2021-12-19T17:19:16.207Z"
   },
   {
    "duration": 13,
    "start_time": "2021-12-19T17:19:16.215Z"
   },
   {
    "duration": 5,
    "start_time": "2021-12-19T17:19:16.230Z"
   },
   {
    "duration": 7,
    "start_time": "2021-12-19T17:19:16.237Z"
   },
   {
    "duration": 737,
    "start_time": "2021-12-19T17:25:07.120Z"
   },
   {
    "duration": 34,
    "start_time": "2021-12-19T17:25:20.135Z"
   },
   {
    "duration": 9,
    "start_time": "2021-12-19T17:25:33.907Z"
   },
   {
    "duration": 19,
    "start_time": "2021-12-19T17:25:53.094Z"
   },
   {
    "duration": 25,
    "start_time": "2021-12-19T17:26:08.967Z"
   },
   {
    "duration": 371,
    "start_time": "2021-12-19T17:26:52.798Z"
   },
   {
    "duration": 334,
    "start_time": "2021-12-19T17:27:52.528Z"
   },
   {
    "duration": 380,
    "start_time": "2021-12-19T17:28:48.272Z"
   },
   {
    "duration": 116,
    "start_time": "2021-12-19T17:29:17.340Z"
   },
   {
    "duration": 439,
    "start_time": "2021-12-19T17:29:27.054Z"
   },
   {
    "duration": 352,
    "start_time": "2021-12-19T17:30:30.367Z"
   },
   {
    "duration": 8,
    "start_time": "2021-12-19T17:31:45.617Z"
   },
   {
    "duration": 396,
    "start_time": "2021-12-19T17:31:47.453Z"
   },
   {
    "duration": 60,
    "start_time": "2021-12-19T17:32:34.285Z"
   },
   {
    "duration": 388,
    "start_time": "2021-12-19T17:33:10.322Z"
   },
   {
    "duration": 17,
    "start_time": "2021-12-19T17:33:17.578Z"
   },
   {
    "duration": 2484,
    "start_time": "2021-12-19T17:33:53.821Z"
   },
   {
    "duration": 2450,
    "start_time": "2021-12-19T17:34:05.459Z"
   },
   {
    "duration": 63,
    "start_time": "2021-12-19T17:34:12.621Z"
   },
   {
    "duration": 720,
    "start_time": "2021-12-20T06:47:52.509Z"
   },
   {
    "duration": 537,
    "start_time": "2021-12-20T06:47:53.233Z"
   },
   {
    "duration": 30,
    "start_time": "2021-12-20T06:47:53.773Z"
   },
   {
    "duration": 22,
    "start_time": "2021-12-20T06:47:53.805Z"
   },
   {
    "duration": 49,
    "start_time": "2021-12-20T06:47:53.830Z"
   },
   {
    "duration": 13,
    "start_time": "2021-12-20T06:47:53.882Z"
   },
   {
    "duration": 26,
    "start_time": "2021-12-20T06:47:53.898Z"
   },
   {
    "duration": 10,
    "start_time": "2021-12-20T06:47:53.928Z"
   },
   {
    "duration": 10,
    "start_time": "2021-12-20T06:47:53.968Z"
   },
   {
    "duration": 15,
    "start_time": "2021-12-20T06:47:53.980Z"
   },
   {
    "duration": 9,
    "start_time": "2021-12-20T06:47:53.997Z"
   },
   {
    "duration": 22,
    "start_time": "2021-12-20T06:47:54.008Z"
   },
   {
    "duration": 6,
    "start_time": "2021-12-20T06:47:54.067Z"
   },
   {
    "duration": 46,
    "start_time": "2021-12-20T06:47:54.075Z"
   },
   {
    "duration": 116,
    "start_time": "2021-12-20T06:47:54.123Z"
   },
   {
    "duration": 29,
    "start_time": "2021-12-20T06:47:54.241Z"
   },
   {
    "duration": 75,
    "start_time": "2021-12-20T06:49:23.029Z"
   },
   {
    "duration": 16,
    "start_time": "2021-12-20T06:49:42.729Z"
   },
   {
    "duration": 24,
    "start_time": "2021-12-20T06:56:31.894Z"
   },
   {
    "duration": 20,
    "start_time": "2021-12-20T06:56:55.852Z"
   },
   {
    "duration": 16,
    "start_time": "2021-12-20T06:57:04.862Z"
   },
   {
    "duration": 17,
    "start_time": "2021-12-20T06:57:06.224Z"
   },
   {
    "duration": 2372,
    "start_time": "2021-12-20T06:59:53.753Z"
   },
   {
    "duration": 1023,
    "start_time": "2021-12-20T07:00:09.343Z"
   },
   {
    "duration": 525,
    "start_time": "2021-12-20T07:00:10.369Z"
   },
   {
    "duration": 31,
    "start_time": "2021-12-20T07:00:10.902Z"
   },
   {
    "duration": 31,
    "start_time": "2021-12-20T07:00:10.936Z"
   },
   {
    "duration": 24,
    "start_time": "2021-12-20T07:00:10.970Z"
   },
   {
    "duration": 13,
    "start_time": "2021-12-20T07:00:10.996Z"
   },
   {
    "duration": 19,
    "start_time": "2021-12-20T07:00:11.012Z"
   },
   {
    "duration": 11,
    "start_time": "2021-12-20T07:00:11.068Z"
   },
   {
    "duration": 10,
    "start_time": "2021-12-20T07:00:11.082Z"
   },
   {
    "duration": 12,
    "start_time": "2021-12-20T07:00:11.094Z"
   },
   {
    "duration": 9,
    "start_time": "2021-12-20T07:00:11.109Z"
   },
   {
    "duration": 61,
    "start_time": "2021-12-20T07:00:11.121Z"
   },
   {
    "duration": 8,
    "start_time": "2021-12-20T07:00:11.184Z"
   },
   {
    "duration": 152,
    "start_time": "2021-12-20T07:00:11.195Z"
   },
   {
    "duration": 27,
    "start_time": "2021-12-20T07:00:11.349Z"
   },
   {
    "duration": 89,
    "start_time": "2021-12-20T07:00:11.378Z"
   },
   {
    "duration": 16,
    "start_time": "2021-12-20T07:00:11.469Z"
   },
   {
    "duration": 12,
    "start_time": "2021-12-20T07:00:11.488Z"
   },
   {
    "duration": 128,
    "start_time": "2021-12-20T07:00:11.502Z"
   },
   {
    "duration": 60,
    "start_time": "2021-12-20T07:00:11.632Z"
   },
   {
    "duration": 15,
    "start_time": "2021-12-20T07:00:36.170Z"
   },
   {
    "duration": 103,
    "start_time": "2021-12-20T07:02:05.750Z"
   },
   {
    "duration": 791,
    "start_time": "2021-12-20T07:02:15.033Z"
   },
   {
    "duration": 550,
    "start_time": "2021-12-20T07:02:15.827Z"
   },
   {
    "duration": 30,
    "start_time": "2021-12-20T07:02:16.381Z"
   },
   {
    "duration": 24,
    "start_time": "2021-12-20T07:02:16.415Z"
   },
   {
    "duration": 47,
    "start_time": "2021-12-20T07:02:16.442Z"
   },
   {
    "duration": 14,
    "start_time": "2021-12-20T07:02:16.493Z"
   },
   {
    "duration": 22,
    "start_time": "2021-12-20T07:02:16.510Z"
   },
   {
    "duration": 12,
    "start_time": "2021-12-20T07:02:16.568Z"
   },
   {
    "duration": 13,
    "start_time": "2021-12-20T07:02:16.587Z"
   },
   {
    "duration": 21,
    "start_time": "2021-12-20T07:02:16.602Z"
   },
   {
    "duration": 43,
    "start_time": "2021-12-20T07:02:16.625Z"
   },
   {
    "duration": 33,
    "start_time": "2021-12-20T07:02:16.671Z"
   },
   {
    "duration": 13,
    "start_time": "2021-12-20T07:02:16.707Z"
   },
   {
    "duration": 143,
    "start_time": "2021-12-20T07:02:16.722Z"
   },
   {
    "duration": 22,
    "start_time": "2021-12-20T07:02:16.868Z"
   },
   {
    "duration": 95,
    "start_time": "2021-12-20T07:02:16.892Z"
   },
   {
    "duration": 17,
    "start_time": "2021-12-20T07:02:16.989Z"
   },
   {
    "duration": 23,
    "start_time": "2021-12-20T07:02:17.008Z"
   },
   {
    "duration": 116,
    "start_time": "2021-12-20T07:02:17.034Z"
   },
   {
    "duration": 61,
    "start_time": "2021-12-20T07:02:17.152Z"
   },
   {
    "duration": 682,
    "start_time": "2021-12-20T07:02:17.215Z"
   },
   {
    "duration": 903,
    "start_time": "2021-12-20T07:02:16.996Z"
   },
   {
    "duration": 749,
    "start_time": "2021-12-20T07:02:54.979Z"
   },
   {
    "duration": 697,
    "start_time": "2021-12-20T07:03:07.948Z"
   },
   {
    "duration": 98,
    "start_time": "2021-12-20T07:03:47.003Z"
   },
   {
    "duration": 744,
    "start_time": "2021-12-20T07:03:55.823Z"
   },
   {
    "duration": 14,
    "start_time": "2021-12-20T07:04:20.546Z"
   },
   {
    "duration": 6,
    "start_time": "2021-12-20T07:16:57.462Z"
   },
   {
    "duration": 134,
    "start_time": "2021-12-20T07:17:23.034Z"
   },
   {
    "duration": 743,
    "start_time": "2021-12-20T07:17:31.658Z"
   },
   {
    "duration": 747,
    "start_time": "2021-12-20T10:51:00.285Z"
   },
   {
    "duration": 524,
    "start_time": "2021-12-20T10:51:01.035Z"
   },
   {
    "duration": 29,
    "start_time": "2021-12-20T10:51:01.561Z"
   },
   {
    "duration": 24,
    "start_time": "2021-12-20T10:51:01.592Z"
   },
   {
    "duration": 25,
    "start_time": "2021-12-20T10:51:01.618Z"
   },
   {
    "duration": 12,
    "start_time": "2021-12-20T10:51:01.668Z"
   },
   {
    "duration": 24,
    "start_time": "2021-12-20T10:51:01.683Z"
   },
   {
    "duration": 22,
    "start_time": "2021-12-20T10:51:01.710Z"
   },
   {
    "duration": 42,
    "start_time": "2021-12-20T10:51:01.735Z"
   },
   {
    "duration": 28,
    "start_time": "2021-12-20T10:51:01.779Z"
   },
   {
    "duration": 26,
    "start_time": "2021-12-20T10:51:01.809Z"
   },
   {
    "duration": 36,
    "start_time": "2021-12-20T10:51:01.838Z"
   },
   {
    "duration": 40,
    "start_time": "2021-12-20T10:51:01.876Z"
   },
   {
    "duration": 162,
    "start_time": "2021-12-20T10:51:01.918Z"
   },
   {
    "duration": 23,
    "start_time": "2021-12-20T10:51:02.082Z"
   },
   {
    "duration": 93,
    "start_time": "2021-12-20T10:51:02.108Z"
   },
   {
    "duration": 17,
    "start_time": "2021-12-20T10:51:02.204Z"
   },
   {
    "duration": 24,
    "start_time": "2021-12-20T10:51:02.224Z"
   },
   {
    "duration": 106,
    "start_time": "2021-12-20T10:51:02.250Z"
   },
   {
    "duration": 57,
    "start_time": "2021-12-20T10:51:02.359Z"
   },
   {
    "duration": 909,
    "start_time": "2021-12-20T10:51:02.418Z"
   },
   {
    "duration": 921,
    "start_time": "2021-12-20T10:51:02.408Z"
   },
   {
    "duration": 698,
    "start_time": "2021-12-20T10:51:48.808Z"
   },
   {
    "duration": 5,
    "start_time": "2021-12-20T10:52:12.508Z"
   },
   {
    "duration": 7049,
    "start_time": "2021-12-20T10:56:17.064Z"
   },
   {
    "duration": 10,
    "start_time": "2021-12-20T10:56:44.895Z"
   },
   {
    "duration": 5,
    "start_time": "2021-12-20T10:57:37.796Z"
   },
   {
    "duration": 20,
    "start_time": "2021-12-20T10:58:02.252Z"
   },
   {
    "duration": 5,
    "start_time": "2021-12-20T10:58:16.780Z"
   },
   {
    "duration": 18,
    "start_time": "2021-12-20T10:58:19.037Z"
   },
   {
    "duration": 743,
    "start_time": "2021-12-20T10:58:25.490Z"
   },
   {
    "duration": 524,
    "start_time": "2021-12-20T10:58:26.235Z"
   },
   {
    "duration": 28,
    "start_time": "2021-12-20T10:58:26.762Z"
   },
   {
    "duration": 23,
    "start_time": "2021-12-20T10:58:26.792Z"
   },
   {
    "duration": 29,
    "start_time": "2021-12-20T10:58:26.818Z"
   },
   {
    "duration": 29,
    "start_time": "2021-12-20T10:58:26.850Z"
   },
   {
    "duration": 27,
    "start_time": "2021-12-20T10:58:26.882Z"
   },
   {
    "duration": 11,
    "start_time": "2021-12-20T10:58:26.914Z"
   },
   {
    "duration": 41,
    "start_time": "2021-12-20T10:58:26.928Z"
   },
   {
    "duration": 15,
    "start_time": "2021-12-20T10:58:26.972Z"
   },
   {
    "duration": 14,
    "start_time": "2021-12-20T10:58:26.989Z"
   },
   {
    "duration": 22,
    "start_time": "2021-12-20T10:58:27.005Z"
   },
   {
    "duration": 8,
    "start_time": "2021-12-20T10:58:27.029Z"
   },
   {
    "duration": 146,
    "start_time": "2021-12-20T10:58:27.069Z"
   },
   {
    "duration": 19,
    "start_time": "2021-12-20T10:58:27.217Z"
   },
   {
    "duration": 95,
    "start_time": "2021-12-20T10:58:27.238Z"
   },
   {
    "duration": 32,
    "start_time": "2021-12-20T10:58:27.335Z"
   },
   {
    "duration": 13,
    "start_time": "2021-12-20T10:58:27.370Z"
   },
   {
    "duration": 114,
    "start_time": "2021-12-20T10:58:27.386Z"
   },
   {
    "duration": 66,
    "start_time": "2021-12-20T10:58:27.502Z"
   },
   {
    "duration": 10,
    "start_time": "2021-12-20T10:58:27.571Z"
   },
   {
    "duration": 18,
    "start_time": "2021-12-20T10:58:27.583Z"
   },
   {
    "duration": 78,
    "start_time": "2021-12-20T11:04:20.347Z"
   },
   {
    "duration": 44,
    "start_time": "2021-12-20T11:05:53.257Z"
   },
   {
    "duration": 16,
    "start_time": "2021-12-20T11:06:31.871Z"
   },
   {
    "duration": 413,
    "start_time": "2021-12-20T11:16:18.761Z"
   },
   {
    "duration": 739,
    "start_time": "2021-12-20T11:16:44.502Z"
   },
   {
    "duration": 554,
    "start_time": "2021-12-20T11:16:45.244Z"
   },
   {
    "duration": 28,
    "start_time": "2021-12-20T11:16:45.801Z"
   },
   {
    "duration": 23,
    "start_time": "2021-12-20T11:16:45.833Z"
   },
   {
    "duration": 27,
    "start_time": "2021-12-20T11:16:45.858Z"
   },
   {
    "duration": 15,
    "start_time": "2021-12-20T11:16:45.887Z"
   },
   {
    "duration": 23,
    "start_time": "2021-12-20T11:16:45.904Z"
   },
   {
    "duration": 38,
    "start_time": "2021-12-20T11:16:45.932Z"
   },
   {
    "duration": 13,
    "start_time": "2021-12-20T11:16:45.974Z"
   },
   {
    "duration": 20,
    "start_time": "2021-12-20T11:16:45.990Z"
   },
   {
    "duration": 14,
    "start_time": "2021-12-20T11:16:46.013Z"
   },
   {
    "duration": 51,
    "start_time": "2021-12-20T11:16:46.030Z"
   },
   {
    "duration": 8,
    "start_time": "2021-12-20T11:16:46.084Z"
   },
   {
    "duration": 169,
    "start_time": "2021-12-20T11:16:46.094Z"
   },
   {
    "duration": 21,
    "start_time": "2021-12-20T11:16:46.266Z"
   },
   {
    "duration": 96,
    "start_time": "2021-12-20T11:16:46.289Z"
   },
   {
    "duration": 16,
    "start_time": "2021-12-20T11:16:46.388Z"
   },
   {
    "duration": 14,
    "start_time": "2021-12-20T11:16:46.407Z"
   },
   {
    "duration": 123,
    "start_time": "2021-12-20T11:16:46.423Z"
   },
   {
    "duration": 64,
    "start_time": "2021-12-20T11:16:46.548Z"
   },
   {
    "duration": 10,
    "start_time": "2021-12-20T11:16:46.614Z"
   },
   {
    "duration": 41,
    "start_time": "2021-12-20T11:16:46.626Z"
   },
   {
    "duration": 95,
    "start_time": "2021-12-20T11:16:46.672Z"
   },
   {
    "duration": 41,
    "start_time": "2021-12-20T11:16:46.770Z"
   },
   {
    "duration": 17,
    "start_time": "2021-12-20T11:16:46.813Z"
   },
   {
    "duration": 978,
    "start_time": "2021-12-20T11:16:46.832Z"
   },
   {
    "duration": 15,
    "start_time": "2021-12-20T11:17:04.578Z"
   },
   {
    "duration": 291,
    "start_time": "2021-12-20T11:18:02.670Z"
   },
   {
    "duration": 323,
    "start_time": "2021-12-20T11:18:52.781Z"
   },
   {
    "duration": 13,
    "start_time": "2021-12-20T11:19:18.969Z"
   },
   {
    "duration": 280,
    "start_time": "2021-12-20T11:19:27.454Z"
   },
   {
    "duration": 785,
    "start_time": "2021-12-20T11:19:37.883Z"
   },
   {
    "duration": 559,
    "start_time": "2021-12-20T11:19:38.670Z"
   },
   {
    "duration": 34,
    "start_time": "2021-12-20T11:19:39.233Z"
   },
   {
    "duration": 24,
    "start_time": "2021-12-20T11:19:39.271Z"
   },
   {
    "duration": 27,
    "start_time": "2021-12-20T11:19:39.297Z"
   },
   {
    "duration": 41,
    "start_time": "2021-12-20T11:19:39.326Z"
   },
   {
    "duration": 20,
    "start_time": "2021-12-20T11:19:39.370Z"
   },
   {
    "duration": 14,
    "start_time": "2021-12-20T11:19:39.393Z"
   },
   {
    "duration": 14,
    "start_time": "2021-12-20T11:19:39.411Z"
   },
   {
    "duration": 45,
    "start_time": "2021-12-20T11:19:39.428Z"
   },
   {
    "duration": 10,
    "start_time": "2021-12-20T11:19:39.475Z"
   },
   {
    "duration": 23,
    "start_time": "2021-12-20T11:19:39.487Z"
   },
   {
    "duration": 16,
    "start_time": "2021-12-20T11:19:39.513Z"
   },
   {
    "duration": 179,
    "start_time": "2021-12-20T11:19:39.531Z"
   },
   {
    "duration": 20,
    "start_time": "2021-12-20T11:19:39.713Z"
   },
   {
    "duration": 94,
    "start_time": "2021-12-20T11:19:39.736Z"
   },
   {
    "duration": 16,
    "start_time": "2021-12-20T11:19:39.833Z"
   },
   {
    "duration": 13,
    "start_time": "2021-12-20T11:19:39.867Z"
   },
   {
    "duration": 108,
    "start_time": "2021-12-20T11:19:39.883Z"
   },
   {
    "duration": 55,
    "start_time": "2021-12-20T11:19:39.993Z"
   },
   {
    "duration": 25,
    "start_time": "2021-12-20T11:19:40.050Z"
   },
   {
    "duration": 22,
    "start_time": "2021-12-20T11:19:40.078Z"
   },
   {
    "duration": 99,
    "start_time": "2021-12-20T11:19:40.103Z"
   },
   {
    "duration": 43,
    "start_time": "2021-12-20T11:19:40.204Z"
   },
   {
    "duration": 33,
    "start_time": "2021-12-20T11:19:40.249Z"
   },
   {
    "duration": 18,
    "start_time": "2021-12-20T11:19:40.285Z"
   },
   {
    "duration": 392,
    "start_time": "2021-12-20T11:19:40.308Z"
   },
   {
    "duration": 11,
    "start_time": "2021-12-20T11:20:00.587Z"
   },
   {
    "duration": 5,
    "start_time": "2021-12-20T11:21:44.839Z"
   },
   {
    "duration": 728,
    "start_time": "2021-12-20T11:21:52.300Z"
   },
   {
    "duration": 547,
    "start_time": "2021-12-20T11:21:53.031Z"
   },
   {
    "duration": 29,
    "start_time": "2021-12-20T11:21:53.582Z"
   },
   {
    "duration": 25,
    "start_time": "2021-12-20T11:21:53.614Z"
   },
   {
    "duration": 40,
    "start_time": "2021-12-20T11:21:53.642Z"
   },
   {
    "duration": 14,
    "start_time": "2021-12-20T11:21:53.684Z"
   },
   {
    "duration": 26,
    "start_time": "2021-12-20T11:21:53.700Z"
   },
   {
    "duration": 41,
    "start_time": "2021-12-20T11:21:53.728Z"
   },
   {
    "duration": 28,
    "start_time": "2021-12-20T11:21:53.774Z"
   },
   {
    "duration": 14,
    "start_time": "2021-12-20T11:21:53.805Z"
   },
   {
    "duration": 13,
    "start_time": "2021-12-20T11:21:53.821Z"
   },
   {
    "duration": 34,
    "start_time": "2021-12-20T11:21:53.836Z"
   },
   {
    "duration": 6,
    "start_time": "2021-12-20T11:21:53.873Z"
   },
   {
    "duration": 150,
    "start_time": "2021-12-20T11:21:53.881Z"
   },
   {
    "duration": 21,
    "start_time": "2021-12-20T11:21:54.034Z"
   },
   {
    "duration": 72,
    "start_time": "2021-12-20T11:21:54.068Z"
   },
   {
    "duration": 34,
    "start_time": "2021-12-20T11:21:54.143Z"
   },
   {
    "duration": 22,
    "start_time": "2021-12-20T11:21:54.180Z"
   },
   {
    "duration": 120,
    "start_time": "2021-12-20T11:21:54.205Z"
   },
   {
    "duration": 72,
    "start_time": "2021-12-20T11:21:54.328Z"
   },
   {
    "duration": 10,
    "start_time": "2021-12-20T11:21:54.403Z"
   },
   {
    "duration": 16,
    "start_time": "2021-12-20T11:21:54.416Z"
   },
   {
    "duration": 107,
    "start_time": "2021-12-20T11:21:54.435Z"
   },
   {
    "duration": 51,
    "start_time": "2021-12-20T11:21:54.545Z"
   },
   {
    "duration": 17,
    "start_time": "2021-12-20T11:21:54.599Z"
   },
   {
    "duration": 13,
    "start_time": "2021-12-20T11:21:54.619Z"
   },
   {
    "duration": 38,
    "start_time": "2021-12-20T11:21:54.636Z"
   },
   {
    "duration": 532,
    "start_time": "2021-12-20T11:21:54.677Z"
   },
   {
    "duration": 10,
    "start_time": "2021-12-20T11:22:56.233Z"
   },
   {
    "duration": 284,
    "start_time": "2021-12-20T11:23:16.977Z"
   },
   {
    "duration": 369,
    "start_time": "2021-12-20T11:23:26.801Z"
   },
   {
    "duration": 11,
    "start_time": "2021-12-20T11:23:43.373Z"
   },
   {
    "duration": 712,
    "start_time": "2021-12-20T11:24:38.516Z"
   },
   {
    "duration": 537,
    "start_time": "2021-12-20T11:24:39.231Z"
   },
   {
    "duration": 29,
    "start_time": "2021-12-20T11:24:39.771Z"
   },
   {
    "duration": 24,
    "start_time": "2021-12-20T11:24:39.802Z"
   },
   {
    "duration": 57,
    "start_time": "2021-12-20T11:24:39.828Z"
   },
   {
    "duration": 13,
    "start_time": "2021-12-20T11:24:39.889Z"
   },
   {
    "duration": 26,
    "start_time": "2021-12-20T11:24:39.905Z"
   },
   {
    "duration": 41,
    "start_time": "2021-12-20T11:24:39.934Z"
   },
   {
    "duration": 12,
    "start_time": "2021-12-20T11:24:39.977Z"
   },
   {
    "duration": 15,
    "start_time": "2021-12-20T11:24:39.991Z"
   },
   {
    "duration": 24,
    "start_time": "2021-12-20T11:24:40.008Z"
   },
   {
    "duration": 40,
    "start_time": "2021-12-20T11:24:40.035Z"
   },
   {
    "duration": 11,
    "start_time": "2021-12-20T11:24:40.077Z"
   },
   {
    "duration": 158,
    "start_time": "2021-12-20T11:24:40.091Z"
   },
   {
    "duration": 26,
    "start_time": "2021-12-20T11:24:40.252Z"
   },
   {
    "duration": 91,
    "start_time": "2021-12-20T11:24:40.280Z"
   },
   {
    "duration": 17,
    "start_time": "2021-12-20T11:24:40.375Z"
   },
   {
    "duration": 22,
    "start_time": "2021-12-20T11:24:40.399Z"
   },
   {
    "duration": 121,
    "start_time": "2021-12-20T11:24:40.424Z"
   },
   {
    "duration": 63,
    "start_time": "2021-12-20T11:24:40.548Z"
   },
   {
    "duration": 9,
    "start_time": "2021-12-20T11:24:40.614Z"
   },
   {
    "duration": 15,
    "start_time": "2021-12-20T11:24:40.626Z"
   },
   {
    "duration": 98,
    "start_time": "2021-12-20T11:24:40.643Z"
   },
   {
    "duration": 52,
    "start_time": "2021-12-20T11:24:40.744Z"
   },
   {
    "duration": 9,
    "start_time": "2021-12-20T11:24:40.798Z"
   },
   {
    "duration": 27,
    "start_time": "2021-12-20T11:24:40.810Z"
   },
   {
    "duration": 36,
    "start_time": "2021-12-20T11:24:40.839Z"
   },
   {
    "duration": 16,
    "start_time": "2021-12-20T11:24:40.878Z"
   },
   {
    "duration": 364,
    "start_time": "2021-12-20T11:24:40.896Z"
   },
   {
    "duration": 987,
    "start_time": "2021-12-20T11:27:47.747Z"
   },
   {
    "duration": 546,
    "start_time": "2021-12-20T11:27:48.737Z"
   },
   {
    "duration": 28,
    "start_time": "2021-12-20T11:27:49.287Z"
   },
   {
    "duration": 23,
    "start_time": "2021-12-20T11:27:49.318Z"
   },
   {
    "duration": 36,
    "start_time": "2021-12-20T11:27:49.343Z"
   },
   {
    "duration": 12,
    "start_time": "2021-12-20T11:27:49.382Z"
   },
   {
    "duration": 21,
    "start_time": "2021-12-20T11:27:49.397Z"
   },
   {
    "duration": 10,
    "start_time": "2021-12-20T11:27:49.421Z"
   },
   {
    "duration": 9,
    "start_time": "2021-12-20T11:27:49.469Z"
   },
   {
    "duration": 16,
    "start_time": "2021-12-20T11:27:49.481Z"
   },
   {
    "duration": 16,
    "start_time": "2021-12-20T11:27:49.500Z"
   },
   {
    "duration": 49,
    "start_time": "2021-12-20T11:27:49.518Z"
   },
   {
    "duration": 5,
    "start_time": "2021-12-20T11:27:49.570Z"
   },
   {
    "duration": 153,
    "start_time": "2021-12-20T11:27:49.577Z"
   },
   {
    "duration": 23,
    "start_time": "2021-12-20T11:27:49.732Z"
   },
   {
    "duration": 75,
    "start_time": "2021-12-20T11:27:49.768Z"
   },
   {
    "duration": 32,
    "start_time": "2021-12-20T11:27:49.846Z"
   },
   {
    "duration": 23,
    "start_time": "2021-12-20T11:27:49.881Z"
   },
   {
    "duration": 117,
    "start_time": "2021-12-20T11:27:49.906Z"
   },
   {
    "duration": 66,
    "start_time": "2021-12-20T11:27:50.025Z"
   },
   {
    "duration": 9,
    "start_time": "2021-12-20T11:27:50.094Z"
   },
   {
    "duration": 14,
    "start_time": "2021-12-20T11:27:50.106Z"
   },
   {
    "duration": 99,
    "start_time": "2021-12-20T11:27:50.123Z"
   },
   {
    "duration": 48,
    "start_time": "2021-12-20T11:27:50.225Z"
   },
   {
    "duration": 9,
    "start_time": "2021-12-20T11:27:50.275Z"
   },
   {
    "duration": 17,
    "start_time": "2021-12-20T11:27:50.287Z"
   },
   {
    "duration": 13,
    "start_time": "2021-12-20T11:27:50.309Z"
   },
   {
    "duration": 42,
    "start_time": "2021-12-20T11:27:50.325Z"
   },
   {
    "duration": 460,
    "start_time": "2021-12-20T11:27:50.369Z"
   },
   {
    "duration": 12,
    "start_time": "2021-12-20T11:28:26.963Z"
   },
   {
    "duration": 9,
    "start_time": "2021-12-20T11:28:35.331Z"
   },
   {
    "duration": 5,
    "start_time": "2021-12-20T11:31:03.322Z"
   },
   {
    "duration": 9,
    "start_time": "2021-12-20T11:31:04.894Z"
   },
   {
    "duration": 17,
    "start_time": "2021-12-20T11:31:05.890Z"
   },
   {
    "duration": 14,
    "start_time": "2021-12-20T11:31:11.238Z"
   },
   {
    "duration": 10,
    "start_time": "2021-12-20T11:31:12.498Z"
   },
   {
    "duration": 15,
    "start_time": "2021-12-20T11:31:13.282Z"
   },
   {
    "duration": 10,
    "start_time": "2021-12-20T11:31:15.242Z"
   },
   {
    "duration": 272,
    "start_time": "2021-12-20T11:35:20.845Z"
   },
   {
    "duration": 298,
    "start_time": "2021-12-20T11:35:31.426Z"
   },
   {
    "duration": 802,
    "start_time": "2021-12-20T11:37:48.671Z"
   },
   {
    "duration": 540,
    "start_time": "2021-12-20T11:37:49.475Z"
   },
   {
    "duration": 28,
    "start_time": "2021-12-20T11:37:50.018Z"
   },
   {
    "duration": 23,
    "start_time": "2021-12-20T11:37:50.048Z"
   },
   {
    "duration": 27,
    "start_time": "2021-12-20T11:37:50.074Z"
   },
   {
    "duration": 13,
    "start_time": "2021-12-20T11:37:50.103Z"
   },
   {
    "duration": 50,
    "start_time": "2021-12-20T11:37:50.118Z"
   },
   {
    "duration": 12,
    "start_time": "2021-12-20T11:37:50.171Z"
   },
   {
    "duration": 16,
    "start_time": "2021-12-20T11:37:50.186Z"
   },
   {
    "duration": 42,
    "start_time": "2021-12-20T11:37:50.205Z"
   },
   {
    "duration": 14,
    "start_time": "2021-12-20T11:37:50.250Z"
   },
   {
    "duration": 29,
    "start_time": "2021-12-20T11:37:50.266Z"
   },
   {
    "duration": 10,
    "start_time": "2021-12-20T11:37:50.297Z"
   },
   {
    "duration": 141,
    "start_time": "2021-12-20T11:37:50.309Z"
   },
   {
    "duration": 27,
    "start_time": "2021-12-20T11:37:50.453Z"
   },
   {
    "duration": 94,
    "start_time": "2021-12-20T11:37:50.483Z"
   },
   {
    "duration": 16,
    "start_time": "2021-12-20T11:37:50.579Z"
   },
   {
    "duration": 18,
    "start_time": "2021-12-20T11:37:50.598Z"
   },
   {
    "duration": 118,
    "start_time": "2021-12-20T11:37:50.619Z"
   },
   {
    "duration": 63,
    "start_time": "2021-12-20T11:37:50.739Z"
   },
   {
    "duration": 9,
    "start_time": "2021-12-20T11:37:50.805Z"
   },
   {
    "duration": 27,
    "start_time": "2021-12-20T11:37:50.816Z"
   },
   {
    "duration": 101,
    "start_time": "2021-12-20T11:37:50.848Z"
   },
   {
    "duration": 43,
    "start_time": "2021-12-20T11:37:50.952Z"
   },
   {
    "duration": 7,
    "start_time": "2021-12-20T11:37:50.997Z"
   },
   {
    "duration": 13,
    "start_time": "2021-12-20T11:37:51.007Z"
   },
   {
    "duration": 23,
    "start_time": "2021-12-20T11:37:51.023Z"
   },
   {
    "duration": 39,
    "start_time": "2021-12-20T11:37:51.048Z"
   },
   {
    "duration": 12,
    "start_time": "2021-12-20T11:37:51.090Z"
   },
   {
    "duration": 13,
    "start_time": "2021-12-20T11:37:51.104Z"
   },
   {
    "duration": 9,
    "start_time": "2021-12-20T11:37:51.120Z"
   },
   {
    "duration": 6,
    "start_time": "2021-12-20T11:37:51.167Z"
   },
   {
    "duration": 12,
    "start_time": "2021-12-20T11:37:51.175Z"
   },
   {
    "duration": 11,
    "start_time": "2021-12-20T11:39:32.876Z"
   },
   {
    "duration": 42,
    "start_time": "2021-12-20T11:40:02.896Z"
   },
   {
    "duration": 729,
    "start_time": "2021-12-20T11:54:36.094Z"
   },
   {
    "duration": 541,
    "start_time": "2021-12-20T11:54:36.826Z"
   },
   {
    "duration": 28,
    "start_time": "2021-12-20T11:54:37.370Z"
   },
   {
    "duration": 23,
    "start_time": "2021-12-20T11:54:37.401Z"
   },
   {
    "duration": 53,
    "start_time": "2021-12-20T11:54:37.426Z"
   },
   {
    "duration": 14,
    "start_time": "2021-12-20T11:54:37.481Z"
   },
   {
    "duration": 23,
    "start_time": "2021-12-20T11:54:37.498Z"
   },
   {
    "duration": 43,
    "start_time": "2021-12-20T11:54:37.524Z"
   },
   {
    "duration": 9,
    "start_time": "2021-12-20T11:54:37.572Z"
   },
   {
    "duration": 20,
    "start_time": "2021-12-20T11:54:37.584Z"
   },
   {
    "duration": 15,
    "start_time": "2021-12-20T11:54:37.607Z"
   },
   {
    "duration": 46,
    "start_time": "2021-12-20T11:54:37.624Z"
   },
   {
    "duration": 8,
    "start_time": "2021-12-20T11:54:37.672Z"
   },
   {
    "duration": 150,
    "start_time": "2021-12-20T11:54:37.682Z"
   },
   {
    "duration": 34,
    "start_time": "2021-12-20T11:54:37.835Z"
   },
   {
    "duration": 72,
    "start_time": "2021-12-20T11:54:37.871Z"
   },
   {
    "duration": 32,
    "start_time": "2021-12-20T11:54:37.946Z"
   },
   {
    "duration": 16,
    "start_time": "2021-12-20T11:54:37.981Z"
   },
   {
    "duration": 120,
    "start_time": "2021-12-20T11:54:38.000Z"
   },
   {
    "duration": 65,
    "start_time": "2021-12-20T11:54:38.123Z"
   },
   {
    "duration": 11,
    "start_time": "2021-12-20T11:54:38.191Z"
   },
   {
    "duration": 16,
    "start_time": "2021-12-20T11:54:38.204Z"
   },
   {
    "duration": 105,
    "start_time": "2021-12-20T11:54:38.223Z"
   },
   {
    "duration": 55,
    "start_time": "2021-12-20T11:54:38.331Z"
   },
   {
    "duration": 6,
    "start_time": "2021-12-20T11:54:38.388Z"
   },
   {
    "duration": 18,
    "start_time": "2021-12-20T11:54:38.396Z"
   },
   {
    "duration": 17,
    "start_time": "2021-12-20T11:54:38.419Z"
   },
   {
    "duration": 38,
    "start_time": "2021-12-20T11:54:38.438Z"
   },
   {
    "duration": 16,
    "start_time": "2021-12-20T11:54:38.479Z"
   },
   {
    "duration": 13,
    "start_time": "2021-12-20T11:54:38.498Z"
   },
   {
    "duration": 21,
    "start_time": "2021-12-20T11:54:38.514Z"
   },
   {
    "duration": 5,
    "start_time": "2021-12-20T11:54:38.538Z"
   },
   {
    "duration": 5,
    "start_time": "2021-12-20T11:54:38.569Z"
   },
   {
    "duration": 14,
    "start_time": "2021-12-20T11:54:38.576Z"
   },
   {
    "duration": 12,
    "start_time": "2021-12-20T11:54:38.593Z"
   },
   {
    "duration": 67,
    "start_time": "2021-12-20T11:54:38.608Z"
   },
   {
    "duration": 373,
    "start_time": "2021-12-20T12:11:37.724Z"
   },
   {
    "duration": 14,
    "start_time": "2021-12-20T12:12:04.991Z"
   },
   {
    "duration": 41,
    "start_time": "2021-12-20T12:12:30.664Z"
   },
   {
    "duration": 8,
    "start_time": "2021-12-20T12:14:17.583Z"
   },
   {
    "duration": 41,
    "start_time": "2021-12-20T12:14:18.723Z"
   },
   {
    "duration": 5,
    "start_time": "2021-12-20T12:14:47.839Z"
   },
   {
    "duration": 38,
    "start_time": "2021-12-20T12:14:50.387Z"
   },
   {
    "duration": 741,
    "start_time": "2021-12-20T12:16:48.301Z"
   },
   {
    "duration": 563,
    "start_time": "2021-12-20T12:16:49.045Z"
   },
   {
    "duration": 29,
    "start_time": "2021-12-20T12:16:49.614Z"
   },
   {
    "duration": 22,
    "start_time": "2021-12-20T12:16:49.646Z"
   },
   {
    "duration": 27,
    "start_time": "2021-12-20T12:16:49.671Z"
   },
   {
    "duration": 13,
    "start_time": "2021-12-20T12:16:49.701Z"
   },
   {
    "duration": 26,
    "start_time": "2021-12-20T12:16:49.719Z"
   },
   {
    "duration": 11,
    "start_time": "2021-12-20T12:16:49.769Z"
   },
   {
    "duration": 13,
    "start_time": "2021-12-20T12:16:49.782Z"
   },
   {
    "duration": 21,
    "start_time": "2021-12-20T12:16:49.797Z"
   },
   {
    "duration": 16,
    "start_time": "2021-12-20T12:16:49.820Z"
   },
   {
    "duration": 46,
    "start_time": "2021-12-20T12:16:49.838Z"
   },
   {
    "duration": 9,
    "start_time": "2021-12-20T12:16:49.886Z"
   },
   {
    "duration": 163,
    "start_time": "2021-12-20T12:16:49.897Z"
   },
   {
    "duration": 23,
    "start_time": "2021-12-20T12:16:50.062Z"
   },
   {
    "duration": 99,
    "start_time": "2021-12-20T12:16:50.087Z"
   },
   {
    "duration": 15,
    "start_time": "2021-12-20T12:16:50.188Z"
   },
   {
    "duration": 19,
    "start_time": "2021-12-20T12:16:50.206Z"
   },
   {
    "duration": 122,
    "start_time": "2021-12-20T12:16:50.227Z"
   },
   {
    "duration": 57,
    "start_time": "2021-12-20T12:16:50.351Z"
   },
   {
    "duration": 9,
    "start_time": "2021-12-20T12:16:50.411Z"
   },
   {
    "duration": 17,
    "start_time": "2021-12-20T12:16:50.425Z"
   },
   {
    "duration": 92,
    "start_time": "2021-12-20T12:16:50.444Z"
   },
   {
    "duration": 55,
    "start_time": "2021-12-20T12:16:50.539Z"
   },
   {
    "duration": 6,
    "start_time": "2021-12-20T12:16:50.597Z"
   },
   {
    "duration": 15,
    "start_time": "2021-12-20T12:16:50.605Z"
   },
   {
    "duration": 41,
    "start_time": "2021-12-20T12:16:50.622Z"
   },
   {
    "duration": 22,
    "start_time": "2021-12-20T12:16:50.667Z"
   },
   {
    "duration": 10,
    "start_time": "2021-12-20T12:16:50.691Z"
   },
   {
    "duration": 18,
    "start_time": "2021-12-20T12:16:50.704Z"
   },
   {
    "duration": 5,
    "start_time": "2021-12-20T12:16:50.725Z"
   },
   {
    "duration": 41,
    "start_time": "2021-12-20T12:16:50.733Z"
   },
   {
    "duration": 9,
    "start_time": "2021-12-20T12:16:50.777Z"
   },
   {
    "duration": 17,
    "start_time": "2021-12-20T12:16:50.788Z"
   },
   {
    "duration": 14,
    "start_time": "2021-12-20T12:16:50.808Z"
   },
   {
    "duration": 16,
    "start_time": "2021-12-20T12:16:50.824Z"
   },
   {
    "duration": 73,
    "start_time": "2021-12-20T12:16:50.842Z"
   },
   {
    "duration": 7,
    "start_time": "2021-12-20T12:16:50.917Z"
   },
   {
    "duration": 64,
    "start_time": "2021-12-20T12:16:50.927Z"
   },
   {
    "duration": 8,
    "start_time": "2021-12-20T12:25:13.048Z"
   },
   {
    "duration": 42,
    "start_time": "2021-12-20T12:25:15.772Z"
   },
   {
    "duration": 12,
    "start_time": "2021-12-20T12:29:17.656Z"
   },
   {
    "duration": 877,
    "start_time": "2021-12-20T12:29:52.846Z"
   },
   {
    "duration": 568,
    "start_time": "2021-12-20T12:29:53.726Z"
   },
   {
    "duration": 29,
    "start_time": "2021-12-20T12:29:54.297Z"
   },
   {
    "duration": 25,
    "start_time": "2021-12-20T12:29:54.328Z"
   },
   {
    "duration": 31,
    "start_time": "2021-12-20T12:29:54.355Z"
   },
   {
    "duration": 16,
    "start_time": "2021-12-20T12:29:54.388Z"
   },
   {
    "duration": 25,
    "start_time": "2021-12-20T12:29:54.406Z"
   },
   {
    "duration": 41,
    "start_time": "2021-12-20T12:29:54.437Z"
   },
   {
    "duration": 12,
    "start_time": "2021-12-20T12:29:54.482Z"
   },
   {
    "duration": 18,
    "start_time": "2021-12-20T12:29:54.497Z"
   },
   {
    "duration": 52,
    "start_time": "2021-12-20T12:29:54.518Z"
   },
   {
    "duration": 26,
    "start_time": "2021-12-20T12:29:54.573Z"
   },
   {
    "duration": 9,
    "start_time": "2021-12-20T12:29:54.602Z"
   },
   {
    "duration": 154,
    "start_time": "2021-12-20T12:29:54.613Z"
   },
   {
    "duration": 22,
    "start_time": "2021-12-20T12:29:54.770Z"
   },
   {
    "duration": 98,
    "start_time": "2021-12-20T12:29:54.795Z"
   },
   {
    "duration": 16,
    "start_time": "2021-12-20T12:29:54.895Z"
   },
   {
    "duration": 15,
    "start_time": "2021-12-20T12:29:54.914Z"
   },
   {
    "duration": 129,
    "start_time": "2021-12-20T12:29:54.932Z"
   },
   {
    "duration": 56,
    "start_time": "2021-12-20T12:29:55.067Z"
   },
   {
    "duration": 12,
    "start_time": "2021-12-20T12:29:55.125Z"
   },
   {
    "duration": 36,
    "start_time": "2021-12-20T12:29:55.139Z"
   },
   {
    "duration": 117,
    "start_time": "2021-12-20T12:29:55.183Z"
   },
   {
    "duration": 42,
    "start_time": "2021-12-20T12:29:55.303Z"
   },
   {
    "duration": 81,
    "start_time": "2021-12-20T12:29:55.348Z"
   },
   {
    "duration": 59,
    "start_time": "2021-12-20T12:29:55.432Z"
   },
   {
    "duration": 45,
    "start_time": "2021-12-20T12:29:55.493Z"
   },
   {
    "duration": 93,
    "start_time": "2021-12-20T12:29:55.540Z"
   },
   {
    "duration": 54,
    "start_time": "2021-12-20T12:29:55.636Z"
   },
   {
    "duration": 78,
    "start_time": "2021-12-20T12:29:55.694Z"
   },
   {
    "duration": 41,
    "start_time": "2021-12-20T12:29:55.775Z"
   },
   {
    "duration": 28,
    "start_time": "2021-12-20T12:29:55.818Z"
   },
   {
    "duration": 5,
    "start_time": "2021-12-20T12:29:55.848Z"
   },
   {
    "duration": 20,
    "start_time": "2021-12-20T12:29:55.855Z"
   },
   {
    "duration": 22,
    "start_time": "2021-12-20T12:29:55.878Z"
   },
   {
    "duration": 24,
    "start_time": "2021-12-20T12:29:55.903Z"
   },
   {
    "duration": 40,
    "start_time": "2021-12-20T12:29:55.929Z"
   },
   {
    "duration": 14,
    "start_time": "2021-12-20T12:29:55.971Z"
   },
   {
    "duration": 48,
    "start_time": "2021-12-20T12:29:55.987Z"
   },
   {
    "duration": 363,
    "start_time": "2021-12-20T12:41:27.242Z"
   },
   {
    "duration": 22,
    "start_time": "2021-12-20T12:42:09.687Z"
   },
   {
    "duration": 25,
    "start_time": "2021-12-20T12:47:12.264Z"
   },
   {
    "duration": 19,
    "start_time": "2021-12-20T12:47:24.010Z"
   },
   {
    "duration": 21,
    "start_time": "2021-12-20T12:47:51.382Z"
   },
   {
    "duration": 19,
    "start_time": "2021-12-20T12:54:07.001Z"
   },
   {
    "duration": 341,
    "start_time": "2021-12-20T15:11:58.541Z"
   },
   {
    "duration": 754,
    "start_time": "2021-12-20T15:12:07.913Z"
   },
   {
    "duration": 999,
    "start_time": "2021-12-20T15:12:23.168Z"
   },
   {
    "duration": 959,
    "start_time": "2021-12-20T15:12:42.601Z"
   },
   {
    "duration": 934,
    "start_time": "2021-12-20T15:13:06.835Z"
   },
   {
    "duration": 571,
    "start_time": "2021-12-20T15:13:07.773Z"
   },
   {
    "duration": 145,
    "start_time": "2021-12-20T15:13:08.347Z"
   },
   {
    "duration": 242,
    "start_time": "2021-12-20T15:13:08.496Z"
   },
   {
    "duration": 330,
    "start_time": "2021-12-20T15:13:08.741Z"
   },
   {
    "duration": 274,
    "start_time": "2021-12-20T15:13:09.074Z"
   },
   {
    "duration": 333,
    "start_time": "2021-12-20T15:13:09.351Z"
   },
   {
    "duration": 267,
    "start_time": "2021-12-20T15:13:09.689Z"
   },
   {
    "duration": 328,
    "start_time": "2021-12-20T15:13:09.959Z"
   },
   {
    "duration": 329,
    "start_time": "2021-12-20T15:13:10.290Z"
   },
   {
    "duration": 352,
    "start_time": "2021-12-20T15:13:10.621Z"
   },
   {
    "duration": 477,
    "start_time": "2021-12-20T15:13:10.976Z"
   },
   {
    "duration": 274,
    "start_time": "2021-12-20T15:13:11.455Z"
   },
   {
    "duration": 399,
    "start_time": "2021-12-20T15:13:11.732Z"
   },
   {
    "duration": 199,
    "start_time": "2021-12-20T15:13:12.134Z"
   },
   {
    "duration": 670,
    "start_time": "2021-12-20T15:13:12.336Z"
   },
   {
    "duration": 596,
    "start_time": "2021-12-20T15:13:13.009Z"
   },
   {
    "duration": 225,
    "start_time": "2021-12-20T15:13:13.607Z"
   },
   {
    "duration": 379,
    "start_time": "2021-12-20T15:13:13.835Z"
   },
   {
    "duration": 248,
    "start_time": "2021-12-20T15:13:14.216Z"
   },
   {
    "duration": 358,
    "start_time": "2021-12-20T15:13:14.467Z"
   },
   {
    "duration": 244,
    "start_time": "2021-12-20T15:13:14.828Z"
   },
   {
    "duration": 330,
    "start_time": "2021-12-20T15:13:15.079Z"
   },
   {
    "duration": 244,
    "start_time": "2021-12-20T15:13:15.413Z"
   },
   {
    "duration": 389,
    "start_time": "2021-12-20T15:13:15.660Z"
   },
   {
    "duration": 552,
    "start_time": "2021-12-20T15:13:16.051Z"
   },
   {
    "duration": 365,
    "start_time": "2021-12-20T15:13:16.606Z"
   },
   {
    "duration": 254,
    "start_time": "2021-12-20T15:13:16.974Z"
   },
   {
    "duration": 210,
    "start_time": "2021-12-20T15:13:17.231Z"
   },
   {
    "duration": 248,
    "start_time": "2021-12-20T15:13:17.444Z"
   },
   {
    "duration": 238,
    "start_time": "2021-12-20T15:13:17.695Z"
   },
   {
    "duration": 263,
    "start_time": "2021-12-20T15:13:17.936Z"
   },
   {
    "duration": 184,
    "start_time": "2021-12-20T15:13:18.202Z"
   },
   {
    "duration": 391,
    "start_time": "2021-12-20T15:13:18.389Z"
   },
   {
    "duration": 321,
    "start_time": "2021-12-20T15:13:18.782Z"
   },
   {
    "duration": 274,
    "start_time": "2021-12-20T15:13:19.105Z"
   },
   {
    "duration": 441,
    "start_time": "2021-12-20T15:13:19.381Z"
   },
   {
    "duration": 512,
    "start_time": "2021-12-20T15:13:19.825Z"
   },
   {
    "duration": 374,
    "start_time": "2021-12-20T15:13:20.340Z"
   },
   {
    "duration": 214,
    "start_time": "2021-12-20T15:13:20.718Z"
   },
   {
    "duration": 1090,
    "start_time": "2021-12-20T15:13:20.935Z"
   },
   {
    "duration": 41,
    "start_time": "2021-12-20T15:13:22.027Z"
   },
   {
    "duration": 527,
    "start_time": "2021-12-20T15:13:22.072Z"
   },
   {
    "duration": 542,
    "start_time": "2021-12-20T15:13:22.602Z"
   },
   {
    "duration": 416,
    "start_time": "2021-12-20T15:15:33.121Z"
   },
   {
    "duration": 361,
    "start_time": "2021-12-20T15:15:48.638Z"
   },
   {
    "duration": 753,
    "start_time": "2021-12-20T15:15:58.780Z"
   },
   {
    "duration": 987,
    "start_time": "2021-12-20T15:16:32.873Z"
   },
   {
    "duration": 939,
    "start_time": "2021-12-21T13:03:11.888Z"
   },
   {
    "duration": 589,
    "start_time": "2021-12-21T13:03:12.830Z"
   },
   {
    "duration": 30,
    "start_time": "2021-12-21T13:03:13.422Z"
   },
   {
    "duration": 21,
    "start_time": "2021-12-21T13:03:13.454Z"
   },
   {
    "duration": 35,
    "start_time": "2021-12-21T13:03:13.478Z"
   },
   {
    "duration": 19,
    "start_time": "2021-12-21T13:03:13.516Z"
   },
   {
    "duration": 53,
    "start_time": "2021-12-21T13:03:13.537Z"
   },
   {
    "duration": 16,
    "start_time": "2021-12-21T13:03:13.594Z"
   },
   {
    "duration": 11,
    "start_time": "2021-12-21T13:03:13.614Z"
   },
   {
    "duration": 47,
    "start_time": "2021-12-21T13:03:13.628Z"
   },
   {
    "duration": 23,
    "start_time": "2021-12-21T13:03:13.678Z"
   },
   {
    "duration": 24,
    "start_time": "2021-12-21T13:03:13.703Z"
   },
   {
    "duration": 7,
    "start_time": "2021-12-21T13:03:13.729Z"
   },
   {
    "duration": 221,
    "start_time": "2021-12-21T13:03:13.738Z"
   },
   {
    "duration": 32,
    "start_time": "2021-12-21T13:03:13.961Z"
   },
   {
    "duration": 108,
    "start_time": "2021-12-21T13:03:13.996Z"
   },
   {
    "duration": 18,
    "start_time": "2021-12-21T13:03:14.107Z"
   },
   {
    "duration": 13,
    "start_time": "2021-12-21T13:03:14.128Z"
   },
   {
    "duration": 149,
    "start_time": "2021-12-21T13:03:14.144Z"
   },
   {
    "duration": 56,
    "start_time": "2021-12-21T13:03:14.296Z"
   },
   {
    "duration": 20,
    "start_time": "2021-12-21T13:03:14.355Z"
   },
   {
    "duration": 22,
    "start_time": "2021-12-21T13:03:14.378Z"
   },
   {
    "duration": 117,
    "start_time": "2021-12-21T13:03:14.405Z"
   },
   {
    "duration": 57,
    "start_time": "2021-12-21T13:03:14.525Z"
   },
   {
    "duration": 9,
    "start_time": "2021-12-21T13:03:14.585Z"
   },
   {
    "duration": 9,
    "start_time": "2021-12-21T13:03:14.597Z"
   },
   {
    "duration": 18,
    "start_time": "2021-12-21T13:03:14.609Z"
   },
   {
    "duration": 57,
    "start_time": "2021-12-21T13:03:14.631Z"
   },
   {
    "duration": 10,
    "start_time": "2021-12-21T13:03:14.691Z"
   },
   {
    "duration": 24,
    "start_time": "2021-12-21T13:03:14.703Z"
   },
   {
    "duration": 6,
    "start_time": "2021-12-21T13:03:14.730Z"
   },
   {
    "duration": 46,
    "start_time": "2021-12-21T13:03:14.738Z"
   },
   {
    "duration": 12,
    "start_time": "2021-12-21T13:03:14.787Z"
   },
   {
    "duration": 13,
    "start_time": "2021-12-21T13:03:14.802Z"
   },
   {
    "duration": 10,
    "start_time": "2021-12-21T13:03:14.818Z"
   },
   {
    "duration": 12,
    "start_time": "2021-12-21T13:03:14.831Z"
   },
   {
    "duration": 76,
    "start_time": "2021-12-21T13:03:14.845Z"
   },
   {
    "duration": 13,
    "start_time": "2021-12-21T13:03:14.924Z"
   },
   {
    "duration": 68,
    "start_time": "2021-12-21T13:03:14.942Z"
   },
   {
    "duration": 23,
    "start_time": "2021-12-21T13:03:15.013Z"
   },
   {
    "duration": 1010,
    "start_time": "2021-12-21T13:03:15.038Z"
   },
   {
    "duration": 36,
    "start_time": "2021-12-21T13:03:16.051Z"
   },
   {
    "duration": 20,
    "start_time": "2021-12-21T13:03:16.090Z"
   },
   {
    "duration": 21,
    "start_time": "2021-12-21T13:03:16.112Z"
   },
   {
    "duration": 720,
    "start_time": "2021-12-21T15:06:20.096Z"
   },
   {
    "duration": 420,
    "start_time": "2021-12-21T15:06:20.817Z"
   },
   {
    "duration": 31,
    "start_time": "2021-12-21T15:06:21.239Z"
   },
   {
    "duration": 12,
    "start_time": "2021-12-21T15:06:21.273Z"
   },
   {
    "duration": 16,
    "start_time": "2021-12-21T15:06:21.287Z"
   },
   {
    "duration": 9,
    "start_time": "2021-12-21T15:06:21.305Z"
   },
   {
    "duration": 18,
    "start_time": "2021-12-21T15:06:21.315Z"
   },
   {
    "duration": 8,
    "start_time": "2021-12-21T15:06:21.336Z"
   },
   {
    "duration": 11,
    "start_time": "2021-12-21T15:06:21.346Z"
   },
   {
    "duration": 15,
    "start_time": "2021-12-21T15:06:21.358Z"
   },
   {
    "duration": 9,
    "start_time": "2021-12-21T15:06:21.375Z"
   },
   {
    "duration": 27,
    "start_time": "2021-12-21T15:06:21.386Z"
   },
   {
    "duration": 8,
    "start_time": "2021-12-21T15:06:21.414Z"
   },
   {
    "duration": 106,
    "start_time": "2021-12-21T15:06:21.423Z"
   },
   {
    "duration": 14,
    "start_time": "2021-12-21T15:06:21.531Z"
   },
   {
    "duration": 65,
    "start_time": "2021-12-21T15:06:21.547Z"
   },
   {
    "duration": 10,
    "start_time": "2021-12-21T15:06:21.613Z"
   },
   {
    "duration": 9,
    "start_time": "2021-12-21T15:06:21.625Z"
   },
   {
    "duration": 81,
    "start_time": "2021-12-21T15:06:21.636Z"
   },
   {
    "duration": 41,
    "start_time": "2021-12-21T15:06:21.719Z"
   },
   {
    "duration": 8,
    "start_time": "2021-12-21T15:06:21.762Z"
   },
   {
    "duration": 10,
    "start_time": "2021-12-21T15:06:21.771Z"
   },
   {
    "duration": 72,
    "start_time": "2021-12-21T15:06:21.784Z"
   },
   {
    "duration": 26,
    "start_time": "2021-12-21T15:06:21.858Z"
   },
   {
    "duration": 4,
    "start_time": "2021-12-21T15:06:21.885Z"
   },
   {
    "duration": 19,
    "start_time": "2021-12-21T15:06:21.891Z"
   },
   {
    "duration": 12,
    "start_time": "2021-12-21T15:06:21.912Z"
   },
   {
    "duration": 11,
    "start_time": "2021-12-21T15:06:21.925Z"
   },
   {
    "duration": 6,
    "start_time": "2021-12-21T15:06:21.938Z"
   },
   {
    "duration": 11,
    "start_time": "2021-12-21T15:06:21.945Z"
   },
   {
    "duration": 5,
    "start_time": "2021-12-21T15:06:21.958Z"
   },
   {
    "duration": 8,
    "start_time": "2021-12-21T15:06:21.965Z"
   },
   {
    "duration": 34,
    "start_time": "2021-12-21T15:06:21.974Z"
   },
   {
    "duration": 8,
    "start_time": "2021-12-21T15:06:22.010Z"
   },
   {
    "duration": 8,
    "start_time": "2021-12-21T15:06:22.020Z"
   },
   {
    "duration": 8,
    "start_time": "2021-12-21T15:06:22.030Z"
   },
   {
    "duration": 22,
    "start_time": "2021-12-21T15:06:22.039Z"
   },
   {
    "duration": 7,
    "start_time": "2021-12-21T15:06:22.063Z"
   },
   {
    "duration": 49,
    "start_time": "2021-12-21T15:06:22.072Z"
   },
   {
    "duration": 12,
    "start_time": "2021-12-21T15:06:22.123Z"
   },
   {
    "duration": 552,
    "start_time": "2021-12-21T15:06:22.137Z"
   },
   {
    "duration": 22,
    "start_time": "2021-12-21T15:06:22.691Z"
   },
   {
    "duration": 11,
    "start_time": "2021-12-21T15:06:22.715Z"
   },
   {
    "duration": 12,
    "start_time": "2021-12-21T15:06:22.728Z"
   },
   {
    "duration": 617,
    "start_time": "2021-12-21T15:08:06.328Z"
   },
   {
    "duration": 651,
    "start_time": "2021-12-21T18:46:50.118Z"
   },
   {
    "duration": 561,
    "start_time": "2021-12-21T18:47:19.097Z"
   },
   {
    "duration": 812,
    "start_time": "2021-12-21T18:48:12.441Z"
   },
   {
    "duration": 810,
    "start_time": "2021-12-21T19:04:07.584Z"
   },
   {
    "duration": 715,
    "start_time": "2021-12-21T19:04:15.720Z"
   },
   {
    "duration": 745,
    "start_time": "2021-12-21T19:04:25.948Z"
   },
   {
    "duration": 608,
    "start_time": "2021-12-21T19:04:37.288Z"
   },
   {
    "duration": 731,
    "start_time": "2021-12-21T19:04:54.657Z"
   },
   {
    "duration": 712,
    "start_time": "2021-12-21T19:05:09.044Z"
   },
   {
    "duration": 532,
    "start_time": "2021-12-21T19:05:40.560Z"
   },
   {
    "duration": 623,
    "start_time": "2021-12-21T19:05:47.907Z"
   },
   {
    "duration": 706,
    "start_time": "2021-12-21T19:05:56.809Z"
   },
   {
    "duration": 666,
    "start_time": "2021-12-21T19:06:07.282Z"
   },
   {
    "duration": 631,
    "start_time": "2021-12-21T19:06:20.732Z"
   },
   {
    "duration": 539,
    "start_time": "2021-12-21T19:07:23.592Z"
   },
   {
    "duration": 728,
    "start_time": "2021-12-21T19:07:59.668Z"
   },
   {
    "duration": 666,
    "start_time": "2021-12-21T19:08:12.034Z"
   },
   {
    "duration": 1151,
    "start_time": "2021-12-21T19:11:57.867Z"
   },
   {
    "duration": 666,
    "start_time": "2021-12-21T19:13:21.535Z"
   },
   {
    "duration": 765,
    "start_time": "2021-12-21T19:16:06.555Z"
   },
   {
    "duration": 430,
    "start_time": "2021-12-21T19:16:07.322Z"
   },
   {
    "duration": 22,
    "start_time": "2021-12-21T19:16:07.755Z"
   },
   {
    "duration": 11,
    "start_time": "2021-12-21T19:16:07.779Z"
   },
   {
    "duration": 19,
    "start_time": "2021-12-21T19:16:07.792Z"
   },
   {
    "duration": 10,
    "start_time": "2021-12-21T19:16:07.812Z"
   },
   {
    "duration": 15,
    "start_time": "2021-12-21T19:16:07.823Z"
   },
   {
    "duration": 7,
    "start_time": "2021-12-21T19:16:07.841Z"
   },
   {
    "duration": 8,
    "start_time": "2021-12-21T19:16:07.850Z"
   },
   {
    "duration": 13,
    "start_time": "2021-12-21T19:16:07.860Z"
   },
   {
    "duration": 32,
    "start_time": "2021-12-21T19:16:07.875Z"
   },
   {
    "duration": 13,
    "start_time": "2021-12-21T19:16:07.909Z"
   },
   {
    "duration": 7,
    "start_time": "2021-12-21T19:16:07.924Z"
   },
   {
    "duration": 109,
    "start_time": "2021-12-21T19:16:07.933Z"
   },
   {
    "duration": 14,
    "start_time": "2021-12-21T19:16:08.044Z"
   },
   {
    "duration": 61,
    "start_time": "2021-12-21T19:16:08.060Z"
   },
   {
    "duration": 11,
    "start_time": "2021-12-21T19:16:08.123Z"
   },
   {
    "duration": 10,
    "start_time": "2021-12-21T19:16:08.135Z"
   },
   {
    "duration": 85,
    "start_time": "2021-12-21T19:16:08.147Z"
   },
   {
    "duration": 36,
    "start_time": "2021-12-21T19:16:08.234Z"
   },
   {
    "duration": 8,
    "start_time": "2021-12-21T19:16:08.271Z"
   },
   {
    "duration": 9,
    "start_time": "2021-12-21T19:16:08.281Z"
   },
   {
    "duration": 10,
    "start_time": "2021-12-21T19:16:08.308Z"
   },
   {
    "duration": 53,
    "start_time": "2021-12-21T19:16:08.320Z"
   },
   {
    "duration": 44,
    "start_time": "2021-12-21T19:16:08.375Z"
   },
   {
    "duration": 4,
    "start_time": "2021-12-21T19:16:08.421Z"
   },
   {
    "duration": 8,
    "start_time": "2021-12-21T19:16:08.426Z"
   },
   {
    "duration": 11,
    "start_time": "2021-12-21T19:16:08.436Z"
   },
   {
    "duration": 10,
    "start_time": "2021-12-21T19:16:08.448Z"
   },
   {
    "duration": 8,
    "start_time": "2021-12-21T19:16:08.460Z"
   },
   {
    "duration": 43,
    "start_time": "2021-12-21T19:16:08.470Z"
   },
   {
    "duration": 4,
    "start_time": "2021-12-21T19:16:08.515Z"
   },
   {
    "duration": 8,
    "start_time": "2021-12-21T19:16:08.520Z"
   },
   {
    "duration": 3,
    "start_time": "2021-12-21T19:16:08.530Z"
   },
   {
    "duration": 5,
    "start_time": "2021-12-21T19:16:08.534Z"
   },
   {
    "duration": 11,
    "start_time": "2021-12-21T19:16:08.541Z"
   },
   {
    "duration": 8,
    "start_time": "2021-12-21T19:16:08.553Z"
   },
   {
    "duration": 55,
    "start_time": "2021-12-21T19:16:08.563Z"
   },
   {
    "duration": 8,
    "start_time": "2021-12-21T19:16:08.620Z"
   },
   {
    "duration": 25,
    "start_time": "2021-12-21T19:16:08.630Z"
   },
   {
    "duration": 14,
    "start_time": "2021-12-21T19:16:08.656Z"
   },
   {
    "duration": 727,
    "start_time": "2021-12-21T19:16:08.672Z"
   },
   {
    "duration": 17,
    "start_time": "2021-12-21T19:16:09.401Z"
   },
   {
    "duration": 715,
    "start_time": "2021-12-21T19:16:09.420Z"
   },
   {
    "duration": 15,
    "start_time": "2021-12-21T19:16:10.137Z"
   },
   {
    "duration": 15,
    "start_time": "2021-12-21T19:16:10.154Z"
   },
   {
    "duration": 724,
    "start_time": "2021-12-21T19:17:17.502Z"
   },
   {
    "duration": 420,
    "start_time": "2021-12-21T19:17:18.228Z"
   },
   {
    "duration": 21,
    "start_time": "2021-12-21T19:17:18.650Z"
   },
   {
    "duration": 10,
    "start_time": "2021-12-21T19:17:18.673Z"
   },
   {
    "duration": 19,
    "start_time": "2021-12-21T19:17:18.686Z"
   },
   {
    "duration": 9,
    "start_time": "2021-12-21T19:17:18.707Z"
   },
   {
    "duration": 17,
    "start_time": "2021-12-21T19:17:18.718Z"
   },
   {
    "duration": 8,
    "start_time": "2021-12-21T19:17:18.739Z"
   },
   {
    "duration": 12,
    "start_time": "2021-12-21T19:17:18.749Z"
   },
   {
    "duration": 11,
    "start_time": "2021-12-21T19:17:18.763Z"
   },
   {
    "duration": 34,
    "start_time": "2021-12-21T19:17:18.776Z"
   },
   {
    "duration": 13,
    "start_time": "2021-12-21T19:17:18.812Z"
   },
   {
    "duration": 7,
    "start_time": "2021-12-21T19:17:18.827Z"
   },
   {
    "duration": 113,
    "start_time": "2021-12-21T19:17:18.835Z"
   },
   {
    "duration": 16,
    "start_time": "2021-12-21T19:17:18.950Z"
   },
   {
    "duration": 65,
    "start_time": "2021-12-21T19:17:18.968Z"
   },
   {
    "duration": 10,
    "start_time": "2021-12-21T19:17:19.035Z"
   },
   {
    "duration": 9,
    "start_time": "2021-12-21T19:17:19.047Z"
   },
   {
    "duration": 85,
    "start_time": "2021-12-21T19:17:19.057Z"
   },
   {
    "duration": 37,
    "start_time": "2021-12-21T19:17:19.144Z"
   },
   {
    "duration": 8,
    "start_time": "2021-12-21T19:17:19.182Z"
   },
   {
    "duration": 20,
    "start_time": "2021-12-21T19:17:19.192Z"
   },
   {
    "duration": 10,
    "start_time": "2021-12-21T19:17:19.216Z"
   },
   {
    "duration": 51,
    "start_time": "2021-12-21T19:17:19.229Z"
   },
   {
    "duration": 47,
    "start_time": "2021-12-21T19:17:19.282Z"
   },
   {
    "duration": 4,
    "start_time": "2021-12-21T19:17:19.331Z"
   },
   {
    "duration": 13,
    "start_time": "2021-12-21T19:17:19.336Z"
   },
   {
    "duration": 13,
    "start_time": "2021-12-21T19:17:19.351Z"
   },
   {
    "duration": 10,
    "start_time": "2021-12-21T19:17:19.366Z"
   },
   {
    "duration": 6,
    "start_time": "2021-12-21T19:17:19.378Z"
   },
   {
    "duration": 9,
    "start_time": "2021-12-21T19:17:19.407Z"
   },
   {
    "duration": 4,
    "start_time": "2021-12-21T19:17:19.418Z"
   },
   {
    "duration": 6,
    "start_time": "2021-12-21T19:17:19.424Z"
   },
   {
    "duration": 3,
    "start_time": "2021-12-21T19:17:19.432Z"
   },
   {
    "duration": 5,
    "start_time": "2021-12-21T19:17:19.437Z"
   },
   {
    "duration": 8,
    "start_time": "2021-12-21T19:17:19.444Z"
   },
   {
    "duration": 10,
    "start_time": "2021-12-21T19:17:19.454Z"
   },
   {
    "duration": 59,
    "start_time": "2021-12-21T19:17:19.465Z"
   },
   {
    "duration": 8408,
    "start_time": "2021-12-21T19:17:19.526Z"
   },
   {
    "duration": 1118,
    "start_time": "2021-12-21T19:17:26.818Z"
   },
   {
    "duration": 1117,
    "start_time": "2021-12-21T19:17:26.820Z"
   },
   {
    "duration": 1117,
    "start_time": "2021-12-21T19:17:26.821Z"
   },
   {
    "duration": 1115,
    "start_time": "2021-12-21T19:17:26.824Z"
   },
   {
    "duration": 1115,
    "start_time": "2021-12-21T19:17:26.825Z"
   },
   {
    "duration": 1114,
    "start_time": "2021-12-21T19:17:26.826Z"
   },
   {
    "duration": 1113,
    "start_time": "2021-12-21T19:17:26.828Z"
   },
   {
    "duration": 720,
    "start_time": "2021-12-21T19:18:26.125Z"
   },
   {
    "duration": 412,
    "start_time": "2021-12-21T19:18:26.847Z"
   },
   {
    "duration": 21,
    "start_time": "2021-12-21T19:18:27.261Z"
   },
   {
    "duration": 12,
    "start_time": "2021-12-21T19:18:27.284Z"
   },
   {
    "duration": 18,
    "start_time": "2021-12-21T19:18:27.298Z"
   },
   {
    "duration": 8,
    "start_time": "2021-12-21T19:18:27.318Z"
   },
   {
    "duration": 17,
    "start_time": "2021-12-21T19:18:27.327Z"
   },
   {
    "duration": 7,
    "start_time": "2021-12-21T19:18:27.347Z"
   },
   {
    "duration": 7,
    "start_time": "2021-12-21T19:18:27.357Z"
   },
   {
    "duration": 39,
    "start_time": "2021-12-21T19:18:27.366Z"
   },
   {
    "duration": 7,
    "start_time": "2021-12-21T19:18:27.408Z"
   },
   {
    "duration": 14,
    "start_time": "2021-12-21T19:18:27.416Z"
   },
   {
    "duration": 6,
    "start_time": "2021-12-21T19:18:27.432Z"
   },
   {
    "duration": 116,
    "start_time": "2021-12-21T19:18:27.439Z"
   },
   {
    "duration": 14,
    "start_time": "2021-12-21T19:18:27.557Z"
   },
   {
    "duration": 67,
    "start_time": "2021-12-21T19:18:27.573Z"
   },
   {
    "duration": 10,
    "start_time": "2021-12-21T19:18:27.643Z"
   },
   {
    "duration": 13,
    "start_time": "2021-12-21T19:18:27.655Z"
   },
   {
    "duration": 111,
    "start_time": "2021-12-21T19:18:27.670Z"
   },
   {
    "duration": 56,
    "start_time": "2021-12-21T19:18:27.784Z"
   },
   {
    "duration": 9,
    "start_time": "2021-12-21T19:18:27.843Z"
   },
   {
    "duration": 5,
    "start_time": "2021-12-21T19:18:27.854Z"
   },
   {
    "duration": 14,
    "start_time": "2021-12-21T19:18:27.864Z"
   },
   {
    "duration": 75,
    "start_time": "2021-12-21T19:18:27.880Z"
   },
   {
    "duration": 27,
    "start_time": "2021-12-21T19:18:27.957Z"
   },
   {
    "duration": 5,
    "start_time": "2021-12-21T19:18:27.986Z"
   },
   {
    "duration": 19,
    "start_time": "2021-12-21T19:18:27.993Z"
   },
   {
    "duration": 13,
    "start_time": "2021-12-21T19:18:28.015Z"
   },
   {
    "duration": 12,
    "start_time": "2021-12-21T19:18:28.030Z"
   },
   {
    "duration": 10,
    "start_time": "2021-12-21T19:18:28.044Z"
   },
   {
    "duration": 10,
    "start_time": "2021-12-21T19:18:28.057Z"
   },
   {
    "duration": 41,
    "start_time": "2021-12-21T19:18:28.069Z"
   },
   {
    "duration": 11,
    "start_time": "2021-12-21T19:18:28.112Z"
   },
   {
    "duration": 6,
    "start_time": "2021-12-21T19:18:28.124Z"
   },
   {
    "duration": 6,
    "start_time": "2021-12-21T19:18:28.132Z"
   },
   {
    "duration": 9,
    "start_time": "2021-12-21T19:18:28.139Z"
   },
   {
    "duration": 8,
    "start_time": "2021-12-21T19:18:28.149Z"
   },
   {
    "duration": 49,
    "start_time": "2021-12-21T19:18:28.159Z"
   },
   {
    "duration": 8,
    "start_time": "2021-12-21T19:18:28.209Z"
   },
   {
    "duration": 27,
    "start_time": "2021-12-21T19:18:28.219Z"
   },
   {
    "duration": 15,
    "start_time": "2021-12-21T19:18:28.248Z"
   },
   {
    "duration": 700,
    "start_time": "2021-12-21T19:18:28.265Z"
   },
   {
    "duration": 440,
    "start_time": "2021-12-21T19:18:28.967Z"
   },
   {
    "duration": 1127,
    "start_time": "2021-12-21T19:18:28.282Z"
   },
   {
    "duration": 1126,
    "start_time": "2021-12-21T19:18:28.284Z"
   },
   {
    "duration": 1125,
    "start_time": "2021-12-21T19:18:28.285Z"
   },
   {
    "duration": 14,
    "start_time": "2021-12-21T19:18:43.761Z"
   },
   {
    "duration": 678,
    "start_time": "2021-12-21T19:19:00.256Z"
   },
   {
    "duration": 431,
    "start_time": "2021-12-21T19:19:14.785Z"
   },
   {
    "duration": 463,
    "start_time": "2021-12-21T19:20:55.700Z"
   },
   {
    "duration": 14,
    "start_time": "2021-12-21T19:22:26.932Z"
   },
   {
    "duration": 571,
    "start_time": "2021-12-21T19:23:07.148Z"
   },
   {
    "duration": 848,
    "start_time": "2021-12-21T19:23:28.380Z"
   },
   {
    "duration": 448,
    "start_time": "2021-12-21T19:23:50.444Z"
   },
   {
    "duration": 721,
    "start_time": "2021-12-21T19:25:11.237Z"
   },
   {
    "duration": 15,
    "start_time": "2021-12-21T19:25:20.575Z"
   },
   {
    "duration": 430,
    "start_time": "2021-12-21T19:25:48.951Z"
   },
   {
    "duration": 1060,
    "start_time": "2021-12-21T19:26:41.975Z"
   },
   {
    "duration": 465,
    "start_time": "2021-12-21T19:27:12.106Z"
   },
   {
    "duration": 38,
    "start_time": "2021-12-21T19:27:43.955Z"
   },
   {
    "duration": 529,
    "start_time": "2021-12-21T19:29:24.839Z"
   },
   {
    "duration": 725,
    "start_time": "2021-12-21T19:30:01.776Z"
   },
   {
    "duration": 389,
    "start_time": "2021-12-21T19:30:02.503Z"
   },
   {
    "duration": 34,
    "start_time": "2021-12-21T19:30:02.895Z"
   },
   {
    "duration": 15,
    "start_time": "2021-12-21T19:30:02.931Z"
   },
   {
    "duration": 29,
    "start_time": "2021-12-21T19:30:02.948Z"
   },
   {
    "duration": 29,
    "start_time": "2021-12-21T19:30:02.979Z"
   },
   {
    "duration": 16,
    "start_time": "2021-12-21T19:30:03.010Z"
   },
   {
    "duration": 7,
    "start_time": "2021-12-21T19:30:03.029Z"
   },
   {
    "duration": 7,
    "start_time": "2021-12-21T19:30:03.039Z"
   },
   {
    "duration": 14,
    "start_time": "2021-12-21T19:30:03.048Z"
   },
   {
    "duration": 9,
    "start_time": "2021-12-21T19:30:03.064Z"
   },
   {
    "duration": 15,
    "start_time": "2021-12-21T19:30:03.108Z"
   },
   {
    "duration": 8,
    "start_time": "2021-12-21T19:30:03.126Z"
   },
   {
    "duration": 147,
    "start_time": "2021-12-21T19:30:03.137Z"
   },
   {
    "duration": 22,
    "start_time": "2021-12-21T19:30:03.285Z"
   },
   {
    "duration": 48,
    "start_time": "2021-12-21T19:30:03.309Z"
   },
   {
    "duration": 9,
    "start_time": "2021-12-21T19:30:03.359Z"
   },
   {
    "duration": 35,
    "start_time": "2021-12-21T19:30:03.371Z"
   },
   {
    "duration": 113,
    "start_time": "2021-12-21T19:30:03.409Z"
   },
   {
    "duration": 56,
    "start_time": "2021-12-21T19:30:03.525Z"
   },
   {
    "duration": 10,
    "start_time": "2021-12-21T19:30:03.583Z"
   },
   {
    "duration": 14,
    "start_time": "2021-12-21T19:30:03.594Z"
   },
   {
    "duration": 12,
    "start_time": "2021-12-21T19:30:03.612Z"
   },
   {
    "duration": 55,
    "start_time": "2021-12-21T19:30:03.626Z"
   },
   {
    "duration": 43,
    "start_time": "2021-12-21T19:30:03.683Z"
   },
   {
    "duration": 5,
    "start_time": "2021-12-21T19:30:03.728Z"
   },
   {
    "duration": 14,
    "start_time": "2021-12-21T19:30:03.734Z"
   },
   {
    "duration": 18,
    "start_time": "2021-12-21T19:30:03.750Z"
   },
   {
    "duration": 11,
    "start_time": "2021-12-21T19:30:03.770Z"
   },
   {
    "duration": 26,
    "start_time": "2021-12-21T19:30:03.783Z"
   },
   {
    "duration": 9,
    "start_time": "2021-12-21T19:30:03.812Z"
   },
   {
    "duration": 6,
    "start_time": "2021-12-21T19:30:03.823Z"
   },
   {
    "duration": 11,
    "start_time": "2021-12-21T19:30:03.831Z"
   },
   {
    "duration": 5,
    "start_time": "2021-12-21T19:30:03.844Z"
   },
   {
    "duration": 8,
    "start_time": "2021-12-21T19:30:03.851Z"
   },
   {
    "duration": 12,
    "start_time": "2021-12-21T19:30:03.861Z"
   },
   {
    "duration": 38,
    "start_time": "2021-12-21T19:30:03.876Z"
   },
   {
    "duration": 40,
    "start_time": "2021-12-21T19:30:03.916Z"
   },
   {
    "duration": 11,
    "start_time": "2021-12-21T19:30:03.959Z"
   },
   {
    "duration": 51,
    "start_time": "2021-12-21T19:30:03.972Z"
   },
   {
    "duration": 15,
    "start_time": "2021-12-21T19:30:04.025Z"
   },
   {
    "duration": 742,
    "start_time": "2021-12-21T19:30:04.042Z"
   },
   {
    "duration": 26,
    "start_time": "2021-12-21T19:30:04.786Z"
   },
   {
    "duration": 519,
    "start_time": "2021-12-21T19:30:04.814Z"
   },
   {
    "duration": 15,
    "start_time": "2021-12-21T19:30:05.334Z"
   },
   {
    "duration": 482,
    "start_time": "2021-12-21T19:30:05.351Z"
   },
   {
    "duration": 15,
    "start_time": "2021-12-21T19:30:05.835Z"
   },
   {
    "duration": 502,
    "start_time": "2021-12-21T19:30:05.853Z"
   },
   {
    "duration": 16,
    "start_time": "2021-12-21T19:33:00.299Z"
   },
   {
    "duration": 16,
    "start_time": "2021-12-21T19:33:17.556Z"
   },
   {
    "duration": 444,
    "start_time": "2021-12-21T19:34:37.719Z"
   },
   {
    "duration": 289,
    "start_time": "2021-12-21T19:34:59.855Z"
   },
   {
    "duration": 942,
    "start_time": "2021-12-22T10:03:49.496Z"
   },
   {
    "duration": 537,
    "start_time": "2021-12-22T10:03:50.442Z"
   },
   {
    "duration": 27,
    "start_time": "2021-12-22T10:03:50.982Z"
   },
   {
    "duration": 19,
    "start_time": "2021-12-22T10:03:51.012Z"
   },
   {
    "duration": 33,
    "start_time": "2021-12-22T10:03:51.034Z"
   },
   {
    "duration": 12,
    "start_time": "2021-12-22T10:03:51.070Z"
   },
   {
    "duration": 39,
    "start_time": "2021-12-22T10:03:51.084Z"
   },
   {
    "duration": 13,
    "start_time": "2021-12-22T10:03:51.129Z"
   },
   {
    "duration": 10,
    "start_time": "2021-12-22T10:03:51.145Z"
   },
   {
    "duration": 13,
    "start_time": "2021-12-22T10:03:51.158Z"
   },
   {
    "duration": 49,
    "start_time": "2021-12-22T10:03:51.174Z"
   },
   {
    "duration": 25,
    "start_time": "2021-12-22T10:03:51.226Z"
   },
   {
    "duration": 6,
    "start_time": "2021-12-22T10:03:51.253Z"
   },
   {
    "duration": 162,
    "start_time": "2021-12-22T10:03:51.261Z"
   },
   {
    "duration": 24,
    "start_time": "2021-12-22T10:03:51.426Z"
   },
   {
    "duration": 92,
    "start_time": "2021-12-22T10:03:51.452Z"
   },
   {
    "duration": 14,
    "start_time": "2021-12-22T10:03:51.546Z"
   },
   {
    "duration": 14,
    "start_time": "2021-12-22T10:03:51.562Z"
   },
   {
    "duration": 123,
    "start_time": "2021-12-22T10:03:51.578Z"
   },
   {
    "duration": 67,
    "start_time": "2021-12-22T10:03:51.704Z"
   },
   {
    "duration": 10,
    "start_time": "2021-12-22T10:03:51.774Z"
   },
   {
    "duration": 14,
    "start_time": "2021-12-22T10:03:51.787Z"
   },
   {
    "duration": 36,
    "start_time": "2021-12-22T10:03:51.822Z"
   },
   {
    "duration": 92,
    "start_time": "2021-12-22T10:03:51.861Z"
   },
   {
    "duration": 35,
    "start_time": "2021-12-22T10:03:51.956Z"
   },
   {
    "duration": 7,
    "start_time": "2021-12-22T10:03:51.994Z"
   },
   {
    "duration": 24,
    "start_time": "2021-12-22T10:03:52.023Z"
   },
   {
    "duration": 24,
    "start_time": "2021-12-22T10:03:52.050Z"
   },
   {
    "duration": 21,
    "start_time": "2021-12-22T10:03:52.077Z"
   },
   {
    "duration": 10,
    "start_time": "2021-12-22T10:03:52.100Z"
   },
   {
    "duration": 14,
    "start_time": "2021-12-22T10:03:52.124Z"
   },
   {
    "duration": 6,
    "start_time": "2021-12-22T10:03:52.142Z"
   },
   {
    "duration": 10,
    "start_time": "2021-12-22T10:03:52.151Z"
   },
   {
    "duration": 5,
    "start_time": "2021-12-22T10:03:52.163Z"
   },
   {
    "duration": 8,
    "start_time": "2021-12-22T10:03:52.170Z"
   },
   {
    "duration": 50,
    "start_time": "2021-12-22T10:03:52.181Z"
   },
   {
    "duration": 14,
    "start_time": "2021-12-22T10:03:52.234Z"
   },
   {
    "duration": 40,
    "start_time": "2021-12-22T10:03:52.251Z"
   },
   {
    "duration": 17,
    "start_time": "2021-12-22T10:03:52.323Z"
   },
   {
    "duration": 55,
    "start_time": "2021-12-22T10:03:52.344Z"
   },
   {
    "duration": 40,
    "start_time": "2021-12-22T10:03:52.402Z"
   },
   {
    "duration": 1192,
    "start_time": "2021-12-22T10:03:52.445Z"
   },
   {
    "duration": 21,
    "start_time": "2021-12-22T10:03:53.639Z"
   },
   {
    "duration": 866,
    "start_time": "2021-12-22T10:03:53.663Z"
   },
   {
    "duration": 22,
    "start_time": "2021-12-22T10:03:54.532Z"
   },
   {
    "duration": 851,
    "start_time": "2021-12-22T10:03:54.556Z"
   },
   {
    "duration": 32,
    "start_time": "2021-12-22T10:03:55.409Z"
   },
   {
    "duration": 508,
    "start_time": "2021-12-22T10:03:55.444Z"
   },
   {
    "duration": 484,
    "start_time": "2021-12-22T10:04:26.852Z"
   },
   {
    "duration": 1416,
    "start_time": "2021-12-22T10:48:57.384Z"
   },
   {
    "duration": 623,
    "start_time": "2021-12-22T10:48:58.803Z"
   },
   {
    "duration": 34,
    "start_time": "2021-12-22T10:48:59.430Z"
   },
   {
    "duration": 22,
    "start_time": "2021-12-22T10:48:59.467Z"
   },
   {
    "duration": 64,
    "start_time": "2021-12-22T10:48:59.493Z"
   },
   {
    "duration": 19,
    "start_time": "2021-12-22T10:48:59.561Z"
   },
   {
    "duration": 59,
    "start_time": "2021-12-22T10:48:59.583Z"
   },
   {
    "duration": 17,
    "start_time": "2021-12-22T10:48:59.645Z"
   },
   {
    "duration": 10,
    "start_time": "2021-12-22T10:48:59.666Z"
   },
   {
    "duration": 15,
    "start_time": "2021-12-22T10:48:59.679Z"
   },
   {
    "duration": 14,
    "start_time": "2021-12-22T10:48:59.725Z"
   },
   {
    "duration": 37,
    "start_time": "2021-12-22T10:48:59.742Z"
   },
   {
    "duration": 7,
    "start_time": "2021-12-22T10:48:59.781Z"
   },
   {
    "duration": 195,
    "start_time": "2021-12-22T10:48:59.791Z"
   },
   {
    "duration": 24,
    "start_time": "2021-12-22T10:48:59.988Z"
   },
   {
    "duration": 77,
    "start_time": "2021-12-22T10:49:00.024Z"
   },
   {
    "duration": 32,
    "start_time": "2021-12-22T10:49:00.104Z"
   },
   {
    "duration": 26,
    "start_time": "2021-12-22T10:49:00.138Z"
   },
   {
    "duration": 111,
    "start_time": "2021-12-22T10:49:00.166Z"
   },
   {
    "duration": 62,
    "start_time": "2021-12-22T10:49:00.280Z"
   },
   {
    "duration": 9,
    "start_time": "2021-12-22T10:49:00.345Z"
   },
   {
    "duration": 10,
    "start_time": "2021-12-22T10:49:00.357Z"
   },
   {
    "duration": 18,
    "start_time": "2021-12-22T10:49:00.369Z"
   },
   {
    "duration": 110,
    "start_time": "2021-12-22T10:49:00.390Z"
   },
   {
    "duration": 58,
    "start_time": "2021-12-22T10:49:00.503Z"
   },
   {
    "duration": 5,
    "start_time": "2021-12-22T10:49:00.564Z"
   },
   {
    "duration": 19,
    "start_time": "2021-12-22T10:49:00.574Z"
   },
   {
    "duration": 48,
    "start_time": "2021-12-22T10:49:00.596Z"
   },
   {
    "duration": 17,
    "start_time": "2021-12-22T10:49:00.646Z"
   },
   {
    "duration": 9,
    "start_time": "2021-12-22T10:49:00.665Z"
   },
   {
    "duration": 16,
    "start_time": "2021-12-22T10:49:00.677Z"
   },
   {
    "duration": 32,
    "start_time": "2021-12-22T10:49:00.696Z"
   },
   {
    "duration": 31,
    "start_time": "2021-12-22T10:49:00.730Z"
   },
   {
    "duration": 16,
    "start_time": "2021-12-22T10:49:00.764Z"
   },
   {
    "duration": 15,
    "start_time": "2021-12-22T10:49:00.783Z"
   },
   {
    "duration": 22,
    "start_time": "2021-12-22T10:49:00.802Z"
   },
   {
    "duration": 33,
    "start_time": "2021-12-22T10:49:00.830Z"
   },
   {
    "duration": 45,
    "start_time": "2021-12-22T10:49:00.866Z"
   },
   {
    "duration": 25,
    "start_time": "2021-12-22T10:49:00.914Z"
   },
   {
    "duration": 48,
    "start_time": "2021-12-22T10:49:00.943Z"
   },
   {
    "duration": 43,
    "start_time": "2021-12-22T10:49:00.993Z"
   },
   {
    "duration": 1222,
    "start_time": "2021-12-22T10:49:01.040Z"
   },
   {
    "duration": 20,
    "start_time": "2021-12-22T10:49:02.264Z"
   },
   {
    "duration": 841,
    "start_time": "2021-12-22T10:49:02.287Z"
   },
   {
    "duration": 29,
    "start_time": "2021-12-22T10:49:03.131Z"
   },
   {
    "duration": 849,
    "start_time": "2021-12-22T10:49:03.163Z"
   },
   {
    "duration": 34,
    "start_time": "2021-12-22T10:49:04.014Z"
   },
   {
    "duration": 643,
    "start_time": "2021-12-22T10:49:04.051Z"
   },
   {
    "duration": 18,
    "start_time": "2021-12-22T10:51:04.921Z"
   },
   {
    "duration": 5,
    "start_time": "2021-12-22T10:51:24.338Z"
   },
   {
    "duration": 12,
    "start_time": "2021-12-22T10:54:22.909Z"
   },
   {
    "duration": 5,
    "start_time": "2021-12-22T10:54:25.481Z"
   },
   {
    "duration": 1683,
    "start_time": "2021-12-22T10:56:31.585Z"
   },
   {
    "duration": 705,
    "start_time": "2021-12-22T10:56:33.272Z"
   },
   {
    "duration": 40,
    "start_time": "2021-12-22T10:56:33.981Z"
   },
   {
    "duration": 24,
    "start_time": "2021-12-22T10:56:34.028Z"
   },
   {
    "duration": 24,
    "start_time": "2021-12-22T10:56:34.055Z"
   },
   {
    "duration": 12,
    "start_time": "2021-12-22T10:56:34.082Z"
   },
   {
    "duration": 52,
    "start_time": "2021-12-22T10:56:34.097Z"
   },
   {
    "duration": 11,
    "start_time": "2021-12-22T10:56:34.155Z"
   },
   {
    "duration": 10,
    "start_time": "2021-12-22T10:56:34.169Z"
   },
   {
    "duration": 51,
    "start_time": "2021-12-22T10:56:34.181Z"
   },
   {
    "duration": 24,
    "start_time": "2021-12-22T10:56:34.235Z"
   },
   {
    "duration": 27,
    "start_time": "2021-12-22T10:56:34.264Z"
   },
   {
    "duration": 7,
    "start_time": "2021-12-22T10:56:34.294Z"
   },
   {
    "duration": 175,
    "start_time": "2021-12-22T10:56:34.304Z"
   },
   {
    "duration": 22,
    "start_time": "2021-12-22T10:56:34.481Z"
   },
   {
    "duration": 86,
    "start_time": "2021-12-22T10:56:34.505Z"
   },
   {
    "duration": 39,
    "start_time": "2021-12-22T10:56:34.593Z"
   },
   {
    "duration": 17,
    "start_time": "2021-12-22T10:56:34.636Z"
   },
   {
    "duration": 116,
    "start_time": "2021-12-22T10:56:34.655Z"
   },
   {
    "duration": 65,
    "start_time": "2021-12-22T10:56:34.774Z"
   },
   {
    "duration": 12,
    "start_time": "2021-12-22T10:56:34.842Z"
   },
   {
    "duration": 5,
    "start_time": "2021-12-22T10:56:34.856Z"
   },
   {
    "duration": 25,
    "start_time": "2021-12-22T10:56:34.867Z"
   },
   {
    "duration": 108,
    "start_time": "2021-12-22T10:56:34.895Z"
   },
   {
    "duration": 49,
    "start_time": "2021-12-22T10:56:35.005Z"
   },
   {
    "duration": 6,
    "start_time": "2021-12-22T10:56:35.056Z"
   },
   {
    "duration": 16,
    "start_time": "2021-12-22T10:56:35.064Z"
   },
   {
    "duration": 19,
    "start_time": "2021-12-22T10:56:35.083Z"
   },
   {
    "duration": 21,
    "start_time": "2021-12-22T10:56:35.124Z"
   },
   {
    "duration": 10,
    "start_time": "2021-12-22T10:56:35.147Z"
   },
   {
    "duration": 20,
    "start_time": "2021-12-22T10:56:35.159Z"
   },
   {
    "duration": 6,
    "start_time": "2021-12-22T10:56:35.181Z"
   },
   {
    "duration": 51,
    "start_time": "2021-12-22T10:56:35.190Z"
   },
   {
    "duration": 9,
    "start_time": "2021-12-22T10:56:35.243Z"
   },
   {
    "duration": 14,
    "start_time": "2021-12-22T10:56:35.254Z"
   },
   {
    "duration": 22,
    "start_time": "2021-12-22T10:56:35.271Z"
   },
   {
    "duration": 10,
    "start_time": "2021-12-22T10:56:35.296Z"
   },
   {
    "duration": 58,
    "start_time": "2021-12-22T10:56:35.308Z"
   },
   {
    "duration": 12,
    "start_time": "2021-12-22T10:56:35.368Z"
   },
   {
    "duration": 59,
    "start_time": "2021-12-22T10:56:35.383Z"
   },
   {
    "duration": 21,
    "start_time": "2021-12-22T10:56:35.444Z"
   },
   {
    "duration": 1193,
    "start_time": "2021-12-22T10:56:35.467Z"
   },
   {
    "duration": 23,
    "start_time": "2021-12-22T10:56:36.663Z"
   },
   {
    "duration": 876,
    "start_time": "2021-12-22T10:56:36.690Z"
   },
   {
    "duration": 29,
    "start_time": "2021-12-22T10:56:37.569Z"
   },
   {
    "duration": 965,
    "start_time": "2021-12-22T10:56:37.601Z"
   },
   {
    "duration": 20,
    "start_time": "2021-12-22T10:56:38.568Z"
   },
   {
    "duration": 551,
    "start_time": "2021-12-22T10:56:38.590Z"
   },
   {
    "duration": 13,
    "start_time": "2021-12-22T10:56:39.145Z"
   },
   {
    "duration": 5,
    "start_time": "2021-12-22T10:56:39.160Z"
   },
   {
    "duration": 11,
    "start_time": "2021-12-22T11:09:48.693Z"
   },
   {
    "duration": 12,
    "start_time": "2021-12-22T11:10:20.708Z"
   },
   {
    "duration": 1183,
    "start_time": "2021-12-22T16:57:53.509Z"
   },
   {
    "duration": 397,
    "start_time": "2021-12-22T16:57:54.694Z"
   },
   {
    "duration": 21,
    "start_time": "2021-12-22T16:57:55.093Z"
   },
   {
    "duration": 11,
    "start_time": "2021-12-22T16:57:55.115Z"
   },
   {
    "duration": 15,
    "start_time": "2021-12-22T16:57:55.128Z"
   },
   {
    "duration": 8,
    "start_time": "2021-12-22T16:57:55.145Z"
   },
   {
    "duration": 15,
    "start_time": "2021-12-22T16:57:55.155Z"
   },
   {
    "duration": 8,
    "start_time": "2021-12-22T16:57:55.173Z"
   },
   {
    "duration": 7,
    "start_time": "2021-12-22T16:57:55.183Z"
   },
   {
    "duration": 16,
    "start_time": "2021-12-22T16:57:55.192Z"
   },
   {
    "duration": 9,
    "start_time": "2021-12-22T16:57:55.210Z"
   },
   {
    "duration": 14,
    "start_time": "2021-12-22T16:57:55.242Z"
   },
   {
    "duration": 15,
    "start_time": "2021-12-22T16:57:55.258Z"
   },
   {
    "duration": 108,
    "start_time": "2021-12-22T16:57:55.274Z"
   },
   {
    "duration": 15,
    "start_time": "2021-12-22T16:57:55.384Z"
   },
   {
    "duration": 71,
    "start_time": "2021-12-22T16:57:55.401Z"
   },
   {
    "duration": 16,
    "start_time": "2021-12-22T16:57:55.474Z"
   },
   {
    "duration": 17,
    "start_time": "2021-12-22T16:57:55.491Z"
   },
   {
    "duration": 69,
    "start_time": "2021-12-22T16:57:55.510Z"
   },
   {
    "duration": 37,
    "start_time": "2021-12-22T16:57:55.580Z"
   },
   {
    "duration": 8,
    "start_time": "2021-12-22T16:57:55.619Z"
   },
   {
    "duration": 4,
    "start_time": "2021-12-22T16:57:55.642Z"
   },
   {
    "duration": 11,
    "start_time": "2021-12-22T16:57:55.649Z"
   },
   {
    "duration": 52,
    "start_time": "2021-12-22T16:57:55.662Z"
   },
   {
    "duration": 49,
    "start_time": "2021-12-22T16:57:55.715Z"
   },
   {
    "duration": 4,
    "start_time": "2021-12-22T16:57:55.766Z"
   },
   {
    "duration": 8,
    "start_time": "2021-12-22T16:57:55.772Z"
   },
   {
    "duration": 13,
    "start_time": "2021-12-22T16:57:55.782Z"
   },
   {
    "duration": 14,
    "start_time": "2021-12-22T16:57:55.796Z"
   },
   {
    "duration": 9,
    "start_time": "2021-12-22T16:57:55.811Z"
   },
   {
    "duration": 8,
    "start_time": "2021-12-22T16:57:55.841Z"
   },
   {
    "duration": 5,
    "start_time": "2021-12-22T16:57:55.850Z"
   },
   {
    "duration": 16,
    "start_time": "2021-12-22T16:57:55.856Z"
   },
   {
    "duration": 7,
    "start_time": "2021-12-22T16:57:55.874Z"
   },
   {
    "duration": 9,
    "start_time": "2021-12-22T16:57:55.883Z"
   },
   {
    "duration": 14,
    "start_time": "2021-12-22T16:57:55.894Z"
   },
   {
    "duration": 11,
    "start_time": "2021-12-22T16:57:55.910Z"
   },
   {
    "duration": 26,
    "start_time": "2021-12-22T16:57:55.923Z"
   },
   {
    "duration": 8,
    "start_time": "2021-12-22T16:57:55.951Z"
   },
   {
    "duration": 9,
    "start_time": "2021-12-22T16:57:55.960Z"
   },
   {
    "duration": 29,
    "start_time": "2021-12-22T16:57:55.970Z"
   },
   {
    "duration": 41,
    "start_time": "2021-12-22T16:57:56.001Z"
   },
   {
    "duration": 641,
    "start_time": "2021-12-22T16:57:56.043Z"
   },
   {
    "duration": 14,
    "start_time": "2021-12-22T16:57:56.686Z"
   },
   {
    "duration": 428,
    "start_time": "2021-12-22T16:57:56.702Z"
   },
   {
    "duration": 23,
    "start_time": "2021-12-22T16:57:57.132Z"
   },
   {
    "duration": 427,
    "start_time": "2021-12-22T16:57:57.157Z"
   },
   {
    "duration": 14,
    "start_time": "2021-12-22T16:57:57.586Z"
   },
   {
    "duration": 293,
    "start_time": "2021-12-22T16:57:57.602Z"
   },
   {
    "duration": 9,
    "start_time": "2021-12-22T16:57:57.897Z"
   },
   {
    "duration": 5,
    "start_time": "2021-12-22T16:57:57.907Z"
   },
   {
    "duration": 28,
    "start_time": "2021-12-22T16:57:57.913Z"
   },
   {
    "duration": 7,
    "start_time": "2021-12-22T16:57:57.943Z"
   },
   {
    "duration": 8,
    "start_time": "2021-12-22T17:23:01.467Z"
   },
   {
    "duration": 3,
    "start_time": "2021-12-22T17:23:03.231Z"
   },
   {
    "duration": 8,
    "start_time": "2021-12-22T17:23:39.534Z"
   },
   {
    "duration": 3,
    "start_time": "2021-12-22T17:23:40.755Z"
   },
   {
    "duration": 9,
    "start_time": "2021-12-22T17:24:20.182Z"
   },
   {
    "duration": 4,
    "start_time": "2021-12-22T17:24:21.302Z"
   },
   {
    "duration": 9,
    "start_time": "2021-12-22T17:24:50.930Z"
   },
   {
    "duration": 3,
    "start_time": "2021-12-22T17:24:51.822Z"
   },
   {
    "duration": 8,
    "start_time": "2021-12-22T17:24:52.687Z"
   },
   {
    "duration": 145,
    "start_time": "2021-12-22T18:09:30.839Z"
   },
   {
    "duration": 10,
    "start_time": "2021-12-22T18:10:07.727Z"
   },
   {
    "duration": 10,
    "start_time": "2021-12-22T20:26:16.231Z"
   },
   {
    "duration": 1353,
    "start_time": "2021-12-23T15:04:36.167Z"
   },
   {
    "duration": 612,
    "start_time": "2021-12-23T15:06:08.606Z"
   },
   {
    "duration": 4,
    "start_time": "2021-12-23T15:44:16.687Z"
   },
   {
    "duration": 1586,
    "start_time": "2021-12-23T19:02:22.897Z"
   },
   {
    "duration": 615,
    "start_time": "2021-12-23T19:02:24.485Z"
   },
   {
    "duration": 32,
    "start_time": "2021-12-23T19:02:25.104Z"
   },
   {
    "duration": 17,
    "start_time": "2021-12-23T19:02:25.140Z"
   },
   {
    "duration": 34,
    "start_time": "2021-12-23T19:02:25.160Z"
   },
   {
    "duration": 17,
    "start_time": "2021-12-23T19:02:25.198Z"
   },
   {
    "duration": 57,
    "start_time": "2021-12-23T19:02:25.217Z"
   },
   {
    "duration": 11,
    "start_time": "2021-12-23T19:02:25.278Z"
   },
   {
    "duration": 10,
    "start_time": "2021-12-23T19:02:25.292Z"
   },
   {
    "duration": 62,
    "start_time": "2021-12-23T19:02:25.304Z"
   },
   {
    "duration": 20,
    "start_time": "2021-12-23T19:02:25.369Z"
   },
   {
    "duration": 15,
    "start_time": "2021-12-23T19:02:25.392Z"
   },
   {
    "duration": 7,
    "start_time": "2021-12-23T19:02:25.410Z"
   },
   {
    "duration": 220,
    "start_time": "2021-12-23T19:02:25.420Z"
   },
   {
    "duration": 37,
    "start_time": "2021-12-23T19:02:25.642Z"
   },
   {
    "duration": 95,
    "start_time": "2021-12-23T19:02:25.682Z"
   },
   {
    "duration": 15,
    "start_time": "2021-12-23T19:02:25.779Z"
   },
   {
    "duration": 12,
    "start_time": "2021-12-23T19:02:25.796Z"
   },
   {
    "duration": 164,
    "start_time": "2021-12-23T19:02:25.811Z"
   },
   {
    "duration": 47,
    "start_time": "2021-12-23T19:02:25.978Z"
   },
   {
    "duration": 36,
    "start_time": "2021-12-23T19:02:26.027Z"
   },
   {
    "duration": 7,
    "start_time": "2021-12-23T19:02:26.067Z"
   },
   {
    "duration": 17,
    "start_time": "2021-12-23T19:02:26.080Z"
   },
   {
    "duration": 137,
    "start_time": "2021-12-23T19:02:26.101Z"
   },
   {
    "duration": 53,
    "start_time": "2021-12-23T19:02:26.241Z"
   },
   {
    "duration": 6,
    "start_time": "2021-12-23T19:02:26.296Z"
   },
   {
    "duration": 10,
    "start_time": "2021-12-23T19:02:26.305Z"
   },
   {
    "duration": 53,
    "start_time": "2021-12-23T19:02:26.317Z"
   },
   {
    "duration": 23,
    "start_time": "2021-12-23T19:02:26.372Z"
   },
   {
    "duration": 13,
    "start_time": "2021-12-23T19:02:26.398Z"
   },
   {
    "duration": 52,
    "start_time": "2021-12-23T19:02:26.414Z"
   },
   {
    "duration": 7,
    "start_time": "2021-12-23T19:02:26.471Z"
   },
   {
    "duration": 10,
    "start_time": "2021-12-23T19:02:26.480Z"
   },
   {
    "duration": 6,
    "start_time": "2021-12-23T19:02:26.493Z"
   },
   {
    "duration": 6,
    "start_time": "2021-12-23T19:02:26.501Z"
   },
   {
    "duration": 58,
    "start_time": "2021-12-23T19:02:26.509Z"
   },
   {
    "duration": 19,
    "start_time": "2021-12-23T19:02:26.570Z"
   },
   {
    "duration": 39,
    "start_time": "2021-12-23T19:02:26.592Z"
   },
   {
    "duration": 15,
    "start_time": "2021-12-23T19:02:26.661Z"
   },
   {
    "duration": 9,
    "start_time": "2021-12-23T19:02:26.679Z"
   },
   {
    "duration": 90,
    "start_time": "2021-12-23T19:02:26.691Z"
   },
   {
    "duration": 23,
    "start_time": "2021-12-23T19:02:26.783Z"
   },
   {
    "duration": 1276,
    "start_time": "2021-12-23T19:02:26.809Z"
   },
   {
    "duration": 21,
    "start_time": "2021-12-23T19:02:28.087Z"
   },
   {
    "duration": 915,
    "start_time": "2021-12-23T19:02:28.110Z"
   },
   {
    "duration": 46,
    "start_time": "2021-12-23T19:02:29.028Z"
   },
   {
    "duration": 864,
    "start_time": "2021-12-23T19:02:29.077Z"
   },
   {
    "duration": 25,
    "start_time": "2021-12-23T19:02:29.944Z"
   },
   {
    "duration": 15,
    "start_time": "2021-12-23T19:02:29.972Z"
   },
   {
    "duration": 1383,
    "start_time": "2021-12-24T07:52:31.428Z"
   },
   {
    "duration": 514,
    "start_time": "2021-12-24T07:52:32.813Z"
   },
   {
    "duration": 27,
    "start_time": "2021-12-24T07:52:33.330Z"
   },
   {
    "duration": 16,
    "start_time": "2021-12-24T07:52:33.360Z"
   },
   {
    "duration": 23,
    "start_time": "2021-12-24T07:52:33.378Z"
   },
   {
    "duration": 12,
    "start_time": "2021-12-24T07:52:33.403Z"
   },
   {
    "duration": 51,
    "start_time": "2021-12-24T07:52:33.418Z"
   },
   {
    "duration": 10,
    "start_time": "2021-12-24T07:52:33.473Z"
   },
   {
    "duration": 9,
    "start_time": "2021-12-24T07:52:33.485Z"
   },
   {
    "duration": 16,
    "start_time": "2021-12-24T07:52:33.496Z"
   },
   {
    "duration": 48,
    "start_time": "2021-12-24T07:52:33.514Z"
   },
   {
    "duration": 16,
    "start_time": "2021-12-24T07:52:33.564Z"
   },
   {
    "duration": 9,
    "start_time": "2021-12-24T07:52:33.582Z"
   },
   {
    "duration": 148,
    "start_time": "2021-12-24T07:52:33.593Z"
   },
   {
    "duration": 75,
    "start_time": "2021-12-24T07:52:33.743Z"
   },
   {
    "duration": 5,
    "start_time": "2021-12-24T07:52:33.821Z"
   },
   {
    "duration": 31,
    "start_time": "2021-12-24T07:52:33.828Z"
   },
   {
    "duration": 86,
    "start_time": "2021-12-24T07:52:33.861Z"
   },
   {
    "duration": 55,
    "start_time": "2021-12-24T07:52:33.949Z"
   },
   {
    "duration": 5,
    "start_time": "2021-12-24T07:52:34.006Z"
   },
   {
    "duration": 15,
    "start_time": "2021-12-24T07:52:34.013Z"
   },
   {
    "duration": 9,
    "start_time": "2021-12-24T07:52:34.030Z"
   },
   {
    "duration": 74,
    "start_time": "2021-12-24T07:52:34.060Z"
   },
   {
    "duration": 46,
    "start_time": "2021-12-24T07:52:34.137Z"
   },
   {
    "duration": 5,
    "start_time": "2021-12-24T07:52:34.185Z"
   },
   {
    "duration": 5,
    "start_time": "2021-12-24T07:52:34.193Z"
   },
   {
    "duration": 12,
    "start_time": "2021-12-24T07:52:34.201Z"
   },
   {
    "duration": 48,
    "start_time": "2021-12-24T07:52:34.215Z"
   },
   {
    "duration": 5,
    "start_time": "2021-12-24T07:52:34.265Z"
   },
   {
    "duration": 8,
    "start_time": "2021-12-24T07:52:34.273Z"
   },
   {
    "duration": 11,
    "start_time": "2021-12-24T07:52:34.283Z"
   },
   {
    "duration": 13,
    "start_time": "2021-12-24T07:52:34.296Z"
   },
   {
    "duration": 83,
    "start_time": "2021-12-24T07:52:34.311Z"
   },
   {
    "duration": 12,
    "start_time": "2021-12-24T07:52:34.396Z"
   },
   {
    "duration": 12,
    "start_time": "2021-12-24T07:52:34.410Z"
   },
   {
    "duration": 63,
    "start_time": "2021-12-24T07:52:34.424Z"
   },
   {
    "duration": 23,
    "start_time": "2021-12-24T07:52:34.490Z"
   },
   {
    "duration": 1078,
    "start_time": "2021-12-24T07:52:34.516Z"
   },
   {
    "duration": 23,
    "start_time": "2021-12-24T07:52:35.597Z"
   },
   {
    "duration": 758,
    "start_time": "2021-12-24T07:52:35.623Z"
   },
   {
    "duration": 21,
    "start_time": "2021-12-24T07:52:36.384Z"
   },
   {
    "duration": 758,
    "start_time": "2021-12-24T07:52:36.407Z"
   },
   {
    "duration": 15,
    "start_time": "2021-12-24T07:52:37.168Z"
   },
   {
    "duration": 17,
    "start_time": "2021-12-24T07:52:37.186Z"
   },
   {
    "duration": 1349,
    "start_time": "2021-12-24T08:12:58.767Z"
   },
   {
    "duration": 546,
    "start_time": "2021-12-24T08:13:00.118Z"
   },
   {
    "duration": 29,
    "start_time": "2021-12-24T08:13:00.667Z"
   },
   {
    "duration": 17,
    "start_time": "2021-12-24T08:13:00.699Z"
   },
   {
    "duration": 43,
    "start_time": "2021-12-24T08:13:00.718Z"
   },
   {
    "duration": 12,
    "start_time": "2021-12-24T08:13:00.764Z"
   },
   {
    "duration": 31,
    "start_time": "2021-12-24T08:13:00.778Z"
   },
   {
    "duration": 18,
    "start_time": "2021-12-24T08:13:00.813Z"
   },
   {
    "duration": 27,
    "start_time": "2021-12-24T08:13:00.834Z"
   },
   {
    "duration": 17,
    "start_time": "2021-12-24T08:13:00.864Z"
   },
   {
    "duration": 17,
    "start_time": "2021-12-24T08:13:00.884Z"
   },
   {
    "duration": 21,
    "start_time": "2021-12-24T08:13:00.904Z"
   },
   {
    "duration": 11,
    "start_time": "2021-12-24T08:13:00.928Z"
   },
   {
    "duration": 165,
    "start_time": "2021-12-24T08:13:00.942Z"
   },
   {
    "duration": 91,
    "start_time": "2021-12-24T08:13:01.109Z"
   },
   {
    "duration": 5,
    "start_time": "2021-12-24T08:13:01.202Z"
   },
   {
    "duration": 27,
    "start_time": "2021-12-24T08:13:01.210Z"
   },
   {
    "duration": 110,
    "start_time": "2021-12-24T08:13:01.239Z"
   },
   {
    "duration": 52,
    "start_time": "2021-12-24T08:13:01.351Z"
   },
   {
    "duration": 5,
    "start_time": "2021-12-24T08:13:01.405Z"
   },
   {
    "duration": 17,
    "start_time": "2021-12-24T08:13:01.413Z"
   },
   {
    "duration": 19,
    "start_time": "2021-12-24T08:13:01.432Z"
   },
   {
    "duration": 79,
    "start_time": "2021-12-24T08:13:01.461Z"
   },
   {
    "duration": 49,
    "start_time": "2021-12-24T08:13:01.543Z"
   },
   {
    "duration": 5,
    "start_time": "2021-12-24T08:13:01.595Z"
   },
   {
    "duration": 18,
    "start_time": "2021-12-24T08:13:01.602Z"
   },
   {
    "duration": 39,
    "start_time": "2021-12-24T08:13:01.623Z"
   },
   {
    "duration": 13,
    "start_time": "2021-12-24T08:13:01.665Z"
   },
   {
    "duration": 4,
    "start_time": "2021-12-24T08:13:01.680Z"
   },
   {
    "duration": 9,
    "start_time": "2021-12-24T08:13:01.687Z"
   },
   {
    "duration": 19,
    "start_time": "2021-12-24T08:13:01.698Z"
   },
   {
    "duration": 22,
    "start_time": "2021-12-24T08:13:01.720Z"
   },
   {
    "duration": 56,
    "start_time": "2021-12-24T08:13:01.744Z"
   },
   {
    "duration": 13,
    "start_time": "2021-12-24T08:13:01.803Z"
   },
   {
    "duration": 18,
    "start_time": "2021-12-24T08:13:01.818Z"
   },
   {
    "duration": 54,
    "start_time": "2021-12-24T08:13:01.839Z"
   },
   {
    "duration": 44,
    "start_time": "2021-12-24T08:13:01.895Z"
   },
   {
    "duration": 1059,
    "start_time": "2021-12-24T08:13:01.941Z"
   },
   {
    "duration": 20,
    "start_time": "2021-12-24T08:13:03.002Z"
   },
   {
    "duration": 759,
    "start_time": "2021-12-24T08:13:03.024Z"
   },
   {
    "duration": 21,
    "start_time": "2021-12-24T08:13:03.786Z"
   },
   {
    "duration": 938,
    "start_time": "2021-12-24T08:13:03.809Z"
   },
   {
    "duration": 22,
    "start_time": "2021-12-24T08:13:04.749Z"
   },
   {
    "duration": 14,
    "start_time": "2021-12-24T08:13:04.773Z"
   },
   {
    "duration": 1425,
    "start_time": "2021-12-24T09:12:50.987Z"
   },
   {
    "duration": 561,
    "start_time": "2021-12-24T09:12:52.415Z"
   },
   {
    "duration": 28,
    "start_time": "2021-12-24T09:12:52.983Z"
   },
   {
    "duration": 17,
    "start_time": "2021-12-24T09:12:53.013Z"
   },
   {
    "duration": 49,
    "start_time": "2021-12-24T09:12:53.032Z"
   },
   {
    "duration": 13,
    "start_time": "2021-12-24T09:12:53.084Z"
   },
   {
    "duration": 19,
    "start_time": "2021-12-24T09:12:53.101Z"
   },
   {
    "duration": 43,
    "start_time": "2021-12-24T09:12:53.123Z"
   },
   {
    "duration": 18,
    "start_time": "2021-12-24T09:12:53.168Z"
   },
   {
    "duration": 13,
    "start_time": "2021-12-24T09:12:53.188Z"
   },
   {
    "duration": 9,
    "start_time": "2021-12-24T09:12:53.203Z"
   },
   {
    "duration": 16,
    "start_time": "2021-12-24T09:12:53.214Z"
   },
   {
    "duration": 38,
    "start_time": "2021-12-24T09:12:53.233Z"
   },
   {
    "duration": 144,
    "start_time": "2021-12-24T09:12:53.274Z"
   },
   {
    "duration": 82,
    "start_time": "2021-12-24T09:12:53.420Z"
   },
   {
    "duration": 5,
    "start_time": "2021-12-24T09:12:53.505Z"
   },
   {
    "duration": 13,
    "start_time": "2021-12-24T09:12:53.512Z"
   },
   {
    "duration": 107,
    "start_time": "2021-12-24T09:12:53.527Z"
   },
   {
    "duration": 67,
    "start_time": "2021-12-24T09:12:53.636Z"
   },
   {
    "duration": 6,
    "start_time": "2021-12-24T09:12:53.706Z"
   },
   {
    "duration": 13,
    "start_time": "2021-12-24T09:12:53.715Z"
   },
   {
    "duration": 5,
    "start_time": "2021-12-24T09:12:53.734Z"
   },
   {
    "duration": 88,
    "start_time": "2021-12-24T09:12:53.742Z"
   },
   {
    "duration": 55,
    "start_time": "2021-12-24T09:12:53.832Z"
   },
   {
    "duration": 5,
    "start_time": "2021-12-24T09:12:53.889Z"
   },
   {
    "duration": 6,
    "start_time": "2021-12-24T09:12:53.897Z"
   },
   {
    "duration": 15,
    "start_time": "2021-12-24T09:12:53.905Z"
   },
   {
    "duration": 43,
    "start_time": "2021-12-24T09:12:53.923Z"
   },
   {
    "duration": 5,
    "start_time": "2021-12-24T09:12:53.968Z"
   },
   {
    "duration": 6,
    "start_time": "2021-12-24T09:12:53.975Z"
   },
   {
    "duration": 11,
    "start_time": "2021-12-24T09:12:53.983Z"
   },
   {
    "duration": 10,
    "start_time": "2021-12-24T09:12:53.996Z"
   },
   {
    "duration": 57,
    "start_time": "2021-12-24T09:12:54.008Z"
   },
   {
    "duration": 20,
    "start_time": "2021-12-24T09:12:54.067Z"
   },
   {
    "duration": 10,
    "start_time": "2021-12-24T09:12:54.089Z"
   },
   {
    "duration": 27,
    "start_time": "2021-12-24T09:12:54.101Z"
   },
   {
    "duration": 50,
    "start_time": "2021-12-24T09:12:54.131Z"
   },
   {
    "duration": 1120,
    "start_time": "2021-12-24T09:12:54.183Z"
   },
   {
    "duration": 21,
    "start_time": "2021-12-24T09:12:55.306Z"
   },
   {
    "duration": 825,
    "start_time": "2021-12-24T09:12:55.330Z"
   },
   {
    "duration": 26,
    "start_time": "2021-12-24T09:12:56.160Z"
   },
   {
    "duration": 789,
    "start_time": "2021-12-24T09:12:56.189Z"
   },
   {
    "duration": 14,
    "start_time": "2021-12-24T09:12:56.980Z"
   },
   {
    "duration": 14,
    "start_time": "2021-12-24T09:12:56.996Z"
   },
   {
    "duration": 533,
    "start_time": "2021-12-24T09:13:46.195Z"
   },
   {
    "duration": 22,
    "start_time": "2021-12-24T09:14:03.607Z"
   },
   {
    "duration": 1389,
    "start_time": "2021-12-24T09:22:19.873Z"
   },
   {
    "duration": 539,
    "start_time": "2021-12-24T09:22:21.265Z"
   },
   {
    "duration": 28,
    "start_time": "2021-12-24T09:22:21.807Z"
   },
   {
    "duration": 27,
    "start_time": "2021-12-24T09:22:21.838Z"
   },
   {
    "duration": 30,
    "start_time": "2021-12-24T09:22:21.868Z"
   },
   {
    "duration": 14,
    "start_time": "2021-12-24T09:22:21.901Z"
   },
   {
    "duration": 50,
    "start_time": "2021-12-24T09:22:21.917Z"
   },
   {
    "duration": 19,
    "start_time": "2021-12-24T09:22:21.971Z"
   },
   {
    "duration": 12,
    "start_time": "2021-12-24T09:22:21.993Z"
   },
   {
    "duration": 17,
    "start_time": "2021-12-24T09:22:22.007Z"
   },
   {
    "duration": 34,
    "start_time": "2021-12-24T09:22:22.026Z"
   },
   {
    "duration": 18,
    "start_time": "2021-12-24T09:22:22.063Z"
   },
   {
    "duration": 13,
    "start_time": "2021-12-24T09:22:22.084Z"
   },
   {
    "duration": 158,
    "start_time": "2021-12-24T09:22:22.101Z"
   },
   {
    "duration": 72,
    "start_time": "2021-12-24T09:22:22.262Z"
   },
   {
    "duration": 6,
    "start_time": "2021-12-24T09:22:22.337Z"
   },
   {
    "duration": 26,
    "start_time": "2021-12-24T09:22:22.345Z"
   },
   {
    "duration": 111,
    "start_time": "2021-12-24T09:22:22.374Z"
   },
   {
    "duration": 45,
    "start_time": "2021-12-24T09:22:22.488Z"
   },
   {
    "duration": 4,
    "start_time": "2021-12-24T09:22:22.536Z"
   },
   {
    "duration": 11,
    "start_time": "2021-12-24T09:22:22.559Z"
   },
   {
    "duration": 7,
    "start_time": "2021-12-24T09:22:22.572Z"
   },
   {
    "duration": 97,
    "start_time": "2021-12-24T09:22:22.586Z"
   },
   {
    "duration": 40,
    "start_time": "2021-12-24T09:22:22.687Z"
   },
   {
    "duration": 30,
    "start_time": "2021-12-24T09:22:22.729Z"
   },
   {
    "duration": 7,
    "start_time": "2021-12-24T09:22:22.762Z"
   },
   {
    "duration": 16,
    "start_time": "2021-12-24T09:22:22.772Z"
   },
   {
    "duration": 13,
    "start_time": "2021-12-24T09:22:22.790Z"
   },
   {
    "duration": 5,
    "start_time": "2021-12-24T09:22:22.805Z"
   },
   {
    "duration": 48,
    "start_time": "2021-12-24T09:22:22.813Z"
   },
   {
    "duration": 13,
    "start_time": "2021-12-24T09:22:22.863Z"
   },
   {
    "duration": 15,
    "start_time": "2021-12-24T09:22:22.879Z"
   },
   {
    "duration": 28,
    "start_time": "2021-12-24T09:22:22.896Z"
   },
   {
    "duration": 39,
    "start_time": "2021-12-24T09:22:22.926Z"
   },
   {
    "duration": 10,
    "start_time": "2021-12-24T09:22:22.967Z"
   },
   {
    "duration": 29,
    "start_time": "2021-12-24T09:22:22.979Z"
   },
   {
    "duration": 51,
    "start_time": "2021-12-24T09:22:23.010Z"
   },
   {
    "duration": 1129,
    "start_time": "2021-12-24T09:22:23.063Z"
   },
   {
    "duration": 21,
    "start_time": "2021-12-24T09:22:24.195Z"
   },
   {
    "duration": 773,
    "start_time": "2021-12-24T09:22:24.219Z"
   },
   {
    "duration": 23,
    "start_time": "2021-12-24T09:22:24.995Z"
   },
   {
    "duration": 789,
    "start_time": "2021-12-24T09:22:25.021Z"
   },
   {
    "duration": 13,
    "start_time": "2021-12-24T09:22:25.813Z"
   },
   {
    "duration": 39,
    "start_time": "2021-12-24T09:22:25.829Z"
   },
   {
    "duration": 1345,
    "start_time": "2021-12-24T09:56:54.773Z"
   },
   {
    "duration": 566,
    "start_time": "2021-12-24T09:56:56.121Z"
   },
   {
    "duration": 28,
    "start_time": "2021-12-24T09:56:56.690Z"
   },
   {
    "duration": 16,
    "start_time": "2021-12-24T09:56:56.720Z"
   },
   {
    "duration": 28,
    "start_time": "2021-12-24T09:56:56.738Z"
   },
   {
    "duration": 14,
    "start_time": "2021-12-24T09:56:56.774Z"
   },
   {
    "duration": 21,
    "start_time": "2021-12-24T09:56:56.791Z"
   },
   {
    "duration": 15,
    "start_time": "2021-12-24T09:56:56.815Z"
   },
   {
    "duration": 61,
    "start_time": "2021-12-24T09:56:56.833Z"
   },
   {
    "duration": 18,
    "start_time": "2021-12-24T09:56:56.896Z"
   },
   {
    "duration": 13,
    "start_time": "2021-12-24T09:56:56.917Z"
   },
   {
    "duration": 20,
    "start_time": "2021-12-24T09:56:56.933Z"
   },
   {
    "duration": 12,
    "start_time": "2021-12-24T09:56:56.956Z"
   },
   {
    "duration": 151,
    "start_time": "2021-12-24T09:56:56.971Z"
   },
   {
    "duration": 87,
    "start_time": "2021-12-24T09:56:57.125Z"
   },
   {
    "duration": 6,
    "start_time": "2021-12-24T09:56:57.215Z"
   },
   {
    "duration": 15,
    "start_time": "2021-12-24T09:56:57.224Z"
   },
   {
    "duration": 113,
    "start_time": "2021-12-24T09:56:57.258Z"
   },
   {
    "duration": 46,
    "start_time": "2021-12-24T09:56:57.374Z"
   },
   {
    "duration": 4,
    "start_time": "2021-12-24T09:56:57.423Z"
   },
   {
    "duration": 12,
    "start_time": "2021-12-24T09:56:57.430Z"
   },
   {
    "duration": 22,
    "start_time": "2021-12-24T09:56:57.444Z"
   },
   {
    "duration": 86,
    "start_time": "2021-12-24T09:56:57.468Z"
   },
   {
    "duration": 40,
    "start_time": "2021-12-24T09:56:57.556Z"
   },
   {
    "duration": 6,
    "start_time": "2021-12-24T09:56:57.599Z"
   },
   {
    "duration": 7,
    "start_time": "2021-12-24T09:56:57.607Z"
   },
   {
    "duration": 46,
    "start_time": "2021-12-24T09:56:57.616Z"
   },
   {
    "duration": 17,
    "start_time": "2021-12-24T09:56:57.664Z"
   },
   {
    "duration": 4,
    "start_time": "2021-12-24T09:56:57.683Z"
   },
   {
    "duration": 13,
    "start_time": "2021-12-24T09:56:57.690Z"
   },
   {
    "duration": 10,
    "start_time": "2021-12-24T09:56:57.705Z"
   },
   {
    "duration": 11,
    "start_time": "2021-12-24T09:56:57.718Z"
   },
   {
    "duration": 31,
    "start_time": "2021-12-24T09:56:57.759Z"
   },
   {
    "duration": 12,
    "start_time": "2021-12-24T09:56:57.793Z"
   },
   {
    "duration": 13,
    "start_time": "2021-12-24T09:56:57.808Z"
   },
   {
    "duration": 63,
    "start_time": "2021-12-24T09:56:57.823Z"
   },
   {
    "duration": 23,
    "start_time": "2021-12-24T09:56:57.889Z"
   },
   {
    "duration": 1213,
    "start_time": "2021-12-24T09:56:57.915Z"
   },
   {
    "duration": 34,
    "start_time": "2021-12-24T09:56:59.131Z"
   },
   {
    "duration": 916,
    "start_time": "2021-12-24T09:56:59.167Z"
   },
   {
    "duration": 21,
    "start_time": "2021-12-24T09:57:00.086Z"
   },
   {
    "duration": 832,
    "start_time": "2021-12-24T09:57:00.110Z"
   },
   {
    "duration": 22,
    "start_time": "2021-12-24T09:57:00.944Z"
   },
   {
    "duration": 23,
    "start_time": "2021-12-24T09:57:00.969Z"
   },
   {
    "duration": 19,
    "start_time": "2021-12-24T09:59:58.135Z"
   },
   {
    "duration": 755,
    "start_time": "2021-12-24T10:00:55.371Z"
   },
   {
    "duration": 653,
    "start_time": "2021-12-24T10:02:23.739Z"
   },
   {
    "duration": 747,
    "start_time": "2021-12-24T10:02:35.816Z"
   },
   {
    "duration": 317,
    "start_time": "2021-12-25T08:37:24.134Z"
   },
   {
    "duration": 1385,
    "start_time": "2021-12-25T08:41:56.716Z"
   },
   {
    "duration": 595,
    "start_time": "2021-12-25T08:41:58.105Z"
   },
   {
    "duration": 30,
    "start_time": "2021-12-25T08:41:58.703Z"
   },
   {
    "duration": 18,
    "start_time": "2021-12-25T08:41:58.736Z"
   },
   {
    "duration": 26,
    "start_time": "2021-12-25T08:41:58.757Z"
   },
   {
    "duration": 47,
    "start_time": "2021-12-25T08:41:58.786Z"
   },
   {
    "duration": 24,
    "start_time": "2021-12-25T08:41:58.835Z"
   },
   {
    "duration": 11,
    "start_time": "2021-12-25T08:41:58.863Z"
   },
   {
    "duration": 46,
    "start_time": "2021-12-25T08:41:58.877Z"
   },
   {
    "duration": 12,
    "start_time": "2021-12-25T08:41:58.926Z"
   },
   {
    "duration": 12,
    "start_time": "2021-12-25T08:41:58.940Z"
   },
   {
    "duration": 27,
    "start_time": "2021-12-25T08:41:58.955Z"
   },
   {
    "duration": 11,
    "start_time": "2021-12-25T08:41:58.985Z"
   },
   {
    "duration": 167,
    "start_time": "2021-12-25T08:41:58.998Z"
   },
   {
    "duration": 91,
    "start_time": "2021-12-25T08:41:59.167Z"
   },
   {
    "duration": 6,
    "start_time": "2021-12-25T08:41:59.260Z"
   },
   {
    "duration": 37,
    "start_time": "2021-12-25T08:41:59.268Z"
   },
   {
    "duration": 87,
    "start_time": "2021-12-25T08:41:59.308Z"
   },
   {
    "duration": 61,
    "start_time": "2021-12-25T08:41:59.398Z"
   },
   {
    "duration": 5,
    "start_time": "2021-12-25T08:41:59.461Z"
   },
   {
    "duration": 44,
    "start_time": "2021-12-25T08:41:59.469Z"
   },
   {
    "duration": 5,
    "start_time": "2021-12-25T08:41:59.516Z"
   },
   {
    "duration": 86,
    "start_time": "2021-12-25T08:41:59.526Z"
   },
   {
    "duration": 42,
    "start_time": "2021-12-25T08:41:59.615Z"
   },
   {
    "duration": 6,
    "start_time": "2021-12-25T08:41:59.660Z"
   },
   {
    "duration": 21,
    "start_time": "2021-12-25T08:41:59.668Z"
   },
   {
    "duration": 21,
    "start_time": "2021-12-25T08:41:59.691Z"
   },
   {
    "duration": 14,
    "start_time": "2021-12-25T08:41:59.722Z"
   },
   {
    "duration": 5,
    "start_time": "2021-12-25T08:41:59.738Z"
   },
   {
    "duration": 10,
    "start_time": "2021-12-25T08:41:59.745Z"
   },
   {
    "duration": 22,
    "start_time": "2021-12-25T08:41:59.759Z"
   },
   {
    "duration": 20,
    "start_time": "2021-12-25T08:41:59.784Z"
   },
   {
    "duration": 30,
    "start_time": "2021-12-25T08:41:59.823Z"
   },
   {
    "duration": 16,
    "start_time": "2021-12-25T08:41:59.855Z"
   },
   {
    "duration": 21,
    "start_time": "2021-12-25T08:41:59.873Z"
   },
   {
    "duration": 46,
    "start_time": "2021-12-25T08:41:59.897Z"
   },
   {
    "duration": 23,
    "start_time": "2021-12-25T08:41:59.946Z"
   },
   {
    "duration": 1300,
    "start_time": "2021-12-25T08:41:59.972Z"
   },
   {
    "duration": 22,
    "start_time": "2021-12-25T08:42:01.276Z"
   },
   {
    "duration": 800,
    "start_time": "2021-12-25T08:42:01.301Z"
   },
   {
    "duration": 38,
    "start_time": "2021-12-25T08:42:02.104Z"
   },
   {
    "duration": 747,
    "start_time": "2021-12-25T08:42:02.145Z"
   },
   {
    "duration": 37,
    "start_time": "2021-12-25T08:42:02.895Z"
   },
   {
    "duration": 792,
    "start_time": "2021-12-25T08:42:02.934Z"
   },
   {
    "duration": 16,
    "start_time": "2021-12-25T08:42:03.728Z"
   },
   {
    "duration": 19,
    "start_time": "2021-12-25T08:42:03.746Z"
   },
   {
    "duration": 1022,
    "start_time": "2021-12-26T05:53:16.567Z"
   },
   {
    "duration": 405,
    "start_time": "2021-12-26T05:53:17.591Z"
   },
   {
    "duration": 21,
    "start_time": "2021-12-26T05:53:17.998Z"
   },
   {
    "duration": 13,
    "start_time": "2021-12-26T05:53:18.021Z"
   },
   {
    "duration": 20,
    "start_time": "2021-12-26T05:53:18.036Z"
   },
   {
    "duration": 8,
    "start_time": "2021-12-26T05:53:18.057Z"
   },
   {
    "duration": 16,
    "start_time": "2021-12-26T05:53:18.067Z"
   },
   {
    "duration": 7,
    "start_time": "2021-12-26T05:53:18.085Z"
   },
   {
    "duration": 5,
    "start_time": "2021-12-26T05:53:18.094Z"
   },
   {
    "duration": 31,
    "start_time": "2021-12-26T05:53:18.100Z"
   },
   {
    "duration": 8,
    "start_time": "2021-12-26T05:53:18.133Z"
   },
   {
    "duration": 11,
    "start_time": "2021-12-26T05:53:18.143Z"
   },
   {
    "duration": 6,
    "start_time": "2021-12-26T05:53:18.155Z"
   },
   {
    "duration": 106,
    "start_time": "2021-12-26T05:53:18.163Z"
   },
   {
    "duration": 61,
    "start_time": "2021-12-26T05:53:18.270Z"
   },
   {
    "duration": 4,
    "start_time": "2021-12-26T05:53:18.332Z"
   },
   {
    "duration": 11,
    "start_time": "2021-12-26T05:53:18.337Z"
   },
   {
    "duration": 57,
    "start_time": "2021-12-26T05:53:18.349Z"
   },
   {
    "duration": 48,
    "start_time": "2021-12-26T05:53:18.408Z"
   },
   {
    "duration": 4,
    "start_time": "2021-12-26T05:53:18.457Z"
   },
   {
    "duration": 13,
    "start_time": "2021-12-26T05:53:18.462Z"
   },
   {
    "duration": 12,
    "start_time": "2021-12-26T05:53:18.476Z"
   },
   {
    "duration": 55,
    "start_time": "2021-12-26T05:53:18.491Z"
   },
   {
    "duration": 27,
    "start_time": "2021-12-26T05:53:18.548Z"
   },
   {
    "duration": 4,
    "start_time": "2021-12-26T05:53:18.576Z"
   },
   {
    "duration": 6,
    "start_time": "2021-12-26T05:53:18.581Z"
   },
   {
    "duration": 9,
    "start_time": "2021-12-26T05:53:18.588Z"
   },
   {
    "duration": 8,
    "start_time": "2021-12-26T05:53:18.599Z"
   },
   {
    "duration": 20,
    "start_time": "2021-12-26T05:53:18.609Z"
   },
   {
    "duration": 7,
    "start_time": "2021-12-26T05:53:18.631Z"
   },
   {
    "duration": 12,
    "start_time": "2021-12-26T05:53:18.640Z"
   },
   {
    "duration": 10,
    "start_time": "2021-12-26T05:53:18.653Z"
   },
   {
    "duration": 17,
    "start_time": "2021-12-26T05:53:18.664Z"
   },
   {
    "duration": 7,
    "start_time": "2021-12-26T05:53:18.683Z"
   },
   {
    "duration": 7,
    "start_time": "2021-12-26T05:53:18.692Z"
   },
   {
    "duration": 36,
    "start_time": "2021-12-26T05:53:18.701Z"
   },
   {
    "duration": 14,
    "start_time": "2021-12-26T05:53:18.739Z"
   },
   {
    "duration": 614,
    "start_time": "2021-12-26T05:53:18.755Z"
   },
   {
    "duration": 14,
    "start_time": "2021-12-26T05:53:19.370Z"
   },
   {
    "duration": 425,
    "start_time": "2021-12-26T05:53:19.385Z"
   },
   {
    "duration": 17,
    "start_time": "2021-12-26T05:53:19.812Z"
   },
   {
    "duration": 408,
    "start_time": "2021-12-26T05:53:19.830Z"
   },
   {
    "duration": 13,
    "start_time": "2021-12-26T05:53:20.240Z"
   },
   {
    "duration": 429,
    "start_time": "2021-12-26T05:53:20.255Z"
   },
   {
    "duration": 10,
    "start_time": "2021-12-26T05:53:20.686Z"
   },
   {
    "duration": 9,
    "start_time": "2021-12-26T05:53:20.698Z"
   },
   {
    "duration": 23,
    "start_time": "2021-12-26T05:57:13.866Z"
   },
   {
    "duration": 325,
    "start_time": "2021-12-26T05:58:01.160Z"
   },
   {
    "duration": 4,
    "start_time": "2021-12-26T05:58:05.383Z"
   },
   {
    "duration": 4,
    "start_time": "2021-12-26T06:05:03.592Z"
   },
   {
    "duration": 82,
    "start_time": "2021-12-26T06:07:18.982Z"
   },
   {
    "duration": 4,
    "start_time": "2021-12-26T06:07:21.921Z"
   },
   {
    "duration": 265,
    "start_time": "2021-12-26T06:12:01.100Z"
   },
   {
    "duration": 6,
    "start_time": "2021-12-26T06:13:51.930Z"
   },
   {
    "duration": 1184,
    "start_time": "2021-12-26T06:14:11.900Z"
   },
   {
    "duration": 4,
    "start_time": "2021-12-26T06:14:29.607Z"
   },
   {
    "duration": 6,
    "start_time": "2021-12-26T06:14:42.287Z"
   },
   {
    "duration": 5,
    "start_time": "2021-12-26T06:14:43.323Z"
   },
   {
    "duration": 911,
    "start_time": "2021-12-26T06:14:46.319Z"
   },
   {
    "duration": 10,
    "start_time": "2021-12-26T06:15:54.334Z"
   },
   {
    "duration": 732,
    "start_time": "2021-12-26T06:16:13.554Z"
   },
   {
    "duration": 248,
    "start_time": "2021-12-26T06:16:46.054Z"
   },
   {
    "duration": 22,
    "start_time": "2021-12-26T06:16:48.287Z"
   },
   {
    "duration": 7,
    "start_time": "2021-12-26T06:18:58.154Z"
   },
   {
    "duration": 258,
    "start_time": "2021-12-26T06:19:06.957Z"
   },
   {
    "duration": 11,
    "start_time": "2021-12-26T06:19:09.501Z"
   },
   {
    "duration": 8,
    "start_time": "2021-12-26T06:19:20.249Z"
   },
   {
    "duration": 7,
    "start_time": "2021-12-26T06:19:42.079Z"
   },
   {
    "duration": 7,
    "start_time": "2021-12-26T06:19:43.103Z"
   },
   {
    "duration": 7,
    "start_time": "2021-12-26T06:20:48.642Z"
   },
   {
    "duration": 13,
    "start_time": "2021-12-26T06:21:16.589Z"
   },
   {
    "duration": 2,
    "start_time": "2021-12-26T08:19:28.848Z"
   },
   {
    "duration": 1123,
    "start_time": "2021-12-26T08:19:38.231Z"
   },
   {
    "duration": 377,
    "start_time": "2021-12-26T08:19:39.357Z"
   },
   {
    "duration": 20,
    "start_time": "2021-12-26T08:19:39.736Z"
   },
   {
    "duration": 10,
    "start_time": "2021-12-26T08:19:39.758Z"
   },
   {
    "duration": 16,
    "start_time": "2021-12-26T08:19:39.770Z"
   },
   {
    "duration": 7,
    "start_time": "2021-12-26T08:19:39.787Z"
   },
   {
    "duration": 35,
    "start_time": "2021-12-26T08:19:39.796Z"
   },
   {
    "duration": 6,
    "start_time": "2021-12-26T08:19:39.833Z"
   },
   {
    "duration": 7,
    "start_time": "2021-12-26T08:19:39.841Z"
   },
   {
    "duration": 9,
    "start_time": "2021-12-26T08:19:39.850Z"
   },
   {
    "duration": 6,
    "start_time": "2021-12-26T08:19:39.860Z"
   },
   {
    "duration": 14,
    "start_time": "2021-12-26T08:19:39.868Z"
   },
   {
    "duration": 8,
    "start_time": "2021-12-26T08:19:39.883Z"
   },
   {
    "duration": 109,
    "start_time": "2021-12-26T08:19:39.892Z"
   },
   {
    "duration": 57,
    "start_time": "2021-12-26T08:19:40.003Z"
   },
   {
    "duration": 3,
    "start_time": "2021-12-26T08:19:40.061Z"
   },
   {
    "duration": 11,
    "start_time": "2021-12-26T08:19:40.066Z"
   },
   {
    "duration": 72,
    "start_time": "2021-12-26T08:19:40.078Z"
   },
   {
    "duration": 32,
    "start_time": "2021-12-26T08:19:40.152Z"
   },
   {
    "duration": 4,
    "start_time": "2021-12-26T08:19:40.185Z"
   },
   {
    "duration": 9,
    "start_time": "2021-12-26T08:19:40.191Z"
   },
   {
    "duration": 26,
    "start_time": "2021-12-26T08:19:40.201Z"
   },
   {
    "duration": 50,
    "start_time": "2021-12-26T08:19:40.231Z"
   },
   {
    "duration": 27,
    "start_time": "2021-12-26T08:19:40.283Z"
   },
   {
    "duration": 16,
    "start_time": "2021-12-26T08:19:40.312Z"
   },
   {
    "duration": 6,
    "start_time": "2021-12-26T08:19:40.329Z"
   },
   {
    "duration": 10,
    "start_time": "2021-12-26T08:19:40.336Z"
   },
   {
    "duration": 7,
    "start_time": "2021-12-26T08:19:40.348Z"
   },
   {
    "duration": 2,
    "start_time": "2021-12-26T08:19:40.357Z"
   },
   {
    "duration": 5,
    "start_time": "2021-12-26T08:19:40.361Z"
   },
   {
    "duration": 7,
    "start_time": "2021-12-26T08:19:40.367Z"
   },
   {
    "duration": 7,
    "start_time": "2021-12-26T08:19:40.375Z"
   },
   {
    "duration": 15,
    "start_time": "2021-12-26T08:19:40.383Z"
   },
   {
    "duration": 7,
    "start_time": "2021-12-26T08:19:40.427Z"
   },
   {
    "duration": 5,
    "start_time": "2021-12-26T08:19:40.436Z"
   },
   {
    "duration": 20,
    "start_time": "2021-12-26T08:19:40.442Z"
   },
   {
    "duration": 4,
    "start_time": "2021-12-26T08:19:40.463Z"
   },
   {
    "duration": 5,
    "start_time": "2021-12-26T08:19:40.468Z"
   },
   {
    "duration": 12,
    "start_time": "2021-12-26T08:19:40.475Z"
   },
   {
    "duration": 623,
    "start_time": "2021-12-26T08:19:40.489Z"
   },
   {
    "duration": 21,
    "start_time": "2021-12-26T08:19:41.113Z"
   },
   {
    "duration": 400,
    "start_time": "2021-12-26T08:19:41.135Z"
   },
   {
    "duration": 12,
    "start_time": "2021-12-26T08:19:41.536Z"
   },
   {
    "duration": 406,
    "start_time": "2021-12-26T08:19:41.549Z"
   },
   {
    "duration": 14,
    "start_time": "2021-12-26T08:19:41.956Z"
   },
   {
    "duration": 410,
    "start_time": "2021-12-26T08:19:41.972Z"
   },
   {
    "duration": 10,
    "start_time": "2021-12-26T08:19:42.383Z"
   },
   {
    "duration": 12,
    "start_time": "2021-12-26T08:19:42.394Z"
   },
   {
    "duration": 1089,
    "start_time": "2021-12-26T08:20:38.910Z"
   },
   {
    "duration": 387,
    "start_time": "2021-12-26T08:20:40.000Z"
   },
   {
    "duration": 20,
    "start_time": "2021-12-26T08:20:40.389Z"
   },
   {
    "duration": 10,
    "start_time": "2021-12-26T08:20:40.410Z"
   },
   {
    "duration": 15,
    "start_time": "2021-12-26T08:20:40.422Z"
   },
   {
    "duration": 9,
    "start_time": "2021-12-26T08:20:40.438Z"
   },
   {
    "duration": 14,
    "start_time": "2021-12-26T08:20:40.449Z"
   },
   {
    "duration": 6,
    "start_time": "2021-12-26T08:20:40.466Z"
   },
   {
    "duration": 6,
    "start_time": "2021-12-26T08:20:40.474Z"
   },
   {
    "duration": 10,
    "start_time": "2021-12-26T08:20:40.482Z"
   },
   {
    "duration": 7,
    "start_time": "2021-12-26T08:20:40.493Z"
   },
   {
    "duration": 34,
    "start_time": "2021-12-26T08:20:40.501Z"
   },
   {
    "duration": 8,
    "start_time": "2021-12-26T08:20:40.536Z"
   },
   {
    "duration": 93,
    "start_time": "2021-12-26T08:20:40.546Z"
   },
   {
    "duration": 53,
    "start_time": "2021-12-26T08:20:40.640Z"
   },
   {
    "duration": 4,
    "start_time": "2021-12-26T08:20:40.694Z"
   },
   {
    "duration": 11,
    "start_time": "2021-12-26T08:20:40.699Z"
   },
   {
    "duration": 75,
    "start_time": "2021-12-26T08:20:40.712Z"
   },
   {
    "duration": 47,
    "start_time": "2021-12-26T08:20:40.789Z"
   },
   {
    "duration": 3,
    "start_time": "2021-12-26T08:20:40.837Z"
   },
   {
    "duration": 9,
    "start_time": "2021-12-26T08:20:40.842Z"
   },
   {
    "duration": 4,
    "start_time": "2021-12-26T08:20:40.852Z"
   },
   {
    "duration": 47,
    "start_time": "2021-12-26T08:20:40.859Z"
   },
   {
    "duration": 46,
    "start_time": "2021-12-26T08:20:40.908Z"
   },
   {
    "duration": 3,
    "start_time": "2021-12-26T08:20:40.956Z"
   },
   {
    "duration": 12,
    "start_time": "2021-12-26T08:20:40.961Z"
   },
   {
    "duration": 20,
    "start_time": "2021-12-26T08:20:40.974Z"
   },
   {
    "duration": 16,
    "start_time": "2021-12-26T08:20:40.995Z"
   },
   {
    "duration": 8,
    "start_time": "2021-12-26T08:20:41.012Z"
   },
   {
    "duration": 9,
    "start_time": "2021-12-26T08:20:41.022Z"
   },
   {
    "duration": 16,
    "start_time": "2021-12-26T08:20:41.033Z"
   },
   {
    "duration": 14,
    "start_time": "2021-12-26T08:20:41.050Z"
   },
   {
    "duration": 15,
    "start_time": "2021-12-26T08:20:41.066Z"
   },
   {
    "duration": 14,
    "start_time": "2021-12-26T08:20:41.082Z"
   },
   {
    "duration": 6,
    "start_time": "2021-12-26T08:20:41.098Z"
   },
   {
    "duration": 16,
    "start_time": "2021-12-26T08:20:41.105Z"
   },
   {
    "duration": 7,
    "start_time": "2021-12-26T08:20:41.123Z"
   },
   {
    "duration": 5,
    "start_time": "2021-12-26T08:20:41.131Z"
   },
   {
    "duration": 12,
    "start_time": "2021-12-26T08:20:41.137Z"
   },
   {
    "duration": 599,
    "start_time": "2021-12-26T08:20:41.151Z"
   },
   {
    "duration": 12,
    "start_time": "2021-12-26T08:20:41.752Z"
   },
   {
    "duration": 412,
    "start_time": "2021-12-26T08:20:41.765Z"
   },
   {
    "duration": 13,
    "start_time": "2021-12-26T08:20:42.179Z"
   },
   {
    "duration": 411,
    "start_time": "2021-12-26T08:20:42.193Z"
   },
   {
    "duration": 22,
    "start_time": "2021-12-26T08:20:42.606Z"
   },
   {
    "duration": 419,
    "start_time": "2021-12-26T08:20:42.630Z"
   },
   {
    "duration": 11,
    "start_time": "2021-12-26T08:20:43.051Z"
   },
   {
    "duration": 10,
    "start_time": "2021-12-26T08:20:43.065Z"
   },
   {
    "duration": 1074,
    "start_time": "2021-12-26T08:27:30.732Z"
   },
   {
    "duration": 379,
    "start_time": "2021-12-26T08:27:31.808Z"
   },
   {
    "duration": 19,
    "start_time": "2021-12-26T08:27:32.189Z"
   },
   {
    "duration": 10,
    "start_time": "2021-12-26T08:27:32.210Z"
   },
   {
    "duration": 16,
    "start_time": "2021-12-26T08:27:32.221Z"
   },
   {
    "duration": 7,
    "start_time": "2021-12-26T08:27:32.239Z"
   },
   {
    "duration": 13,
    "start_time": "2021-12-26T08:27:32.247Z"
   },
   {
    "duration": 6,
    "start_time": "2021-12-26T08:27:32.262Z"
   },
   {
    "duration": 6,
    "start_time": "2021-12-26T08:27:32.270Z"
   },
   {
    "duration": 8,
    "start_time": "2021-12-26T08:27:32.277Z"
   },
   {
    "duration": 7,
    "start_time": "2021-12-26T08:27:32.286Z"
   },
   {
    "duration": 40,
    "start_time": "2021-12-26T08:27:32.294Z"
   },
   {
    "duration": 8,
    "start_time": "2021-12-26T08:27:32.335Z"
   },
   {
    "duration": 92,
    "start_time": "2021-12-26T08:27:32.344Z"
   },
   {
    "duration": 52,
    "start_time": "2021-12-26T08:27:32.438Z"
   },
   {
    "duration": 4,
    "start_time": "2021-12-26T08:27:32.491Z"
   },
   {
    "duration": 10,
    "start_time": "2021-12-26T08:27:32.496Z"
   },
   {
    "duration": 74,
    "start_time": "2021-12-26T08:27:32.507Z"
   },
   {
    "duration": 31,
    "start_time": "2021-12-26T08:27:32.583Z"
   },
   {
    "duration": 12,
    "start_time": "2021-12-26T08:27:32.616Z"
   },
   {
    "duration": 9,
    "start_time": "2021-12-26T08:27:32.629Z"
   },
   {
    "duration": 4,
    "start_time": "2021-12-26T08:27:32.640Z"
   },
   {
    "duration": 48,
    "start_time": "2021-12-26T08:27:32.648Z"
   },
   {
    "duration": 47,
    "start_time": "2021-12-26T08:27:32.698Z"
   },
   {
    "duration": 5,
    "start_time": "2021-12-26T08:27:32.747Z"
   },
   {
    "duration": 8,
    "start_time": "2021-12-26T08:27:32.753Z"
   },
   {
    "duration": 10,
    "start_time": "2021-12-26T08:27:32.762Z"
   },
   {
    "duration": 10,
    "start_time": "2021-12-26T08:27:32.774Z"
   },
   {
    "duration": 3,
    "start_time": "2021-12-26T08:27:32.786Z"
   },
   {
    "duration": 7,
    "start_time": "2021-12-26T08:27:32.790Z"
   },
   {
    "duration": 28,
    "start_time": "2021-12-26T08:27:32.799Z"
   },
   {
    "duration": 8,
    "start_time": "2021-12-26T08:27:32.829Z"
   },
   {
    "duration": 15,
    "start_time": "2021-12-26T08:27:32.839Z"
   },
   {
    "duration": 8,
    "start_time": "2021-12-26T08:27:32.856Z"
   },
   {
    "duration": 5,
    "start_time": "2021-12-26T08:27:32.866Z"
   },
   {
    "duration": 7,
    "start_time": "2021-12-26T08:27:32.873Z"
   },
   {
    "duration": 51,
    "start_time": "2021-12-26T08:27:32.882Z"
   },
   {
    "duration": 6,
    "start_time": "2021-12-26T08:27:32.935Z"
   },
   {
    "duration": 5,
    "start_time": "2021-12-26T08:27:32.943Z"
   },
   {
    "duration": 12,
    "start_time": "2021-12-26T08:27:32.949Z"
   },
   {
    "duration": 605,
    "start_time": "2021-12-26T08:27:32.963Z"
   },
   {
    "duration": 12,
    "start_time": "2021-12-26T08:27:33.569Z"
   },
   {
    "duration": 411,
    "start_time": "2021-12-26T08:27:33.583Z"
   },
   {
    "duration": 11,
    "start_time": "2021-12-26T08:27:33.996Z"
   },
   {
    "duration": 404,
    "start_time": "2021-12-26T08:27:34.009Z"
   },
   {
    "duration": 17,
    "start_time": "2021-12-26T08:27:34.414Z"
   },
   {
    "duration": 424,
    "start_time": "2021-12-26T08:27:34.433Z"
   },
   {
    "duration": 10,
    "start_time": "2021-12-26T08:27:34.859Z"
   },
   {
    "duration": 13,
    "start_time": "2021-12-26T08:27:34.871Z"
   },
   {
    "duration": 1384,
    "start_time": "2021-12-26T08:30:05.399Z"
   },
   {
    "duration": 527,
    "start_time": "2021-12-26T08:30:06.786Z"
   },
   {
    "duration": 34,
    "start_time": "2021-12-26T08:30:07.316Z"
   },
   {
    "duration": 15,
    "start_time": "2021-12-26T08:30:07.352Z"
   },
   {
    "duration": 26,
    "start_time": "2021-12-26T08:30:07.369Z"
   },
   {
    "duration": 32,
    "start_time": "2021-12-26T08:30:07.398Z"
   },
   {
    "duration": 24,
    "start_time": "2021-12-26T08:30:07.432Z"
   },
   {
    "duration": 10,
    "start_time": "2021-12-26T08:30:07.459Z"
   },
   {
    "duration": 8,
    "start_time": "2021-12-26T08:30:07.471Z"
   },
   {
    "duration": 11,
    "start_time": "2021-12-26T08:30:07.481Z"
   },
   {
    "duration": 38,
    "start_time": "2021-12-26T08:30:07.494Z"
   },
   {
    "duration": 15,
    "start_time": "2021-12-26T08:30:07.534Z"
   },
   {
    "duration": 8,
    "start_time": "2021-12-26T08:30:07.551Z"
   },
   {
    "duration": 136,
    "start_time": "2021-12-26T08:30:07.562Z"
   },
   {
    "duration": 68,
    "start_time": "2021-12-26T08:30:07.700Z"
   },
   {
    "duration": 4,
    "start_time": "2021-12-26T08:30:07.771Z"
   },
   {
    "duration": 12,
    "start_time": "2021-12-26T08:30:07.778Z"
   },
   {
    "duration": 109,
    "start_time": "2021-12-26T08:30:07.792Z"
   },
   {
    "duration": 47,
    "start_time": "2021-12-26T08:30:07.903Z"
   },
   {
    "duration": 4,
    "start_time": "2021-12-26T08:30:07.952Z"
   },
   {
    "duration": 9,
    "start_time": "2021-12-26T08:30:07.958Z"
   },
   {
    "duration": 5,
    "start_time": "2021-12-26T08:30:07.969Z"
   },
   {
    "duration": 92,
    "start_time": "2021-12-26T08:30:07.979Z"
   },
   {
    "duration": 36,
    "start_time": "2021-12-26T08:30:08.073Z"
   },
   {
    "duration": 4,
    "start_time": "2021-12-26T08:30:08.111Z"
   },
   {
    "duration": 6,
    "start_time": "2021-12-26T08:30:08.127Z"
   },
   {
    "duration": 13,
    "start_time": "2021-12-26T08:30:08.135Z"
   },
   {
    "duration": 10,
    "start_time": "2021-12-26T08:30:08.150Z"
   },
   {
    "duration": 4,
    "start_time": "2021-12-26T08:30:08.162Z"
   },
   {
    "duration": 5,
    "start_time": "2021-12-26T08:30:08.167Z"
   },
   {
    "duration": 12,
    "start_time": "2021-12-26T08:30:08.174Z"
   },
   {
    "duration": 12,
    "start_time": "2021-12-26T08:30:08.188Z"
   },
   {
    "duration": 47,
    "start_time": "2021-12-26T08:30:08.202Z"
   },
   {
    "duration": 18,
    "start_time": "2021-12-26T08:30:08.251Z"
   },
   {
    "duration": 10,
    "start_time": "2021-12-26T08:30:08.271Z"
   },
   {
    "duration": 7,
    "start_time": "2021-12-26T08:30:08.283Z"
   },
   {
    "duration": 14,
    "start_time": "2021-12-26T08:30:08.292Z"
   },
   {
    "duration": 41,
    "start_time": "2021-12-26T08:30:08.308Z"
   },
   {
    "duration": 6,
    "start_time": "2021-12-26T08:30:08.351Z"
   },
   {
    "duration": 5,
    "start_time": "2021-12-26T08:30:08.359Z"
   },
   {
    "duration": 14,
    "start_time": "2021-12-26T08:30:08.366Z"
   },
   {
    "duration": 611,
    "start_time": "2021-12-26T08:30:08.381Z"
   },
   {
    "duration": 14,
    "start_time": "2021-12-26T08:30:08.993Z"
   },
   {
    "duration": 520,
    "start_time": "2021-12-26T08:30:09.009Z"
   },
   {
    "duration": 11,
    "start_time": "2021-12-26T08:30:09.531Z"
   },
   {
    "duration": 413,
    "start_time": "2021-12-26T08:30:09.544Z"
   },
   {
    "duration": 13,
    "start_time": "2021-12-26T08:30:09.959Z"
   },
   {
    "duration": 422,
    "start_time": "2021-12-26T08:30:09.973Z"
   },
   {
    "duration": 10,
    "start_time": "2021-12-26T08:30:10.396Z"
   },
   {
    "duration": 23,
    "start_time": "2021-12-26T08:30:10.407Z"
   },
   {
    "duration": 1055,
    "start_time": "2021-12-26T08:32:22.772Z"
   },
   {
    "duration": 431,
    "start_time": "2021-12-26T08:32:23.830Z"
   },
   {
    "duration": 21,
    "start_time": "2021-12-26T08:32:24.263Z"
   },
   {
    "duration": 11,
    "start_time": "2021-12-26T08:32:24.287Z"
   },
   {
    "duration": 17,
    "start_time": "2021-12-26T08:32:24.300Z"
   },
   {
    "duration": 11,
    "start_time": "2021-12-26T08:32:24.319Z"
   },
   {
    "duration": 30,
    "start_time": "2021-12-26T08:32:24.333Z"
   },
   {
    "duration": 7,
    "start_time": "2021-12-26T08:32:24.367Z"
   },
   {
    "duration": 7,
    "start_time": "2021-12-26T08:32:24.377Z"
   },
   {
    "duration": 12,
    "start_time": "2021-12-26T08:32:24.386Z"
   },
   {
    "duration": 10,
    "start_time": "2021-12-26T08:32:24.400Z"
   },
   {
    "duration": 23,
    "start_time": "2021-12-26T08:32:24.412Z"
   },
   {
    "duration": 21,
    "start_time": "2021-12-26T08:32:24.437Z"
   },
   {
    "duration": 128,
    "start_time": "2021-12-26T08:32:24.460Z"
   },
   {
    "duration": 64,
    "start_time": "2021-12-26T08:32:24.590Z"
   },
   {
    "duration": 4,
    "start_time": "2021-12-26T08:32:24.656Z"
   },
   {
    "duration": 10,
    "start_time": "2021-12-26T08:32:24.662Z"
   },
   {
    "duration": 81,
    "start_time": "2021-12-26T08:32:24.674Z"
   },
   {
    "duration": 32,
    "start_time": "2021-12-26T08:32:24.757Z"
   },
   {
    "duration": 4,
    "start_time": "2021-12-26T08:32:24.791Z"
   },
   {
    "duration": 11,
    "start_time": "2021-12-26T08:32:24.797Z"
   },
   {
    "duration": 20,
    "start_time": "2021-12-26T08:32:24.809Z"
   },
   {
    "duration": 53,
    "start_time": "2021-12-26T08:32:24.835Z"
   },
   {
    "duration": 26,
    "start_time": "2021-12-26T08:32:24.890Z"
   },
   {
    "duration": 6,
    "start_time": "2021-12-26T08:32:24.928Z"
   },
   {
    "duration": 19,
    "start_time": "2021-12-26T08:32:24.936Z"
   },
   {
    "duration": 11,
    "start_time": "2021-12-26T08:32:24.957Z"
   },
   {
    "duration": 8,
    "start_time": "2021-12-26T08:32:24.969Z"
   },
   {
    "duration": 3,
    "start_time": "2021-12-26T08:32:24.979Z"
   },
   {
    "duration": 7,
    "start_time": "2021-12-26T08:32:24.983Z"
   },
   {
    "duration": 7,
    "start_time": "2021-12-26T08:32:24.991Z"
   },
   {
    "duration": 10,
    "start_time": "2021-12-26T08:32:25.000Z"
   },
   {
    "duration": 37,
    "start_time": "2021-12-26T08:32:25.012Z"
   },
   {
    "duration": 12,
    "start_time": "2021-12-26T08:32:25.051Z"
   },
   {
    "duration": 7,
    "start_time": "2021-12-26T08:32:25.065Z"
   },
   {
    "duration": 16,
    "start_time": "2021-12-26T08:32:25.074Z"
   },
   {
    "duration": 4,
    "start_time": "2021-12-26T08:32:25.092Z"
   },
   {
    "duration": 48,
    "start_time": "2021-12-26T08:32:25.098Z"
   },
   {
    "duration": 8,
    "start_time": "2021-12-26T08:32:25.148Z"
   },
   {
    "duration": 7,
    "start_time": "2021-12-26T08:32:25.157Z"
   },
   {
    "duration": 12,
    "start_time": "2021-12-26T08:32:25.165Z"
   },
   {
    "duration": 671,
    "start_time": "2021-12-26T08:32:25.179Z"
   },
   {
    "duration": 12,
    "start_time": "2021-12-26T08:32:25.852Z"
   },
   {
    "duration": 454,
    "start_time": "2021-12-26T08:32:25.865Z"
   },
   {
    "duration": 22,
    "start_time": "2021-12-26T08:32:26.320Z"
   },
   {
    "duration": 444,
    "start_time": "2021-12-26T08:32:26.344Z"
   },
   {
    "duration": 17,
    "start_time": "2021-12-26T08:32:26.790Z"
   },
   {
    "duration": 509,
    "start_time": "2021-12-26T08:32:26.809Z"
   },
   {
    "duration": 14,
    "start_time": "2021-12-26T08:32:27.320Z"
   },
   {
    "duration": 20,
    "start_time": "2021-12-26T08:32:27.336Z"
   },
   {
    "duration": 15,
    "start_time": "2021-12-26T08:45:21.574Z"
   },
   {
    "duration": 1108,
    "start_time": "2021-12-26T08:45:31.488Z"
   },
   {
    "duration": 374,
    "start_time": "2021-12-26T08:45:32.598Z"
   },
   {
    "duration": 35,
    "start_time": "2021-12-26T08:45:32.975Z"
   },
   {
    "duration": 27,
    "start_time": "2021-12-26T08:45:33.013Z"
   },
   {
    "duration": 36,
    "start_time": "2021-12-26T08:45:33.042Z"
   },
   {
    "duration": 10,
    "start_time": "2021-12-26T08:45:33.080Z"
   },
   {
    "duration": 14,
    "start_time": "2021-12-26T08:45:33.092Z"
   },
   {
    "duration": 22,
    "start_time": "2021-12-26T08:45:33.108Z"
   },
   {
    "duration": 6,
    "start_time": "2021-12-26T08:45:33.132Z"
   },
   {
    "duration": 32,
    "start_time": "2021-12-26T08:45:33.139Z"
   },
   {
    "duration": 13,
    "start_time": "2021-12-26T08:45:33.173Z"
   },
   {
    "duration": 19,
    "start_time": "2021-12-26T08:45:33.188Z"
   },
   {
    "duration": 32,
    "start_time": "2021-12-26T08:45:33.208Z"
   },
   {
    "duration": 100,
    "start_time": "2021-12-26T08:45:33.242Z"
   },
   {
    "duration": 46,
    "start_time": "2021-12-26T08:45:33.344Z"
   },
   {
    "duration": 4,
    "start_time": "2021-12-26T08:45:33.391Z"
   },
   {
    "duration": 12,
    "start_time": "2021-12-26T08:45:33.396Z"
   },
   {
    "duration": 71,
    "start_time": "2021-12-26T08:45:33.410Z"
   },
   {
    "duration": 30,
    "start_time": "2021-12-26T08:45:33.483Z"
   },
   {
    "duration": 13,
    "start_time": "2021-12-26T08:45:33.515Z"
   },
   {
    "duration": 13,
    "start_time": "2021-12-26T08:45:33.529Z"
   },
   {
    "duration": 9,
    "start_time": "2021-12-26T08:45:33.544Z"
   },
   {
    "duration": 58,
    "start_time": "2021-12-26T08:45:33.556Z"
   },
   {
    "duration": 25,
    "start_time": "2021-12-26T08:45:33.616Z"
   },
   {
    "duration": 3,
    "start_time": "2021-12-26T08:45:33.643Z"
   },
   {
    "duration": 8,
    "start_time": "2021-12-26T08:45:33.648Z"
   },
   {
    "duration": 16,
    "start_time": "2021-12-26T08:45:33.657Z"
   },
   {
    "duration": 21,
    "start_time": "2021-12-26T08:45:33.674Z"
   },
   {
    "duration": 5,
    "start_time": "2021-12-26T08:45:33.696Z"
   },
   {
    "duration": 12,
    "start_time": "2021-12-26T08:45:33.702Z"
   },
   {
    "duration": 15,
    "start_time": "2021-12-26T08:45:33.716Z"
   },
   {
    "duration": 15,
    "start_time": "2021-12-26T08:45:33.733Z"
   },
   {
    "duration": 24,
    "start_time": "2021-12-26T08:45:33.749Z"
   },
   {
    "duration": 23,
    "start_time": "2021-12-26T08:45:33.774Z"
   },
   {
    "duration": 9,
    "start_time": "2021-12-26T08:45:33.799Z"
   },
   {
    "duration": 28,
    "start_time": "2021-12-26T08:45:33.810Z"
   },
   {
    "duration": 20,
    "start_time": "2021-12-26T08:45:33.840Z"
   },
   {
    "duration": 12,
    "start_time": "2021-12-26T08:45:33.862Z"
   },
   {
    "duration": 28,
    "start_time": "2021-12-26T08:45:33.876Z"
   },
   {
    "duration": 19,
    "start_time": "2021-12-26T08:45:33.906Z"
   },
   {
    "duration": 10,
    "start_time": "2021-12-26T08:45:33.927Z"
   },
   {
    "duration": 27,
    "start_time": "2021-12-26T08:45:33.939Z"
   },
   {
    "duration": 1034,
    "start_time": "2021-12-26T08:45:33.968Z"
   },
   {
    "duration": 30,
    "start_time": "2021-12-26T08:45:35.004Z"
   },
   {
    "duration": 407,
    "start_time": "2021-12-26T08:45:35.036Z"
   },
   {
    "duration": 12,
    "start_time": "2021-12-26T08:45:35.445Z"
   },
   {
    "duration": 406,
    "start_time": "2021-12-26T08:45:35.459Z"
   },
   {
    "duration": 12,
    "start_time": "2021-12-26T08:45:35.867Z"
   },
   {
    "duration": 419,
    "start_time": "2021-12-26T08:45:35.881Z"
   },
   {
    "duration": 9,
    "start_time": "2021-12-26T08:45:36.302Z"
   },
   {
    "duration": 21,
    "start_time": "2021-12-26T08:45:36.312Z"
   },
   {
    "duration": 1077,
    "start_time": "2021-12-26T08:56:29.040Z"
   },
   {
    "duration": 389,
    "start_time": "2021-12-26T08:56:30.119Z"
   },
   {
    "duration": 18,
    "start_time": "2021-12-26T08:56:30.512Z"
   },
   {
    "duration": 19,
    "start_time": "2021-12-26T08:56:30.532Z"
   },
   {
    "duration": 25,
    "start_time": "2021-12-26T08:56:30.553Z"
   },
   {
    "duration": 7,
    "start_time": "2021-12-26T08:56:30.579Z"
   },
   {
    "duration": 19,
    "start_time": "2021-12-26T08:56:30.589Z"
   },
   {
    "duration": 11,
    "start_time": "2021-12-26T08:56:30.610Z"
   },
   {
    "duration": 19,
    "start_time": "2021-12-26T08:56:30.623Z"
   },
   {
    "duration": 20,
    "start_time": "2021-12-26T08:56:30.644Z"
   },
   {
    "duration": 15,
    "start_time": "2021-12-26T08:56:30.665Z"
   },
   {
    "duration": 34,
    "start_time": "2021-12-26T08:56:30.682Z"
   },
   {
    "duration": 12,
    "start_time": "2021-12-26T08:56:30.717Z"
   },
   {
    "duration": 104,
    "start_time": "2021-12-26T08:56:30.730Z"
   },
   {
    "duration": 49,
    "start_time": "2021-12-26T08:56:30.836Z"
   },
   {
    "duration": 3,
    "start_time": "2021-12-26T08:56:30.887Z"
   },
   {
    "duration": 21,
    "start_time": "2021-12-26T08:56:30.891Z"
   },
   {
    "duration": 66,
    "start_time": "2021-12-26T08:56:30.914Z"
   },
   {
    "duration": 32,
    "start_time": "2021-12-26T08:56:30.982Z"
   },
   {
    "duration": 11,
    "start_time": "2021-12-26T08:56:31.016Z"
   },
   {
    "duration": 10,
    "start_time": "2021-12-26T08:56:31.029Z"
   },
   {
    "duration": 10,
    "start_time": "2021-12-26T08:56:31.042Z"
   },
   {
    "duration": 53,
    "start_time": "2021-12-26T08:56:31.053Z"
   },
   {
    "duration": 26,
    "start_time": "2021-12-26T08:56:31.108Z"
   },
   {
    "duration": 4,
    "start_time": "2021-12-26T08:56:31.135Z"
   },
   {
    "duration": 15,
    "start_time": "2021-12-26T08:56:31.140Z"
   },
   {
    "duration": 10,
    "start_time": "2021-12-26T08:56:31.157Z"
   },
   {
    "duration": 8,
    "start_time": "2021-12-26T08:56:31.169Z"
   },
   {
    "duration": 12,
    "start_time": "2021-12-26T08:56:31.178Z"
   },
   {
    "duration": 3,
    "start_time": "2021-12-26T08:56:31.192Z"
   },
   {
    "duration": 6,
    "start_time": "2021-12-26T08:56:31.196Z"
   },
   {
    "duration": 15,
    "start_time": "2021-12-26T08:56:31.204Z"
   },
   {
    "duration": 18,
    "start_time": "2021-12-26T08:56:31.221Z"
   },
   {
    "duration": 23,
    "start_time": "2021-12-26T08:56:31.241Z"
   },
   {
    "duration": 12,
    "start_time": "2021-12-26T08:56:31.266Z"
   },
   {
    "duration": 7,
    "start_time": "2021-12-26T08:56:31.280Z"
   },
   {
    "duration": 23,
    "start_time": "2021-12-26T08:56:31.288Z"
   },
   {
    "duration": 14,
    "start_time": "2021-12-26T08:56:31.312Z"
   },
   {
    "duration": 18,
    "start_time": "2021-12-26T08:56:31.327Z"
   },
   {
    "duration": 20,
    "start_time": "2021-12-26T08:56:31.346Z"
   },
   {
    "duration": 6,
    "start_time": "2021-12-26T08:56:31.368Z"
   },
   {
    "duration": 7,
    "start_time": "2021-12-26T08:56:31.376Z"
   },
   {
    "duration": 13,
    "start_time": "2021-12-26T08:56:31.384Z"
   },
   {
    "duration": 582,
    "start_time": "2021-12-26T08:56:31.399Z"
   },
   {
    "duration": 12,
    "start_time": "2021-12-26T08:56:31.982Z"
   },
   {
    "duration": 478,
    "start_time": "2021-12-26T08:56:31.995Z"
   },
   {
    "duration": 13,
    "start_time": "2021-12-26T08:56:32.474Z"
   },
   {
    "duration": 617,
    "start_time": "2021-12-26T08:56:32.489Z"
   },
   {
    "duration": 20,
    "start_time": "2021-12-26T08:56:33.108Z"
   },
   {
    "duration": 412,
    "start_time": "2021-12-26T08:56:33.129Z"
   },
   {
    "duration": 9,
    "start_time": "2021-12-26T08:56:33.543Z"
   },
   {
    "duration": 13,
    "start_time": "2021-12-26T08:56:33.554Z"
   },
   {
    "duration": 12,
    "start_time": "2021-12-26T08:58:03.112Z"
   },
   {
    "duration": 12,
    "start_time": "2021-12-26T08:58:16.441Z"
   },
   {
    "duration": 1276,
    "start_time": "2021-12-26T09:02:45.920Z"
   },
   {
    "duration": 374,
    "start_time": "2021-12-26T09:02:47.198Z"
   },
   {
    "duration": 20,
    "start_time": "2021-12-26T09:02:47.574Z"
   },
   {
    "duration": 10,
    "start_time": "2021-12-26T09:02:47.596Z"
   },
   {
    "duration": 19,
    "start_time": "2021-12-26T09:02:47.607Z"
   },
   {
    "duration": 8,
    "start_time": "2021-12-26T09:02:47.628Z"
   },
   {
    "duration": 18,
    "start_time": "2021-12-26T09:02:47.638Z"
   },
   {
    "duration": 7,
    "start_time": "2021-12-26T09:02:47.659Z"
   },
   {
    "duration": 7,
    "start_time": "2021-12-26T09:02:47.668Z"
   },
   {
    "duration": 8,
    "start_time": "2021-12-26T09:02:47.676Z"
   },
   {
    "duration": 7,
    "start_time": "2021-12-26T09:02:47.686Z"
   },
   {
    "duration": 42,
    "start_time": "2021-12-26T09:02:47.695Z"
   },
   {
    "duration": 9,
    "start_time": "2021-12-26T09:02:47.739Z"
   },
   {
    "duration": 104,
    "start_time": "2021-12-26T09:02:47.749Z"
   },
   {
    "duration": 53,
    "start_time": "2021-12-26T09:02:47.855Z"
   },
   {
    "duration": 498,
    "start_time": "2021-12-26T09:02:47.910Z"
   },
   {
    "duration": -719,
    "start_time": "2021-12-26T09:02:49.129Z"
   },
   {
    "duration": -720,
    "start_time": "2021-12-26T09:02:49.131Z"
   },
   {
    "duration": -723,
    "start_time": "2021-12-26T09:02:49.135Z"
   },
   {
    "duration": -725,
    "start_time": "2021-12-26T09:02:49.138Z"
   },
   {
    "duration": -726,
    "start_time": "2021-12-26T09:02:49.140Z"
   },
   {
    "duration": -727,
    "start_time": "2021-12-26T09:02:49.142Z"
   },
   {
    "duration": -729,
    "start_time": "2021-12-26T09:02:49.145Z"
   },
   {
    "duration": -736,
    "start_time": "2021-12-26T09:02:49.153Z"
   },
   {
    "duration": -737,
    "start_time": "2021-12-26T09:02:49.155Z"
   },
   {
    "duration": -738,
    "start_time": "2021-12-26T09:02:49.158Z"
   },
   {
    "duration": -739,
    "start_time": "2021-12-26T09:02:49.160Z"
   },
   {
    "duration": -741,
    "start_time": "2021-12-26T09:02:49.164Z"
   },
   {
    "duration": -742,
    "start_time": "2021-12-26T09:02:49.166Z"
   },
   {
    "duration": -743,
    "start_time": "2021-12-26T09:02:49.168Z"
   },
   {
    "duration": -744,
    "start_time": "2021-12-26T09:02:49.171Z"
   },
   {
    "duration": -745,
    "start_time": "2021-12-26T09:02:49.173Z"
   },
   {
    "duration": -745,
    "start_time": "2021-12-26T09:02:49.175Z"
   },
   {
    "duration": -747,
    "start_time": "2021-12-26T09:02:49.178Z"
   },
   {
    "duration": -747,
    "start_time": "2021-12-26T09:02:49.180Z"
   },
   {
    "duration": -749,
    "start_time": "2021-12-26T09:02:49.183Z"
   },
   {
    "duration": -749,
    "start_time": "2021-12-26T09:02:49.184Z"
   },
   {
    "duration": -749,
    "start_time": "2021-12-26T09:02:49.186Z"
   },
   {
    "duration": -750,
    "start_time": "2021-12-26T09:02:49.188Z"
   },
   {
    "duration": -761,
    "start_time": "2021-12-26T09:02:49.201Z"
   },
   {
    "duration": -762,
    "start_time": "2021-12-26T09:02:49.203Z"
   },
   {
    "duration": -763,
    "start_time": "2021-12-26T09:02:49.205Z"
   },
   {
    "duration": -765,
    "start_time": "2021-12-26T09:02:49.209Z"
   },
   {
    "duration": -766,
    "start_time": "2021-12-26T09:02:49.211Z"
   },
   {
    "duration": -772,
    "start_time": "2021-12-26T09:02:49.218Z"
   },
   {
    "duration": -772,
    "start_time": "2021-12-26T09:02:49.220Z"
   },
   {
    "duration": -774,
    "start_time": "2021-12-26T09:02:49.223Z"
   },
   {
    "duration": -777,
    "start_time": "2021-12-26T09:02:49.227Z"
   },
   {
    "duration": -778,
    "start_time": "2021-12-26T09:02:49.230Z"
   },
   {
    "duration": -787,
    "start_time": "2021-12-26T09:02:49.240Z"
   },
   {
    "duration": -787,
    "start_time": "2021-12-26T09:02:49.242Z"
   },
   {
    "duration": -788,
    "start_time": "2021-12-26T09:02:49.244Z"
   },
   {
    "duration": -795,
    "start_time": "2021-12-26T09:02:49.252Z"
   },
   {
    "duration": -796,
    "start_time": "2021-12-26T09:02:49.255Z"
   },
   {
    "duration": 12,
    "start_time": "2021-12-26T09:03:22.789Z"
   },
   {
    "duration": 1061,
    "start_time": "2021-12-26T09:03:32.135Z"
   },
   {
    "duration": 368,
    "start_time": "2021-12-26T09:03:33.197Z"
   },
   {
    "duration": 20,
    "start_time": "2021-12-26T09:03:33.567Z"
   },
   {
    "duration": 11,
    "start_time": "2021-12-26T09:03:33.588Z"
   },
   {
    "duration": 16,
    "start_time": "2021-12-26T09:03:33.600Z"
   },
   {
    "duration": 8,
    "start_time": "2021-12-26T09:03:33.618Z"
   },
   {
    "duration": 15,
    "start_time": "2021-12-26T09:03:33.627Z"
   },
   {
    "duration": 7,
    "start_time": "2021-12-26T09:03:33.644Z"
   },
   {
    "duration": 7,
    "start_time": "2021-12-26T09:03:33.653Z"
   },
   {
    "duration": 8,
    "start_time": "2021-12-26T09:03:33.661Z"
   },
   {
    "duration": 11,
    "start_time": "2021-12-26T09:03:33.670Z"
   },
   {
    "duration": 11,
    "start_time": "2021-12-26T09:03:33.682Z"
   },
   {
    "duration": 7,
    "start_time": "2021-12-26T09:03:33.695Z"
   },
   {
    "duration": 99,
    "start_time": "2021-12-26T09:03:33.703Z"
   },
   {
    "duration": 54,
    "start_time": "2021-12-26T09:03:33.803Z"
   },
   {
    "duration": 15,
    "start_time": "2021-12-26T09:03:33.858Z"
   },
   {
    "duration": 3,
    "start_time": "2021-12-26T09:03:33.874Z"
   },
   {
    "duration": 9,
    "start_time": "2021-12-26T09:03:33.879Z"
   },
   {
    "duration": 75,
    "start_time": "2021-12-26T09:03:33.890Z"
   },
   {
    "duration": 31,
    "start_time": "2021-12-26T09:03:33.966Z"
   },
   {
    "duration": 4,
    "start_time": "2021-12-26T09:03:33.998Z"
   },
   {
    "duration": 5,
    "start_time": "2021-12-26T09:03:34.003Z"
   },
   {
    "duration": 18,
    "start_time": "2021-12-26T09:03:34.011Z"
   },
   {
    "duration": 48,
    "start_time": "2021-12-26T09:03:34.031Z"
   },
   {
    "duration": 26,
    "start_time": "2021-12-26T09:03:34.080Z"
   },
   {
    "duration": 22,
    "start_time": "2021-12-26T09:03:34.108Z"
   },
   {
    "duration": 7,
    "start_time": "2021-12-26T09:03:34.132Z"
   },
   {
    "duration": 12,
    "start_time": "2021-12-26T09:03:34.140Z"
   },
   {
    "duration": 8,
    "start_time": "2021-12-26T09:03:34.153Z"
   },
   {
    "duration": 10,
    "start_time": "2021-12-26T09:03:34.163Z"
   },
   {
    "duration": 3,
    "start_time": "2021-12-26T09:03:34.175Z"
   },
   {
    "duration": 5,
    "start_time": "2021-12-26T09:03:34.179Z"
   },
   {
    "duration": 8,
    "start_time": "2021-12-26T09:03:34.185Z"
   },
   {
    "duration": 38,
    "start_time": "2021-12-26T09:03:34.195Z"
   },
   {
    "duration": 8,
    "start_time": "2021-12-26T09:03:34.234Z"
   },
   {
    "duration": 16,
    "start_time": "2021-12-26T09:03:34.243Z"
   },
   {
    "duration": 12,
    "start_time": "2021-12-26T09:03:34.260Z"
   },
   {
    "duration": 7,
    "start_time": "2021-12-26T09:03:34.273Z"
   },
   {
    "duration": 12,
    "start_time": "2021-12-26T09:03:34.281Z"
   },
   {
    "duration": 44,
    "start_time": "2021-12-26T09:03:34.295Z"
   },
   {
    "duration": 8,
    "start_time": "2021-12-26T09:03:34.340Z"
   },
   {
    "duration": 16,
    "start_time": "2021-12-26T09:03:34.350Z"
   },
   {
    "duration": 5,
    "start_time": "2021-12-26T09:03:34.368Z"
   },
   {
    "duration": 6,
    "start_time": "2021-12-26T09:03:34.375Z"
   },
   {
    "duration": 11,
    "start_time": "2021-12-26T09:03:34.383Z"
   },
   {
    "duration": 603,
    "start_time": "2021-12-26T09:03:34.395Z"
   },
   {
    "duration": 12,
    "start_time": "2021-12-26T09:03:35.000Z"
   },
   {
    "duration": 409,
    "start_time": "2021-12-26T09:03:35.013Z"
   },
   {
    "duration": 14,
    "start_time": "2021-12-26T09:03:35.423Z"
   },
   {
    "duration": 408,
    "start_time": "2021-12-26T09:03:35.438Z"
   },
   {
    "duration": 13,
    "start_time": "2021-12-26T09:03:35.847Z"
   },
   {
    "duration": 414,
    "start_time": "2021-12-26T09:03:35.862Z"
   },
   {
    "duration": 9,
    "start_time": "2021-12-26T09:03:36.278Z"
   },
   {
    "duration": 10,
    "start_time": "2021-12-26T09:03:36.289Z"
   },
   {
    "duration": 1163,
    "start_time": "2021-12-26T09:21:11.427Z"
   },
   {
    "duration": 396,
    "start_time": "2021-12-26T09:21:12.592Z"
   },
   {
    "duration": 19,
    "start_time": "2021-12-26T09:21:12.990Z"
   },
   {
    "duration": 11,
    "start_time": "2021-12-26T09:21:13.011Z"
   },
   {
    "duration": 18,
    "start_time": "2021-12-26T09:21:13.023Z"
   },
   {
    "duration": 19,
    "start_time": "2021-12-26T09:21:13.043Z"
   },
   {
    "duration": 16,
    "start_time": "2021-12-26T09:21:13.064Z"
   },
   {
    "duration": 8,
    "start_time": "2021-12-26T09:21:13.082Z"
   },
   {
    "duration": 11,
    "start_time": "2021-12-26T09:21:13.091Z"
   },
   {
    "duration": 26,
    "start_time": "2021-12-26T09:21:13.104Z"
   },
   {
    "duration": 15,
    "start_time": "2021-12-26T09:21:13.132Z"
   },
   {
    "duration": 22,
    "start_time": "2021-12-26T09:21:13.149Z"
   },
   {
    "duration": 5,
    "start_time": "2021-12-26T09:21:13.173Z"
   },
   {
    "duration": 99,
    "start_time": "2021-12-26T09:21:13.179Z"
   },
   {
    "duration": 66,
    "start_time": "2021-12-26T09:21:13.280Z"
   },
   {
    "duration": 13,
    "start_time": "2021-12-26T09:21:13.348Z"
   },
   {
    "duration": 3,
    "start_time": "2021-12-26T09:21:13.363Z"
   },
   {
    "duration": 8,
    "start_time": "2021-12-26T09:21:13.368Z"
   },
   {
    "duration": 86,
    "start_time": "2021-12-26T09:21:13.378Z"
   },
   {
    "duration": 32,
    "start_time": "2021-12-26T09:21:13.466Z"
   },
   {
    "duration": 4,
    "start_time": "2021-12-26T09:21:13.500Z"
   },
   {
    "duration": 22,
    "start_time": "2021-12-26T09:21:13.506Z"
   },
   {
    "duration": 4,
    "start_time": "2021-12-26T09:21:13.533Z"
   },
   {
    "duration": 63,
    "start_time": "2021-12-26T09:21:13.540Z"
   },
   {
    "duration": 38,
    "start_time": "2021-12-26T09:21:13.605Z"
   },
   {
    "duration": 3,
    "start_time": "2021-12-26T09:21:13.646Z"
   },
   {
    "duration": 9,
    "start_time": "2021-12-26T09:21:13.651Z"
   },
   {
    "duration": 11,
    "start_time": "2021-12-26T09:21:13.662Z"
   },
   {
    "duration": 9,
    "start_time": "2021-12-26T09:21:13.675Z"
   },
   {
    "duration": 10,
    "start_time": "2021-12-26T09:21:13.685Z"
   },
   {
    "duration": 3,
    "start_time": "2021-12-26T09:21:13.696Z"
   },
   {
    "duration": 29,
    "start_time": "2021-12-26T09:21:13.700Z"
   },
   {
    "duration": 8,
    "start_time": "2021-12-26T09:21:13.731Z"
   },
   {
    "duration": 14,
    "start_time": "2021-12-26T09:21:13.741Z"
   },
   {
    "duration": 8,
    "start_time": "2021-12-26T09:21:13.758Z"
   },
   {
    "duration": 16,
    "start_time": "2021-12-26T09:21:13.767Z"
   },
   {
    "duration": 14,
    "start_time": "2021-12-26T09:21:13.784Z"
   },
   {
    "duration": 35,
    "start_time": "2021-12-26T09:21:13.799Z"
   },
   {
    "duration": 16,
    "start_time": "2021-12-26T09:21:13.836Z"
   },
   {
    "duration": 15,
    "start_time": "2021-12-26T09:21:13.854Z"
   },
   {
    "duration": 7,
    "start_time": "2021-12-26T09:21:13.871Z"
   },
   {
    "duration": 20,
    "start_time": "2021-12-26T09:21:13.879Z"
   },
   {
    "duration": 28,
    "start_time": "2021-12-26T09:21:13.900Z"
   },
   {
    "duration": 17,
    "start_time": "2021-12-26T09:21:13.930Z"
   },
   {
    "duration": 19,
    "start_time": "2021-12-26T09:21:13.949Z"
   },
   {
    "duration": 633,
    "start_time": "2021-12-26T09:21:13.970Z"
   },
   {
    "duration": 23,
    "start_time": "2021-12-26T09:21:14.605Z"
   },
   {
    "duration": 446,
    "start_time": "2021-12-26T09:21:14.630Z"
   },
   {
    "duration": 12,
    "start_time": "2021-12-26T09:21:15.078Z"
   },
   {
    "duration": 532,
    "start_time": "2021-12-26T09:21:15.091Z"
   },
   {
    "duration": 15,
    "start_time": "2021-12-26T09:21:15.628Z"
   },
   {
    "duration": 455,
    "start_time": "2021-12-26T09:21:15.646Z"
   },
   {
    "duration": 9,
    "start_time": "2021-12-26T09:21:16.103Z"
   },
   {
    "duration": 25,
    "start_time": "2021-12-26T09:21:16.113Z"
   },
   {
    "duration": 1058,
    "start_time": "2021-12-26T09:23:27.237Z"
   },
   {
    "duration": 384,
    "start_time": "2021-12-26T09:23:28.297Z"
   },
   {
    "duration": 22,
    "start_time": "2021-12-26T09:23:28.683Z"
   },
   {
    "duration": 11,
    "start_time": "2021-12-26T09:23:28.707Z"
   },
   {
    "duration": 18,
    "start_time": "2021-12-26T09:23:28.719Z"
   },
   {
    "duration": 8,
    "start_time": "2021-12-26T09:23:28.739Z"
   },
   {
    "duration": 20,
    "start_time": "2021-12-26T09:23:28.748Z"
   },
   {
    "duration": 7,
    "start_time": "2021-12-26T09:23:28.771Z"
   },
   {
    "duration": 20,
    "start_time": "2021-12-26T09:23:28.780Z"
   },
   {
    "duration": 11,
    "start_time": "2021-12-26T09:23:28.801Z"
   },
   {
    "duration": 11,
    "start_time": "2021-12-26T09:23:28.826Z"
   },
   {
    "duration": 13,
    "start_time": "2021-12-26T09:23:28.840Z"
   },
   {
    "duration": 9,
    "start_time": "2021-12-26T09:23:28.855Z"
   },
   {
    "duration": 101,
    "start_time": "2021-12-26T09:23:28.866Z"
   },
   {
    "duration": 74,
    "start_time": "2021-12-26T09:23:28.969Z"
   },
   {
    "duration": 27,
    "start_time": "2021-12-26T09:23:29.045Z"
   },
   {
    "duration": 4,
    "start_time": "2021-12-26T09:23:29.074Z"
   },
   {
    "duration": 10,
    "start_time": "2021-12-26T09:23:29.080Z"
   },
   {
    "duration": 73,
    "start_time": "2021-12-26T09:23:29.092Z"
   },
   {
    "duration": 32,
    "start_time": "2021-12-26T09:23:29.167Z"
   },
   {
    "duration": 26,
    "start_time": "2021-12-26T09:23:29.201Z"
   },
   {
    "duration": 7,
    "start_time": "2021-12-26T09:23:29.229Z"
   },
   {
    "duration": 5,
    "start_time": "2021-12-26T09:23:29.240Z"
   },
   {
    "duration": 7,
    "start_time": "2021-12-26T09:23:29.247Z"
   },
   {
    "duration": 85,
    "start_time": "2021-12-26T09:23:29.256Z"
   },
   {
    "duration": 25,
    "start_time": "2021-12-26T09:23:29.343Z"
   },
   {
    "duration": 11,
    "start_time": "2021-12-26T09:23:29.370Z"
   },
   {
    "duration": 3,
    "start_time": "2021-12-26T09:23:29.383Z"
   },
   {
    "duration": 8,
    "start_time": "2021-12-26T09:23:29.388Z"
   },
   {
    "duration": 34,
    "start_time": "2021-12-26T09:23:29.397Z"
   },
   {
    "duration": 10,
    "start_time": "2021-12-26T09:23:29.433Z"
   },
   {
    "duration": 20,
    "start_time": "2021-12-26T09:23:29.445Z"
   },
   {
    "duration": 4,
    "start_time": "2021-12-26T09:23:29.467Z"
   },
   {
    "duration": 8,
    "start_time": "2021-12-26T09:23:29.472Z"
   },
   {
    "duration": 10,
    "start_time": "2021-12-26T09:23:29.482Z"
   },
   {
    "duration": 17,
    "start_time": "2021-12-26T09:23:29.493Z"
   },
   {
    "duration": 8,
    "start_time": "2021-12-26T09:23:29.528Z"
   },
   {
    "duration": 17,
    "start_time": "2021-12-26T09:23:29.538Z"
   },
   {
    "duration": 14,
    "start_time": "2021-12-26T09:23:29.557Z"
   },
   {
    "duration": 9,
    "start_time": "2021-12-26T09:23:29.572Z"
   },
   {
    "duration": 16,
    "start_time": "2021-12-26T09:23:29.583Z"
   },
   {
    "duration": 39,
    "start_time": "2021-12-26T09:23:29.601Z"
   },
   {
    "duration": 7,
    "start_time": "2021-12-26T09:23:29.642Z"
   },
   {
    "duration": 16,
    "start_time": "2021-12-26T09:23:29.650Z"
   },
   {
    "duration": 6,
    "start_time": "2021-12-26T09:23:29.667Z"
   },
   {
    "duration": 6,
    "start_time": "2021-12-26T09:23:29.674Z"
   },
   {
    "duration": 12,
    "start_time": "2021-12-26T09:23:29.682Z"
   },
   {
    "duration": 658,
    "start_time": "2021-12-26T09:23:29.695Z"
   },
   {
    "duration": 13,
    "start_time": "2021-12-26T09:23:30.355Z"
   },
   {
    "duration": 426,
    "start_time": "2021-12-26T09:23:30.370Z"
   },
   {
    "duration": 12,
    "start_time": "2021-12-26T09:23:30.798Z"
   },
   {
    "duration": 417,
    "start_time": "2021-12-26T09:23:30.812Z"
   },
   {
    "duration": 13,
    "start_time": "2021-12-26T09:23:31.230Z"
   },
   {
    "duration": 421,
    "start_time": "2021-12-26T09:23:31.244Z"
   },
   {
    "duration": 10,
    "start_time": "2021-12-26T09:23:31.666Z"
   },
   {
    "duration": 12,
    "start_time": "2021-12-26T09:23:31.678Z"
   },
   {
    "duration": 1098,
    "start_time": "2021-12-26T09:26:01.608Z"
   },
   {
    "duration": 422,
    "start_time": "2021-12-26T09:26:02.708Z"
   },
   {
    "duration": 24,
    "start_time": "2021-12-26T09:26:03.132Z"
   },
   {
    "duration": 11,
    "start_time": "2021-12-26T09:26:03.158Z"
   },
   {
    "duration": 14,
    "start_time": "2021-12-26T09:26:03.170Z"
   },
   {
    "duration": 8,
    "start_time": "2021-12-26T09:26:03.186Z"
   },
   {
    "duration": 38,
    "start_time": "2021-12-26T09:26:03.196Z"
   },
   {
    "duration": 14,
    "start_time": "2021-12-26T09:26:03.238Z"
   },
   {
    "duration": 12,
    "start_time": "2021-12-26T09:26:03.254Z"
   },
   {
    "duration": 9,
    "start_time": "2021-12-26T09:26:03.267Z"
   },
   {
    "duration": 7,
    "start_time": "2021-12-26T09:26:03.278Z"
   },
   {
    "duration": 10,
    "start_time": "2021-12-26T09:26:03.286Z"
   },
   {
    "duration": 6,
    "start_time": "2021-12-26T09:26:03.298Z"
   },
   {
    "duration": 109,
    "start_time": "2021-12-26T09:26:03.305Z"
   },
   {
    "duration": 63,
    "start_time": "2021-12-26T09:26:03.415Z"
   },
   {
    "duration": 11,
    "start_time": "2021-12-26T09:26:03.480Z"
   },
   {
    "duration": 3,
    "start_time": "2021-12-26T09:26:03.492Z"
   },
   {
    "duration": 8,
    "start_time": "2021-12-26T09:26:03.497Z"
   },
   {
    "duration": 78,
    "start_time": "2021-12-26T09:26:03.507Z"
   },
   {
    "duration": 43,
    "start_time": "2021-12-26T09:26:03.587Z"
   },
   {
    "duration": 13,
    "start_time": "2021-12-26T09:26:03.633Z"
   },
   {
    "duration": 4,
    "start_time": "2021-12-26T09:26:03.648Z"
   },
   {
    "duration": 5,
    "start_time": "2021-12-26T09:26:03.656Z"
   },
   {
    "duration": 5,
    "start_time": "2021-12-26T09:26:03.663Z"
   },
   {
    "duration": 72,
    "start_time": "2021-12-26T09:26:03.669Z"
   },
   {
    "duration": 27,
    "start_time": "2021-12-26T09:26:03.743Z"
   },
   {
    "duration": 12,
    "start_time": "2021-12-26T09:26:03.772Z"
   },
   {
    "duration": 5,
    "start_time": "2021-12-26T09:26:03.785Z"
   },
   {
    "duration": 7,
    "start_time": "2021-12-26T09:26:03.792Z"
   },
   {
    "duration": 33,
    "start_time": "2021-12-26T09:26:03.800Z"
   },
   {
    "duration": 9,
    "start_time": "2021-12-26T09:26:03.835Z"
   },
   {
    "duration": 12,
    "start_time": "2021-12-26T09:26:03.847Z"
   },
   {
    "duration": 7,
    "start_time": "2021-12-26T09:26:03.861Z"
   },
   {
    "duration": 5,
    "start_time": "2021-12-26T09:26:03.870Z"
   },
   {
    "duration": 4,
    "start_time": "2021-12-26T09:26:03.877Z"
   },
   {
    "duration": 7,
    "start_time": "2021-12-26T09:26:03.883Z"
   },
   {
    "duration": 37,
    "start_time": "2021-12-26T09:26:03.891Z"
   },
   {
    "duration": 12,
    "start_time": "2021-12-26T09:26:03.930Z"
   },
   {
    "duration": 23,
    "start_time": "2021-12-26T09:26:03.944Z"
   },
   {
    "duration": 12,
    "start_time": "2021-12-26T09:26:03.968Z"
   },
   {
    "duration": 7,
    "start_time": "2021-12-26T09:26:03.982Z"
   },
   {
    "duration": 13,
    "start_time": "2021-12-26T09:26:03.990Z"
   },
   {
    "duration": 17,
    "start_time": "2021-12-26T09:26:04.027Z"
   },
   {
    "duration": 21,
    "start_time": "2021-12-26T09:26:04.046Z"
   },
   {
    "duration": 19,
    "start_time": "2021-12-26T09:26:04.068Z"
   },
   {
    "duration": 6,
    "start_time": "2021-12-26T09:26:04.089Z"
   },
   {
    "duration": 6,
    "start_time": "2021-12-26T09:26:04.096Z"
   },
   {
    "duration": 33,
    "start_time": "2021-12-26T09:26:04.104Z"
   },
   {
    "duration": 637,
    "start_time": "2021-12-26T09:26:04.139Z"
   },
   {
    "duration": 12,
    "start_time": "2021-12-26T09:26:04.778Z"
   },
   {
    "duration": 441,
    "start_time": "2021-12-26T09:26:04.792Z"
   },
   {
    "duration": 18,
    "start_time": "2021-12-26T09:26:05.236Z"
   },
   {
    "duration": 433,
    "start_time": "2021-12-26T09:26:05.255Z"
   },
   {
    "duration": 13,
    "start_time": "2021-12-26T09:26:05.689Z"
   },
   {
    "duration": 428,
    "start_time": "2021-12-26T09:26:05.703Z"
   },
   {
    "duration": 12,
    "start_time": "2021-12-26T09:26:06.133Z"
   },
   {
    "duration": 13,
    "start_time": "2021-12-26T09:26:06.147Z"
   },
   {
    "duration": 10,
    "start_time": "2021-12-26T09:50:17.056Z"
   },
   {
    "duration": 13,
    "start_time": "2021-12-26T09:50:37.608Z"
   },
   {
    "duration": 13,
    "start_time": "2021-12-26T09:51:41.320Z"
   },
   {
    "duration": 1048,
    "start_time": "2021-12-26T09:55:20.452Z"
   },
   {
    "duration": 387,
    "start_time": "2021-12-26T09:55:21.502Z"
   },
   {
    "duration": 21,
    "start_time": "2021-12-26T09:55:21.895Z"
   },
   {
    "duration": 11,
    "start_time": "2021-12-26T09:55:21.918Z"
   },
   {
    "duration": 17,
    "start_time": "2021-12-26T09:55:21.931Z"
   },
   {
    "duration": 7,
    "start_time": "2021-12-26T09:55:21.950Z"
   },
   {
    "duration": 14,
    "start_time": "2021-12-26T09:55:21.961Z"
   },
   {
    "duration": 7,
    "start_time": "2021-12-26T09:55:21.977Z"
   },
   {
    "duration": 42,
    "start_time": "2021-12-26T09:55:21.986Z"
   },
   {
    "duration": 7,
    "start_time": "2021-12-26T09:55:22.030Z"
   },
   {
    "duration": 7,
    "start_time": "2021-12-26T09:55:22.039Z"
   },
   {
    "duration": 10,
    "start_time": "2021-12-26T09:55:22.048Z"
   },
   {
    "duration": 7,
    "start_time": "2021-12-26T09:55:22.060Z"
   },
   {
    "duration": 115,
    "start_time": "2021-12-26T09:55:22.069Z"
   },
   {
    "duration": 60,
    "start_time": "2021-12-26T09:55:22.186Z"
   },
   {
    "duration": 9,
    "start_time": "2021-12-26T09:55:22.248Z"
   },
   {
    "duration": 95,
    "start_time": "2021-12-26T09:55:22.259Z"
   },
   {
    "duration": 45,
    "start_time": "2021-12-26T09:55:22.356Z"
   },
   {
    "duration": 8,
    "start_time": "2021-12-26T09:55:22.403Z"
   },
   {
    "duration": 4,
    "start_time": "2021-12-26T09:55:22.426Z"
   },
   {
    "duration": 51,
    "start_time": "2021-12-26T09:55:22.432Z"
   },
   {
    "duration": 25,
    "start_time": "2021-12-26T09:55:22.486Z"
   },
   {
    "duration": 16,
    "start_time": "2021-12-26T09:55:22.513Z"
   },
   {
    "duration": 10,
    "start_time": "2021-12-26T09:55:22.530Z"
   },
   {
    "duration": 9,
    "start_time": "2021-12-26T09:55:22.542Z"
   },
   {
    "duration": 13,
    "start_time": "2021-12-26T09:55:22.553Z"
   },
   {
    "duration": 3,
    "start_time": "2021-12-26T09:55:22.567Z"
   },
   {
    "duration": 5,
    "start_time": "2021-12-26T09:55:22.571Z"
   },
   {
    "duration": 6,
    "start_time": "2021-12-26T09:55:22.577Z"
   },
   {
    "duration": 7,
    "start_time": "2021-12-26T09:55:22.584Z"
   },
   {
    "duration": 35,
    "start_time": "2021-12-26T09:55:22.593Z"
   },
   {
    "duration": 7,
    "start_time": "2021-12-26T09:55:22.629Z"
   },
   {
    "duration": 24,
    "start_time": "2021-12-26T09:55:22.637Z"
   },
   {
    "duration": 26,
    "start_time": "2021-12-26T09:55:22.662Z"
   },
   {
    "duration": 16,
    "start_time": "2021-12-26T09:55:22.689Z"
   },
   {
    "duration": 29,
    "start_time": "2021-12-26T09:55:22.707Z"
   },
   {
    "duration": 24,
    "start_time": "2021-12-26T09:55:22.737Z"
   },
   {
    "duration": 11,
    "start_time": "2021-12-26T09:55:22.763Z"
   },
   {
    "duration": 31,
    "start_time": "2021-12-26T09:55:22.776Z"
   },
   {
    "duration": 9,
    "start_time": "2021-12-26T09:55:22.808Z"
   },
   {
    "duration": 5,
    "start_time": "2021-12-26T09:55:22.819Z"
   },
   {
    "duration": 19,
    "start_time": "2021-12-26T09:55:22.826Z"
   },
   {
    "duration": 585,
    "start_time": "2021-12-26T09:55:22.847Z"
   },
   {
    "duration": 13,
    "start_time": "2021-12-26T09:55:23.434Z"
   },
   {
    "duration": 410,
    "start_time": "2021-12-26T09:55:23.449Z"
   },
   {
    "duration": 14,
    "start_time": "2021-12-26T09:55:23.861Z"
   },
   {
    "duration": 415,
    "start_time": "2021-12-26T09:55:23.877Z"
   },
   {
    "duration": 14,
    "start_time": "2021-12-26T09:55:24.294Z"
   },
   {
    "duration": 411,
    "start_time": "2021-12-26T09:55:24.310Z"
   },
   {
    "duration": 11,
    "start_time": "2021-12-26T09:55:24.722Z"
   },
   {
    "duration": 9,
    "start_time": "2021-12-26T09:55:24.735Z"
   },
   {
    "duration": 1059,
    "start_time": "2021-12-26T10:46:29.568Z"
   },
   {
    "duration": 386,
    "start_time": "2021-12-26T10:46:30.629Z"
   },
   {
    "duration": 20,
    "start_time": "2021-12-26T10:46:31.017Z"
   },
   {
    "duration": 12,
    "start_time": "2021-12-26T10:46:31.039Z"
   },
   {
    "duration": 23,
    "start_time": "2021-12-26T10:46:31.052Z"
   },
   {
    "duration": 7,
    "start_time": "2021-12-26T10:46:31.077Z"
   },
   {
    "duration": 15,
    "start_time": "2021-12-26T10:46:31.086Z"
   },
   {
    "duration": 18,
    "start_time": "2021-12-26T10:46:31.103Z"
   },
   {
    "duration": 7,
    "start_time": "2021-12-26T10:46:31.123Z"
   },
   {
    "duration": 13,
    "start_time": "2021-12-26T10:46:31.131Z"
   },
   {
    "duration": 8,
    "start_time": "2021-12-26T10:46:31.146Z"
   },
   {
    "duration": 18,
    "start_time": "2021-12-26T10:46:31.155Z"
   },
   {
    "duration": 8,
    "start_time": "2021-12-26T10:46:31.174Z"
   },
   {
    "duration": 84,
    "start_time": "2021-12-26T10:46:31.184Z"
   },
   {
    "duration": 48,
    "start_time": "2021-12-26T10:46:31.270Z"
   },
   {
    "duration": 7,
    "start_time": "2021-12-26T10:46:31.326Z"
   },
   {
    "duration": 66,
    "start_time": "2021-12-26T10:46:31.335Z"
   },
   {
    "duration": 31,
    "start_time": "2021-12-26T10:46:31.403Z"
   },
   {
    "duration": 7,
    "start_time": "2021-12-26T10:46:31.436Z"
   },
   {
    "duration": 26,
    "start_time": "2021-12-26T10:46:31.445Z"
   },
   {
    "duration": 56,
    "start_time": "2021-12-26T10:46:31.472Z"
   },
   {
    "duration": 25,
    "start_time": "2021-12-26T10:46:31.529Z"
   },
   {
    "duration": 3,
    "start_time": "2021-12-26T10:46:31.558Z"
   },
   {
    "duration": 16,
    "start_time": "2021-12-26T10:46:31.563Z"
   },
   {
    "duration": 20,
    "start_time": "2021-12-26T10:46:31.581Z"
   },
   {
    "duration": 35,
    "start_time": "2021-12-26T10:46:31.602Z"
   },
   {
    "duration": 9,
    "start_time": "2021-12-26T10:46:31.638Z"
   },
   {
    "duration": 18,
    "start_time": "2021-12-26T10:46:31.648Z"
   },
   {
    "duration": 23,
    "start_time": "2021-12-26T10:46:31.667Z"
   },
   {
    "duration": 20,
    "start_time": "2021-12-26T10:46:31.691Z"
   },
   {
    "duration": 13,
    "start_time": "2021-12-26T10:46:31.713Z"
   },
   {
    "duration": 18,
    "start_time": "2021-12-26T10:46:31.728Z"
   },
   {
    "duration": 17,
    "start_time": "2021-12-26T10:46:31.747Z"
   },
   {
    "duration": 20,
    "start_time": "2021-12-26T10:46:31.765Z"
   },
   {
    "duration": 6,
    "start_time": "2021-12-26T10:46:31.786Z"
   },
   {
    "duration": 15,
    "start_time": "2021-12-26T10:46:31.794Z"
   },
   {
    "duration": 12,
    "start_time": "2021-12-26T10:46:31.810Z"
   },
   {
    "duration": 5,
    "start_time": "2021-12-26T10:46:31.824Z"
   },
   {
    "duration": 22,
    "start_time": "2021-12-26T10:46:31.830Z"
   },
   {
    "duration": 6,
    "start_time": "2021-12-26T10:46:31.854Z"
   },
   {
    "duration": 4,
    "start_time": "2021-12-26T10:46:31.862Z"
   },
   {
    "duration": 60,
    "start_time": "2021-12-26T10:46:31.868Z"
   },
   {
    "duration": 989,
    "start_time": "2021-12-26T10:46:31.930Z"
   },
   {
    "duration": 16,
    "start_time": "2021-12-26T10:46:32.921Z"
   },
   {
    "duration": 423,
    "start_time": "2021-12-26T10:46:32.939Z"
   },
   {
    "duration": 13,
    "start_time": "2021-12-26T10:46:33.364Z"
   },
   {
    "duration": 399,
    "start_time": "2021-12-26T10:46:33.379Z"
   },
   {
    "duration": 12,
    "start_time": "2021-12-26T10:46:33.780Z"
   },
   {
    "duration": 406,
    "start_time": "2021-12-26T10:46:33.793Z"
   },
   {
    "duration": 10,
    "start_time": "2021-12-26T10:46:34.200Z"
   },
   {
    "duration": 23,
    "start_time": "2021-12-26T10:46:34.211Z"
   },
   {
    "duration": 1018,
    "start_time": "2021-12-26T10:47:15.180Z"
   },
   {
    "duration": 484,
    "start_time": "2021-12-26T10:47:16.200Z"
   },
   {
    "duration": 19,
    "start_time": "2021-12-26T10:47:16.686Z"
   },
   {
    "duration": 10,
    "start_time": "2021-12-26T10:47:16.707Z"
   },
   {
    "duration": 16,
    "start_time": "2021-12-26T10:47:16.718Z"
   },
   {
    "duration": 7,
    "start_time": "2021-12-26T10:47:16.735Z"
   },
   {
    "duration": 14,
    "start_time": "2021-12-26T10:47:16.744Z"
   },
   {
    "duration": 9,
    "start_time": "2021-12-26T10:47:16.761Z"
   },
   {
    "duration": 8,
    "start_time": "2021-12-26T10:47:16.773Z"
   },
   {
    "duration": 13,
    "start_time": "2021-12-26T10:47:16.783Z"
   },
   {
    "duration": 33,
    "start_time": "2021-12-26T10:47:16.798Z"
   },
   {
    "duration": 11,
    "start_time": "2021-12-26T10:47:16.833Z"
   },
   {
    "duration": 7,
    "start_time": "2021-12-26T10:47:16.846Z"
   },
   {
    "duration": 105,
    "start_time": "2021-12-26T10:47:16.855Z"
   },
   {
    "duration": 47,
    "start_time": "2021-12-26T10:47:16.962Z"
   },
   {
    "duration": 21,
    "start_time": "2021-12-26T10:47:17.011Z"
   },
   {
    "duration": 61,
    "start_time": "2021-12-26T10:47:17.033Z"
   },
   {
    "duration": 39,
    "start_time": "2021-12-26T10:47:17.096Z"
   },
   {
    "duration": 7,
    "start_time": "2021-12-26T10:47:17.136Z"
   },
   {
    "duration": 3,
    "start_time": "2021-12-26T10:47:17.145Z"
   },
   {
    "duration": 49,
    "start_time": "2021-12-26T10:47:17.149Z"
   },
   {
    "duration": 38,
    "start_time": "2021-12-26T10:47:17.200Z"
   },
   {
    "duration": 3,
    "start_time": "2021-12-26T10:47:17.241Z"
   },
   {
    "duration": 11,
    "start_time": "2021-12-26T10:47:17.246Z"
   },
   {
    "duration": 8,
    "start_time": "2021-12-26T10:47:17.258Z"
   },
   {
    "duration": 10,
    "start_time": "2021-12-26T10:47:17.267Z"
   },
   {
    "duration": 2,
    "start_time": "2021-12-26T10:47:17.278Z"
   },
   {
    "duration": 4,
    "start_time": "2021-12-26T10:47:17.282Z"
   },
   {
    "duration": 5,
    "start_time": "2021-12-26T10:47:17.288Z"
   },
   {
    "duration": 36,
    "start_time": "2021-12-26T10:47:17.294Z"
   },
   {
    "duration": 12,
    "start_time": "2021-12-26T10:47:17.332Z"
   },
   {
    "duration": 7,
    "start_time": "2021-12-26T10:47:17.345Z"
   },
   {
    "duration": 15,
    "start_time": "2021-12-26T10:47:17.354Z"
   },
   {
    "duration": 13,
    "start_time": "2021-12-26T10:47:17.370Z"
   },
   {
    "duration": 7,
    "start_time": "2021-12-26T10:47:17.384Z"
   },
   {
    "duration": 42,
    "start_time": "2021-12-26T10:47:17.392Z"
   },
   {
    "duration": 15,
    "start_time": "2021-12-26T10:47:17.436Z"
   },
   {
    "duration": 10,
    "start_time": "2021-12-26T10:47:17.452Z"
   },
   {
    "duration": 16,
    "start_time": "2021-12-26T10:47:17.463Z"
   },
   {
    "duration": 5,
    "start_time": "2021-12-26T10:47:17.480Z"
   },
   {
    "duration": 4,
    "start_time": "2021-12-26T10:47:17.487Z"
   },
   {
    "duration": 34,
    "start_time": "2021-12-26T10:47:17.493Z"
   },
   {
    "duration": 588,
    "start_time": "2021-12-26T10:47:17.529Z"
   },
   {
    "duration": 12,
    "start_time": "2021-12-26T10:47:18.127Z"
   },
   {
    "duration": 404,
    "start_time": "2021-12-26T10:47:18.141Z"
   },
   {
    "duration": 12,
    "start_time": "2021-12-26T10:47:18.546Z"
   },
   {
    "duration": 398,
    "start_time": "2021-12-26T10:47:18.559Z"
   },
   {
    "duration": 12,
    "start_time": "2021-12-26T10:47:18.959Z"
   },
   {
    "duration": 520,
    "start_time": "2021-12-26T10:47:18.972Z"
   },
   {
    "duration": 9,
    "start_time": "2021-12-26T10:47:19.493Z"
   },
   {
    "duration": 10,
    "start_time": "2021-12-26T10:47:19.504Z"
   },
   {
    "duration": 467,
    "start_time": "2021-12-26T11:23:39.709Z"
   },
   {
    "duration": 13,
    "start_time": "2021-12-26T11:24:43.677Z"
   },
   {
    "duration": 431,
    "start_time": "2021-12-26T11:25:49.881Z"
   },
   {
    "duration": 1149,
    "start_time": "2021-12-26T11:26:11.607Z"
   },
   {
    "duration": 425,
    "start_time": "2021-12-26T11:26:12.759Z"
   },
   {
    "duration": 22,
    "start_time": "2021-12-26T11:26:13.186Z"
   },
   {
    "duration": 13,
    "start_time": "2021-12-26T11:26:13.210Z"
   },
   {
    "duration": 23,
    "start_time": "2021-12-26T11:26:13.224Z"
   },
   {
    "duration": 12,
    "start_time": "2021-12-26T11:26:13.249Z"
   },
   {
    "duration": 20,
    "start_time": "2021-12-26T11:26:13.263Z"
   },
   {
    "duration": 7,
    "start_time": "2021-12-26T11:26:13.286Z"
   },
   {
    "duration": 7,
    "start_time": "2021-12-26T11:26:13.295Z"
   },
   {
    "duration": 31,
    "start_time": "2021-12-26T11:26:13.303Z"
   },
   {
    "duration": 6,
    "start_time": "2021-12-26T11:26:13.336Z"
   },
   {
    "duration": 11,
    "start_time": "2021-12-26T11:26:13.343Z"
   },
   {
    "duration": 21,
    "start_time": "2021-12-26T11:26:13.356Z"
   },
   {
    "duration": 5,
    "start_time": "2021-12-26T11:26:13.379Z"
   },
   {
    "duration": 108,
    "start_time": "2021-12-26T11:26:13.386Z"
   },
   {
    "duration": 56,
    "start_time": "2021-12-26T11:26:13.495Z"
   },
   {
    "duration": 6,
    "start_time": "2021-12-26T11:26:13.553Z"
   },
   {
    "duration": 66,
    "start_time": "2021-12-26T11:26:13.561Z"
   },
   {
    "duration": 30,
    "start_time": "2021-12-26T11:26:13.629Z"
   },
   {
    "duration": 3,
    "start_time": "2021-12-26T11:26:13.661Z"
   },
   {
    "duration": 6,
    "start_time": "2021-12-26T11:26:13.665Z"
   },
   {
    "duration": 67,
    "start_time": "2021-12-26T11:26:13.672Z"
   },
   {
    "duration": 24,
    "start_time": "2021-12-26T11:26:13.743Z"
   },
   {
    "duration": 4,
    "start_time": "2021-12-26T11:26:13.769Z"
   },
   {
    "duration": 12,
    "start_time": "2021-12-26T11:26:13.775Z"
   },
   {
    "duration": 7,
    "start_time": "2021-12-26T11:26:13.788Z"
   },
   {
    "duration": 31,
    "start_time": "2021-12-26T11:26:13.797Z"
   },
   {
    "duration": 2,
    "start_time": "2021-12-26T11:26:13.830Z"
   },
   {
    "duration": 5,
    "start_time": "2021-12-26T11:26:13.834Z"
   },
   {
    "duration": 5,
    "start_time": "2021-12-26T11:26:13.841Z"
   },
   {
    "duration": 8,
    "start_time": "2021-12-26T11:26:13.847Z"
   },
   {
    "duration": 12,
    "start_time": "2021-12-26T11:26:13.856Z"
   },
   {
    "duration": 8,
    "start_time": "2021-12-26T11:26:13.870Z"
   },
   {
    "duration": 47,
    "start_time": "2021-12-26T11:26:13.880Z"
   },
   {
    "duration": 12,
    "start_time": "2021-12-26T11:26:13.929Z"
   },
   {
    "duration": 7,
    "start_time": "2021-12-26T11:26:13.943Z"
   },
   {
    "duration": 12,
    "start_time": "2021-12-26T11:26:13.951Z"
   },
   {
    "duration": 13,
    "start_time": "2021-12-26T11:26:13.964Z"
   },
   {
    "duration": 7,
    "start_time": "2021-12-26T11:26:13.978Z"
   },
   {
    "duration": 43,
    "start_time": "2021-12-26T11:26:13.989Z"
   },
   {
    "duration": 6,
    "start_time": "2021-12-26T11:26:14.034Z"
   },
   {
    "duration": 5,
    "start_time": "2021-12-26T11:26:14.042Z"
   },
   {
    "duration": 16,
    "start_time": "2021-12-26T11:26:14.049Z"
   },
   {
    "duration": 617,
    "start_time": "2021-12-26T11:26:14.067Z"
   },
   {
    "duration": 16,
    "start_time": "2021-12-26T11:26:14.685Z"
   },
   {
    "duration": 423,
    "start_time": "2021-12-26T11:26:14.703Z"
   },
   {
    "duration": 13,
    "start_time": "2021-12-26T11:26:15.128Z"
   },
   {
    "duration": 505,
    "start_time": "2021-12-26T11:26:15.144Z"
   },
   {
    "duration": 13,
    "start_time": "2021-12-26T11:26:15.651Z"
   },
   {
    "duration": 428,
    "start_time": "2021-12-26T11:26:15.665Z"
   },
   {
    "duration": 11,
    "start_time": "2021-12-26T11:26:16.096Z"
   },
   {
    "duration": 25,
    "start_time": "2021-12-26T11:26:16.109Z"
   },
   {
    "duration": 7,
    "start_time": "2021-12-26T11:28:20.270Z"
   },
   {
    "duration": 10,
    "start_time": "2021-12-26T11:30:29.164Z"
   },
   {
    "duration": 3,
    "start_time": "2021-12-26T11:31:23.086Z"
   },
   {
    "duration": 1163,
    "start_time": "2021-12-26T11:31:43.041Z"
   },
   {
    "duration": 394,
    "start_time": "2021-12-26T11:31:44.206Z"
   },
   {
    "duration": 20,
    "start_time": "2021-12-26T11:31:44.603Z"
   },
   {
    "duration": 12,
    "start_time": "2021-12-26T11:31:44.624Z"
   },
   {
    "duration": 457,
    "start_time": "2021-12-26T11:31:44.637Z"
   },
   {
    "duration": -750,
    "start_time": "2021-12-26T11:31:45.847Z"
   },
   {
    "duration": -752,
    "start_time": "2021-12-26T11:31:45.850Z"
   },
   {
    "duration": -756,
    "start_time": "2021-12-26T11:31:45.855Z"
   },
   {
    "duration": -759,
    "start_time": "2021-12-26T11:31:45.859Z"
   },
   {
    "duration": -763,
    "start_time": "2021-12-26T11:31:45.863Z"
   },
   {
    "duration": -767,
    "start_time": "2021-12-26T11:31:45.868Z"
   },
   {
    "duration": -770,
    "start_time": "2021-12-26T11:31:45.872Z"
   },
   {
    "duration": -773,
    "start_time": "2021-12-26T11:31:45.876Z"
   },
   {
    "duration": -776,
    "start_time": "2021-12-26T11:31:45.880Z"
   },
   {
    "duration": -778,
    "start_time": "2021-12-26T11:31:45.883Z"
   },
   {
    "duration": -782,
    "start_time": "2021-12-26T11:31:45.887Z"
   },
   {
    "duration": -784,
    "start_time": "2021-12-26T11:31:45.890Z"
   },
   {
    "duration": -786,
    "start_time": "2021-12-26T11:31:45.893Z"
   },
   {
    "duration": -787,
    "start_time": "2021-12-26T11:31:45.896Z"
   },
   {
    "duration": -788,
    "start_time": "2021-12-26T11:31:45.898Z"
   },
   {
    "duration": -790,
    "start_time": "2021-12-26T11:31:45.901Z"
   },
   {
    "duration": -793,
    "start_time": "2021-12-26T11:31:45.905Z"
   },
   {
    "duration": -794,
    "start_time": "2021-12-26T11:31:45.907Z"
   },
   {
    "duration": -796,
    "start_time": "2021-12-26T11:31:45.910Z"
   },
   {
    "duration": -797,
    "start_time": "2021-12-26T11:31:45.912Z"
   },
   {
    "duration": -799,
    "start_time": "2021-12-26T11:31:45.915Z"
   },
   {
    "duration": -800,
    "start_time": "2021-12-26T11:31:45.917Z"
   },
   {
    "duration": -804,
    "start_time": "2021-12-26T11:31:45.921Z"
   },
   {
    "duration": -805,
    "start_time": "2021-12-26T11:31:45.924Z"
   },
   {
    "duration": -808,
    "start_time": "2021-12-26T11:31:45.927Z"
   },
   {
    "duration": -809,
    "start_time": "2021-12-26T11:31:45.929Z"
   },
   {
    "duration": -823,
    "start_time": "2021-12-26T11:31:45.944Z"
   },
   {
    "duration": -825,
    "start_time": "2021-12-26T11:31:45.947Z"
   },
   {
    "duration": -828,
    "start_time": "2021-12-26T11:31:45.950Z"
   },
   {
    "duration": -829,
    "start_time": "2021-12-26T11:31:45.952Z"
   },
   {
    "duration": -830,
    "start_time": "2021-12-26T11:31:45.954Z"
   },
   {
    "duration": -832,
    "start_time": "2021-12-26T11:31:45.957Z"
   },
   {
    "duration": -833,
    "start_time": "2021-12-26T11:31:45.959Z"
   },
   {
    "duration": -834,
    "start_time": "2021-12-26T11:31:45.961Z"
   },
   {
    "duration": -835,
    "start_time": "2021-12-26T11:31:45.963Z"
   },
   {
    "duration": -835,
    "start_time": "2021-12-26T11:31:45.964Z"
   },
   {
    "duration": -834,
    "start_time": "2021-12-26T11:31:45.966Z"
   },
   {
    "duration": -834,
    "start_time": "2021-12-26T11:31:45.968Z"
   },
   {
    "duration": -835,
    "start_time": "2021-12-26T11:31:45.970Z"
   },
   {
    "duration": -835,
    "start_time": "2021-12-26T11:31:45.972Z"
   },
   {
    "duration": -836,
    "start_time": "2021-12-26T11:31:45.974Z"
   },
   {
    "duration": -837,
    "start_time": "2021-12-26T11:31:45.976Z"
   },
   {
    "duration": -837,
    "start_time": "2021-12-26T11:31:45.977Z"
   },
   {
    "duration": -838,
    "start_time": "2021-12-26T11:31:45.979Z"
   },
   {
    "duration": -839,
    "start_time": "2021-12-26T11:31:45.981Z"
   },
   {
    "duration": -843,
    "start_time": "2021-12-26T11:31:45.986Z"
   },
   {
    "duration": -844,
    "start_time": "2021-12-26T11:31:45.988Z"
   },
   {
    "duration": 1022,
    "start_time": "2021-12-26T11:32:18.580Z"
   },
   {
    "duration": 396,
    "start_time": "2021-12-26T11:32:19.603Z"
   },
   {
    "duration": 21,
    "start_time": "2021-12-26T11:32:20.001Z"
   },
   {
    "duration": 14,
    "start_time": "2021-12-26T11:32:20.024Z"
   },
   {
    "duration": 32,
    "start_time": "2021-12-26T11:32:20.040Z"
   },
   {
    "duration": 16,
    "start_time": "2021-12-26T11:32:20.074Z"
   },
   {
    "duration": 8,
    "start_time": "2021-12-26T11:32:20.091Z"
   },
   {
    "duration": 14,
    "start_time": "2021-12-26T11:32:20.101Z"
   },
   {
    "duration": 24,
    "start_time": "2021-12-26T11:32:20.117Z"
   },
   {
    "duration": 6,
    "start_time": "2021-12-26T11:32:20.143Z"
   },
   {
    "duration": 9,
    "start_time": "2021-12-26T11:32:20.150Z"
   },
   {
    "duration": 7,
    "start_time": "2021-12-26T11:32:20.161Z"
   },
   {
    "duration": 11,
    "start_time": "2021-12-26T11:32:20.169Z"
   },
   {
    "duration": 5,
    "start_time": "2021-12-26T11:32:20.181Z"
   },
   {
    "duration": 119,
    "start_time": "2021-12-26T11:32:20.188Z"
   },
   {
    "duration": 54,
    "start_time": "2021-12-26T11:32:20.308Z"
   },
   {
    "duration": 8,
    "start_time": "2021-12-26T11:32:20.364Z"
   },
   {
    "duration": 68,
    "start_time": "2021-12-26T11:32:20.373Z"
   },
   {
    "duration": 40,
    "start_time": "2021-12-26T11:32:20.444Z"
   },
   {
    "duration": 4,
    "start_time": "2021-12-26T11:32:20.486Z"
   },
   {
    "duration": 9,
    "start_time": "2021-12-26T11:32:20.492Z"
   },
   {
    "duration": 78,
    "start_time": "2021-12-26T11:32:20.502Z"
   },
   {
    "duration": 24,
    "start_time": "2021-12-26T11:32:20.584Z"
   },
   {
    "duration": 3,
    "start_time": "2021-12-26T11:32:20.610Z"
   },
   {
    "duration": 28,
    "start_time": "2021-12-26T11:32:20.614Z"
   },
   {
    "duration": 9,
    "start_time": "2021-12-26T11:32:20.644Z"
   },
   {
    "duration": 10,
    "start_time": "2021-12-26T11:32:20.655Z"
   },
   {
    "duration": 2,
    "start_time": "2021-12-26T11:32:20.667Z"
   },
   {
    "duration": 6,
    "start_time": "2021-12-26T11:32:20.670Z"
   },
   {
    "duration": 5,
    "start_time": "2021-12-26T11:32:20.677Z"
   },
   {
    "duration": 7,
    "start_time": "2021-12-26T11:32:20.683Z"
   },
   {
    "duration": 11,
    "start_time": "2021-12-26T11:32:20.692Z"
   },
   {
    "duration": 32,
    "start_time": "2021-12-26T11:32:20.704Z"
   },
   {
    "duration": 16,
    "start_time": "2021-12-26T11:32:20.739Z"
   },
   {
    "duration": 12,
    "start_time": "2021-12-26T11:32:20.757Z"
   },
   {
    "duration": 8,
    "start_time": "2021-12-26T11:32:20.770Z"
   },
   {
    "duration": 15,
    "start_time": "2021-12-26T11:32:20.779Z"
   },
   {
    "duration": 46,
    "start_time": "2021-12-26T11:32:20.796Z"
   },
   {
    "duration": 7,
    "start_time": "2021-12-26T11:32:20.844Z"
   },
   {
    "duration": 21,
    "start_time": "2021-12-26T11:32:20.852Z"
   },
   {
    "duration": 6,
    "start_time": "2021-12-26T11:32:20.874Z"
   },
   {
    "duration": 5,
    "start_time": "2021-12-26T11:32:20.881Z"
   },
   {
    "duration": 12,
    "start_time": "2021-12-26T11:32:20.887Z"
   },
   {
    "duration": 615,
    "start_time": "2021-12-26T11:32:20.900Z"
   },
   {
    "duration": 21,
    "start_time": "2021-12-26T11:32:21.516Z"
   },
   {
    "duration": 434,
    "start_time": "2021-12-26T11:32:21.539Z"
   },
   {
    "duration": 12,
    "start_time": "2021-12-26T11:32:21.975Z"
   },
   {
    "duration": 522,
    "start_time": "2021-12-26T11:32:21.989Z"
   },
   {
    "duration": 16,
    "start_time": "2021-12-26T11:32:22.513Z"
   },
   {
    "duration": 427,
    "start_time": "2021-12-26T11:32:22.531Z"
   },
   {
    "duration": 9,
    "start_time": "2021-12-26T11:32:22.960Z"
   },
   {
    "duration": 9,
    "start_time": "2021-12-26T11:32:22.971Z"
   },
   {
    "duration": 1095,
    "start_time": "2021-12-26T11:32:59.504Z"
   },
   {
    "duration": 377,
    "start_time": "2021-12-26T11:33:00.601Z"
   },
   {
    "duration": 20,
    "start_time": "2021-12-26T11:33:00.982Z"
   },
   {
    "duration": 10,
    "start_time": "2021-12-26T11:33:01.004Z"
   },
   {
    "duration": 420,
    "start_time": "2021-12-26T11:33:01.015Z"
   },
   {
    "duration": -647,
    "start_time": "2021-12-26T11:33:02.086Z"
   },
   {
    "duration": -649,
    "start_time": "2021-12-26T11:33:02.089Z"
   },
   {
    "duration": -655,
    "start_time": "2021-12-26T11:33:02.096Z"
   },
   {
    "duration": -657,
    "start_time": "2021-12-26T11:33:02.099Z"
   },
   {
    "duration": -658,
    "start_time": "2021-12-26T11:33:02.101Z"
   },
   {
    "duration": -658,
    "start_time": "2021-12-26T11:33:02.102Z"
   },
   {
    "duration": -660,
    "start_time": "2021-12-26T11:33:02.105Z"
   },
   {
    "duration": -661,
    "start_time": "2021-12-26T11:33:02.107Z"
   },
   {
    "duration": -662,
    "start_time": "2021-12-26T11:33:02.109Z"
   },
   {
    "duration": -663,
    "start_time": "2021-12-26T11:33:02.111Z"
   },
   {
    "duration": -664,
    "start_time": "2021-12-26T11:33:02.113Z"
   },
   {
    "duration": -664,
    "start_time": "2021-12-26T11:33:02.114Z"
   },
   {
    "duration": -665,
    "start_time": "2021-12-26T11:33:02.116Z"
   },
   {
    "duration": -666,
    "start_time": "2021-12-26T11:33:02.118Z"
   },
   {
    "duration": -667,
    "start_time": "2021-12-26T11:33:02.120Z"
   },
   {
    "duration": -667,
    "start_time": "2021-12-26T11:33:02.122Z"
   },
   {
    "duration": -668,
    "start_time": "2021-12-26T11:33:02.123Z"
   },
   {
    "duration": -669,
    "start_time": "2021-12-26T11:33:02.125Z"
   },
   {
    "duration": -670,
    "start_time": "2021-12-26T11:33:02.127Z"
   },
   {
    "duration": -671,
    "start_time": "2021-12-26T11:33:02.129Z"
   },
   {
    "duration": -672,
    "start_time": "2021-12-26T11:33:02.131Z"
   },
   {
    "duration": -671,
    "start_time": "2021-12-26T11:33:02.132Z"
   },
   {
    "duration": -673,
    "start_time": "2021-12-26T11:33:02.135Z"
   },
   {
    "duration": -673,
    "start_time": "2021-12-26T11:33:02.136Z"
   },
   {
    "duration": -675,
    "start_time": "2021-12-26T11:33:02.139Z"
   },
   {
    "duration": -682,
    "start_time": "2021-12-26T11:33:02.147Z"
   },
   {
    "duration": -684,
    "start_time": "2021-12-26T11:33:02.150Z"
   },
   {
    "duration": -685,
    "start_time": "2021-12-26T11:33:02.152Z"
   },
   {
    "duration": -687,
    "start_time": "2021-12-26T11:33:02.155Z"
   },
   {
    "duration": -688,
    "start_time": "2021-12-26T11:33:02.157Z"
   },
   {
    "duration": -691,
    "start_time": "2021-12-26T11:33:02.160Z"
   },
   {
    "duration": -692,
    "start_time": "2021-12-26T11:33:02.162Z"
   },
   {
    "duration": -693,
    "start_time": "2021-12-26T11:33:02.164Z"
   },
   {
    "duration": -694,
    "start_time": "2021-12-26T11:33:02.166Z"
   },
   {
    "duration": -696,
    "start_time": "2021-12-26T11:33:02.168Z"
   },
   {
    "duration": -697,
    "start_time": "2021-12-26T11:33:02.170Z"
   },
   {
    "duration": -698,
    "start_time": "2021-12-26T11:33:02.172Z"
   },
   {
    "duration": -700,
    "start_time": "2021-12-26T11:33:02.175Z"
   },
   {
    "duration": -702,
    "start_time": "2021-12-26T11:33:02.177Z"
   },
   {
    "duration": -703,
    "start_time": "2021-12-26T11:33:02.179Z"
   },
   {
    "duration": -704,
    "start_time": "2021-12-26T11:33:02.181Z"
   },
   {
    "duration": -655,
    "start_time": "2021-12-26T11:33:02.183Z"
   },
   {
    "duration": -663,
    "start_time": "2021-12-26T11:33:02.192Z"
   },
   {
    "duration": -665,
    "start_time": "2021-12-26T11:33:02.194Z"
   },
   {
    "duration": -666,
    "start_time": "2021-12-26T11:33:02.196Z"
   },
   {
    "duration": -667,
    "start_time": "2021-12-26T11:33:02.198Z"
   },
   {
    "duration": -668,
    "start_time": "2021-12-26T11:33:02.200Z"
   },
   {
    "duration": 1069,
    "start_time": "2021-12-26T11:33:34.728Z"
   },
   {
    "duration": 371,
    "start_time": "2021-12-26T11:33:35.799Z"
   },
   {
    "duration": 20,
    "start_time": "2021-12-26T11:33:36.172Z"
   },
   {
    "duration": 10,
    "start_time": "2021-12-26T11:33:36.194Z"
   },
   {
    "duration": 17,
    "start_time": "2021-12-26T11:33:36.206Z"
   },
   {
    "duration": 15,
    "start_time": "2021-12-26T11:33:36.225Z"
   },
   {
    "duration": 9,
    "start_time": "2021-12-26T11:33:36.242Z"
   },
   {
    "duration": 14,
    "start_time": "2021-12-26T11:33:36.254Z"
   },
   {
    "duration": 8,
    "start_time": "2021-12-26T11:33:36.270Z"
   },
   {
    "duration": 6,
    "start_time": "2021-12-26T11:33:36.279Z"
   },
   {
    "duration": 7,
    "start_time": "2021-12-26T11:33:36.287Z"
   },
   {
    "duration": 32,
    "start_time": "2021-12-26T11:33:36.296Z"
   },
   {
    "duration": 9,
    "start_time": "2021-12-26T11:33:36.330Z"
   },
   {
    "duration": 6,
    "start_time": "2021-12-26T11:33:36.341Z"
   },
   {
    "duration": 103,
    "start_time": "2021-12-26T11:33:36.348Z"
   },
   {
    "duration": 48,
    "start_time": "2021-12-26T11:33:36.452Z"
   },
   {
    "duration": 7,
    "start_time": "2021-12-26T11:33:36.501Z"
   },
   {
    "duration": 76,
    "start_time": "2021-12-26T11:33:36.509Z"
   },
   {
    "duration": 42,
    "start_time": "2021-12-26T11:33:36.587Z"
   },
   {
    "duration": 4,
    "start_time": "2021-12-26T11:33:36.631Z"
   },
   {
    "duration": 7,
    "start_time": "2021-12-26T11:33:36.636Z"
   },
   {
    "duration": 55,
    "start_time": "2021-12-26T11:33:36.644Z"
   },
   {
    "duration": 38,
    "start_time": "2021-12-26T11:33:36.702Z"
   },
   {
    "duration": 4,
    "start_time": "2021-12-26T11:33:36.742Z"
   },
   {
    "duration": 11,
    "start_time": "2021-12-26T11:33:36.748Z"
   },
   {
    "duration": 9,
    "start_time": "2021-12-26T11:33:36.760Z"
   },
   {
    "duration": 11,
    "start_time": "2021-12-26T11:33:36.771Z"
   },
   {
    "duration": 3,
    "start_time": "2021-12-26T11:33:36.783Z"
   },
   {
    "duration": 9,
    "start_time": "2021-12-26T11:33:36.787Z"
   },
   {
    "duration": 29,
    "start_time": "2021-12-26T11:33:36.798Z"
   },
   {
    "duration": 8,
    "start_time": "2021-12-26T11:33:36.829Z"
   },
   {
    "duration": 14,
    "start_time": "2021-12-26T11:33:36.839Z"
   },
   {
    "duration": 7,
    "start_time": "2021-12-26T11:33:36.855Z"
   },
   {
    "duration": 15,
    "start_time": "2021-12-26T11:33:36.863Z"
   },
   {
    "duration": 11,
    "start_time": "2021-12-26T11:33:36.880Z"
   },
   {
    "duration": 6,
    "start_time": "2021-12-26T11:33:36.893Z"
   },
   {
    "duration": 12,
    "start_time": "2021-12-26T11:33:36.928Z"
   },
   {
    "duration": 13,
    "start_time": "2021-12-26T11:33:36.941Z"
   },
   {
    "duration": 6,
    "start_time": "2021-12-26T11:33:36.956Z"
   },
   {
    "duration": 18,
    "start_time": "2021-12-26T11:33:36.964Z"
   },
   {
    "duration": 11,
    "start_time": "2021-12-26T11:33:36.983Z"
   },
   {
    "duration": 6,
    "start_time": "2021-12-26T11:33:36.996Z"
   },
   {
    "duration": 36,
    "start_time": "2021-12-26T11:33:37.003Z"
   },
   {
    "duration": 603,
    "start_time": "2021-12-26T11:33:37.040Z"
   },
   {
    "duration": 12,
    "start_time": "2021-12-26T11:33:37.645Z"
   },
   {
    "duration": 421,
    "start_time": "2021-12-26T11:33:37.658Z"
   },
   {
    "duration": 12,
    "start_time": "2021-12-26T11:33:38.080Z"
   },
   {
    "duration": 396,
    "start_time": "2021-12-26T11:33:38.093Z"
   },
   {
    "duration": 12,
    "start_time": "2021-12-26T11:33:38.490Z"
   },
   {
    "duration": 506,
    "start_time": "2021-12-26T11:33:38.503Z"
   },
   {
    "duration": 17,
    "start_time": "2021-12-26T11:33:39.011Z"
   },
   {
    "duration": 9,
    "start_time": "2021-12-26T11:33:39.030Z"
   },
   {
    "duration": 1070,
    "start_time": "2021-12-26T11:34:32.235Z"
   },
   {
    "duration": 430,
    "start_time": "2021-12-26T11:34:33.306Z"
   },
   {
    "duration": 20,
    "start_time": "2021-12-26T11:34:33.738Z"
   },
   {
    "duration": 13,
    "start_time": "2021-12-26T11:34:33.760Z"
   },
   {
    "duration": 13,
    "start_time": "2021-12-26T11:34:33.775Z"
   },
   {
    "duration": 15,
    "start_time": "2021-12-26T11:34:33.789Z"
   },
   {
    "duration": 22,
    "start_time": "2021-12-26T11:34:33.806Z"
   },
   {
    "duration": 14,
    "start_time": "2021-12-26T11:34:33.831Z"
   },
   {
    "duration": 6,
    "start_time": "2021-12-26T11:34:33.849Z"
   },
   {
    "duration": 9,
    "start_time": "2021-12-26T11:34:33.857Z"
   },
   {
    "duration": 14,
    "start_time": "2021-12-26T11:34:33.867Z"
   },
   {
    "duration": 8,
    "start_time": "2021-12-26T11:34:33.882Z"
   },
   {
    "duration": 10,
    "start_time": "2021-12-26T11:34:33.891Z"
   },
   {
    "duration": 26,
    "start_time": "2021-12-26T11:34:33.903Z"
   },
   {
    "duration": 103,
    "start_time": "2021-12-26T11:34:33.930Z"
   },
   {
    "duration": 52,
    "start_time": "2021-12-26T11:34:34.034Z"
   },
   {
    "duration": 8,
    "start_time": "2021-12-26T11:34:34.089Z"
   },
   {
    "duration": 82,
    "start_time": "2021-12-26T11:34:34.099Z"
   },
   {
    "duration": 44,
    "start_time": "2021-12-26T11:34:34.183Z"
   },
   {
    "duration": 4,
    "start_time": "2021-12-26T11:34:34.229Z"
   },
   {
    "duration": 9,
    "start_time": "2021-12-26T11:34:34.235Z"
   },
   {
    "duration": 53,
    "start_time": "2021-12-26T11:34:34.246Z"
   },
   {
    "duration": 41,
    "start_time": "2021-12-26T11:34:34.303Z"
   },
   {
    "duration": 4,
    "start_time": "2021-12-26T11:34:34.346Z"
   },
   {
    "duration": 12,
    "start_time": "2021-12-26T11:34:34.352Z"
   },
   {
    "duration": 9,
    "start_time": "2021-12-26T11:34:34.365Z"
   },
   {
    "duration": 14,
    "start_time": "2021-12-26T11:34:34.376Z"
   },
   {
    "duration": 7,
    "start_time": "2021-12-26T11:34:34.392Z"
   },
   {
    "duration": 29,
    "start_time": "2021-12-26T11:34:34.400Z"
   },
   {
    "duration": 17,
    "start_time": "2021-12-26T11:34:34.431Z"
   },
   {
    "duration": 10,
    "start_time": "2021-12-26T11:34:34.450Z"
   },
   {
    "duration": 15,
    "start_time": "2021-12-26T11:34:34.462Z"
   },
   {
    "duration": 8,
    "start_time": "2021-12-26T11:34:34.479Z"
   },
   {
    "duration": 21,
    "start_time": "2021-12-26T11:34:34.489Z"
   },
   {
    "duration": 24,
    "start_time": "2021-12-26T11:34:34.511Z"
   },
   {
    "duration": 8,
    "start_time": "2021-12-26T11:34:34.537Z"
   },
   {
    "duration": 23,
    "start_time": "2021-12-26T11:34:34.546Z"
   },
   {
    "duration": 13,
    "start_time": "2021-12-26T11:34:34.570Z"
   },
   {
    "duration": 10,
    "start_time": "2021-12-26T11:34:34.585Z"
   },
   {
    "duration": 36,
    "start_time": "2021-12-26T11:34:34.596Z"
   },
   {
    "duration": 11,
    "start_time": "2021-12-26T11:34:34.634Z"
   },
   {
    "duration": 7,
    "start_time": "2021-12-26T11:34:34.647Z"
   },
   {
    "duration": 13,
    "start_time": "2021-12-26T11:34:34.655Z"
   },
   {
    "duration": 625,
    "start_time": "2021-12-26T11:34:34.670Z"
   },
   {
    "duration": 12,
    "start_time": "2021-12-26T11:34:35.297Z"
   },
   {
    "duration": 430,
    "start_time": "2021-12-26T11:34:35.311Z"
   },
   {
    "duration": 12,
    "start_time": "2021-12-26T11:34:35.743Z"
   },
   {
    "duration": 403,
    "start_time": "2021-12-26T11:34:35.756Z"
   },
   {
    "duration": 13,
    "start_time": "2021-12-26T11:34:36.160Z"
   },
   {
    "duration": 433,
    "start_time": "2021-12-26T11:34:36.174Z"
   },
   {
    "duration": 19,
    "start_time": "2021-12-26T11:34:36.608Z"
   },
   {
    "duration": 9,
    "start_time": "2021-12-26T11:34:36.628Z"
   },
   {
    "duration": 1018,
    "start_time": "2021-12-26T11:35:27.682Z"
   },
   {
    "duration": 369,
    "start_time": "2021-12-26T11:35:28.702Z"
   },
   {
    "duration": 23,
    "start_time": "2021-12-26T11:35:29.073Z"
   },
   {
    "duration": 11,
    "start_time": "2021-12-26T11:35:29.098Z"
   },
   {
    "duration": 15,
    "start_time": "2021-12-26T11:35:29.111Z"
   },
   {
    "duration": 9,
    "start_time": "2021-12-26T11:35:29.128Z"
   },
   {
    "duration": 17,
    "start_time": "2021-12-26T11:35:29.138Z"
   },
   {
    "duration": 9,
    "start_time": "2021-12-26T11:35:29.158Z"
   },
   {
    "duration": 17,
    "start_time": "2021-12-26T11:35:29.169Z"
   },
   {
    "duration": 9,
    "start_time": "2021-12-26T11:35:29.187Z"
   },
   {
    "duration": 34,
    "start_time": "2021-12-26T11:35:29.197Z"
   },
   {
    "duration": 13,
    "start_time": "2021-12-26T11:35:29.233Z"
   },
   {
    "duration": 11,
    "start_time": "2021-12-26T11:35:29.248Z"
   },
   {
    "duration": 11,
    "start_time": "2021-12-26T11:35:29.260Z"
   },
   {
    "duration": 8,
    "start_time": "2021-12-26T11:35:29.273Z"
   },
   {
    "duration": 103,
    "start_time": "2021-12-26T11:35:29.283Z"
   },
   {
    "duration": 51,
    "start_time": "2021-12-26T11:35:29.388Z"
   },
   {
    "duration": 7,
    "start_time": "2021-12-26T11:35:29.441Z"
   },
   {
    "duration": 63,
    "start_time": "2021-12-26T11:35:29.450Z"
   },
   {
    "duration": 42,
    "start_time": "2021-12-26T11:35:29.515Z"
   },
   {
    "duration": 4,
    "start_time": "2021-12-26T11:35:29.559Z"
   },
   {
    "duration": 6,
    "start_time": "2021-12-26T11:35:29.565Z"
   },
   {
    "duration": 85,
    "start_time": "2021-12-26T11:35:29.575Z"
   },
   {
    "duration": 33,
    "start_time": "2021-12-26T11:35:29.663Z"
   },
   {
    "duration": 6,
    "start_time": "2021-12-26T11:35:29.698Z"
   },
   {
    "duration": 34,
    "start_time": "2021-12-26T11:35:29.706Z"
   },
   {
    "duration": 10,
    "start_time": "2021-12-26T11:35:29.742Z"
   },
   {
    "duration": 14,
    "start_time": "2021-12-26T11:35:29.754Z"
   },
   {
    "duration": 2,
    "start_time": "2021-12-26T11:35:29.770Z"
   },
   {
    "duration": 6,
    "start_time": "2021-12-26T11:35:29.774Z"
   },
   {
    "duration": 5,
    "start_time": "2021-12-26T11:35:29.782Z"
   },
   {
    "duration": 10,
    "start_time": "2021-12-26T11:35:29.789Z"
   },
   {
    "duration": 34,
    "start_time": "2021-12-26T11:35:29.803Z"
   },
   {
    "duration": 9,
    "start_time": "2021-12-26T11:35:29.839Z"
   },
   {
    "duration": 21,
    "start_time": "2021-12-26T11:35:29.850Z"
   },
   {
    "duration": 15,
    "start_time": "2021-12-26T11:35:29.873Z"
   },
   {
    "duration": 38,
    "start_time": "2021-12-26T11:35:29.889Z"
   },
   {
    "duration": 14,
    "start_time": "2021-12-26T11:35:29.929Z"
   },
   {
    "duration": 15,
    "start_time": "2021-12-26T11:35:29.945Z"
   },
   {
    "duration": 7,
    "start_time": "2021-12-26T11:35:29.961Z"
   },
   {
    "duration": 19,
    "start_time": "2021-12-26T11:35:29.970Z"
   },
   {
    "duration": 38,
    "start_time": "2021-12-26T11:35:29.991Z"
   },
   {
    "duration": 8,
    "start_time": "2021-12-26T11:35:30.030Z"
   },
   {
    "duration": 17,
    "start_time": "2021-12-26T11:35:30.040Z"
   },
   {
    "duration": 877,
    "start_time": "2021-12-26T11:35:30.059Z"
   },
   {
    "duration": 16,
    "start_time": "2021-12-26T11:35:30.938Z"
   },
   {
    "duration": 586,
    "start_time": "2021-12-26T11:35:30.956Z"
   },
   {
    "duration": 12,
    "start_time": "2021-12-26T11:35:31.544Z"
   },
   {
    "duration": 696,
    "start_time": "2021-12-26T11:35:31.558Z"
   },
   {
    "duration": 17,
    "start_time": "2021-12-26T11:35:32.257Z"
   },
   {
    "duration": 453,
    "start_time": "2021-12-26T11:35:32.276Z"
   },
   {
    "duration": 11,
    "start_time": "2021-12-26T11:35:32.731Z"
   },
   {
    "duration": 14,
    "start_time": "2021-12-26T11:35:32.744Z"
   },
   {
    "duration": 1100,
    "start_time": "2021-12-26T11:39:17.018Z"
   },
   {
    "duration": 390,
    "start_time": "2021-12-26T11:39:18.120Z"
   },
   {
    "duration": 21,
    "start_time": "2021-12-26T11:39:18.512Z"
   },
   {
    "duration": 11,
    "start_time": "2021-12-26T11:39:18.535Z"
   },
   {
    "duration": 25,
    "start_time": "2021-12-26T11:39:18.547Z"
   },
   {
    "duration": 17,
    "start_time": "2021-12-26T11:39:18.574Z"
   },
   {
    "duration": 37,
    "start_time": "2021-12-26T11:39:18.592Z"
   },
   {
    "duration": 13,
    "start_time": "2021-12-26T11:39:18.631Z"
   },
   {
    "duration": 12,
    "start_time": "2021-12-26T11:39:18.647Z"
   },
   {
    "duration": 7,
    "start_time": "2021-12-26T11:39:18.661Z"
   },
   {
    "duration": 7,
    "start_time": "2021-12-26T11:39:18.670Z"
   },
   {
    "duration": 10,
    "start_time": "2021-12-26T11:39:18.679Z"
   },
   {
    "duration": 37,
    "start_time": "2021-12-26T11:39:18.690Z"
   },
   {
    "duration": 9,
    "start_time": "2021-12-26T11:39:18.729Z"
   },
   {
    "duration": 10,
    "start_time": "2021-12-26T11:39:18.740Z"
   },
   {
    "duration": 95,
    "start_time": "2021-12-26T11:39:18.752Z"
   },
   {
    "duration": 51,
    "start_time": "2021-12-26T11:39:18.849Z"
   },
   {
    "duration": 9,
    "start_time": "2021-12-26T11:39:18.902Z"
   },
   {
    "duration": 60,
    "start_time": "2021-12-26T11:39:18.927Z"
   },
   {
    "duration": 48,
    "start_time": "2021-12-26T11:39:18.988Z"
   },
   {
    "duration": 4,
    "start_time": "2021-12-26T11:39:19.037Z"
   },
   {
    "duration": 7,
    "start_time": "2021-12-26T11:39:19.043Z"
   },
   {
    "duration": 54,
    "start_time": "2021-12-26T11:39:19.053Z"
   },
   {
    "duration": 35,
    "start_time": "2021-12-26T11:39:19.109Z"
   },
   {
    "duration": 4,
    "start_time": "2021-12-26T11:39:19.146Z"
   },
   {
    "duration": 12,
    "start_time": "2021-12-26T11:39:19.151Z"
   },
   {
    "duration": 12,
    "start_time": "2021-12-26T11:39:19.165Z"
   },
   {
    "duration": 12,
    "start_time": "2021-12-26T11:39:19.179Z"
   },
   {
    "duration": 2,
    "start_time": "2021-12-26T11:39:19.193Z"
   },
   {
    "duration": 8,
    "start_time": "2021-12-26T11:39:19.196Z"
   },
   {
    "duration": 22,
    "start_time": "2021-12-26T11:39:19.205Z"
   },
   {
    "duration": 7,
    "start_time": "2021-12-26T11:39:19.229Z"
   },
   {
    "duration": 13,
    "start_time": "2021-12-26T11:39:19.237Z"
   },
   {
    "duration": 8,
    "start_time": "2021-12-26T11:39:19.251Z"
   },
   {
    "duration": 15,
    "start_time": "2021-12-26T11:39:19.261Z"
   },
   {
    "duration": 12,
    "start_time": "2021-12-26T11:39:19.277Z"
   },
   {
    "duration": 41,
    "start_time": "2021-12-26T11:39:19.290Z"
   },
   {
    "duration": 11,
    "start_time": "2021-12-26T11:39:19.333Z"
   },
   {
    "duration": 13,
    "start_time": "2021-12-26T11:39:19.345Z"
   },
   {
    "duration": 6,
    "start_time": "2021-12-26T11:39:19.360Z"
   },
   {
    "duration": 17,
    "start_time": "2021-12-26T11:39:19.368Z"
   },
   {
    "duration": 9,
    "start_time": "2021-12-26T11:39:19.387Z"
   },
   {
    "duration": 5,
    "start_time": "2021-12-26T11:39:19.428Z"
   },
   {
    "duration": 13,
    "start_time": "2021-12-26T11:39:19.435Z"
   },
   {
    "duration": 708,
    "start_time": "2021-12-26T11:39:19.450Z"
   },
   {
    "duration": 14,
    "start_time": "2021-12-26T11:39:20.160Z"
   },
   {
    "duration": 421,
    "start_time": "2021-12-26T11:39:20.176Z"
   },
   {
    "duration": 14,
    "start_time": "2021-12-26T11:39:20.599Z"
   },
   {
    "duration": 405,
    "start_time": "2021-12-26T11:39:20.627Z"
   },
   {
    "duration": 14,
    "start_time": "2021-12-26T11:39:21.034Z"
   },
   {
    "duration": 423,
    "start_time": "2021-12-26T11:39:21.050Z"
   },
   {
    "duration": 8,
    "start_time": "2021-12-26T11:39:21.475Z"
   },
   {
    "duration": 16,
    "start_time": "2021-12-26T11:39:21.485Z"
   },
   {
    "duration": 1046,
    "start_time": "2021-12-26T11:41:17.258Z"
   },
   {
    "duration": 378,
    "start_time": "2021-12-26T11:41:18.306Z"
   },
   {
    "duration": 20,
    "start_time": "2021-12-26T11:41:18.686Z"
   },
   {
    "duration": 10,
    "start_time": "2021-12-26T11:41:18.708Z"
   },
   {
    "duration": 22,
    "start_time": "2021-12-26T11:41:18.719Z"
   },
   {
    "duration": 16,
    "start_time": "2021-12-26T11:41:18.742Z"
   },
   {
    "duration": 8,
    "start_time": "2021-12-26T11:41:18.759Z"
   },
   {
    "duration": 465,
    "start_time": "2021-12-26T11:41:18.770Z"
   },
   {
    "duration": -645,
    "start_time": "2021-12-26T11:41:19.882Z"
   },
   {
    "duration": -646,
    "start_time": "2021-12-26T11:41:19.885Z"
   },
   {
    "duration": -648,
    "start_time": "2021-12-26T11:41:19.888Z"
   },
   {
    "duration": -649,
    "start_time": "2021-12-26T11:41:19.890Z"
   },
   {
    "duration": -650,
    "start_time": "2021-12-26T11:41:19.892Z"
   },
   {
    "duration": -651,
    "start_time": "2021-12-26T11:41:19.894Z"
   },
   {
    "duration": -652,
    "start_time": "2021-12-26T11:41:19.896Z"
   },
   {
    "duration": -652,
    "start_time": "2021-12-26T11:41:19.897Z"
   },
   {
    "duration": -653,
    "start_time": "2021-12-26T11:41:19.899Z"
   },
   {
    "duration": -654,
    "start_time": "2021-12-26T11:41:19.901Z"
   },
   {
    "duration": -655,
    "start_time": "2021-12-26T11:41:19.903Z"
   },
   {
    "duration": -656,
    "start_time": "2021-12-26T11:41:19.905Z"
   },
   {
    "duration": -657,
    "start_time": "2021-12-26T11:41:19.907Z"
   },
   {
    "duration": -658,
    "start_time": "2021-12-26T11:41:19.909Z"
   },
   {
    "duration": -658,
    "start_time": "2021-12-26T11:41:19.910Z"
   },
   {
    "duration": -659,
    "start_time": "2021-12-26T11:41:19.912Z"
   },
   {
    "duration": -660,
    "start_time": "2021-12-26T11:41:19.914Z"
   },
   {
    "duration": -660,
    "start_time": "2021-12-26T11:41:19.915Z"
   },
   {
    "duration": -661,
    "start_time": "2021-12-26T11:41:19.917Z"
   },
   {
    "duration": -662,
    "start_time": "2021-12-26T11:41:19.919Z"
   },
   {
    "duration": -663,
    "start_time": "2021-12-26T11:41:19.921Z"
   },
   {
    "duration": -669,
    "start_time": "2021-12-26T11:41:19.928Z"
   },
   {
    "duration": -670,
    "start_time": "2021-12-26T11:41:19.930Z"
   },
   {
    "duration": -672,
    "start_time": "2021-12-26T11:41:19.933Z"
   },
   {
    "duration": -673,
    "start_time": "2021-12-26T11:41:19.935Z"
   },
   {
    "duration": -676,
    "start_time": "2021-12-26T11:41:19.939Z"
   },
   {
    "duration": -679,
    "start_time": "2021-12-26T11:41:19.943Z"
   },
   {
    "duration": -681,
    "start_time": "2021-12-26T11:41:19.946Z"
   },
   {
    "duration": -682,
    "start_time": "2021-12-26T11:41:19.948Z"
   },
   {
    "duration": -689,
    "start_time": "2021-12-26T11:41:19.956Z"
   },
   {
    "duration": -690,
    "start_time": "2021-12-26T11:41:19.958Z"
   },
   {
    "duration": -691,
    "start_time": "2021-12-26T11:41:19.960Z"
   },
   {
    "duration": -692,
    "start_time": "2021-12-26T11:41:19.962Z"
   },
   {
    "duration": -694,
    "start_time": "2021-12-26T11:41:19.965Z"
   },
   {
    "duration": -695,
    "start_time": "2021-12-26T11:41:19.967Z"
   },
   {
    "duration": -697,
    "start_time": "2021-12-26T11:41:19.970Z"
   },
   {
    "duration": -699,
    "start_time": "2021-12-26T11:41:19.973Z"
   },
   {
    "duration": -700,
    "start_time": "2021-12-26T11:41:19.975Z"
   },
   {
    "duration": -702,
    "start_time": "2021-12-26T11:41:19.978Z"
   },
   {
    "duration": -705,
    "start_time": "2021-12-26T11:41:19.981Z"
   },
   {
    "duration": -706,
    "start_time": "2021-12-26T11:41:19.983Z"
   },
   {
    "duration": -708,
    "start_time": "2021-12-26T11:41:19.985Z"
   },
   {
    "duration": -661,
    "start_time": "2021-12-26T11:41:19.988Z"
   },
   {
    "duration": -663,
    "start_time": "2021-12-26T11:41:19.991Z"
   },
   {
    "duration": -664,
    "start_time": "2021-12-26T11:41:19.993Z"
   },
   {
    "duration": 13,
    "start_time": "2021-12-26T11:41:55.928Z"
   },
   {
    "duration": 1073,
    "start_time": "2021-12-26T12:32:44.990Z"
   },
   {
    "duration": 380,
    "start_time": "2021-12-26T12:32:46.065Z"
   },
   {
    "duration": 22,
    "start_time": "2021-12-26T12:32:46.447Z"
   },
   {
    "duration": 11,
    "start_time": "2021-12-26T12:32:46.471Z"
   },
   {
    "duration": 27,
    "start_time": "2021-12-26T12:32:46.484Z"
   },
   {
    "duration": 30,
    "start_time": "2021-12-26T12:32:46.513Z"
   },
   {
    "duration": 11,
    "start_time": "2021-12-26T12:32:46.545Z"
   },
   {
    "duration": 16,
    "start_time": "2021-12-26T12:32:46.558Z"
   },
   {
    "duration": 18,
    "start_time": "2021-12-26T12:32:46.578Z"
   },
   {
    "duration": 31,
    "start_time": "2021-12-26T12:32:46.598Z"
   },
   {
    "duration": 5,
    "start_time": "2021-12-26T12:32:46.631Z"
   },
   {
    "duration": 8,
    "start_time": "2021-12-26T12:32:46.638Z"
   },
   {
    "duration": 6,
    "start_time": "2021-12-26T12:32:46.647Z"
   },
   {
    "duration": 9,
    "start_time": "2021-12-26T12:32:46.655Z"
   },
   {
    "duration": 6,
    "start_time": "2021-12-26T12:32:46.666Z"
   },
   {
    "duration": 125,
    "start_time": "2021-12-26T12:32:46.674Z"
   },
   {
    "duration": 60,
    "start_time": "2021-12-26T12:32:46.800Z"
   },
   {
    "duration": 7,
    "start_time": "2021-12-26T12:32:46.862Z"
   },
   {
    "duration": 71,
    "start_time": "2021-12-26T12:32:46.870Z"
   },
   {
    "duration": 31,
    "start_time": "2021-12-26T12:32:46.942Z"
   },
   {
    "duration": 4,
    "start_time": "2021-12-26T12:32:46.975Z"
   },
   {
    "duration": 7,
    "start_time": "2021-12-26T12:32:46.981Z"
   },
   {
    "duration": 65,
    "start_time": "2021-12-26T12:32:46.989Z"
   },
   {
    "duration": 25,
    "start_time": "2021-12-26T12:32:47.056Z"
   },
   {
    "duration": 3,
    "start_time": "2021-12-26T12:32:47.083Z"
   },
   {
    "duration": 11,
    "start_time": "2021-12-26T12:32:47.088Z"
   },
   {
    "duration": 25,
    "start_time": "2021-12-26T12:32:47.102Z"
   },
   {
    "duration": 15,
    "start_time": "2021-12-26T12:32:47.129Z"
   },
   {
    "duration": 3,
    "start_time": "2021-12-26T12:32:47.146Z"
   },
   {
    "duration": 6,
    "start_time": "2021-12-26T12:32:47.150Z"
   },
   {
    "duration": 5,
    "start_time": "2021-12-26T12:32:47.158Z"
   },
   {
    "duration": 8,
    "start_time": "2021-12-26T12:32:47.164Z"
   },
   {
    "duration": 11,
    "start_time": "2021-12-26T12:32:47.173Z"
   },
   {
    "duration": 7,
    "start_time": "2021-12-26T12:32:47.185Z"
   },
   {
    "duration": 44,
    "start_time": "2021-12-26T12:32:47.193Z"
   },
   {
    "duration": 12,
    "start_time": "2021-12-26T12:32:47.239Z"
   },
   {
    "duration": 7,
    "start_time": "2021-12-26T12:32:47.252Z"
   },
   {
    "duration": 12,
    "start_time": "2021-12-26T12:32:47.260Z"
   },
   {
    "duration": 13,
    "start_time": "2021-12-26T12:32:47.274Z"
   },
   {
    "duration": 41,
    "start_time": "2021-12-26T12:32:47.288Z"
   },
   {
    "duration": 17,
    "start_time": "2021-12-26T12:32:47.330Z"
   },
   {
    "duration": 6,
    "start_time": "2021-12-26T12:32:47.349Z"
   },
   {
    "duration": 6,
    "start_time": "2021-12-26T12:32:47.356Z"
   },
   {
    "duration": 13,
    "start_time": "2021-12-26T12:32:47.364Z"
   },
   {
    "duration": 649,
    "start_time": "2021-12-26T12:32:47.378Z"
   },
   {
    "duration": 16,
    "start_time": "2021-12-26T12:32:48.029Z"
   },
   {
    "duration": 422,
    "start_time": "2021-12-26T12:32:48.047Z"
   },
   {
    "duration": 13,
    "start_time": "2021-12-26T12:32:48.470Z"
   },
   {
    "duration": 572,
    "start_time": "2021-12-26T12:32:48.484Z"
   },
   {
    "duration": 13,
    "start_time": "2021-12-26T12:32:49.058Z"
   },
   {
    "duration": 419,
    "start_time": "2021-12-26T12:32:49.073Z"
   },
   {
    "duration": 11,
    "start_time": "2021-12-26T12:32:49.494Z"
   },
   {
    "duration": 24,
    "start_time": "2021-12-26T12:32:49.507Z"
   },
   {
    "duration": 1103,
    "start_time": "2021-12-26T13:12:14.896Z"
   },
   {
    "duration": 372,
    "start_time": "2021-12-26T13:12:16.000Z"
   },
   {
    "duration": 24,
    "start_time": "2021-12-26T13:12:16.374Z"
   },
   {
    "duration": 11,
    "start_time": "2021-12-26T13:12:16.400Z"
   },
   {
    "duration": 16,
    "start_time": "2021-12-26T13:12:16.412Z"
   },
   {
    "duration": 15,
    "start_time": "2021-12-26T13:12:16.429Z"
   },
   {
    "duration": 16,
    "start_time": "2021-12-26T13:12:16.446Z"
   },
   {
    "duration": 8,
    "start_time": "2021-12-26T13:12:16.465Z"
   },
   {
    "duration": 24,
    "start_time": "2021-12-26T13:12:16.475Z"
   },
   {
    "duration": 9,
    "start_time": "2021-12-26T13:12:16.501Z"
   },
   {
    "duration": 17,
    "start_time": "2021-12-26T13:12:16.511Z"
   },
   {
    "duration": 24,
    "start_time": "2021-12-26T13:12:16.529Z"
   },
   {
    "duration": 13,
    "start_time": "2021-12-26T13:12:16.554Z"
   },
   {
    "duration": 21,
    "start_time": "2021-12-26T13:12:16.569Z"
   },
   {
    "duration": 18,
    "start_time": "2021-12-26T13:12:16.591Z"
   },
   {
    "duration": 96,
    "start_time": "2021-12-26T13:12:16.610Z"
   },
   {
    "duration": 46,
    "start_time": "2021-12-26T13:12:16.708Z"
   },
   {
    "duration": 6,
    "start_time": "2021-12-26T13:12:16.756Z"
   },
   {
    "duration": 70,
    "start_time": "2021-12-26T13:12:16.764Z"
   },
   {
    "duration": 34,
    "start_time": "2021-12-26T13:12:16.836Z"
   },
   {
    "duration": 4,
    "start_time": "2021-12-26T13:12:16.871Z"
   },
   {
    "duration": 8,
    "start_time": "2021-12-26T13:12:16.877Z"
   },
   {
    "duration": 64,
    "start_time": "2021-12-26T13:12:16.888Z"
   },
   {
    "duration": 25,
    "start_time": "2021-12-26T13:12:16.954Z"
   },
   {
    "duration": 3,
    "start_time": "2021-12-26T13:12:16.981Z"
   },
   {
    "duration": 9,
    "start_time": "2021-12-26T13:12:16.986Z"
   },
   {
    "duration": 8,
    "start_time": "2021-12-26T13:12:16.997Z"
   },
   {
    "duration": 28,
    "start_time": "2021-12-26T13:12:17.006Z"
   },
   {
    "duration": 2,
    "start_time": "2021-12-26T13:12:17.035Z"
   },
   {
    "duration": 5,
    "start_time": "2021-12-26T13:12:17.039Z"
   },
   {
    "duration": 6,
    "start_time": "2021-12-26T13:12:17.045Z"
   },
   {
    "duration": 8,
    "start_time": "2021-12-26T13:12:17.053Z"
   },
   {
    "duration": 11,
    "start_time": "2021-12-26T13:12:17.062Z"
   },
   {
    "duration": 7,
    "start_time": "2021-12-26T13:12:17.075Z"
   },
   {
    "duration": 48,
    "start_time": "2021-12-26T13:12:17.083Z"
   },
   {
    "duration": 12,
    "start_time": "2021-12-26T13:12:17.133Z"
   },
   {
    "duration": 6,
    "start_time": "2021-12-26T13:12:17.147Z"
   },
   {
    "duration": 12,
    "start_time": "2021-12-26T13:12:17.154Z"
   },
   {
    "duration": 13,
    "start_time": "2021-12-26T13:12:17.167Z"
   },
   {
    "duration": 6,
    "start_time": "2021-12-26T13:12:17.181Z"
   },
   {
    "duration": 50,
    "start_time": "2021-12-26T13:12:17.189Z"
   },
   {
    "duration": 5,
    "start_time": "2021-12-26T13:12:17.241Z"
   },
   {
    "duration": 7,
    "start_time": "2021-12-26T13:12:17.248Z"
   },
   {
    "duration": 12,
    "start_time": "2021-12-26T13:12:17.257Z"
   },
   {
    "duration": 614,
    "start_time": "2021-12-26T13:12:17.270Z"
   },
   {
    "duration": 12,
    "start_time": "2021-12-26T13:12:17.885Z"
   },
   {
    "duration": 423,
    "start_time": "2021-12-26T13:12:17.898Z"
   },
   {
    "duration": 13,
    "start_time": "2021-12-26T13:12:18.326Z"
   },
   {
    "duration": 409,
    "start_time": "2021-12-26T13:12:18.340Z"
   },
   {
    "duration": 12,
    "start_time": "2021-12-26T13:12:18.750Z"
   },
   {
    "duration": 415,
    "start_time": "2021-12-26T13:12:18.763Z"
   },
   {
    "duration": 10,
    "start_time": "2021-12-26T13:12:19.180Z"
   },
   {
    "duration": 13,
    "start_time": "2021-12-26T13:12:19.191Z"
   },
   {
    "duration": 1086,
    "start_time": "2021-12-26T15:18:53.512Z"
   },
   {
    "duration": 381,
    "start_time": "2021-12-26T15:18:54.600Z"
   },
   {
    "duration": 20,
    "start_time": "2021-12-26T15:18:54.986Z"
   },
   {
    "duration": 11,
    "start_time": "2021-12-26T15:18:55.007Z"
   },
   {
    "duration": 17,
    "start_time": "2021-12-26T15:18:55.019Z"
   },
   {
    "duration": 16,
    "start_time": "2021-12-26T15:18:55.037Z"
   },
   {
    "duration": 7,
    "start_time": "2021-12-26T15:18:55.055Z"
   },
   {
    "duration": 9,
    "start_time": "2021-12-26T15:18:55.064Z"
   },
   {
    "duration": 12,
    "start_time": "2021-12-26T15:18:55.074Z"
   },
   {
    "duration": 7,
    "start_time": "2021-12-26T15:18:55.087Z"
   },
   {
    "duration": 32,
    "start_time": "2021-12-26T15:18:55.096Z"
   },
   {
    "duration": 6,
    "start_time": "2021-12-26T15:18:55.129Z"
   },
   {
    "duration": 7,
    "start_time": "2021-12-26T15:18:55.137Z"
   },
   {
    "duration": 11,
    "start_time": "2021-12-26T15:18:55.145Z"
   },
   {
    "duration": 5,
    "start_time": "2021-12-26T15:18:55.157Z"
   },
   {
    "duration": 101,
    "start_time": "2021-12-26T15:18:55.164Z"
   },
   {
    "duration": 42,
    "start_time": "2021-12-26T15:18:55.267Z"
   },
   {
    "duration": 16,
    "start_time": "2021-12-26T15:18:55.311Z"
   },
   {
    "duration": 58,
    "start_time": "2021-12-26T15:18:55.329Z"
   },
   {
    "duration": 38,
    "start_time": "2021-12-26T15:18:55.389Z"
   },
   {
    "duration": 4,
    "start_time": "2021-12-26T15:18:55.429Z"
   },
   {
    "duration": 5,
    "start_time": "2021-12-26T15:18:55.436Z"
   },
   {
    "duration": 50,
    "start_time": "2021-12-26T15:18:55.443Z"
   },
   {
    "duration": 34,
    "start_time": "2021-12-26T15:18:55.495Z"
   },
   {
    "duration": 4,
    "start_time": "2021-12-26T15:18:55.530Z"
   },
   {
    "duration": 12,
    "start_time": "2021-12-26T15:18:55.536Z"
   },
   {
    "duration": 8,
    "start_time": "2021-12-26T15:18:55.549Z"
   },
   {
    "duration": 10,
    "start_time": "2021-12-26T15:18:55.559Z"
   },
   {
    "duration": 2,
    "start_time": "2021-12-26T15:18:55.570Z"
   },
   {
    "duration": 6,
    "start_time": "2021-12-26T15:18:55.574Z"
   },
   {
    "duration": 7,
    "start_time": "2021-12-26T15:18:55.581Z"
   },
   {
    "duration": 10,
    "start_time": "2021-12-26T15:18:55.590Z"
   },
   {
    "duration": 29,
    "start_time": "2021-12-26T15:18:55.602Z"
   },
   {
    "duration": 7,
    "start_time": "2021-12-26T15:18:55.633Z"
   },
   {
    "duration": 15,
    "start_time": "2021-12-26T15:18:55.641Z"
   },
   {
    "duration": 13,
    "start_time": "2021-12-26T15:18:55.658Z"
   },
   {
    "duration": 8,
    "start_time": "2021-12-26T15:18:55.672Z"
   },
   {
    "duration": 16,
    "start_time": "2021-12-26T15:18:55.682Z"
   },
   {
    "duration": 37,
    "start_time": "2021-12-26T15:18:55.700Z"
   },
   {
    "duration": 8,
    "start_time": "2021-12-26T15:18:55.738Z"
   },
   {
    "duration": 16,
    "start_time": "2021-12-26T15:18:55.748Z"
   },
   {
    "duration": 6,
    "start_time": "2021-12-26T15:18:55.765Z"
   },
   {
    "duration": 7,
    "start_time": "2021-12-26T15:18:55.773Z"
   },
   {
    "duration": 11,
    "start_time": "2021-12-26T15:18:55.781Z"
   },
   {
    "duration": 603,
    "start_time": "2021-12-26T15:18:55.793Z"
   },
   {
    "duration": 11,
    "start_time": "2021-12-26T15:18:56.398Z"
   },
   {
    "duration": 405,
    "start_time": "2021-12-26T15:18:56.410Z"
   },
   {
    "duration": 20,
    "start_time": "2021-12-26T15:18:56.817Z"
   },
   {
    "duration": 405,
    "start_time": "2021-12-26T15:18:56.838Z"
   },
   {
    "duration": 12,
    "start_time": "2021-12-26T15:18:57.244Z"
   },
   {
    "duration": 409,
    "start_time": "2021-12-26T15:18:57.257Z"
   },
   {
    "duration": 9,
    "start_time": "2021-12-26T15:18:57.668Z"
   },
   {
    "duration": 10,
    "start_time": "2021-12-26T15:18:57.678Z"
   },
   {
    "duration": 13,
    "start_time": "2021-12-26T15:31:05.026Z"
   },
   {
    "duration": 1217,
    "start_time": "2021-12-26T15:42:53.386Z"
   },
   {
    "duration": 378,
    "start_time": "2021-12-26T15:42:54.605Z"
   },
   {
    "duration": 19,
    "start_time": "2021-12-26T15:42:54.985Z"
   },
   {
    "duration": 9,
    "start_time": "2021-12-26T15:42:55.006Z"
   },
   {
    "duration": 14,
    "start_time": "2021-12-26T15:42:55.017Z"
   },
   {
    "duration": 15,
    "start_time": "2021-12-26T15:42:55.032Z"
   },
   {
    "duration": 8,
    "start_time": "2021-12-26T15:42:55.048Z"
   },
   {
    "duration": 9,
    "start_time": "2021-12-26T15:42:55.058Z"
   },
   {
    "duration": 12,
    "start_time": "2021-12-26T15:42:55.068Z"
   },
   {
    "duration": 7,
    "start_time": "2021-12-26T15:42:55.082Z"
   },
   {
    "duration": 6,
    "start_time": "2021-12-26T15:42:55.090Z"
   },
   {
    "duration": 7,
    "start_time": "2021-12-26T15:42:55.127Z"
   },
   {
    "duration": 12,
    "start_time": "2021-12-26T15:42:55.135Z"
   },
   {
    "duration": 11,
    "start_time": "2021-12-26T15:42:55.148Z"
   },
   {
    "duration": 4,
    "start_time": "2021-12-26T15:42:55.161Z"
   },
   {
    "duration": 111,
    "start_time": "2021-12-26T15:42:55.167Z"
   },
   {
    "duration": 47,
    "start_time": "2021-12-26T15:42:55.280Z"
   },
   {
    "duration": 8,
    "start_time": "2021-12-26T15:42:55.329Z"
   },
   {
    "duration": 59,
    "start_time": "2021-12-26T15:42:55.338Z"
   },
   {
    "duration": 48,
    "start_time": "2021-12-26T15:42:55.399Z"
   },
   {
    "duration": 4,
    "start_time": "2021-12-26T15:42:55.449Z"
   },
   {
    "duration": 5,
    "start_time": "2021-12-26T15:42:55.454Z"
   },
   {
    "duration": 65,
    "start_time": "2021-12-26T15:42:55.462Z"
   },
   {
    "duration": 20,
    "start_time": "2021-12-26T15:42:55.530Z"
   },
   {
    "duration": 3,
    "start_time": "2021-12-26T15:42:55.552Z"
   },
   {
    "duration": 10,
    "start_time": "2021-12-26T15:42:55.557Z"
   },
   {
    "duration": 11,
    "start_time": "2021-12-26T15:42:55.569Z"
   },
   {
    "duration": 11,
    "start_time": "2021-12-26T15:42:55.581Z"
   },
   {
    "duration": 2,
    "start_time": "2021-12-26T15:42:55.594Z"
   },
   {
    "duration": 29,
    "start_time": "2021-12-26T15:42:55.598Z"
   },
   {
    "duration": 6,
    "start_time": "2021-12-26T15:42:55.629Z"
   },
   {
    "duration": 8,
    "start_time": "2021-12-26T15:42:55.637Z"
   },
   {
    "duration": 14,
    "start_time": "2021-12-26T15:42:55.646Z"
   },
   {
    "duration": 7,
    "start_time": "2021-12-26T15:42:55.662Z"
   },
   {
    "duration": 21,
    "start_time": "2021-12-26T15:42:55.670Z"
   },
   {
    "duration": 12,
    "start_time": "2021-12-26T15:42:55.692Z"
   },
   {
    "duration": 26,
    "start_time": "2021-12-26T15:42:55.706Z"
   },
   {
    "duration": 19,
    "start_time": "2021-12-26T15:42:55.733Z"
   },
   {
    "duration": 12,
    "start_time": "2021-12-26T15:42:55.754Z"
   },
   {
    "duration": 6,
    "start_time": "2021-12-26T15:42:55.768Z"
   },
   {
    "duration": 17,
    "start_time": "2021-12-26T15:42:55.776Z"
   },
   {
    "duration": 5,
    "start_time": "2021-12-26T15:42:55.794Z"
   },
   {
    "duration": 28,
    "start_time": "2021-12-26T15:42:55.800Z"
   },
   {
    "duration": 10,
    "start_time": "2021-12-26T15:42:55.830Z"
   },
   {
    "duration": 589,
    "start_time": "2021-12-26T15:42:55.841Z"
   },
   {
    "duration": 12,
    "start_time": "2021-12-26T15:42:56.432Z"
   },
   {
    "duration": 414,
    "start_time": "2021-12-26T15:42:56.446Z"
   },
   {
    "duration": 13,
    "start_time": "2021-12-26T15:42:56.861Z"
   },
   {
    "duration": 418,
    "start_time": "2021-12-26T15:42:56.875Z"
   },
   {
    "duration": 13,
    "start_time": "2021-12-26T15:42:57.295Z"
   },
   {
    "duration": 412,
    "start_time": "2021-12-26T15:42:57.309Z"
   },
   {
    "duration": 10,
    "start_time": "2021-12-26T15:42:57.726Z"
   },
   {
    "duration": 10,
    "start_time": "2021-12-26T15:42:57.737Z"
   },
   {
    "duration": 12,
    "start_time": "2021-12-26T15:48:08.413Z"
   },
   {
    "duration": 1138,
    "start_time": "2021-12-26T16:02:57.059Z"
   },
   {
    "duration": 422,
    "start_time": "2021-12-26T16:02:58.198Z"
   },
   {
    "duration": 33,
    "start_time": "2021-12-26T16:02:58.622Z"
   },
   {
    "duration": 13,
    "start_time": "2021-12-26T16:02:58.657Z"
   },
   {
    "duration": 16,
    "start_time": "2021-12-26T16:02:58.672Z"
   },
   {
    "duration": 49,
    "start_time": "2021-12-26T16:02:58.690Z"
   },
   {
    "duration": 8,
    "start_time": "2021-12-26T16:02:58.741Z"
   },
   {
    "duration": 8,
    "start_time": "2021-12-26T16:02:58.751Z"
   },
   {
    "duration": 13,
    "start_time": "2021-12-26T16:02:58.761Z"
   },
   {
    "duration": 10,
    "start_time": "2021-12-26T16:02:58.776Z"
   },
   {
    "duration": 9,
    "start_time": "2021-12-26T16:02:58.788Z"
   },
   {
    "duration": 37,
    "start_time": "2021-12-26T16:02:58.798Z"
   },
   {
    "duration": 14,
    "start_time": "2021-12-26T16:02:58.836Z"
   },
   {
    "duration": 15,
    "start_time": "2021-12-26T16:02:58.852Z"
   },
   {
    "duration": 15,
    "start_time": "2021-12-26T16:02:58.869Z"
   },
   {
    "duration": 3,
    "start_time": "2021-12-26T16:02:58.886Z"
   },
   {
    "duration": 80,
    "start_time": "2021-12-26T16:02:58.891Z"
   },
   {
    "duration": 38,
    "start_time": "2021-12-26T16:02:58.972Z"
   },
   {
    "duration": 24,
    "start_time": "2021-12-26T16:02:59.011Z"
   },
   {
    "duration": 7,
    "start_time": "2021-12-26T16:02:59.036Z"
   },
   {
    "duration": 62,
    "start_time": "2021-12-26T16:02:59.045Z"
   },
   {
    "duration": 38,
    "start_time": "2021-12-26T16:02:59.109Z"
   },
   {
    "duration": 5,
    "start_time": "2021-12-26T16:02:59.150Z"
   },
   {
    "duration": 7,
    "start_time": "2021-12-26T16:02:59.157Z"
   },
   {
    "duration": 62,
    "start_time": "2021-12-26T16:02:59.165Z"
   },
   {
    "duration": 24,
    "start_time": "2021-12-26T16:02:59.229Z"
   },
   {
    "duration": 4,
    "start_time": "2021-12-26T16:02:59.254Z"
   },
   {
    "duration": 10,
    "start_time": "2021-12-26T16:02:59.260Z"
   },
   {
    "duration": 9,
    "start_time": "2021-12-26T16:02:59.271Z"
   },
   {
    "duration": 10,
    "start_time": "2021-12-26T16:02:59.281Z"
   },
   {
    "duration": 2,
    "start_time": "2021-12-26T16:02:59.293Z"
   },
   {
    "duration": 4,
    "start_time": "2021-12-26T16:02:59.327Z"
   },
   {
    "duration": 6,
    "start_time": "2021-12-26T16:02:59.332Z"
   },
   {
    "duration": 8,
    "start_time": "2021-12-26T16:02:59.339Z"
   },
   {
    "duration": 11,
    "start_time": "2021-12-26T16:02:59.348Z"
   },
   {
    "duration": 7,
    "start_time": "2021-12-26T16:02:59.361Z"
   },
   {
    "duration": 16,
    "start_time": "2021-12-26T16:02:59.369Z"
   },
   {
    "duration": 42,
    "start_time": "2021-12-26T16:02:59.386Z"
   },
   {
    "duration": 9,
    "start_time": "2021-12-26T16:02:59.430Z"
   },
   {
    "duration": 14,
    "start_time": "2021-12-26T16:02:59.440Z"
   },
   {
    "duration": 13,
    "start_time": "2021-12-26T16:02:59.456Z"
   },
   {
    "duration": 16,
    "start_time": "2021-12-26T16:02:59.471Z"
   },
   {
    "duration": 23,
    "start_time": "2021-12-26T16:02:59.489Z"
   },
   {
    "duration": 18,
    "start_time": "2021-12-26T16:02:59.514Z"
   },
   {
    "duration": 17,
    "start_time": "2021-12-26T16:02:59.534Z"
   },
   {
    "duration": 11,
    "start_time": "2021-12-26T16:02:59.553Z"
   },
   {
    "duration": 609,
    "start_time": "2021-12-26T16:02:59.566Z"
   },
   {
    "duration": 12,
    "start_time": "2021-12-26T16:03:00.176Z"
   },
   {
    "duration": 441,
    "start_time": "2021-12-26T16:03:00.190Z"
   },
   {
    "duration": 13,
    "start_time": "2021-12-26T16:03:00.632Z"
   },
   {
    "duration": 415,
    "start_time": "2021-12-26T16:03:00.646Z"
   },
   {
    "duration": 13,
    "start_time": "2021-12-26T16:03:01.063Z"
   },
   {
    "duration": 456,
    "start_time": "2021-12-26T16:03:01.078Z"
   },
   {
    "duration": 11,
    "start_time": "2021-12-26T16:03:01.536Z"
   },
   {
    "duration": 15,
    "start_time": "2021-12-26T16:03:01.549Z"
   },
   {
    "duration": 7,
    "start_time": "2021-12-26T16:03:45.631Z"
   },
   {
    "duration": 1069,
    "start_time": "2021-12-26T16:03:52.032Z"
   },
   {
    "duration": 397,
    "start_time": "2021-12-26T16:03:53.103Z"
   },
   {
    "duration": 18,
    "start_time": "2021-12-26T16:03:53.502Z"
   },
   {
    "duration": 10,
    "start_time": "2021-12-26T16:03:53.522Z"
   },
   {
    "duration": 12,
    "start_time": "2021-12-26T16:03:53.533Z"
   },
   {
    "duration": 16,
    "start_time": "2021-12-26T16:03:53.547Z"
   },
   {
    "duration": 8,
    "start_time": "2021-12-26T16:03:53.565Z"
   },
   {
    "duration": 9,
    "start_time": "2021-12-26T16:03:53.576Z"
   },
   {
    "duration": 42,
    "start_time": "2021-12-26T16:03:53.588Z"
   },
   {
    "duration": 8,
    "start_time": "2021-12-26T16:03:53.632Z"
   },
   {
    "duration": 7,
    "start_time": "2021-12-26T16:03:53.641Z"
   },
   {
    "duration": 8,
    "start_time": "2021-12-26T16:03:53.650Z"
   },
   {
    "duration": 5,
    "start_time": "2021-12-26T16:03:53.660Z"
   },
   {
    "duration": 12,
    "start_time": "2021-12-26T16:03:53.667Z"
   },
   {
    "duration": 50,
    "start_time": "2021-12-26T16:03:53.680Z"
   },
   {
    "duration": 4,
    "start_time": "2021-12-26T16:03:53.731Z"
   },
   {
    "duration": 68,
    "start_time": "2021-12-26T16:03:53.737Z"
   },
   {
    "duration": 50,
    "start_time": "2021-12-26T16:03:53.807Z"
   },
   {
    "duration": 12,
    "start_time": "2021-12-26T16:03:53.858Z"
   },
   {
    "duration": 6,
    "start_time": "2021-12-26T16:03:53.872Z"
   },
   {
    "duration": 67,
    "start_time": "2021-12-26T16:03:53.880Z"
   },
   {
    "duration": 25,
    "start_time": "2021-12-26T16:03:53.948Z"
   },
   {
    "duration": 4,
    "start_time": "2021-12-26T16:03:53.976Z"
   },
   {
    "duration": 5,
    "start_time": "2021-12-26T16:03:53.982Z"
   },
   {
    "duration": 70,
    "start_time": "2021-12-26T16:03:53.988Z"
   },
   {
    "duration": 28,
    "start_time": "2021-12-26T16:03:54.060Z"
   },
   {
    "duration": 4,
    "start_time": "2021-12-26T16:03:54.090Z"
   },
   {
    "duration": 12,
    "start_time": "2021-12-26T16:03:54.096Z"
   },
   {
    "duration": 10,
    "start_time": "2021-12-26T16:03:54.128Z"
   },
   {
    "duration": 13,
    "start_time": "2021-12-26T16:03:54.140Z"
   },
   {
    "duration": 4,
    "start_time": "2021-12-26T16:03:54.155Z"
   },
   {
    "duration": 9,
    "start_time": "2021-12-26T16:03:54.160Z"
   },
   {
    "duration": 7,
    "start_time": "2021-12-26T16:03:54.171Z"
   },
   {
    "duration": 10,
    "start_time": "2021-12-26T16:03:54.180Z"
   },
   {
    "duration": 36,
    "start_time": "2021-12-26T16:03:54.192Z"
   },
   {
    "duration": 9,
    "start_time": "2021-12-26T16:03:54.230Z"
   },
   {
    "duration": 21,
    "start_time": "2021-12-26T16:03:54.241Z"
   },
   {
    "duration": 15,
    "start_time": "2021-12-26T16:03:54.264Z"
   },
   {
    "duration": 6,
    "start_time": "2021-12-26T16:03:54.281Z"
   },
   {
    "duration": 39,
    "start_time": "2021-12-26T16:03:54.289Z"
   },
   {
    "duration": 18,
    "start_time": "2021-12-26T16:03:54.330Z"
   },
   {
    "duration": 7,
    "start_time": "2021-12-26T16:03:54.350Z"
   },
   {
    "duration": 22,
    "start_time": "2021-12-26T16:03:54.358Z"
   },
   {
    "duration": 6,
    "start_time": "2021-12-26T16:03:54.381Z"
   },
   {
    "duration": 7,
    "start_time": "2021-12-26T16:03:54.389Z"
   },
   {
    "duration": 42,
    "start_time": "2021-12-26T16:03:54.398Z"
   },
   {
    "duration": 629,
    "start_time": "2021-12-26T16:03:54.442Z"
   },
   {
    "duration": 12,
    "start_time": "2021-12-26T16:03:55.072Z"
   },
   {
    "duration": 405,
    "start_time": "2021-12-26T16:03:55.086Z"
   },
   {
    "duration": 12,
    "start_time": "2021-12-26T16:03:55.492Z"
   },
   {
    "duration": 422,
    "start_time": "2021-12-26T16:03:55.505Z"
   },
   {
    "duration": 15,
    "start_time": "2021-12-26T16:03:55.928Z"
   },
   {
    "duration": 413,
    "start_time": "2021-12-26T16:03:55.945Z"
   },
   {
    "duration": 11,
    "start_time": "2021-12-26T16:03:56.360Z"
   },
   {
    "duration": 11,
    "start_time": "2021-12-26T16:03:56.372Z"
   },
   {
    "duration": 1093,
    "start_time": "2021-12-26T16:56:44.909Z"
   },
   {
    "duration": 393,
    "start_time": "2021-12-26T16:56:46.004Z"
   },
   {
    "duration": 19,
    "start_time": "2021-12-26T16:56:46.401Z"
   },
   {
    "duration": 10,
    "start_time": "2021-12-26T16:56:46.422Z"
   },
   {
    "duration": 16,
    "start_time": "2021-12-26T16:56:46.433Z"
   },
   {
    "duration": 16,
    "start_time": "2021-12-26T16:56:46.450Z"
   },
   {
    "duration": 8,
    "start_time": "2021-12-26T16:56:46.468Z"
   },
   {
    "duration": 8,
    "start_time": "2021-12-26T16:56:46.479Z"
   },
   {
    "duration": 16,
    "start_time": "2021-12-26T16:56:46.489Z"
   },
   {
    "duration": 6,
    "start_time": "2021-12-26T16:56:46.528Z"
   },
   {
    "duration": 6,
    "start_time": "2021-12-26T16:56:46.536Z"
   },
   {
    "duration": 14,
    "start_time": "2021-12-26T16:56:46.544Z"
   },
   {
    "duration": 18,
    "start_time": "2021-12-26T16:56:46.560Z"
   },
   {
    "duration": 12,
    "start_time": "2021-12-26T16:56:46.579Z"
   },
   {
    "duration": 19,
    "start_time": "2021-12-26T16:56:46.593Z"
   },
   {
    "duration": 15,
    "start_time": "2021-12-26T16:56:46.613Z"
   },
   {
    "duration": 72,
    "start_time": "2021-12-26T16:56:46.630Z"
   },
   {
    "duration": 48,
    "start_time": "2021-12-26T16:56:46.703Z"
   },
   {
    "duration": 11,
    "start_time": "2021-12-26T16:56:46.753Z"
   },
   {
    "duration": 7,
    "start_time": "2021-12-26T16:56:46.765Z"
   },
   {
    "duration": 70,
    "start_time": "2021-12-26T16:56:46.773Z"
   },
   {
    "duration": 23,
    "start_time": "2021-12-26T16:56:46.846Z"
   },
   {
    "duration": 4,
    "start_time": "2021-12-26T16:56:46.871Z"
   },
   {
    "duration": 5,
    "start_time": "2021-12-26T16:56:46.876Z"
   },
   {
    "duration": 71,
    "start_time": "2021-12-26T16:56:46.882Z"
   },
   {
    "duration": 21,
    "start_time": "2021-12-26T16:56:46.954Z"
   },
   {
    "duration": 3,
    "start_time": "2021-12-26T16:56:46.977Z"
   },
   {
    "duration": 9,
    "start_time": "2021-12-26T16:56:46.982Z"
   },
   {
    "duration": 8,
    "start_time": "2021-12-26T16:56:46.992Z"
   },
   {
    "duration": 32,
    "start_time": "2021-12-26T16:56:47.001Z"
   },
   {
    "duration": 5,
    "start_time": "2021-12-26T16:56:47.034Z"
   },
   {
    "duration": 3,
    "start_time": "2021-12-26T16:56:47.041Z"
   },
   {
    "duration": 5,
    "start_time": "2021-12-26T16:56:47.046Z"
   },
   {
    "duration": 6,
    "start_time": "2021-12-26T16:56:47.053Z"
   },
   {
    "duration": 11,
    "start_time": "2021-12-26T16:56:47.061Z"
   },
   {
    "duration": 7,
    "start_time": "2021-12-26T16:56:47.073Z"
   },
   {
    "duration": 15,
    "start_time": "2021-12-26T16:56:47.081Z"
   },
   {
    "duration": 40,
    "start_time": "2021-12-26T16:56:47.098Z"
   },
   {
    "duration": 4,
    "start_time": "2021-12-26T16:56:47.140Z"
   },
   {
    "duration": 13,
    "start_time": "2021-12-26T16:56:47.146Z"
   },
   {
    "duration": 9,
    "start_time": "2021-12-26T16:56:47.161Z"
   },
   {
    "duration": 16,
    "start_time": "2021-12-26T16:56:47.172Z"
   },
   {
    "duration": 37,
    "start_time": "2021-12-26T16:56:47.190Z"
   },
   {
    "duration": 20,
    "start_time": "2021-12-26T16:56:47.229Z"
   },
   {
    "duration": 5,
    "start_time": "2021-12-26T16:56:47.251Z"
   },
   {
    "duration": 9,
    "start_time": "2021-12-26T16:56:47.257Z"
   },
   {
    "duration": 12,
    "start_time": "2021-12-26T16:56:47.268Z"
   },
   {
    "duration": 607,
    "start_time": "2021-12-26T16:56:47.281Z"
   },
   {
    "duration": 13,
    "start_time": "2021-12-26T16:56:47.890Z"
   },
   {
    "duration": 437,
    "start_time": "2021-12-26T16:56:47.905Z"
   },
   {
    "duration": 12,
    "start_time": "2021-12-26T16:56:48.344Z"
   },
   {
    "duration": 417,
    "start_time": "2021-12-26T16:56:48.358Z"
   },
   {
    "duration": 13,
    "start_time": "2021-12-26T16:56:48.777Z"
   },
   {
    "duration": 419,
    "start_time": "2021-12-26T16:56:48.791Z"
   },
   {
    "duration": 20,
    "start_time": "2021-12-26T16:56:49.212Z"
   },
   {
    "duration": 12,
    "start_time": "2021-12-26T16:56:49.234Z"
   },
   {
    "duration": 1060,
    "start_time": "2021-12-26T16:58:59.035Z"
   },
   {
    "duration": 390,
    "start_time": "2021-12-26T16:59:00.097Z"
   },
   {
    "duration": 22,
    "start_time": "2021-12-26T16:59:00.489Z"
   },
   {
    "duration": 11,
    "start_time": "2021-12-26T16:59:00.512Z"
   },
   {
    "duration": 26,
    "start_time": "2021-12-26T16:59:00.525Z"
   },
   {
    "duration": 18,
    "start_time": "2021-12-26T16:59:00.553Z"
   },
   {
    "duration": 8,
    "start_time": "2021-12-26T16:59:00.573Z"
   },
   {
    "duration": 13,
    "start_time": "2021-12-26T16:59:00.583Z"
   },
   {
    "duration": 14,
    "start_time": "2021-12-26T16:59:00.598Z"
   },
   {
    "duration": 15,
    "start_time": "2021-12-26T16:59:00.614Z"
   },
   {
    "duration": 13,
    "start_time": "2021-12-26T16:59:00.631Z"
   },
   {
    "duration": 12,
    "start_time": "2021-12-26T16:59:00.645Z"
   },
   {
    "duration": 10,
    "start_time": "2021-12-26T16:59:00.658Z"
   },
   {
    "duration": 17,
    "start_time": "2021-12-26T16:59:00.669Z"
   },
   {
    "duration": 21,
    "start_time": "2021-12-26T16:59:00.688Z"
   },
   {
    "duration": 4,
    "start_time": "2021-12-26T16:59:00.710Z"
   },
   {
    "duration": 86,
    "start_time": "2021-12-26T16:59:00.715Z"
   },
   {
    "duration": 46,
    "start_time": "2021-12-26T16:59:00.802Z"
   },
   {
    "duration": 14,
    "start_time": "2021-12-26T16:59:00.850Z"
   },
   {
    "duration": 9,
    "start_time": "2021-12-26T16:59:00.865Z"
   },
   {
    "duration": 71,
    "start_time": "2021-12-26T16:59:00.876Z"
   },
   {
    "duration": 24,
    "start_time": "2021-12-26T16:59:00.949Z"
   },
   {
    "duration": 4,
    "start_time": "2021-12-26T16:59:00.975Z"
   },
   {
    "duration": 6,
    "start_time": "2021-12-26T16:59:00.980Z"
   },
   {
    "duration": 66,
    "start_time": "2021-12-26T16:59:00.988Z"
   },
   {
    "duration": 23,
    "start_time": "2021-12-26T16:59:01.055Z"
   },
   {
    "duration": 4,
    "start_time": "2021-12-26T16:59:01.082Z"
   },
   {
    "duration": 12,
    "start_time": "2021-12-26T16:59:01.088Z"
   },
   {
    "duration": 27,
    "start_time": "2021-12-26T16:59:01.102Z"
   },
   {
    "duration": 20,
    "start_time": "2021-12-26T16:59:01.131Z"
   },
   {
    "duration": 8,
    "start_time": "2021-12-26T16:59:01.152Z"
   },
   {
    "duration": 8,
    "start_time": "2021-12-26T16:59:01.162Z"
   },
   {
    "duration": 9,
    "start_time": "2021-12-26T16:59:01.172Z"
   },
   {
    "duration": 10,
    "start_time": "2021-12-26T16:59:01.182Z"
   },
   {
    "duration": 16,
    "start_time": "2021-12-26T16:59:01.193Z"
   },
   {
    "duration": 6,
    "start_time": "2021-12-26T16:59:01.211Z"
   },
   {
    "duration": 20,
    "start_time": "2021-12-26T16:59:01.218Z"
   },
   {
    "duration": 11,
    "start_time": "2021-12-26T16:59:01.240Z"
   },
   {
    "duration": 6,
    "start_time": "2021-12-26T16:59:01.253Z"
   },
   {
    "duration": 13,
    "start_time": "2021-12-26T16:59:01.261Z"
   },
   {
    "duration": 6,
    "start_time": "2021-12-26T16:59:01.276Z"
   },
   {
    "duration": 45,
    "start_time": "2021-12-26T16:59:01.283Z"
   },
   {
    "duration": 5,
    "start_time": "2021-12-26T16:59:01.330Z"
   },
   {
    "duration": 26,
    "start_time": "2021-12-26T16:59:01.336Z"
   },
   {
    "duration": 4,
    "start_time": "2021-12-26T16:59:01.363Z"
   },
   {
    "duration": 9,
    "start_time": "2021-12-26T16:59:01.368Z"
   },
   {
    "duration": 12,
    "start_time": "2021-12-26T16:59:01.379Z"
   },
   {
    "duration": 635,
    "start_time": "2021-12-26T16:59:01.392Z"
   },
   {
    "duration": 12,
    "start_time": "2021-12-26T16:59:02.029Z"
   },
   {
    "duration": 419,
    "start_time": "2021-12-26T16:59:02.043Z"
   },
   {
    "duration": 12,
    "start_time": "2021-12-26T16:59:02.464Z"
   },
   {
    "duration": 416,
    "start_time": "2021-12-26T16:59:02.478Z"
   },
   {
    "duration": 13,
    "start_time": "2021-12-26T16:59:02.896Z"
   },
   {
    "duration": 418,
    "start_time": "2021-12-26T16:59:02.911Z"
   },
   {
    "duration": 11,
    "start_time": "2021-12-26T16:59:03.331Z"
   },
   {
    "duration": 12,
    "start_time": "2021-12-26T16:59:03.344Z"
   },
   {
    "duration": 1041,
    "start_time": "2021-12-26T16:59:26.059Z"
   },
   {
    "duration": 380,
    "start_time": "2021-12-26T16:59:27.102Z"
   },
   {
    "duration": 19,
    "start_time": "2021-12-26T16:59:27.484Z"
   },
   {
    "duration": 11,
    "start_time": "2021-12-26T16:59:27.505Z"
   },
   {
    "duration": 14,
    "start_time": "2021-12-26T16:59:27.518Z"
   },
   {
    "duration": 15,
    "start_time": "2021-12-26T16:59:27.534Z"
   },
   {
    "duration": 8,
    "start_time": "2021-12-26T16:59:27.550Z"
   },
   {
    "duration": 9,
    "start_time": "2021-12-26T16:59:27.560Z"
   },
   {
    "duration": 13,
    "start_time": "2021-12-26T16:59:27.570Z"
   },
   {
    "duration": 6,
    "start_time": "2021-12-26T16:59:27.584Z"
   },
   {
    "duration": 6,
    "start_time": "2021-12-26T16:59:27.592Z"
   },
   {
    "duration": 29,
    "start_time": "2021-12-26T16:59:27.599Z"
   },
   {
    "duration": 5,
    "start_time": "2021-12-26T16:59:27.630Z"
   },
   {
    "duration": 15,
    "start_time": "2021-12-26T16:59:27.636Z"
   },
   {
    "duration": 17,
    "start_time": "2021-12-26T16:59:27.652Z"
   },
   {
    "duration": 3,
    "start_time": "2021-12-26T16:59:27.671Z"
   },
   {
    "duration": 93,
    "start_time": "2021-12-26T16:59:27.676Z"
   },
   {
    "duration": 37,
    "start_time": "2021-12-26T16:59:27.771Z"
   },
   {
    "duration": 24,
    "start_time": "2021-12-26T16:59:27.810Z"
   },
   {
    "duration": 7,
    "start_time": "2021-12-26T16:59:27.835Z"
   },
   {
    "duration": 57,
    "start_time": "2021-12-26T16:59:27.844Z"
   },
   {
    "duration": 36,
    "start_time": "2021-12-26T16:59:27.902Z"
   },
   {
    "duration": 4,
    "start_time": "2021-12-26T16:59:27.942Z"
   },
   {
    "duration": 5,
    "start_time": "2021-12-26T16:59:27.948Z"
   },
   {
    "duration": 49,
    "start_time": "2021-12-26T16:59:27.954Z"
   },
   {
    "duration": 34,
    "start_time": "2021-12-26T16:59:28.005Z"
   },
   {
    "duration": 3,
    "start_time": "2021-12-26T16:59:28.041Z"
   },
   {
    "duration": 11,
    "start_time": "2021-12-26T16:59:28.046Z"
   },
   {
    "duration": 8,
    "start_time": "2021-12-26T16:59:28.059Z"
   },
   {
    "duration": 11,
    "start_time": "2021-12-26T16:59:28.068Z"
   },
   {
    "duration": 2,
    "start_time": "2021-12-26T16:59:28.080Z"
   },
   {
    "duration": 4,
    "start_time": "2021-12-26T16:59:28.084Z"
   },
   {
    "duration": 5,
    "start_time": "2021-12-26T16:59:28.089Z"
   },
   {
    "duration": 6,
    "start_time": "2021-12-26T16:59:28.127Z"
   },
   {
    "duration": 13,
    "start_time": "2021-12-26T16:59:28.135Z"
   },
   {
    "duration": 8,
    "start_time": "2021-12-26T16:59:28.149Z"
   },
   {
    "duration": 20,
    "start_time": "2021-12-26T16:59:28.158Z"
   },
   {
    "duration": 12,
    "start_time": "2021-12-26T16:59:28.180Z"
   },
   {
    "duration": 18,
    "start_time": "2021-12-26T16:59:28.193Z"
   },
   {
    "duration": 22,
    "start_time": "2021-12-26T16:59:28.213Z"
   },
   {
    "duration": 7,
    "start_time": "2021-12-26T16:59:28.237Z"
   },
   {
    "duration": 29,
    "start_time": "2021-12-26T16:59:28.245Z"
   },
   {
    "duration": 9,
    "start_time": "2021-12-26T16:59:28.276Z"
   },
   {
    "duration": 19,
    "start_time": "2021-12-26T16:59:28.287Z"
   },
   {
    "duration": 16,
    "start_time": "2021-12-26T16:59:28.308Z"
   },
   {
    "duration": 14,
    "start_time": "2021-12-26T16:59:28.326Z"
   },
   {
    "duration": 14,
    "start_time": "2021-12-26T16:59:28.341Z"
   },
   {
    "duration": 582,
    "start_time": "2021-12-26T16:59:28.356Z"
   },
   {
    "duration": 16,
    "start_time": "2021-12-26T16:59:28.940Z"
   },
   {
    "duration": 521,
    "start_time": "2021-12-26T16:59:28.958Z"
   },
   {
    "duration": 12,
    "start_time": "2021-12-26T16:59:29.480Z"
   },
   {
    "duration": 507,
    "start_time": "2021-12-26T16:59:29.494Z"
   },
   {
    "duration": 25,
    "start_time": "2021-12-26T16:59:30.003Z"
   },
   {
    "duration": 405,
    "start_time": "2021-12-26T16:59:30.030Z"
   },
   {
    "duration": 10,
    "start_time": "2021-12-26T16:59:30.437Z"
   },
   {
    "duration": 18,
    "start_time": "2021-12-26T16:59:30.449Z"
   },
   {
    "duration": 1018,
    "start_time": "2021-12-26T18:22:10.679Z"
   },
   {
    "duration": 378,
    "start_time": "2021-12-26T18:22:11.699Z"
   },
   {
    "duration": 19,
    "start_time": "2021-12-26T18:22:12.079Z"
   },
   {
    "duration": 10,
    "start_time": "2021-12-26T18:22:12.100Z"
   },
   {
    "duration": 17,
    "start_time": "2021-12-26T18:22:12.112Z"
   },
   {
    "duration": 17,
    "start_time": "2021-12-26T18:22:12.130Z"
   },
   {
    "duration": 8,
    "start_time": "2021-12-26T18:22:12.149Z"
   },
   {
    "duration": 11,
    "start_time": "2021-12-26T18:22:12.160Z"
   },
   {
    "duration": 12,
    "start_time": "2021-12-26T18:22:12.173Z"
   },
   {
    "duration": 9,
    "start_time": "2021-12-26T18:22:12.187Z"
   },
   {
    "duration": 30,
    "start_time": "2021-12-26T18:22:12.198Z"
   },
   {
    "duration": 9,
    "start_time": "2021-12-26T18:22:12.230Z"
   },
   {
    "duration": 7,
    "start_time": "2021-12-26T18:22:12.240Z"
   },
   {
    "duration": 20,
    "start_time": "2021-12-26T18:22:12.249Z"
   },
   {
    "duration": 20,
    "start_time": "2021-12-26T18:22:12.270Z"
   },
   {
    "duration": 4,
    "start_time": "2021-12-26T18:22:12.291Z"
   },
   {
    "duration": 85,
    "start_time": "2021-12-26T18:22:12.296Z"
   },
   {
    "duration": 44,
    "start_time": "2021-12-26T18:22:12.383Z"
   },
   {
    "duration": 11,
    "start_time": "2021-12-26T18:22:12.429Z"
   },
   {
    "duration": 7,
    "start_time": "2021-12-26T18:22:12.441Z"
   },
   {
    "duration": 56,
    "start_time": "2021-12-26T18:22:12.450Z"
   },
   {
    "duration": 41,
    "start_time": "2021-12-26T18:22:12.508Z"
   },
   {
    "duration": 4,
    "start_time": "2021-12-26T18:22:12.552Z"
   },
   {
    "duration": 5,
    "start_time": "2021-12-26T18:22:12.558Z"
   },
   {
    "duration": 63,
    "start_time": "2021-12-26T18:22:12.564Z"
   },
   {
    "duration": 22,
    "start_time": "2021-12-26T18:22:12.629Z"
   },
   {
    "duration": 4,
    "start_time": "2021-12-26T18:22:12.652Z"
   },
   {
    "duration": 10,
    "start_time": "2021-12-26T18:22:12.657Z"
   },
   {
    "duration": 8,
    "start_time": "2021-12-26T18:22:12.668Z"
   },
   {
    "duration": 11,
    "start_time": "2021-12-26T18:22:12.677Z"
   },
   {
    "duration": 2,
    "start_time": "2021-12-26T18:22:12.689Z"
   },
   {
    "duration": 35,
    "start_time": "2021-12-26T18:22:12.692Z"
   },
   {
    "duration": 3,
    "start_time": "2021-12-26T18:22:12.729Z"
   },
   {
    "duration": 9,
    "start_time": "2021-12-26T18:22:12.734Z"
   },
   {
    "duration": 12,
    "start_time": "2021-12-26T18:22:12.744Z"
   },
   {
    "duration": 7,
    "start_time": "2021-12-26T18:22:12.757Z"
   },
   {
    "duration": 16,
    "start_time": "2021-12-26T18:22:12.765Z"
   },
   {
    "duration": 12,
    "start_time": "2021-12-26T18:22:12.783Z"
   },
   {
    "duration": 7,
    "start_time": "2021-12-26T18:22:12.827Z"
   },
   {
    "duration": 14,
    "start_time": "2021-12-26T18:22:12.835Z"
   },
   {
    "duration": 6,
    "start_time": "2021-12-26T18:22:12.851Z"
   },
   {
    "duration": 16,
    "start_time": "2021-12-26T18:22:12.858Z"
   },
   {
    "duration": 5,
    "start_time": "2021-12-26T18:22:12.876Z"
   },
   {
    "duration": 20,
    "start_time": "2021-12-26T18:22:12.882Z"
   },
   {
    "duration": 4,
    "start_time": "2021-12-26T18:22:12.927Z"
   },
   {
    "duration": 6,
    "start_time": "2021-12-26T18:22:12.932Z"
   },
   {
    "duration": 12,
    "start_time": "2021-12-26T18:22:12.940Z"
   },
   {
    "duration": 600,
    "start_time": "2021-12-26T18:22:12.953Z"
   },
   {
    "duration": 12,
    "start_time": "2021-12-26T18:22:13.554Z"
   },
   {
    "duration": 417,
    "start_time": "2021-12-26T18:22:13.568Z"
   },
   {
    "duration": 12,
    "start_time": "2021-12-26T18:22:13.987Z"
   },
   {
    "duration": 412,
    "start_time": "2021-12-26T18:22:14.001Z"
   },
   {
    "duration": 20,
    "start_time": "2021-12-26T18:22:14.415Z"
   },
   {
    "duration": 404,
    "start_time": "2021-12-26T18:22:14.436Z"
   },
   {
    "duration": 10,
    "start_time": "2021-12-26T18:22:14.842Z"
   },
   {
    "duration": 14,
    "start_time": "2021-12-26T18:22:14.854Z"
   },
   {
    "duration": 1103,
    "start_time": "2021-12-26T18:30:30.799Z"
   },
   {
    "duration": 374,
    "start_time": "2021-12-26T18:30:31.904Z"
   },
   {
    "duration": 19,
    "start_time": "2021-12-26T18:30:32.280Z"
   },
   {
    "duration": 9,
    "start_time": "2021-12-26T18:30:32.301Z"
   },
   {
    "duration": 14,
    "start_time": "2021-12-26T18:30:32.312Z"
   },
   {
    "duration": 16,
    "start_time": "2021-12-26T18:30:32.328Z"
   },
   {
    "duration": 7,
    "start_time": "2021-12-26T18:30:32.346Z"
   },
   {
    "duration": 10,
    "start_time": "2021-12-26T18:30:32.355Z"
   },
   {
    "duration": 14,
    "start_time": "2021-12-26T18:30:32.367Z"
   },
   {
    "duration": 7,
    "start_time": "2021-12-26T18:30:32.382Z"
   },
   {
    "duration": 6,
    "start_time": "2021-12-26T18:30:32.390Z"
   },
   {
    "duration": 7,
    "start_time": "2021-12-26T18:30:32.427Z"
   },
   {
    "duration": 8,
    "start_time": "2021-12-26T18:30:32.435Z"
   },
   {
    "duration": 12,
    "start_time": "2021-12-26T18:30:32.445Z"
   },
   {
    "duration": 16,
    "start_time": "2021-12-26T18:30:32.459Z"
   },
   {
    "duration": 4,
    "start_time": "2021-12-26T18:30:32.477Z"
   },
   {
    "duration": 102,
    "start_time": "2021-12-26T18:30:32.483Z"
   },
   {
    "duration": 42,
    "start_time": "2021-12-26T18:30:32.587Z"
   },
   {
    "duration": 13,
    "start_time": "2021-12-26T18:30:32.630Z"
   },
   {
    "duration": 9,
    "start_time": "2021-12-26T18:30:32.644Z"
   },
   {
    "duration": 73,
    "start_time": "2021-12-26T18:30:32.654Z"
   },
   {
    "duration": 25,
    "start_time": "2021-12-26T18:30:32.729Z"
   },
   {
    "duration": 4,
    "start_time": "2021-12-26T18:30:32.758Z"
   },
   {
    "duration": 5,
    "start_time": "2021-12-26T18:30:32.765Z"
   },
   {
    "duration": 75,
    "start_time": "2021-12-26T18:30:32.771Z"
   },
   {
    "duration": 22,
    "start_time": "2021-12-26T18:30:32.848Z"
   },
   {
    "duration": 4,
    "start_time": "2021-12-26T18:30:32.872Z"
   },
   {
    "duration": 8,
    "start_time": "2021-12-26T18:30:32.878Z"
   },
   {
    "duration": 9,
    "start_time": "2021-12-26T18:30:32.888Z"
   },
   {
    "duration": 37,
    "start_time": "2021-12-26T18:30:32.898Z"
   },
   {
    "duration": 2,
    "start_time": "2021-12-26T18:30:32.937Z"
   },
   {
    "duration": 4,
    "start_time": "2021-12-26T18:30:32.941Z"
   },
   {
    "duration": 4,
    "start_time": "2021-12-26T18:30:32.947Z"
   },
   {
    "duration": 7,
    "start_time": "2021-12-26T18:30:32.953Z"
   },
   {
    "duration": 12,
    "start_time": "2021-12-26T18:30:32.961Z"
   },
   {
    "duration": 7,
    "start_time": "2021-12-26T18:30:32.975Z"
   },
   {
    "duration": 58,
    "start_time": "2021-12-26T18:30:32.984Z"
   },
   {
    "duration": 18,
    "start_time": "2021-12-26T18:30:33.044Z"
   },
   {
    "duration": 392,
    "start_time": "2021-12-26T18:30:33.063Z"
   },
   {
    "duration": 109,
    "start_time": "2021-12-26T18:30:33.348Z"
   },
   {
    "duration": 102,
    "start_time": "2021-12-26T18:30:33.356Z"
   },
   {
    "duration": 101,
    "start_time": "2021-12-26T18:30:33.358Z"
   },
   {
    "duration": 99,
    "start_time": "2021-12-26T18:30:33.361Z"
   },
   {
    "duration": 93,
    "start_time": "2021-12-26T18:30:33.368Z"
   },
   {
    "duration": 91,
    "start_time": "2021-12-26T18:30:33.371Z"
   },
   {
    "duration": 88,
    "start_time": "2021-12-26T18:30:33.374Z"
   },
   {
    "duration": 86,
    "start_time": "2021-12-26T18:30:33.377Z"
   },
   {
    "duration": 81,
    "start_time": "2021-12-26T18:30:33.383Z"
   },
   {
    "duration": 79,
    "start_time": "2021-12-26T18:30:33.386Z"
   },
   {
    "duration": 77,
    "start_time": "2021-12-26T18:30:33.388Z"
   },
   {
    "duration": 75,
    "start_time": "2021-12-26T18:30:33.391Z"
   },
   {
    "duration": 72,
    "start_time": "2021-12-26T18:30:33.395Z"
   },
   {
    "duration": 66,
    "start_time": "2021-12-26T18:30:33.403Z"
   },
   {
    "duration": 65,
    "start_time": "2021-12-26T18:30:33.405Z"
   },
   {
    "duration": 62,
    "start_time": "2021-12-26T18:30:33.408Z"
   },
   {
    "duration": 61,
    "start_time": "2021-12-26T18:30:33.410Z"
   },
   {
    "duration": 375,
    "start_time": "2021-12-26T18:30:53.800Z"
   },
   {
    "duration": 7,
    "start_time": "2021-12-26T18:31:16.455Z"
   },
   {
    "duration": 1033,
    "start_time": "2021-12-26T18:31:25.762Z"
   },
   {
    "duration": 385,
    "start_time": "2021-12-26T18:31:26.796Z"
   },
   {
    "duration": 20,
    "start_time": "2021-12-26T18:31:27.183Z"
   },
   {
    "duration": 10,
    "start_time": "2021-12-26T18:31:27.205Z"
   },
   {
    "duration": 14,
    "start_time": "2021-12-26T18:31:27.217Z"
   },
   {
    "duration": 16,
    "start_time": "2021-12-26T18:31:27.233Z"
   },
   {
    "duration": 8,
    "start_time": "2021-12-26T18:31:27.251Z"
   },
   {
    "duration": 9,
    "start_time": "2021-12-26T18:31:27.262Z"
   },
   {
    "duration": 14,
    "start_time": "2021-12-26T18:31:27.273Z"
   },
   {
    "duration": 39,
    "start_time": "2021-12-26T18:31:27.288Z"
   },
   {
    "duration": 6,
    "start_time": "2021-12-26T18:31:27.329Z"
   },
   {
    "duration": 8,
    "start_time": "2021-12-26T18:31:27.336Z"
   },
   {
    "duration": 6,
    "start_time": "2021-12-26T18:31:27.345Z"
   },
   {
    "duration": 10,
    "start_time": "2021-12-26T18:31:27.353Z"
   },
   {
    "duration": 16,
    "start_time": "2021-12-26T18:31:27.365Z"
   },
   {
    "duration": 3,
    "start_time": "2021-12-26T18:31:27.382Z"
   },
   {
    "duration": 97,
    "start_time": "2021-12-26T18:31:27.387Z"
   },
   {
    "duration": 42,
    "start_time": "2021-12-26T18:31:27.485Z"
   },
   {
    "duration": 11,
    "start_time": "2021-12-26T18:31:27.529Z"
   },
   {
    "duration": 6,
    "start_time": "2021-12-26T18:31:27.541Z"
   },
   {
    "duration": 60,
    "start_time": "2021-12-26T18:31:27.549Z"
   },
   {
    "duration": 32,
    "start_time": "2021-12-26T18:31:27.611Z"
   },
   {
    "duration": 4,
    "start_time": "2021-12-26T18:31:27.647Z"
   },
   {
    "duration": 8,
    "start_time": "2021-12-26T18:31:27.653Z"
   },
   {
    "duration": 51,
    "start_time": "2021-12-26T18:31:27.662Z"
   },
   {
    "duration": 32,
    "start_time": "2021-12-26T18:31:27.715Z"
   },
   {
    "duration": 4,
    "start_time": "2021-12-26T18:31:27.749Z"
   },
   {
    "duration": 11,
    "start_time": "2021-12-26T18:31:27.754Z"
   },
   {
    "duration": 8,
    "start_time": "2021-12-26T18:31:27.766Z"
   },
   {
    "duration": 10,
    "start_time": "2021-12-26T18:31:27.776Z"
   },
   {
    "duration": 2,
    "start_time": "2021-12-26T18:31:27.788Z"
   },
   {
    "duration": 9,
    "start_time": "2021-12-26T18:31:27.792Z"
   },
   {
    "duration": 4,
    "start_time": "2021-12-26T18:31:27.828Z"
   },
   {
    "duration": 10,
    "start_time": "2021-12-26T18:31:27.833Z"
   },
   {
    "duration": 12,
    "start_time": "2021-12-26T18:31:27.844Z"
   },
   {
    "duration": 7,
    "start_time": "2021-12-26T18:31:27.858Z"
   },
   {
    "duration": 16,
    "start_time": "2021-12-26T18:31:27.867Z"
   },
   {
    "duration": 11,
    "start_time": "2021-12-26T18:31:27.884Z"
   },
   {
    "duration": 37,
    "start_time": "2021-12-26T18:31:27.896Z"
   },
   {
    "duration": 13,
    "start_time": "2021-12-26T18:31:27.934Z"
   },
   {
    "duration": 7,
    "start_time": "2021-12-26T18:31:27.948Z"
   },
   {
    "duration": 16,
    "start_time": "2021-12-26T18:31:27.956Z"
   },
   {
    "duration": 5,
    "start_time": "2021-12-26T18:31:27.973Z"
   },
   {
    "duration": 19,
    "start_time": "2021-12-26T18:31:27.979Z"
   },
   {
    "duration": 30,
    "start_time": "2021-12-26T18:31:27.999Z"
   },
   {
    "duration": 7,
    "start_time": "2021-12-26T18:31:28.030Z"
   },
   {
    "duration": 13,
    "start_time": "2021-12-26T18:31:28.038Z"
   },
   {
    "duration": 587,
    "start_time": "2021-12-26T18:31:28.052Z"
   },
   {
    "duration": 12,
    "start_time": "2021-12-26T18:31:28.640Z"
   },
   {
    "duration": 415,
    "start_time": "2021-12-26T18:31:28.654Z"
   },
   {
    "duration": 12,
    "start_time": "2021-12-26T18:31:29.070Z"
   },
   {
    "duration": 477,
    "start_time": "2021-12-26T18:31:29.084Z"
   },
   {
    "duration": 12,
    "start_time": "2021-12-26T18:31:29.562Z"
   },
   {
    "duration": 403,
    "start_time": "2021-12-26T18:31:29.576Z"
   },
   {
    "duration": 9,
    "start_time": "2021-12-26T18:31:29.981Z"
   },
   {
    "duration": 9,
    "start_time": "2021-12-26T18:31:29.991Z"
   },
   {
    "duration": 1028,
    "start_time": "2021-12-26T18:32:21.467Z"
   },
   {
    "duration": 389,
    "start_time": "2021-12-26T18:32:22.497Z"
   },
   {
    "duration": 20,
    "start_time": "2021-12-26T18:32:22.891Z"
   },
   {
    "duration": 11,
    "start_time": "2021-12-26T18:32:22.913Z"
   },
   {
    "duration": 16,
    "start_time": "2021-12-26T18:32:22.925Z"
   },
   {
    "duration": 17,
    "start_time": "2021-12-26T18:32:22.942Z"
   },
   {
    "duration": 8,
    "start_time": "2021-12-26T18:32:22.961Z"
   },
   {
    "duration": 11,
    "start_time": "2021-12-26T18:32:22.970Z"
   },
   {
    "duration": 13,
    "start_time": "2021-12-26T18:32:22.982Z"
   },
   {
    "duration": 32,
    "start_time": "2021-12-26T18:32:22.996Z"
   },
   {
    "duration": 13,
    "start_time": "2021-12-26T18:32:23.030Z"
   },
   {
    "duration": 8,
    "start_time": "2021-12-26T18:32:23.044Z"
   },
   {
    "duration": 7,
    "start_time": "2021-12-26T18:32:23.054Z"
   },
   {
    "duration": 12,
    "start_time": "2021-12-26T18:32:23.062Z"
   },
   {
    "duration": 17,
    "start_time": "2021-12-26T18:32:23.075Z"
   },
   {
    "duration": 4,
    "start_time": "2021-12-26T18:32:23.093Z"
   },
   {
    "duration": 89,
    "start_time": "2021-12-26T18:32:23.098Z"
   },
   {
    "duration": 43,
    "start_time": "2021-12-26T18:32:23.189Z"
   },
   {
    "duration": 11,
    "start_time": "2021-12-26T18:32:23.234Z"
   },
   {
    "duration": 6,
    "start_time": "2021-12-26T18:32:23.246Z"
   },
   {
    "duration": 56,
    "start_time": "2021-12-26T18:32:23.254Z"
   },
   {
    "duration": 38,
    "start_time": "2021-12-26T18:32:23.313Z"
   },
   {
    "duration": 4,
    "start_time": "2021-12-26T18:32:23.353Z"
   },
   {
    "duration": 6,
    "start_time": "2021-12-26T18:32:23.358Z"
   },
   {
    "duration": 64,
    "start_time": "2021-12-26T18:32:23.365Z"
   },
   {
    "duration": 22,
    "start_time": "2021-12-26T18:32:23.431Z"
   },
   {
    "duration": 4,
    "start_time": "2021-12-26T18:32:23.455Z"
   },
   {
    "duration": 10,
    "start_time": "2021-12-26T18:32:23.460Z"
   },
   {
    "duration": 8,
    "start_time": "2021-12-26T18:32:23.471Z"
   },
   {
    "duration": 11,
    "start_time": "2021-12-26T18:32:23.480Z"
   },
   {
    "duration": 2,
    "start_time": "2021-12-26T18:32:23.492Z"
   },
   {
    "duration": 32,
    "start_time": "2021-12-26T18:32:23.495Z"
   },
   {
    "duration": 3,
    "start_time": "2021-12-26T18:32:23.529Z"
   },
   {
    "duration": 8,
    "start_time": "2021-12-26T18:32:23.533Z"
   },
   {
    "duration": 11,
    "start_time": "2021-12-26T18:32:23.543Z"
   },
   {
    "duration": 6,
    "start_time": "2021-12-26T18:32:23.556Z"
   },
   {
    "duration": 16,
    "start_time": "2021-12-26T18:32:23.564Z"
   },
   {
    "duration": 12,
    "start_time": "2021-12-26T18:32:23.581Z"
   },
   {
    "duration": 36,
    "start_time": "2021-12-26T18:32:23.595Z"
   },
   {
    "duration": 13,
    "start_time": "2021-12-26T18:32:23.633Z"
   },
   {
    "duration": 6,
    "start_time": "2021-12-26T18:32:23.648Z"
   },
   {
    "duration": 18,
    "start_time": "2021-12-26T18:32:23.655Z"
   },
   {
    "duration": 4,
    "start_time": "2021-12-26T18:32:23.675Z"
   },
   {
    "duration": 20,
    "start_time": "2021-12-26T18:32:23.681Z"
   },
   {
    "duration": 4,
    "start_time": "2021-12-26T18:32:23.727Z"
   },
   {
    "duration": 13,
    "start_time": "2021-12-26T18:32:23.732Z"
   },
   {
    "duration": 11,
    "start_time": "2021-12-26T18:32:23.747Z"
   },
   {
    "duration": 602,
    "start_time": "2021-12-26T18:32:23.760Z"
   },
   {
    "duration": 14,
    "start_time": "2021-12-26T18:32:24.364Z"
   },
   {
    "duration": 425,
    "start_time": "2021-12-26T18:32:24.380Z"
   },
   {
    "duration": 25,
    "start_time": "2021-12-26T18:32:24.807Z"
   },
   {
    "duration": 404,
    "start_time": "2021-12-26T18:32:24.835Z"
   },
   {
    "duration": 13,
    "start_time": "2021-12-26T18:32:25.241Z"
   },
   {
    "duration": 420,
    "start_time": "2021-12-26T18:32:25.256Z"
   },
   {
    "duration": 11,
    "start_time": "2021-12-26T18:32:25.678Z"
   },
   {
    "duration": 10,
    "start_time": "2021-12-26T18:32:25.690Z"
   },
   {
    "duration": 1097,
    "start_time": "2021-12-26T18:34:51.603Z"
   },
   {
    "duration": 386,
    "start_time": "2021-12-26T18:34:52.702Z"
   },
   {
    "duration": 19,
    "start_time": "2021-12-26T18:34:53.090Z"
   },
   {
    "duration": 10,
    "start_time": "2021-12-26T18:34:53.111Z"
   },
   {
    "duration": 17,
    "start_time": "2021-12-26T18:34:53.122Z"
   },
   {
    "duration": 15,
    "start_time": "2021-12-26T18:34:53.141Z"
   },
   {
    "duration": 9,
    "start_time": "2021-12-26T18:34:53.157Z"
   },
   {
    "duration": 9,
    "start_time": "2021-12-26T18:34:53.168Z"
   },
   {
    "duration": 13,
    "start_time": "2021-12-26T18:34:53.180Z"
   },
   {
    "duration": 6,
    "start_time": "2021-12-26T18:34:53.195Z"
   },
   {
    "duration": 29,
    "start_time": "2021-12-26T18:34:53.202Z"
   },
   {
    "duration": 9,
    "start_time": "2021-12-26T18:34:53.232Z"
   },
   {
    "duration": 6,
    "start_time": "2021-12-26T18:34:53.242Z"
   },
   {
    "duration": 12,
    "start_time": "2021-12-26T18:34:53.250Z"
   },
   {
    "duration": 17,
    "start_time": "2021-12-26T18:34:53.264Z"
   },
   {
    "duration": 4,
    "start_time": "2021-12-26T18:34:53.282Z"
   },
   {
    "duration": 95,
    "start_time": "2021-12-26T18:34:53.288Z"
   },
   {
    "duration": 43,
    "start_time": "2021-12-26T18:34:53.384Z"
   },
   {
    "duration": 11,
    "start_time": "2021-12-26T18:34:53.429Z"
   },
   {
    "duration": 6,
    "start_time": "2021-12-26T18:34:53.441Z"
   },
   {
    "duration": 57,
    "start_time": "2021-12-26T18:34:53.449Z"
   },
   {
    "duration": 36,
    "start_time": "2021-12-26T18:34:53.508Z"
   },
   {
    "duration": 4,
    "start_time": "2021-12-26T18:34:53.546Z"
   },
   {
    "duration": 8,
    "start_time": "2021-12-26T18:34:53.551Z"
   },
   {
    "duration": 51,
    "start_time": "2021-12-26T18:34:53.560Z"
   },
   {
    "duration": 37,
    "start_time": "2021-12-26T18:34:53.613Z"
   },
   {
    "duration": 4,
    "start_time": "2021-12-26T18:34:53.654Z"
   },
   {
    "duration": 13,
    "start_time": "2021-12-26T18:34:53.659Z"
   },
   {
    "duration": 7,
    "start_time": "2021-12-26T18:34:53.673Z"
   },
   {
    "duration": 10,
    "start_time": "2021-12-26T18:34:53.682Z"
   },
   {
    "duration": 3,
    "start_time": "2021-12-26T18:34:53.694Z"
   },
   {
    "duration": 29,
    "start_time": "2021-12-26T18:34:53.698Z"
   },
   {
    "duration": 4,
    "start_time": "2021-12-26T18:34:53.728Z"
   },
   {
    "duration": 12,
    "start_time": "2021-12-26T18:34:53.733Z"
   },
   {
    "duration": 17,
    "start_time": "2021-12-26T18:34:53.747Z"
   },
   {
    "duration": 7,
    "start_time": "2021-12-26T18:34:53.766Z"
   },
   {
    "duration": 17,
    "start_time": "2021-12-26T18:34:53.774Z"
   },
   {
    "duration": 38,
    "start_time": "2021-12-26T18:34:53.793Z"
   },
   {
    "duration": 14,
    "start_time": "2021-12-26T18:34:53.833Z"
   },
   {
    "duration": 18,
    "start_time": "2021-12-26T18:34:53.848Z"
   },
   {
    "duration": 11,
    "start_time": "2021-12-26T18:34:53.868Z"
   },
   {
    "duration": 47,
    "start_time": "2021-12-26T18:34:53.881Z"
   },
   {
    "duration": 5,
    "start_time": "2021-12-26T18:34:53.930Z"
   },
   {
    "duration": 20,
    "start_time": "2021-12-26T18:34:53.937Z"
   },
   {
    "duration": 3,
    "start_time": "2021-12-26T18:34:53.958Z"
   },
   {
    "duration": 7,
    "start_time": "2021-12-26T18:34:53.963Z"
   },
   {
    "duration": 12,
    "start_time": "2021-12-26T18:34:53.971Z"
   },
   {
    "duration": 620,
    "start_time": "2021-12-26T18:34:53.985Z"
   },
   {
    "duration": 22,
    "start_time": "2021-12-26T18:34:54.606Z"
   },
   {
    "duration": 400,
    "start_time": "2021-12-26T18:34:54.629Z"
   },
   {
    "duration": 13,
    "start_time": "2021-12-26T18:34:55.031Z"
   },
   {
    "duration": 393,
    "start_time": "2021-12-26T18:34:55.046Z"
   },
   {
    "duration": 12,
    "start_time": "2021-12-26T18:34:55.441Z"
   },
   {
    "duration": 406,
    "start_time": "2021-12-26T18:34:55.455Z"
   },
   {
    "duration": 10,
    "start_time": "2021-12-26T18:34:55.863Z"
   },
   {
    "duration": 39,
    "start_time": "2021-12-26T18:34:55.875Z"
   },
   {
    "duration": 1071,
    "start_time": "2021-12-26T18:37:58.827Z"
   },
   {
    "duration": 388,
    "start_time": "2021-12-26T18:37:59.899Z"
   },
   {
    "duration": 19,
    "start_time": "2021-12-26T18:38:00.289Z"
   },
   {
    "duration": 10,
    "start_time": "2021-12-26T18:38:00.310Z"
   },
   {
    "duration": 19,
    "start_time": "2021-12-26T18:38:00.321Z"
   },
   {
    "duration": 15,
    "start_time": "2021-12-26T18:38:00.341Z"
   },
   {
    "duration": 14,
    "start_time": "2021-12-26T18:38:00.358Z"
   },
   {
    "duration": 18,
    "start_time": "2021-12-26T18:38:00.375Z"
   },
   {
    "duration": 15,
    "start_time": "2021-12-26T18:38:00.395Z"
   },
   {
    "duration": 9,
    "start_time": "2021-12-26T18:38:00.412Z"
   },
   {
    "duration": 11,
    "start_time": "2021-12-26T18:38:00.427Z"
   },
   {
    "duration": 28,
    "start_time": "2021-12-26T18:38:00.440Z"
   },
   {
    "duration": 11,
    "start_time": "2021-12-26T18:38:00.469Z"
   },
   {
    "duration": 31,
    "start_time": "2021-12-26T18:38:00.482Z"
   },
   {
    "duration": 45,
    "start_time": "2021-12-26T18:38:00.514Z"
   },
   {
    "duration": 12,
    "start_time": "2021-12-26T18:38:00.561Z"
   },
   {
    "duration": 92,
    "start_time": "2021-12-26T18:38:00.575Z"
   },
   {
    "duration": 39,
    "start_time": "2021-12-26T18:38:00.669Z"
   },
   {
    "duration": 17,
    "start_time": "2021-12-26T18:38:00.710Z"
   },
   {
    "duration": 10,
    "start_time": "2021-12-26T18:38:00.729Z"
   },
   {
    "duration": 58,
    "start_time": "2021-12-26T18:38:00.740Z"
   },
   {
    "duration": 32,
    "start_time": "2021-12-26T18:38:00.800Z"
   },
   {
    "duration": 4,
    "start_time": "2021-12-26T18:38:00.836Z"
   },
   {
    "duration": 6,
    "start_time": "2021-12-26T18:38:00.842Z"
   },
   {
    "duration": 52,
    "start_time": "2021-12-26T18:38:00.849Z"
   },
   {
    "duration": 41,
    "start_time": "2021-12-26T18:38:00.903Z"
   },
   {
    "duration": 4,
    "start_time": "2021-12-26T18:38:00.945Z"
   },
   {
    "duration": 15,
    "start_time": "2021-12-26T18:38:00.950Z"
   },
   {
    "duration": 9,
    "start_time": "2021-12-26T18:38:00.966Z"
   },
   {
    "duration": 10,
    "start_time": "2021-12-26T18:38:00.976Z"
   },
   {
    "duration": 2,
    "start_time": "2021-12-26T18:38:00.988Z"
   },
   {
    "duration": 9,
    "start_time": "2021-12-26T18:38:00.991Z"
   },
   {
    "duration": 16,
    "start_time": "2021-12-26T18:38:01.001Z"
   },
   {
    "duration": 12,
    "start_time": "2021-12-26T18:38:01.018Z"
   },
   {
    "duration": 14,
    "start_time": "2021-12-26T18:38:01.031Z"
   },
   {
    "duration": 9,
    "start_time": "2021-12-26T18:38:01.047Z"
   },
   {
    "duration": 16,
    "start_time": "2021-12-26T18:38:01.057Z"
   },
   {
    "duration": 18,
    "start_time": "2021-12-26T18:38:01.075Z"
   },
   {
    "duration": 10,
    "start_time": "2021-12-26T18:38:01.095Z"
   },
   {
    "duration": 11,
    "start_time": "2021-12-26T18:38:01.128Z"
   },
   {
    "duration": 8,
    "start_time": "2021-12-26T18:38:01.141Z"
   },
   {
    "duration": 17,
    "start_time": "2021-12-26T18:38:01.151Z"
   },
   {
    "duration": 5,
    "start_time": "2021-12-26T18:38:01.170Z"
   },
   {
    "duration": 22,
    "start_time": "2021-12-26T18:38:01.177Z"
   },
   {
    "duration": 27,
    "start_time": "2021-12-26T18:38:01.201Z"
   },
   {
    "duration": 5,
    "start_time": "2021-12-26T18:38:01.229Z"
   },
   {
    "duration": 13,
    "start_time": "2021-12-26T18:38:01.236Z"
   },
   {
    "duration": 611,
    "start_time": "2021-12-26T18:38:01.250Z"
   },
   {
    "duration": 13,
    "start_time": "2021-12-26T18:38:01.863Z"
   },
   {
    "duration": 408,
    "start_time": "2021-12-26T18:38:01.878Z"
   },
   {
    "duration": 14,
    "start_time": "2021-12-26T18:38:02.288Z"
   },
   {
    "duration": 406,
    "start_time": "2021-12-26T18:38:02.303Z"
   },
   {
    "duration": 21,
    "start_time": "2021-12-26T18:38:02.711Z"
   },
   {
    "duration": 481,
    "start_time": "2021-12-26T18:38:02.734Z"
   },
   {
    "duration": 18,
    "start_time": "2021-12-26T18:38:03.217Z"
   },
   {
    "duration": 11,
    "start_time": "2021-12-26T18:38:03.236Z"
   },
   {
    "duration": 1051,
    "start_time": "2021-12-26T18:48:55.556Z"
   },
   {
    "duration": 386,
    "start_time": "2021-12-26T18:48:56.609Z"
   },
   {
    "duration": 21,
    "start_time": "2021-12-26T18:48:56.998Z"
   },
   {
    "duration": 11,
    "start_time": "2021-12-26T18:48:57.022Z"
   },
   {
    "duration": 25,
    "start_time": "2021-12-26T18:48:57.035Z"
   },
   {
    "duration": 18,
    "start_time": "2021-12-26T18:48:57.062Z"
   },
   {
    "duration": 8,
    "start_time": "2021-12-26T18:48:57.081Z"
   },
   {
    "duration": 8,
    "start_time": "2021-12-26T18:48:57.091Z"
   },
   {
    "duration": 25,
    "start_time": "2021-12-26T18:48:57.102Z"
   },
   {
    "duration": 6,
    "start_time": "2021-12-26T18:48:57.129Z"
   },
   {
    "duration": 7,
    "start_time": "2021-12-26T18:48:57.136Z"
   },
   {
    "duration": 8,
    "start_time": "2021-12-26T18:48:57.145Z"
   },
   {
    "duration": 10,
    "start_time": "2021-12-26T18:48:57.155Z"
   },
   {
    "duration": 15,
    "start_time": "2021-12-26T18:48:57.167Z"
   },
   {
    "duration": 16,
    "start_time": "2021-12-26T18:48:57.184Z"
   },
   {
    "duration": 4,
    "start_time": "2021-12-26T18:48:57.227Z"
   },
   {
    "duration": 70,
    "start_time": "2021-12-26T18:48:57.233Z"
   },
   {
    "duration": 54,
    "start_time": "2021-12-26T18:48:57.305Z"
   },
   {
    "duration": 12,
    "start_time": "2021-12-26T18:48:57.361Z"
   },
   {
    "duration": 7,
    "start_time": "2021-12-26T18:48:57.375Z"
   },
   {
    "duration": 75,
    "start_time": "2021-12-26T18:48:57.384Z"
   },
   {
    "duration": 25,
    "start_time": "2021-12-26T18:48:57.461Z"
   },
   {
    "duration": 5,
    "start_time": "2021-12-26T18:48:57.487Z"
   },
   {
    "duration": 6,
    "start_time": "2021-12-26T18:48:57.493Z"
   },
   {
    "duration": 72,
    "start_time": "2021-12-26T18:48:57.501Z"
   },
   {
    "duration": 22,
    "start_time": "2021-12-26T18:48:57.575Z"
   },
   {
    "duration": 4,
    "start_time": "2021-12-26T18:48:57.601Z"
   },
   {
    "duration": 25,
    "start_time": "2021-12-26T18:48:57.608Z"
   },
   {
    "duration": 9,
    "start_time": "2021-12-26T18:48:57.635Z"
   },
   {
    "duration": 12,
    "start_time": "2021-12-26T18:48:57.645Z"
   },
   {
    "duration": 2,
    "start_time": "2021-12-26T18:48:57.659Z"
   },
   {
    "duration": 4,
    "start_time": "2021-12-26T18:48:57.663Z"
   },
   {
    "duration": 5,
    "start_time": "2021-12-26T18:48:57.668Z"
   },
   {
    "duration": 7,
    "start_time": "2021-12-26T18:48:57.675Z"
   },
   {
    "duration": 46,
    "start_time": "2021-12-26T18:48:57.683Z"
   },
   {
    "duration": 8,
    "start_time": "2021-12-26T18:48:57.731Z"
   },
   {
    "duration": 19,
    "start_time": "2021-12-26T18:48:57.740Z"
   },
   {
    "duration": 16,
    "start_time": "2021-12-26T18:48:57.761Z"
   },
   {
    "duration": 9,
    "start_time": "2021-12-26T18:48:57.778Z"
   },
   {
    "duration": 40,
    "start_time": "2021-12-26T18:48:57.789Z"
   },
   {
    "duration": 6,
    "start_time": "2021-12-26T18:48:57.830Z"
   },
   {
    "duration": 17,
    "start_time": "2021-12-26T18:48:57.837Z"
   },
   {
    "duration": 2,
    "start_time": "2021-12-26T18:48:57.856Z"
   },
   {
    "duration": 21,
    "start_time": "2021-12-26T18:48:57.860Z"
   },
   {
    "duration": 5,
    "start_time": "2021-12-26T18:48:57.883Z"
   },
   {
    "duration": 7,
    "start_time": "2021-12-26T18:48:57.889Z"
   },
   {
    "duration": 42,
    "start_time": "2021-12-26T18:48:57.898Z"
   },
   {
    "duration": 609,
    "start_time": "2021-12-26T18:48:57.942Z"
   },
   {
    "duration": 12,
    "start_time": "2021-12-26T18:48:58.553Z"
   },
   {
    "duration": 424,
    "start_time": "2021-12-26T18:48:58.566Z"
   },
   {
    "duration": 11,
    "start_time": "2021-12-26T18:48:58.992Z"
   },
   {
    "duration": 415,
    "start_time": "2021-12-26T18:48:59.005Z"
   },
   {
    "duration": 15,
    "start_time": "2021-12-26T18:48:59.422Z"
   },
   {
    "duration": 412,
    "start_time": "2021-12-26T18:48:59.439Z"
   },
   {
    "duration": 9,
    "start_time": "2021-12-26T18:48:59.853Z"
   },
   {
    "duration": 9,
    "start_time": "2021-12-26T18:48:59.864Z"
   },
   {
    "duration": 115,
    "start_time": "2021-12-26T19:06:21.419Z"
   },
   {
    "duration": 10,
    "start_time": "2021-12-26T19:09:00.870Z"
   },
   {
    "duration": 1077,
    "start_time": "2021-12-26T19:09:19.625Z"
   },
   {
    "duration": 387,
    "start_time": "2021-12-26T19:09:20.704Z"
   },
   {
    "duration": 19,
    "start_time": "2021-12-26T19:09:21.093Z"
   },
   {
    "duration": 9,
    "start_time": "2021-12-26T19:09:21.114Z"
   },
   {
    "duration": 22,
    "start_time": "2021-12-26T19:09:21.125Z"
   },
   {
    "duration": 7,
    "start_time": "2021-12-26T19:09:21.149Z"
   },
   {
    "duration": 16,
    "start_time": "2021-12-26T19:09:21.158Z"
   },
   {
    "duration": 6,
    "start_time": "2021-12-26T19:09:21.178Z"
   },
   {
    "duration": 8,
    "start_time": "2021-12-26T19:09:21.186Z"
   },
   {
    "duration": 8,
    "start_time": "2021-12-26T19:09:21.195Z"
   },
   {
    "duration": 25,
    "start_time": "2021-12-26T19:09:21.204Z"
   },
   {
    "duration": 11,
    "start_time": "2021-12-26T19:09:21.230Z"
   },
   {
    "duration": 20,
    "start_time": "2021-12-26T19:09:21.243Z"
   },
   {
    "duration": 14,
    "start_time": "2021-12-26T19:09:21.264Z"
   },
   {
    "duration": 3,
    "start_time": "2021-12-26T19:09:21.280Z"
   },
   {
    "duration": 94,
    "start_time": "2021-12-26T19:09:21.285Z"
   },
   {
    "duration": 34,
    "start_time": "2021-12-26T19:09:21.381Z"
   },
   {
    "duration": 15,
    "start_time": "2021-12-26T19:09:21.417Z"
   },
   {
    "duration": 6,
    "start_time": "2021-12-26T19:09:21.434Z"
   },
   {
    "duration": 55,
    "start_time": "2021-12-26T19:09:21.441Z"
   },
   {
    "duration": 44,
    "start_time": "2021-12-26T19:09:21.498Z"
   },
   {
    "duration": 3,
    "start_time": "2021-12-26T19:09:21.544Z"
   },
   {
    "duration": 5,
    "start_time": "2021-12-26T19:09:21.550Z"
   },
   {
    "duration": 48,
    "start_time": "2021-12-26T19:09:21.557Z"
   },
   {
    "duration": 34,
    "start_time": "2021-12-26T19:09:21.607Z"
   },
   {
    "duration": 4,
    "start_time": "2021-12-26T19:09:21.643Z"
   },
   {
    "duration": 8,
    "start_time": "2021-12-26T19:09:21.649Z"
   },
   {
    "duration": 8,
    "start_time": "2021-12-26T19:09:21.659Z"
   },
   {
    "duration": 11,
    "start_time": "2021-12-26T19:09:21.668Z"
   },
   {
    "duration": 4,
    "start_time": "2021-12-26T19:09:21.681Z"
   },
   {
    "duration": 6,
    "start_time": "2021-12-26T19:09:21.686Z"
   },
   {
    "duration": 39,
    "start_time": "2021-12-26T19:09:21.693Z"
   },
   {
    "duration": 12,
    "start_time": "2021-12-26T19:09:21.733Z"
   },
   {
    "duration": 7,
    "start_time": "2021-12-26T19:09:21.746Z"
   },
   {
    "duration": 15,
    "start_time": "2021-12-26T19:09:21.754Z"
   },
   {
    "duration": 11,
    "start_time": "2021-12-26T19:09:21.771Z"
   },
   {
    "duration": 9,
    "start_time": "2021-12-26T19:09:21.783Z"
   },
   {
    "duration": 41,
    "start_time": "2021-12-26T19:09:21.794Z"
   },
   {
    "duration": 5,
    "start_time": "2021-12-26T19:09:21.837Z"
   },
   {
    "duration": 21,
    "start_time": "2021-12-26T19:09:21.843Z"
   },
   {
    "duration": 5,
    "start_time": "2021-12-26T19:09:21.865Z"
   },
   {
    "duration": 7,
    "start_time": "2021-12-26T19:09:21.871Z"
   },
   {
    "duration": 11,
    "start_time": "2021-12-26T19:09:21.879Z"
   },
   {
    "duration": 606,
    "start_time": "2021-12-26T19:09:21.892Z"
   },
   {
    "duration": 12,
    "start_time": "2021-12-26T19:09:22.500Z"
   },
   {
    "duration": 420,
    "start_time": "2021-12-26T19:09:22.514Z"
   },
   {
    "duration": 13,
    "start_time": "2021-12-26T19:09:22.936Z"
   },
   {
    "duration": 406,
    "start_time": "2021-12-26T19:09:22.951Z"
   },
   {
    "duration": 12,
    "start_time": "2021-12-26T19:09:23.359Z"
   },
   {
    "duration": 409,
    "start_time": "2021-12-26T19:09:23.373Z"
   },
   {
    "duration": 9,
    "start_time": "2021-12-26T19:09:23.784Z"
   },
   {
    "duration": 12,
    "start_time": "2021-12-26T19:09:23.795Z"
   },
   {
    "duration": 15,
    "start_time": "2021-12-26T19:18:44.019Z"
   },
   {
    "duration": 107,
    "start_time": "2021-12-26T19:22:21.218Z"
   },
   {
    "duration": 616,
    "start_time": "2021-12-26T19:35:30.629Z"
   },
   {
    "duration": 1009,
    "start_time": "2021-12-26T19:46:53.588Z"
   },
   {
    "duration": 384,
    "start_time": "2021-12-26T19:46:54.599Z"
   },
   {
    "duration": 19,
    "start_time": "2021-12-26T19:46:54.985Z"
   },
   {
    "duration": 10,
    "start_time": "2021-12-26T19:46:55.006Z"
   },
   {
    "duration": 17,
    "start_time": "2021-12-26T19:46:55.018Z"
   },
   {
    "duration": 8,
    "start_time": "2021-12-26T19:46:55.037Z"
   },
   {
    "duration": 17,
    "start_time": "2021-12-26T19:46:55.047Z"
   },
   {
    "duration": 8,
    "start_time": "2021-12-26T19:46:55.068Z"
   },
   {
    "duration": 8,
    "start_time": "2021-12-26T19:46:55.078Z"
   },
   {
    "duration": 14,
    "start_time": "2021-12-26T19:46:55.088Z"
   },
   {
    "duration": 30,
    "start_time": "2021-12-26T19:46:55.104Z"
   },
   {
    "duration": 18,
    "start_time": "2021-12-26T19:46:55.136Z"
   },
   {
    "duration": 21,
    "start_time": "2021-12-26T19:46:55.156Z"
   },
   {
    "duration": 15,
    "start_time": "2021-12-26T19:46:55.179Z"
   },
   {
    "duration": 31,
    "start_time": "2021-12-26T19:46:55.196Z"
   },
   {
    "duration": 67,
    "start_time": "2021-12-26T19:46:55.229Z"
   },
   {
    "duration": 48,
    "start_time": "2021-12-26T19:46:55.298Z"
   },
   {
    "duration": 10,
    "start_time": "2021-12-26T19:46:55.348Z"
   },
   {
    "duration": 7,
    "start_time": "2021-12-26T19:46:55.360Z"
   },
   {
    "duration": 73,
    "start_time": "2021-12-26T19:46:55.369Z"
   },
   {
    "duration": 26,
    "start_time": "2021-12-26T19:46:55.444Z"
   },
   {
    "duration": 4,
    "start_time": "2021-12-26T19:46:55.472Z"
   },
   {
    "duration": 5,
    "start_time": "2021-12-26T19:46:55.479Z"
   },
   {
    "duration": 72,
    "start_time": "2021-12-26T19:46:55.486Z"
   },
   {
    "duration": 23,
    "start_time": "2021-12-26T19:46:55.560Z"
   },
   {
    "duration": 5,
    "start_time": "2021-12-26T19:46:55.585Z"
   },
   {
    "duration": 12,
    "start_time": "2021-12-26T19:46:55.591Z"
   },
   {
    "duration": 28,
    "start_time": "2021-12-26T19:46:55.605Z"
   },
   {
    "duration": 4,
    "start_time": "2021-12-26T19:46:55.634Z"
   },
   {
    "duration": 6,
    "start_time": "2021-12-26T19:46:55.640Z"
   },
   {
    "duration": 10,
    "start_time": "2021-12-26T19:46:55.647Z"
   },
   {
    "duration": 8,
    "start_time": "2021-12-26T19:46:55.659Z"
   },
   {
    "duration": 26,
    "start_time": "2021-12-26T19:46:55.669Z"
   },
   {
    "duration": 43,
    "start_time": "2021-12-26T19:46:55.697Z"
   },
   {
    "duration": 5,
    "start_time": "2021-12-26T19:46:55.741Z"
   },
   {
    "duration": 22,
    "start_time": "2021-12-26T19:46:55.748Z"
   },
   {
    "duration": 4,
    "start_time": "2021-12-26T19:46:55.771Z"
   },
   {
    "duration": 6,
    "start_time": "2021-12-26T19:46:55.777Z"
   },
   {
    "duration": 47,
    "start_time": "2021-12-26T19:46:55.785Z"
   },
   {
    "duration": 603,
    "start_time": "2021-12-26T19:46:55.834Z"
   },
   {
    "duration": 13,
    "start_time": "2021-12-26T19:46:56.439Z"
   },
   {
    "duration": 459,
    "start_time": "2021-12-26T19:46:56.454Z"
   },
   {
    "duration": 21,
    "start_time": "2021-12-26T19:46:56.915Z"
   },
   {
    "duration": 480,
    "start_time": "2021-12-26T19:46:56.938Z"
   },
   {
    "duration": 27,
    "start_time": "2021-12-26T19:46:57.420Z"
   },
   {
    "duration": 539,
    "start_time": "2021-12-26T19:46:57.449Z"
   },
   {
    "duration": 9,
    "start_time": "2021-12-26T19:46:57.990Z"
   },
   {
    "duration": 11,
    "start_time": "2021-12-26T19:46:58.000Z"
   },
   {
    "duration": 1704,
    "start_time": "2021-12-27T04:37:49.308Z"
   },
   {
    "duration": 816,
    "start_time": "2021-12-27T04:37:51.014Z"
   },
   {
    "duration": 62,
    "start_time": "2021-12-27T04:37:51.833Z"
   },
   {
    "duration": 12,
    "start_time": "2021-12-27T04:37:51.898Z"
   },
   {
    "duration": 80,
    "start_time": "2021-12-27T04:37:51.912Z"
   },
   {
    "duration": 9,
    "start_time": "2021-12-27T04:37:51.994Z"
   },
   {
    "duration": 17,
    "start_time": "2021-12-27T04:37:52.005Z"
   },
   {
    "duration": 68,
    "start_time": "2021-12-27T04:37:52.025Z"
   },
   {
    "duration": 9,
    "start_time": "2021-12-27T04:37:52.097Z"
   },
   {
    "duration": 16,
    "start_time": "2021-12-27T04:37:52.108Z"
   },
   {
    "duration": 73,
    "start_time": "2021-12-27T04:37:52.126Z"
   },
   {
    "duration": 16,
    "start_time": "2021-12-27T04:37:52.201Z"
   },
   {
    "duration": 91,
    "start_time": "2021-12-27T04:37:52.219Z"
   },
   {
    "duration": 17,
    "start_time": "2021-12-27T04:37:52.311Z"
   },
   {
    "duration": 63,
    "start_time": "2021-12-27T04:37:52.330Z"
   },
   {
    "duration": 133,
    "start_time": "2021-12-27T04:37:52.395Z"
   },
   {
    "duration": 99,
    "start_time": "2021-12-27T04:37:52.530Z"
   },
   {
    "duration": 74,
    "start_time": "2021-12-27T04:37:52.631Z"
   },
   {
    "duration": 13,
    "start_time": "2021-12-27T04:37:52.708Z"
   },
   {
    "duration": 186,
    "start_time": "2021-12-27T04:37:52.723Z"
   },
   {
    "duration": 85,
    "start_time": "2021-12-27T04:37:52.911Z"
   },
   {
    "duration": 5,
    "start_time": "2021-12-27T04:37:52.998Z"
   },
   {
    "duration": 10,
    "start_time": "2021-12-27T04:37:53.008Z"
   },
   {
    "duration": 175,
    "start_time": "2021-12-27T04:37:53.021Z"
   },
   {
    "duration": 26,
    "start_time": "2021-12-27T04:37:53.198Z"
   },
   {
    "duration": 4,
    "start_time": "2021-12-27T04:37:53.226Z"
   },
   {
    "duration": 10,
    "start_time": "2021-12-27T04:37:53.292Z"
   },
   {
    "duration": 14,
    "start_time": "2021-12-27T04:37:53.304Z"
   },
   {
    "duration": 73,
    "start_time": "2021-12-27T04:37:53.319Z"
   },
   {
    "duration": 23,
    "start_time": "2021-12-27T04:37:53.394Z"
   },
   {
    "duration": 14,
    "start_time": "2021-12-27T04:37:53.418Z"
   },
   {
    "duration": 62,
    "start_time": "2021-12-27T04:37:53.434Z"
   },
   {
    "duration": 30,
    "start_time": "2021-12-27T04:37:53.498Z"
   },
   {
    "duration": 66,
    "start_time": "2021-12-27T04:37:53.530Z"
   },
   {
    "duration": 40,
    "start_time": "2021-12-27T04:37:53.598Z"
   },
   {
    "duration": 65,
    "start_time": "2021-12-27T04:37:53.640Z"
   },
   {
    "duration": 4,
    "start_time": "2021-12-27T04:37:53.707Z"
   },
   {
    "duration": 12,
    "start_time": "2021-12-27T04:37:53.712Z"
   },
   {
    "duration": 78,
    "start_time": "2021-12-27T04:37:53.726Z"
   },
   {
    "duration": 1488,
    "start_time": "2021-12-27T04:37:53.806Z"
   },
   {
    "duration": 14,
    "start_time": "2021-12-27T04:37:55.296Z"
   },
   {
    "duration": 1005,
    "start_time": "2021-12-27T04:37:55.312Z"
   },
   {
    "duration": 14,
    "start_time": "2021-12-27T04:37:56.318Z"
   },
   {
    "duration": 925,
    "start_time": "2021-12-27T04:37:56.392Z"
   },
   {
    "duration": 74,
    "start_time": "2021-12-27T04:37:57.319Z"
   },
   {
    "duration": 996,
    "start_time": "2021-12-27T04:37:57.395Z"
   },
   {
    "duration": 11,
    "start_time": "2021-12-27T04:37:58.393Z"
   },
   {
    "duration": 11,
    "start_time": "2021-12-27T04:37:58.406Z"
   },
   {
    "duration": 1715,
    "start_time": "2021-12-27T04:38:44.994Z"
   },
   {
    "duration": 835,
    "start_time": "2021-12-27T04:38:46.710Z"
   },
   {
    "duration": 57,
    "start_time": "2021-12-27T04:38:47.547Z"
   },
   {
    "duration": 11,
    "start_time": "2021-12-27T04:38:47.606Z"
   },
   {
    "duration": 77,
    "start_time": "2021-12-27T04:38:47.619Z"
   },
   {
    "duration": 8,
    "start_time": "2021-12-27T04:38:47.698Z"
   },
   {
    "duration": 18,
    "start_time": "2021-12-27T04:38:47.708Z"
   },
   {
    "duration": 67,
    "start_time": "2021-12-27T04:38:47.728Z"
   },
   {
    "duration": 7,
    "start_time": "2021-12-27T04:38:47.798Z"
   },
   {
    "duration": 9,
    "start_time": "2021-12-27T04:38:47.807Z"
   },
   {
    "duration": 74,
    "start_time": "2021-12-27T04:38:47.818Z"
   },
   {
    "duration": 13,
    "start_time": "2021-12-27T04:38:47.894Z"
   },
   {
    "duration": 21,
    "start_time": "2021-12-27T04:38:47.909Z"
   },
   {
    "duration": 73,
    "start_time": "2021-12-27T04:38:47.932Z"
   },
   {
    "duration": 4,
    "start_time": "2021-12-27T04:38:48.006Z"
   },
   {
    "duration": 185,
    "start_time": "2021-12-27T04:38:48.012Z"
   },
   {
    "duration": 93,
    "start_time": "2021-12-27T04:38:48.199Z"
   },
   {
    "duration": 13,
    "start_time": "2021-12-27T04:38:48.294Z"
   },
   {
    "duration": 8,
    "start_time": "2021-12-27T04:38:48.308Z"
   },
   {
    "duration": 121,
    "start_time": "2021-12-27T04:38:48.318Z"
   },
   {
    "duration": 30,
    "start_time": "2021-12-27T04:38:48.492Z"
   },
   {
    "duration": 4,
    "start_time": "2021-12-27T04:38:48.524Z"
   },
   {
    "duration": 65,
    "start_time": "2021-12-27T04:38:48.530Z"
   },
   {
    "duration": 111,
    "start_time": "2021-12-27T04:38:48.597Z"
   },
   {
    "duration": 24,
    "start_time": "2021-12-27T04:38:48.710Z"
   },
   {
    "duration": 5,
    "start_time": "2021-12-27T04:38:48.791Z"
   },
   {
    "duration": 9,
    "start_time": "2021-12-27T04:38:48.799Z"
   },
   {
    "duration": 8,
    "start_time": "2021-12-27T04:38:48.810Z"
   },
   {
    "duration": 3,
    "start_time": "2021-12-27T04:38:48.820Z"
   },
   {
    "duration": 66,
    "start_time": "2021-12-27T04:38:48.825Z"
   },
   {
    "duration": 7,
    "start_time": "2021-12-27T04:38:48.893Z"
   },
   {
    "duration": 8,
    "start_time": "2021-12-27T04:38:48.902Z"
   },
   {
    "duration": 81,
    "start_time": "2021-12-27T04:38:48.912Z"
   },
   {
    "duration": 12,
    "start_time": "2021-12-27T04:38:48.994Z"
   },
   {
    "duration": 4,
    "start_time": "2021-12-27T04:38:49.008Z"
   },
   {
    "duration": 86,
    "start_time": "2021-12-27T04:38:49.013Z"
   },
   {
    "duration": 11,
    "start_time": "2021-12-27T04:38:49.101Z"
   },
   {
    "duration": 9,
    "start_time": "2021-12-27T04:38:49.114Z"
   },
   {
    "duration": 79,
    "start_time": "2021-12-27T04:38:49.125Z"
   },
   {
    "duration": 1428,
    "start_time": "2021-12-27T04:38:49.206Z"
   },
   {
    "duration": 68,
    "start_time": "2021-12-27T04:38:50.636Z"
   },
   {
    "duration": 1005,
    "start_time": "2021-12-27T04:38:50.706Z"
   },
   {
    "duration": 15,
    "start_time": "2021-12-27T04:38:51.714Z"
   },
   {
    "duration": 991,
    "start_time": "2021-12-27T04:38:51.730Z"
   },
   {
    "duration": 75,
    "start_time": "2021-12-27T04:38:52.723Z"
   },
   {
    "duration": 1006,
    "start_time": "2021-12-27T04:38:52.800Z"
   },
   {
    "duration": 12,
    "start_time": "2021-12-27T04:38:53.808Z"
   },
   {
    "duration": 77,
    "start_time": "2021-12-27T04:38:53.821Z"
   },
   {
    "duration": 1689,
    "start_time": "2022-01-26T19:09:58.010Z"
   },
   {
    "duration": 580,
    "start_time": "2022-01-26T19:09:59.702Z"
   },
   {
    "duration": 28,
    "start_time": "2022-01-26T19:10:00.285Z"
   },
   {
    "duration": 25,
    "start_time": "2022-01-26T19:10:00.316Z"
   },
   {
    "duration": 44,
    "start_time": "2022-01-26T19:10:00.344Z"
   },
   {
    "duration": 13,
    "start_time": "2022-01-26T19:10:00.390Z"
   },
   {
    "duration": 30,
    "start_time": "2022-01-26T19:10:00.405Z"
   },
   {
    "duration": 15,
    "start_time": "2022-01-26T19:10:00.442Z"
   },
   {
    "duration": 20,
    "start_time": "2022-01-26T19:10:00.461Z"
   },
   {
    "duration": 20,
    "start_time": "2022-01-26T19:10:00.484Z"
   },
   {
    "duration": 34,
    "start_time": "2022-01-26T19:10:00.507Z"
   },
   {
    "duration": 28,
    "start_time": "2022-01-26T19:10:00.545Z"
   },
   {
    "duration": 36,
    "start_time": "2022-01-26T19:10:00.576Z"
   },
   {
    "duration": 33,
    "start_time": "2022-01-26T19:10:00.615Z"
   },
   {
    "duration": 8,
    "start_time": "2022-01-26T19:10:00.651Z"
   },
   {
    "duration": 136,
    "start_time": "2022-01-26T19:10:00.662Z"
   },
   {
    "duration": 78,
    "start_time": "2022-01-26T19:10:00.800Z"
   },
   {
    "duration": 17,
    "start_time": "2022-01-26T19:10:00.880Z"
   },
   {
    "duration": 12,
    "start_time": "2022-01-26T19:10:00.899Z"
   },
   {
    "duration": 108,
    "start_time": "2022-01-26T19:10:00.935Z"
   },
   {
    "duration": 40,
    "start_time": "2022-01-26T19:10:01.046Z"
   },
   {
    "duration": 11,
    "start_time": "2022-01-26T19:10:01.089Z"
   },
   {
    "duration": 39,
    "start_time": "2022-01-26T19:10:01.108Z"
   },
   {
    "duration": 97,
    "start_time": "2022-01-26T19:10:01.151Z"
   },
   {
    "duration": 36,
    "start_time": "2022-01-26T19:10:01.251Z"
   },
   {
    "duration": 6,
    "start_time": "2022-01-26T19:10:01.291Z"
   },
   {
    "duration": 32,
    "start_time": "2022-01-26T19:10:01.300Z"
   },
   {
    "duration": 18,
    "start_time": "2022-01-26T19:10:01.335Z"
   },
   {
    "duration": 6,
    "start_time": "2022-01-26T19:10:01.356Z"
   },
   {
    "duration": 11,
    "start_time": "2022-01-26T19:10:01.365Z"
   },
   {
    "duration": 50,
    "start_time": "2022-01-26T19:10:01.379Z"
   },
   {
    "duration": 43,
    "start_time": "2022-01-26T19:10:01.432Z"
   },
   {
    "duration": 28,
    "start_time": "2022-01-26T19:10:01.477Z"
   },
   {
    "duration": 66,
    "start_time": "2022-01-26T19:10:01.507Z"
   },
   {
    "duration": 36,
    "start_time": "2022-01-26T19:10:01.575Z"
   },
   {
    "duration": 82,
    "start_time": "2022-01-26T19:10:01.613Z"
   },
   {
    "duration": 29,
    "start_time": "2022-01-26T19:10:01.697Z"
   },
   {
    "duration": 23,
    "start_time": "2022-01-26T19:10:01.728Z"
   },
   {
    "duration": 48,
    "start_time": "2022-01-26T19:10:01.754Z"
   },
   {
    "duration": 1213,
    "start_time": "2022-01-26T19:10:01.804Z"
   },
   {
    "duration": 45,
    "start_time": "2022-01-26T19:10:03.020Z"
   },
   {
    "duration": 825,
    "start_time": "2022-01-26T19:10:03.068Z"
   },
   {
    "duration": 38,
    "start_time": "2022-01-26T19:10:03.896Z"
   },
   {
    "duration": 830,
    "start_time": "2022-01-26T19:10:03.937Z"
   },
   {
    "duration": 22,
    "start_time": "2022-01-26T19:10:04.770Z"
   },
   {
    "duration": 942,
    "start_time": "2022-01-26T19:10:04.795Z"
   },
   {
    "duration": 20,
    "start_time": "2022-01-26T19:10:05.740Z"
   },
   {
    "duration": 20,
    "start_time": "2022-01-26T19:10:05.763Z"
   },
   {
    "duration": 1317,
    "start_time": "2022-03-26T15:23:29.615Z"
   },
   {
    "duration": 502,
    "start_time": "2022-03-26T15:23:30.935Z"
   },
   {
    "duration": 10,
    "start_time": "2022-03-26T15:23:31.440Z"
   },
   {
    "duration": 1455,
    "start_time": "2022-03-26T15:23:31.453Z"
   },
   {
    "duration": 22,
    "start_time": "2022-03-26T15:23:32.912Z"
   },
   {
    "duration": 51,
    "start_time": "2022-03-26T15:23:32.936Z"
   },
   {
    "duration": 6,
    "start_time": "2022-03-26T15:23:32.989Z"
   },
   {
    "duration": 126,
    "start_time": "2022-03-26T15:23:32.997Z"
   },
   {
    "duration": 52,
    "start_time": "2022-03-26T15:23:33.125Z"
   },
   {
    "duration": 16,
    "start_time": "2022-03-26T15:23:33.179Z"
   },
   {
    "duration": 13,
    "start_time": "2022-03-26T15:23:33.197Z"
   },
   {
    "duration": 108,
    "start_time": "2022-03-26T15:23:33.212Z"
   },
   {
    "duration": 31,
    "start_time": "2022-03-26T15:23:33.322Z"
   },
   {
    "duration": 18,
    "start_time": "2022-03-26T15:23:33.358Z"
   },
   {
    "duration": 7,
    "start_time": "2022-03-26T15:23:33.378Z"
   },
   {
    "duration": 98,
    "start_time": "2022-03-26T15:23:33.387Z"
   },
   {
    "duration": 27,
    "start_time": "2022-03-26T15:23:33.487Z"
   },
   {
    "duration": 5,
    "start_time": "2022-03-26T15:23:33.516Z"
   },
   {
    "duration": 17,
    "start_time": "2022-03-26T15:23:33.522Z"
   },
   {
    "duration": 32,
    "start_time": "2022-03-26T15:23:33.541Z"
   },
   {
    "duration": 5,
    "start_time": "2022-03-26T15:23:33.575Z"
   },
   {
    "duration": 7,
    "start_time": "2022-03-26T15:23:33.582Z"
   },
   {
    "duration": 11,
    "start_time": "2022-03-26T15:23:33.591Z"
   },
   {
    "duration": 10,
    "start_time": "2022-03-26T15:23:33.604Z"
   },
   {
    "duration": 61,
    "start_time": "2022-03-26T15:23:33.617Z"
   },
   {
    "duration": 15,
    "start_time": "2022-03-26T15:23:33.680Z"
   },
   {
    "duration": 10,
    "start_time": "2022-03-26T15:23:33.697Z"
   },
   {
    "duration": 69,
    "start_time": "2022-03-26T15:23:33.709Z"
   },
   {
    "duration": 6,
    "start_time": "2022-03-26T15:23:33.780Z"
   },
   {
    "duration": 14,
    "start_time": "2022-03-26T15:23:33.788Z"
   },
   {
    "duration": 18,
    "start_time": "2022-03-26T15:23:33.804Z"
   },
   {
    "duration": 850,
    "start_time": "2022-03-26T15:23:33.824Z"
   },
   {
    "duration": 18,
    "start_time": "2022-03-26T15:23:34.676Z"
   },
   {
    "duration": 562,
    "start_time": "2022-03-26T15:23:34.696Z"
   },
   {
    "duration": 22,
    "start_time": "2022-03-26T15:23:35.260Z"
   },
   {
    "duration": 526,
    "start_time": "2022-03-26T15:23:35.284Z"
   },
   {
    "duration": 19,
    "start_time": "2022-03-26T15:23:35.812Z"
   },
   {
    "duration": 543,
    "start_time": "2022-03-26T15:23:35.834Z"
   },
   {
    "duration": 16,
    "start_time": "2022-03-26T15:23:36.379Z"
   },
   {
    "duration": 20,
    "start_time": "2022-03-26T15:23:36.397Z"
   },
   {
    "duration": 1434,
    "start_time": "2022-03-26T15:26:41.477Z"
   },
   {
    "duration": 482,
    "start_time": "2022-03-26T15:26:42.914Z"
   },
   {
    "duration": 9,
    "start_time": "2022-03-26T15:26:43.398Z"
   },
   {
    "duration": 1447,
    "start_time": "2022-03-26T15:26:43.410Z"
   },
   {
    "duration": 29,
    "start_time": "2022-03-26T15:26:44.860Z"
   },
   {
    "duration": 15,
    "start_time": "2022-03-26T15:26:44.892Z"
   },
   {
    "duration": 197,
    "start_time": "2022-03-26T15:26:44.909Z"
   },
   {
    "duration": 88,
    "start_time": "2022-03-26T15:26:45.109Z"
   },
   {
    "duration": 16,
    "start_time": "2022-03-26T15:26:45.200Z"
   },
   {
    "duration": 57,
    "start_time": "2022-03-26T15:26:45.220Z"
   },
   {
    "duration": 128,
    "start_time": "2022-03-26T15:26:45.280Z"
   },
   {
    "duration": 82,
    "start_time": "2022-03-26T15:26:45.410Z"
   },
   {
    "duration": 5,
    "start_time": "2022-03-26T15:26:45.494Z"
   },
   {
    "duration": 7,
    "start_time": "2022-03-26T15:26:45.501Z"
   },
   {
    "duration": 125,
    "start_time": "2022-03-26T15:26:45.511Z"
   },
   {
    "duration": 35,
    "start_time": "2022-03-26T15:26:45.639Z"
   },
   {
    "duration": 5,
    "start_time": "2022-03-26T15:26:45.676Z"
   },
   {
    "duration": 19,
    "start_time": "2022-03-26T15:26:45.683Z"
   },
   {
    "duration": 12,
    "start_time": "2022-03-26T15:26:45.704Z"
   },
   {
    "duration": 4,
    "start_time": "2022-03-26T15:26:45.718Z"
   },
   {
    "duration": 6,
    "start_time": "2022-03-26T15:26:45.724Z"
   },
   {
    "duration": 42,
    "start_time": "2022-03-26T15:26:45.732Z"
   },
   {
    "duration": 11,
    "start_time": "2022-03-26T15:26:45.776Z"
   },
   {
    "duration": 28,
    "start_time": "2022-03-26T15:26:45.789Z"
   },
   {
    "duration": 15,
    "start_time": "2022-03-26T15:26:45.820Z"
   },
   {
    "duration": 41,
    "start_time": "2022-03-26T15:26:45.837Z"
   },
   {
    "duration": 42,
    "start_time": "2022-03-26T15:26:45.880Z"
   },
   {
    "duration": 5,
    "start_time": "2022-03-26T15:26:45.927Z"
   },
   {
    "duration": 43,
    "start_time": "2022-03-26T15:26:45.934Z"
   },
   {
    "duration": 18,
    "start_time": "2022-03-26T15:26:45.980Z"
   },
   {
    "duration": 1099,
    "start_time": "2022-03-26T15:26:46.001Z"
   },
   {
    "duration": 27,
    "start_time": "2022-03-26T15:26:47.102Z"
   },
   {
    "duration": 931,
    "start_time": "2022-03-26T15:26:47.132Z"
   },
   {
    "duration": 25,
    "start_time": "2022-03-26T15:26:48.066Z"
   },
   {
    "duration": 634,
    "start_time": "2022-03-26T15:26:48.094Z"
   },
   {
    "duration": 43,
    "start_time": "2022-03-26T15:26:48.731Z"
   },
   {
    "duration": 991,
    "start_time": "2022-03-26T15:26:48.777Z"
   },
   {
    "duration": 20,
    "start_time": "2022-03-26T15:26:49.775Z"
   },
   {
    "duration": 19,
    "start_time": "2022-03-26T15:26:49.798Z"
   }
  ],
  "kernelspec": {
   "display_name": "Python 3 (ipykernel)",
   "language": "python",
   "name": "python3"
  },
  "language_info": {
   "codemirror_mode": {
    "name": "ipython",
    "version": 3
   },
   "file_extension": ".py",
   "mimetype": "text/x-python",
   "name": "python",
   "nbconvert_exporter": "python",
   "pygments_lexer": "ipython3",
   "version": "3.9.5"
  },
  "toc": {
   "base_numbering": 1,
   "nav_menu": {},
   "number_sections": true,
   "sideBar": true,
   "skip_h1_title": true,
   "title_cell": "Table of Contents",
   "title_sidebar": "Contents",
   "toc_cell": false,
   "toc_position": {},
   "toc_section_display": true,
   "toc_window_display": false
  }
 },
 "nbformat": 4,
 "nbformat_minor": 2
}


{
 "cells": [
  {
   "cell_type": "markdown",
   "metadata": {},
   "source": [
    "### Шаг 1. Загрузка данных и подготовка их к анализу"
   ]
  },
  {
   "cell_type": "code",
   "execution_count": 1,
   "metadata": {},
   "outputs": [],
   "source": [
    "# импорт библиотек\n",
    "import pandas as pd\n",
    "import seaborn as sns \n",
    "from matplotlib import pyplot as plt \n",
    "from plotly import graph_objects as go\n",
    "import plotly.express as px\n",
    "from io import BytesIO\n",
    "import requests \n",
    "pd.set_option('display.float_format', '{:,.2f}'.format)\n",
    "pd.set_option('max_rows', 77)"
   ]
  },
  {
   "cell_type": "code",
   "execution_count": 2,
   "metadata": {},
   "outputs": [],
   "source": [
    "# чтение файла с данными и сохранение в hypothesis \n",
    "try:\n",
    "    rest_data = pd.read_csv('/datasets/rest_data.csv')\n",
    "except FileNotFoundError:\n",
    "    print('файл или директория не существует!')"
   ]
  },
  {
   "cell_type": "code",
   "execution_count": 3,
   "metadata": {},
   "outputs": [],
   "source": [
    "dict_df = {'Объекты общественного питания': rest_data} "
   ]
  },
  {
   "cell_type": "code",
   "execution_count": 4,
   "metadata": {},
   "outputs": [],
   "source": [
    "# функция получения информации\n",
    "def get_info(name, df): \n",
    "    \n",
    "\n",
    "    print('\\033[1m' + 'Первые 5 строк таблицы: ' + name + '\\033[0m')\n",
    "    display(df.head())\n",
    "    print()\n",
    "    print('\\033[1m' + 'Сводная информация о таблице: ' + name + '\\033[0m')\n",
    "    print()\n",
    "    df.info()\n",
    "    print()\n",
    "    print('\\033[1m' + 'Описательная статистика таблицы: ' + name + '\\033[0m')\n",
    "    display(df.describe())\n",
    "    print()\n",
    "    print('\\033[1m' + 'Описательная статистика таблицы: ' + name + '\\033[0m')\n",
    "    display(df.describe(include=[object]))\n",
    "    print()\n",
    "    print('\\033[1m' + 'Пропуски в таблице: ' + name + '\\033[0m')\n",
    "    report = df.isna().sum().to_frame()\n",
    "    report = report.rename(columns = {0: 'missing_values'})\n",
    "    report['% of total'] = (100 * report['missing_values'] / df.shape[0]).round(2)\n",
    "    display(report.sort_values(by = 'missing_values', ascending = False))\n",
    "    print()"
   ]
  },
  {
   "cell_type": "code",
   "execution_count": 5,
   "metadata": {},
   "outputs": [
    {
     "name": "stdout",
     "output_type": "stream",
     "text": [
      "\u001b[1mПервые 5 строк таблицы: Объекты общественного питания\u001b[0m\n"
     ]
    },
    {
     "data": {
      "text/html": [
       "<div>\n",
       "<style scoped>\n",
       "    .dataframe tbody tr th:only-of-type {\n",
       "        vertical-align: middle;\n",
       "    }\n",
       "\n",
       "    .dataframe tbody tr th {\n",
       "        vertical-align: top;\n",
       "    }\n",
       "\n",
       "    .dataframe thead th {\n",
       "        text-align: right;\n",
       "    }\n",
       "</style>\n",
       "<table border=\"1\" class=\"dataframe\">\n",
       "  <thead>\n",
       "    <tr style=\"text-align: right;\">\n",
       "      <th></th>\n",
       "      <th>id</th>\n",
       "      <th>object_name</th>\n",
       "      <th>chain</th>\n",
       "      <th>object_type</th>\n",
       "      <th>address</th>\n",
       "      <th>number</th>\n",
       "    </tr>\n",
       "  </thead>\n",
       "  <tbody>\n",
       "    <tr>\n",
       "      <td>0</td>\n",
       "      <td>151635</td>\n",
       "      <td>СМЕТАНА</td>\n",
       "      <td>нет</td>\n",
       "      <td>кафе</td>\n",
       "      <td>город Москва, улица Егора Абакумова, дом 9</td>\n",
       "      <td>48</td>\n",
       "    </tr>\n",
       "    <tr>\n",
       "      <td>1</td>\n",
       "      <td>77874</td>\n",
       "      <td>Родник</td>\n",
       "      <td>нет</td>\n",
       "      <td>кафе</td>\n",
       "      <td>город Москва, улица Талалихина, дом 2/1, корпус 1</td>\n",
       "      <td>35</td>\n",
       "    </tr>\n",
       "    <tr>\n",
       "      <td>2</td>\n",
       "      <td>24309</td>\n",
       "      <td>Кафе «Академия»</td>\n",
       "      <td>нет</td>\n",
       "      <td>кафе</td>\n",
       "      <td>город Москва, Абельмановская улица, дом 6</td>\n",
       "      <td>95</td>\n",
       "    </tr>\n",
       "    <tr>\n",
       "      <td>3</td>\n",
       "      <td>21894</td>\n",
       "      <td>ПИЦЦЕТОРИЯ</td>\n",
       "      <td>да</td>\n",
       "      <td>кафе</td>\n",
       "      <td>город Москва, Абрамцевская улица, дом 1</td>\n",
       "      <td>40</td>\n",
       "    </tr>\n",
       "    <tr>\n",
       "      <td>4</td>\n",
       "      <td>119365</td>\n",
       "      <td>Кафе «Вишневая метель»</td>\n",
       "      <td>нет</td>\n",
       "      <td>кафе</td>\n",
       "      <td>город Москва, Абрамцевская улица, дом 9, корпус 1</td>\n",
       "      <td>50</td>\n",
       "    </tr>\n",
       "  </tbody>\n",
       "</table>\n",
       "</div>"
      ],
      "text/plain": [
       "       id             object_name chain object_type  \\\n",
       "0  151635                 СМЕТАНА   нет        кафе   \n",
       "1   77874                  Родник   нет        кафе   \n",
       "2   24309         Кафе «Академия»   нет        кафе   \n",
       "3   21894              ПИЦЦЕТОРИЯ    да        кафе   \n",
       "4  119365  Кафе «Вишневая метель»   нет        кафе   \n",
       "\n",
       "                                             address  number  \n",
       "0         город Москва, улица Егора Абакумова, дом 9      48  \n",
       "1  город Москва, улица Талалихина, дом 2/1, корпус 1      35  \n",
       "2          город Москва, Абельмановская улица, дом 6      95  \n",
       "3            город Москва, Абрамцевская улица, дом 1      40  \n",
       "4  город Москва, Абрамцевская улица, дом 9, корпус 1      50  "
      ]
     },
     "metadata": {},
     "output_type": "display_data"
    },
    {
     "name": "stdout",
     "output_type": "stream",
     "text": [
      "\n",
      "\u001b[1mСводная информация о таблице: Объекты общественного питания\u001b[0m\n",
      "\n",
      "<class 'pandas.core.frame.DataFrame'>\n",
      "RangeIndex: 15366 entries, 0 to 15365\n",
      "Data columns (total 6 columns):\n",
      "id             15366 non-null int64\n",
      "object_name    15366 non-null object\n",
      "chain          15366 non-null object\n",
      "object_type    15366 non-null object\n",
      "address        15366 non-null object\n",
      "number         15366 non-null int64\n",
      "dtypes: int64(2), object(4)\n",
      "memory usage: 720.4+ KB\n",
      "\n",
      "\u001b[1mОписательная статистика таблицы: Объекты общественного питания\u001b[0m\n"
     ]
    },
    {
     "data": {
      "text/html": [
       "<div>\n",
       "<style scoped>\n",
       "    .dataframe tbody tr th:only-of-type {\n",
       "        vertical-align: middle;\n",
       "    }\n",
       "\n",
       "    .dataframe tbody tr th {\n",
       "        vertical-align: top;\n",
       "    }\n",
       "\n",
       "    .dataframe thead th {\n",
       "        text-align: right;\n",
       "    }\n",
       "</style>\n",
       "<table border=\"1\" class=\"dataframe\">\n",
       "  <thead>\n",
       "    <tr style=\"text-align: right;\">\n",
       "      <th></th>\n",
       "      <th>id</th>\n",
       "      <th>number</th>\n",
       "    </tr>\n",
       "  </thead>\n",
       "  <tbody>\n",
       "    <tr>\n",
       "      <td>count</td>\n",
       "      <td>15,366.00</td>\n",
       "      <td>15,366.00</td>\n",
       "    </tr>\n",
       "    <tr>\n",
       "      <td>mean</td>\n",
       "      <td>119,720.07</td>\n",
       "      <td>59.55</td>\n",
       "    </tr>\n",
       "    <tr>\n",
       "      <td>std</td>\n",
       "      <td>73,036.13</td>\n",
       "      <td>74.74</td>\n",
       "    </tr>\n",
       "    <tr>\n",
       "      <td>min</td>\n",
       "      <td>838.00</td>\n",
       "      <td>0.00</td>\n",
       "    </tr>\n",
       "    <tr>\n",
       "      <td>25%</td>\n",
       "      <td>28,524.00</td>\n",
       "      <td>12.00</td>\n",
       "    </tr>\n",
       "    <tr>\n",
       "      <td>50%</td>\n",
       "      <td>144,974.50</td>\n",
       "      <td>40.00</td>\n",
       "    </tr>\n",
       "    <tr>\n",
       "      <td>75%</td>\n",
       "      <td>184,262.25</td>\n",
       "      <td>80.00</td>\n",
       "    </tr>\n",
       "    <tr>\n",
       "      <td>max</td>\n",
       "      <td>223,439.00</td>\n",
       "      <td>1,700.00</td>\n",
       "    </tr>\n",
       "  </tbody>\n",
       "</table>\n",
       "</div>"
      ],
      "text/plain": [
       "              id    number\n",
       "count  15,366.00 15,366.00\n",
       "mean  119,720.07     59.55\n",
       "std    73,036.13     74.74\n",
       "min       838.00      0.00\n",
       "25%    28,524.00     12.00\n",
       "50%   144,974.50     40.00\n",
       "75%   184,262.25     80.00\n",
       "max   223,439.00  1,700.00"
      ]
     },
     "metadata": {},
     "output_type": "display_data"
    },
    {
     "name": "stdout",
     "output_type": "stream",
     "text": [
      "\n",
      "\u001b[1mОписательная статистика таблицы: Объекты общественного питания\u001b[0m\n"
     ]
    },
    {
     "data": {
      "text/html": [
       "<div>\n",
       "<style scoped>\n",
       "    .dataframe tbody tr th:only-of-type {\n",
       "        vertical-align: middle;\n",
       "    }\n",
       "\n",
       "    .dataframe tbody tr th {\n",
       "        vertical-align: top;\n",
       "    }\n",
       "\n",
       "    .dataframe thead th {\n",
       "        text-align: right;\n",
       "    }\n",
       "</style>\n",
       "<table border=\"1\" class=\"dataframe\">\n",
       "  <thead>\n",
       "    <tr style=\"text-align: right;\">\n",
       "      <th></th>\n",
       "      <th>object_name</th>\n",
       "      <th>chain</th>\n",
       "      <th>object_type</th>\n",
       "      <th>address</th>\n",
       "    </tr>\n",
       "  </thead>\n",
       "  <tbody>\n",
       "    <tr>\n",
       "      <td>count</td>\n",
       "      <td>15366</td>\n",
       "      <td>15366</td>\n",
       "      <td>15366</td>\n",
       "      <td>15366</td>\n",
       "    </tr>\n",
       "    <tr>\n",
       "      <td>unique</td>\n",
       "      <td>10393</td>\n",
       "      <td>2</td>\n",
       "      <td>9</td>\n",
       "      <td>9108</td>\n",
       "    </tr>\n",
       "    <tr>\n",
       "      <td>top</td>\n",
       "      <td>Столовая</td>\n",
       "      <td>нет</td>\n",
       "      <td>кафе</td>\n",
       "      <td>город Москва, Ходынский бульвар, дом 4</td>\n",
       "    </tr>\n",
       "    <tr>\n",
       "      <td>freq</td>\n",
       "      <td>267</td>\n",
       "      <td>12398</td>\n",
       "      <td>6099</td>\n",
       "      <td>95</td>\n",
       "    </tr>\n",
       "  </tbody>\n",
       "</table>\n",
       "</div>"
      ],
      "text/plain": [
       "       object_name  chain object_type                                 address\n",
       "count        15366  15366       15366                                   15366\n",
       "unique       10393      2           9                                    9108\n",
       "top       Столовая    нет        кафе  город Москва, Ходынский бульвар, дом 4\n",
       "freq           267  12398        6099                                      95"
      ]
     },
     "metadata": {},
     "output_type": "display_data"
    },
    {
     "name": "stdout",
     "output_type": "stream",
     "text": [
      "\n",
      "\u001b[1mПропуски в таблице: Объекты общественного питания\u001b[0m\n"
     ]
    },
    {
     "data": {
      "text/html": [
       "<div>\n",
       "<style scoped>\n",
       "    .dataframe tbody tr th:only-of-type {\n",
       "        vertical-align: middle;\n",
       "    }\n",
       "\n",
       "    .dataframe tbody tr th {\n",
       "        vertical-align: top;\n",
       "    }\n",
       "\n",
       "    .dataframe thead th {\n",
       "        text-align: right;\n",
       "    }\n",
       "</style>\n",
       "<table border=\"1\" class=\"dataframe\">\n",
       "  <thead>\n",
       "    <tr style=\"text-align: right;\">\n",
       "      <th></th>\n",
       "      <th>missing_values</th>\n",
       "      <th>% of total</th>\n",
       "    </tr>\n",
       "  </thead>\n",
       "  <tbody>\n",
       "    <tr>\n",
       "      <td>id</td>\n",
       "      <td>0</td>\n",
       "      <td>0.00</td>\n",
       "    </tr>\n",
       "    <tr>\n",
       "      <td>object_name</td>\n",
       "      <td>0</td>\n",
       "      <td>0.00</td>\n",
       "    </tr>\n",
       "    <tr>\n",
       "      <td>chain</td>\n",
       "      <td>0</td>\n",
       "      <td>0.00</td>\n",
       "    </tr>\n",
       "    <tr>\n",
       "      <td>object_type</td>\n",
       "      <td>0</td>\n",
       "      <td>0.00</td>\n",
       "    </tr>\n",
       "    <tr>\n",
       "      <td>address</td>\n",
       "      <td>0</td>\n",
       "      <td>0.00</td>\n",
       "    </tr>\n",
       "    <tr>\n",
       "      <td>number</td>\n",
       "      <td>0</td>\n",
       "      <td>0.00</td>\n",
       "    </tr>\n",
       "  </tbody>\n",
       "</table>\n",
       "</div>"
      ],
      "text/plain": [
       "             missing_values  % of total\n",
       "id                        0        0.00\n",
       "object_name               0        0.00\n",
       "chain                     0        0.00\n",
       "object_type               0        0.00\n",
       "address                   0        0.00\n",
       "number                    0        0.00"
      ]
     },
     "metadata": {},
     "output_type": "display_data"
    },
    {
     "name": "stdout",
     "output_type": "stream",
     "text": [
      "\n"
     ]
    }
   ],
   "source": [
    "# получаем информацию по таблицам\n",
    "for dfd in dict_df:\n",
    "    get_info(dfd, dict_df[dfd])"
   ]
  },
  {
   "cell_type": "code",
   "execution_count": 6,
   "metadata": {},
   "outputs": [
    {
     "data": {
      "text/html": [
       "<div>\n",
       "<style scoped>\n",
       "    .dataframe tbody tr th:only-of-type {\n",
       "        vertical-align: middle;\n",
       "    }\n",
       "\n",
       "    .dataframe tbody tr th {\n",
       "        vertical-align: top;\n",
       "    }\n",
       "\n",
       "    .dataframe thead th {\n",
       "        text-align: right;\n",
       "    }\n",
       "</style>\n",
       "<table border=\"1\" class=\"dataframe\">\n",
       "  <thead>\n",
       "    <tr style=\"text-align: right;\">\n",
       "      <th></th>\n",
       "      <th>id</th>\n",
       "      <th>number</th>\n",
       "    </tr>\n",
       "    <tr>\n",
       "      <th>object_name</th>\n",
       "      <th></th>\n",
       "      <th></th>\n",
       "    </tr>\n",
       "  </thead>\n",
       "  <tbody>\n",
       "    <tr>\n",
       "      <td>Beverly Hills Diner</td>\n",
       "      <td>1</td>\n",
       "      <td>88.00</td>\n",
       "    </tr>\n",
       "    <tr>\n",
       "      <td>Bierloga</td>\n",
       "      <td>1</td>\n",
       "      <td>75.00</td>\n",
       "    </tr>\n",
       "    <tr>\n",
       "      <td>Black &amp; White</td>\n",
       "      <td>1</td>\n",
       "      <td>40.00</td>\n",
       "    </tr>\n",
       "    <tr>\n",
       "      <td>BooBo</td>\n",
       "      <td>1</td>\n",
       "      <td>46.00</td>\n",
       "    </tr>\n",
       "    <tr>\n",
       "      <td>Bubbleology</td>\n",
       "      <td>1</td>\n",
       "      <td>6.00</td>\n",
       "    </tr>\n",
       "    <tr>\n",
       "      <td>...</td>\n",
       "      <td>...</td>\n",
       "      <td>...</td>\n",
       "    </tr>\n",
       "    <tr>\n",
       "      <td>кафе «Нияма»</td>\n",
       "      <td>1</td>\n",
       "      <td>80.00</td>\n",
       "    </tr>\n",
       "    <tr>\n",
       "      <td>кафе «Папа Джонс»</td>\n",
       "      <td>1</td>\n",
       "      <td>24.00</td>\n",
       "    </tr>\n",
       "    <tr>\n",
       "      <td>кафе «Шоколадница»</td>\n",
       "      <td>1</td>\n",
       "      <td>50.00</td>\n",
       "    </tr>\n",
       "    <tr>\n",
       "      <td>ресторан «Брудер»</td>\n",
       "      <td>1</td>\n",
       "      <td>86.00</td>\n",
       "    </tr>\n",
       "    <tr>\n",
       "      <td>ресторан «Якитория»</td>\n",
       "      <td>1</td>\n",
       "      <td>124.00</td>\n",
       "    </tr>\n",
       "  </tbody>\n",
       "</table>\n",
       "<p>450 rows × 2 columns</p>\n",
       "</div>"
      ],
      "text/plain": [
       "                     id  number\n",
       "object_name                    \n",
       "Beverly Hills Diner   1   88.00\n",
       "Bierloga              1   75.00\n",
       "Black & White         1   40.00\n",
       "BooBo                 1   46.00\n",
       "Bubbleology           1    6.00\n",
       "...                  ..     ...\n",
       "кафе «Нияма»          1   80.00\n",
       "кафе «Папа Джонс»     1   24.00\n",
       "кафе «Шоколадница»    1   50.00\n",
       "ресторан «Брудер»     1   86.00\n",
       "ресторан «Якитория»   1  124.00\n",
       "\n",
       "[450 rows x 2 columns]"
      ]
     },
     "execution_count": 6,
     "metadata": {},
     "output_type": "execute_result"
    }
   ],
   "source": [
    "# выводим на экран сетевые заведения с одним заведением \n",
    "group_name = (\n",
    "    rest_data.query('chain == \"да\"')\n",
    "    .groupby('object_name').agg({'id': 'count', 'number' : 'mean'})\n",
    "    .query('id == 1')\n",
    ") \n",
    "group_name"
   ]
  },
  {
   "cell_type": "markdown",
   "metadata": {},
   "source": [
    "В названиях заведений присутствуют слова кафе, ресторан, пицца, итд. Удалим их из названий."
   ]
  },
  {
   "cell_type": "code",
   "execution_count": 7,
   "metadata": {},
   "outputs": [],
   "source": [
    "rest_data['object_name'] = rest_data['object_name'].str.lower() # приводим названия заведений к нижнему регистру"
   ]
  },
  {
   "cell_type": "code",
   "execution_count": 8,
   "metadata": {},
   "outputs": [],
   "source": [
    "# создаём список слов которые будем удалять из названий\n",
    "str_er = (\n",
    "    ['ресторан ', 'кафе ', '«', '»', 'предприятие быстрого обслуживания ', ' пицца', 'пиццерия ', ' кофе', '.', \n",
    "     'быстрого питания ', 'при ', 'закусочная ', 'бар ', 'паб ', 'сеть магазинов ', 'предприятие ']\n",
    ") "
   ]
  },
  {
   "cell_type": "code",
   "execution_count": 9,
   "metadata": {},
   "outputs": [],
   "source": [
    "# создаём цикл удаляющий ненужные слова\n",
    "for  i in str_er:\n",
    "    rest_data['object_name'] = [s.replace(i, '') for s in rest_data['object_name']]"
   ]
  },
  {
   "cell_type": "markdown",
   "metadata": {},
   "source": [
    "### Шаг 2. Анализ данных"
   ]
  },
  {
   "cell_type": "markdown",
   "metadata": {},
   "source": [
    "#### Исследуйте соотношение видов объектов общественного питания по количеству. Постройте график."
   ]
  },
  {
   "cell_type": "code",
   "execution_count": 10,
   "metadata": {},
   "outputs": [
    {
     "data": {
      "text/html": [
       "<div>\n",
       "<style scoped>\n",
       "    .dataframe tbody tr th:only-of-type {\n",
       "        vertical-align: middle;\n",
       "    }\n",
       "\n",
       "    .dataframe tbody tr th {\n",
       "        vertical-align: top;\n",
       "    }\n",
       "\n",
       "    .dataframe thead th {\n",
       "        text-align: right;\n",
       "    }\n",
       "</style>\n",
       "<table border=\"1\" class=\"dataframe\">\n",
       "  <thead>\n",
       "    <tr style=\"text-align: right;\">\n",
       "      <th></th>\n",
       "      <th>count</th>\n",
       "    </tr>\n",
       "    <tr>\n",
       "      <th>object_type</th>\n",
       "      <th></th>\n",
       "    </tr>\n",
       "  </thead>\n",
       "  <tbody>\n",
       "    <tr>\n",
       "      <td>кафе</td>\n",
       "      <td>6099</td>\n",
       "    </tr>\n",
       "    <tr>\n",
       "      <td>столовая</td>\n",
       "      <td>2587</td>\n",
       "    </tr>\n",
       "    <tr>\n",
       "      <td>ресторан</td>\n",
       "      <td>2285</td>\n",
       "    </tr>\n",
       "    <tr>\n",
       "      <td>предприятие быстрого обслуживания</td>\n",
       "      <td>1923</td>\n",
       "    </tr>\n",
       "    <tr>\n",
       "      <td>бар</td>\n",
       "      <td>856</td>\n",
       "    </tr>\n",
       "    <tr>\n",
       "      <td>буфет</td>\n",
       "      <td>585</td>\n",
       "    </tr>\n",
       "    <tr>\n",
       "      <td>кафетерий</td>\n",
       "      <td>398</td>\n",
       "    </tr>\n",
       "    <tr>\n",
       "      <td>закусочная</td>\n",
       "      <td>360</td>\n",
       "    </tr>\n",
       "    <tr>\n",
       "      <td>магазин (отдел кулинарии)</td>\n",
       "      <td>273</td>\n",
       "    </tr>\n",
       "  </tbody>\n",
       "</table>\n",
       "</div>"
      ],
      "text/plain": [
       "                                   count\n",
       "object_type                             \n",
       "кафе                                6099\n",
       "столовая                            2587\n",
       "ресторан                            2285\n",
       "предприятие быстрого обслуживания   1923\n",
       "бар                                  856\n",
       "буфет                                585\n",
       "кафетерий                            398\n",
       "закусочная                           360\n",
       "магазин (отдел кулинарии)            273"
      ]
     },
     "execution_count": 10,
     "metadata": {},
     "output_type": "execute_result"
    }
   ],
   "source": [
    "# группируем rest_data по виду объектов общественного питания, сортируем по количеству объектов \n",
    "group_object_count = (\n",
    "    rest_data.groupby('object_type').agg({'id': 'count'})\n",
    "    .sort_values(by = 'id', ascending = False)\n",
    "    .rename(columns={'id': 'count'})\n",
    ")\n",
    "group_object_count"
   ]
  },
  {
   "cell_type": "code",
   "execution_count": 11,
   "metadata": {},
   "outputs": [
    {
     "data": {
      "image/png": "[encoded data removed]",
      "text/plain": [
       "<Figure size 720x720 with 1 Axes>"
      ]
     },
     "metadata": {},
     "output_type": "display_data"
    }
   ],
   "source": [
    "# строим круговую диаграмму соотношение видов объектов общественного питания по количеству\n",
    "pie, ax = plt.subplots(figsize=[10, 10])\n",
    "labels = group_object_count.index\n",
    "plt.pie(x = group_object_count['count'], autopct=\"%.1f%%\", labels=labels)\n",
    "plt.title(\"Круговая диаграмма соотношение видов объектов общественного питания по количеству\", fontsize=14)\n",
    "plt.show()"
   ]
  },
  {
   "cell_type": "markdown",
   "metadata": {},
   "source": [
    "Кафе занимают 39.7% от всех заведений общественного питания."
   ]
  },
  {
   "cell_type": "markdown",
   "metadata": {},
   "source": [
    "#### Исследуйте соотношение сетевых и несетевых заведений по количеству. Постройте график."
   ]
  },
  {
   "cell_type": "code",
   "execution_count": 12,
   "metadata": {},
   "outputs": [
    {
     "data": {
      "text/html": [
       "<div>\n",
       "<style scoped>\n",
       "    .dataframe tbody tr th:only-of-type {\n",
       "        vertical-align: middle;\n",
       "    }\n",
       "\n",
       "    .dataframe tbody tr th {\n",
       "        vertical-align: top;\n",
       "    }\n",
       "\n",
       "    .dataframe thead th {\n",
       "        text-align: right;\n",
       "    }\n",
       "</style>\n",
       "<table border=\"1\" class=\"dataframe\">\n",
       "  <thead>\n",
       "    <tr style=\"text-align: right;\">\n",
       "      <th></th>\n",
       "      <th>count</th>\n",
       "    </tr>\n",
       "    <tr>\n",
       "      <th>chain</th>\n",
       "      <th></th>\n",
       "    </tr>\n",
       "  </thead>\n",
       "  <tbody>\n",
       "    <tr>\n",
       "      <td>нет</td>\n",
       "      <td>12398</td>\n",
       "    </tr>\n",
       "    <tr>\n",
       "      <td>да</td>\n",
       "      <td>2968</td>\n",
       "    </tr>\n",
       "  </tbody>\n",
       "</table>\n",
       "</div>"
      ],
      "text/plain": [
       "       count\n",
       "chain       \n",
       "нет    12398\n",
       "да      2968"
      ]
     },
     "execution_count": 12,
     "metadata": {},
     "output_type": "execute_result"
    }
   ],
   "source": [
    "# группируем rest_data по сетевым и не сетевым объектам общественного питания, сортируем по количеству объектов \n",
    "group_chain = (\n",
    "    rest_data.groupby('chain').agg({'id': 'count'})\n",
    "    .sort_values(by = 'id', ascending = False)\n",
    "    .rename(columns={'id': 'count'})\n",
    ")\n",
    "group_chain"
   ]
  },
  {
   "cell_type": "code",
   "execution_count": 13,
   "metadata": {},
   "outputs": [
    {
     "data": {
      "image/png": "[encoded data removed]",
      "text/plain": [
       "<Figure size 720x720 with 1 Axes>"
      ]
     },
     "metadata": {},
     "output_type": "display_data"
    }
   ],
   "source": [
    "# строим круговую диаграмму соотношение сетевых и несетевых заведений по количеству\n",
    "pie, ax = plt.subplots(figsize=[10, 10])\n",
    "labels = group_chain.index\n",
    "plt.pie(x = group_chain['count'], autopct=\"%.1f%%\", labels=labels)\n",
    "plt.title(\"Круговая диаграмма соотношение сетевых и несетевых заведений по количеству\", fontsize=14)\n",
    "plt.show()"
   ]
  },
  {
   "cell_type": "markdown",
   "metadata": {},
   "source": [
    "Сетевых заведений всего 19.3%"
   ]
  },
  {
   "cell_type": "markdown",
   "metadata": {},
   "source": [
    "#### Для какого вида объекта общественного питания характерно сетевое распространение?"
   ]
  },
  {
   "cell_type": "code",
   "execution_count": 14,
   "metadata": {},
   "outputs": [
    {
     "data": {
      "text/html": [
       "<div>\n",
       "<style scoped>\n",
       "    .dataframe tbody tr th:only-of-type {\n",
       "        vertical-align: middle;\n",
       "    }\n",
       "\n",
       "    .dataframe tbody tr th {\n",
       "        vertical-align: top;\n",
       "    }\n",
       "\n",
       "    .dataframe thead th {\n",
       "        text-align: right;\n",
       "    }\n",
       "</style>\n",
       "<table border=\"1\" class=\"dataframe\">\n",
       "  <thead>\n",
       "    <tr style=\"text-align: right;\">\n",
       "      <th></th>\n",
       "      <th>%</th>\n",
       "    </tr>\n",
       "    <tr>\n",
       "      <th>object_type</th>\n",
       "      <th></th>\n",
       "    </tr>\n",
       "  </thead>\n",
       "  <tbody>\n",
       "    <tr>\n",
       "      <td>предприятие быстрого обслуживания</td>\n",
       "      <td>41.10</td>\n",
       "    </tr>\n",
       "    <tr>\n",
       "      <td>магазин (отдел кулинарии)</td>\n",
       "      <td>28.60</td>\n",
       "    </tr>\n",
       "    <tr>\n",
       "      <td>ресторан</td>\n",
       "      <td>23.80</td>\n",
       "    </tr>\n",
       "    <tr>\n",
       "      <td>кафе</td>\n",
       "      <td>22.90</td>\n",
       "    </tr>\n",
       "    <tr>\n",
       "      <td>закусочная</td>\n",
       "      <td>15.60</td>\n",
       "    </tr>\n",
       "    <tr>\n",
       "      <td>кафетерий</td>\n",
       "      <td>13.10</td>\n",
       "    </tr>\n",
       "    <tr>\n",
       "      <td>бар</td>\n",
       "      <td>4.30</td>\n",
       "    </tr>\n",
       "    <tr>\n",
       "      <td>буфет</td>\n",
       "      <td>1.90</td>\n",
       "    </tr>\n",
       "    <tr>\n",
       "      <td>столовая</td>\n",
       "      <td>0.10</td>\n",
       "    </tr>\n",
       "  </tbody>\n",
       "</table>\n",
       "</div>"
      ],
      "text/plain": [
       "                                      %\n",
       "object_type                            \n",
       "предприятие быстрого обслуживания 41.10\n",
       "магазин (отдел кулинарии)         28.60\n",
       "ресторан                          23.80\n",
       "кафе                              22.90\n",
       "закусочная                        15.60\n",
       "кафетерий                         13.10\n",
       "бар                                4.30\n",
       "буфет                              1.90\n",
       "столовая                           0.10"
      ]
     },
     "execution_count": 14,
     "metadata": {},
     "output_type": "execute_result"
    }
   ],
   "source": [
    "group_object = rest_data.query('chain == \"да\"').groupby('object_type').agg({'id': 'count'}) # группировка по типу объектов сетевых\n",
    "group_object = group_object.merge(rest_data.groupby('object_type').agg({'id': 'count'}), on = 'object_type') # объединение датафреймов group_object и rest_data  \n",
    "group_object['%'] = round((group_object['id_x']/group_object['id_y']*100),1) # расчет процентов\n",
    "group_object[['%']].sort_values(by = '%', ascending = False) # сортировка по процентам"
   ]
  },
  {
   "cell_type": "markdown",
   "metadata": {},
   "source": [
    "Cетевыми чаще всего оказываются предприятия предприятие быстрого обслуживания 41.1%"
   ]
  },
  {
   "cell_type": "markdown",
   "metadata": {},
   "source": [
    "#### Что характерно для сетевых заведений: много заведений с небольшим числом посадочных мест в каждом или мало заведений с большим количеством посадочных мест?"
   ]
  },
  {
   "cell_type": "code",
   "execution_count": 15,
   "metadata": {},
   "outputs": [],
   "source": [
    "# группируем по названию заведения сетевых объектов\n",
    "group_name = (\n",
    "    rest_data.query('chain == \"да\"')\n",
    "    .groupby('object_name').agg({'id': 'count', 'number' : 'mean'})\n",
    "    .sort_values(by = 'id', ascending = False)\n",
    ")"
   ]
  },
  {
   "cell_type": "code",
   "execution_count": 16,
   "metadata": {},
   "outputs": [
    {
     "data": {
      "image/png": "[encoded data removed]",
      "text/plain": [
       "<Figure size 432x432 with 3 Axes>"
      ]
     },
     "metadata": {
      "needs_background": "light"
     },
     "output_type": "display_data"
    }
   ],
   "source": [
    "# строим график зависимости количества посадочных мест от количества заведений\n",
    "sns.jointplot(x = 'id', y = 'number', data = group_name.query('id != 1'))\n",
    "plt.show()"
   ]
  },
  {
   "cell_type": "code",
   "execution_count": 17,
   "metadata": {},
   "outputs": [
    {
     "data": {
      "image/png": "[encoded data removed]",
      "text/plain": [
       "<Figure size 1152x432 with 1 Axes>"
      ]
     },
     "metadata": {
      "needs_background": "light"
     },
     "output_type": "display_data"
    }
   ],
   "source": [
    "plt.figure(figsize=(16, 6))\n",
    "plt.title('Распределение количества посадочных мест в сетевых заведениях')\n",
    "sns.distplot(rest_data.query('chain == \"да\"')['number'], bins=100)\n",
    "plt.xlim(0, 300)\n",
    "plt.xlabel('количество посадочных мест')\n",
    "plt.show()"
   ]
  },
  {
   "cell_type": "markdown",
   "metadata": {},
   "source": [
    "В Москве для сетевых заведений характерно мало заведений с небольшим числом посадочных мест в каждом."
   ]
  },
  {
   "cell_type": "markdown",
   "metadata": {},
   "source": [
    "#### Для каждого вида объекта общественного питания опишите среднее количество посадочных мест. Какой вид предоставляет в среднем самое большое количество посадочных мест? Постройте графики."
   ]
  },
  {
   "cell_type": "code",
   "execution_count": 18,
   "metadata": {},
   "outputs": [],
   "source": [
    "# группируем по типу заведений\n",
    "group_object = (\n",
    "    rest_data.groupby('object_type', as_index=False).agg({'number' : 'mean'})\n",
    "    .rename(columns={'number': 'avg_number'})\n",
    "    .sort_values(by = 'avg_number', ascending = False)\n",
    ")"
   ]
  },
  {
   "cell_type": "code",
   "execution_count": 19,
   "metadata": {},
   "outputs": [
    {
     "data": {
      "image/png": "[encoded data removed]",
      "text/plain": [
       "<Figure size 1152x432 with 1 Axes>"
      ]
     },
     "metadata": {
      "needs_background": "light"
     },
     "output_type": "display_data"
    }
   ],
   "source": [
    "# строим график среднего количества мест\n",
    "fig = plt.figure(figsize=(16, 6))\n",
    "plt.bar(group_object['object_type'], group_object['avg_number'])\n",
    "fig.suptitle('График среднего количества мест')\n",
    "plt.xticks(rotation = -45)\n",
    "plt.ylabel('среднее количество посадочных мест')\n",
    "plt.xlabel('тип объекта общественного питания')\n",
    "#fig.savefig('test.jpg')\n",
    "plt.show()"
   ]
  },
  {
   "cell_type": "markdown",
   "metadata": {},
   "source": [
    "В столовых среднее количество мест самое большое."
   ]
  },
  {
   "cell_type": "markdown",
   "metadata": {},
   "source": [
    "#### Выделите в отдельный столбец информацию об улице из столбца address."
   ]
  },
  {
   "cell_type": "code",
   "execution_count": 20,
   "metadata": {},
   "outputs": [
    {
     "data": {
      "text/html": [
       "<div>\n",
       "<style scoped>\n",
       "    .dataframe tbody tr th:only-of-type {\n",
       "        vertical-align: middle;\n",
       "    }\n",
       "\n",
       "    .dataframe tbody tr th {\n",
       "        vertical-align: top;\n",
       "    }\n",
       "\n",
       "    .dataframe thead th {\n",
       "        text-align: right;\n",
       "    }\n",
       "</style>\n",
       "<table border=\"1\" class=\"dataframe\">\n",
       "  <thead>\n",
       "    <tr style=\"text-align: right;\">\n",
       "      <th></th>\n",
       "      <th>id</th>\n",
       "      <th>object_name</th>\n",
       "      <th>chain</th>\n",
       "      <th>object_type</th>\n",
       "      <th>address</th>\n",
       "      <th>number</th>\n",
       "      <th>street</th>\n",
       "    </tr>\n",
       "  </thead>\n",
       "  <tbody>\n",
       "    <tr>\n",
       "      <td>0</td>\n",
       "      <td>151635</td>\n",
       "      <td>сметана</td>\n",
       "      <td>нет</td>\n",
       "      <td>кафе</td>\n",
       "      <td>город Москва, улица Егора Абакумова, дом 9</td>\n",
       "      <td>48</td>\n",
       "      <td>улица Егора Абакумова</td>\n",
       "    </tr>\n",
       "    <tr>\n",
       "      <td>1</td>\n",
       "      <td>77874</td>\n",
       "      <td>родник</td>\n",
       "      <td>нет</td>\n",
       "      <td>кафе</td>\n",
       "      <td>город Москва, улица Талалихина, дом 2/1, корпус 1</td>\n",
       "      <td>35</td>\n",
       "      <td>улица Талалихина</td>\n",
       "    </tr>\n",
       "    <tr>\n",
       "      <td>2</td>\n",
       "      <td>24309</td>\n",
       "      <td>академия</td>\n",
       "      <td>нет</td>\n",
       "      <td>кафе</td>\n",
       "      <td>город Москва, Абельмановская улица, дом 6</td>\n",
       "      <td>95</td>\n",
       "      <td>Абельмановская улица</td>\n",
       "    </tr>\n",
       "    <tr>\n",
       "      <td>3</td>\n",
       "      <td>21894</td>\n",
       "      <td>пиццетория</td>\n",
       "      <td>да</td>\n",
       "      <td>кафе</td>\n",
       "      <td>город Москва, Абрамцевская улица, дом 1</td>\n",
       "      <td>40</td>\n",
       "      <td>Абрамцевская улица</td>\n",
       "    </tr>\n",
       "    <tr>\n",
       "      <td>4</td>\n",
       "      <td>119365</td>\n",
       "      <td>вишневая метель</td>\n",
       "      <td>нет</td>\n",
       "      <td>кафе</td>\n",
       "      <td>город Москва, Абрамцевская улица, дом 9, корпус 1</td>\n",
       "      <td>50</td>\n",
       "      <td>Абрамцевская улица</td>\n",
       "    </tr>\n",
       "    <tr>\n",
       "      <td>5</td>\n",
       "      <td>27429</td>\n",
       "      <td>стол гоу сош № 1051</td>\n",
       "      <td>нет</td>\n",
       "      <td>столовая</td>\n",
       "      <td>город Москва, Абрамцевская улица, дом 15, корп...</td>\n",
       "      <td>240</td>\n",
       "      <td>Абрамцевская улица</td>\n",
       "    </tr>\n",
       "    <tr>\n",
       "      <td>6</td>\n",
       "      <td>148815</td>\n",
       "      <td>брусника</td>\n",
       "      <td>да</td>\n",
       "      <td>кафе</td>\n",
       "      <td>город Москва, переулок Сивцев Вражек, дом 6/2</td>\n",
       "      <td>10</td>\n",
       "      <td>переулок Сивцев Вражек</td>\n",
       "    </tr>\n",
       "    <tr>\n",
       "      <td>7</td>\n",
       "      <td>20957</td>\n",
       "      <td>буфет мтуси</td>\n",
       "      <td>нет</td>\n",
       "      <td>столовая</td>\n",
       "      <td>город Москва, Авиамоторная улица, дом 8, строе...</td>\n",
       "      <td>90</td>\n",
       "      <td>Авиамоторная улица</td>\n",
       "    </tr>\n",
       "    <tr>\n",
       "      <td>8</td>\n",
       "      <td>20958</td>\n",
       "      <td>кпф семья-1</td>\n",
       "      <td>нет</td>\n",
       "      <td>столовая</td>\n",
       "      <td>город Москва, Авиамоторная улица, дом 8, строе...</td>\n",
       "      <td>150</td>\n",
       "      <td>Авиамоторная улица</td>\n",
       "    </tr>\n",
       "    <tr>\n",
       "      <td>9</td>\n",
       "      <td>28858</td>\n",
       "      <td>столовая мтуси</td>\n",
       "      <td>нет</td>\n",
       "      <td>столовая</td>\n",
       "      <td>город Москва, Авиамоторная улица, дом 8, строе...</td>\n",
       "      <td>120</td>\n",
       "      <td>Авиамоторная улица</td>\n",
       "    </tr>\n",
       "  </tbody>\n",
       "</table>\n",
       "</div>"
      ],
      "text/plain": [
       "       id          object_name chain object_type  \\\n",
       "0  151635              сметана   нет        кафе   \n",
       "1   77874               родник   нет        кафе   \n",
       "2   24309             академия   нет        кафе   \n",
       "3   21894           пиццетория    да        кафе   \n",
       "4  119365      вишневая метель   нет        кафе   \n",
       "5   27429  стол гоу сош № 1051   нет    столовая   \n",
       "6  148815             брусника    да        кафе   \n",
       "7   20957          буфет мтуси   нет    столовая   \n",
       "8   20958          кпф семья-1   нет    столовая   \n",
       "9   28858       столовая мтуси   нет    столовая   \n",
       "\n",
       "                                             address  number  \\\n",
       "0         город Москва, улица Егора Абакумова, дом 9      48   \n",
       "1  город Москва, улица Талалихина, дом 2/1, корпус 1      35   \n",
       "2          город Москва, Абельмановская улица, дом 6      95   \n",
       "3            город Москва, Абрамцевская улица, дом 1      40   \n",
       "4  город Москва, Абрамцевская улица, дом 9, корпус 1      50   \n",
       "5  город Москва, Абрамцевская улица, дом 15, корп...     240   \n",
       "6      город Москва, переулок Сивцев Вражек, дом 6/2      10   \n",
       "7  город Москва, Авиамоторная улица, дом 8, строе...      90   \n",
       "8  город Москва, Авиамоторная улица, дом 8, строе...     150   \n",
       "9  город Москва, Авиамоторная улица, дом 8, строе...     120   \n",
       "\n",
       "                   street  \n",
       "0   улица Егора Абакумова  \n",
       "1        улица Талалихина  \n",
       "2    Абельмановская улица  \n",
       "3      Абрамцевская улица  \n",
       "4      Абрамцевская улица  \n",
       "5      Абрамцевская улица  \n",
       "6  переулок Сивцев Вражек  \n",
       "7      Авиамоторная улица  \n",
       "8      Авиамоторная улица  \n",
       "9      Авиамоторная улица  "
      ]
     },
     "execution_count": 20,
     "metadata": {},
     "output_type": "execute_result"
    }
   ],
   "source": [
    "# выделяем из столбца address информацию об улице\n",
    "rest_data['street'] = rest_data['address'].apply(lambda x: x.split(', дом')[0]) \n",
    "rest_data['street'] = rest_data['street'].apply(lambda x: x.split(', строение')[0])\n",
    "#rest_data['street'] = rest_data['street'].apply(lambda x: x.split(', корпус')[0])\n",
    "#rest_data['street'] = rest_data['street'].apply(lambda x: x.split(', владение')[0])\n",
    "rest_data['street'] = rest_data['street'].apply(lambda x: x.split(',')[-1])\n",
    "rest_data['street'] = [s.replace(' Московской Кольцевой Автодороги', '') for s in rest_data['street']]\n",
    "rest_data['street'] = rest_data['street'].str.strip()\n",
    "\n",
    "rest_data.head(10)"
   ]
  },
  {
   "cell_type": "markdown",
   "metadata": {},
   "source": [
    "#### Постройте график топ-10 улиц по количеству объектов общественного питания. Воспользуйтесь внешней информацией и ответьте на вопрос — в каких районах Москвы находятся эти улицы?"
   ]
  },
  {
   "cell_type": "code",
   "execution_count": 21,
   "metadata": {},
   "outputs": [],
   "source": [
    "# группируем по улице и сортируем в порядке убывания колтчества объектов\n",
    "top = (\n",
    "    rest_data.groupby('street', as_index=False).agg({'id': 'count'})\n",
    "    .sort_values(by = 'id', ascending = False)\n",
    "    .rename(columns={'id': 'count'})\n",
    ")\n",
    "top_10 = top.head(10)"
   ]
  },
  {
   "cell_type": "code",
   "execution_count": 22,
   "metadata": {},
   "outputs": [
    {
     "data": {
      "image/png": "[encoded data removed]",
      "text/plain": [
       "<Figure size 1152x432 with 1 Axes>"
      ]
     },
     "metadata": {
      "needs_background": "light"
     },
     "output_type": "display_data"
    }
   ],
   "source": [
    "# строим график топ 10 улиц по количеству объектов общественного питания\n",
    "fig = plt.figure(figsize=(16, 6))\n",
    "plt.bar(top_10['street'], top_10['count'])\n",
    "fig.suptitle('Топ 10 улиц по количеству объектов')\n",
    "plt.xticks(rotation = -45)\n",
    "plt.ylabel('количество объектов')\n",
    "plt.xlabel('ултица')\n",
    "#fig.savefig('test.jpg')\n",
    "plt.show()"
   ]
  },
  {
   "cell_type": "markdown",
   "metadata": {},
   "source": [
    "Больше всего заведений общественного питания на проспекте Мира."
   ]
  },
  {
   "cell_type": "code",
   "execution_count": 23,
   "metadata": {},
   "outputs": [],
   "source": [
    "# экспортируем таблицу с улицами и районами Москвы и сохраним в street_districts\n",
    "spredsheet_id = '1nSyd373vP3xot9SeSApujoP6oFwkb3-n8fFklGV4OFU'\n",
    "file_name = 'https://docs.google.com/spreadsheets/d/{}/export?format=csv'.format(spredsheet_id)\n",
    "r = requests.get(file_name)\n",
    "street_districts = pd.read_csv(BytesIO(r.content))\n",
    "street_districts['street'] = [s.replace('МКАД, ', '') for s in street_districts['street']]"
   ]
  },
  {
   "cell_type": "code",
   "execution_count": null,
   "metadata": {},
   "outputs": [],
   "source": []
  },
  {
   "cell_type": "code",
   "execution_count": 24,
   "metadata": {},
   "outputs": [],
   "source": [
    "top_10 = top_10.merge(street_districts, on='street',  how='left') # объединим таблицы top_10 и street_districts"
   ]
  },
  {
   "cell_type": "code",
   "execution_count": 25,
   "metadata": {},
   "outputs": [
    {
     "name": "stdout",
     "output_type": "stream",
     "text": [
      "Пропусков с столбце area: 0\n"
     ]
    }
   ],
   "source": [
    "print('Пропусков с столбце area:', top_10['area'].isna().sum())"
   ]
  },
  {
   "cell_type": "code",
   "execution_count": 26,
   "metadata": {},
   "outputs": [
    {
     "data": {
      "text/plain": [
       "array(['Алексеевский район', 'Ярославский Район', 'Район Марьина роща',\n",
       "       'Останкинский район', 'Район Ростокино', 'Район Свиблово',\n",
       "       'Мещанский район', 'Академический район', 'Район Черемушки',\n",
       "       'Район Ясенево', 'Район Коньково', 'Обручевский район',\n",
       "       'Район Теплый Стан', 'Район Аэропорт', 'Район Беговой',\n",
       "       'Хорошевский район', 'Район Сокол', 'Пресненский район',\n",
       "       'Район Чертаново Центральное', 'Район Чертаново Северное',\n",
       "       'Район Чертаново Южное', 'Донской район',\n",
       "       'Район Нагатино-Садовники', 'Нагорный район',\n",
       "       'Район Северное Бутово', 'Район Южное Бутово',\n",
       "       'Район Проспект Вернадского', 'Район Тропарево-Никулино',\n",
       "       'Район Гагаринский', 'Ломоносовский район', 'Район Якиманка',\n",
       "       'Район Раменки', 'Район Дорогомилово', 'Район Фили-Давыдково',\n",
       "       'Район Москворечье-Сабурово', 'Район Орехово-Борисово Южное',\n",
       "       'Район Орехово-Борисово Северное'], dtype=object)"
      ]
     },
     "execution_count": 26,
     "metadata": {},
     "output_type": "execute_result"
    }
   ],
   "source": [
    "top_10['area'].unique() # выведем на экран уникальные названия районов"
   ]
  },
  {
   "cell_type": "markdown",
   "metadata": {},
   "source": [
    "#### Найдите число улиц с одним объектом общественного питания. Воспользуйтесь внешней информацией и ответьте на вопрос — в каких районах Москвы находятся эти улицы?"
   ]
  },
  {
   "cell_type": "code",
   "execution_count": 28,
   "metadata": {},
   "outputs": [],
   "source": [
    "top_one_rest = top.query('count == 1') # найдём все улицы на которых всего один объект общественного питания и сохраним top_one_rest"
   ]
  },
  {
   "cell_type": "code",
   "execution_count": 29,
   "metadata": {},
   "outputs": [],
   "source": [
    "top_one_rest = top_one_rest.merge(street_districts, on='street',  how='left') # объединим таблицы top_one_rest и street_districts"
   ]
  },
  {
   "cell_type": "code",
   "execution_count": 30,
   "metadata": {},
   "outputs": [
    {
     "name": "stdout",
     "output_type": "stream",
     "text": [
      "Пропусков с столбце area: 218\n"
     ]
    }
   ],
   "source": [
    "print('Пропусков с столбце area:', top_one_rest['area'].isna().sum())"
   ]
  },
  {
   "cell_type": "code",
   "execution_count": 31,
   "metadata": {},
   "outputs": [
    {
     "data": {
      "text/html": [
       "<div>\n",
       "<style scoped>\n",
       "    .dataframe tbody tr th:only-of-type {\n",
       "        vertical-align: middle;\n",
       "    }\n",
       "\n",
       "    .dataframe tbody tr th {\n",
       "        vertical-align: top;\n",
       "    }\n",
       "\n",
       "    .dataframe thead th {\n",
       "        text-align: right;\n",
       "    }\n",
       "</style>\n",
       "<table border=\"1\" class=\"dataframe\">\n",
       "  <thead>\n",
       "    <tr style=\"text-align: right;\">\n",
       "      <th></th>\n",
       "      <th>street</th>\n",
       "      <th>count</th>\n",
       "      <th>areaid</th>\n",
       "      <th>okrug</th>\n",
       "      <th>area</th>\n",
       "    </tr>\n",
       "  </thead>\n",
       "  <tbody>\n",
       "    <tr>\n",
       "      <td>11</td>\n",
       "      <td>39-й километр Калужского шоссе</td>\n",
       "      <td>1</td>\n",
       "      <td>nan</td>\n",
       "      <td>NaN</td>\n",
       "      <td>NaN</td>\n",
       "    </tr>\n",
       "    <tr>\n",
       "      <td>12</td>\n",
       "      <td>улица Капотня</td>\n",
       "      <td>1</td>\n",
       "      <td>nan</td>\n",
       "      <td>NaN</td>\n",
       "      <td>NaN</td>\n",
       "    </tr>\n",
       "    <tr>\n",
       "      <td>24</td>\n",
       "      <td>43-й километр МКАД</td>\n",
       "      <td>1</td>\n",
       "      <td>nan</td>\n",
       "      <td>NaN</td>\n",
       "      <td>NaN</td>\n",
       "    </tr>\n",
       "    <tr>\n",
       "      <td>38</td>\n",
       "      <td>улица Корнея Чуковского</td>\n",
       "      <td>1</td>\n",
       "      <td>nan</td>\n",
       "      <td>NaN</td>\n",
       "      <td>NaN</td>\n",
       "    </tr>\n",
       "    <tr>\n",
       "      <td>80</td>\n",
       "      <td>Молодежная улица</td>\n",
       "      <td>1</td>\n",
       "      <td>nan</td>\n",
       "      <td>NaN</td>\n",
       "      <td>NaN</td>\n",
       "    </tr>\n",
       "    <tr>\n",
       "      <td>...</td>\n",
       "      <td>...</td>\n",
       "      <td>...</td>\n",
       "      <td>...</td>\n",
       "      <td>...</td>\n",
       "      <td>...</td>\n",
       "    </tr>\n",
       "    <tr>\n",
       "      <td>788</td>\n",
       "      <td>корпус 834В</td>\n",
       "      <td>1</td>\n",
       "      <td>nan</td>\n",
       "      <td>NaN</td>\n",
       "      <td>NaN</td>\n",
       "    </tr>\n",
       "    <tr>\n",
       "      <td>789</td>\n",
       "      <td>корпус 844</td>\n",
       "      <td>1</td>\n",
       "      <td>nan</td>\n",
       "      <td>NaN</td>\n",
       "      <td>NaN</td>\n",
       "    </tr>\n",
       "    <tr>\n",
       "      <td>790</td>\n",
       "      <td>корпус 855</td>\n",
       "      <td>1</td>\n",
       "      <td>nan</td>\n",
       "      <td>NaN</td>\n",
       "      <td>NaN</td>\n",
       "    </tr>\n",
       "    <tr>\n",
       "      <td>791</td>\n",
       "      <td>корпус 864</td>\n",
       "      <td>1</td>\n",
       "      <td>nan</td>\n",
       "      <td>NaN</td>\n",
       "      <td>NaN</td>\n",
       "    </tr>\n",
       "    <tr>\n",
       "      <td>792</td>\n",
       "      <td>корпус 912</td>\n",
       "      <td>1</td>\n",
       "      <td>nan</td>\n",
       "      <td>NaN</td>\n",
       "      <td>NaN</td>\n",
       "    </tr>\n",
       "  </tbody>\n",
       "</table>\n",
       "<p>218 rows × 5 columns</p>\n",
       "</div>"
      ],
      "text/plain": [
       "                             street  count  areaid okrug area\n",
       "11   39-й километр Калужского шоссе      1     nan   NaN  NaN\n",
       "12                    улица Капотня      1     nan   NaN  NaN\n",
       "24               43-й километр МКАД      1     nan   NaN  NaN\n",
       "38          улица Корнея Чуковского      1     nan   NaN  NaN\n",
       "80                 Молодежная улица      1     nan   NaN  NaN\n",
       "..                              ...    ...     ...   ...  ...\n",
       "788                     корпус 834В      1     nan   NaN  NaN\n",
       "789                      корпус 844      1     nan   NaN  NaN\n",
       "790                      корпус 855      1     nan   NaN  NaN\n",
       "791                      корпус 864      1     nan   NaN  NaN\n",
       "792                      корпус 912      1     nan   NaN  NaN\n",
       "\n",
       "[218 rows x 5 columns]"
      ]
     },
     "execution_count": 31,
     "metadata": {},
     "output_type": "execute_result"
    }
   ],
   "source": [
    "top_one_rest[top_one_rest['area'].isna()]"
   ]
  },
  {
   "cell_type": "code",
   "execution_count": 35,
   "metadata": {},
   "outputs": [
    {
     "data": {
      "text/html": [
       "<div>\n",
       "<style scoped>\n",
       "    .dataframe tbody tr th:only-of-type {\n",
       "        vertical-align: middle;\n",
       "    }\n",
       "\n",
       "    .dataframe tbody tr th {\n",
       "        vertical-align: top;\n",
       "    }\n",
       "\n",
       "    .dataframe thead th {\n",
       "        text-align: right;\n",
       "    }\n",
       "</style>\n",
       "<table border=\"1\" class=\"dataframe\">\n",
       "  <thead>\n",
       "    <tr style=\"text-align: right;\">\n",
       "      <th></th>\n",
       "      <th>id</th>\n",
       "      <th>object_name</th>\n",
       "      <th>chain</th>\n",
       "      <th>object_type</th>\n",
       "      <th>address</th>\n",
       "      <th>number</th>\n",
       "      <th>street</th>\n",
       "    </tr>\n",
       "  </thead>\n",
       "  <tbody>\n",
       "    <tr>\n",
       "      <td>12457</td>\n",
       "      <td>198974</td>\n",
       "      <td>брашна</td>\n",
       "      <td>нет</td>\n",
       "      <td>кафе</td>\n",
       "      <td>город Москва, город Зеленоград, корпус 834В</td>\n",
       "      <td>45</td>\n",
       "      <td>корпус 834В</td>\n",
       "    </tr>\n",
       "  </tbody>\n",
       "</table>\n",
       "</div>"
      ],
      "text/plain": [
       "           id object_name chain object_type  \\\n",
       "12457  198974      брашна   нет        кафе   \n",
       "\n",
       "                                           address  number       street  \n",
       "12457  город Москва, город Зеленоград, корпус 834В      45  корпус 834В  "
      ]
     },
     "execution_count": 35,
     "metadata": {},
     "output_type": "execute_result"
    }
   ],
   "source": [
    "rest_data.query('street == \"корпус 834В\"')"
   ]
  },
  {
   "cell_type": "code",
   "execution_count": 32,
   "metadata": {},
   "outputs": [
    {
     "data": {
      "text/plain": [
       "array(['Нагорный район', 'Южнопортовый Район', 'Район Лианозово',\n",
       "       'Рязанский район', 'Савеловский район', 'Район Южное Бутово',\n",
       "       'Район Южное Тушино', 'Район Лефортово', 'Район Хамовники',\n",
       "       'Тимирязевский Район', 'Район Ново-Переделкино', nan,\n",
       "       'Район Северный', 'Район Строгино', 'Район Чертаново Южное',\n",
       "       'Район Сокольники', 'Район Марьина роща', 'Можайский Район',\n",
       "       'Район Богородское', 'Тверской район', 'Красносельский район',\n",
       "       'Район Москворечье-Сабурово', 'Даниловский район',\n",
       "       'Район Отрадное', 'Район Замоскворечье', 'Район Печатники',\n",
       "       'Таганский район', 'Панфиловский район', 'Пресненский район',\n",
       "       'Район Арбат', 'Район Кунцево', 'Алексеевский район',\n",
       "       'Мещанский район', 'Район Преображенское', 'Район Соколиная Гора',\n",
       "       'Район Фили-Давыдково', 'Головинский район', 'Район Ясенево',\n",
       "       'Район Гагаринский', 'Район Якиманка', 'Район Крюково',\n",
       "       'Район Щукино', 'Бескудниковский Район', 'Басманный район',\n",
       "       'Нижегородский район', 'Район Северное Бутово',\n",
       "       'Район Дорогомилово', 'Район Аэропорт', 'Район Сокол',\n",
       "       'Район Внуково', 'Район Зюзино', 'Район Бирюлево Восточное',\n",
       "       'Алтуфьевский район', 'Район Коптево', 'Войковский Район',\n",
       "       'Район Новогиреево', 'Район Солнцево', 'Район Выхино-Жулебино',\n",
       "       'Район Митино', 'Район Измайлово', 'Дмитровский район',\n",
       "       'Район Черемушки', 'Район Западное Дегунино', 'Район Люблино',\n",
       "       'Бутырский район', 'Район Котловка', 'Район Хорошево-Мневники',\n",
       "       'Район Царицыно', 'Лосиноостровский район', 'Район Марьино',\n",
       "       'Донской район', 'Район Беговой', 'Район Восточное Измайлово',\n",
       "       'Ярославский Район', 'Бабушкинский район',\n",
       "       'Район Северное Измайлово', 'Район Гольяново', 'Район Ивановское',\n",
       "       'Район Кузьминки', 'Район Свиблово', 'Район Левобережный',\n",
       "       'Молжаниновский район', 'Район Покровское-Стрешнево',\n",
       "       'Район Очаково-Матвеевское', 'Район Раменки', 'Район Ростокино',\n",
       "       'Район Текстильщики', 'Район Перово', 'Хорошевский район',\n",
       "       'Район Косино-Ухтомский', 'Район Бирюлево Западное',\n",
       "       'Район Орехово-Борисово Южное', 'Район Матушкино-Савелки',\n",
       "       'Район Филевский Парк', 'Останкинский район', 'Район Куркино',\n",
       "       'Район Северное Медведково', 'Район Южное Медведково',\n",
       "       'Район Восточный', 'Район Чертаново Северное',\n",
       "       'Район Метрогородок', 'Район Коньково', 'Район Марфино',\n",
       "       'Обручевский район'], dtype=object)"
      ]
     },
     "execution_count": 32,
     "metadata": {},
     "output_type": "execute_result"
    }
   ],
   "source": [
    "top_one_rest['area'].unique() # выведем на экран уникальные названия районов"
   ]
  },
  {
   "cell_type": "markdown",
   "metadata": {},
   "source": [
    "#### Посмотрите на распределение количества посадочных мест для улиц с большим количеством объектов общественного питания. Какие закономерности можно выявить?"
   ]
  },
  {
   "cell_type": "code",
   "execution_count": 33,
   "metadata": {},
   "outputs": [
    {
     "data": {
      "text/plain": [
       "array(['проспект Мира', 'Профсоюзная улица', 'Ленинградский проспект',\n",
       "       'Пресненская набережная', 'Варшавское шоссе', 'Ленинский проспект',\n",
       "       'проспект Вернадского', 'Кутузовский проспект', 'Каширское шоссе',\n",
       "       'Ходынский бульвар'], dtype=object)"
      ]
     },
     "execution_count": 33,
     "metadata": {},
     "output_type": "execute_result"
    }
   ],
   "source": [
    "street_top_10 = top_10['street'].unique() # создади список улиц топ 10\n",
    "street_top_10"
   ]
  },
  {
   "cell_type": "code",
   "execution_count": 34,
   "metadata": {},
   "outputs": [
    {
     "data": {
      "image/png": "[encoded data removed]",
      "text/plain": [
       "<Figure size 864x504 with 1 Axes>"
      ]
     },
     "metadata": {
      "needs_background": "light"
     },
     "output_type": "display_data"
    }
   ],
   "source": [
    "# строим распределение количества посадочных мест топ-10 улиц\n",
    "rest_data_top_10 = rest_data.query('street in @street_top_10')\n",
    "plt.figure(figsize=(12, 7))\n",
    "plt.xlim(0,400)\n",
    "#plt.title('Распределение количества посадочных мест топ-10 улиц')\n",
    "sns.boxplot(x=\"number\", y=\"street\", data=rest_data_top_10, orient='h') \n",
    "plt.xlabel('количество мест')\n",
    "plt.ylabel('')\n",
    "plt.show()"
   ]
  },
  {
   "cell_type": "markdown",
   "metadata": {},
   "source": [
    "Большинство заведений на улицах топ 10 вмещают не более 50 человек."
   ]
  },
  {
   "cell_type": "markdown",
   "metadata": {},
   "source": [
    "#### Вывод"
   ]
  },
  {
   "cell_type": "markdown",
   "metadata": {},
   "source": [
    "При анализ рынка заведений общественного питания Москвы было обнаружено:\n",
    "1. Кафе самое распространенное заведение общественного питания.\n",
    "2. Пятая часть заведений общественного питания в Москве сетевые.\n",
    "3. Cетевыми чаще всего оказываются предприятия быстрого обслуживания. \n",
    "4. В Москве для сетевых заведений характерно мало заведений с небольшим числом посадочных мест в каждом.\n",
    "5. Больше всего посадочных мест в столовых.\n",
    "6. Больше всего заведений общественного питания находится на больших улицах и проспектах.\n",
    "7. Большинство заведений на улицах топ 10 вмещают не более 50 человек.\n",
    "8. В датасете встречаются дубликаты при определенных комбинациях столбцов например на территории МГТУ им. Н. Э. Баумана, это большой университет с большим количеством столовых и буфетов.\n",
    "\n",
    "    Если открывать одно заведение, то лучше открывать кафе с количеством посадочных мест до 50 человек. Если открывать сеть, то лучше открывать предприятие быстрого питания с количеством посадочных мест до 20 человек.  Лучшие места проспект Мира, Профсоюзная улица и Ленинградский проспект. "
   ]
  }
 ],
 "metadata": {
  "ExecuteTimeLog": [
   {
    "duration": 3,
    "start_time": "2022-03-01T13:54:22.476Z"
   },
   {
    "duration": 1113,
    "start_time": "2022-03-01T13:55:36.446Z"
   },
   {
    "duration": 247,
    "start_time": "2022-03-01T13:56:20.920Z"
   },
   {
    "duration": 39,
    "start_time": "2022-03-01T13:56:46.896Z"
   },
   {
    "duration": 2,
    "start_time": "2022-03-01T13:58:15.260Z"
   },
   {
    "duration": 4,
    "start_time": "2022-03-01T13:58:16.740Z"
   },
   {
    "duration": 45,
    "start_time": "2022-03-01T13:58:41.452Z"
   },
   {
    "duration": 3,
    "start_time": "2022-03-01T14:02:10.836Z"
   },
   {
    "duration": 4,
    "start_time": "2022-03-01T14:02:11.404Z"
   },
   {
    "duration": 41,
    "start_time": "2022-03-01T14:02:12.200Z"
   },
   {
    "duration": 15,
    "start_time": "2022-03-01T14:12:04.099Z"
   },
   {
    "duration": 5,
    "start_time": "2022-03-01T14:13:47.766Z"
   },
   {
    "duration": 47,
    "start_time": "2022-03-01T14:13:48.754Z"
   },
   {
    "duration": 5,
    "start_time": "2022-03-01T14:14:29.774Z"
   },
   {
    "duration": 46,
    "start_time": "2022-03-01T14:14:31.039Z"
   },
   {
    "duration": 5,
    "start_time": "2022-03-01T14:15:23.318Z"
   },
   {
    "duration": 47,
    "start_time": "2022-03-01T14:15:24.570Z"
   },
   {
    "duration": 5,
    "start_time": "2022-03-01T14:16:00.994Z"
   },
   {
    "duration": 58,
    "start_time": "2022-03-01T14:16:01.927Z"
   },
   {
    "duration": 278,
    "start_time": "2022-03-01T14:17:24.374Z"
   },
   {
    "duration": 4,
    "start_time": "2022-03-01T14:20:32.622Z"
   },
   {
    "duration": 5,
    "start_time": "2022-03-01T14:21:31.030Z"
   },
   {
    "duration": 3,
    "start_time": "2022-03-01T14:21:41.414Z"
   },
   {
    "duration": 4,
    "start_time": "2022-03-01T14:21:45.122Z"
   },
   {
    "duration": 11,
    "start_time": "2022-03-01T14:22:26.274Z"
   },
   {
    "duration": 297,
    "start_time": "2022-03-01T14:22:48.246Z"
   },
   {
    "duration": 279,
    "start_time": "2022-03-01T14:23:02.351Z"
   },
   {
    "duration": 615,
    "start_time": "2022-03-01T14:23:15.762Z"
   },
   {
    "duration": 10,
    "start_time": "2022-03-01T14:24:53.114Z"
   },
   {
    "duration": 64,
    "start_time": "2022-03-01T14:25:41.029Z"
   },
   {
    "duration": 210,
    "start_time": "2022-03-01T14:26:14.669Z"
   },
   {
    "duration": 51,
    "start_time": "2022-03-01T14:34:18.957Z"
   },
   {
    "duration": 10,
    "start_time": "2022-03-01T14:34:23.989Z"
   },
   {
    "duration": 234,
    "start_time": "2022-03-01T14:35:20.365Z"
   },
   {
    "duration": 12,
    "start_time": "2022-03-01T14:35:54.156Z"
   },
   {
    "duration": 215,
    "start_time": "2022-03-01T14:37:00.561Z"
   },
   {
    "duration": 12,
    "start_time": "2022-03-01T14:37:11.141Z"
   },
   {
    "duration": 8,
    "start_time": "2022-03-01T14:38:38.457Z"
   },
   {
    "duration": 13,
    "start_time": "2022-03-01T14:38:50.001Z"
   },
   {
    "duration": 12,
    "start_time": "2022-03-01T14:39:01.601Z"
   },
   {
    "duration": 10,
    "start_time": "2022-03-01T14:44:53.088Z"
   },
   {
    "duration": 4302,
    "start_time": "2022-03-01T14:45:26.800Z"
   },
   {
    "duration": 113,
    "start_time": "2022-03-01T14:45:44.200Z"
   },
   {
    "duration": 14,
    "start_time": "2022-03-01T14:53:48.047Z"
   },
   {
    "duration": 10,
    "start_time": "2022-03-01T14:55:05.692Z"
   },
   {
    "duration": 9,
    "start_time": "2022-03-01T14:55:17.183Z"
   },
   {
    "duration": 9,
    "start_time": "2022-03-01T14:55:33.568Z"
   },
   {
    "duration": 4345,
    "start_time": "2022-03-01T14:55:37.947Z"
   },
   {
    "duration": -462,
    "start_time": "2022-03-01T14:55:42.756Z"
   },
   {
    "duration": 4356,
    "start_time": "2022-03-01T14:55:44.155Z"
   },
   {
    "duration": -454,
    "start_time": "2022-03-01T14:55:48.967Z"
   },
   {
    "duration": 9,
    "start_time": "2022-03-01T14:55:58.603Z"
   },
   {
    "duration": 12,
    "start_time": "2022-03-01T14:57:10.635Z"
   },
   {
    "duration": 1406,
    "start_time": "2022-03-01T14:57:21.946Z"
   },
   {
    "duration": 41,
    "start_time": "2022-03-01T14:57:23.354Z"
   },
   {
    "duration": 3,
    "start_time": "2022-03-01T14:57:23.397Z"
   },
   {
    "duration": 7,
    "start_time": "2022-03-01T14:57:23.401Z"
   },
   {
    "duration": 65,
    "start_time": "2022-03-01T14:57:23.409Z"
   },
   {
    "duration": 12,
    "start_time": "2022-03-01T14:57:23.475Z"
   },
   {
    "duration": 543,
    "start_time": "2022-03-01T14:57:23.488Z"
   },
   {
    "duration": 13,
    "start_time": "2022-03-01T14:57:24.033Z"
   },
   {
    "duration": 4546,
    "start_time": "2022-03-01T14:57:24.048Z"
   },
   {
    "duration": -461,
    "start_time": "2022-03-01T14:57:29.057Z"
   },
   {
    "duration": 4306,
    "start_time": "2022-03-01T15:05:24.334Z"
   },
   {
    "duration": 9,
    "start_time": "2022-03-01T15:05:33.189Z"
   },
   {
    "duration": 7803,
    "start_time": "2022-03-01T15:05:35.818Z"
   },
   {
    "duration": 12,
    "start_time": "2022-03-01T15:06:01.718Z"
   },
   {
    "duration": 230,
    "start_time": "2022-03-01T15:06:02.498Z"
   },
   {
    "duration": 12,
    "start_time": "2022-03-01T15:06:08.290Z"
   },
   {
    "duration": 14,
    "start_time": "2022-03-01T15:49:13.655Z"
   },
   {
    "duration": 16,
    "start_time": "2022-03-01T15:52:34.246Z"
   },
   {
    "duration": 961,
    "start_time": "2022-03-01T17:13:26.596Z"
   },
   {
    "duration": 1093,
    "start_time": "2022-03-01T17:14:58.092Z"
   },
   {
    "duration": 1076,
    "start_time": "2022-03-01T17:19:54.200Z"
   },
   {
    "duration": 14,
    "start_time": "2022-03-01T17:50:18.885Z"
   },
   {
    "duration": 128,
    "start_time": "2022-03-01T17:50:25.058Z"
   },
   {
    "duration": 11,
    "start_time": "2022-03-01T17:50:33.738Z"
   },
   {
    "duration": 274,
    "start_time": "2022-03-01T17:50:34.502Z"
   },
   {
    "duration": 14,
    "start_time": "2022-03-01T17:50:37.633Z"
   },
   {
    "duration": 18,
    "start_time": "2022-03-01T17:50:38.346Z"
   },
   {
    "duration": 1165,
    "start_time": "2022-03-01T17:50:41.053Z"
   },
   {
    "duration": 5,
    "start_time": "2022-03-01T18:13:11.908Z"
   },
   {
    "duration": 7,
    "start_time": "2022-03-01T18:13:21.696Z"
   },
   {
    "duration": 5,
    "start_time": "2022-03-01T18:15:12.972Z"
   },
   {
    "duration": 193,
    "start_time": "2022-03-01T18:15:30.060Z"
   },
   {
    "duration": 6,
    "start_time": "2022-03-01T18:15:40.236Z"
   },
   {
    "duration": 5,
    "start_time": "2022-03-01T18:16:06.785Z"
   },
   {
    "duration": 17,
    "start_time": "2022-03-01T18:19:33.356Z"
   },
   {
    "duration": 19,
    "start_time": "2022-03-01T18:19:50.348Z"
   },
   {
    "duration": 14,
    "start_time": "2022-03-01T19:11:56.644Z"
   },
   {
    "duration": 7,
    "start_time": "2022-03-01T19:13:08.448Z"
   },
   {
    "duration": 9,
    "start_time": "2022-03-01T19:20:07.544Z"
   },
   {
    "duration": 15,
    "start_time": "2022-03-01T19:20:28.727Z"
   },
   {
    "duration": 14,
    "start_time": "2022-03-01T19:22:20.087Z"
   },
   {
    "duration": 11,
    "start_time": "2022-03-01T19:23:32.252Z"
   },
   {
    "duration": 12,
    "start_time": "2022-03-01T19:23:45.231Z"
   },
   {
    "duration": 5,
    "start_time": "2022-03-01T19:31:06.755Z"
   },
   {
    "duration": 84,
    "start_time": "2022-03-01T19:31:09.591Z"
   },
   {
    "duration": 109,
    "start_time": "2022-03-01T20:04:58.718Z"
   },
   {
    "duration": 10,
    "start_time": "2022-03-01T20:05:09.437Z"
   },
   {
    "duration": 115,
    "start_time": "2022-03-01T20:05:11.541Z"
   },
   {
    "duration": 12,
    "start_time": "2022-03-01T20:41:16.938Z"
   },
   {
    "duration": 275,
    "start_time": "2022-03-01T20:41:31.675Z"
   },
   {
    "duration": 1424,
    "start_time": "2022-03-02T06:36:50.420Z"
   },
   {
    "duration": 58,
    "start_time": "2022-03-02T06:36:51.847Z"
   },
   {
    "duration": 3,
    "start_time": "2022-03-02T06:36:52.820Z"
   },
   {
    "duration": 5,
    "start_time": "2022-03-02T06:36:59.105Z"
   },
   {
    "duration": 101,
    "start_time": "2022-03-02T06:37:00.144Z"
   },
   {
    "duration": 9,
    "start_time": "2022-03-02T06:37:01.220Z"
   },
   {
    "duration": 14,
    "start_time": "2022-03-02T06:37:12.740Z"
   },
   {
    "duration": 548,
    "start_time": "2022-03-02T06:37:15.593Z"
   },
   {
    "duration": 9,
    "start_time": "2022-03-02T08:36:10.812Z"
   },
   {
    "duration": 217,
    "start_time": "2022-03-02T08:36:11.556Z"
   },
   {
    "duration": 13,
    "start_time": "2022-03-02T08:59:18.700Z"
   },
   {
    "duration": 6980,
    "start_time": "2022-03-02T08:59:32.293Z"
   },
   {
    "duration": 6854,
    "start_time": "2022-03-02T09:00:02.872Z"
   },
   {
    "duration": 6660,
    "start_time": "2022-03-02T09:00:41.909Z"
   },
   {
    "duration": 10,
    "start_time": "2022-03-02T09:01:18.355Z"
   },
   {
    "duration": 14,
    "start_time": "2022-03-02T09:01:30.872Z"
   },
   {
    "duration": 121,
    "start_time": "2022-03-02T09:01:34.247Z"
   },
   {
    "duration": 11,
    "start_time": "2022-03-02T09:02:13.355Z"
   },
   {
    "duration": 121,
    "start_time": "2022-03-02T09:02:14.847Z"
   },
   {
    "duration": 14,
    "start_time": "2022-03-02T09:03:25.591Z"
   },
   {
    "duration": 18,
    "start_time": "2022-03-02T09:03:39.695Z"
   },
   {
    "duration": 19,
    "start_time": "2022-03-02T09:04:03.580Z"
   },
   {
    "duration": 18,
    "start_time": "2022-03-02T09:05:00.307Z"
   },
   {
    "duration": 20,
    "start_time": "2022-03-02T09:07:03.675Z"
   },
   {
    "duration": 272,
    "start_time": "2022-03-02T09:07:24.203Z"
   },
   {
    "duration": 21,
    "start_time": "2022-03-02T09:07:32.231Z"
   },
   {
    "duration": 13,
    "start_time": "2022-03-02T09:09:04.038Z"
   },
   {
    "duration": 121,
    "start_time": "2022-03-02T09:09:07.186Z"
   },
   {
    "duration": 14,
    "start_time": "2022-03-02T09:09:31.103Z"
   },
   {
    "duration": 263,
    "start_time": "2022-03-02T09:09:36.071Z"
   },
   {
    "duration": 21,
    "start_time": "2022-03-02T09:25:45.451Z"
   },
   {
    "duration": 21,
    "start_time": "2022-03-02T09:27:27.569Z"
   },
   {
    "duration": 21,
    "start_time": "2022-03-02T09:28:54.297Z"
   },
   {
    "duration": 3,
    "start_time": "2022-03-02T09:35:48.566Z"
   },
   {
    "duration": 481,
    "start_time": "2022-03-02T09:35:49.756Z"
   },
   {
    "duration": 22,
    "start_time": "2022-03-02T09:37:11.413Z"
   },
   {
    "duration": 19,
    "start_time": "2022-03-02T09:37:23.129Z"
   },
   {
    "duration": 3,
    "start_time": "2022-03-02T09:38:23.344Z"
   },
   {
    "duration": 32,
    "start_time": "2022-03-02T09:38:24.185Z"
   },
   {
    "duration": 21,
    "start_time": "2022-03-02T09:38:25.020Z"
   },
   {
    "duration": 6837,
    "start_time": "2022-03-02T09:40:17.698Z"
   },
   {
    "duration": 20,
    "start_time": "2022-03-02T09:40:37.548Z"
   },
   {
    "duration": 16,
    "start_time": "2022-03-02T09:42:26.344Z"
   },
   {
    "duration": 87,
    "start_time": "2022-03-02T09:42:41.322Z"
   },
   {
    "duration": 17,
    "start_time": "2022-03-02T09:42:51.648Z"
   },
   {
    "duration": 3,
    "start_time": "2022-03-02T09:46:02.819Z"
   },
   {
    "duration": 30,
    "start_time": "2022-03-02T09:46:03.732Z"
   },
   {
    "duration": 18,
    "start_time": "2022-03-02T09:46:05.376Z"
   },
   {
    "duration": 13,
    "start_time": "2022-03-02T09:46:34.192Z"
   },
   {
    "duration": 16,
    "start_time": "2022-03-02T09:47:03.296Z"
   },
   {
    "duration": 3,
    "start_time": "2022-03-02T09:48:16.240Z"
   },
   {
    "duration": 40,
    "start_time": "2022-03-02T09:48:17.524Z"
   },
   {
    "duration": 17,
    "start_time": "2022-03-02T09:48:18.724Z"
   },
   {
    "duration": 2,
    "start_time": "2022-03-02T09:48:48.848Z"
   },
   {
    "duration": 46,
    "start_time": "2022-03-02T09:48:49.623Z"
   },
   {
    "duration": 19,
    "start_time": "2022-03-02T09:48:50.247Z"
   },
   {
    "duration": 270,
    "start_time": "2022-03-02T09:49:40.816Z"
   },
   {
    "duration": 258,
    "start_time": "2022-03-02T09:50:24.535Z"
   },
   {
    "duration": 18,
    "start_time": "2022-03-02T09:56:59.584Z"
   },
   {
    "duration": 11,
    "start_time": "2022-03-02T09:57:54.587Z"
   },
   {
    "duration": 3,
    "start_time": "2022-03-02T09:57:57.647Z"
   },
   {
    "duration": 45,
    "start_time": "2022-03-02T09:58:00.235Z"
   },
   {
    "duration": 18,
    "start_time": "2022-03-02T09:58:01.187Z"
   },
   {
    "duration": 18,
    "start_time": "2022-03-02T09:58:14.756Z"
   },
   {
    "duration": 3,
    "start_time": "2022-03-02T09:58:46.367Z"
   },
   {
    "duration": 30,
    "start_time": "2022-03-02T09:58:47.180Z"
   },
   {
    "duration": 18,
    "start_time": "2022-03-02T09:58:47.863Z"
   },
   {
    "duration": 3,
    "start_time": "2022-03-02T10:00:04.643Z"
   },
   {
    "duration": 32,
    "start_time": "2022-03-02T10:00:05.480Z"
   },
   {
    "duration": 19,
    "start_time": "2022-03-02T10:00:06.215Z"
   },
   {
    "duration": 18,
    "start_time": "2022-03-02T10:02:13.235Z"
   },
   {
    "duration": 1218,
    "start_time": "2022-03-02T10:02:28.059Z"
   },
   {
    "duration": 1490,
    "start_time": "2022-03-02T10:03:22.822Z"
   },
   {
    "duration": 50,
    "start_time": "2022-03-02T10:03:24.315Z"
   },
   {
    "duration": 3,
    "start_time": "2022-03-02T10:03:24.367Z"
   },
   {
    "duration": 18,
    "start_time": "2022-03-02T10:03:24.372Z"
   },
   {
    "duration": 121,
    "start_time": "2022-03-02T10:03:24.392Z"
   },
   {
    "duration": 19,
    "start_time": "2022-03-02T10:03:24.515Z"
   },
   {
    "duration": 41,
    "start_time": "2022-03-02T10:03:24.536Z"
   },
   {
    "duration": 7,
    "start_time": "2022-03-02T10:03:24.580Z"
   },
   {
    "duration": 73,
    "start_time": "2022-03-02T10:03:24.589Z"
   },
   {
    "duration": 31,
    "start_time": "2022-03-02T10:03:24.664Z"
   },
   {
    "duration": 26,
    "start_time": "2022-03-02T10:03:24.697Z"
   },
   {
    "duration": 535,
    "start_time": "2022-03-02T10:03:24.725Z"
   },
   {
    "duration": 22,
    "start_time": "2022-03-02T10:03:25.262Z"
   },
   {
    "duration": 362,
    "start_time": "2022-03-02T10:03:25.286Z"
   },
   {
    "duration": 35,
    "start_time": "2022-03-02T10:03:25.650Z"
   },
   {
    "duration": 17,
    "start_time": "2022-03-02T10:03:25.687Z"
   },
   {
    "duration": 1271,
    "start_time": "2022-03-02T10:03:25.706Z"
   },
   {
    "duration": 10,
    "start_time": "2022-03-02T10:03:26.979Z"
   },
   {
    "duration": 3,
    "start_time": "2022-03-02T10:03:59.410Z"
   },
   {
    "duration": 48,
    "start_time": "2022-03-02T10:04:00.847Z"
   },
   {
    "duration": 20,
    "start_time": "2022-03-02T10:04:02.343Z"
   },
   {
    "duration": 3,
    "start_time": "2022-03-02T10:04:43.675Z"
   },
   {
    "duration": 36,
    "start_time": "2022-03-02T10:04:44.532Z"
   },
   {
    "duration": 21,
    "start_time": "2022-03-02T10:04:45.310Z"
   },
   {
    "duration": 4,
    "start_time": "2022-03-02T10:05:11.334Z"
   },
   {
    "duration": 42,
    "start_time": "2022-03-02T10:05:12.003Z"
   },
   {
    "duration": 21,
    "start_time": "2022-03-02T10:05:12.703Z"
   },
   {
    "duration": 3,
    "start_time": "2022-03-02T10:05:33.183Z"
   },
   {
    "duration": 48,
    "start_time": "2022-03-02T10:05:34.331Z"
   },
   {
    "duration": 20,
    "start_time": "2022-03-02T10:05:35.083Z"
   },
   {
    "duration": 1264,
    "start_time": "2022-03-02T10:06:19.727Z"
   },
   {
    "duration": 3,
    "start_time": "2022-03-02T10:07:10.850Z"
   },
   {
    "duration": 50,
    "start_time": "2022-03-02T10:07:11.438Z"
   },
   {
    "duration": 20,
    "start_time": "2022-03-02T10:07:12.110Z"
   },
   {
    "duration": 21,
    "start_time": "2022-03-02T10:07:20.936Z"
   },
   {
    "duration": 16,
    "start_time": "2022-03-02T10:08:33.731Z"
   },
   {
    "duration": 4,
    "start_time": "2022-03-02T10:09:02.386Z"
   },
   {
    "duration": 58,
    "start_time": "2022-03-02T10:09:03.395Z"
   },
   {
    "duration": 16,
    "start_time": "2022-03-02T10:09:04.170Z"
   },
   {
    "duration": 3,
    "start_time": "2022-03-02T10:09:48.815Z"
   },
   {
    "duration": 59,
    "start_time": "2022-03-02T10:09:49.887Z"
   },
   {
    "duration": 19,
    "start_time": "2022-03-02T10:09:50.819Z"
   },
   {
    "duration": 19,
    "start_time": "2022-03-02T10:10:06.001Z"
   },
   {
    "duration": 16,
    "start_time": "2022-03-02T10:17:58.330Z"
   },
   {
    "duration": 19,
    "start_time": "2022-03-02T10:23:37.548Z"
   },
   {
    "duration": 1496,
    "start_time": "2022-03-02T10:23:46.869Z"
   },
   {
    "duration": 48,
    "start_time": "2022-03-02T10:23:48.367Z"
   },
   {
    "duration": 3,
    "start_time": "2022-03-02T10:23:48.417Z"
   },
   {
    "duration": 6,
    "start_time": "2022-03-02T10:23:48.422Z"
   },
   {
    "duration": 119,
    "start_time": "2022-03-02T10:23:48.429Z"
   },
   {
    "duration": 41,
    "start_time": "2022-03-02T10:23:48.550Z"
   },
   {
    "duration": 13,
    "start_time": "2022-03-02T10:23:48.592Z"
   },
   {
    "duration": 5,
    "start_time": "2022-03-02T10:23:48.607Z"
   },
   {
    "duration": 92,
    "start_time": "2022-03-02T10:23:48.614Z"
   },
   {
    "duration": 20,
    "start_time": "2022-03-02T10:23:48.708Z"
   },
   {
    "duration": 15,
    "start_time": "2022-03-02T10:23:48.730Z"
   },
   {
    "duration": 38,
    "start_time": "2022-03-02T10:23:48.747Z"
   },
   {
    "duration": 544,
    "start_time": "2022-03-02T10:23:48.786Z"
   },
   {
    "duration": 10,
    "start_time": "2022-03-02T10:23:49.332Z"
   },
   {
    "duration": 393,
    "start_time": "2022-03-02T10:23:49.344Z"
   },
   {
    "duration": 23,
    "start_time": "2022-03-02T10:23:49.777Z"
   },
   {
    "duration": 21,
    "start_time": "2022-03-02T10:23:49.802Z"
   },
   {
    "duration": 1286,
    "start_time": "2022-03-02T10:23:49.825Z"
   },
   {
    "duration": 9,
    "start_time": "2022-03-02T10:23:51.113Z"
   },
   {
    "duration": 3,
    "start_time": "2022-03-02T10:25:50.077Z"
   },
   {
    "duration": 64,
    "start_time": "2022-03-02T10:25:50.969Z"
   },
   {
    "duration": 15,
    "start_time": "2022-03-02T10:25:51.662Z"
   },
   {
    "duration": 16,
    "start_time": "2022-03-02T10:25:52.601Z"
   },
   {
    "duration": 13,
    "start_time": "2022-03-02T10:25:54.570Z"
   },
   {
    "duration": 115,
    "start_time": "2022-03-02T10:25:55.277Z"
   },
   {
    "duration": 11,
    "start_time": "2022-03-02T10:25:56.333Z"
   },
   {
    "duration": 116,
    "start_time": "2022-03-02T10:25:56.809Z"
   },
   {
    "duration": 22,
    "start_time": "2022-03-02T10:25:57.401Z"
   },
   {
    "duration": 21,
    "start_time": "2022-03-02T10:26:00.249Z"
   },
   {
    "duration": 3,
    "start_time": "2022-03-02T10:26:57.173Z"
   },
   {
    "duration": 67,
    "start_time": "2022-03-02T10:27:06.289Z"
   },
   {
    "duration": 18,
    "start_time": "2022-03-02T10:27:07.197Z"
   },
   {
    "duration": 17,
    "start_time": "2022-03-02T10:27:09.481Z"
   },
   {
    "duration": 19,
    "start_time": "2022-03-02T10:27:13.289Z"
   },
   {
    "duration": 3,
    "start_time": "2022-03-02T10:28:56.340Z"
   },
   {
    "duration": 79,
    "start_time": "2022-03-02T10:28:57.629Z"
   },
   {
    "duration": 17,
    "start_time": "2022-03-02T10:28:58.377Z"
   },
   {
    "duration": 16,
    "start_time": "2022-03-02T10:28:59.193Z"
   },
   {
    "duration": 22,
    "start_time": "2022-03-02T10:29:04.728Z"
   },
   {
    "duration": 1381,
    "start_time": "2022-03-02T10:53:11.808Z"
   },
   {
    "duration": 1242,
    "start_time": "2022-03-02T10:55:05.108Z"
   },
   {
    "duration": 1053,
    "start_time": "2022-03-02T10:55:36.844Z"
   },
   {
    "duration": 1132,
    "start_time": "2022-03-02T10:55:48.812Z"
   },
   {
    "duration": 974,
    "start_time": "2022-03-02T10:56:27.948Z"
   },
   {
    "duration": 13,
    "start_time": "2022-03-02T10:57:22.669Z"
   },
   {
    "duration": 990,
    "start_time": "2022-03-02T10:57:26.088Z"
   },
   {
    "duration": 13,
    "start_time": "2022-03-02T10:57:38.448Z"
   },
   {
    "duration": 1163,
    "start_time": "2022-03-02T10:57:39.944Z"
   },
   {
    "duration": 1213,
    "start_time": "2022-03-02T11:38:20.817Z"
   },
   {
    "duration": 1040,
    "start_time": "2022-03-02T11:39:45.438Z"
   },
   {
    "duration": 1055,
    "start_time": "2022-03-02T11:40:07.682Z"
   },
   {
    "duration": 13,
    "start_time": "2022-03-02T11:40:32.097Z"
   },
   {
    "duration": 1024,
    "start_time": "2022-03-02T11:40:32.825Z"
   },
   {
    "duration": 274,
    "start_time": "2022-03-02T12:03:15.326Z"
   },
   {
    "duration": 9,
    "start_time": "2022-03-02T12:03:41.206Z"
   },
   {
    "duration": 285,
    "start_time": "2022-03-02T12:03:46.174Z"
   },
   {
    "duration": 278,
    "start_time": "2022-03-02T12:04:07.815Z"
   },
   {
    "duration": 11,
    "start_time": "2022-03-02T12:05:03.975Z"
   },
   {
    "duration": 295,
    "start_time": "2022-03-02T12:06:40.250Z"
   },
   {
    "duration": 291,
    "start_time": "2022-03-02T12:07:00.730Z"
   },
   {
    "duration": 12,
    "start_time": "2022-03-02T12:07:18.201Z"
   },
   {
    "duration": 266,
    "start_time": "2022-03-02T12:07:31.671Z"
   },
   {
    "duration": 15,
    "start_time": "2022-03-02T12:11:59.458Z"
   },
   {
    "duration": 443,
    "start_time": "2022-03-02T12:12:01.190Z"
   },
   {
    "duration": 10,
    "start_time": "2022-03-02T12:12:11.712Z"
   },
   {
    "duration": 257,
    "start_time": "2022-03-02T12:12:12.410Z"
   },
   {
    "duration": 11,
    "start_time": "2022-03-02T12:14:17.617Z"
   },
   {
    "duration": 452,
    "start_time": "2022-03-02T12:14:18.414Z"
   },
   {
    "duration": 29,
    "start_time": "2022-03-02T13:20:37.684Z"
   },
   {
    "duration": 45,
    "start_time": "2022-03-02T13:20:48.828Z"
   },
   {
    "duration": 40,
    "start_time": "2022-03-02T13:20:57.036Z"
   },
   {
    "duration": 338,
    "start_time": "2022-03-02T13:21:17.716Z"
   },
   {
    "duration": 35,
    "start_time": "2022-03-02T13:21:26.976Z"
   },
   {
    "duration": 13,
    "start_time": "2022-03-02T13:44:38.986Z"
   },
   {
    "duration": 8,
    "start_time": "2022-03-02T13:44:42.238Z"
   },
   {
    "duration": 36,
    "start_time": "2022-03-02T13:50:04.757Z"
   },
   {
    "duration": 40,
    "start_time": "2022-03-02T13:51:37.829Z"
   },
   {
    "duration": 200,
    "start_time": "2022-03-02T13:51:48.381Z"
   },
   {
    "duration": 32,
    "start_time": "2022-03-02T13:51:58.341Z"
   },
   {
    "duration": 38,
    "start_time": "2022-03-02T13:54:04.921Z"
   },
   {
    "duration": 41,
    "start_time": "2022-03-02T13:57:12.716Z"
   },
   {
    "duration": 10,
    "start_time": "2022-03-02T13:57:22.169Z"
   },
   {
    "duration": 9,
    "start_time": "2022-03-02T13:57:22.924Z"
   },
   {
    "duration": 51,
    "start_time": "2022-03-02T13:59:07.272Z"
   },
   {
    "duration": 54,
    "start_time": "2022-03-02T13:59:15.976Z"
   },
   {
    "duration": 49,
    "start_time": "2022-03-02T13:59:26.279Z"
   },
   {
    "duration": 11,
    "start_time": "2022-03-02T13:59:29.512Z"
   },
   {
    "duration": 8,
    "start_time": "2022-03-02T13:59:30.240Z"
   },
   {
    "duration": 17,
    "start_time": "2022-03-02T14:00:32.672Z"
   },
   {
    "duration": 7,
    "start_time": "2022-03-02T14:00:37.920Z"
   },
   {
    "duration": 127,
    "start_time": "2022-03-02T14:03:11.070Z"
   },
   {
    "duration": 3,
    "start_time": "2022-03-02T14:03:16.332Z"
   },
   {
    "duration": 54,
    "start_time": "2022-03-02T14:03:17.108Z"
   },
   {
    "duration": 203,
    "start_time": "2022-03-02T14:03:22.732Z"
   },
   {
    "duration": 9,
    "start_time": "2022-03-02T14:03:27.716Z"
   },
   {
    "duration": 7,
    "start_time": "2022-03-02T14:03:28.660Z"
   },
   {
    "duration": 3,
    "start_time": "2022-03-02T14:04:16.272Z"
   },
   {
    "duration": 52,
    "start_time": "2022-03-02T14:04:17.164Z"
   },
   {
    "duration": 2,
    "start_time": "2022-03-02T14:08:36.884Z"
   },
   {
    "duration": 58,
    "start_time": "2022-03-02T14:08:38.168Z"
   },
   {
    "duration": 55,
    "start_time": "2022-03-02T14:09:48.207Z"
   },
   {
    "duration": 11,
    "start_time": "2022-03-02T14:09:51.448Z"
   },
   {
    "duration": 7,
    "start_time": "2022-03-02T14:09:51.971Z"
   },
   {
    "duration": 285,
    "start_time": "2022-03-02T14:11:35.443Z"
   },
   {
    "duration": 274,
    "start_time": "2022-03-02T14:12:07.355Z"
   },
   {
    "duration": 14,
    "start_time": "2022-03-02T14:12:45.235Z"
   },
   {
    "duration": 8,
    "start_time": "2022-03-02T14:12:45.931Z"
   },
   {
    "duration": 270,
    "start_time": "2022-03-02T14:12:46.687Z"
   },
   {
    "duration": 267,
    "start_time": "2022-03-02T14:13:08.555Z"
   },
   {
    "duration": 244,
    "start_time": "2022-03-02T14:13:19.451Z"
   },
   {
    "duration": 256,
    "start_time": "2022-03-02T14:13:53.475Z"
   },
   {
    "duration": 16,
    "start_time": "2022-03-02T14:14:00.279Z"
   },
   {
    "duration": 421,
    "start_time": "2022-03-02T14:14:01.067Z"
   },
   {
    "duration": 268,
    "start_time": "2022-03-02T14:22:11.970Z"
   },
   {
    "duration": 104573,
    "start_time": "2022-03-02T14:22:27.046Z"
   },
   {
    "duration": 266,
    "start_time": "2022-03-02T14:24:11.622Z"
   },
   {
    "duration": 3,
    "start_time": "2022-03-02T14:24:31.738Z"
   },
   {
    "duration": 8,
    "start_time": "2022-03-02T14:24:56.374Z"
   },
   {
    "duration": 558,
    "start_time": "2022-03-02T14:30:34.317Z"
   },
   {
    "duration": 11,
    "start_time": "2022-03-02T14:30:39.689Z"
   },
   {
    "duration": 8,
    "start_time": "2022-03-02T14:36:13.117Z"
   },
   {
    "duration": 9,
    "start_time": "2022-03-02T14:36:21.469Z"
   },
   {
    "duration": 90,
    "start_time": "2022-03-02T14:37:49.389Z"
   },
   {
    "duration": 10,
    "start_time": "2022-03-02T14:37:59.861Z"
   },
   {
    "duration": 8,
    "start_time": "2022-03-02T14:39:16.773Z"
   },
   {
    "duration": 9,
    "start_time": "2022-03-02T14:39:27.948Z"
   },
   {
    "duration": 4856,
    "start_time": "2022-03-02T14:41:47.741Z"
   },
   {
    "duration": 8,
    "start_time": "2022-03-02T14:42:16.777Z"
   },
   {
    "duration": 10,
    "start_time": "2022-03-02T14:42:42.792Z"
   },
   {
    "duration": 10,
    "start_time": "2022-03-02T14:43:49.324Z"
   },
   {
    "duration": 269,
    "start_time": "2022-03-02T14:59:36.139Z"
   },
   {
    "duration": 99816,
    "start_time": "2022-03-02T14:59:53.423Z"
   },
   {
    "duration": 99555,
    "start_time": "2022-03-02T15:01:49.952Z"
   },
   {
    "duration": 1393,
    "start_time": "2022-03-02T15:08:26.099Z"
   },
   {
    "duration": 586,
    "start_time": "2022-03-02T15:16:59.246Z"
   },
   {
    "duration": 422,
    "start_time": "2022-03-02T15:16:59.863Z"
   },
   {
    "duration": 13,
    "start_time": "2022-03-02T15:17:06.667Z"
   },
   {
    "duration": 10,
    "start_time": "2022-03-02T15:19:53.462Z"
   },
   {
    "duration": 1471,
    "start_time": "2022-03-02T15:20:13.042Z"
   },
   {
    "duration": 9,
    "start_time": "2022-03-02T15:20:30.878Z"
   },
   {
    "duration": 9,
    "start_time": "2022-03-02T15:20:33.651Z"
   },
   {
    "duration": 264,
    "start_time": "2022-03-02T15:20:53.974Z"
   },
   {
    "duration": 294,
    "start_time": "2022-03-02T15:21:11.611Z"
   },
   {
    "duration": 281,
    "start_time": "2022-03-02T15:21:12.307Z"
   },
   {
    "duration": 1412,
    "start_time": "2022-03-02T15:21:18.109Z"
   },
   {
    "duration": 57,
    "start_time": "2022-03-02T15:21:19.523Z"
   },
   {
    "duration": 3,
    "start_time": "2022-03-02T15:21:19.583Z"
   },
   {
    "duration": 43,
    "start_time": "2022-03-02T15:21:19.588Z"
   },
   {
    "duration": 161,
    "start_time": "2022-03-02T15:21:19.633Z"
   },
   {
    "duration": 19,
    "start_time": "2022-03-02T15:21:19.795Z"
   },
   {
    "duration": 10,
    "start_time": "2022-03-02T15:21:19.816Z"
   },
   {
    "duration": 18,
    "start_time": "2022-03-02T15:21:19.829Z"
   },
   {
    "duration": 104,
    "start_time": "2022-03-02T15:21:19.849Z"
   },
   {
    "duration": 23,
    "start_time": "2022-03-02T15:21:19.954Z"
   },
   {
    "duration": 89,
    "start_time": "2022-03-02T15:21:19.979Z"
   },
   {
    "duration": -450,
    "start_time": "2022-03-02T15:21:20.520Z"
   },
   {
    "duration": -455,
    "start_time": "2022-03-02T15:21:20.526Z"
   },
   {
    "duration": -474,
    "start_time": "2022-03-02T15:21:20.546Z"
   },
   {
    "duration": -475,
    "start_time": "2022-03-02T15:21:20.548Z"
   },
   {
    "duration": -477,
    "start_time": "2022-03-02T15:21:20.551Z"
   },
   {
    "duration": -477,
    "start_time": "2022-03-02T15:21:20.552Z"
   },
   {
    "duration": -478,
    "start_time": "2022-03-02T15:21:20.554Z"
   },
   {
    "duration": -479,
    "start_time": "2022-03-02T15:21:20.556Z"
   },
   {
    "duration": -481,
    "start_time": "2022-03-02T15:21:20.558Z"
   },
   {
    "duration": -481,
    "start_time": "2022-03-02T15:21:20.559Z"
   },
   {
    "duration": -482,
    "start_time": "2022-03-02T15:21:20.561Z"
   },
   {
    "duration": -482,
    "start_time": "2022-03-02T15:21:20.562Z"
   },
   {
    "duration": -483,
    "start_time": "2022-03-02T15:21:20.564Z"
   },
   {
    "duration": -490,
    "start_time": "2022-03-02T15:21:20.572Z"
   },
   {
    "duration": -491,
    "start_time": "2022-03-02T15:21:20.574Z"
   },
   {
    "duration": -492,
    "start_time": "2022-03-02T15:21:20.576Z"
   },
   {
    "duration": -492,
    "start_time": "2022-03-02T15:21:20.577Z"
   },
   {
    "duration": -492,
    "start_time": "2022-03-02T15:21:20.578Z"
   },
   {
    "duration": -492,
    "start_time": "2022-03-02T15:21:20.579Z"
   },
   {
    "duration": -493,
    "start_time": "2022-03-02T15:21:20.581Z"
   },
   {
    "duration": 1449,
    "start_time": "2022-03-02T15:21:47.394Z"
   },
   {
    "duration": 48,
    "start_time": "2022-03-02T15:21:48.845Z"
   },
   {
    "duration": 3,
    "start_time": "2022-03-02T15:21:48.895Z"
   },
   {
    "duration": 17,
    "start_time": "2022-03-02T15:21:48.900Z"
   },
   {
    "duration": 110,
    "start_time": "2022-03-02T15:21:48.919Z"
   },
   {
    "duration": 19,
    "start_time": "2022-03-02T15:21:49.031Z"
   },
   {
    "duration": 36,
    "start_time": "2022-03-02T15:21:49.051Z"
   },
   {
    "duration": 14,
    "start_time": "2022-03-02T15:21:49.090Z"
   },
   {
    "duration": 88,
    "start_time": "2022-03-02T15:21:49.107Z"
   },
   {
    "duration": 26,
    "start_time": "2022-03-02T15:21:49.196Z"
   },
   {
    "duration": 23,
    "start_time": "2022-03-02T15:21:49.224Z"
   },
   {
    "duration": 12,
    "start_time": "2022-03-02T15:21:49.248Z"
   },
   {
    "duration": 550,
    "start_time": "2022-03-02T15:21:49.262Z"
   },
   {
    "duration": 10,
    "start_time": "2022-03-02T15:21:49.814Z"
   },
   {
    "duration": 396,
    "start_time": "2022-03-02T15:21:49.826Z"
   },
   {
    "duration": 21,
    "start_time": "2022-03-02T15:21:50.224Z"
   },
   {
    "duration": 36,
    "start_time": "2022-03-02T15:21:50.246Z"
   },
   {
    "duration": 1065,
    "start_time": "2022-03-02T15:21:50.284Z"
   },
   {
    "duration": 8,
    "start_time": "2022-03-02T15:21:51.351Z"
   },
   {
    "duration": 255,
    "start_time": "2022-03-02T15:21:51.361Z"
   },
   {
    "duration": 3,
    "start_time": "2022-03-02T15:21:51.618Z"
   },
   {
    "duration": 68,
    "start_time": "2022-03-02T15:21:51.623Z"
   },
   {
    "duration": 16,
    "start_time": "2022-03-02T15:21:51.694Z"
   },
   {
    "duration": 397,
    "start_time": "2022-03-02T15:21:51.712Z"
   },
   {
    "duration": 6,
    "start_time": "2022-03-02T15:21:52.111Z"
   },
   {
    "duration": 577,
    "start_time": "2022-03-02T15:21:52.119Z"
   },
   {
    "duration": 8,
    "start_time": "2022-03-02T15:21:52.698Z"
   },
   {
    "duration": 56,
    "start_time": "2022-03-02T15:21:52.707Z"
   },
   {
    "duration": 441,
    "start_time": "2022-03-02T15:21:52.765Z"
   },
   {
    "duration": -451,
    "start_time": "2022-03-02T15:21:53.659Z"
   },
   {
    "duration": 7,
    "start_time": "2022-03-02T15:22:05.833Z"
   },
   {
    "duration": 12,
    "start_time": "2022-03-02T15:22:07.533Z"
   },
   {
    "duration": 10,
    "start_time": "2022-03-02T15:26:49.529Z"
   },
   {
    "duration": 10,
    "start_time": "2022-03-02T15:26:50.583Z"
   },
   {
    "duration": 9,
    "start_time": "2022-03-02T15:26:53.845Z"
   },
   {
    "duration": 20,
    "start_time": "2022-03-02T15:26:54.717Z"
   },
   {
    "duration": 1510,
    "start_time": "2022-03-02T15:44:04.258Z"
   },
   {
    "duration": 66,
    "start_time": "2022-03-02T15:44:05.770Z"
   },
   {
    "duration": 3,
    "start_time": "2022-03-02T15:44:05.838Z"
   },
   {
    "duration": 10,
    "start_time": "2022-03-02T15:44:05.844Z"
   },
   {
    "duration": 143,
    "start_time": "2022-03-02T15:44:05.856Z"
   },
   {
    "duration": 20,
    "start_time": "2022-03-02T15:44:06.001Z"
   },
   {
    "duration": 12,
    "start_time": "2022-03-02T15:44:06.023Z"
   },
   {
    "duration": 40,
    "start_time": "2022-03-02T15:44:06.037Z"
   },
   {
    "duration": 77,
    "start_time": "2022-03-02T15:44:06.080Z"
   },
   {
    "duration": 26,
    "start_time": "2022-03-02T15:44:06.159Z"
   },
   {
    "duration": 16,
    "start_time": "2022-03-02T15:44:06.186Z"
   },
   {
    "duration": 10,
    "start_time": "2022-03-02T15:44:06.204Z"
   },
   {
    "duration": 557,
    "start_time": "2022-03-02T15:44:06.216Z"
   },
   {
    "duration": 11,
    "start_time": "2022-03-02T15:44:06.775Z"
   },
   {
    "duration": 414,
    "start_time": "2022-03-02T15:44:06.788Z"
   },
   {
    "duration": 23,
    "start_time": "2022-03-02T15:44:07.204Z"
   },
   {
    "duration": 11,
    "start_time": "2022-03-02T15:44:07.229Z"
   },
   {
    "duration": 1114,
    "start_time": "2022-03-02T15:44:07.242Z"
   },
   {
    "duration": 19,
    "start_time": "2022-03-02T15:44:08.358Z"
   },
   {
    "duration": 274,
    "start_time": "2022-03-02T15:44:08.379Z"
   },
   {
    "duration": 2,
    "start_time": "2022-03-02T15:44:08.656Z"
   },
   {
    "duration": 64,
    "start_time": "2022-03-02T15:44:08.660Z"
   },
   {
    "duration": 15,
    "start_time": "2022-03-02T15:44:08.729Z"
   },
   {
    "duration": 422,
    "start_time": "2022-03-02T15:44:08.746Z"
   },
   {
    "duration": 9,
    "start_time": "2022-03-02T15:44:09.170Z"
   },
   {
    "duration": 713,
    "start_time": "2022-03-02T15:44:09.181Z"
   },
   {
    "duration": 13,
    "start_time": "2022-03-02T15:44:09.896Z"
   },
   {
    "duration": 14,
    "start_time": "2022-03-02T15:44:09.912Z"
   },
   {
    "duration": 10,
    "start_time": "2022-03-02T15:44:09.928Z"
   },
   {
    "duration": 19,
    "start_time": "2022-03-02T15:44:09.940Z"
   },
   {
    "duration": 15,
    "start_time": "2022-03-02T15:53:15.477Z"
   },
   {
    "duration": 458,
    "start_time": "2022-03-02T15:54:52.977Z"
   },
   {
    "duration": 283,
    "start_time": "2022-03-02T15:55:28.265Z"
   },
   {
    "duration": 280,
    "start_time": "2022-03-02T15:55:35.905Z"
   },
   {
    "duration": 10,
    "start_time": "2022-03-02T15:57:24.241Z"
   },
   {
    "duration": 274,
    "start_time": "2022-03-02T15:58:04.674Z"
   },
   {
    "duration": 264,
    "start_time": "2022-03-02T15:58:24.913Z"
   },
   {
    "duration": 268,
    "start_time": "2022-03-02T15:58:30.182Z"
   },
   {
    "duration": 4,
    "start_time": "2022-03-02T16:05:24.100Z"
   },
   {
    "duration": 274,
    "start_time": "2022-03-02T16:10:48.924Z"
   },
   {
    "duration": 272,
    "start_time": "2022-03-02T16:11:02.852Z"
   },
   {
    "duration": 14,
    "start_time": "2022-03-02T16:14:24.239Z"
   },
   {
    "duration": 14,
    "start_time": "2022-03-02T16:15:11.611Z"
   },
   {
    "duration": 15,
    "start_time": "2022-03-02T16:15:27.851Z"
   },
   {
    "duration": 10,
    "start_time": "2022-03-02T16:15:36.559Z"
   },
   {
    "duration": 10,
    "start_time": "2022-03-02T16:15:44.508Z"
   },
   {
    "duration": 17,
    "start_time": "2022-03-02T16:27:52.186Z"
   },
   {
    "duration": 10,
    "start_time": "2022-03-02T16:27:54.242Z"
   },
   {
    "duration": 9,
    "start_time": "2022-03-02T16:28:15.634Z"
   },
   {
    "duration": 15,
    "start_time": "2022-03-02T16:28:25.730Z"
   },
   {
    "duration": 8,
    "start_time": "2022-03-02T16:28:26.270Z"
   },
   {
    "duration": 1865,
    "start_time": "2022-03-03T10:27:28.706Z"
   },
   {
    "duration": 61,
    "start_time": "2022-03-03T10:27:31.367Z"
   },
   {
    "duration": 4,
    "start_time": "2022-03-03T10:27:32.191Z"
   },
   {
    "duration": 8,
    "start_time": "2022-03-03T10:27:32.873Z"
   },
   {
    "duration": 139,
    "start_time": "2022-03-03T10:27:33.613Z"
   },
   {
    "duration": 28,
    "start_time": "2022-03-03T10:28:05.648Z"
   },
   {
    "duration": 25,
    "start_time": "2022-03-03T10:28:55.353Z"
   },
   {
    "duration": 18,
    "start_time": "2022-03-03T10:29:00.619Z"
   },
   {
    "duration": 4,
    "start_time": "2022-03-03T10:29:01.345Z"
   },
   {
    "duration": 121,
    "start_time": "2022-03-03T10:29:03.161Z"
   },
   {
    "duration": 20,
    "start_time": "2022-03-03T10:29:38.608Z"
   },
   {
    "duration": 23,
    "start_time": "2022-03-03T10:29:39.430Z"
   },
   {
    "duration": 499,
    "start_time": "2022-03-03T10:34:57.805Z"
   },
   {
    "duration": 38,
    "start_time": "2022-03-03T10:39:50.452Z"
   },
   {
    "duration": 26,
    "start_time": "2022-03-03T10:39:59.133Z"
   },
   {
    "duration": 3057,
    "start_time": "2022-03-03T10:43:23.037Z"
   },
   {
    "duration": 3006,
    "start_time": "2022-03-03T10:43:44.937Z"
   },
   {
    "duration": 244,
    "start_time": "2022-03-03T10:47:12.658Z"
   },
   {
    "duration": 293,
    "start_time": "2022-03-03T10:48:01.229Z"
   },
   {
    "duration": 1867,
    "start_time": "2022-03-03T10:48:18.319Z"
   },
   {
    "duration": 56,
    "start_time": "2022-03-03T10:48:20.188Z"
   },
   {
    "duration": 5,
    "start_time": "2022-03-03T10:48:20.247Z"
   },
   {
    "duration": 21,
    "start_time": "2022-03-03T10:48:20.256Z"
   },
   {
    "duration": 164,
    "start_time": "2022-03-03T10:48:20.280Z"
   },
   {
    "duration": 4404,
    "start_time": "2022-03-03T10:48:20.447Z"
   },
   {
    "duration": -949,
    "start_time": "2022-03-03T10:48:25.804Z"
   },
   {
    "duration": -952,
    "start_time": "2022-03-03T10:48:25.808Z"
   },
   {
    "duration": -952,
    "start_time": "2022-03-03T10:48:25.810Z"
   },
   {
    "duration": -955,
    "start_time": "2022-03-03T10:48:25.814Z"
   },
   {
    "duration": -963,
    "start_time": "2022-03-03T10:48:25.823Z"
   },
   {
    "duration": -965,
    "start_time": "2022-03-03T10:48:25.827Z"
   },
   {
    "duration": -967,
    "start_time": "2022-03-03T10:48:25.830Z"
   },
   {
    "duration": -974,
    "start_time": "2022-03-03T10:48:25.838Z"
   },
   {
    "duration": -976,
    "start_time": "2022-03-03T10:48:25.842Z"
   },
   {
    "duration": -978,
    "start_time": "2022-03-03T10:48:25.845Z"
   },
   {
    "duration": -980,
    "start_time": "2022-03-03T10:48:25.849Z"
   },
   {
    "duration": -1031,
    "start_time": "2022-03-03T10:48:25.901Z"
   },
   {
    "duration": -1031,
    "start_time": "2022-03-03T10:48:25.903Z"
   },
   {
    "duration": -1033,
    "start_time": "2022-03-03T10:48:25.906Z"
   },
   {
    "duration": -1034,
    "start_time": "2022-03-03T10:48:25.908Z"
   },
   {
    "duration": -1035,
    "start_time": "2022-03-03T10:48:25.911Z"
   },
   {
    "duration": -1035,
    "start_time": "2022-03-03T10:48:25.912Z"
   },
   {
    "duration": -1039,
    "start_time": "2022-03-03T10:48:25.918Z"
   },
   {
    "duration": -1040,
    "start_time": "2022-03-03T10:48:25.920Z"
   },
   {
    "duration": -1042,
    "start_time": "2022-03-03T10:48:25.923Z"
   },
   {
    "duration": -1042,
    "start_time": "2022-03-03T10:48:25.925Z"
   },
   {
    "duration": -1048,
    "start_time": "2022-03-03T10:48:25.932Z"
   },
   {
    "duration": -1052,
    "start_time": "2022-03-03T10:48:25.937Z"
   },
   {
    "duration": -1052,
    "start_time": "2022-03-03T10:48:25.939Z"
   },
   {
    "duration": -1052,
    "start_time": "2022-03-03T10:48:25.940Z"
   },
   {
    "duration": -1053,
    "start_time": "2022-03-03T10:48:25.942Z"
   },
   {
    "duration": 4357,
    "start_time": "2022-03-03T10:49:27.723Z"
   },
   {
    "duration": 4222,
    "start_time": "2022-03-03T10:49:49.878Z"
   },
   {
    "duration": 3316,
    "start_time": "2022-03-03T10:50:16.790Z"
   },
   {
    "duration": 3202,
    "start_time": "2022-03-03T10:50:52.592Z"
   },
   {
    "duration": 3227,
    "start_time": "2022-03-03T10:52:22.411Z"
   },
   {
    "duration": 3391,
    "start_time": "2022-03-03T10:52:56.731Z"
   },
   {
    "duration": 1945,
    "start_time": "2022-03-03T10:53:25.189Z"
   },
   {
    "duration": 52,
    "start_time": "2022-03-03T10:53:27.137Z"
   },
   {
    "duration": 3,
    "start_time": "2022-03-03T10:53:27.192Z"
   },
   {
    "duration": 7,
    "start_time": "2022-03-03T10:53:27.198Z"
   },
   {
    "duration": 173,
    "start_time": "2022-03-03T10:53:27.207Z"
   },
   {
    "duration": 18,
    "start_time": "2022-03-03T10:53:27.382Z"
   },
   {
    "duration": 15,
    "start_time": "2022-03-03T10:53:27.402Z"
   },
   {
    "duration": 5,
    "start_time": "2022-03-03T10:53:27.420Z"
   },
   {
    "duration": 151,
    "start_time": "2022-03-03T10:53:27.428Z"
   },
   {
    "duration": 20,
    "start_time": "2022-03-03T10:53:27.581Z"
   },
   {
    "duration": 21,
    "start_time": "2022-03-03T10:53:27.603Z"
   },
   {
    "duration": 14,
    "start_time": "2022-03-03T10:53:27.627Z"
   },
   {
    "duration": 771,
    "start_time": "2022-03-03T10:53:27.673Z"
   },
   {
    "duration": 36,
    "start_time": "2022-03-03T10:53:28.446Z"
   },
   {
    "duration": 427,
    "start_time": "2022-03-03T10:53:28.484Z"
   },
   {
    "duration": 30,
    "start_time": "2022-03-03T10:53:28.914Z"
   },
   {
    "duration": 33,
    "start_time": "2022-03-03T10:53:28.946Z"
   },
   {
    "duration": 1402,
    "start_time": "2022-03-03T10:53:28.981Z"
   },
   {
    "duration": 11,
    "start_time": "2022-03-03T10:53:30.386Z"
   },
   {
    "duration": 414,
    "start_time": "2022-03-03T10:53:30.399Z"
   },
   {
    "duration": 3,
    "start_time": "2022-03-03T10:53:30.816Z"
   },
   {
    "duration": 88,
    "start_time": "2022-03-03T10:53:30.822Z"
   },
   {
    "duration": 27,
    "start_time": "2022-03-03T10:53:30.916Z"
   },
   {
    "duration": 584,
    "start_time": "2022-03-03T10:53:30.946Z"
   },
   {
    "duration": 10,
    "start_time": "2022-03-03T10:53:31.532Z"
   },
   {
    "duration": 624,
    "start_time": "2022-03-03T10:53:31.545Z"
   },
   {
    "duration": 23,
    "start_time": "2022-03-03T10:53:32.171Z"
   },
   {
    "duration": 18,
    "start_time": "2022-03-03T10:53:32.196Z"
   },
   {
    "duration": 12,
    "start_time": "2022-03-03T10:53:32.217Z"
   },
   {
    "duration": 21,
    "start_time": "2022-03-03T10:53:32.232Z"
   },
   {
    "duration": 6,
    "start_time": "2022-03-03T10:53:32.274Z"
   },
   {
    "duration": 610,
    "start_time": "2022-03-03T11:18:08.222Z"
   },
   {
    "duration": 7,
    "start_time": "2022-03-03T11:19:10.813Z"
   },
   {
    "duration": 12,
    "start_time": "2022-03-03T11:20:46.708Z"
   },
   {
    "duration": 12,
    "start_time": "2022-03-03T11:20:54.294Z"
   },
   {
    "duration": 15,
    "start_time": "2022-03-03T11:21:16.293Z"
   },
   {
    "duration": 523,
    "start_time": "2022-03-03T11:26:20.013Z"
   },
   {
    "duration": 16,
    "start_time": "2022-03-03T11:26:51.686Z"
   },
   {
    "duration": 18,
    "start_time": "2022-03-03T11:28:31.715Z"
   },
   {
    "duration": 19,
    "start_time": "2022-03-03T11:29:00.149Z"
   },
   {
    "duration": 18,
    "start_time": "2022-03-03T11:41:41.562Z"
   },
   {
    "duration": 25,
    "start_time": "2022-03-03T11:43:01.815Z"
   },
   {
    "duration": 13,
    "start_time": "2022-03-03T11:43:07.126Z"
   },
   {
    "duration": 28,
    "start_time": "2022-03-03T11:43:08.234Z"
   },
   {
    "duration": 2117,
    "start_time": "2022-03-03T11:43:27.372Z"
   },
   {
    "duration": 59,
    "start_time": "2022-03-03T11:43:29.492Z"
   },
   {
    "duration": 4,
    "start_time": "2022-03-03T11:43:29.554Z"
   },
   {
    "duration": 11,
    "start_time": "2022-03-03T11:43:29.560Z"
   },
   {
    "duration": 153,
    "start_time": "2022-03-03T11:43:29.574Z"
   },
   {
    "duration": 51,
    "start_time": "2022-03-03T11:43:29.729Z"
   },
   {
    "duration": 16,
    "start_time": "2022-03-03T11:43:29.782Z"
   },
   {
    "duration": 4,
    "start_time": "2022-03-03T11:43:29.802Z"
   },
   {
    "duration": 123,
    "start_time": "2022-03-03T11:43:29.809Z"
   },
   {
    "duration": 19,
    "start_time": "2022-03-03T11:43:29.934Z"
   },
   {
    "duration": 25,
    "start_time": "2022-03-03T11:43:29.956Z"
   },
   {
    "duration": 15,
    "start_time": "2022-03-03T11:43:29.984Z"
   },
   {
    "duration": 874,
    "start_time": "2022-03-03T11:43:30.002Z"
   },
   {
    "duration": 15,
    "start_time": "2022-03-03T11:43:30.878Z"
   },
   {
    "duration": 470,
    "start_time": "2022-03-03T11:43:30.895Z"
   },
   {
    "duration": 31,
    "start_time": "2022-03-03T11:43:31.372Z"
   },
   {
    "duration": 13,
    "start_time": "2022-03-03T11:43:31.406Z"
   },
   {
    "duration": 1432,
    "start_time": "2022-03-03T11:43:31.422Z"
   },
   {
    "duration": 20,
    "start_time": "2022-03-03T11:43:32.857Z"
   },
   {
    "duration": 415,
    "start_time": "2022-03-03T11:43:32.879Z"
   },
   {
    "duration": 4,
    "start_time": "2022-03-03T11:43:33.298Z"
   },
   {
    "duration": 93,
    "start_time": "2022-03-03T11:43:33.305Z"
   },
   {
    "duration": 22,
    "start_time": "2022-03-03T11:43:33.404Z"
   },
   {
    "duration": 593,
    "start_time": "2022-03-03T11:43:33.429Z"
   },
   {
    "duration": 9,
    "start_time": "2022-03-03T11:43:34.025Z"
   },
   {
    "duration": 671,
    "start_time": "2022-03-03T11:43:34.036Z"
   },
   {
    "duration": 26,
    "start_time": "2022-03-03T11:43:34.710Z"
   },
   {
    "duration": 13,
    "start_time": "2022-03-03T11:43:34.739Z"
   },
   {
    "duration": 9,
    "start_time": "2022-03-03T11:43:34.755Z"
   },
   {
    "duration": 20,
    "start_time": "2022-03-03T11:43:34.772Z"
   },
   {
    "duration": 18,
    "start_time": "2022-03-03T11:43:34.794Z"
   },
   {
    "duration": 7,
    "start_time": "2022-03-03T11:43:34.814Z"
   },
   {
    "duration": 12,
    "start_time": "2022-03-03T12:57:36.711Z"
   },
   {
    "duration": 12,
    "start_time": "2022-03-03T13:01:43.653Z"
   },
   {
    "duration": 11,
    "start_time": "2022-03-03T13:01:50.098Z"
   },
   {
    "duration": 6710,
    "start_time": "2022-03-03T13:03:58.870Z"
   },
   {
    "duration": 6308,
    "start_time": "2022-03-03T13:04:24.425Z"
   },
   {
    "duration": 1901,
    "start_time": "2022-03-03T13:11:01.494Z"
   },
   {
    "duration": 61,
    "start_time": "2022-03-03T13:11:03.399Z"
   },
   {
    "duration": 4,
    "start_time": "2022-03-03T13:11:03.462Z"
   },
   {
    "duration": 13,
    "start_time": "2022-03-03T13:11:03.473Z"
   },
   {
    "duration": 148,
    "start_time": "2022-03-03T13:11:03.489Z"
   },
   {
    "duration": 45,
    "start_time": "2022-03-03T13:11:03.640Z"
   },
   {
    "duration": 16,
    "start_time": "2022-03-03T13:11:03.687Z"
   },
   {
    "duration": 12,
    "start_time": "2022-03-03T13:11:03.706Z"
   },
   {
    "duration": 141,
    "start_time": "2022-03-03T13:11:03.721Z"
   },
   {
    "duration": 25,
    "start_time": "2022-03-03T13:11:03.865Z"
   },
   {
    "duration": 24,
    "start_time": "2022-03-03T13:11:03.893Z"
   },
   {
    "duration": 15,
    "start_time": "2022-03-03T13:11:03.919Z"
   },
   {
    "duration": 800,
    "start_time": "2022-03-03T13:11:03.937Z"
   },
   {
    "duration": 39,
    "start_time": "2022-03-03T13:11:04.739Z"
   },
   {
    "duration": 433,
    "start_time": "2022-03-03T13:11:04.780Z"
   },
   {
    "duration": 29,
    "start_time": "2022-03-03T13:11:05.216Z"
   },
   {
    "duration": 34,
    "start_time": "2022-03-03T13:11:05.247Z"
   },
   {
    "duration": 1363,
    "start_time": "2022-03-03T13:11:05.283Z"
   },
   {
    "duration": 12,
    "start_time": "2022-03-03T13:11:06.648Z"
   },
   {
    "duration": 405,
    "start_time": "2022-03-03T13:11:06.673Z"
   },
   {
    "duration": 3,
    "start_time": "2022-03-03T13:11:07.081Z"
   },
   {
    "duration": 89,
    "start_time": "2022-03-03T13:11:07.086Z"
   },
   {
    "duration": 19,
    "start_time": "2022-03-03T13:11:07.179Z"
   },
   {
    "duration": 572,
    "start_time": "2022-03-03T13:11:07.201Z"
   },
   {
    "duration": 9,
    "start_time": "2022-03-03T13:11:07.775Z"
   },
   {
    "duration": 569,
    "start_time": "2022-03-03T13:11:07.786Z"
   },
   {
    "duration": 28,
    "start_time": "2022-03-03T13:11:08.358Z"
   },
   {
    "duration": 4523,
    "start_time": "2022-03-03T13:11:08.389Z"
   },
   {
    "duration": -3278,
    "start_time": "2022-03-03T13:11:16.193Z"
   },
   {
    "duration": -3277,
    "start_time": "2022-03-03T13:11:16.194Z"
   },
   {
    "duration": -3277,
    "start_time": "2022-03-03T13:11:16.195Z"
   },
   {
    "duration": -3276,
    "start_time": "2022-03-03T13:11:16.196Z"
   },
   {
    "duration": 12,
    "start_time": "2022-03-03T13:12:06.000Z"
   },
   {
    "duration": 283,
    "start_time": "2022-03-03T13:12:29.074Z"
   },
   {
    "duration": 10,
    "start_time": "2022-03-03T13:12:48.650Z"
   },
   {
    "duration": 18,
    "start_time": "2022-03-03T13:22:09.483Z"
   },
   {
    "duration": 1915,
    "start_time": "2022-03-03T17:46:11.006Z"
   },
   {
    "duration": 67,
    "start_time": "2022-03-03T17:46:12.924Z"
   },
   {
    "duration": 3,
    "start_time": "2022-03-03T17:46:12.995Z"
   },
   {
    "duration": 9,
    "start_time": "2022-03-03T17:46:13.001Z"
   },
   {
    "duration": 181,
    "start_time": "2022-03-03T17:46:13.013Z"
   },
   {
    "duration": 23,
    "start_time": "2022-03-03T17:46:13.196Z"
   },
   {
    "duration": 17,
    "start_time": "2022-03-03T17:46:13.222Z"
   },
   {
    "duration": 4,
    "start_time": "2022-03-03T17:46:13.275Z"
   },
   {
    "duration": 140,
    "start_time": "2022-03-03T17:46:13.283Z"
   },
   {
    "duration": 22,
    "start_time": "2022-03-03T17:46:13.425Z"
   },
   {
    "duration": 46,
    "start_time": "2022-03-03T17:46:13.450Z"
   },
   {
    "duration": 13,
    "start_time": "2022-03-03T17:46:13.499Z"
   },
   {
    "duration": 877,
    "start_time": "2022-03-03T17:46:13.515Z"
   },
   {
    "duration": 14,
    "start_time": "2022-03-03T17:46:14.394Z"
   },
   {
    "duration": 429,
    "start_time": "2022-03-03T17:46:14.410Z"
   },
   {
    "duration": 47,
    "start_time": "2022-03-03T17:46:14.841Z"
   },
   {
    "duration": 13,
    "start_time": "2022-03-03T17:46:14.890Z"
   },
   {
    "duration": 1502,
    "start_time": "2022-03-03T17:46:14.906Z"
   },
   {
    "duration": 12,
    "start_time": "2022-03-03T17:46:16.411Z"
   },
   {
    "duration": 413,
    "start_time": "2022-03-03T17:46:16.425Z"
   },
   {
    "duration": 3,
    "start_time": "2022-03-03T17:46:16.841Z"
   },
   {
    "duration": 96,
    "start_time": "2022-03-03T17:46:16.846Z"
   },
   {
    "duration": 29,
    "start_time": "2022-03-03T17:46:16.946Z"
   },
   {
    "duration": 550,
    "start_time": "2022-03-03T17:46:16.978Z"
   },
   {
    "duration": 10,
    "start_time": "2022-03-03T17:46:17.530Z"
   },
   {
    "duration": 623,
    "start_time": "2022-03-03T17:46:17.542Z"
   },
   {
    "duration": 26,
    "start_time": "2022-03-03T17:46:18.167Z"
   },
   {
    "duration": 34,
    "start_time": "2022-03-03T17:46:18.195Z"
   },
   {
    "duration": 22,
    "start_time": "2022-03-03T17:46:18.231Z"
   },
   {
    "duration": 40,
    "start_time": "2022-03-03T17:46:18.255Z"
   },
   {
    "duration": 42,
    "start_time": "2022-03-03T17:46:18.298Z"
   },
   {
    "duration": 17,
    "start_time": "2022-03-03T17:46:18.343Z"
   },
   {
    "duration": 1897,
    "start_time": "2022-03-05T08:19:18.052Z"
   },
   {
    "duration": 57,
    "start_time": "2022-03-05T08:19:19.952Z"
   },
   {
    "duration": 3,
    "start_time": "2022-03-05T08:19:20.012Z"
   },
   {
    "duration": 18,
    "start_time": "2022-03-05T08:19:20.018Z"
   },
   {
    "duration": 156,
    "start_time": "2022-03-05T08:19:20.038Z"
   },
   {
    "duration": 17,
    "start_time": "2022-03-05T08:19:20.196Z"
   },
   {
    "duration": 14,
    "start_time": "2022-03-05T08:19:20.215Z"
   },
   {
    "duration": 6,
    "start_time": "2022-03-05T08:19:20.233Z"
   },
   {
    "duration": 147,
    "start_time": "2022-03-05T08:19:20.241Z"
   },
   {
    "duration": 19,
    "start_time": "2022-03-05T08:19:20.390Z"
   },
   {
    "duration": 20,
    "start_time": "2022-03-05T08:19:20.411Z"
   },
   {
    "duration": 13,
    "start_time": "2022-03-05T08:19:20.434Z"
   },
   {
    "duration": 792,
    "start_time": "2022-03-05T08:19:20.449Z"
   },
   {
    "duration": 13,
    "start_time": "2022-03-05T08:19:21.243Z"
   },
   {
    "duration": 409,
    "start_time": "2022-03-05T08:19:21.259Z"
   },
   {
    "duration": 38,
    "start_time": "2022-03-05T08:19:21.670Z"
   },
   {
    "duration": 12,
    "start_time": "2022-03-05T08:19:21.710Z"
   },
   {
    "duration": 1387,
    "start_time": "2022-03-05T08:19:21.725Z"
   },
   {
    "duration": 11,
    "start_time": "2022-03-05T08:19:23.114Z"
   },
   {
    "duration": 393,
    "start_time": "2022-03-05T08:19:23.128Z"
   },
   {
    "duration": 4,
    "start_time": "2022-03-05T08:19:23.523Z"
   },
   {
    "duration": 88,
    "start_time": "2022-03-05T08:19:23.529Z"
   },
   {
    "duration": 18,
    "start_time": "2022-03-05T08:19:23.621Z"
   },
   {
    "duration": 532,
    "start_time": "2022-03-05T08:19:23.642Z"
   },
   {
    "duration": 16,
    "start_time": "2022-03-05T08:19:24.176Z"
   },
   {
    "duration": 615,
    "start_time": "2022-03-05T08:19:24.194Z"
   },
   {
    "duration": -267,
    "start_time": "2022-03-05T08:19:25.078Z"
   },
   {
    "duration": -271,
    "start_time": "2022-03-05T08:19:25.084Z"
   },
   {
    "duration": -271,
    "start_time": "2022-03-05T08:19:25.086Z"
   },
   {
    "duration": -272,
    "start_time": "2022-03-05T08:19:25.088Z"
   },
   {
    "duration": -271,
    "start_time": "2022-03-05T08:19:25.089Z"
   },
   {
    "duration": -272,
    "start_time": "2022-03-05T08:19:25.091Z"
   },
   {
    "duration": 1394,
    "start_time": "2022-03-10T09:55:48.842Z"
   },
   {
    "duration": 49,
    "start_time": "2022-03-10T09:55:50.238Z"
   },
   {
    "duration": 3,
    "start_time": "2022-03-10T09:55:50.289Z"
   },
   {
    "duration": 6,
    "start_time": "2022-03-10T09:55:50.294Z"
   },
   {
    "duration": 101,
    "start_time": "2022-03-10T09:55:50.302Z"
   },
   {
    "duration": 33,
    "start_time": "2022-03-10T09:55:50.405Z"
   },
   {
    "duration": 10,
    "start_time": "2022-03-10T09:55:50.440Z"
   },
   {
    "duration": 6,
    "start_time": "2022-03-10T09:55:50.453Z"
   },
   {
    "duration": 76,
    "start_time": "2022-03-10T09:55:50.460Z"
   },
   {
    "duration": 17,
    "start_time": "2022-03-10T09:55:50.538Z"
   },
   {
    "duration": 13,
    "start_time": "2022-03-10T09:55:50.557Z"
   },
   {
    "duration": 10,
    "start_time": "2022-03-10T09:55:50.572Z"
   },
   {
    "duration": 535,
    "start_time": "2022-03-10T09:55:50.583Z"
   },
   {
    "duration": 10,
    "start_time": "2022-03-10T09:55:51.132Z"
   },
   {
    "duration": 322,
    "start_time": "2022-03-10T09:55:51.144Z"
   },
   {
    "duration": 19,
    "start_time": "2022-03-10T09:55:51.467Z"
   },
   {
    "duration": 8,
    "start_time": "2022-03-10T09:55:51.488Z"
   },
   {
    "duration": 879,
    "start_time": "2022-03-10T09:55:51.498Z"
   },
   {
    "duration": 8,
    "start_time": "2022-03-10T09:55:52.378Z"
   },
   {
    "duration": 245,
    "start_time": "2022-03-10T09:55:52.388Z"
   },
   {
    "duration": 3,
    "start_time": "2022-03-10T09:55:52.634Z"
   },
   {
    "duration": 49,
    "start_time": "2022-03-10T09:55:52.638Z"
   },
   {
    "duration": 13,
    "start_time": "2022-03-10T09:55:52.690Z"
   },
   {
    "duration": 385,
    "start_time": "2022-03-10T09:55:52.704Z"
   },
   {
    "duration": 6,
    "start_time": "2022-03-10T09:55:53.091Z"
   },
   {
    "duration": 4500,
    "start_time": "2022-03-10T09:55:53.099Z"
   },
   {
    "duration": 17,
    "start_time": "2022-03-10T09:55:57.600Z"
   },
   {
    "duration": 8,
    "start_time": "2022-03-10T09:55:57.619Z"
   },
   {
    "duration": 7,
    "start_time": "2022-03-10T09:55:57.629Z"
   },
   {
    "duration": 13,
    "start_time": "2022-03-10T09:55:57.637Z"
   },
   {
    "duration": 11,
    "start_time": "2022-03-10T09:55:57.652Z"
   },
   {
    "duration": 3,
    "start_time": "2022-03-10T09:55:57.665Z"
   },
   {
    "duration": 1386,
    "start_time": "2022-03-10T10:03:28.134Z"
   },
   {
    "duration": 39,
    "start_time": "2022-03-10T10:03:29.522Z"
   },
   {
    "duration": 3,
    "start_time": "2022-03-10T10:03:29.565Z"
   },
   {
    "duration": 7,
    "start_time": "2022-03-10T10:03:29.569Z"
   },
   {
    "duration": 103,
    "start_time": "2022-03-10T10:03:29.578Z"
   },
   {
    "duration": 12,
    "start_time": "2022-03-10T10:03:29.682Z"
   },
   {
    "duration": 10,
    "start_time": "2022-03-10T10:03:29.697Z"
   },
   {
    "duration": 25,
    "start_time": "2022-03-10T10:03:29.709Z"
   },
   {
    "duration": 71,
    "start_time": "2022-03-10T10:03:29.735Z"
   },
   {
    "duration": 15,
    "start_time": "2022-03-10T10:03:29.808Z"
   },
   {
    "duration": 22,
    "start_time": "2022-03-10T10:03:29.824Z"
   },
   {
    "duration": 9,
    "start_time": "2022-03-10T10:03:29.848Z"
   },
   {
    "duration": 515,
    "start_time": "2022-03-10T10:03:29.858Z"
   },
   {
    "duration": 9,
    "start_time": "2022-03-10T10:03:30.375Z"
   },
   {
    "duration": 346,
    "start_time": "2022-03-10T10:03:30.386Z"
   },
   {
    "duration": 18,
    "start_time": "2022-03-10T10:03:30.734Z"
   },
   {
    "duration": 9,
    "start_time": "2022-03-10T10:03:30.754Z"
   },
   {
    "duration": 915,
    "start_time": "2022-03-10T10:03:30.764Z"
   },
   {
    "duration": 8,
    "start_time": "2022-03-10T10:03:31.681Z"
   },
   {
    "duration": 237,
    "start_time": "2022-03-10T10:03:31.690Z"
   },
   {
    "duration": 2,
    "start_time": "2022-03-10T10:03:31.933Z"
   },
   {
    "duration": 50,
    "start_time": "2022-03-10T10:03:31.937Z"
   },
   {
    "duration": 13,
    "start_time": "2022-03-10T10:03:31.988Z"
   },
   {
    "duration": 420,
    "start_time": "2022-03-10T10:03:32.003Z"
   },
   {
    "duration": 8,
    "start_time": "2022-03-10T10:03:32.425Z"
   },
   {
    "duration": 4082,
    "start_time": "2022-03-10T10:03:32.435Z"
   },
   {
    "duration": 16,
    "start_time": "2022-03-10T10:03:36.519Z"
   },
   {
    "duration": 9,
    "start_time": "2022-03-10T10:03:36.537Z"
   },
   {
    "duration": 8,
    "start_time": "2022-03-10T10:03:36.548Z"
   },
   {
    "duration": 12,
    "start_time": "2022-03-10T10:03:36.558Z"
   },
   {
    "duration": 11,
    "start_time": "2022-03-10T10:03:36.572Z"
   },
   {
    "duration": 3,
    "start_time": "2022-03-10T10:03:36.584Z"
   },
   {
    "duration": 8,
    "start_time": "2022-03-10T10:04:25.644Z"
   },
   {
    "duration": 342,
    "start_time": "2022-03-10T10:06:49.718Z"
   },
   {
    "duration": 12,
    "start_time": "2022-03-10T10:07:09.563Z"
   },
   {
    "duration": 80,
    "start_time": "2022-03-10T11:04:46.487Z"
   },
   {
    "duration": 247,
    "start_time": "2022-03-10T11:09:13.638Z"
   },
   {
    "duration": 257,
    "start_time": "2022-03-10T11:12:14.156Z"
   },
   {
    "duration": 203,
    "start_time": "2022-03-10T11:12:16.053Z"
   },
   {
    "duration": 4745,
    "start_time": "2022-03-10T11:12:17.409Z"
   },
   {
    "duration": 273,
    "start_time": "2022-03-10T11:12:26.344Z"
   },
   {
    "duration": 248,
    "start_time": "2022-03-10T11:12:29.177Z"
   },
   {
    "duration": 260,
    "start_time": "2022-03-10T11:15:36.168Z"
   },
   {
    "duration": 256,
    "start_time": "2022-03-10T11:16:48.663Z"
   },
   {
    "duration": 511,
    "start_time": "2022-03-10T11:22:25.153Z"
   },
   {
    "duration": 241,
    "start_time": "2022-03-10T11:22:36.266Z"
   },
   {
    "duration": 238,
    "start_time": "2022-03-10T11:25:46.099Z"
   },
   {
    "duration": 789,
    "start_time": "2022-03-10T11:27:36.853Z"
   },
   {
    "duration": 4321,
    "start_time": "2022-03-10T11:28:05.640Z"
   },
   {
    "duration": 187,
    "start_time": "2022-03-10T11:28:39.798Z"
   },
   {
    "duration": 9,
    "start_time": "2022-03-10T11:28:57.604Z"
   },
   {
    "duration": 19,
    "start_time": "2022-03-10T11:29:03.248Z"
   },
   {
    "duration": 1418,
    "start_time": "2022-03-10T12:01:12.880Z"
   },
   {
    "duration": 46,
    "start_time": "2022-03-10T12:01:14.300Z"
   },
   {
    "duration": 3,
    "start_time": "2022-03-10T12:01:14.348Z"
   },
   {
    "duration": 5,
    "start_time": "2022-03-10T12:01:14.353Z"
   },
   {
    "duration": 99,
    "start_time": "2022-03-10T12:01:14.359Z"
   },
   {
    "duration": 13,
    "start_time": "2022-03-10T12:01:14.460Z"
   },
   {
    "duration": 11,
    "start_time": "2022-03-10T12:01:14.474Z"
   },
   {
    "duration": 4,
    "start_time": "2022-03-10T12:01:14.488Z"
   },
   {
    "duration": 97,
    "start_time": "2022-03-10T12:01:14.494Z"
   },
   {
    "duration": 20,
    "start_time": "2022-03-10T12:01:14.592Z"
   },
   {
    "duration": 21,
    "start_time": "2022-03-10T12:01:14.614Z"
   },
   {
    "duration": 9,
    "start_time": "2022-03-10T12:01:14.637Z"
   },
   {
    "duration": 609,
    "start_time": "2022-03-10T12:01:14.647Z"
   },
   {
    "duration": 10,
    "start_time": "2022-03-10T12:01:15.258Z"
   },
   {
    "duration": 205,
    "start_time": "2022-03-10T12:01:15.270Z"
   },
   {
    "duration": 20,
    "start_time": "2022-03-10T12:01:15.477Z"
   },
   {
    "duration": 41,
    "start_time": "2022-03-10T12:01:15.498Z"
   },
   {
    "duration": 927,
    "start_time": "2022-03-10T12:01:15.541Z"
   },
   {
    "duration": 8,
    "start_time": "2022-03-10T12:01:16.470Z"
   },
   {
    "duration": 254,
    "start_time": "2022-03-10T12:01:16.479Z"
   },
   {
    "duration": 3,
    "start_time": "2022-03-10T12:01:16.734Z"
   },
   {
    "duration": 197,
    "start_time": "2022-03-10T12:01:16.738Z"
   },
   {
    "duration": 13,
    "start_time": "2022-03-10T12:01:16.938Z"
   },
   {
    "duration": 241,
    "start_time": "2022-03-10T12:01:16.952Z"
   },
   {
    "duration": 7,
    "start_time": "2022-03-10T12:01:17.195Z"
   },
   {
    "duration": 62,
    "start_time": "2022-03-10T12:01:17.203Z"
   },
   {
    "duration": -1146,
    "start_time": "2022-03-10T12:01:18.414Z"
   },
   {
    "duration": -1147,
    "start_time": "2022-03-10T12:01:18.416Z"
   },
   {
    "duration": -1148,
    "start_time": "2022-03-10T12:01:18.418Z"
   },
   {
    "duration": 1209,
    "start_time": "2022-03-10T12:01:25.852Z"
   },
   {
    "duration": 9,
    "start_time": "2022-03-10T12:01:30.929Z"
   },
   {
    "duration": 12,
    "start_time": "2022-03-10T12:01:33.360Z"
   },
   {
    "duration": 4,
    "start_time": "2022-03-10T12:06:18.288Z"
   },
   {
    "duration": 11,
    "start_time": "2022-03-10T12:07:35.191Z"
   },
   {
    "duration": 11,
    "start_time": "2022-03-10T12:07:50.131Z"
   },
   {
    "duration": 9,
    "start_time": "2022-03-10T12:07:56.003Z"
   },
   {
    "duration": 364,
    "start_time": "2022-03-10T12:12:52.118Z"
   },
   {
    "duration": 391,
    "start_time": "2022-03-10T12:17:30.780Z"
   },
   {
    "duration": 19,
    "start_time": "2022-03-10T12:17:48.633Z"
   },
   {
    "duration": 12,
    "start_time": "2022-03-10T12:17:55.217Z"
   },
   {
    "duration": 225,
    "start_time": "2022-03-10T12:17:55.997Z"
   },
   {
    "duration": 24,
    "start_time": "2022-03-10T12:51:49.763Z"
   },
   {
    "duration": 20,
    "start_time": "2022-03-10T12:52:16.235Z"
   },
   {
    "duration": 22,
    "start_time": "2022-03-10T12:52:34.327Z"
   },
   {
    "duration": 32,
    "start_time": "2022-03-10T12:52:55.426Z"
   },
   {
    "duration": 30,
    "start_time": "2022-03-10T12:53:12.419Z"
   },
   {
    "duration": 1445,
    "start_time": "2022-03-10T12:54:04.243Z"
   },
   {
    "duration": 40,
    "start_time": "2022-03-10T12:54:05.690Z"
   },
   {
    "duration": 3,
    "start_time": "2022-03-10T12:54:05.736Z"
   },
   {
    "duration": 7,
    "start_time": "2022-03-10T12:54:05.740Z"
   },
   {
    "duration": 114,
    "start_time": "2022-03-10T12:54:05.748Z"
   },
   {
    "duration": 13,
    "start_time": "2022-03-10T12:54:05.864Z"
   },
   {
    "duration": 11,
    "start_time": "2022-03-10T12:54:05.878Z"
   },
   {
    "duration": 3,
    "start_time": "2022-03-10T12:54:05.892Z"
   },
   {
    "duration": 105,
    "start_time": "2022-03-10T12:54:05.897Z"
   },
   {
    "duration": 14,
    "start_time": "2022-03-10T12:54:06.005Z"
   },
   {
    "duration": 26,
    "start_time": "2022-03-10T12:54:06.021Z"
   },
   {
    "duration": 11,
    "start_time": "2022-03-10T12:54:06.049Z"
   },
   {
    "duration": 609,
    "start_time": "2022-03-10T12:54:06.062Z"
   },
   {
    "duration": 12,
    "start_time": "2022-03-10T12:54:06.673Z"
   },
   {
    "duration": 288,
    "start_time": "2022-03-10T12:54:06.687Z"
   },
   {
    "duration": 21,
    "start_time": "2022-03-10T12:54:06.977Z"
   },
   {
    "duration": 40,
    "start_time": "2022-03-10T12:54:07.000Z"
   },
   {
    "duration": 930,
    "start_time": "2022-03-10T12:54:07.042Z"
   },
   {
    "duration": 9,
    "start_time": "2022-03-10T12:54:07.974Z"
   },
   {
    "duration": 245,
    "start_time": "2022-03-10T12:54:07.985Z"
   },
   {
    "duration": 32,
    "start_time": "2022-03-10T12:54:08.232Z"
   },
   {
    "duration": 16,
    "start_time": "2022-03-10T12:54:08.266Z"
   },
   {
    "duration": 374,
    "start_time": "2022-03-10T12:54:08.283Z"
   },
   {
    "duration": 7,
    "start_time": "2022-03-10T12:54:08.659Z"
   },
   {
    "duration": 1336,
    "start_time": "2022-03-10T12:54:08.668Z"
   },
   {
    "duration": 8,
    "start_time": "2022-03-10T12:54:10.007Z"
   },
   {
    "duration": 13,
    "start_time": "2022-03-10T12:54:10.017Z"
   },
   {
    "duration": 7,
    "start_time": "2022-03-10T12:54:10.031Z"
   },
   {
    "duration": 11,
    "start_time": "2022-03-10T12:54:10.040Z"
   },
   {
    "duration": 37,
    "start_time": "2022-03-10T12:55:25.614Z"
   },
   {
    "duration": 1480,
    "start_time": "2022-03-10T12:55:34.522Z"
   },
   {
    "duration": 40,
    "start_time": "2022-03-10T12:55:36.004Z"
   },
   {
    "duration": 3,
    "start_time": "2022-03-10T12:55:36.048Z"
   },
   {
    "duration": 7,
    "start_time": "2022-03-10T12:55:36.052Z"
   },
   {
    "duration": 101,
    "start_time": "2022-03-10T12:55:36.061Z"
   },
   {
    "duration": 12,
    "start_time": "2022-03-10T12:55:36.164Z"
   },
   {
    "duration": 10,
    "start_time": "2022-03-10T12:55:36.178Z"
   },
   {
    "duration": 4,
    "start_time": "2022-03-10T12:55:36.190Z"
   },
   {
    "duration": 95,
    "start_time": "2022-03-10T12:55:36.196Z"
   },
   {
    "duration": 15,
    "start_time": "2022-03-10T12:55:36.293Z"
   },
   {
    "duration": 24,
    "start_time": "2022-03-10T12:55:36.310Z"
   },
   {
    "duration": 10,
    "start_time": "2022-03-10T12:55:36.335Z"
   },
   {
    "duration": 587,
    "start_time": "2022-03-10T12:55:36.346Z"
   },
   {
    "duration": 9,
    "start_time": "2022-03-10T12:55:36.935Z"
   },
   {
    "duration": 220,
    "start_time": "2022-03-10T12:55:36.945Z"
   },
   {
    "duration": 18,
    "start_time": "2022-03-10T12:55:37.167Z"
   },
   {
    "duration": 9,
    "start_time": "2022-03-10T12:55:37.187Z"
   },
   {
    "duration": 879,
    "start_time": "2022-03-10T12:55:37.198Z"
   },
   {
    "duration": 8,
    "start_time": "2022-03-10T12:55:38.079Z"
   },
   {
    "duration": 233,
    "start_time": "2022-03-10T12:55:38.089Z"
   },
   {
    "duration": 42,
    "start_time": "2022-03-10T12:55:38.324Z"
   },
   {
    "duration": 14,
    "start_time": "2022-03-10T12:55:38.369Z"
   },
   {
    "duration": 377,
    "start_time": "2022-03-10T12:55:38.385Z"
   },
   {
    "duration": 7,
    "start_time": "2022-03-10T12:55:38.764Z"
   },
   {
    "duration": 840,
    "start_time": "2022-03-10T12:55:38.772Z"
   },
   {
    "duration": 7,
    "start_time": "2022-03-10T12:55:39.613Z"
   },
   {
    "duration": 13,
    "start_time": "2022-03-10T12:55:39.622Z"
   },
   {
    "duration": 5,
    "start_time": "2022-03-10T12:55:39.636Z"
   },
   {
    "duration": 10,
    "start_time": "2022-03-10T12:55:39.643Z"
   },
   {
    "duration": 24,
    "start_time": "2022-03-10T12:57:08.119Z"
   },
   {
    "duration": 18,
    "start_time": "2022-03-10T12:57:17.311Z"
   },
   {
    "duration": 18,
    "start_time": "2022-03-10T12:57:29.375Z"
   },
   {
    "duration": 19,
    "start_time": "2022-03-10T12:57:31.003Z"
   },
   {
    "duration": 39,
    "start_time": "2022-03-10T12:57:56.807Z"
   },
   {
    "duration": 35,
    "start_time": "2022-03-10T12:58:13.439Z"
   },
   {
    "duration": 45,
    "start_time": "2022-03-10T12:58:30.991Z"
   },
   {
    "duration": 34,
    "start_time": "2022-03-10T12:59:29.388Z"
   },
   {
    "duration": 35,
    "start_time": "2022-03-10T12:59:33.814Z"
   },
   {
    "duration": 36,
    "start_time": "2022-03-10T12:59:40.550Z"
   },
   {
    "duration": 43,
    "start_time": "2022-03-10T12:59:47.906Z"
   },
   {
    "duration": 23,
    "start_time": "2022-03-10T13:00:21.435Z"
   },
   {
    "duration": 64,
    "start_time": "2022-03-10T13:00:27.570Z"
   },
   {
    "duration": 25,
    "start_time": "2022-03-10T13:00:30.079Z"
   },
   {
    "duration": 36,
    "start_time": "2022-03-10T13:00:49.634Z"
   },
   {
    "duration": 1474,
    "start_time": "2022-03-10T13:01:59.217Z"
   },
   {
    "duration": 43,
    "start_time": "2022-03-10T13:02:00.693Z"
   },
   {
    "duration": 3,
    "start_time": "2022-03-10T13:02:00.740Z"
   },
   {
    "duration": 6,
    "start_time": "2022-03-10T13:02:00.744Z"
   },
   {
    "duration": 110,
    "start_time": "2022-03-10T13:02:00.751Z"
   },
   {
    "duration": 13,
    "start_time": "2022-03-10T13:02:00.862Z"
   },
   {
    "duration": 10,
    "start_time": "2022-03-10T13:02:00.878Z"
   },
   {
    "duration": 24,
    "start_time": "2022-03-10T13:02:00.890Z"
   },
   {
    "duration": 88,
    "start_time": "2022-03-10T13:02:00.915Z"
   },
   {
    "duration": 48,
    "start_time": "2022-03-10T13:02:01.006Z"
   },
   {
    "duration": 23,
    "start_time": "2022-03-10T13:02:01.056Z"
   },
   {
    "duration": 13,
    "start_time": "2022-03-10T13:02:01.081Z"
   },
   {
    "duration": 607,
    "start_time": "2022-03-10T13:02:01.096Z"
   },
   {
    "duration": 27,
    "start_time": "2022-03-10T13:02:01.706Z"
   },
   {
    "duration": 201,
    "start_time": "2022-03-10T13:02:01.735Z"
   },
   {
    "duration": 19,
    "start_time": "2022-03-10T13:02:01.938Z"
   },
   {
    "duration": 8,
    "start_time": "2022-03-10T13:02:01.959Z"
   },
   {
    "duration": 982,
    "start_time": "2022-03-10T13:02:01.969Z"
   },
   {
    "duration": 8,
    "start_time": "2022-03-10T13:02:02.953Z"
   },
   {
    "duration": 241,
    "start_time": "2022-03-10T13:02:02.962Z"
   },
   {
    "duration": 52,
    "start_time": "2022-03-10T13:02:03.204Z"
   },
   {
    "duration": 14,
    "start_time": "2022-03-10T13:02:03.259Z"
   },
   {
    "duration": 379,
    "start_time": "2022-03-10T13:02:03.275Z"
   },
   {
    "duration": 6,
    "start_time": "2022-03-10T13:02:03.655Z"
   },
   {
    "duration": 833,
    "start_time": "2022-03-10T13:02:03.663Z"
   },
   {
    "duration": 7,
    "start_time": "2022-03-10T13:02:04.498Z"
   },
   {
    "duration": 14,
    "start_time": "2022-03-10T13:02:04.506Z"
   },
   {
    "duration": 5,
    "start_time": "2022-03-10T13:02:04.522Z"
   },
   {
    "duration": 16,
    "start_time": "2022-03-10T13:02:04.529Z"
   },
   {
    "duration": 54,
    "start_time": "2022-03-10T13:03:44.913Z"
   },
   {
    "duration": 44,
    "start_time": "2022-03-10T13:03:52.856Z"
   },
   {
    "duration": 46,
    "start_time": "2022-03-10T13:04:00.036Z"
   },
   {
    "duration": 44,
    "start_time": "2022-03-10T13:04:20.804Z"
   },
   {
    "duration": 45,
    "start_time": "2022-03-10T13:04:56.432Z"
   },
   {
    "duration": 45,
    "start_time": "2022-03-10T13:07:06.896Z"
   },
   {
    "duration": 4872,
    "start_time": "2022-03-10T13:08:51.176Z"
   },
   {
    "duration": 10,
    "start_time": "2022-03-10T13:09:49.036Z"
   },
   {
    "duration": 43,
    "start_time": "2022-03-10T13:10:10.805Z"
   },
   {
    "duration": 48,
    "start_time": "2022-03-10T13:12:16.846Z"
   },
   {
    "duration": 54,
    "start_time": "2022-03-10T13:12:33.693Z"
   },
   {
    "duration": 1420,
    "start_time": "2022-03-10T13:13:06.691Z"
   },
   {
    "duration": 41,
    "start_time": "2022-03-10T13:13:08.113Z"
   },
   {
    "duration": 3,
    "start_time": "2022-03-10T13:13:08.156Z"
   },
   {
    "duration": 6,
    "start_time": "2022-03-10T13:13:08.161Z"
   },
   {
    "duration": 107,
    "start_time": "2022-03-10T13:13:08.168Z"
   },
   {
    "duration": 12,
    "start_time": "2022-03-10T13:13:08.277Z"
   },
   {
    "duration": 13,
    "start_time": "2022-03-10T13:13:08.290Z"
   },
   {
    "duration": 7,
    "start_time": "2022-03-10T13:13:08.304Z"
   },
   {
    "duration": 64,
    "start_time": "2022-03-10T13:13:08.334Z"
   },
   {
    "duration": 16,
    "start_time": "2022-03-10T13:13:08.400Z"
   },
   {
    "duration": 24,
    "start_time": "2022-03-10T13:13:08.418Z"
   },
   {
    "duration": 9,
    "start_time": "2022-03-10T13:13:08.444Z"
   },
   {
    "duration": 607,
    "start_time": "2022-03-10T13:13:08.455Z"
   },
   {
    "duration": 9,
    "start_time": "2022-03-10T13:13:09.065Z"
   },
   {
    "duration": 211,
    "start_time": "2022-03-10T13:13:09.076Z"
   },
   {
    "duration": 58,
    "start_time": "2022-03-10T13:13:09.289Z"
   },
   {
    "duration": 11,
    "start_time": "2022-03-10T13:13:09.348Z"
   },
   {
    "duration": 946,
    "start_time": "2022-03-10T13:13:09.360Z"
   },
   {
    "duration": 7,
    "start_time": "2022-03-10T13:13:10.308Z"
   },
   {
    "duration": 248,
    "start_time": "2022-03-10T13:13:10.317Z"
   },
   {
    "duration": 37,
    "start_time": "2022-03-10T13:13:10.567Z"
   },
   {
    "duration": 35,
    "start_time": "2022-03-10T13:13:10.606Z"
   },
   {
    "duration": 377,
    "start_time": "2022-03-10T13:13:10.642Z"
   },
   {
    "duration": 17,
    "start_time": "2022-03-10T13:13:11.021Z"
   },
   {
    "duration": 1201,
    "start_time": "2022-03-10T13:13:11.041Z"
   },
   {
    "duration": 8,
    "start_time": "2022-03-10T13:13:12.243Z"
   },
   {
    "duration": 14,
    "start_time": "2022-03-10T13:13:12.254Z"
   },
   {
    "duration": 6,
    "start_time": "2022-03-10T13:13:12.269Z"
   },
   {
    "duration": 10,
    "start_time": "2022-03-10T13:13:12.277Z"
   },
   {
    "duration": 43,
    "start_time": "2022-03-10T13:14:30.600Z"
   },
   {
    "duration": 18,
    "start_time": "2022-03-10T13:14:31.594Z"
   },
   {
    "duration": 1499,
    "start_time": "2022-03-10T13:15:03.922Z"
   },
   {
    "duration": 42,
    "start_time": "2022-03-10T13:15:05.423Z"
   },
   {
    "duration": 3,
    "start_time": "2022-03-10T13:15:05.467Z"
   },
   {
    "duration": 6,
    "start_time": "2022-03-10T13:15:05.472Z"
   },
   {
    "duration": 110,
    "start_time": "2022-03-10T13:15:05.479Z"
   },
   {
    "duration": 11,
    "start_time": "2022-03-10T13:15:05.591Z"
   },
   {
    "duration": 31,
    "start_time": "2022-03-10T13:15:05.604Z"
   },
   {
    "duration": 5,
    "start_time": "2022-03-10T13:15:05.636Z"
   },
   {
    "duration": 74,
    "start_time": "2022-03-10T13:15:05.644Z"
   },
   {
    "duration": 23,
    "start_time": "2022-03-10T13:15:05.720Z"
   },
   {
    "duration": 13,
    "start_time": "2022-03-10T13:15:05.745Z"
   },
   {
    "duration": 9,
    "start_time": "2022-03-10T13:15:05.760Z"
   },
   {
    "duration": 622,
    "start_time": "2022-03-10T13:15:05.770Z"
   },
   {
    "duration": 9,
    "start_time": "2022-03-10T13:15:06.394Z"
   },
   {
    "duration": 272,
    "start_time": "2022-03-10T13:15:06.405Z"
   },
   {
    "duration": 58,
    "start_time": "2022-03-10T13:15:06.679Z"
   },
   {
    "duration": 13,
    "start_time": "2022-03-10T13:15:06.739Z"
   },
   {
    "duration": 911,
    "start_time": "2022-03-10T13:15:06.753Z"
   },
   {
    "duration": 9,
    "start_time": "2022-03-10T13:15:07.666Z"
   },
   {
    "duration": 244,
    "start_time": "2022-03-10T13:15:07.676Z"
   },
   {
    "duration": 43,
    "start_time": "2022-03-10T13:15:07.922Z"
   },
   {
    "duration": 18,
    "start_time": "2022-03-10T13:15:07.967Z"
   },
   {
    "duration": 384,
    "start_time": "2022-03-10T13:15:07.987Z"
   },
   {
    "duration": 6,
    "start_time": "2022-03-10T13:15:08.372Z"
   },
   {
    "duration": 882,
    "start_time": "2022-03-10T13:15:08.379Z"
   },
   {
    "duration": 7,
    "start_time": "2022-03-10T13:15:09.262Z"
   },
   {
    "duration": 17,
    "start_time": "2022-03-10T13:15:09.272Z"
   },
   {
    "duration": 7,
    "start_time": "2022-03-10T13:15:09.291Z"
   },
   {
    "duration": 11,
    "start_time": "2022-03-10T13:15:09.299Z"
   },
   {
    "duration": 41,
    "start_time": "2022-03-10T13:16:14.803Z"
   },
   {
    "duration": 24,
    "start_time": "2022-03-10T13:18:11.204Z"
   },
   {
    "duration": 18,
    "start_time": "2022-03-10T13:18:15.005Z"
   },
   {
    "duration": 23,
    "start_time": "2022-03-10T13:19:41.487Z"
   },
   {
    "duration": 18,
    "start_time": "2022-03-10T13:19:43.169Z"
   },
   {
    "duration": 18,
    "start_time": "2022-03-10T13:20:04.308Z"
   },
   {
    "duration": 20,
    "start_time": "2022-03-10T13:20:04.916Z"
   },
   {
    "duration": 1033,
    "start_time": "2022-03-10T13:20:48.216Z"
   },
   {
    "duration": 37,
    "start_time": "2022-03-10T13:21:06.454Z"
   },
   {
    "duration": 17,
    "start_time": "2022-03-10T13:21:10.689Z"
   },
   {
    "duration": 5,
    "start_time": "2022-03-10T13:22:41.452Z"
   },
   {
    "duration": 193,
    "start_time": "2022-03-10T13:24:19.088Z"
   },
   {
    "duration": 68,
    "start_time": "2022-03-10T13:24:29.592Z"
   },
   {
    "duration": 11,
    "start_time": "2022-03-10T13:24:39.712Z"
   },
   {
    "duration": 11,
    "start_time": "2022-03-10T13:26:00.180Z"
   },
   {
    "duration": 34,
    "start_time": "2022-03-10T13:26:30.380Z"
   },
   {
    "duration": 12,
    "start_time": "2022-03-10T13:26:34.620Z"
   },
   {
    "duration": 18,
    "start_time": "2022-03-10T13:26:36.240Z"
   },
   {
    "duration": 12,
    "start_time": "2022-03-10T13:26:47.780Z"
   },
   {
    "duration": 13,
    "start_time": "2022-03-10T13:29:08.129Z"
   },
   {
    "duration": 10,
    "start_time": "2022-03-10T13:31:13.291Z"
   },
   {
    "duration": 25,
    "start_time": "2022-03-10T13:31:32.982Z"
   },
   {
    "duration": 11,
    "start_time": "2022-03-10T13:31:34.294Z"
   },
   {
    "duration": 18,
    "start_time": "2022-03-10T13:31:35.080Z"
   },
   {
    "duration": 10,
    "start_time": "2022-03-10T13:31:47.172Z"
   },
   {
    "duration": 11,
    "start_time": "2022-03-10T13:32:03.829Z"
   },
   {
    "duration": 37,
    "start_time": "2022-03-10T13:37:13.931Z"
   },
   {
    "duration": 11,
    "start_time": "2022-03-10T13:37:15.056Z"
   },
   {
    "duration": 11,
    "start_time": "2022-03-10T13:37:53.752Z"
   },
   {
    "duration": 36,
    "start_time": "2022-03-10T13:38:23.631Z"
   },
   {
    "duration": 11,
    "start_time": "2022-03-10T13:38:26.264Z"
   },
   {
    "duration": 18,
    "start_time": "2022-03-10T13:38:44.711Z"
   },
   {
    "duration": 1398,
    "start_time": "2022-03-10T13:39:26.995Z"
   },
   {
    "duration": 50,
    "start_time": "2022-03-10T13:39:28.395Z"
   },
   {
    "duration": 2,
    "start_time": "2022-03-10T13:39:28.449Z"
   },
   {
    "duration": 10,
    "start_time": "2022-03-10T13:39:28.452Z"
   },
   {
    "duration": 96,
    "start_time": "2022-03-10T13:39:28.464Z"
   },
   {
    "duration": 13,
    "start_time": "2022-03-10T13:39:28.562Z"
   },
   {
    "duration": 10,
    "start_time": "2022-03-10T13:39:28.577Z"
   },
   {
    "duration": 9,
    "start_time": "2022-03-10T13:39:28.589Z"
   },
   {
    "duration": 84,
    "start_time": "2022-03-10T13:39:28.599Z"
   },
   {
    "duration": 16,
    "start_time": "2022-03-10T13:39:28.685Z"
   },
   {
    "duration": 12,
    "start_time": "2022-03-10T13:39:28.703Z"
   },
   {
    "duration": 23,
    "start_time": "2022-03-10T13:39:28.716Z"
   },
   {
    "duration": 592,
    "start_time": "2022-03-10T13:39:28.740Z"
   },
   {
    "duration": 10,
    "start_time": "2022-03-10T13:39:29.334Z"
   },
   {
    "duration": 209,
    "start_time": "2022-03-10T13:39:29.346Z"
   },
   {
    "duration": 19,
    "start_time": "2022-03-10T13:39:29.557Z"
   },
   {
    "duration": 9,
    "start_time": "2022-03-10T13:39:29.577Z"
   },
   {
    "duration": 900,
    "start_time": "2022-03-10T13:39:29.587Z"
   },
   {
    "duration": 10,
    "start_time": "2022-03-10T13:39:30.488Z"
   },
   {
    "duration": 245,
    "start_time": "2022-03-10T13:39:30.499Z"
   },
   {
    "duration": 6,
    "start_time": "2022-03-10T13:39:30.746Z"
   },
   {
    "duration": 51,
    "start_time": "2022-03-10T13:39:30.756Z"
   },
   {
    "duration": 24,
    "start_time": "2022-03-10T13:39:30.809Z"
   },
   {
    "duration": 377,
    "start_time": "2022-03-10T13:39:30.835Z"
   },
   {
    "duration": 8,
    "start_time": "2022-03-10T13:39:31.214Z"
   },
   {
    "duration": 973,
    "start_time": "2022-03-10T13:39:31.233Z"
   },
   {
    "duration": 7,
    "start_time": "2022-03-10T13:39:32.208Z"
   },
   {
    "duration": 24,
    "start_time": "2022-03-10T13:39:32.217Z"
   },
   {
    "duration": 11,
    "start_time": "2022-03-10T13:39:32.243Z"
   },
   {
    "duration": 10,
    "start_time": "2022-03-10T13:39:32.256Z"
   },
   {
    "duration": 15,
    "start_time": "2022-03-10T13:40:12.943Z"
   },
   {
    "duration": 5,
    "start_time": "2022-03-10T13:41:27.931Z"
   },
   {
    "duration": 9,
    "start_time": "2022-03-10T13:41:32.383Z"
   },
   {
    "duration": 18,
    "start_time": "2022-03-10T13:42:04.762Z"
   },
   {
    "duration": 41,
    "start_time": "2022-03-10T13:42:54.516Z"
   },
   {
    "duration": 13,
    "start_time": "2022-03-10T13:42:55.299Z"
   },
   {
    "duration": 229,
    "start_time": "2022-03-10T13:42:55.943Z"
   },
   {
    "duration": 7,
    "start_time": "2022-03-10T13:42:57.088Z"
   },
   {
    "duration": 672,
    "start_time": "2022-03-10T13:42:57.763Z"
   },
   {
    "duration": 9,
    "start_time": "2022-03-10T13:42:58.511Z"
   },
   {
    "duration": 14,
    "start_time": "2022-03-10T13:42:59.277Z"
   },
   {
    "duration": 5,
    "start_time": "2022-03-10T13:43:03.968Z"
   },
   {
    "duration": 5,
    "start_time": "2022-03-10T13:43:04.784Z"
   },
   {
    "duration": 17,
    "start_time": "2022-03-10T13:43:06.536Z"
   },
   {
    "duration": 27,
    "start_time": "2022-03-10T13:44:48.113Z"
   },
   {
    "duration": 14,
    "start_time": "2022-03-10T13:44:48.660Z"
   },
   {
    "duration": 377,
    "start_time": "2022-03-10T13:44:49.148Z"
   },
   {
    "duration": 7,
    "start_time": "2022-03-10T13:44:49.709Z"
   },
   {
    "duration": 802,
    "start_time": "2022-03-10T13:44:50.169Z"
   },
   {
    "duration": 6,
    "start_time": "2022-03-10T13:44:50.973Z"
   },
   {
    "duration": 13,
    "start_time": "2022-03-10T13:44:51.324Z"
   },
   {
    "duration": 5,
    "start_time": "2022-03-10T13:44:51.908Z"
   },
   {
    "duration": 6,
    "start_time": "2022-03-10T13:44:52.487Z"
   },
   {
    "duration": 17,
    "start_time": "2022-03-10T13:44:53.124Z"
   },
   {
    "duration": 4599,
    "start_time": "2022-03-10T13:45:30.473Z"
   },
   {
    "duration": 9,
    "start_time": "2022-03-10T13:45:55.225Z"
   },
   {
    "duration": 5,
    "start_time": "2022-03-10T13:46:07.197Z"
   },
   {
    "duration": 1458,
    "start_time": "2022-03-10T14:00:58.551Z"
   },
   {
    "duration": 46,
    "start_time": "2022-03-10T14:01:00.013Z"
   },
   {
    "duration": 3,
    "start_time": "2022-03-10T14:01:00.061Z"
   },
   {
    "duration": 7,
    "start_time": "2022-03-10T14:01:00.065Z"
   },
   {
    "duration": 115,
    "start_time": "2022-03-10T14:01:00.073Z"
   },
   {
    "duration": 12,
    "start_time": "2022-03-10T14:01:00.190Z"
   },
   {
    "duration": 11,
    "start_time": "2022-03-10T14:01:00.233Z"
   },
   {
    "duration": 4,
    "start_time": "2022-03-10T14:01:00.246Z"
   },
   {
    "duration": 87,
    "start_time": "2022-03-10T14:01:00.252Z"
   },
   {
    "duration": 25,
    "start_time": "2022-03-10T14:01:00.341Z"
   },
   {
    "duration": 15,
    "start_time": "2022-03-10T14:01:00.368Z"
   },
   {
    "duration": 13,
    "start_time": "2022-03-10T14:01:00.385Z"
   },
   {
    "duration": 614,
    "start_time": "2022-03-10T14:01:00.400Z"
   },
   {
    "duration": 24,
    "start_time": "2022-03-10T14:01:01.016Z"
   },
   {
    "duration": 221,
    "start_time": "2022-03-10T14:01:01.041Z"
   },
   {
    "duration": 74,
    "start_time": "2022-03-10T14:01:01.264Z"
   },
   {
    "duration": 12,
    "start_time": "2022-03-10T14:01:01.340Z"
   },
   {
    "duration": 945,
    "start_time": "2022-03-10T14:01:01.353Z"
   },
   {
    "duration": 8,
    "start_time": "2022-03-10T14:01:02.299Z"
   },
   {
    "duration": 251,
    "start_time": "2022-03-10T14:01:02.309Z"
   },
   {
    "duration": 42,
    "start_time": "2022-03-10T14:01:02.561Z"
   },
   {
    "duration": 39,
    "start_time": "2022-03-10T14:01:02.607Z"
   },
   {
    "duration": 407,
    "start_time": "2022-03-10T14:01:02.649Z"
   },
   {
    "duration": 8,
    "start_time": "2022-03-10T14:01:03.057Z"
   },
   {
    "duration": 945,
    "start_time": "2022-03-10T14:01:03.066Z"
   },
   {
    "duration": 7,
    "start_time": "2022-03-10T14:01:04.013Z"
   },
   {
    "duration": 19,
    "start_time": "2022-03-10T14:01:04.021Z"
   },
   {
    "duration": 6,
    "start_time": "2022-03-10T14:01:04.041Z"
   },
   {
    "duration": 8,
    "start_time": "2022-03-10T14:01:04.048Z"
   },
   {
    "duration": 9,
    "start_time": "2022-03-10T14:01:04.058Z"
   },
   {
    "duration": 7,
    "start_time": "2022-03-10T14:01:04.069Z"
   },
   {
    "duration": 30,
    "start_time": "2022-03-10T14:02:42.848Z"
   },
   {
    "duration": 12,
    "start_time": "2022-03-10T14:02:44.111Z"
   },
   {
    "duration": 237,
    "start_time": "2022-03-10T14:02:44.818Z"
   },
   {
    "duration": 7,
    "start_time": "2022-03-10T14:02:49.503Z"
   },
   {
    "duration": 778,
    "start_time": "2022-03-10T14:02:56.760Z"
   },
   {
    "duration": 8,
    "start_time": "2022-03-10T14:02:57.643Z"
   },
   {
    "duration": 13,
    "start_time": "2022-03-10T14:02:58.207Z"
   },
   {
    "duration": 4,
    "start_time": "2022-03-10T14:02:59.080Z"
   },
   {
    "duration": 6,
    "start_time": "2022-03-10T14:03:01.100Z"
   },
   {
    "duration": 8,
    "start_time": "2022-03-10T14:03:01.716Z"
   },
   {
    "duration": 5,
    "start_time": "2022-03-10T14:03:02.416Z"
   },
   {
    "duration": 3,
    "start_time": "2022-03-10T15:00:12.628Z"
   },
   {
    "duration": 5,
    "start_time": "2022-03-10T15:00:16.582Z"
   },
   {
    "duration": 3,
    "start_time": "2022-03-10T15:00:44.764Z"
   },
   {
    "duration": 3,
    "start_time": "2022-03-10T15:00:45.472Z"
   },
   {
    "duration": 374,
    "start_time": "2022-03-10T15:03:27.392Z"
   },
   {
    "duration": 257,
    "start_time": "2022-03-10T15:04:35.128Z"
   },
   {
    "duration": 218,
    "start_time": "2022-03-10T15:05:32.520Z"
   },
   {
    "duration": 204,
    "start_time": "2022-03-10T15:06:16.788Z"
   },
   {
    "duration": 8,
    "start_time": "2022-03-10T15:06:54.764Z"
   },
   {
    "duration": 17,
    "start_time": "2022-03-10T15:07:01.212Z"
   },
   {
    "duration": 303,
    "start_time": "2022-03-10T15:07:14.332Z"
   },
   {
    "duration": 505,
    "start_time": "2022-03-10T15:09:18.394Z"
   },
   {
    "duration": 490,
    "start_time": "2022-03-10T15:10:29.609Z"
   },
   {
    "duration": 386,
    "start_time": "2022-03-10T15:10:37.461Z"
   },
   {
    "duration": 495,
    "start_time": "2022-03-10T15:10:50.844Z"
   },
   {
    "duration": 619,
    "start_time": "2022-03-10T15:14:06.104Z"
   },
   {
    "duration": 616,
    "start_time": "2022-03-10T15:14:14.501Z"
   },
   {
    "duration": 608,
    "start_time": "2022-03-10T15:14:32.032Z"
   },
   {
    "duration": 612,
    "start_time": "2022-03-10T15:14:42.621Z"
   },
   {
    "duration": 804,
    "start_time": "2022-03-10T15:15:01.997Z"
   },
   {
    "duration": 1490,
    "start_time": "2022-03-10T15:29:41.099Z"
   },
   {
    "duration": 42,
    "start_time": "2022-03-10T15:29:42.591Z"
   },
   {
    "duration": 2,
    "start_time": "2022-03-10T15:29:42.636Z"
   },
   {
    "duration": 9,
    "start_time": "2022-03-10T15:29:42.640Z"
   },
   {
    "duration": 105,
    "start_time": "2022-03-10T15:29:42.650Z"
   },
   {
    "duration": 13,
    "start_time": "2022-03-10T15:29:42.757Z"
   },
   {
    "duration": 13,
    "start_time": "2022-03-10T15:29:42.772Z"
   },
   {
    "duration": 6,
    "start_time": "2022-03-10T15:29:42.787Z"
   },
   {
    "duration": 91,
    "start_time": "2022-03-10T15:29:42.795Z"
   },
   {
    "duration": 14,
    "start_time": "2022-03-10T15:29:42.888Z"
   },
   {
    "duration": 13,
    "start_time": "2022-03-10T15:29:42.904Z"
   },
   {
    "duration": 10,
    "start_time": "2022-03-10T15:29:42.933Z"
   },
   {
    "duration": 638,
    "start_time": "2022-03-10T15:29:42.945Z"
   },
   {
    "duration": 10,
    "start_time": "2022-03-10T15:29:43.585Z"
   },
   {
    "duration": 125,
    "start_time": "2022-03-10T15:29:43.596Z"
   },
   {
    "duration": 20,
    "start_time": "2022-03-10T15:29:43.723Z"
   },
   {
    "duration": 19,
    "start_time": "2022-03-10T15:29:43.744Z"
   },
   {
    "duration": 1064,
    "start_time": "2022-03-10T15:29:43.764Z"
   },
   {
    "duration": 7,
    "start_time": "2022-03-10T15:29:44.830Z"
   },
   {
    "duration": 256,
    "start_time": "2022-03-10T15:29:44.839Z"
   },
   {
    "duration": 43,
    "start_time": "2022-03-10T15:29:45.096Z"
   },
   {
    "duration": 14,
    "start_time": "2022-03-10T15:29:45.141Z"
   },
   {
    "duration": 380,
    "start_time": "2022-03-10T15:29:45.159Z"
   },
   {
    "duration": 7,
    "start_time": "2022-03-10T15:29:45.540Z"
   },
   {
    "duration": 1337,
    "start_time": "2022-03-10T15:29:45.548Z"
   },
   {
    "duration": 6,
    "start_time": "2022-03-10T15:29:46.887Z"
   },
   {
    "duration": 15,
    "start_time": "2022-03-10T15:29:46.895Z"
   },
   {
    "duration": 7,
    "start_time": "2022-03-10T15:29:46.911Z"
   },
   {
    "duration": 10,
    "start_time": "2022-03-10T15:29:46.920Z"
   },
   {
    "duration": 14,
    "start_time": "2022-03-10T15:29:46.931Z"
   },
   {
    "duration": 5,
    "start_time": "2022-03-10T15:29:46.947Z"
   },
   {
    "duration": 6,
    "start_time": "2022-03-10T15:29:46.953Z"
   },
   {
    "duration": 642,
    "start_time": "2022-03-10T15:29:46.960Z"
   },
   {
    "duration": 1518,
    "start_time": "2022-03-11T13:24:35.566Z"
   },
   {
    "duration": 40,
    "start_time": "2022-03-11T13:24:37.085Z"
   },
   {
    "duration": 2,
    "start_time": "2022-03-11T13:24:37.128Z"
   },
   {
    "duration": 17,
    "start_time": "2022-03-11T13:24:37.132Z"
   },
   {
    "duration": 113,
    "start_time": "2022-03-11T13:24:37.150Z"
   },
   {
    "duration": 13,
    "start_time": "2022-03-11T13:24:37.265Z"
   },
   {
    "duration": 11,
    "start_time": "2022-03-11T13:24:37.280Z"
   },
   {
    "duration": 4,
    "start_time": "2022-03-11T13:24:37.293Z"
   },
   {
    "duration": 89,
    "start_time": "2022-03-11T13:24:37.299Z"
   },
   {
    "duration": 23,
    "start_time": "2022-03-11T13:24:37.390Z"
   },
   {
    "duration": 13,
    "start_time": "2022-03-11T13:24:37.415Z"
   },
   {
    "duration": 9,
    "start_time": "2022-03-11T13:24:37.430Z"
   },
   {
    "duration": 608,
    "start_time": "2022-03-11T13:24:37.441Z"
   },
   {
    "duration": 18,
    "start_time": "2022-03-11T13:24:38.051Z"
   },
   {
    "duration": 221,
    "start_time": "2022-03-11T13:24:38.071Z"
   },
   {
    "duration": 19,
    "start_time": "2022-03-11T13:24:38.294Z"
   },
   {
    "duration": 9,
    "start_time": "2022-03-11T13:24:38.315Z"
   },
   {
    "duration": 930,
    "start_time": "2022-03-11T13:24:38.325Z"
   },
   {
    "duration": 12,
    "start_time": "2022-03-11T13:24:39.257Z"
   },
   {
    "duration": 324,
    "start_time": "2022-03-11T13:24:39.270Z"
   },
   {
    "duration": 32,
    "start_time": "2022-03-11T13:24:39.596Z"
   },
   {
    "duration": 13,
    "start_time": "2022-03-11T13:24:39.630Z"
   },
   {
    "duration": 358,
    "start_time": "2022-03-11T13:24:39.664Z"
   },
   {
    "duration": 7,
    "start_time": "2022-03-11T13:24:40.024Z"
   },
   {
    "duration": 1116,
    "start_time": "2022-03-11T13:24:40.033Z"
   },
   {
    "duration": 7,
    "start_time": "2022-03-11T13:24:41.150Z"
   },
   {
    "duration": 8,
    "start_time": "2022-03-11T13:24:41.159Z"
   },
   {
    "duration": 7,
    "start_time": "2022-03-11T13:24:41.168Z"
   },
   {
    "duration": 10,
    "start_time": "2022-03-11T13:24:41.177Z"
   },
   {
    "duration": 4,
    "start_time": "2022-03-11T13:24:41.189Z"
   },
   {
    "duration": 4,
    "start_time": "2022-03-11T13:24:41.195Z"
   },
   {
    "duration": 652,
    "start_time": "2022-03-11T13:24:41.201Z"
   },
   {
    "duration": 40,
    "start_time": "2022-03-11T14:04:34.839Z"
   },
   {
    "duration": 87,
    "start_time": "2022-03-11T16:34:36.562Z"
   },
   {
    "duration": 16,
    "start_time": "2022-03-11T16:48:39.889Z"
   },
   {
    "duration": 1500,
    "start_time": "2022-03-11T16:49:03.003Z"
   },
   {
    "duration": 41,
    "start_time": "2022-03-11T16:49:04.505Z"
   },
   {
    "duration": 3,
    "start_time": "2022-03-11T16:49:04.548Z"
   },
   {
    "duration": 11,
    "start_time": "2022-03-11T16:49:04.553Z"
   },
   {
    "duration": 108,
    "start_time": "2022-03-11T16:49:04.566Z"
   },
   {
    "duration": 16,
    "start_time": "2022-03-11T16:49:04.676Z"
   },
   {
    "duration": 10,
    "start_time": "2022-03-11T16:49:04.694Z"
   },
   {
    "duration": 9,
    "start_time": "2022-03-11T16:49:04.706Z"
   },
   {
    "duration": 102,
    "start_time": "2022-03-11T16:49:04.717Z"
   },
   {
    "duration": 14,
    "start_time": "2022-03-11T16:49:04.820Z"
   },
   {
    "duration": 28,
    "start_time": "2022-03-11T16:49:04.836Z"
   },
   {
    "duration": 14,
    "start_time": "2022-03-11T16:49:04.867Z"
   },
   {
    "duration": 1071,
    "start_time": "2022-03-11T16:49:04.883Z"
   },
   {
    "duration": 16,
    "start_time": "2022-03-11T16:49:05.963Z"
   },
   {
    "duration": 355,
    "start_time": "2022-03-11T16:49:05.981Z"
   },
   {
    "duration": 48,
    "start_time": "2022-03-11T16:49:06.338Z"
   },
   {
    "duration": 14,
    "start_time": "2022-03-11T16:49:06.388Z"
   },
   {
    "duration": 1375,
    "start_time": "2022-03-11T16:49:06.404Z"
   },
   {
    "duration": 9,
    "start_time": "2022-03-11T16:49:07.781Z"
   },
   {
    "duration": 254,
    "start_time": "2022-03-11T16:49:07.791Z"
   },
   {
    "duration": 67,
    "start_time": "2022-03-11T16:49:08.047Z"
   },
   {
    "duration": 21,
    "start_time": "2022-03-11T16:49:08.116Z"
   },
   {
    "duration": 626,
    "start_time": "2022-03-11T16:49:08.141Z"
   },
   {
    "duration": 1075,
    "start_time": "2022-03-11T16:49:08.769Z"
   },
   {
    "duration": 7,
    "start_time": "2022-03-11T16:49:09.846Z"
   },
   {
    "duration": 4,
    "start_time": "2022-03-11T16:49:09.855Z"
   },
   {
    "duration": 7,
    "start_time": "2022-03-11T16:49:09.861Z"
   },
   {
    "duration": 12,
    "start_time": "2022-03-11T16:49:09.870Z"
   },
   {
    "duration": 6,
    "start_time": "2022-03-11T16:49:09.885Z"
   },
   {
    "duration": 4,
    "start_time": "2022-03-11T16:49:09.893Z"
   },
   {
    "duration": 809,
    "start_time": "2022-03-11T16:49:09.899Z"
   },
   {
    "duration": 1560,
    "start_time": "2022-03-11T17:01:39.128Z"
   },
   {
    "duration": 40,
    "start_time": "2022-03-11T17:01:40.690Z"
   },
   {
    "duration": 2,
    "start_time": "2022-03-11T17:01:40.733Z"
   },
   {
    "duration": 5,
    "start_time": "2022-03-11T17:01:40.737Z"
   },
   {
    "duration": 120,
    "start_time": "2022-03-11T17:01:40.743Z"
   },
   {
    "duration": 16,
    "start_time": "2022-03-11T17:01:40.865Z"
   },
   {
    "duration": 10,
    "start_time": "2022-03-11T17:01:40.882Z"
   },
   {
    "duration": 4,
    "start_time": "2022-03-11T17:01:40.894Z"
   },
   {
    "duration": 94,
    "start_time": "2022-03-11T17:01:40.900Z"
   },
   {
    "duration": 14,
    "start_time": "2022-03-11T17:01:40.996Z"
   },
   {
    "duration": 10,
    "start_time": "2022-03-11T17:01:41.012Z"
   },
   {
    "duration": 679,
    "start_time": "2022-03-11T17:01:41.024Z"
   },
   {
    "duration": 13,
    "start_time": "2022-03-11T17:01:41.705Z"
   },
   {
    "duration": 261,
    "start_time": "2022-03-11T17:01:41.720Z"
   },
   {
    "duration": 19,
    "start_time": "2022-03-11T17:01:41.982Z"
   },
   {
    "duration": 63,
    "start_time": "2022-03-11T17:01:42.003Z"
   },
   {
    "duration": 956,
    "start_time": "2022-03-11T17:01:42.068Z"
   },
   {
    "duration": 8,
    "start_time": "2022-03-11T17:01:43.026Z"
   },
   {
    "duration": 253,
    "start_time": "2022-03-11T17:01:43.036Z"
   },
   {
    "duration": 40,
    "start_time": "2022-03-11T17:01:43.291Z"
   },
   {
    "duration": 42,
    "start_time": "2022-03-11T17:01:43.332Z"
   },
   {
    "duration": 398,
    "start_time": "2022-03-11T17:01:43.375Z"
   },
   {
    "duration": 1252,
    "start_time": "2022-03-11T17:01:43.776Z"
   },
   {
    "duration": 9,
    "start_time": "2022-03-11T17:01:45.031Z"
   },
   {
    "duration": 6,
    "start_time": "2022-03-11T17:01:45.041Z"
   },
   {
    "duration": 8,
    "start_time": "2022-03-11T17:01:45.048Z"
   },
   {
    "duration": 9,
    "start_time": "2022-03-11T17:01:45.057Z"
   },
   {
    "duration": 4,
    "start_time": "2022-03-11T17:01:45.068Z"
   },
   {
    "duration": 5,
    "start_time": "2022-03-11T17:01:45.074Z"
   },
   {
    "duration": 665,
    "start_time": "2022-03-11T17:01:45.080Z"
   },
   {
    "duration": 1473,
    "start_time": "2022-03-11T17:02:35.614Z"
   },
   {
    "duration": 41,
    "start_time": "2022-03-11T17:02:37.088Z"
   },
   {
    "duration": 3,
    "start_time": "2022-03-11T17:02:37.133Z"
   },
   {
    "duration": 7,
    "start_time": "2022-03-11T17:02:37.138Z"
   },
   {
    "duration": 123,
    "start_time": "2022-03-11T17:02:37.146Z"
   },
   {
    "duration": 18,
    "start_time": "2022-03-11T17:02:37.271Z"
   },
   {
    "duration": 10,
    "start_time": "2022-03-11T17:02:37.291Z"
   },
   {
    "duration": 7,
    "start_time": "2022-03-11T17:02:37.303Z"
   },
   {
    "duration": 91,
    "start_time": "2022-03-11T17:02:37.312Z"
   },
   {
    "duration": 12,
    "start_time": "2022-03-11T17:02:37.405Z"
   },
   {
    "duration": 19,
    "start_time": "2022-03-11T17:02:37.419Z"
   },
   {
    "duration": 609,
    "start_time": "2022-03-11T17:02:37.439Z"
   },
   {
    "duration": 20,
    "start_time": "2022-03-11T17:02:38.050Z"
   },
   {
    "duration": 219,
    "start_time": "2022-03-11T17:02:38.072Z"
   },
   {
    "duration": 72,
    "start_time": "2022-03-11T17:02:38.292Z"
   },
   {
    "duration": 10,
    "start_time": "2022-03-11T17:02:38.366Z"
   },
   {
    "duration": 963,
    "start_time": "2022-03-11T17:02:38.377Z"
   },
   {
    "duration": 9,
    "start_time": "2022-03-11T17:02:39.342Z"
   },
   {
    "duration": 246,
    "start_time": "2022-03-11T17:02:39.363Z"
   },
   {
    "duration": 53,
    "start_time": "2022-03-11T17:02:39.611Z"
   },
   {
    "duration": 17,
    "start_time": "2022-03-11T17:02:39.666Z"
   },
   {
    "duration": 416,
    "start_time": "2022-03-11T17:02:39.686Z"
   },
   {
    "duration": 893,
    "start_time": "2022-03-11T17:02:40.104Z"
   },
   {
    "duration": 8,
    "start_time": "2022-03-11T17:02:40.998Z"
   },
   {
    "duration": 7,
    "start_time": "2022-03-11T17:02:41.007Z"
   },
   {
    "duration": 6,
    "start_time": "2022-03-11T17:02:41.016Z"
   },
   {
    "duration": 10,
    "start_time": "2022-03-11T17:02:41.024Z"
   },
   {
    "duration": 5,
    "start_time": "2022-03-11T17:02:41.036Z"
   },
   {
    "duration": 24,
    "start_time": "2022-03-11T17:02:41.043Z"
   },
   {
    "duration": 655,
    "start_time": "2022-03-11T17:02:41.069Z"
   },
   {
    "duration": 407,
    "start_time": "2022-03-11T17:19:20.041Z"
   },
   {
    "duration": 85,
    "start_time": "2022-03-11T17:21:23.870Z"
   },
   {
    "duration": 314,
    "start_time": "2022-03-11T17:21:31.789Z"
   },
   {
    "duration": 537,
    "start_time": "2022-03-11T17:22:07.313Z"
   },
   {
    "duration": 318,
    "start_time": "2022-03-11T17:22:53.039Z"
   },
   {
    "duration": 314,
    "start_time": "2022-03-11T17:23:39.870Z"
   },
   {
    "duration": 6510,
    "start_time": "2022-03-11T17:25:05.434Z"
   },
   {
    "duration": 573,
    "start_time": "2022-03-11T17:26:16.788Z"
   },
   {
    "duration": 6226,
    "start_time": "2022-03-11T17:26:52.875Z"
   },
   {
    "duration": 6352,
    "start_time": "2022-03-11T17:27:26.708Z"
   },
   {
    "duration": 709,
    "start_time": "2022-03-11T17:28:25.758Z"
   },
   {
    "duration": 715,
    "start_time": "2022-03-11T17:28:41.215Z"
   },
   {
    "duration": 700,
    "start_time": "2022-03-11T17:30:09.726Z"
   },
   {
    "duration": 5960,
    "start_time": "2022-03-11T17:30:30.724Z"
   },
   {
    "duration": 4,
    "start_time": "2022-03-11T17:30:57.790Z"
   },
   {
    "duration": 14,
    "start_time": "2022-03-11T17:31:17.592Z"
   },
   {
    "duration": 4,
    "start_time": "2022-03-11T17:31:23.286Z"
   },
   {
    "duration": 364,
    "start_time": "2022-03-11T17:31:32.794Z"
   },
   {
    "duration": 233,
    "start_time": "2022-03-11T17:31:56.396Z"
   },
   {
    "duration": 244,
    "start_time": "2022-03-11T17:32:20.168Z"
   },
   {
    "duration": 587,
    "start_time": "2022-03-11T17:33:19.458Z"
   },
   {
    "duration": 246,
    "start_time": "2022-03-11T17:33:34.419Z"
   },
   {
    "duration": 236,
    "start_time": "2022-03-11T17:34:34.531Z"
   },
   {
    "duration": 1538,
    "start_time": "2022-03-11T17:34:54.491Z"
   },
   {
    "duration": 44,
    "start_time": "2022-03-11T17:34:56.031Z"
   },
   {
    "duration": 2,
    "start_time": "2022-03-11T17:34:56.077Z"
   },
   {
    "duration": 7,
    "start_time": "2022-03-11T17:34:56.081Z"
   },
   {
    "duration": 111,
    "start_time": "2022-03-11T17:34:56.090Z"
   },
   {
    "duration": 16,
    "start_time": "2022-03-11T17:34:56.203Z"
   },
   {
    "duration": 11,
    "start_time": "2022-03-11T17:34:56.221Z"
   },
   {
    "duration": 28,
    "start_time": "2022-03-11T17:34:56.235Z"
   },
   {
    "duration": 65,
    "start_time": "2022-03-11T17:34:56.266Z"
   },
   {
    "duration": 14,
    "start_time": "2022-03-11T17:34:56.333Z"
   },
   {
    "duration": 16,
    "start_time": "2022-03-11T17:34:56.349Z"
   },
   {
    "duration": 111,
    "start_time": "2022-03-11T17:34:56.367Z"
   },
   {
    "duration": 622,
    "start_time": "2022-03-11T17:34:56.480Z"
   },
   {
    "duration": 11,
    "start_time": "2022-03-11T17:34:57.105Z"
   },
   {
    "duration": 282,
    "start_time": "2022-03-11T17:34:57.118Z"
   },
   {
    "duration": 23,
    "start_time": "2022-03-11T17:34:57.402Z"
   },
   {
    "duration": 10,
    "start_time": "2022-03-11T17:34:57.463Z"
   },
   {
    "duration": 950,
    "start_time": "2022-03-11T17:34:57.475Z"
   },
   {
    "duration": 10,
    "start_time": "2022-03-11T17:34:58.427Z"
   },
   {
    "duration": 385,
    "start_time": "2022-03-11T17:34:58.439Z"
   },
   {
    "duration": 52,
    "start_time": "2022-03-11T17:34:58.826Z"
   },
   {
    "duration": 15,
    "start_time": "2022-03-11T17:34:58.879Z"
   },
   {
    "duration": 259,
    "start_time": "2022-03-11T17:34:58.897Z"
   },
   {
    "duration": 1040,
    "start_time": "2022-03-11T17:34:59.158Z"
   },
   {
    "duration": 7,
    "start_time": "2022-03-11T17:35:00.200Z"
   },
   {
    "duration": 8,
    "start_time": "2022-03-11T17:35:00.209Z"
   },
   {
    "duration": 15,
    "start_time": "2022-03-11T17:35:00.219Z"
   },
   {
    "duration": 13,
    "start_time": "2022-03-11T17:35:00.236Z"
   },
   {
    "duration": 11,
    "start_time": "2022-03-11T17:35:00.250Z"
   },
   {
    "duration": 11,
    "start_time": "2022-03-11T17:35:00.263Z"
   },
   {
    "duration": 772,
    "start_time": "2022-03-11T17:35:00.276Z"
   },
   {
    "duration": 6362,
    "start_time": "2022-03-11T17:37:47.029Z"
   },
   {
    "duration": 537,
    "start_time": "2022-03-11T17:38:23.769Z"
   },
   {
    "duration": 6482,
    "start_time": "2022-03-11T17:39:05.514Z"
   },
   {
    "duration": 5,
    "start_time": "2022-03-11T17:39:36.910Z"
   },
   {
    "duration": 1589,
    "start_time": "2022-03-11T17:39:58.169Z"
   },
   {
    "duration": 47,
    "start_time": "2022-03-11T17:39:59.760Z"
   },
   {
    "duration": 3,
    "start_time": "2022-03-11T17:39:59.809Z"
   },
   {
    "duration": 8,
    "start_time": "2022-03-11T17:39:59.813Z"
   },
   {
    "duration": 97,
    "start_time": "2022-03-11T17:39:59.822Z"
   },
   {
    "duration": 18,
    "start_time": "2022-03-11T17:39:59.921Z"
   },
   {
    "duration": 32,
    "start_time": "2022-03-11T17:39:59.940Z"
   },
   {
    "duration": 6,
    "start_time": "2022-03-11T17:39:59.975Z"
   },
   {
    "duration": 93,
    "start_time": "2022-03-11T17:39:59.983Z"
   },
   {
    "duration": 19,
    "start_time": "2022-03-11T17:40:00.078Z"
   },
   {
    "duration": 4,
    "start_time": "2022-03-11T17:40:00.099Z"
   },
   {
    "duration": 529,
    "start_time": "2022-03-11T17:40:00.104Z"
   },
   {
    "duration": 638,
    "start_time": "2022-03-11T17:40:00.634Z"
   },
   {
    "duration": 10,
    "start_time": "2022-03-11T17:40:01.274Z"
   },
   {
    "duration": 218,
    "start_time": "2022-03-11T17:40:01.286Z"
   },
   {
    "duration": 21,
    "start_time": "2022-03-11T17:40:01.505Z"
   },
   {
    "duration": 44,
    "start_time": "2022-03-11T17:40:01.527Z"
   },
   {
    "duration": 949,
    "start_time": "2022-03-11T17:40:01.572Z"
   },
   {
    "duration": 8,
    "start_time": "2022-03-11T17:40:02.523Z"
   },
   {
    "duration": 396,
    "start_time": "2022-03-11T17:40:02.532Z"
   },
   {
    "duration": 52,
    "start_time": "2022-03-11T17:40:02.929Z"
   },
   {
    "duration": 17,
    "start_time": "2022-03-11T17:40:02.983Z"
   },
   {
    "duration": 263,
    "start_time": "2022-03-11T17:40:03.003Z"
   },
   {
    "duration": 988,
    "start_time": "2022-03-11T17:40:03.267Z"
   },
   {
    "duration": 8,
    "start_time": "2022-03-11T17:40:04.257Z"
   },
   {
    "duration": 5,
    "start_time": "2022-03-11T17:40:04.266Z"
   },
   {
    "duration": 6,
    "start_time": "2022-03-11T17:40:04.273Z"
   },
   {
    "duration": 9,
    "start_time": "2022-03-11T17:40:04.280Z"
   },
   {
    "duration": 6,
    "start_time": "2022-03-11T17:40:04.291Z"
   },
   {
    "duration": 5,
    "start_time": "2022-03-11T17:40:04.298Z"
   },
   {
    "duration": 673,
    "start_time": "2022-03-11T17:40:04.305Z"
   },
   {
    "duration": 1535,
    "start_time": "2022-03-11T17:42:01.475Z"
   },
   {
    "duration": 43,
    "start_time": "2022-03-11T17:42:03.012Z"
   },
   {
    "duration": 3,
    "start_time": "2022-03-11T17:42:03.057Z"
   },
   {
    "duration": 5,
    "start_time": "2022-03-11T17:42:03.062Z"
   },
   {
    "duration": 115,
    "start_time": "2022-03-11T17:42:03.069Z"
   },
   {
    "duration": 16,
    "start_time": "2022-03-11T17:42:03.186Z"
   },
   {
    "duration": 11,
    "start_time": "2022-03-11T17:42:03.204Z"
   },
   {
    "duration": 4,
    "start_time": "2022-03-11T17:42:03.217Z"
   },
   {
    "duration": 100,
    "start_time": "2022-03-11T17:42:03.223Z"
   },
   {
    "duration": 10,
    "start_time": "2022-03-11T17:42:03.325Z"
   },
   {
    "duration": 370,
    "start_time": "2022-03-11T17:42:03.336Z"
   },
   {
    "duration": -1530,
    "start_time": "2022-03-11T17:42:05.239Z"
   },
   {
    "duration": -1535,
    "start_time": "2022-03-11T17:42:05.245Z"
   },
   {
    "duration": -1536,
    "start_time": "2022-03-11T17:42:05.247Z"
   },
   {
    "duration": -1538,
    "start_time": "2022-03-11T17:42:05.250Z"
   },
   {
    "duration": -1544,
    "start_time": "2022-03-11T17:42:05.256Z"
   },
   {
    "duration": -1546,
    "start_time": "2022-03-11T17:42:05.259Z"
   },
   {
    "duration": -1546,
    "start_time": "2022-03-11T17:42:05.260Z"
   },
   {
    "duration": -1547,
    "start_time": "2022-03-11T17:42:05.262Z"
   },
   {
    "duration": -1548,
    "start_time": "2022-03-11T17:42:05.263Z"
   },
   {
    "duration": -1548,
    "start_time": "2022-03-11T17:42:05.264Z"
   },
   {
    "duration": -1549,
    "start_time": "2022-03-11T17:42:05.266Z"
   },
   {
    "duration": -1551,
    "start_time": "2022-03-11T17:42:05.268Z"
   },
   {
    "duration": -1551,
    "start_time": "2022-03-11T17:42:05.269Z"
   },
   {
    "duration": -1552,
    "start_time": "2022-03-11T17:42:05.271Z"
   },
   {
    "duration": -1565,
    "start_time": "2022-03-11T17:42:05.285Z"
   },
   {
    "duration": -1568,
    "start_time": "2022-03-11T17:42:05.289Z"
   },
   {
    "duration": -1570,
    "start_time": "2022-03-11T17:42:05.291Z"
   },
   {
    "duration": -1578,
    "start_time": "2022-03-11T17:42:05.300Z"
   },
   {
    "duration": -1581,
    "start_time": "2022-03-11T17:42:05.304Z"
   },
   {
    "duration": -1582,
    "start_time": "2022-03-11T17:42:05.306Z"
   },
   {
    "duration": 204,
    "start_time": "2022-03-11T17:42:59.126Z"
   },
   {
    "duration": 254,
    "start_time": "2022-03-11T17:43:31.141Z"
   },
   {
    "duration": 210,
    "start_time": "2022-03-11T17:44:10.313Z"
   },
   {
    "duration": 447,
    "start_time": "2022-03-11T17:46:26.069Z"
   },
   {
    "duration": 9,
    "start_time": "2022-03-11T17:46:29.849Z"
   },
   {
    "duration": 258,
    "start_time": "2022-03-11T17:46:31.050Z"
   },
   {
    "duration": 21,
    "start_time": "2022-03-11T18:37:36.377Z"
   },
   {
    "duration": 1465,
    "start_time": "2022-03-11T18:38:57.912Z"
   },
   {
    "duration": 42,
    "start_time": "2022-03-11T18:38:59.379Z"
   },
   {
    "duration": 3,
    "start_time": "2022-03-11T18:38:59.424Z"
   },
   {
    "duration": 6,
    "start_time": "2022-03-11T18:38:59.428Z"
   },
   {
    "duration": 99,
    "start_time": "2022-03-11T18:38:59.436Z"
   },
   {
    "duration": 35,
    "start_time": "2022-03-11T18:38:59.537Z"
   },
   {
    "duration": 10,
    "start_time": "2022-03-11T18:38:59.574Z"
   },
   {
    "duration": 4,
    "start_time": "2022-03-11T18:38:59.586Z"
   },
   {
    "duration": 85,
    "start_time": "2022-03-11T18:38:59.592Z"
   },
   {
    "duration": 13,
    "start_time": "2022-03-11T18:38:59.679Z"
   },
   {
    "duration": 221,
    "start_time": "2022-03-11T18:38:59.694Z"
   },
   {
    "duration": 10,
    "start_time": "2022-03-11T18:38:59.916Z"
   },
   {
    "duration": 169,
    "start_time": "2022-03-11T18:38:59.927Z"
   },
   {
    "duration": 22,
    "start_time": "2022-03-11T18:39:00.098Z"
   },
   {
    "duration": 11,
    "start_time": "2022-03-11T18:39:00.122Z"
   },
   {
    "duration": 992,
    "start_time": "2022-03-11T18:39:00.135Z"
   },
   {
    "duration": 9,
    "start_time": "2022-03-11T18:39:01.129Z"
   },
   {
    "duration": 657,
    "start_time": "2022-03-11T18:39:01.140Z"
   },
   {
    "duration": 82,
    "start_time": "2022-03-11T18:39:01.799Z"
   },
   {
    "duration": 15,
    "start_time": "2022-03-11T18:39:01.883Z"
   },
   {
    "duration": 465,
    "start_time": "2022-03-11T18:39:01.900Z"
   },
   {
    "duration": 1047,
    "start_time": "2022-03-11T18:39:02.366Z"
   },
   {
    "duration": 7,
    "start_time": "2022-03-11T18:39:03.416Z"
   },
   {
    "duration": 4,
    "start_time": "2022-03-11T18:39:03.425Z"
   },
   {
    "duration": 6,
    "start_time": "2022-03-11T18:39:03.430Z"
   },
   {
    "duration": 11,
    "start_time": "2022-03-11T18:39:03.438Z"
   },
   {
    "duration": 6,
    "start_time": "2022-03-11T18:39:03.450Z"
   },
   {
    "duration": 6,
    "start_time": "2022-03-11T18:39:03.457Z"
   },
   {
    "duration": 637,
    "start_time": "2022-03-11T18:39:03.464Z"
   },
   {
    "duration": 12,
    "start_time": "2022-03-11T19:18:08.094Z"
   },
   {
    "duration": 20,
    "start_time": "2022-03-11T19:19:06.158Z"
   },
   {
    "duration": 79,
    "start_time": "2022-03-11T20:10:38.151Z"
   },
   {
    "duration": 899,
    "start_time": "2022-03-11T20:10:51.631Z"
   },
   {
    "duration": 783,
    "start_time": "2022-03-11T20:11:13.050Z"
   },
   {
    "duration": 773,
    "start_time": "2022-03-11T20:11:18.354Z"
   },
   {
    "duration": 1551,
    "start_time": "2022-03-11T20:11:26.851Z"
   },
   {
    "duration": 40,
    "start_time": "2022-03-11T20:11:28.404Z"
   },
   {
    "duration": 3,
    "start_time": "2022-03-11T20:11:28.446Z"
   },
   {
    "duration": 12,
    "start_time": "2022-03-11T20:11:28.451Z"
   },
   {
    "duration": 107,
    "start_time": "2022-03-11T20:11:28.464Z"
   },
   {
    "duration": 18,
    "start_time": "2022-03-11T20:11:28.573Z"
   },
   {
    "duration": 11,
    "start_time": "2022-03-11T20:11:28.593Z"
   },
   {
    "duration": 5,
    "start_time": "2022-03-11T20:11:28.607Z"
   },
   {
    "duration": 87,
    "start_time": "2022-03-11T20:11:28.614Z"
   },
   {
    "duration": 13,
    "start_time": "2022-03-11T20:11:28.703Z"
   },
   {
    "duration": 217,
    "start_time": "2022-03-11T20:11:28.718Z"
   },
   {
    "duration": 12,
    "start_time": "2022-03-11T20:11:28.937Z"
   },
   {
    "duration": 155,
    "start_time": "2022-03-11T20:11:28.962Z"
   },
   {
    "duration": 18,
    "start_time": "2022-03-11T20:11:29.119Z"
   },
   {
    "duration": 25,
    "start_time": "2022-03-11T20:11:29.139Z"
   },
   {
    "duration": 960,
    "start_time": "2022-03-11T20:11:29.166Z"
   },
   {
    "duration": 8,
    "start_time": "2022-03-11T20:11:30.128Z"
   },
   {
    "duration": 673,
    "start_time": "2022-03-11T20:11:30.138Z"
   },
   {
    "duration": 73,
    "start_time": "2022-03-11T20:11:30.813Z"
   },
   {
    "duration": 14,
    "start_time": "2022-03-11T20:11:30.888Z"
   },
   {
    "duration": 504,
    "start_time": "2022-03-11T20:11:30.904Z"
   },
   {
    "duration": 857,
    "start_time": "2022-03-11T20:11:31.410Z"
   },
   {
    "duration": 7,
    "start_time": "2022-03-11T20:11:32.271Z"
   },
   {
    "duration": 11,
    "start_time": "2022-03-11T20:11:32.280Z"
   },
   {
    "duration": 8,
    "start_time": "2022-03-11T20:11:32.292Z"
   },
   {
    "duration": 11,
    "start_time": "2022-03-11T20:11:32.301Z"
   },
   {
    "duration": 6,
    "start_time": "2022-03-11T20:11:32.314Z"
   },
   {
    "duration": 3,
    "start_time": "2022-03-11T20:11:32.322Z"
   },
   {
    "duration": 651,
    "start_time": "2022-03-11T20:11:32.327Z"
   },
   {
    "duration": 1499,
    "start_time": "2022-03-12T12:30:45.471Z"
   },
   {
    "duration": 44,
    "start_time": "2022-03-12T12:30:46.972Z"
   },
   {
    "duration": 2,
    "start_time": "2022-03-12T12:30:47.018Z"
   },
   {
    "duration": 5,
    "start_time": "2022-03-12T12:30:47.022Z"
   },
   {
    "duration": 92,
    "start_time": "2022-03-12T12:30:47.028Z"
   },
   {
    "duration": 15,
    "start_time": "2022-03-12T12:30:47.122Z"
   },
   {
    "duration": 10,
    "start_time": "2022-03-12T12:30:47.138Z"
   },
   {
    "duration": 5,
    "start_time": "2022-03-12T12:30:47.150Z"
   },
   {
    "duration": 81,
    "start_time": "2022-03-12T12:30:47.156Z"
   },
   {
    "duration": 11,
    "start_time": "2022-03-12T12:30:47.238Z"
   },
   {
    "duration": 307,
    "start_time": "2022-03-12T12:30:47.251Z"
   },
   {
    "duration": 9,
    "start_time": "2022-03-12T12:30:47.560Z"
   },
   {
    "duration": 156,
    "start_time": "2022-03-12T12:30:47.571Z"
   },
   {
    "duration": 19,
    "start_time": "2022-03-12T12:30:47.729Z"
   },
   {
    "duration": 10,
    "start_time": "2022-03-12T12:30:47.749Z"
   },
   {
    "duration": 953,
    "start_time": "2022-03-12T12:30:47.760Z"
   },
   {
    "duration": 7,
    "start_time": "2022-03-12T12:30:48.715Z"
   },
   {
    "duration": 606,
    "start_time": "2022-03-12T12:30:48.724Z"
   },
   {
    "duration": 77,
    "start_time": "2022-03-12T12:30:49.332Z"
   },
   {
    "duration": 12,
    "start_time": "2022-03-12T12:30:49.411Z"
   },
   {
    "duration": 387,
    "start_time": "2022-03-12T12:30:49.425Z"
   },
   {
    "duration": 1015,
    "start_time": "2022-03-12T12:30:49.814Z"
   },
   {
    "duration": 7,
    "start_time": "2022-03-12T12:30:50.831Z"
   },
   {
    "duration": 4,
    "start_time": "2022-03-12T12:30:50.839Z"
   },
   {
    "duration": 5,
    "start_time": "2022-03-12T12:30:50.845Z"
   },
   {
    "duration": 8,
    "start_time": "2022-03-12T12:30:50.851Z"
   },
   {
    "duration": 4,
    "start_time": "2022-03-12T12:30:50.860Z"
   },
   {
    "duration": 4,
    "start_time": "2022-03-12T12:30:50.865Z"
   },
   {
    "duration": 633,
    "start_time": "2022-03-12T12:30:50.870Z"
   },
   {
    "duration": 976,
    "start_time": "2022-03-12T12:33:12.227Z"
   },
   {
    "duration": 948,
    "start_time": "2022-03-12T12:33:35.967Z"
   },
   {
    "duration": 1433,
    "start_time": "2022-03-12T12:33:49.970Z"
   },
   {
    "duration": 1555,
    "start_time": "2022-03-12T12:34:00.692Z"
   },
   {
    "duration": 931,
    "start_time": "2022-03-12T12:36:19.863Z"
   },
   {
    "duration": 943,
    "start_time": "2022-03-12T12:36:47.946Z"
   },
   {
    "duration": 926,
    "start_time": "2022-03-12T12:37:38.986Z"
   },
   {
    "duration": 1008,
    "start_time": "2022-03-12T12:37:48.302Z"
   },
   {
    "duration": 956,
    "start_time": "2022-03-12T12:41:53.562Z"
   },
   {
    "duration": 852,
    "start_time": "2022-03-12T13:30:25.169Z"
   },
   {
    "duration": 487,
    "start_time": "2022-03-12T13:32:35.477Z"
   },
   {
    "duration": 369,
    "start_time": "2022-03-12T13:33:30.330Z"
   },
   {
    "duration": 829,
    "start_time": "2022-03-12T13:35:52.265Z"
   },
   {
    "duration": 774,
    "start_time": "2022-03-12T13:36:15.941Z"
   },
   {
    "duration": 657,
    "start_time": "2022-03-12T13:37:50.077Z"
   },
   {
    "duration": 356,
    "start_time": "2022-03-12T13:38:01.149Z"
   },
   {
    "duration": 373,
    "start_time": "2022-03-12T13:38:16.049Z"
   },
   {
    "duration": 375,
    "start_time": "2022-03-12T13:40:17.933Z"
   },
   {
    "duration": 366,
    "start_time": "2022-03-12T13:40:35.277Z"
   },
   {
    "duration": 380,
    "start_time": "2022-03-12T13:41:29.459Z"
   },
   {
    "duration": 448,
    "start_time": "2022-03-12T13:42:26.433Z"
   },
   {
    "duration": 524,
    "start_time": "2022-03-12T13:44:28.072Z"
   },
   {
    "duration": 1102,
    "start_time": "2022-03-12T13:45:22.904Z"
   },
   {
    "duration": 969,
    "start_time": "2022-03-12T13:45:32.592Z"
   },
   {
    "duration": 768,
    "start_time": "2022-03-12T13:46:13.238Z"
   },
   {
    "duration": 633,
    "start_time": "2022-03-12T13:48:31.037Z"
   },
   {
    "duration": 103,
    "start_time": "2022-03-12T14:28:13.481Z"
   },
   {
    "duration": 408,
    "start_time": "2022-03-12T14:28:21.137Z"
   },
   {
    "duration": 1261,
    "start_time": "2022-03-12T14:33:01.932Z"
   },
   {
    "duration": 958,
    "start_time": "2022-03-12T14:33:31.752Z"
   },
   {
    "duration": 969,
    "start_time": "2022-03-12T14:36:04.636Z"
   },
   {
    "duration": 1485,
    "start_time": "2022-03-12T14:37:37.196Z"
   },
   {
    "duration": 56,
    "start_time": "2022-03-12T14:37:38.683Z"
   },
   {
    "duration": 2,
    "start_time": "2022-03-12T14:37:38.741Z"
   },
   {
    "duration": 5,
    "start_time": "2022-03-12T14:37:38.745Z"
   },
   {
    "duration": 94,
    "start_time": "2022-03-12T14:37:38.751Z"
   },
   {
    "duration": 15,
    "start_time": "2022-03-12T14:37:38.847Z"
   },
   {
    "duration": 37,
    "start_time": "2022-03-12T14:37:38.864Z"
   },
   {
    "duration": 3,
    "start_time": "2022-03-12T14:37:38.904Z"
   },
   {
    "duration": 63,
    "start_time": "2022-03-12T14:37:38.909Z"
   },
   {
    "duration": 28,
    "start_time": "2022-03-12T14:37:38.974Z"
   },
   {
    "duration": 202,
    "start_time": "2022-03-12T14:37:39.003Z"
   },
   {
    "duration": 9,
    "start_time": "2022-03-12T14:37:39.207Z"
   },
   {
    "duration": 153,
    "start_time": "2022-03-12T14:37:39.217Z"
   },
   {
    "duration": 30,
    "start_time": "2022-03-12T14:37:39.372Z"
   },
   {
    "duration": 8,
    "start_time": "2022-03-12T14:37:39.403Z"
   },
   {
    "duration": 1188,
    "start_time": "2022-03-12T14:37:39.413Z"
   },
   {
    "duration": 864,
    "start_time": "2022-03-12T14:37:40.603Z"
   },
   {
    "duration": 9,
    "start_time": "2022-03-12T14:37:41.469Z"
   },
   {
    "duration": 190,
    "start_time": "2022-03-12T14:37:41.479Z"
   },
   {
    "duration": 46,
    "start_time": "2022-03-12T14:37:41.670Z"
   },
   {
    "duration": 17,
    "start_time": "2022-03-12T14:37:41.718Z"
   },
   {
    "duration": 199,
    "start_time": "2022-03-12T14:37:41.736Z"
   },
   {
    "duration": 1126,
    "start_time": "2022-03-12T14:37:41.939Z"
   },
   {
    "duration": 7,
    "start_time": "2022-03-12T14:37:43.067Z"
   },
   {
    "duration": 5,
    "start_time": "2022-03-12T14:37:43.075Z"
   },
   {
    "duration": 4,
    "start_time": "2022-03-12T14:37:43.082Z"
   },
   {
    "duration": 8,
    "start_time": "2022-03-12T14:37:43.088Z"
   },
   {
    "duration": 4,
    "start_time": "2022-03-12T14:37:43.098Z"
   },
   {
    "duration": 3,
    "start_time": "2022-03-12T14:37:43.103Z"
   },
   {
    "duration": 666,
    "start_time": "2022-03-12T14:37:43.108Z"
   },
   {
    "duration": 989,
    "start_time": "2022-03-12T14:37:57.839Z"
   },
   {
    "duration": 965,
    "start_time": "2022-03-12T14:38:20.636Z"
   },
   {
    "duration": 501,
    "start_time": "2022-03-12T14:38:44.146Z"
   },
   {
    "duration": 327,
    "start_time": "2022-03-12T14:40:10.448Z"
   },
   {
    "duration": 1495,
    "start_time": "2022-03-12T14:40:41.927Z"
   },
   {
    "duration": 53,
    "start_time": "2022-03-12T14:40:43.424Z"
   },
   {
    "duration": 2,
    "start_time": "2022-03-12T14:40:43.481Z"
   },
   {
    "duration": 6,
    "start_time": "2022-03-12T14:40:43.484Z"
   },
   {
    "duration": 81,
    "start_time": "2022-03-12T14:40:43.491Z"
   },
   {
    "duration": 39,
    "start_time": "2022-03-12T14:40:43.574Z"
   },
   {
    "duration": 10,
    "start_time": "2022-03-12T14:40:43.616Z"
   },
   {
    "duration": 3,
    "start_time": "2022-03-12T14:40:43.628Z"
   },
   {
    "duration": 95,
    "start_time": "2022-03-12T14:40:43.633Z"
   },
   {
    "duration": 10,
    "start_time": "2022-03-12T14:40:43.729Z"
   },
   {
    "duration": 207,
    "start_time": "2022-03-12T14:40:43.741Z"
   },
   {
    "duration": 9,
    "start_time": "2022-03-12T14:40:43.950Z"
   },
   {
    "duration": 155,
    "start_time": "2022-03-12T14:40:43.960Z"
   },
   {
    "duration": 18,
    "start_time": "2022-03-12T14:40:44.117Z"
   },
   {
    "duration": 12,
    "start_time": "2022-03-12T14:40:44.137Z"
   },
   {
    "duration": 965,
    "start_time": "2022-03-12T14:40:44.151Z"
   },
   {
    "duration": 8,
    "start_time": "2022-03-12T14:40:45.118Z"
   },
   {
    "duration": 180,
    "start_time": "2022-03-12T14:40:45.128Z"
   },
   {
    "duration": 35,
    "start_time": "2022-03-12T14:40:45.309Z"
   },
   {
    "duration": 15,
    "start_time": "2022-03-12T14:40:45.346Z"
   },
   {
    "duration": 207,
    "start_time": "2022-03-12T14:40:45.363Z"
   },
   {
    "duration": 838,
    "start_time": "2022-03-12T14:40:45.573Z"
   },
   {
    "duration": 6,
    "start_time": "2022-03-12T14:40:46.413Z"
   },
   {
    "duration": 4,
    "start_time": "2022-03-12T14:40:46.420Z"
   },
   {
    "duration": 9,
    "start_time": "2022-03-12T14:40:46.426Z"
   },
   {
    "duration": 8,
    "start_time": "2022-03-12T14:40:46.436Z"
   },
   {
    "duration": 5,
    "start_time": "2022-03-12T14:40:46.446Z"
   },
   {
    "duration": 4,
    "start_time": "2022-03-12T14:40:46.452Z"
   },
   {
    "duration": 366,
    "start_time": "2022-03-12T14:40:46.457Z"
   },
   {
    "duration": 378,
    "start_time": "2022-03-12T14:43:01.929Z"
   },
   {
    "duration": 342,
    "start_time": "2022-03-12T14:43:32.133Z"
   },
   {
    "duration": 249,
    "start_time": "2022-03-12T14:43:41.756Z"
   },
   {
    "duration": 323,
    "start_time": "2022-03-12T14:43:51.260Z"
   },
   {
    "duration": 54,
    "start_time": "2022-03-12T14:48:36.144Z"
   },
   {
    "duration": 4,
    "start_time": "2022-03-12T15:48:05.767Z"
   },
   {
    "duration": 1432,
    "start_time": "2022-03-12T15:48:28.345Z"
   },
   {
    "duration": 54,
    "start_time": "2022-03-12T15:48:29.779Z"
   },
   {
    "duration": 3,
    "start_time": "2022-03-12T15:48:29.835Z"
   },
   {
    "duration": 5,
    "start_time": "2022-03-12T15:48:29.839Z"
   },
   {
    "duration": 95,
    "start_time": "2022-03-12T15:48:29.846Z"
   },
   {
    "duration": 15,
    "start_time": "2022-03-12T15:48:29.942Z"
   },
   {
    "duration": 9,
    "start_time": "2022-03-12T15:48:29.959Z"
   },
   {
    "duration": 35,
    "start_time": "2022-03-12T15:48:29.970Z"
   },
   {
    "duration": 67,
    "start_time": "2022-03-12T15:48:30.007Z"
   },
   {
    "duration": 13,
    "start_time": "2022-03-12T15:48:30.076Z"
   },
   {
    "duration": 208,
    "start_time": "2022-03-12T15:48:30.090Z"
   },
   {
    "duration": 11,
    "start_time": "2022-03-12T15:48:30.302Z"
   },
   {
    "duration": 166,
    "start_time": "2022-03-12T15:48:30.315Z"
   },
   {
    "duration": 27,
    "start_time": "2022-03-12T15:48:30.482Z"
   },
   {
    "duration": 9,
    "start_time": "2022-03-12T15:48:30.511Z"
   },
   {
    "duration": 1032,
    "start_time": "2022-03-12T15:48:30.522Z"
   },
   {
    "duration": 7,
    "start_time": "2022-03-12T15:48:31.556Z"
   },
   {
    "duration": 270,
    "start_time": "2022-03-12T15:48:31.565Z"
   },
   {
    "duration": 37,
    "start_time": "2022-03-12T15:48:31.837Z"
   },
   {
    "duration": 30,
    "start_time": "2022-03-12T15:48:31.876Z"
   },
   {
    "duration": 265,
    "start_time": "2022-03-12T15:48:31.907Z"
   },
   {
    "duration": 1401,
    "start_time": "2022-03-12T15:48:32.173Z"
   },
   {
    "duration": 7,
    "start_time": "2022-03-12T15:48:33.577Z"
   },
   {
    "duration": 12,
    "start_time": "2022-03-12T15:48:33.586Z"
   },
   {
    "duration": 18,
    "start_time": "2022-03-12T15:48:33.599Z"
   },
   {
    "duration": 14,
    "start_time": "2022-03-12T15:48:33.619Z"
   },
   {
    "duration": 22,
    "start_time": "2022-03-12T15:48:33.634Z"
   },
   {
    "duration": 17,
    "start_time": "2022-03-12T15:48:33.658Z"
   },
   {
    "duration": 347,
    "start_time": "2022-03-12T15:48:33.677Z"
   },
   {
    "duration": 19,
    "start_time": "2022-03-12T16:05:11.088Z"
   },
   {
    "duration": 1058,
    "start_time": "2022-03-12T16:09:32.924Z"
   },
   {
    "duration": 843,
    "start_time": "2022-03-12T16:10:11.268Z"
   },
   {
    "duration": 1056,
    "start_time": "2022-03-12T16:14:05.947Z"
   },
   {
    "duration": 896,
    "start_time": "2022-03-12T16:14:15.039Z"
   },
   {
    "duration": 327,
    "start_time": "2022-03-12T16:17:23.255Z"
   },
   {
    "duration": 1492,
    "start_time": "2022-03-12T16:32:59.412Z"
   },
   {
    "duration": 56,
    "start_time": "2022-03-12T16:33:00.906Z"
   },
   {
    "duration": 4,
    "start_time": "2022-03-12T16:33:00.965Z"
   },
   {
    "duration": 8,
    "start_time": "2022-03-12T16:33:00.971Z"
   },
   {
    "duration": 93,
    "start_time": "2022-03-12T16:33:00.981Z"
   },
   {
    "duration": 43,
    "start_time": "2022-03-12T16:33:01.075Z"
   },
   {
    "duration": 11,
    "start_time": "2022-03-12T16:33:01.120Z"
   },
   {
    "duration": 4,
    "start_time": "2022-03-12T16:33:01.133Z"
   },
   {
    "duration": 84,
    "start_time": "2022-03-12T16:33:01.139Z"
   },
   {
    "duration": 13,
    "start_time": "2022-03-12T16:33:01.225Z"
   },
   {
    "duration": 199,
    "start_time": "2022-03-12T16:33:01.240Z"
   },
   {
    "duration": 9,
    "start_time": "2022-03-12T16:33:01.440Z"
   },
   {
    "duration": 155,
    "start_time": "2022-03-12T16:33:01.451Z"
   },
   {
    "duration": 18,
    "start_time": "2022-03-12T16:33:01.608Z"
   },
   {
    "duration": 8,
    "start_time": "2022-03-12T16:33:01.627Z"
   },
   {
    "duration": 953,
    "start_time": "2022-03-12T16:33:01.637Z"
   },
   {
    "duration": 10,
    "start_time": "2022-03-12T16:33:02.591Z"
   },
   {
    "duration": 257,
    "start_time": "2022-03-12T16:33:02.603Z"
   },
   {
    "duration": 43,
    "start_time": "2022-03-12T16:33:02.862Z"
   },
   {
    "duration": 12,
    "start_time": "2022-03-12T16:33:02.907Z"
   },
   {
    "duration": 269,
    "start_time": "2022-03-12T16:33:02.921Z"
   },
   {
    "duration": 1083,
    "start_time": "2022-03-12T16:33:03.192Z"
   },
   {
    "duration": 6,
    "start_time": "2022-03-12T16:33:04.278Z"
   },
   {
    "duration": 24,
    "start_time": "2022-03-12T16:33:04.286Z"
   },
   {
    "duration": 6,
    "start_time": "2022-03-12T16:33:04.312Z"
   },
   {
    "duration": 20,
    "start_time": "2022-03-12T16:33:04.319Z"
   },
   {
    "duration": 8,
    "start_time": "2022-03-12T16:33:04.340Z"
   },
   {
    "duration": 16,
    "start_time": "2022-03-12T16:33:04.349Z"
   },
   {
    "duration": 345,
    "start_time": "2022-03-12T16:33:04.366Z"
   },
   {
    "duration": 618,
    "start_time": "2022-03-12T16:45:59.407Z"
   },
   {
    "duration": 575,
    "start_time": "2022-03-12T16:46:15.998Z"
   },
   {
    "duration": 527,
    "start_time": "2022-03-12T16:47:01.938Z"
   },
   {
    "duration": 1172,
    "start_time": "2022-03-12T16:48:37.334Z"
   },
   {
    "duration": 1395,
    "start_time": "2022-03-12T16:49:01.362Z"
   },
   {
    "duration": 1104,
    "start_time": "2022-03-12T16:49:36.527Z"
   },
   {
    "duration": 879,
    "start_time": "2022-03-12T17:10:41.624Z"
   },
   {
    "duration": 315,
    "start_time": "2022-03-12T17:12:48.548Z"
   },
   {
    "duration": 323,
    "start_time": "2022-03-12T17:13:14.636Z"
   },
   {
    "duration": 5,
    "start_time": "2022-03-12T17:17:51.904Z"
   },
   {
    "duration": 892,
    "start_time": "2022-03-12T18:17:56.618Z"
   },
   {
    "duration": 330,
    "start_time": "2022-03-12T18:27:51.910Z"
   },
   {
    "duration": 39514,
    "start_time": "2022-03-13T05:00:20.797Z"
   },
   {
    "duration": 189,
    "start_time": "2022-03-13T05:01:00.314Z"
   },
   {
    "duration": 3,
    "start_time": "2022-03-13T05:01:00.506Z"
   },
   {
    "duration": 101,
    "start_time": "2022-03-13T05:01:00.512Z"
   },
   {
    "duration": 412,
    "start_time": "2022-03-13T05:01:00.616Z"
   },
   {
    "duration": 78,
    "start_time": "2022-03-13T05:01:01.031Z"
   },
   {
    "duration": 35,
    "start_time": "2022-03-13T05:01:01.112Z"
   },
   {
    "duration": 94,
    "start_time": "2022-03-13T05:01:01.149Z"
   },
   {
    "duration": 269,
    "start_time": "2022-03-13T05:01:01.249Z"
   },
   {
    "duration": 15,
    "start_time": "2022-03-13T05:01:01.588Z"
   },
   {
    "duration": 1405,
    "start_time": "2022-03-13T05:01:01.605Z"
   },
   {
    "duration": 90,
    "start_time": "2022-03-13T05:01:03.013Z"
   },
   {
    "duration": 1005,
    "start_time": "2022-03-13T05:01:03.106Z"
   },
   {
    "duration": 178,
    "start_time": "2022-03-13T05:01:04.115Z"
   },
   {
    "duration": 13,
    "start_time": "2022-03-13T05:01:04.296Z"
   },
   {
    "duration": 6279,
    "start_time": "2022-03-13T05:01:04.312Z"
   },
   {
    "duration": 93,
    "start_time": "2022-03-13T05:01:10.595Z"
   },
   {
    "duration": 1499,
    "start_time": "2022-03-13T05:01:10.691Z"
   },
   {
    "duration": 308,
    "start_time": "2022-03-13T05:01:12.193Z"
   },
   {
    "duration": 102,
    "start_time": "2022-03-13T05:01:12.504Z"
   },
   {
    "duration": 1902,
    "start_time": "2022-03-13T05:01:12.689Z"
   },
   {
    "duration": 1209,
    "start_time": "2022-03-13T05:01:14.594Z"
   },
   {
    "duration": 84,
    "start_time": "2022-03-13T05:01:15.806Z"
   },
   {
    "duration": 7,
    "start_time": "2022-03-13T05:01:15.893Z"
   },
   {
    "duration": 87,
    "start_time": "2022-03-13T05:01:15.903Z"
   },
   {
    "duration": 21,
    "start_time": "2022-03-13T05:01:15.992Z"
   },
   {
    "duration": 71,
    "start_time": "2022-03-13T05:01:16.018Z"
   },
   {
    "duration": 5,
    "start_time": "2022-03-13T05:01:16.093Z"
   },
   {
    "duration": 1601,
    "start_time": "2022-03-13T05:01:16.101Z"
   },
   {
    "duration": 1505,
    "start_time": "2022-03-13T07:01:17.450Z"
   },
   {
    "duration": 45,
    "start_time": "2022-03-13T07:01:20.570Z"
   },
   {
    "duration": 2,
    "start_time": "2022-03-13T07:01:23.943Z"
   },
   {
    "duration": 4,
    "start_time": "2022-03-13T07:01:26.979Z"
   },
   {
    "duration": 75,
    "start_time": "2022-03-13T07:01:32.306Z"
   },
   {
    "duration": 5,
    "start_time": "2022-03-13T07:02:24.591Z"
   },
   {
    "duration": 74,
    "start_time": "2022-03-13T07:02:29.418Z"
   },
   {
    "duration": 5,
    "start_time": "2022-03-13T07:02:53.075Z"
   },
   {
    "duration": 64,
    "start_time": "2022-03-13T07:02:56.983Z"
   },
   {
    "duration": 5,
    "start_time": "2022-03-13T07:06:51.214Z"
   },
   {
    "duration": 796,
    "start_time": "2022-03-13T07:06:54.974Z"
   },
   {
    "duration": 5,
    "start_time": "2022-03-13T07:07:47.210Z"
   },
   {
    "duration": 68,
    "start_time": "2022-03-13T07:07:50.485Z"
   },
   {
    "duration": 1422,
    "start_time": "2022-03-13T07:09:25.520Z"
   },
   {
    "duration": 43,
    "start_time": "2022-03-13T07:09:26.945Z"
   },
   {
    "duration": 2,
    "start_time": "2022-03-13T07:09:26.990Z"
   },
   {
    "duration": 17,
    "start_time": "2022-03-13T07:09:26.994Z"
   },
   {
    "duration": 98,
    "start_time": "2022-03-13T07:09:27.012Z"
   },
   {
    "duration": 14,
    "start_time": "2022-03-13T07:09:27.111Z"
   },
   {
    "duration": 13,
    "start_time": "2022-03-13T07:09:27.126Z"
   },
   {
    "duration": 16,
    "start_time": "2022-03-13T07:09:27.141Z"
   },
   {
    "duration": 82,
    "start_time": "2022-03-13T07:09:27.159Z"
   },
   {
    "duration": 24,
    "start_time": "2022-03-13T07:09:27.242Z"
   },
   {
    "duration": 202,
    "start_time": "2022-03-13T07:09:27.267Z"
   },
   {
    "duration": 9,
    "start_time": "2022-03-13T07:09:27.470Z"
   },
   {
    "duration": 146,
    "start_time": "2022-03-13T07:09:27.481Z"
   },
   {
    "duration": 17,
    "start_time": "2022-03-13T07:09:27.629Z"
   },
   {
    "duration": 8,
    "start_time": "2022-03-13T07:09:27.648Z"
   },
   {
    "duration": 916,
    "start_time": "2022-03-13T07:09:27.657Z"
   },
   {
    "duration": 7,
    "start_time": "2022-03-13T07:09:28.575Z"
   },
   {
    "duration": 353,
    "start_time": "2022-03-13T07:09:28.583Z"
   },
   {
    "duration": 33,
    "start_time": "2022-03-13T07:09:28.938Z"
   },
   {
    "duration": 11,
    "start_time": "2022-03-13T07:09:28.973Z"
   },
   {
    "duration": 266,
    "start_time": "2022-03-13T07:09:28.985Z"
   },
   {
    "duration": 1170,
    "start_time": "2022-03-13T07:09:29.252Z"
   },
   {
    "duration": 6,
    "start_time": "2022-03-13T07:09:30.425Z"
   },
   {
    "duration": 8,
    "start_time": "2022-03-13T07:09:30.433Z"
   },
   {
    "duration": 6,
    "start_time": "2022-03-13T07:09:30.442Z"
   },
   {
    "duration": 18,
    "start_time": "2022-03-13T07:09:30.449Z"
   },
   {
    "duration": 23,
    "start_time": "2022-03-13T07:09:30.468Z"
   },
   {
    "duration": 9,
    "start_time": "2022-03-13T07:09:30.493Z"
   },
   {
    "duration": 328,
    "start_time": "2022-03-13T07:09:30.504Z"
   },
   {
    "duration": 3,
    "start_time": "2022-03-13T07:10:02.417Z"
   },
   {
    "duration": 43,
    "start_time": "2022-03-13T07:10:06.833Z"
   },
   {
    "duration": 3,
    "start_time": "2022-03-13T07:10:47.436Z"
   },
   {
    "duration": 1418,
    "start_time": "2022-03-13T07:10:53.633Z"
   },
   {
    "duration": 53,
    "start_time": "2022-03-13T07:10:55.053Z"
   },
   {
    "duration": 3,
    "start_time": "2022-03-13T07:10:55.107Z"
   },
   {
    "duration": 5,
    "start_time": "2022-03-13T07:10:55.111Z"
   },
   {
    "duration": 94,
    "start_time": "2022-03-13T07:10:55.118Z"
   },
   {
    "duration": 14,
    "start_time": "2022-03-13T07:10:55.214Z"
   },
   {
    "duration": 11,
    "start_time": "2022-03-13T07:10:55.230Z"
   },
   {
    "duration": 3,
    "start_time": "2022-03-13T07:10:55.243Z"
   },
   {
    "duration": 79,
    "start_time": "2022-03-13T07:10:55.247Z"
   },
   {
    "duration": 9,
    "start_time": "2022-03-13T07:10:55.328Z"
   },
   {
    "duration": 200,
    "start_time": "2022-03-13T07:10:55.339Z"
   },
   {
    "duration": 8,
    "start_time": "2022-03-13T07:10:55.541Z"
   },
   {
    "duration": 153,
    "start_time": "2022-03-13T07:10:55.551Z"
   },
   {
    "duration": 19,
    "start_time": "2022-03-13T07:10:55.705Z"
   },
   {
    "duration": 8,
    "start_time": "2022-03-13T07:10:55.725Z"
   },
   {
    "duration": 921,
    "start_time": "2022-03-13T07:10:55.735Z"
   },
   {
    "duration": 7,
    "start_time": "2022-03-13T07:10:56.658Z"
   },
   {
    "duration": 249,
    "start_time": "2022-03-13T07:10:56.666Z"
   },
   {
    "duration": 39,
    "start_time": "2022-03-13T07:10:56.916Z"
   },
   {
    "duration": 14,
    "start_time": "2022-03-13T07:10:56.956Z"
   },
   {
    "duration": 273,
    "start_time": "2022-03-13T07:10:56.971Z"
   },
   {
    "duration": 1004,
    "start_time": "2022-03-13T07:10:57.246Z"
   },
   {
    "duration": 6,
    "start_time": "2022-03-13T07:10:58.253Z"
   },
   {
    "duration": 5,
    "start_time": "2022-03-13T07:10:58.260Z"
   },
   {
    "duration": 5,
    "start_time": "2022-03-13T07:10:58.266Z"
   },
   {
    "duration": 8,
    "start_time": "2022-03-13T07:10:58.273Z"
   },
   {
    "duration": 3,
    "start_time": "2022-03-13T07:10:58.283Z"
   },
   {
    "duration": 4,
    "start_time": "2022-03-13T07:10:58.287Z"
   },
   {
    "duration": 323,
    "start_time": "2022-03-13T07:10:58.293Z"
   },
   {
    "duration": 5,
    "start_time": "2022-03-13T07:13:04.484Z"
   },
   {
    "duration": 810,
    "start_time": "2022-03-13T07:13:07.276Z"
   },
   {
    "duration": 5,
    "start_time": "2022-03-13T07:13:24.076Z"
   },
   {
    "duration": 75,
    "start_time": "2022-03-13T07:13:27.916Z"
   },
   {
    "duration": 6,
    "start_time": "2022-03-13T07:14:09.272Z"
   },
   {
    "duration": 75,
    "start_time": "2022-03-13T07:14:11.872Z"
   },
   {
    "duration": 16,
    "start_time": "2022-03-13T07:35:43.455Z"
   },
   {
    "duration": 8,
    "start_time": "2022-03-13T08:04:53.960Z"
   },
   {
    "duration": 106,
    "start_time": "2022-03-13T08:29:01.765Z"
   },
   {
    "duration": 5,
    "start_time": "2022-03-13T08:29:42.946Z"
   },
   {
    "duration": 63,
    "start_time": "2022-03-13T08:29:43.357Z"
   },
   {
    "duration": 125,
    "start_time": "2022-03-13T08:30:16.061Z"
   },
   {
    "duration": 191,
    "start_time": "2022-03-13T08:42:10.728Z"
   },
   {
    "duration": 993,
    "start_time": "2022-03-13T08:46:17.323Z"
   },
   {
    "duration": 818,
    "start_time": "2022-03-13T08:46:53.300Z"
   },
   {
    "duration": 264,
    "start_time": "2022-03-13T08:48:58.264Z"
   },
   {
    "duration": 174,
    "start_time": "2022-03-13T08:49:08.538Z"
   },
   {
    "duration": 144,
    "start_time": "2022-03-13T08:49:24.955Z"
   },
   {
    "duration": 290,
    "start_time": "2022-03-13T08:49:53.631Z"
   },
   {
    "duration": 832,
    "start_time": "2022-03-13T08:50:09.114Z"
   },
   {
    "duration": 390,
    "start_time": "2022-03-13T08:50:16.920Z"
   },
   {
    "duration": 461,
    "start_time": "2022-03-13T08:51:04.415Z"
   },
   {
    "duration": 420,
    "start_time": "2022-03-13T08:51:38.503Z"
   },
   {
    "duration": 462,
    "start_time": "2022-03-13T08:52:05.276Z"
   },
   {
    "duration": 421,
    "start_time": "2022-03-13T08:52:15.509Z"
   },
   {
    "duration": 336,
    "start_time": "2022-03-13T08:52:27.579Z"
   },
   {
    "duration": 550,
    "start_time": "2022-03-13T08:54:45.811Z"
   },
   {
    "duration": 348,
    "start_time": "2022-03-13T08:55:56.055Z"
   },
   {
    "duration": 329,
    "start_time": "2022-03-13T08:56:07.846Z"
   },
   {
    "duration": 412,
    "start_time": "2022-03-13T08:57:52.043Z"
   },
   {
    "duration": 303,
    "start_time": "2022-03-13T08:58:05.847Z"
   },
   {
    "duration": 342,
    "start_time": "2022-03-13T08:58:30.043Z"
   },
   {
    "duration": 437,
    "start_time": "2022-03-13T08:59:22.490Z"
   },
   {
    "duration": 335,
    "start_time": "2022-03-13T09:02:31.999Z"
   },
   {
    "duration": 443,
    "start_time": "2022-03-13T09:03:30.864Z"
   },
   {
    "duration": 394,
    "start_time": "2022-03-13T09:04:31.079Z"
   },
   {
    "duration": 4,
    "start_time": "2022-03-13T09:50:12.013Z"
   },
   {
    "duration": 4,
    "start_time": "2022-03-13T09:50:55.238Z"
   },
   {
    "duration": 5,
    "start_time": "2022-03-13T09:51:43.439Z"
   },
   {
    "duration": 13,
    "start_time": "2022-03-13T09:52:08.462Z"
   },
   {
    "duration": 1456,
    "start_time": "2022-03-13T09:54:20.109Z"
   },
   {
    "duration": 43,
    "start_time": "2022-03-13T09:54:21.567Z"
   },
   {
    "duration": 2,
    "start_time": "2022-03-13T09:54:21.612Z"
   },
   {
    "duration": 6,
    "start_time": "2022-03-13T09:54:21.616Z"
   },
   {
    "duration": 85,
    "start_time": "2022-03-13T09:54:21.623Z"
   },
   {
    "duration": 15,
    "start_time": "2022-03-13T09:54:21.710Z"
   },
   {
    "duration": 9,
    "start_time": "2022-03-13T09:54:21.727Z"
   },
   {
    "duration": 3,
    "start_time": "2022-03-13T09:54:21.739Z"
   },
   {
    "duration": 94,
    "start_time": "2022-03-13T09:54:21.744Z"
   },
   {
    "duration": 12,
    "start_time": "2022-03-13T09:54:21.839Z"
   },
   {
    "duration": 204,
    "start_time": "2022-03-13T09:54:21.853Z"
   },
   {
    "duration": 9,
    "start_time": "2022-03-13T09:54:22.059Z"
   },
   {
    "duration": 158,
    "start_time": "2022-03-13T09:54:22.069Z"
   },
   {
    "duration": 19,
    "start_time": "2022-03-13T09:54:22.228Z"
   },
   {
    "duration": 8,
    "start_time": "2022-03-13T09:54:22.248Z"
   },
   {
    "duration": 941,
    "start_time": "2022-03-13T09:54:22.258Z"
   },
   {
    "duration": 364,
    "start_time": "2022-03-13T09:54:23.200Z"
   },
   {
    "duration": 7,
    "start_time": "2022-03-13T09:54:23.566Z"
   },
   {
    "duration": 263,
    "start_time": "2022-03-13T09:54:23.575Z"
   },
   {
    "duration": 42,
    "start_time": "2022-03-13T09:54:23.840Z"
   },
   {
    "duration": 27,
    "start_time": "2022-03-13T09:54:23.884Z"
   },
   {
    "duration": 265,
    "start_time": "2022-03-13T09:54:23.913Z"
   },
   {
    "duration": 959,
    "start_time": "2022-03-13T09:54:24.181Z"
   },
   {
    "duration": 7,
    "start_time": "2022-03-13T09:54:25.142Z"
   },
   {
    "duration": 5,
    "start_time": "2022-03-13T09:54:25.150Z"
   },
   {
    "duration": 7,
    "start_time": "2022-03-13T09:54:25.156Z"
   },
   {
    "duration": 5,
    "start_time": "2022-03-13T09:54:25.164Z"
   },
   {
    "duration": 7,
    "start_time": "2022-03-13T09:54:25.171Z"
   },
   {
    "duration": 4,
    "start_time": "2022-03-13T09:54:25.179Z"
   },
   {
    "duration": 14,
    "start_time": "2022-03-13T09:54:25.185Z"
   },
   {
    "duration": 4,
    "start_time": "2022-03-13T09:54:25.201Z"
   },
   {
    "duration": 6,
    "start_time": "2022-03-13T09:54:25.207Z"
   },
   {
    "duration": 326,
    "start_time": "2022-03-13T09:54:25.215Z"
   },
   {
    "duration": 44,
    "start_time": "2022-03-13T09:55:02.720Z"
   },
   {
    "duration": 1605,
    "start_time": "2022-03-13T09:55:08.379Z"
   },
   {
    "duration": 44,
    "start_time": "2022-03-13T09:55:09.986Z"
   },
   {
    "duration": 3,
    "start_time": "2022-03-13T09:55:10.033Z"
   },
   {
    "duration": 19,
    "start_time": "2022-03-13T09:55:10.037Z"
   },
   {
    "duration": 84,
    "start_time": "2022-03-13T09:55:10.058Z"
   },
   {
    "duration": 15,
    "start_time": "2022-03-13T09:55:10.143Z"
   },
   {
    "duration": 11,
    "start_time": "2022-03-13T09:55:10.160Z"
   },
   {
    "duration": 24,
    "start_time": "2022-03-13T09:55:10.172Z"
   },
   {
    "duration": 81,
    "start_time": "2022-03-13T09:55:10.197Z"
   },
   {
    "duration": 49,
    "start_time": "2022-03-13T09:55:10.279Z"
   },
   {
    "duration": 231,
    "start_time": "2022-03-13T09:55:10.329Z"
   },
   {
    "duration": 9,
    "start_time": "2022-03-13T09:55:10.562Z"
   },
   {
    "duration": 152,
    "start_time": "2022-03-13T09:55:10.572Z"
   },
   {
    "duration": 17,
    "start_time": "2022-03-13T09:55:10.726Z"
   },
   {
    "duration": 29,
    "start_time": "2022-03-13T09:55:10.744Z"
   },
   {
    "duration": 903,
    "start_time": "2022-03-13T09:55:10.774Z"
   },
   {
    "duration": 363,
    "start_time": "2022-03-13T09:55:11.679Z"
   },
   {
    "duration": 7,
    "start_time": "2022-03-13T09:55:12.044Z"
   },
   {
    "duration": 251,
    "start_time": "2022-03-13T09:55:12.053Z"
   },
   {
    "duration": 45,
    "start_time": "2022-03-13T09:55:12.305Z"
   },
   {
    "duration": 13,
    "start_time": "2022-03-13T09:55:12.352Z"
   },
   {
    "duration": 291,
    "start_time": "2022-03-13T09:55:12.368Z"
   },
   {
    "duration": 836,
    "start_time": "2022-03-13T09:55:12.661Z"
   },
   {
    "duration": 6,
    "start_time": "2022-03-13T09:55:13.499Z"
   },
   {
    "duration": 7,
    "start_time": "2022-03-13T09:55:13.507Z"
   },
   {
    "duration": 5,
    "start_time": "2022-03-13T09:55:13.516Z"
   },
   {
    "duration": 5,
    "start_time": "2022-03-13T09:55:13.523Z"
   },
   {
    "duration": 8,
    "start_time": "2022-03-13T09:55:13.529Z"
   },
   {
    "duration": 3,
    "start_time": "2022-03-13T09:55:13.538Z"
   },
   {
    "duration": 15,
    "start_time": "2022-03-13T09:55:13.542Z"
   },
   {
    "duration": 4,
    "start_time": "2022-03-13T09:55:13.558Z"
   },
   {
    "duration": 7,
    "start_time": "2022-03-13T09:55:13.563Z"
   },
   {
    "duration": 330,
    "start_time": "2022-03-13T09:55:13.571Z"
   },
   {
    "duration": 104,
    "start_time": "2022-03-13T09:59:29.130Z"
   },
   {
    "duration": 7,
    "start_time": "2022-03-13T09:59:43.314Z"
   },
   {
    "duration": 7,
    "start_time": "2022-03-13T10:00:47.220Z"
   },
   {
    "duration": 4,
    "start_time": "2022-03-13T10:02:44.615Z"
   },
   {
    "duration": 444,
    "start_time": "2022-03-13T10:02:54.714Z"
   },
   {
    "duration": 3,
    "start_time": "2022-03-13T10:03:01.091Z"
   },
   {
    "duration": 5,
    "start_time": "2022-03-13T10:03:06.551Z"
   },
   {
    "duration": 3,
    "start_time": "2022-03-13T10:03:25.787Z"
   },
   {
    "duration": 2285,
    "start_time": "2022-03-13T10:15:01.599Z"
   },
   {
    "duration": 56,
    "start_time": "2022-03-13T10:15:03.886Z"
   },
   {
    "duration": 3,
    "start_time": "2022-03-13T10:15:03.945Z"
   },
   {
    "duration": 7,
    "start_time": "2022-03-13T10:15:03.950Z"
   },
   {
    "duration": 111,
    "start_time": "2022-03-13T10:15:03.959Z"
   },
   {
    "duration": 42,
    "start_time": "2022-03-13T10:15:04.072Z"
   },
   {
    "duration": 15,
    "start_time": "2022-03-13T10:15:04.116Z"
   },
   {
    "duration": 3,
    "start_time": "2022-03-13T10:15:04.134Z"
   },
   {
    "duration": 125,
    "start_time": "2022-03-13T10:15:04.140Z"
   },
   {
    "duration": 9,
    "start_time": "2022-03-13T10:15:04.267Z"
   },
   {
    "duration": 201,
    "start_time": "2022-03-13T10:15:04.277Z"
   },
   {
    "duration": 23,
    "start_time": "2022-03-13T10:15:04.480Z"
   },
   {
    "duration": 150,
    "start_time": "2022-03-13T10:15:04.505Z"
   },
   {
    "duration": 18,
    "start_time": "2022-03-13T10:15:04.657Z"
   },
   {
    "duration": 25,
    "start_time": "2022-03-13T10:15:04.677Z"
   },
   {
    "duration": 890,
    "start_time": "2022-03-13T10:15:04.703Z"
   },
   {
    "duration": 391,
    "start_time": "2022-03-13T10:15:05.595Z"
   },
   {
    "duration": 14,
    "start_time": "2022-03-13T10:15:05.989Z"
   },
   {
    "duration": 265,
    "start_time": "2022-03-13T10:15:06.004Z"
   },
   {
    "duration": 52,
    "start_time": "2022-03-13T10:15:06.270Z"
   },
   {
    "duration": 13,
    "start_time": "2022-03-13T10:15:06.324Z"
   },
   {
    "duration": 281,
    "start_time": "2022-03-13T10:15:06.338Z"
   },
   {
    "duration": 756,
    "start_time": "2022-03-13T10:15:06.624Z"
   },
   {
    "duration": 562,
    "start_time": "2022-03-13T10:15:07.383Z"
   },
   {
    "duration": -121,
    "start_time": "2022-03-13T10:15:08.068Z"
   },
   {
    "duration": -123,
    "start_time": "2022-03-13T10:15:08.071Z"
   },
   {
    "duration": -126,
    "start_time": "2022-03-13T10:15:08.075Z"
   },
   {
    "duration": -132,
    "start_time": "2022-03-13T10:15:08.082Z"
   },
   {
    "duration": -133,
    "start_time": "2022-03-13T10:15:08.085Z"
   },
   {
    "duration": -135,
    "start_time": "2022-03-13T10:15:08.087Z"
   },
   {
    "duration": -137,
    "start_time": "2022-03-13T10:15:08.090Z"
   },
   {
    "duration": -138,
    "start_time": "2022-03-13T10:15:08.092Z"
   },
   {
    "duration": -144,
    "start_time": "2022-03-13T10:15:08.099Z"
   },
   {
    "duration": 1488,
    "start_time": "2022-03-13T10:17:26.479Z"
   },
   {
    "duration": 44,
    "start_time": "2022-03-13T10:17:27.969Z"
   },
   {
    "duration": 2,
    "start_time": "2022-03-13T10:17:28.015Z"
   },
   {
    "duration": 18,
    "start_time": "2022-03-13T10:17:28.019Z"
   },
   {
    "duration": 100,
    "start_time": "2022-03-13T10:17:28.039Z"
   },
   {
    "duration": 16,
    "start_time": "2022-03-13T10:17:28.140Z"
   },
   {
    "duration": 11,
    "start_time": "2022-03-13T10:17:28.158Z"
   },
   {
    "duration": 32,
    "start_time": "2022-03-13T10:17:28.173Z"
   },
   {
    "duration": 70,
    "start_time": "2022-03-13T10:17:28.208Z"
   },
   {
    "duration": 22,
    "start_time": "2022-03-13T10:17:28.280Z"
   },
   {
    "duration": 192,
    "start_time": "2022-03-13T10:17:28.303Z"
   },
   {
    "duration": 13,
    "start_time": "2022-03-13T10:17:28.501Z"
   },
   {
    "duration": 162,
    "start_time": "2022-03-13T10:17:28.516Z"
   },
   {
    "duration": 26,
    "start_time": "2022-03-13T10:17:28.680Z"
   },
   {
    "duration": 9,
    "start_time": "2022-03-13T10:17:28.708Z"
   },
   {
    "duration": 1083,
    "start_time": "2022-03-13T10:17:28.718Z"
   },
   {
    "duration": 385,
    "start_time": "2022-03-13T10:17:29.803Z"
   },
   {
    "duration": 13,
    "start_time": "2022-03-13T10:17:30.189Z"
   },
   {
    "duration": 268,
    "start_time": "2022-03-13T10:17:30.203Z"
   },
   {
    "duration": 51,
    "start_time": "2022-03-13T10:17:30.473Z"
   },
   {
    "duration": 16,
    "start_time": "2022-03-13T10:17:30.526Z"
   },
   {
    "duration": 287,
    "start_time": "2022-03-13T10:17:30.543Z"
   },
   {
    "duration": 871,
    "start_time": "2022-03-13T10:17:30.833Z"
   },
   {
    "duration": 8,
    "start_time": "2022-03-13T10:17:31.707Z"
   },
   {
    "duration": 4,
    "start_time": "2022-03-13T10:17:31.717Z"
   },
   {
    "duration": 7,
    "start_time": "2022-03-13T10:17:31.723Z"
   },
   {
    "duration": 6,
    "start_time": "2022-03-13T10:17:31.732Z"
   },
   {
    "duration": 27,
    "start_time": "2022-03-13T10:17:31.740Z"
   },
   {
    "duration": 6,
    "start_time": "2022-03-13T10:17:31.768Z"
   },
   {
    "duration": 32,
    "start_time": "2022-03-13T10:17:31.776Z"
   },
   {
    "duration": 6,
    "start_time": "2022-03-13T10:17:31.810Z"
   },
   {
    "duration": 4,
    "start_time": "2022-03-13T10:17:31.818Z"
   },
   {
    "duration": 495,
    "start_time": "2022-03-13T10:17:31.824Z"
   },
   {
    "duration": 1590,
    "start_time": "2022-03-13T10:18:25.590Z"
   },
   {
    "duration": 42,
    "start_time": "2022-03-13T10:18:27.182Z"
   },
   {
    "duration": 2,
    "start_time": "2022-03-13T10:18:27.226Z"
   },
   {
    "duration": 5,
    "start_time": "2022-03-13T10:18:27.230Z"
   },
   {
    "duration": 75,
    "start_time": "2022-03-13T10:18:27.236Z"
   },
   {
    "duration": 16,
    "start_time": "2022-03-13T10:18:27.312Z"
   },
   {
    "duration": 9,
    "start_time": "2022-03-13T10:18:27.330Z"
   },
   {
    "duration": 6,
    "start_time": "2022-03-13T10:18:27.341Z"
   },
   {
    "duration": 83,
    "start_time": "2022-03-13T10:18:27.349Z"
   },
   {
    "duration": 11,
    "start_time": "2022-03-13T10:18:27.434Z"
   },
   {
    "duration": 202,
    "start_time": "2022-03-13T10:18:27.446Z"
   },
   {
    "duration": 16,
    "start_time": "2022-03-13T10:18:27.650Z"
   },
   {
    "duration": 154,
    "start_time": "2022-03-13T10:18:27.668Z"
   },
   {
    "duration": 21,
    "start_time": "2022-03-13T10:18:27.823Z"
   },
   {
    "duration": 9,
    "start_time": "2022-03-13T10:18:27.845Z"
   },
   {
    "duration": 936,
    "start_time": "2022-03-13T10:18:27.855Z"
   },
   {
    "duration": 371,
    "start_time": "2022-03-13T10:18:28.792Z"
   },
   {
    "duration": 9,
    "start_time": "2022-03-13T10:18:29.165Z"
   },
   {
    "duration": 264,
    "start_time": "2022-03-13T10:18:29.175Z"
   },
   {
    "duration": 62,
    "start_time": "2022-03-13T10:18:29.441Z"
   },
   {
    "duration": 14,
    "start_time": "2022-03-13T10:18:29.505Z"
   },
   {
    "duration": 286,
    "start_time": "2022-03-13T10:18:29.520Z"
   },
   {
    "duration": 828,
    "start_time": "2022-03-13T10:18:29.809Z"
   },
   {
    "duration": 8,
    "start_time": "2022-03-13T10:18:30.639Z"
   },
   {
    "duration": 15,
    "start_time": "2022-03-13T10:18:30.648Z"
   },
   {
    "duration": 10,
    "start_time": "2022-03-13T10:18:30.665Z"
   },
   {
    "duration": 19,
    "start_time": "2022-03-13T10:18:30.677Z"
   },
   {
    "duration": 12,
    "start_time": "2022-03-13T10:18:30.698Z"
   },
   {
    "duration": 14,
    "start_time": "2022-03-13T10:18:30.711Z"
   },
   {
    "duration": 21,
    "start_time": "2022-03-13T10:18:30.727Z"
   },
   {
    "duration": 8,
    "start_time": "2022-03-13T10:18:30.750Z"
   },
   {
    "duration": 23,
    "start_time": "2022-03-13T10:18:30.759Z"
   },
   {
    "duration": 368,
    "start_time": "2022-03-13T10:18:30.783Z"
   },
   {
    "duration": 13,
    "start_time": "2022-03-13T10:21:32.082Z"
   },
   {
    "duration": 13,
    "start_time": "2022-03-13T10:21:39.134Z"
   },
   {
    "duration": 4,
    "start_time": "2022-03-13T10:30:15.115Z"
   },
   {
    "duration": 1624,
    "start_time": "2022-03-13T10:30:19.790Z"
   },
   {
    "duration": 46,
    "start_time": "2022-03-13T10:30:21.416Z"
   },
   {
    "duration": 3,
    "start_time": "2022-03-13T10:30:21.464Z"
   },
   {
    "duration": 5,
    "start_time": "2022-03-13T10:30:21.469Z"
   },
   {
    "duration": 80,
    "start_time": "2022-03-13T10:30:21.475Z"
   },
   {
    "duration": 16,
    "start_time": "2022-03-13T10:30:21.557Z"
   },
   {
    "duration": 34,
    "start_time": "2022-03-13T10:30:21.575Z"
   },
   {
    "duration": 5,
    "start_time": "2022-03-13T10:30:21.611Z"
   },
   {
    "duration": 67,
    "start_time": "2022-03-13T10:30:21.618Z"
   },
   {
    "duration": 21,
    "start_time": "2022-03-13T10:30:21.687Z"
   },
   {
    "duration": 221,
    "start_time": "2022-03-13T10:30:21.710Z"
   },
   {
    "duration": 9,
    "start_time": "2022-03-13T10:30:21.933Z"
   },
   {
    "duration": 162,
    "start_time": "2022-03-13T10:30:21.944Z"
   },
   {
    "duration": 20,
    "start_time": "2022-03-13T10:30:22.108Z"
   },
   {
    "duration": 9,
    "start_time": "2022-03-13T10:30:22.129Z"
   },
   {
    "duration": 969,
    "start_time": "2022-03-13T10:30:22.140Z"
   },
   {
    "duration": 373,
    "start_time": "2022-03-13T10:30:23.110Z"
   },
   {
    "duration": 16,
    "start_time": "2022-03-13T10:30:23.485Z"
   },
   {
    "duration": 276,
    "start_time": "2022-03-13T10:30:23.503Z"
   },
   {
    "duration": 57,
    "start_time": "2022-03-13T10:30:23.781Z"
   },
   {
    "duration": 13,
    "start_time": "2022-03-13T10:30:23.839Z"
   },
   {
    "duration": 267,
    "start_time": "2022-03-13T10:30:23.854Z"
   },
   {
    "duration": 981,
    "start_time": "2022-03-13T10:30:24.125Z"
   },
   {
    "duration": 7,
    "start_time": "2022-03-13T10:30:25.108Z"
   },
   {
    "duration": 3,
    "start_time": "2022-03-13T10:30:25.117Z"
   },
   {
    "duration": 5,
    "start_time": "2022-03-13T10:30:25.122Z"
   },
   {
    "duration": 6,
    "start_time": "2022-03-13T10:30:25.128Z"
   },
   {
    "duration": 7,
    "start_time": "2022-03-13T10:30:25.135Z"
   },
   {
    "duration": 4,
    "start_time": "2022-03-13T10:30:25.144Z"
   },
   {
    "duration": 16,
    "start_time": "2022-03-13T10:30:25.149Z"
   },
   {
    "duration": 36,
    "start_time": "2022-03-13T10:30:25.167Z"
   },
   {
    "duration": 3,
    "start_time": "2022-03-13T10:30:25.204Z"
   },
   {
    "duration": 337,
    "start_time": "2022-03-13T10:30:25.209Z"
   },
   {
    "duration": 16,
    "start_time": "2022-03-13T10:30:44.202Z"
   },
   {
    "duration": 1480,
    "start_time": "2022-03-13T10:38:55.181Z"
   },
   {
    "duration": 48,
    "start_time": "2022-03-13T10:38:56.665Z"
   },
   {
    "duration": 24,
    "start_time": "2022-03-13T10:38:56.715Z"
   },
   {
    "duration": 17,
    "start_time": "2022-03-13T10:38:56.740Z"
   },
   {
    "duration": 67,
    "start_time": "2022-03-13T10:38:56.759Z"
   },
   {
    "duration": 16,
    "start_time": "2022-03-13T10:38:56.827Z"
   },
   {
    "duration": 9,
    "start_time": "2022-03-13T10:38:56.844Z"
   },
   {
    "duration": 4,
    "start_time": "2022-03-13T10:38:56.855Z"
   },
   {
    "duration": 81,
    "start_time": "2022-03-13T10:38:56.861Z"
   },
   {
    "duration": 13,
    "start_time": "2022-03-13T10:38:56.943Z"
   },
   {
    "duration": 201,
    "start_time": "2022-03-13T10:38:56.957Z"
   },
   {
    "duration": 11,
    "start_time": "2022-03-13T10:38:57.160Z"
   },
   {
    "duration": 156,
    "start_time": "2022-03-13T10:38:57.172Z"
   },
   {
    "duration": 18,
    "start_time": "2022-03-13T10:38:57.330Z"
   },
   {
    "duration": 9,
    "start_time": "2022-03-13T10:38:57.349Z"
   },
   {
    "duration": 950,
    "start_time": "2022-03-13T10:38:57.359Z"
   },
   {
    "duration": 365,
    "start_time": "2022-03-13T10:38:58.310Z"
   },
   {
    "duration": 8,
    "start_time": "2022-03-13T10:38:58.676Z"
   },
   {
    "duration": 252,
    "start_time": "2022-03-13T10:38:58.686Z"
   },
   {
    "duration": 62,
    "start_time": "2022-03-13T10:38:58.939Z"
   },
   {
    "duration": 13,
    "start_time": "2022-03-13T10:38:59.002Z"
   },
   {
    "duration": 263,
    "start_time": "2022-03-13T10:38:59.016Z"
   },
   {
    "duration": 729,
    "start_time": "2022-03-13T10:38:59.282Z"
   },
   {
    "duration": 7,
    "start_time": "2022-03-13T10:39:00.013Z"
   },
   {
    "duration": 11,
    "start_time": "2022-03-13T10:39:00.022Z"
   },
   {
    "duration": 12,
    "start_time": "2022-03-13T10:39:00.034Z"
   },
   {
    "duration": 9,
    "start_time": "2022-03-13T10:39:00.047Z"
   },
   {
    "duration": 8,
    "start_time": "2022-03-13T10:39:00.058Z"
   },
   {
    "duration": 6,
    "start_time": "2022-03-13T10:39:00.068Z"
   },
   {
    "duration": 28,
    "start_time": "2022-03-13T10:39:00.075Z"
   },
   {
    "duration": 8,
    "start_time": "2022-03-13T10:39:00.104Z"
   },
   {
    "duration": 6,
    "start_time": "2022-03-13T10:39:00.114Z"
   },
   {
    "duration": 340,
    "start_time": "2022-03-13T10:39:00.121Z"
   },
   {
    "duration": 1563,
    "start_time": "2022-03-13T10:40:28.519Z"
   },
   {
    "duration": 46,
    "start_time": "2022-03-13T10:40:30.084Z"
   },
   {
    "duration": 3,
    "start_time": "2022-03-13T10:40:30.132Z"
   },
   {
    "duration": 6,
    "start_time": "2022-03-13T10:40:30.137Z"
   },
   {
    "duration": 91,
    "start_time": "2022-03-13T10:40:30.144Z"
   },
   {
    "duration": 17,
    "start_time": "2022-03-13T10:40:30.237Z"
   },
   {
    "duration": 10,
    "start_time": "2022-03-13T10:40:30.255Z"
   },
   {
    "duration": 4,
    "start_time": "2022-03-13T10:40:30.268Z"
   },
   {
    "duration": 64,
    "start_time": "2022-03-13T10:40:30.302Z"
   },
   {
    "duration": 9,
    "start_time": "2022-03-13T10:40:30.368Z"
   },
   {
    "duration": 215,
    "start_time": "2022-03-13T10:40:30.378Z"
   },
   {
    "duration": 14,
    "start_time": "2022-03-13T10:40:30.594Z"
   },
   {
    "duration": 149,
    "start_time": "2022-03-13T10:40:30.610Z"
   },
   {
    "duration": 18,
    "start_time": "2022-03-13T10:40:30.760Z"
   },
   {
    "duration": 25,
    "start_time": "2022-03-13T10:40:30.780Z"
   },
   {
    "duration": 911,
    "start_time": "2022-03-13T10:40:30.806Z"
   },
   {
    "duration": 384,
    "start_time": "2022-03-13T10:40:31.719Z"
   },
   {
    "duration": 7,
    "start_time": "2022-03-13T10:40:32.105Z"
   },
   {
    "duration": 271,
    "start_time": "2022-03-13T10:40:32.114Z"
   },
   {
    "duration": 61,
    "start_time": "2022-03-13T10:40:32.387Z"
   },
   {
    "duration": 13,
    "start_time": "2022-03-13T10:40:32.450Z"
   },
   {
    "duration": 302,
    "start_time": "2022-03-13T10:40:32.465Z"
   },
   {
    "duration": 2554,
    "start_time": "2022-03-13T10:40:32.769Z"
   },
   {
    "duration": 6,
    "start_time": "2022-03-13T10:40:35.325Z"
   },
   {
    "duration": 6,
    "start_time": "2022-03-13T10:40:35.332Z"
   },
   {
    "duration": 6,
    "start_time": "2022-03-13T10:40:35.339Z"
   },
   {
    "duration": 7,
    "start_time": "2022-03-13T10:40:35.346Z"
   },
   {
    "duration": 9,
    "start_time": "2022-03-13T10:40:35.354Z"
   },
   {
    "duration": 6,
    "start_time": "2022-03-13T10:40:35.364Z"
   },
   {
    "duration": 15,
    "start_time": "2022-03-13T10:40:35.371Z"
   },
   {
    "duration": 14,
    "start_time": "2022-03-13T10:40:35.387Z"
   },
   {
    "duration": 6,
    "start_time": "2022-03-13T10:40:35.403Z"
   },
   {
    "duration": 335,
    "start_time": "2022-03-13T10:40:35.410Z"
   },
   {
    "duration": 1494,
    "start_time": "2022-03-13T10:54:25.174Z"
   },
   {
    "duration": 46,
    "start_time": "2022-03-13T10:54:26.670Z"
   },
   {
    "duration": 3,
    "start_time": "2022-03-13T10:54:26.719Z"
   },
   {
    "duration": 9,
    "start_time": "2022-03-13T10:54:26.723Z"
   },
   {
    "duration": 78,
    "start_time": "2022-03-13T10:54:26.734Z"
   },
   {
    "duration": 16,
    "start_time": "2022-03-13T10:54:26.814Z"
   },
   {
    "duration": 11,
    "start_time": "2022-03-13T10:54:26.831Z"
   },
   {
    "duration": 4,
    "start_time": "2022-03-13T10:54:26.844Z"
   },
   {
    "duration": 93,
    "start_time": "2022-03-13T10:54:26.850Z"
   },
   {
    "duration": 10,
    "start_time": "2022-03-13T10:54:26.945Z"
   },
   {
    "duration": 213,
    "start_time": "2022-03-13T10:54:26.956Z"
   },
   {
    "duration": 8,
    "start_time": "2022-03-13T10:54:27.171Z"
   },
   {
    "duration": 164,
    "start_time": "2022-03-13T10:54:27.181Z"
   },
   {
    "duration": 18,
    "start_time": "2022-03-13T10:54:27.346Z"
   },
   {
    "duration": 8,
    "start_time": "2022-03-13T10:54:27.366Z"
   },
   {
    "duration": 926,
    "start_time": "2022-03-13T10:54:27.375Z"
   },
   {
    "duration": 361,
    "start_time": "2022-03-13T10:54:28.303Z"
   },
   {
    "duration": 8,
    "start_time": "2022-03-13T10:54:28.665Z"
   },
   {
    "duration": 269,
    "start_time": "2022-03-13T10:54:28.675Z"
   },
   {
    "duration": 62,
    "start_time": "2022-03-13T10:54:28.945Z"
   },
   {
    "duration": 13,
    "start_time": "2022-03-13T10:54:29.008Z"
   },
   {
    "duration": 264,
    "start_time": "2022-03-13T10:54:29.023Z"
   },
   {
    "duration": 744,
    "start_time": "2022-03-13T10:54:29.289Z"
   },
   {
    "duration": 7,
    "start_time": "2022-03-13T10:54:30.034Z"
   },
   {
    "duration": 5,
    "start_time": "2022-03-13T10:54:30.042Z"
   },
   {
    "duration": 5,
    "start_time": "2022-03-13T10:54:30.049Z"
   },
   {
    "duration": 4,
    "start_time": "2022-03-13T10:54:30.057Z"
   },
   {
    "duration": 7,
    "start_time": "2022-03-13T10:54:30.063Z"
   },
   {
    "duration": 3,
    "start_time": "2022-03-13T10:54:30.071Z"
   },
   {
    "duration": 27,
    "start_time": "2022-03-13T10:54:30.076Z"
   },
   {
    "duration": 4,
    "start_time": "2022-03-13T10:54:30.105Z"
   },
   {
    "duration": 6,
    "start_time": "2022-03-13T10:54:30.110Z"
   },
   {
    "duration": 344,
    "start_time": "2022-03-13T10:54:30.117Z"
   },
   {
    "duration": 4,
    "start_time": "2022-03-13T10:55:52.601Z"
   },
   {
    "duration": 1511,
    "start_time": "2022-03-13T10:56:25.672Z"
   },
   {
    "duration": 45,
    "start_time": "2022-03-13T10:56:27.184Z"
   },
   {
    "duration": 3,
    "start_time": "2022-03-13T10:56:27.233Z"
   },
   {
    "duration": 6,
    "start_time": "2022-03-13T10:56:27.238Z"
   },
   {
    "duration": 81,
    "start_time": "2022-03-13T10:56:27.245Z"
   },
   {
    "duration": 15,
    "start_time": "2022-03-13T10:56:27.327Z"
   },
   {
    "duration": 10,
    "start_time": "2022-03-13T10:56:27.344Z"
   },
   {
    "duration": 3,
    "start_time": "2022-03-13T10:56:27.356Z"
   },
   {
    "duration": 85,
    "start_time": "2022-03-13T10:56:27.360Z"
   },
   {
    "duration": 13,
    "start_time": "2022-03-13T10:56:27.447Z"
   },
   {
    "duration": 197,
    "start_time": "2022-03-13T10:56:27.461Z"
   },
   {
    "duration": 9,
    "start_time": "2022-03-13T10:56:27.659Z"
   },
   {
    "duration": 151,
    "start_time": "2022-03-13T10:56:27.670Z"
   },
   {
    "duration": 17,
    "start_time": "2022-03-13T10:56:27.823Z"
   },
   {
    "duration": 8,
    "start_time": "2022-03-13T10:56:27.842Z"
   },
   {
    "duration": 936,
    "start_time": "2022-03-13T10:56:27.851Z"
   },
   {
    "duration": 370,
    "start_time": "2022-03-13T10:56:28.789Z"
   },
   {
    "duration": 8,
    "start_time": "2022-03-13T10:56:29.160Z"
   },
   {
    "duration": 254,
    "start_time": "2022-03-13T10:56:29.169Z"
   },
   {
    "duration": 64,
    "start_time": "2022-03-13T10:56:29.425Z"
   },
   {
    "duration": 22,
    "start_time": "2022-03-13T10:56:29.491Z"
   },
   {
    "duration": 272,
    "start_time": "2022-03-13T10:56:29.515Z"
   },
   {
    "duration": 813,
    "start_time": "2022-03-13T10:56:29.789Z"
   },
   {
    "duration": 7,
    "start_time": "2022-03-13T10:56:30.604Z"
   },
   {
    "duration": 8,
    "start_time": "2022-03-13T10:56:30.612Z"
   },
   {
    "duration": 14,
    "start_time": "2022-03-13T10:56:30.622Z"
   },
   {
    "duration": 7,
    "start_time": "2022-03-13T10:56:30.637Z"
   },
   {
    "duration": 10,
    "start_time": "2022-03-13T10:56:30.646Z"
   },
   {
    "duration": 5,
    "start_time": "2022-03-13T10:56:30.657Z"
   },
   {
    "duration": 18,
    "start_time": "2022-03-13T10:56:30.663Z"
   },
   {
    "duration": 4,
    "start_time": "2022-03-13T10:56:30.682Z"
   },
   {
    "duration": 17,
    "start_time": "2022-03-13T10:56:30.688Z"
   },
   {
    "duration": 353,
    "start_time": "2022-03-13T10:56:30.706Z"
   },
   {
    "duration": 12,
    "start_time": "2022-03-13T10:57:45.756Z"
   },
   {
    "duration": 1677,
    "start_time": "2022-03-13T10:58:20.580Z"
   },
   {
    "duration": 43,
    "start_time": "2022-03-13T10:58:22.258Z"
   },
   {
    "duration": 2,
    "start_time": "2022-03-13T10:58:22.306Z"
   },
   {
    "duration": 5,
    "start_time": "2022-03-13T10:58:22.309Z"
   },
   {
    "duration": 88,
    "start_time": "2022-03-13T10:58:22.316Z"
   },
   {
    "duration": 16,
    "start_time": "2022-03-13T10:58:22.406Z"
   },
   {
    "duration": 9,
    "start_time": "2022-03-13T10:58:22.424Z"
   },
   {
    "duration": 3,
    "start_time": "2022-03-13T10:58:22.436Z"
   },
   {
    "duration": 133,
    "start_time": "2022-03-13T10:58:22.441Z"
   },
   {
    "duration": 10,
    "start_time": "2022-03-13T10:58:22.576Z"
   },
   {
    "duration": 219,
    "start_time": "2022-03-13T10:58:22.588Z"
   },
   {
    "duration": 10,
    "start_time": "2022-03-13T10:58:22.809Z"
   },
   {
    "duration": 157,
    "start_time": "2022-03-13T10:58:22.820Z"
   },
   {
    "duration": 27,
    "start_time": "2022-03-13T10:58:22.979Z"
   },
   {
    "duration": 9,
    "start_time": "2022-03-13T10:58:23.008Z"
   },
   {
    "duration": 999,
    "start_time": "2022-03-13T10:58:23.018Z"
   },
   {
    "duration": 369,
    "start_time": "2022-03-13T10:58:24.018Z"
   },
   {
    "duration": 16,
    "start_time": "2022-03-13T10:58:24.389Z"
   },
   {
    "duration": 272,
    "start_time": "2022-03-13T10:58:24.406Z"
   },
   {
    "duration": 52,
    "start_time": "2022-03-13T10:58:24.680Z"
   },
   {
    "duration": 12,
    "start_time": "2022-03-13T10:58:24.733Z"
   },
   {
    "duration": 282,
    "start_time": "2022-03-13T10:58:24.749Z"
   },
   {
    "duration": 1118,
    "start_time": "2022-03-13T10:58:25.034Z"
   },
   {
    "duration": 9,
    "start_time": "2022-03-13T10:58:26.154Z"
   },
   {
    "duration": 4,
    "start_time": "2022-03-13T10:58:26.165Z"
   },
   {
    "duration": 6,
    "start_time": "2022-03-13T10:58:26.171Z"
   },
   {
    "duration": 18,
    "start_time": "2022-03-13T10:58:26.179Z"
   },
   {
    "duration": 5,
    "start_time": "2022-03-13T10:58:26.199Z"
   },
   {
    "duration": 8,
    "start_time": "2022-03-13T10:58:26.206Z"
   },
   {
    "duration": 4,
    "start_time": "2022-03-13T10:58:26.216Z"
   },
   {
    "duration": 17,
    "start_time": "2022-03-13T10:58:26.222Z"
   },
   {
    "duration": 13,
    "start_time": "2022-03-13T10:58:26.240Z"
   },
   {
    "duration": 7,
    "start_time": "2022-03-13T10:58:26.255Z"
   },
   {
    "duration": 358,
    "start_time": "2022-03-13T10:58:26.264Z"
   },
   {
    "duration": 1430,
    "start_time": "2022-03-13T11:00:22.236Z"
   },
   {
    "duration": 44,
    "start_time": "2022-03-13T11:00:23.668Z"
   },
   {
    "duration": 2,
    "start_time": "2022-03-13T11:00:23.714Z"
   },
   {
    "duration": 6,
    "start_time": "2022-03-13T11:00:23.718Z"
   },
   {
    "duration": 64,
    "start_time": "2022-03-13T11:00:23.725Z"
   },
   {
    "duration": 15,
    "start_time": "2022-03-13T11:00:23.802Z"
   },
   {
    "duration": 10,
    "start_time": "2022-03-13T11:00:23.819Z"
   },
   {
    "duration": 4,
    "start_time": "2022-03-13T11:00:23.831Z"
   },
   {
    "duration": 86,
    "start_time": "2022-03-13T11:00:23.838Z"
   },
   {
    "duration": 11,
    "start_time": "2022-03-13T11:00:23.926Z"
   },
   {
    "duration": 202,
    "start_time": "2022-03-13T11:00:23.939Z"
   },
   {
    "duration": 10,
    "start_time": "2022-03-13T11:00:24.143Z"
   },
   {
    "duration": 166,
    "start_time": "2022-03-13T11:00:24.154Z"
   },
   {
    "duration": 19,
    "start_time": "2022-03-13T11:00:24.322Z"
   },
   {
    "duration": 8,
    "start_time": "2022-03-13T11:00:24.343Z"
   },
   {
    "duration": 969,
    "start_time": "2022-03-13T11:00:24.352Z"
   },
   {
    "duration": 383,
    "start_time": "2022-03-13T11:00:25.323Z"
   },
   {
    "duration": 7,
    "start_time": "2022-03-13T11:00:25.708Z"
   },
   {
    "duration": 264,
    "start_time": "2022-03-13T11:00:25.717Z"
   },
   {
    "duration": 55,
    "start_time": "2022-03-13T11:00:25.983Z"
   },
   {
    "duration": 13,
    "start_time": "2022-03-13T11:00:26.040Z"
   },
   {
    "duration": 282,
    "start_time": "2022-03-13T11:00:26.055Z"
   },
   {
    "duration": 848,
    "start_time": "2022-03-13T11:00:26.338Z"
   },
   {
    "duration": 7,
    "start_time": "2022-03-13T11:00:27.187Z"
   },
   {
    "duration": 8,
    "start_time": "2022-03-13T11:00:27.195Z"
   },
   {
    "duration": 3,
    "start_time": "2022-03-13T11:00:27.205Z"
   },
   {
    "duration": 3,
    "start_time": "2022-03-13T11:00:27.211Z"
   },
   {
    "duration": 12,
    "start_time": "2022-03-13T11:00:27.216Z"
   },
   {
    "duration": 5,
    "start_time": "2022-03-13T11:00:27.229Z"
   },
   {
    "duration": 10,
    "start_time": "2022-03-13T11:00:27.236Z"
   },
   {
    "duration": 6,
    "start_time": "2022-03-13T11:00:27.247Z"
   },
   {
    "duration": 19,
    "start_time": "2022-03-13T11:00:27.255Z"
   },
   {
    "duration": 5,
    "start_time": "2022-03-13T11:00:27.275Z"
   },
   {
    "duration": 24,
    "start_time": "2022-03-13T11:00:27.281Z"
   },
   {
    "duration": 344,
    "start_time": "2022-03-13T11:00:27.306Z"
   },
   {
    "duration": 39,
    "start_time": "2022-03-13T11:01:46.456Z"
   },
   {
    "duration": 1455,
    "start_time": "2022-03-13T11:01:56.231Z"
   },
   {
    "duration": 45,
    "start_time": "2022-03-13T11:01:57.688Z"
   },
   {
    "duration": 3,
    "start_time": "2022-03-13T11:01:57.734Z"
   },
   {
    "duration": 5,
    "start_time": "2022-03-13T11:01:57.739Z"
   },
   {
    "duration": 84,
    "start_time": "2022-03-13T11:01:57.745Z"
   },
   {
    "duration": 15,
    "start_time": "2022-03-13T11:01:57.831Z"
   },
   {
    "duration": 10,
    "start_time": "2022-03-13T11:01:57.847Z"
   },
   {
    "duration": 4,
    "start_time": "2022-03-13T11:01:57.859Z"
   },
   {
    "duration": 85,
    "start_time": "2022-03-13T11:01:57.865Z"
   },
   {
    "duration": 12,
    "start_time": "2022-03-13T11:01:57.952Z"
   },
   {
    "duration": 204,
    "start_time": "2022-03-13T11:01:57.966Z"
   },
   {
    "duration": 9,
    "start_time": "2022-03-13T11:01:58.172Z"
   },
   {
    "duration": 173,
    "start_time": "2022-03-13T11:01:58.182Z"
   },
   {
    "duration": 19,
    "start_time": "2022-03-13T11:01:58.356Z"
   },
   {
    "duration": 25,
    "start_time": "2022-03-13T11:01:58.376Z"
   },
   {
    "duration": 917,
    "start_time": "2022-03-13T11:01:58.402Z"
   },
   {
    "duration": 375,
    "start_time": "2022-03-13T11:01:59.321Z"
   },
   {
    "duration": 7,
    "start_time": "2022-03-13T11:01:59.698Z"
   },
   {
    "duration": 264,
    "start_time": "2022-03-13T11:01:59.707Z"
   },
   {
    "duration": 53,
    "start_time": "2022-03-13T11:01:59.973Z"
   },
   {
    "duration": 15,
    "start_time": "2022-03-13T11:02:00.027Z"
   },
   {
    "duration": 297,
    "start_time": "2022-03-13T11:02:00.043Z"
   },
   {
    "duration": 715,
    "start_time": "2022-03-13T11:02:00.343Z"
   },
   {
    "duration": 7,
    "start_time": "2022-03-13T11:02:01.060Z"
   },
   {
    "duration": 10,
    "start_time": "2022-03-13T11:02:01.068Z"
   },
   {
    "duration": 9,
    "start_time": "2022-03-13T11:02:01.079Z"
   },
   {
    "duration": 17,
    "start_time": "2022-03-13T11:02:01.090Z"
   },
   {
    "duration": 15,
    "start_time": "2022-03-13T11:02:01.108Z"
   },
   {
    "duration": 20,
    "start_time": "2022-03-13T11:02:01.125Z"
   },
   {
    "duration": 5,
    "start_time": "2022-03-13T11:02:01.147Z"
   },
   {
    "duration": 15,
    "start_time": "2022-03-13T11:02:01.153Z"
   },
   {
    "duration": 6,
    "start_time": "2022-03-13T11:02:01.169Z"
   },
   {
    "duration": 7,
    "start_time": "2022-03-13T11:02:01.176Z"
   },
   {
    "duration": 332,
    "start_time": "2022-03-13T11:02:01.185Z"
   },
   {
    "duration": 11,
    "start_time": "2022-03-13T11:04:32.773Z"
   }
  ],
  "kernelspec": {
   "display_name": "Python 3 (ipykernel)",
   "language": "python",
   "name": "python3"
  },
  "language_info": {
   "codemirror_mode": {
    "name": "ipython",
    "version": 3
   },
   "file_extension": ".py",
   "mimetype": "text/x-python",
   "name": "python",
   "nbconvert_exporter": "python",
   "pygments_lexer": "ipython3",
   "version": "3.9.5"
  },
  "toc": {
   "base_numbering": 1,
   "nav_menu": {},
   "number_sections": true,
   "sideBar": true,
   "skip_h1_title": true,
   "title_cell": "Table of Contents",
   "title_sidebar": "Contents",
   "toc_cell": false,
   "toc_position": {},
   "toc_section_display": true,
   "toc_window_display": false
  }
 },
 "nbformat": 4,
 "nbformat_minor": 2
}


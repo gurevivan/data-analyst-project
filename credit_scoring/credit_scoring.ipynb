{
  "nbformat_minor": 1,
  "nbformat": 4,
  "cells": [
    {
      "source": [
        "# Этап 1. Получение данных"
      ],
      "cell_type": "markdown",
      "metadata": {
        "colab_type": "text",
        "id": "5UYxO1GdF6Wy",
        "deletable": false,
        "tags": [
          "f6c88c58-a82b-4f28-8bd6-fd55c0017917"
        ]
      }
    }
    }
    

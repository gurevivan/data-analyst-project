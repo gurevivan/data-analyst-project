{
 "cells": [
  {
   "cell_type": "markdown",
   "metadata": {},
   "source": [
    "## Шаг 1. Получение данных"
   ]
  },
  {
   "cell_type": "code",
   "execution_count": 1,
   "metadata": {
    "scrolled": true
   },
   "outputs": [],
   "source": [
    "# импорт библиотек\n",
    "import pandas as pd\n",
    "from pymystem3 import Mystem\n",
    "from collections import Counter \n",
    "import warnings \n",
    "warnings.filterwarnings('ignore')"
   ]
  },
  {
   "cell_type": "code",
   "execution_count": 2,
   "metadata": {},
   "outputs": [],
   "source": [
    "# чтение файла с данными и сохранение в clients \n",
    "try:\n",
    "    clients = pd.read_csv('/datasets/data.csv')\n",
    "except FileNotFoundError:\n",
    "    print('файл или директория не существует!')"
   ]
  },
  {
   "cell_type": "code",
   "execution_count": 3,
   "metadata": {},
   "outputs": [],
   "source": [
    "# функция получения информации\n",
    "def get_info(name, df): \n",
    "    print('\\033[1m' + 'Первые 5 строк таблицы: ' + name + '\\033[0m')\n",
    "    display(df.head())\n",
    "    print()\n",
    "    print('\\033[1m' + 'Сводная информация о таблице: ' + name + '\\033[0m')\n",
    "    print()\n",
    "    df.info()\n",
    "    print()\n",
    "    print('\\033[1m' + 'Описательная статистика таблицы: ' + name + '\\033[0m')\n",
    "    display(df.describe())\n",
    "    print()\n",
    "    print('\\033[1m' + 'Описательная статистика таблицы: ' + name + '\\033[0m')\n",
    "    display(df.describe(include=[object]))\n",
    "    print()\n",
    "    print('\\033[1m' + 'Пропуски в таблице: ' + name + '\\033[0m')\n",
    "    report = df.isna().sum().to_frame()\n",
    "    report = report.rename(columns = {0: 'missing_values'})\n",
    "    report['% of total'] = (100 * report['missing_values'] / df.shape[0]).round(2)\n",
    "    display(report.sort_values(by = 'missing_values', ascending = False))\n",
    "    print()\n",
    "    print('\\033[1m' + 'Дубликатов в таблице ' + name + '\\033[0m'':', df.duplicated().sum())\n",
    "    print()"
   ]
  },
  {
   "cell_type": "code",
   "execution_count": 4,
   "metadata": {},
   "outputs": [
    {
     "name": "stdout",
     "output_type": "stream",
     "text": [
      "\u001b[1mПервые 5 строк таблицы: Клиенты\u001b[0m\n"
     ]
    },
    {
     "data": {
      "text/html": [
       "<div>\n",
       "<style scoped>\n",
       "    .dataframe tbody tr th:only-of-type {\n",
       "        vertical-align: middle;\n",
       "    }\n",
       "\n",
       "    .dataframe tbody tr th {\n",
       "        vertical-align: top;\n",
       "    }\n",
       "\n",
       "    .dataframe thead th {\n",
       "        text-align: right;\n",
       "    }\n",
       "</style>\n",
       "<table border=\"1\" class=\"dataframe\">\n",
       "  <thead>\n",
       "    <tr style=\"text-align: right;\">\n",
       "      <th></th>\n",
       "      <th>children</th>\n",
       "      <th>days_employed</th>\n",
       "      <th>dob_years</th>\n",
       "      <th>education</th>\n",
       "      <th>education_id</th>\n",
       "      <th>family_status</th>\n",
       "      <th>family_status_id</th>\n",
       "      <th>gender</th>\n",
       "      <th>income_type</th>\n",
       "      <th>debt</th>\n",
       "      <th>total_income</th>\n",
       "      <th>purpose</th>\n",
       "    </tr>\n",
       "  </thead>\n",
       "  <tbody>\n",
       "    <tr>\n",
       "      <th>0</th>\n",
       "      <td>1</td>\n",
       "      <td>-8437.673028</td>\n",
       "      <td>42</td>\n",
       "      <td>высшее</td>\n",
       "      <td>0</td>\n",
       "      <td>женат / замужем</td>\n",
       "      <td>0</td>\n",
       "      <td>F</td>\n",
       "      <td>сотрудник</td>\n",
       "      <td>0</td>\n",
       "      <td>253875.639453</td>\n",
       "      <td>покупка жилья</td>\n",
       "    </tr>\n",
       "    <tr>\n",
       "      <th>1</th>\n",
       "      <td>1</td>\n",
       "      <td>-4024.803754</td>\n",
       "      <td>36</td>\n",
       "      <td>среднее</td>\n",
       "      <td>1</td>\n",
       "      <td>женат / замужем</td>\n",
       "      <td>0</td>\n",
       "      <td>F</td>\n",
       "      <td>сотрудник</td>\n",
       "      <td>0</td>\n",
       "      <td>112080.014102</td>\n",
       "      <td>приобретение автомобиля</td>\n",
       "    </tr>\n",
       "    <tr>\n",
       "      <th>2</th>\n",
       "      <td>0</td>\n",
       "      <td>-5623.422610</td>\n",
       "      <td>33</td>\n",
       "      <td>Среднее</td>\n",
       "      <td>1</td>\n",
       "      <td>женат / замужем</td>\n",
       "      <td>0</td>\n",
       "      <td>M</td>\n",
       "      <td>сотрудник</td>\n",
       "      <td>0</td>\n",
       "      <td>145885.952297</td>\n",
       "      <td>покупка жилья</td>\n",
       "    </tr>\n",
       "    <tr>\n",
       "      <th>3</th>\n",
       "      <td>3</td>\n",
       "      <td>-4124.747207</td>\n",
       "      <td>32</td>\n",
       "      <td>среднее</td>\n",
       "      <td>1</td>\n",
       "      <td>женат / замужем</td>\n",
       "      <td>0</td>\n",
       "      <td>M</td>\n",
       "      <td>сотрудник</td>\n",
       "      <td>0</td>\n",
       "      <td>267628.550329</td>\n",
       "      <td>дополнительное образование</td>\n",
       "    </tr>\n",
       "    <tr>\n",
       "      <th>4</th>\n",
       "      <td>0</td>\n",
       "      <td>340266.072047</td>\n",
       "      <td>53</td>\n",
       "      <td>среднее</td>\n",
       "      <td>1</td>\n",
       "      <td>гражданский брак</td>\n",
       "      <td>1</td>\n",
       "      <td>F</td>\n",
       "      <td>пенсионер</td>\n",
       "      <td>0</td>\n",
       "      <td>158616.077870</td>\n",
       "      <td>сыграть свадьбу</td>\n",
       "    </tr>\n",
       "  </tbody>\n",
       "</table>\n",
       "</div>"
      ],
      "text/plain": [
       "   children  days_employed  dob_years education  education_id  \\\n",
       "0         1   -8437.673028         42    высшее             0   \n",
       "1         1   -4024.803754         36   среднее             1   \n",
       "2         0   -5623.422610         33   Среднее             1   \n",
       "3         3   -4124.747207         32   среднее             1   \n",
       "4         0  340266.072047         53   среднее             1   \n",
       "\n",
       "      family_status  family_status_id gender income_type  debt   total_income  \\\n",
       "0   женат / замужем                 0      F   сотрудник     0  253875.639453   \n",
       "1   женат / замужем                 0      F   сотрудник     0  112080.014102   \n",
       "2   женат / замужем                 0      M   сотрудник     0  145885.952297   \n",
       "3   женат / замужем                 0      M   сотрудник     0  267628.550329   \n",
       "4  гражданский брак                 1      F   пенсионер     0  158616.077870   \n",
       "\n",
       "                      purpose  \n",
       "0               покупка жилья  \n",
       "1     приобретение автомобиля  \n",
       "2               покупка жилья  \n",
       "3  дополнительное образование  \n",
       "4             сыграть свадьбу  "
      ]
     },
     "metadata": {},
     "output_type": "display_data"
    },
    {
     "name": "stdout",
     "output_type": "stream",
     "text": [
      "\n",
      "\u001b[1mСводная информация о таблице: Клиенты\u001b[0m\n",
      "\n",
      "<class 'pandas.core.frame.DataFrame'>\n",
      "RangeIndex: 21525 entries, 0 to 21524\n",
      "Data columns (total 12 columns):\n",
      " #   Column            Non-Null Count  Dtype  \n",
      "---  ------            --------------  -----  \n",
      " 0   children          21525 non-null  int64  \n",
      " 1   days_employed     19351 non-null  float64\n",
      " 2   dob_years         21525 non-null  int64  \n",
      " 3   education         21525 non-null  object \n",
      " 4   education_id      21525 non-null  int64  \n",
      " 5   family_status     21525 non-null  object \n",
      " 6   family_status_id  21525 non-null  int64  \n",
      " 7   gender            21525 non-null  object \n",
      " 8   income_type       21525 non-null  object \n",
      " 9   debt              21525 non-null  int64  \n",
      " 10  total_income      19351 non-null  float64\n",
      " 11  purpose           21525 non-null  object \n",
      "dtypes: float64(2), int64(5), object(5)\n",
      "memory usage: 2.0+ MB\n",
      "\n",
      "\u001b[1mОписательная статистика таблицы: Клиенты\u001b[0m\n"
     ]
    },
    {
     "data": {
      "text/html": [
       "<div>\n",
       "<style scoped>\n",
       "    .dataframe tbody tr th:only-of-type {\n",
       "        vertical-align: middle;\n",
       "    }\n",
       "\n",
       "    .dataframe tbody tr th {\n",
       "        vertical-align: top;\n",
       "    }\n",
       "\n",
       "    .dataframe thead th {\n",
       "        text-align: right;\n",
       "    }\n",
       "</style>\n",
       "<table border=\"1\" class=\"dataframe\">\n",
       "  <thead>\n",
       "    <tr style=\"text-align: right;\">\n",
       "      <th></th>\n",
       "      <th>children</th>\n",
       "      <th>days_employed</th>\n",
       "      <th>dob_years</th>\n",
       "      <th>education_id</th>\n",
       "      <th>family_status_id</th>\n",
       "      <th>debt</th>\n",
       "      <th>total_income</th>\n",
       "    </tr>\n",
       "  </thead>\n",
       "  <tbody>\n",
       "    <tr>\n",
       "      <th>count</th>\n",
       "      <td>21525.000000</td>\n",
       "      <td>19351.000000</td>\n",
       "      <td>21525.000000</td>\n",
       "      <td>21525.000000</td>\n",
       "      <td>21525.000000</td>\n",
       "      <td>21525.000000</td>\n",
       "      <td>1.935100e+04</td>\n",
       "    </tr>\n",
       "    <tr>\n",
       "      <th>mean</th>\n",
       "      <td>0.538908</td>\n",
       "      <td>63046.497661</td>\n",
       "      <td>43.293380</td>\n",
       "      <td>0.817236</td>\n",
       "      <td>0.972544</td>\n",
       "      <td>0.080883</td>\n",
       "      <td>1.674223e+05</td>\n",
       "    </tr>\n",
       "    <tr>\n",
       "      <th>std</th>\n",
       "      <td>1.381587</td>\n",
       "      <td>140827.311974</td>\n",
       "      <td>12.574584</td>\n",
       "      <td>0.548138</td>\n",
       "      <td>1.420324</td>\n",
       "      <td>0.272661</td>\n",
       "      <td>1.029716e+05</td>\n",
       "    </tr>\n",
       "    <tr>\n",
       "      <th>min</th>\n",
       "      <td>-1.000000</td>\n",
       "      <td>-18388.949901</td>\n",
       "      <td>0.000000</td>\n",
       "      <td>0.000000</td>\n",
       "      <td>0.000000</td>\n",
       "      <td>0.000000</td>\n",
       "      <td>2.066726e+04</td>\n",
       "    </tr>\n",
       "    <tr>\n",
       "      <th>25%</th>\n",
       "      <td>0.000000</td>\n",
       "      <td>-2747.423625</td>\n",
       "      <td>33.000000</td>\n",
       "      <td>1.000000</td>\n",
       "      <td>0.000000</td>\n",
       "      <td>0.000000</td>\n",
       "      <td>1.030532e+05</td>\n",
       "    </tr>\n",
       "    <tr>\n",
       "      <th>50%</th>\n",
       "      <td>0.000000</td>\n",
       "      <td>-1203.369529</td>\n",
       "      <td>42.000000</td>\n",
       "      <td>1.000000</td>\n",
       "      <td>0.000000</td>\n",
       "      <td>0.000000</td>\n",
       "      <td>1.450179e+05</td>\n",
       "    </tr>\n",
       "    <tr>\n",
       "      <th>75%</th>\n",
       "      <td>1.000000</td>\n",
       "      <td>-291.095954</td>\n",
       "      <td>53.000000</td>\n",
       "      <td>1.000000</td>\n",
       "      <td>1.000000</td>\n",
       "      <td>0.000000</td>\n",
       "      <td>2.034351e+05</td>\n",
       "    </tr>\n",
       "    <tr>\n",
       "      <th>max</th>\n",
       "      <td>20.000000</td>\n",
       "      <td>401755.400475</td>\n",
       "      <td>75.000000</td>\n",
       "      <td>4.000000</td>\n",
       "      <td>4.000000</td>\n",
       "      <td>1.000000</td>\n",
       "      <td>2.265604e+06</td>\n",
       "    </tr>\n",
       "  </tbody>\n",
       "</table>\n",
       "</div>"
      ],
      "text/plain": [
       "           children  days_employed     dob_years  education_id  \\\n",
       "count  21525.000000   19351.000000  21525.000000  21525.000000   \n",
       "mean       0.538908   63046.497661     43.293380      0.817236   \n",
       "std        1.381587  140827.311974     12.574584      0.548138   \n",
       "min       -1.000000  -18388.949901      0.000000      0.000000   \n",
       "25%        0.000000   -2747.423625     33.000000      1.000000   \n",
       "50%        0.000000   -1203.369529     42.000000      1.000000   \n",
       "75%        1.000000    -291.095954     53.000000      1.000000   \n",
       "max       20.000000  401755.400475     75.000000      4.000000   \n",
       "\n",
       "       family_status_id          debt  total_income  \n",
       "count      21525.000000  21525.000000  1.935100e+04  \n",
       "mean           0.972544      0.080883  1.674223e+05  \n",
       "std            1.420324      0.272661  1.029716e+05  \n",
       "min            0.000000      0.000000  2.066726e+04  \n",
       "25%            0.000000      0.000000  1.030532e+05  \n",
       "50%            0.000000      0.000000  1.450179e+05  \n",
       "75%            1.000000      0.000000  2.034351e+05  \n",
       "max            4.000000      1.000000  2.265604e+06  "
      ]
     },
     "metadata": {},
     "output_type": "display_data"
    },
    {
     "name": "stdout",
     "output_type": "stream",
     "text": [
      "\n",
      "\u001b[1mОписательная статистика таблицы: Клиенты\u001b[0m\n"
     ]
    },
    {
     "data": {
      "text/html": [
       "<div>\n",
       "<style scoped>\n",
       "    .dataframe tbody tr th:only-of-type {\n",
       "        vertical-align: middle;\n",
       "    }\n",
       "\n",
       "    .dataframe tbody tr th {\n",
       "        vertical-align: top;\n",
       "    }\n",
       "\n",
       "    .dataframe thead th {\n",
       "        text-align: right;\n",
       "    }\n",
       "</style>\n",
       "<table border=\"1\" class=\"dataframe\">\n",
       "  <thead>\n",
       "    <tr style=\"text-align: right;\">\n",
       "      <th></th>\n",
       "      <th>education</th>\n",
       "      <th>family_status</th>\n",
       "      <th>gender</th>\n",
       "      <th>income_type</th>\n",
       "      <th>purpose</th>\n",
       "    </tr>\n",
       "  </thead>\n",
       "  <tbody>\n",
       "    <tr>\n",
       "      <th>count</th>\n",
       "      <td>21525</td>\n",
       "      <td>21525</td>\n",
       "      <td>21525</td>\n",
       "      <td>21525</td>\n",
       "      <td>21525</td>\n",
       "    </tr>\n",
       "    <tr>\n",
       "      <th>unique</th>\n",
       "      <td>15</td>\n",
       "      <td>5</td>\n",
       "      <td>3</td>\n",
       "      <td>8</td>\n",
       "      <td>38</td>\n",
       "    </tr>\n",
       "    <tr>\n",
       "      <th>top</th>\n",
       "      <td>среднее</td>\n",
       "      <td>женат / замужем</td>\n",
       "      <td>F</td>\n",
       "      <td>сотрудник</td>\n",
       "      <td>свадьба</td>\n",
       "    </tr>\n",
       "    <tr>\n",
       "      <th>freq</th>\n",
       "      <td>13750</td>\n",
       "      <td>12380</td>\n",
       "      <td>14236</td>\n",
       "      <td>11119</td>\n",
       "      <td>797</td>\n",
       "    </tr>\n",
       "  </tbody>\n",
       "</table>\n",
       "</div>"
      ],
      "text/plain": [
       "       education    family_status gender income_type  purpose\n",
       "count      21525            21525  21525       21525    21525\n",
       "unique        15                5      3           8       38\n",
       "top      среднее  женат / замужем      F   сотрудник  свадьба\n",
       "freq       13750            12380  14236       11119      797"
      ]
     },
     "metadata": {},
     "output_type": "display_data"
    },
    {
     "name": "stdout",
     "output_type": "stream",
     "text": [
      "\n",
      "\u001b[1mПропуски в таблице: Клиенты\u001b[0m\n"
     ]
    },
    {
     "data": {
      "text/html": [
       "<div>\n",
       "<style scoped>\n",
       "    .dataframe tbody tr th:only-of-type {\n",
       "        vertical-align: middle;\n",
       "    }\n",
       "\n",
       "    .dataframe tbody tr th {\n",
       "        vertical-align: top;\n",
       "    }\n",
       "\n",
       "    .dataframe thead th {\n",
       "        text-align: right;\n",
       "    }\n",
       "</style>\n",
       "<table border=\"1\" class=\"dataframe\">\n",
       "  <thead>\n",
       "    <tr style=\"text-align: right;\">\n",
       "      <th></th>\n",
       "      <th>missing_values</th>\n",
       "      <th>% of total</th>\n",
       "    </tr>\n",
       "  </thead>\n",
       "  <tbody>\n",
       "    <tr>\n",
       "      <th>days_employed</th>\n",
       "      <td>2174</td>\n",
       "      <td>10.1</td>\n",
       "    </tr>\n",
       "    <tr>\n",
       "      <th>total_income</th>\n",
       "      <td>2174</td>\n",
       "      <td>10.1</td>\n",
       "    </tr>\n",
       "    <tr>\n",
       "      <th>children</th>\n",
       "      <td>0</td>\n",
       "      <td>0.0</td>\n",
       "    </tr>\n",
       "    <tr>\n",
       "      <th>dob_years</th>\n",
       "      <td>0</td>\n",
       "      <td>0.0</td>\n",
       "    </tr>\n",
       "    <tr>\n",
       "      <th>education</th>\n",
       "      <td>0</td>\n",
       "      <td>0.0</td>\n",
       "    </tr>\n",
       "    <tr>\n",
       "      <th>education_id</th>\n",
       "      <td>0</td>\n",
       "      <td>0.0</td>\n",
       "    </tr>\n",
       "    <tr>\n",
       "      <th>family_status</th>\n",
       "      <td>0</td>\n",
       "      <td>0.0</td>\n",
       "    </tr>\n",
       "    <tr>\n",
       "      <th>family_status_id</th>\n",
       "      <td>0</td>\n",
       "      <td>0.0</td>\n",
       "    </tr>\n",
       "    <tr>\n",
       "      <th>gender</th>\n",
       "      <td>0</td>\n",
       "      <td>0.0</td>\n",
       "    </tr>\n",
       "    <tr>\n",
       "      <th>income_type</th>\n",
       "      <td>0</td>\n",
       "      <td>0.0</td>\n",
       "    </tr>\n",
       "    <tr>\n",
       "      <th>debt</th>\n",
       "      <td>0</td>\n",
       "      <td>0.0</td>\n",
       "    </tr>\n",
       "    <tr>\n",
       "      <th>purpose</th>\n",
       "      <td>0</td>\n",
       "      <td>0.0</td>\n",
       "    </tr>\n",
       "  </tbody>\n",
       "</table>\n",
       "</div>"
      ],
      "text/plain": [
       "                  missing_values  % of total\n",
       "days_employed               2174        10.1\n",
       "total_income                2174        10.1\n",
       "children                       0         0.0\n",
       "dob_years                      0         0.0\n",
       "education                      0         0.0\n",
       "education_id                   0         0.0\n",
       "family_status                  0         0.0\n",
       "family_status_id               0         0.0\n",
       "gender                         0         0.0\n",
       "income_type                    0         0.0\n",
       "debt                           0         0.0\n",
       "purpose                        0         0.0"
      ]
     },
     "metadata": {},
     "output_type": "display_data"
    },
    {
     "name": "stdout",
     "output_type": "stream",
     "text": [
      "\n",
      "\u001b[1mДубликатов в таблице Клиенты\u001b[0m: 54\n",
      "\n"
     ]
    }
   ],
   "source": [
    "# получаем информацию по таблицам\n",
    "dict_df = {'Клиенты': clients} \n",
    "for dfd in dict_df:\n",
    "    get_info(dfd, dict_df[dfd])"
   ]
  },
  {
   "cell_type": "markdown",
   "metadata": {},
   "source": [
    "В столбце 'children' отрицательные значения и аномально большое значение 20."
   ]
  },
  {
   "cell_type": "code",
   "execution_count": 5,
   "metadata": {},
   "outputs": [
    {
     "data": {
      "text/plain": [
       "count    21449.000000\n",
       "mean         0.469952\n",
       "std          0.754165\n",
       "min         -1.000000\n",
       "25%          0.000000\n",
       "50%          0.000000\n",
       "75%          1.000000\n",
       "max          5.000000\n",
       "Name: children, dtype: float64"
      ]
     },
     "execution_count": 5,
     "metadata": {},
     "output_type": "execute_result"
    }
   ],
   "source": [
    "clients[clients['children'] < 20]['children'].describe() # получение описательной статистики столбца 'children' без максимального значения"
   ]
  },
  {
   "cell_type": "markdown",
   "metadata": {},
   "source": [
    "Так как нет значений между 5 и 20, скорее всего 20 это опечатка."
   ]
  },
  {
   "cell_type": "markdown",
   "metadata": {},
   "source": [
    "В столбце 'days_employed' есть отрицательные значения и аномально большие значения."
   ]
  },
  {
   "cell_type": "markdown",
   "metadata": {},
   "source": [
    "В столбце 'dob_years' есть значения 0. "
   ]
  },
  {
   "cell_type": "code",
   "execution_count": 6,
   "metadata": {},
   "outputs": [
    {
     "data": {
      "text/plain": [
       "array(['высшее', 'среднее', 'Среднее', 'СРЕДНЕЕ', 'ВЫСШЕЕ',\n",
       "       'неоконченное высшее', 'начальное', 'Высшее',\n",
       "       'НЕОКОНЧЕННОЕ ВЫСШЕЕ', 'Неоконченное высшее', 'НАЧАЛЬНОЕ',\n",
       "       'Начальное', 'Ученая степень', 'УЧЕНАЯ СТЕПЕНЬ', 'ученая степень'],\n",
       "      dtype=object)"
      ]
     },
     "execution_count": 6,
     "metadata": {},
     "output_type": "execute_result"
    }
   ],
   "source": [
    "clients['education'].unique() # просмотр уникальных значений в столбце education"
   ]
  },
  {
   "cell_type": "markdown",
   "metadata": {},
   "source": [
    "В столбце 'education' разный регистр. "
   ]
  },
  {
   "cell_type": "code",
   "execution_count": 7,
   "metadata": {},
   "outputs": [
    {
     "data": {
      "text/plain": [
       "array(['женат / замужем', 'гражданский брак', 'вдовец / вдова',\n",
       "       'в разводе', 'Не женат / не замужем'], dtype=object)"
      ]
     },
     "execution_count": 7,
     "metadata": {},
     "output_type": "execute_result"
    }
   ],
   "source": [
    "clients['family_status'].unique() # просмотр уникальных значений в столбце family_status"
   ]
  },
  {
   "cell_type": "code",
   "execution_count": 8,
   "metadata": {},
   "outputs": [
    {
     "data": {
      "text/plain": [
       "array(['F', 'M', 'XNA'], dtype=object)"
      ]
     },
     "execution_count": 8,
     "metadata": {},
     "output_type": "execute_result"
    }
   ],
   "source": [
    "clients['gender'].unique() # просмотр уникальных значений в столбце gender"
   ]
  },
  {
   "cell_type": "markdown",
   "metadata": {},
   "source": [
    "В столбце 'gender' неизвестное значение XNA."
   ]
  },
  {
   "cell_type": "code",
   "execution_count": 9,
   "metadata": {},
   "outputs": [
    {
     "data": {
      "text/plain": [
       "array(['покупка жилья', 'приобретение автомобиля',\n",
       "       'дополнительное образование', 'сыграть свадьбу',\n",
       "       'операции с жильем', 'образование', 'на проведение свадьбы',\n",
       "       'покупка жилья для семьи', 'покупка недвижимости',\n",
       "       'покупка коммерческой недвижимости', 'покупка жилой недвижимости',\n",
       "       'строительство собственной недвижимости', 'недвижимость',\n",
       "       'строительство недвижимости', 'на покупку подержанного автомобиля',\n",
       "       'на покупку своего автомобиля',\n",
       "       'операции с коммерческой недвижимостью',\n",
       "       'строительство жилой недвижимости', 'жилье',\n",
       "       'операции со своей недвижимостью', 'автомобили',\n",
       "       'заняться образованием', 'сделка с подержанным автомобилем',\n",
       "       'получение образования', 'автомобиль', 'свадьба',\n",
       "       'получение дополнительного образования', 'покупка своего жилья',\n",
       "       'операции с недвижимостью', 'получение высшего образования',\n",
       "       'свой автомобиль', 'сделка с автомобилем',\n",
       "       'профильное образование', 'высшее образование',\n",
       "       'покупка жилья для сдачи', 'на покупку автомобиля', 'ремонт жилью',\n",
       "       'заняться высшим образованием'], dtype=object)"
      ]
     },
     "execution_count": 9,
     "metadata": {},
     "output_type": "execute_result"
    }
   ],
   "source": [
    "clients['purpose'].unique() # Просмотр уникальных значений в столбце purpose"
   ]
  },
  {
   "cell_type": "markdown",
   "metadata": {},
   "source": [
    "**Вывод**"
   ]
  },
  {
   "cell_type": "markdown",
   "metadata": {},
   "source": [
    "При изучении файла выявлены ошибки:\n",
    "1. В столбце 'children' отрицательные значения и аномально большое значение 20. Отрицательного количества детей быть не может, вернём абсолютные значения. 20 получилось из-за одновременного нажатия клавиш '2' и '0' заменим на 2.\n",
    "2. В столбце 'days_employed' есть пропуски и отрицательные значения, значения больше 0 аномально большие, скорее всего это в часах, поделим на 24, меньше 0 вернём абсолютные значения. Заменим тип данных на целочисленный.\n",
    "3. В столбце 'dob_years' есть 0 значения.\n",
    "4. В столбце 'education' строки в разных регистрах, приведём к нижнему регистру.\n",
    "5. В столбце 'gender' неизвестное значение XNA, заменим на самый часто встречающейся.\n",
    "6. В столбце 'total_income' есть пропуски.\n",
    "7. В столбце 'purpose' есть много разных формулировок, которые можно категоризировать.\n",
    "8. Возможны две причины возникновения пропусков:\n",
    "- Технический сбой. (случайные пропуски)\n",
    "- Клиенты не предоставили документы подтверждающие доход и стаж. (не случайные)\n",
    "\n",
    "Перед анализом нужно предобработать данные.\n",
    "\n",
    "\n",
    "\n"
   ]
  },
  {
   "cell_type": "markdown",
   "metadata": {},
   "source": [
    "## Шаг 2. Предобработка данных"
   ]
  },
  {
   "cell_type": "markdown",
   "metadata": {},
   "source": [
    "### Обработка пропусков"
   ]
  },
  {
   "cell_type": "markdown",
   "metadata": {},
   "source": [
    "В столбце days_employed 2174 пропуска, перед заполнением преобразуем данные."
   ]
  },
  {
   "cell_type": "code",
   "execution_count": 10,
   "metadata": {},
   "outputs": [],
   "source": [
    "clients['days_employed'] = clients['days_employed'].apply(abs) # возвращаем абсолютные значения  \n",
    "clients.loc[clients['days_employed'] >27375, 'days_employed'] = clients.loc[clients['days_employed'] >27375, 'days_employed'] / 24 # делим на 24 все занчения больше 27375 (75*365)"
   ]
  },
  {
   "cell_type": "code",
   "execution_count": 11,
   "metadata": {},
   "outputs": [
    {
     "name": "stdout",
     "output_type": "stream",
     "text": [
      "пенсионер стаж: 15217.221094405468 зарплата: 118514.48641164352\n",
      "госслужащий стаж: 2689.3683533043886 зарплата: 150447.9352830068\n",
      "компаньон стаж: 1547.3822226779334 зарплата: 172357.95096577113\n",
      "сотрудник стаж: 1574.2028211070854 зарплата: 142594.39684740017\n",
      "предприниматель стаж: 520.8480834953765 зарплата: 499163.1449470857\n"
     ]
    }
   ],
   "source": [
    "for income_type in clients.loc[clients['days_employed'].isna()]['income_type'].unique(): # создадим цикл перебирающий уникальные значения типов занятости в строках где есть пропуски \n",
    "    clients.loc[(clients['days_employed'].isna()) & (clients['income_type'] == income_type),'days_employed'] = clients[clients['income_type'] == income_type]['days_employed'].median() # заполняем пропуски медианным значением в зависимости от типа занятости\n",
    "    clients.loc[(clients['total_income'].isna()) & (clients['income_type'] == income_type),'total_income'] = clients[clients['income_type'] == income_type]['total_income'].median() # заполняем пропуски медианным значением в зависимости от типа занятости\n",
    "    print(income_type, 'стаж:', clients[clients['income_type'] == income_type]['days_employed'].median(), \n",
    "          'зарплата:', clients[clients['income_type'] == income_type]['total_income'].median())"
   ]
  },
  {
   "cell_type": "markdown",
   "metadata": {},
   "source": [
    "Убедимся, что в таблице не осталось пропусков. Для этого ещё раз посчитаем пропущенные значения."
   ]
  },
  {
   "cell_type": "code",
   "execution_count": 12,
   "metadata": {},
   "outputs": [
    {
     "data": {
      "text/plain": [
       "children            0\n",
       "days_employed       0\n",
       "dob_years           0\n",
       "education           0\n",
       "education_id        0\n",
       "family_status       0\n",
       "family_status_id    0\n",
       "gender              0\n",
       "income_type         0\n",
       "debt                0\n",
       "total_income        0\n",
       "purpose             0\n",
       "dtype: int64"
      ]
     },
     "execution_count": 12,
     "metadata": {},
     "output_type": "execute_result"
    }
   ],
   "source": [
    "clients.isna().sum() # подсчёт пропусков"
   ]
  },
  {
   "cell_type": "markdown",
   "metadata": {},
   "source": [
    "**Вывод**"
   ]
  },
  {
   "cell_type": "markdown",
   "metadata": {},
   "source": [
    "* В файле с данными были пропуски в одних и тех же строках столбцов days_employed и total_income.  \n",
    "* Возможны две причины возникновения пропусков:\n",
    "1. Технический сбой.\n",
    "2. Клиенты не предоставили документы подтверждающие доход и стаж.\n",
    "* Все пропуски были заполнены медианными значениями соответсвующего столбца.\n"
   ]
  },
  {
   "cell_type": "markdown",
   "metadata": {},
   "source": [
    "### Замена типа данных"
   ]
  },
  {
   "cell_type": "code",
   "execution_count": 13,
   "metadata": {},
   "outputs": [],
   "source": [
    "clients['children'] = clients['children'].apply(abs) # возвращаем абсолютные значения \n",
    "clients.loc[clients['children'] == 20, 'children'] = 2 # все значения в столбце children равные 20 заменяем на 2"
   ]
  },
  {
   "cell_type": "code",
   "execution_count": 14,
   "metadata": {},
   "outputs": [],
   "source": [
    "clients['days_employed'] = clients['days_employed'].astype('int') # заменим вещественный тип данных на целочисленный"
   ]
  },
  {
   "cell_type": "code",
   "execution_count": 15,
   "metadata": {},
   "outputs": [],
   "source": [
    "clients['total_income'] = (clients['total_income']/1000).astype('int') # заменим вещественный тип данных на целочисленный"
   ]
  },
  {
   "cell_type": "code",
   "execution_count": 16,
   "metadata": {},
   "outputs": [
    {
     "data": {
      "text/plain": [
       "array(['высшее', 'среднее', 'неоконченное высшее', 'начальное',\n",
       "       'ученая степень'], dtype=object)"
      ]
     },
     "execution_count": 16,
     "metadata": {},
     "output_type": "execute_result"
    }
   ],
   "source": [
    "clients['education'] = clients['education'].str.lower() # переводим все строки столбца education в нижний регистр\n",
    "clients['education'].unique() # просмотр уникальных значений в столбце education"
   ]
  },
  {
   "cell_type": "code",
   "execution_count": 17,
   "metadata": {},
   "outputs": [
    {
     "data": {
      "text/plain": [
       "array(['F', 'M'], dtype=object)"
      ]
     },
     "execution_count": 17,
     "metadata": {},
     "output_type": "execute_result"
    }
   ],
   "source": [
    "clients.loc[clients['gender'] == 'XNA', 'gender'] = clients['gender'].sort_values()[0] # заменим строки содержащие значения XNA в столбце gender на самый часто встречающеся пол среди клиентов  \n",
    "clients['gender'].unique()  # просмотр уникальных значений в столбце gender"
   ]
  },
  {
   "cell_type": "markdown",
   "metadata": {},
   "source": [
    "В столбце dob_years есть значения 0, т.к. новорожденнуму кредит не дадут скорее всего это технический сбой. Заменим 0 на значения зависящие от уровня образования и стажа."
   ]
  },
  {
   "cell_type": "code",
   "execution_count": 18,
   "metadata": {},
   "outputs": [
    {
     "data": {
      "text/plain": [
       "array(['среднее', 'высшее', 'неоконченное высшее'], dtype=object)"
      ]
     },
     "execution_count": 18,
     "metadata": {},
     "output_type": "execute_result"
    }
   ],
   "source": [
    "clients[clients['dob_years'] == 0]['education'].unique() # просмотр уникальных значений в столбце education в тех строках где в столюце dob_years значение 0 "
   ]
  },
  {
   "cell_type": "markdown",
   "metadata": {},
   "source": [
    "Значения 0 в столбцен dob_years всего у терёх уровней образования, к стажу в годах будем прибавлять для среднего 18, для неоконченного высшего 20, для высшего 20.\n"
   ]
  },
  {
   "cell_type": "code",
   "execution_count": 19,
   "metadata": {},
   "outputs": [],
   "source": [
    "clients.loc[(clients['dob_years'] == 0) & (clients['education'] == 'среднее'), 'dob_years'] = clients['days_employed']/365+18\n",
    "clients.loc[(clients['dob_years'] == 0) & (clients['education'] == 'неоконченное высшее'), 'dob_years'] = clients['days_employed']/365+20\n",
    "clients.loc[(clients['dob_years'] == 0) & (clients['education'] == 'высшее'), 'dob_years'] = clients['days_employed']/365+22\n",
    "clients['dob_years'] = clients['dob_years'].astype('int') # заменим вещественный тип данных на целочисленный"
   ]
  },
  {
   "cell_type": "code",
   "execution_count": 20,
   "metadata": {},
   "outputs": [
    {
     "data": {
      "text/html": [
       "<div>\n",
       "<style scoped>\n",
       "    .dataframe tbody tr th:only-of-type {\n",
       "        vertical-align: middle;\n",
       "    }\n",
       "\n",
       "    .dataframe tbody tr th {\n",
       "        vertical-align: top;\n",
       "    }\n",
       "\n",
       "    .dataframe thead th {\n",
       "        text-align: right;\n",
       "    }\n",
       "</style>\n",
       "<table border=\"1\" class=\"dataframe\">\n",
       "  <thead>\n",
       "    <tr style=\"text-align: right;\">\n",
       "      <th></th>\n",
       "      <th>children</th>\n",
       "      <th>days_employed</th>\n",
       "      <th>dob_years</th>\n",
       "      <th>education_id</th>\n",
       "      <th>family_status_id</th>\n",
       "      <th>debt</th>\n",
       "      <th>total_income</th>\n",
       "    </tr>\n",
       "  </thead>\n",
       "  <tbody>\n",
       "    <tr>\n",
       "      <th>count</th>\n",
       "      <td>21525.000000</td>\n",
       "      <td>21525.000000</td>\n",
       "      <td>21525.00000</td>\n",
       "      <td>21525.000000</td>\n",
       "      <td>21525.000000</td>\n",
       "      <td>21525.000000</td>\n",
       "      <td>21525.000000</td>\n",
       "    </tr>\n",
       "    <tr>\n",
       "      <th>mean</th>\n",
       "      <td>0.479721</td>\n",
       "      <td>4600.060720</td>\n",
       "      <td>43.44288</td>\n",
       "      <td>0.817236</td>\n",
       "      <td>0.972544</td>\n",
       "      <td>0.080883</td>\n",
       "      <td>164.721301</td>\n",
       "    </tr>\n",
       "    <tr>\n",
       "      <th>std</th>\n",
       "      <td>0.755528</td>\n",
       "      <td>5354.354946</td>\n",
       "      <td>12.28752</td>\n",
       "      <td>0.548138</td>\n",
       "      <td>1.420324</td>\n",
       "      <td>0.272661</td>\n",
       "      <td>98.044328</td>\n",
       "    </tr>\n",
       "    <tr>\n",
       "      <th>min</th>\n",
       "      <td>0.000000</td>\n",
       "      <td>24.000000</td>\n",
       "      <td>18.00000</td>\n",
       "      <td>0.000000</td>\n",
       "      <td>0.000000</td>\n",
       "      <td>0.000000</td>\n",
       "      <td>20.000000</td>\n",
       "    </tr>\n",
       "    <tr>\n",
       "      <th>25%</th>\n",
       "      <td>0.000000</td>\n",
       "      <td>1025.000000</td>\n",
       "      <td>33.00000</td>\n",
       "      <td>1.000000</td>\n",
       "      <td>0.000000</td>\n",
       "      <td>0.000000</td>\n",
       "      <td>107.000000</td>\n",
       "    </tr>\n",
       "    <tr>\n",
       "      <th>50%</th>\n",
       "      <td>0.000000</td>\n",
       "      <td>1993.000000</td>\n",
       "      <td>43.00000</td>\n",
       "      <td>1.000000</td>\n",
       "      <td>0.000000</td>\n",
       "      <td>0.000000</td>\n",
       "      <td>142.000000</td>\n",
       "    </tr>\n",
       "    <tr>\n",
       "      <th>75%</th>\n",
       "      <td>1.000000</td>\n",
       "      <td>5347.000000</td>\n",
       "      <td>53.00000</td>\n",
       "      <td>1.000000</td>\n",
       "      <td>1.000000</td>\n",
       "      <td>0.000000</td>\n",
       "      <td>195.000000</td>\n",
       "    </tr>\n",
       "    <tr>\n",
       "      <th>max</th>\n",
       "      <td>5.000000</td>\n",
       "      <td>18388.000000</td>\n",
       "      <td>75.00000</td>\n",
       "      <td>4.000000</td>\n",
       "      <td>4.000000</td>\n",
       "      <td>1.000000</td>\n",
       "      <td>2265.000000</td>\n",
       "    </tr>\n",
       "  </tbody>\n",
       "</table>\n",
       "</div>"
      ],
      "text/plain": [
       "           children  days_employed    dob_years  education_id  \\\n",
       "count  21525.000000   21525.000000  21525.00000  21525.000000   \n",
       "mean       0.479721    4600.060720     43.44288      0.817236   \n",
       "std        0.755528    5354.354946     12.28752      0.548138   \n",
       "min        0.000000      24.000000     18.00000      0.000000   \n",
       "25%        0.000000    1025.000000     33.00000      1.000000   \n",
       "50%        0.000000    1993.000000     43.00000      1.000000   \n",
       "75%        1.000000    5347.000000     53.00000      1.000000   \n",
       "max        5.000000   18388.000000     75.00000      4.000000   \n",
       "\n",
       "       family_status_id          debt  total_income  \n",
       "count      21525.000000  21525.000000  21525.000000  \n",
       "mean           0.972544      0.080883    164.721301  \n",
       "std            1.420324      0.272661     98.044328  \n",
       "min            0.000000      0.000000     20.000000  \n",
       "25%            0.000000      0.000000    107.000000  \n",
       "50%            0.000000      0.000000    142.000000  \n",
       "75%            1.000000      0.000000    195.000000  \n",
       "max            4.000000      1.000000   2265.000000  "
      ]
     },
     "execution_count": 20,
     "metadata": {},
     "output_type": "execute_result"
    }
   ],
   "source": [
    "clients.describe() # получение описательной статистики"
   ]
  },
  {
   "cell_type": "markdown",
   "metadata": {},
   "source": [
    "**Вывод**"
   ]
  },
  {
   "cell_type": "markdown",
   "metadata": {},
   "source": [
    "* В столбцах days_employed, dob_years и total_income заменен вещественный тип данных на целочисленный методом astype."
   ]
  },
  {
   "cell_type": "markdown",
   "metadata": {},
   "source": [
    "### Обработка дубликатов"
   ]
  },
  {
   "cell_type": "code",
   "execution_count": 21,
   "metadata": {},
   "outputs": [
    {
     "data": {
      "text/plain": [
       "array([ 1547,  1574, 15217,  2689])"
      ]
     },
     "execution_count": 21,
     "metadata": {},
     "output_type": "execute_result"
    }
   ],
   "source": [
    "clients[clients.duplicated(keep = False)].sort_values(by = list(clients.columns))['days_employed'].unique() # просмотр уникальных значений в столбце days_employed у дублткатов "
   ]
  },
  {
   "cell_type": "code",
   "execution_count": 22,
   "metadata": {},
   "outputs": [],
   "source": [
    "clients = clients.drop_duplicates() # удаление дубликатов"
   ]
  },
  {
   "cell_type": "code",
   "execution_count": 23,
   "metadata": {},
   "outputs": [
    {
     "data": {
      "text/plain": [
       "0"
      ]
     },
     "execution_count": 23,
     "metadata": {},
     "output_type": "execute_result"
    }
   ],
   "source": [
    "clients.duplicated().sum() # подсчёт дубликатов"
   ]
  },
  {
   "cell_type": "markdown",
   "metadata": {},
   "source": [
    "**Вывод**"
   ]
  },
  {
   "cell_type": "markdown",
   "metadata": {},
   "source": [
    "* Найдено 71 дубликатов методом duplicate.\n",
    "* Все дубликаты были удалены методом drop_duplicates.\n",
    "* Во всех дубликатах были пропущены значения в столбцах days_employed и total_income, скорее всего это технический сбой.   "
   ]
  },
  {
   "cell_type": "markdown",
   "metadata": {},
   "source": [
    "### Лемматизация"
   ]
  },
  {
   "cell_type": "markdown",
   "metadata": {},
   "source": [
    "Для отвена на вопрос: как разные цели кредита влияют на его возврат в срок? нужно лемматизировать цели."
   ]
  },
  {
   "cell_type": "code",
   "execution_count": 24,
   "metadata": {},
   "outputs": [
    {
     "name": "stdout",
     "output_type": "stream",
     "text": [
      "Counter({' ': 96, 'покупка': 10, 'недвижимость': 10, 'автомобиль': 9, 'образование': 9, 'жилье': 7, 'с': 5, 'операция': 4, 'на': 4, 'свой': 4, 'свадьба': 3, 'строительство': 3, 'получение': 3, 'высокий': 3, 'дополнительный': 2, 'для': 2, 'коммерческий': 2, 'жилой': 2, 'подержать': 2, 'заниматься': 2, 'сделка': 2, 'приобретение': 1, 'сыграть': 1, 'проведение': 1, 'семья': 1, 'собственный': 1, 'со': 1, 'профильный': 1, 'сдача': 1, 'ремонт': 1, '\\n': 1})\n"
     ]
    }
   ],
   "source": [
    "m = Mystem() # создаем объект-лемматизатор\n",
    "purpose_uniq = clients['purpose'].unique() # создание списка уникальных целей кредита\n",
    "purpose_uniq_str =' '.join(purpose_uniq) # преобразование списка в строку\n",
    "lemmas = m.lemmatize(purpose_uniq_str) # лемматизируем строку\n",
    "print(Counter(lemmas)) # подсчёт и вывод на экран слов встречающихся в строке"
   ]
  },
  {
   "cell_type": "markdown",
   "metadata": {},
   "source": [
    "Чаще всего в цклях встречаются существительные: недвижимость, автомобиль, образование, жилье и свадьба."
   ]
  },
  {
   "cell_type": "code",
   "execution_count": 25,
   "metadata": {},
   "outputs": [
    {
     "name": "stderr",
     "output_type": "stream",
     "text": [
      "/tmp/ipykernel_173/3281638371.py:15: SettingWithCopyWarning: \n",
      "A value is trying to be set on a copy of a slice from a DataFrame.\n",
      "Try using .loc[row_indexer,col_indexer] = value instead\n",
      "\n",
      "See the caveats in the documentation: https://pandas.pydata.org/pandas-docs/stable/user_guide/indexing.html#returning-a-view-versus-a-copy\n",
      "  clients['purpose_lemmas'] = clients['purpose'].apply(purpose_lemm) # создаём столбец purpose_lemmas и присваеваем категории\n"
     ]
    }
   ],
   "source": [
    "def purpose_lemm (row_values): # создаём функцию\n",
    "    row_lemmas = m.lemmatize(row_values) # лемматизируем row_values\n",
    "    if 'жилье' in row_lemmas:\n",
    "        return 'недвижимость'\n",
    "    if 'недвижимость' in row_lemmas:\n",
    "        return 'недвижимость'\n",
    "    if 'автомобиль' in row_lemmas:\n",
    "        return 'автомобиль'\n",
    "    if 'образование' in row_lemmas:\n",
    "        return 'образование'\n",
    "    if 'свадьба' in row_lemmas:\n",
    "        return 'свадьба'\n",
    "    return 'прочее'\n",
    "\n",
    "clients['purpose_lemmas'] = clients['purpose'].apply(purpose_lemm) # создаём столбец purpose_lemmas и присваеваем категории "
   ]
  },
  {
   "cell_type": "code",
   "execution_count": 26,
   "metadata": {},
   "outputs": [
    {
     "data": {
      "text/html": [
       "<div>\n",
       "<style scoped>\n",
       "    .dataframe tbody tr th:only-of-type {\n",
       "        vertical-align: middle;\n",
       "    }\n",
       "\n",
       "    .dataframe tbody tr th {\n",
       "        vertical-align: top;\n",
       "    }\n",
       "\n",
       "    .dataframe thead th {\n",
       "        text-align: right;\n",
       "    }\n",
       "</style>\n",
       "<table border=\"1\" class=\"dataframe\">\n",
       "  <thead>\n",
       "    <tr style=\"text-align: right;\">\n",
       "      <th></th>\n",
       "      <th>children</th>\n",
       "      <th>days_employed</th>\n",
       "      <th>dob_years</th>\n",
       "      <th>education</th>\n",
       "      <th>education_id</th>\n",
       "      <th>family_status</th>\n",
       "      <th>family_status_id</th>\n",
       "      <th>gender</th>\n",
       "      <th>income_type</th>\n",
       "      <th>debt</th>\n",
       "      <th>total_income</th>\n",
       "      <th>purpose</th>\n",
       "      <th>purpose_lemmas</th>\n",
       "    </tr>\n",
       "  </thead>\n",
       "  <tbody>\n",
       "    <tr>\n",
       "      <th>0</th>\n",
       "      <td>1</td>\n",
       "      <td>8437</td>\n",
       "      <td>42</td>\n",
       "      <td>высшее</td>\n",
       "      <td>0</td>\n",
       "      <td>женат / замужем</td>\n",
       "      <td>0</td>\n",
       "      <td>F</td>\n",
       "      <td>сотрудник</td>\n",
       "      <td>0</td>\n",
       "      <td>253</td>\n",
       "      <td>покупка жилья</td>\n",
       "      <td>недвижимость</td>\n",
       "    </tr>\n",
       "    <tr>\n",
       "      <th>1</th>\n",
       "      <td>1</td>\n",
       "      <td>4024</td>\n",
       "      <td>36</td>\n",
       "      <td>среднее</td>\n",
       "      <td>1</td>\n",
       "      <td>женат / замужем</td>\n",
       "      <td>0</td>\n",
       "      <td>F</td>\n",
       "      <td>сотрудник</td>\n",
       "      <td>0</td>\n",
       "      <td>112</td>\n",
       "      <td>приобретение автомобиля</td>\n",
       "      <td>автомобиль</td>\n",
       "    </tr>\n",
       "    <tr>\n",
       "      <th>2</th>\n",
       "      <td>0</td>\n",
       "      <td>5623</td>\n",
       "      <td>33</td>\n",
       "      <td>среднее</td>\n",
       "      <td>1</td>\n",
       "      <td>женат / замужем</td>\n",
       "      <td>0</td>\n",
       "      <td>M</td>\n",
       "      <td>сотрудник</td>\n",
       "      <td>0</td>\n",
       "      <td>145</td>\n",
       "      <td>покупка жилья</td>\n",
       "      <td>недвижимость</td>\n",
       "    </tr>\n",
       "    <tr>\n",
       "      <th>3</th>\n",
       "      <td>3</td>\n",
       "      <td>4124</td>\n",
       "      <td>32</td>\n",
       "      <td>среднее</td>\n",
       "      <td>1</td>\n",
       "      <td>женат / замужем</td>\n",
       "      <td>0</td>\n",
       "      <td>M</td>\n",
       "      <td>сотрудник</td>\n",
       "      <td>0</td>\n",
       "      <td>267</td>\n",
       "      <td>дополнительное образование</td>\n",
       "      <td>образование</td>\n",
       "    </tr>\n",
       "    <tr>\n",
       "      <th>4</th>\n",
       "      <td>0</td>\n",
       "      <td>14177</td>\n",
       "      <td>53</td>\n",
       "      <td>среднее</td>\n",
       "      <td>1</td>\n",
       "      <td>гражданский брак</td>\n",
       "      <td>1</td>\n",
       "      <td>F</td>\n",
       "      <td>пенсионер</td>\n",
       "      <td>0</td>\n",
       "      <td>158</td>\n",
       "      <td>сыграть свадьбу</td>\n",
       "      <td>свадьба</td>\n",
       "    </tr>\n",
       "    <tr>\n",
       "      <th>5</th>\n",
       "      <td>0</td>\n",
       "      <td>926</td>\n",
       "      <td>27</td>\n",
       "      <td>высшее</td>\n",
       "      <td>0</td>\n",
       "      <td>гражданский брак</td>\n",
       "      <td>1</td>\n",
       "      <td>M</td>\n",
       "      <td>компаньон</td>\n",
       "      <td>0</td>\n",
       "      <td>255</td>\n",
       "      <td>покупка жилья</td>\n",
       "      <td>недвижимость</td>\n",
       "    </tr>\n",
       "    <tr>\n",
       "      <th>6</th>\n",
       "      <td>0</td>\n",
       "      <td>2879</td>\n",
       "      <td>43</td>\n",
       "      <td>высшее</td>\n",
       "      <td>0</td>\n",
       "      <td>женат / замужем</td>\n",
       "      <td>0</td>\n",
       "      <td>F</td>\n",
       "      <td>компаньон</td>\n",
       "      <td>0</td>\n",
       "      <td>240</td>\n",
       "      <td>операции с жильем</td>\n",
       "      <td>недвижимость</td>\n",
       "    </tr>\n",
       "    <tr>\n",
       "      <th>7</th>\n",
       "      <td>0</td>\n",
       "      <td>152</td>\n",
       "      <td>50</td>\n",
       "      <td>среднее</td>\n",
       "      <td>1</td>\n",
       "      <td>женат / замужем</td>\n",
       "      <td>0</td>\n",
       "      <td>M</td>\n",
       "      <td>сотрудник</td>\n",
       "      <td>0</td>\n",
       "      <td>135</td>\n",
       "      <td>образование</td>\n",
       "      <td>образование</td>\n",
       "    </tr>\n",
       "    <tr>\n",
       "      <th>8</th>\n",
       "      <td>2</td>\n",
       "      <td>6929</td>\n",
       "      <td>35</td>\n",
       "      <td>высшее</td>\n",
       "      <td>0</td>\n",
       "      <td>гражданский брак</td>\n",
       "      <td>1</td>\n",
       "      <td>F</td>\n",
       "      <td>сотрудник</td>\n",
       "      <td>0</td>\n",
       "      <td>95</td>\n",
       "      <td>на проведение свадьбы</td>\n",
       "      <td>свадьба</td>\n",
       "    </tr>\n",
       "    <tr>\n",
       "      <th>9</th>\n",
       "      <td>0</td>\n",
       "      <td>2188</td>\n",
       "      <td>41</td>\n",
       "      <td>среднее</td>\n",
       "      <td>1</td>\n",
       "      <td>женат / замужем</td>\n",
       "      <td>0</td>\n",
       "      <td>M</td>\n",
       "      <td>сотрудник</td>\n",
       "      <td>0</td>\n",
       "      <td>144</td>\n",
       "      <td>покупка жилья для семьи</td>\n",
       "      <td>недвижимость</td>\n",
       "    </tr>\n",
       "  </tbody>\n",
       "</table>\n",
       "</div>"
      ],
      "text/plain": [
       "   children  days_employed  dob_years education  education_id  \\\n",
       "0         1           8437         42    высшее             0   \n",
       "1         1           4024         36   среднее             1   \n",
       "2         0           5623         33   среднее             1   \n",
       "3         3           4124         32   среднее             1   \n",
       "4         0          14177         53   среднее             1   \n",
       "5         0            926         27    высшее             0   \n",
       "6         0           2879         43    высшее             0   \n",
       "7         0            152         50   среднее             1   \n",
       "8         2           6929         35    высшее             0   \n",
       "9         0           2188         41   среднее             1   \n",
       "\n",
       "      family_status  family_status_id gender income_type  debt  total_income  \\\n",
       "0   женат / замужем                 0      F   сотрудник     0           253   \n",
       "1   женат / замужем                 0      F   сотрудник     0           112   \n",
       "2   женат / замужем                 0      M   сотрудник     0           145   \n",
       "3   женат / замужем                 0      M   сотрудник     0           267   \n",
       "4  гражданский брак                 1      F   пенсионер     0           158   \n",
       "5  гражданский брак                 1      M   компаньон     0           255   \n",
       "6   женат / замужем                 0      F   компаньон     0           240   \n",
       "7   женат / замужем                 0      M   сотрудник     0           135   \n",
       "8  гражданский брак                 1      F   сотрудник     0            95   \n",
       "9   женат / замужем                 0      M   сотрудник     0           144   \n",
       "\n",
       "                      purpose purpose_lemmas  \n",
       "0               покупка жилья   недвижимость  \n",
       "1     приобретение автомобиля     автомобиль  \n",
       "2               покупка жилья   недвижимость  \n",
       "3  дополнительное образование    образование  \n",
       "4             сыграть свадьбу        свадьба  \n",
       "5               покупка жилья   недвижимость  \n",
       "6           операции с жильем   недвижимость  \n",
       "7                 образование    образование  \n",
       "8       на проведение свадьбы        свадьба  \n",
       "9     покупка жилья для семьи   недвижимость  "
      ]
     },
     "metadata": {},
     "output_type": "display_data"
    }
   ],
   "source": [
    "display(clients.head(10)) # получение первых 10 строк таблицы clients"
   ]
  },
  {
   "cell_type": "markdown",
   "metadata": {},
   "source": [
    "**Вывод**"
   ]
  },
  {
   "cell_type": "markdown",
   "metadata": {},
   "source": [
    "* Выделены леммы в значениях столбца с целями получения кредита, получилось 4 категории:\n",
    "1. недвижимость\n",
    "2. автомобиль\n",
    "3. образование\n",
    "4. свадьба\n"
   ]
  },
  {
   "cell_type": "markdown",
   "metadata": {},
   "source": [
    "### Категоризация данных"
   ]
  },
  {
   "cell_type": "markdown",
   "metadata": {},
   "source": [
    "Для отвена на вопрос: Есть ли зависимость между уровнем дохода и возвратом кредита в срок? нужно категоризировать уровень дохода."
   ]
  },
  {
   "cell_type": "markdown",
   "metadata": {},
   "source": [
    "Поделим всех клиентов на 4 категории с равным количеством человек с помощью 3 уровней дохода."
   ]
  },
  {
   "cell_type": "code",
   "execution_count": 27,
   "metadata": {},
   "outputs": [],
   "source": [
    "lvl_2 = clients['total_income'].median() # уровень 2 делит всех клиентов на две равные части\n",
    "lvl_1 = clients[clients['total_income'] < lvl_2]['total_income'].median() # уровень 1 делит всех клиентов чей доход меньше уровня 2 на две равные части\n",
    "lvl_3 = clients[clients['total_income'] > lvl_2]['total_income'].median() # уровень 3 делит всех клиентов чей доход больше уровня 2 на две равные части"
   ]
  },
  {
   "cell_type": "code",
   "execution_count": 28,
   "metadata": {},
   "outputs": [],
   "source": [
    "def cat_group(income): # создаём функцию  \n",
    "    if income < lvl_1:\n",
    "        result = 'малоимущие'\n",
    "    elif  lvl_1 <= income < lvl_2:\n",
    "        result = 'средний класс'\n",
    "    elif  lvl_2 <= income < lvl_3:\n",
    "        result = 'состоятельные'\n",
    "    else:\n",
    "        result = 'богатые'\n",
    "    return result"
   ]
  },
  {
   "cell_type": "code",
   "execution_count": 29,
   "metadata": {},
   "outputs": [
    {
     "name": "stderr",
     "output_type": "stream",
     "text": [
      "/tmp/ipykernel_173/3535519125.py:1: SettingWithCopyWarning: \n",
      "A value is trying to be set on a copy of a slice from a DataFrame.\n",
      "Try using .loc[row_indexer,col_indexer] = value instead\n",
      "\n",
      "See the caveats in the documentation: https://pandas.pydata.org/pandas-docs/stable/user_guide/indexing.html#returning-a-view-versus-a-copy\n",
      "  clients['class_income'] = clients['total_income'].apply(cat_group) # создаём столбец class_income и присваеваем категории\n"
     ]
    }
   ],
   "source": [
    "clients['class_income'] = clients['total_income'].apply(cat_group) # создаём столбец class_income и присваеваем категории "
   ]
  },
  {
   "cell_type": "code",
   "execution_count": 30,
   "metadata": {},
   "outputs": [],
   "source": [
    "def cat_children(child): # создаём функцию  \n",
    "    if child == 0:\n",
    "        result = 'нет детей'\n",
    "    else:\n",
    "        result = 'есть дети'\n",
    "    return result"
   ]
  },
  {
   "cell_type": "code",
   "execution_count": 31,
   "metadata": {},
   "outputs": [
    {
     "name": "stderr",
     "output_type": "stream",
     "text": [

     ]
    }
   ],
   "source": [
    "clients['cat_children'] = clients['children'].apply(cat_children) # создаём столбец cat_children и присваеваем категории "
   ]
  },
  {
   "cell_type": "code",
   "execution_count": 32,
   "metadata": {},
   "outputs": [
    {
     "data": {
      "text/html": [
       "<div>\n",
       "<style scoped>\n",
       "    .dataframe tbody tr th:only-of-type {\n",
       "        vertical-align: middle;\n",
       "    }\n",
       "\n",
       "    .dataframe tbody tr th {\n",
       "        vertical-align: top;\n",
       "    }\n",
       "\n",
       "    .dataframe thead th {\n",
       "        text-align: right;\n",
       "    }\n",
       "</style>\n",
       "<table border=\"1\" class=\"dataframe\">\n",
       "  <thead>\n",
       "    <tr style=\"text-align: right;\">\n",
       "      <th></th>\n",
       "      <th>children</th>\n",
       "      <th>days_employed</th>\n",
       "      <th>dob_years</th>\n",
       "      <th>education</th>\n",
       "      <th>education_id</th>\n",
       "      <th>family_status</th>\n",
       "      <th>family_status_id</th>\n",
       "      <th>gender</th>\n",
       "      <th>income_type</th>\n",
       "      <th>debt</th>\n",
       "      <th>total_income</th>\n",
       "      <th>purpose</th>\n",
       "      <th>purpose_lemmas</th>\n",
       "      <th>class_income</th>\n",
       "      <th>cat_children</th>\n",
       "    </tr>\n",
       "  </thead>\n",
       "  <tbody>\n",
       "    <tr>\n",
       "      <th>0</th>\n",
       "      <td>1</td>\n",
       "      <td>8437</td>\n",
       "      <td>42</td>\n",
       "      <td>высшее</td>\n",
       "      <td>0</td>\n",
       "      <td>женат / замужем</td>\n",
       "      <td>0</td>\n",
       "      <td>F</td>\n",
       "      <td>сотрудник</td>\n",
       "      <td>0</td>\n",
       "      <td>253</td>\n",
       "      <td>покупка жилья</td>\n",
       "      <td>недвижимость</td>\n",
       "      <td>богатые</td>\n",
       "      <td>есть дети</td>\n",
       "    </tr>\n",
       "    <tr>\n",
       "      <th>1</th>\n",
       "      <td>1</td>\n",
       "      <td>4024</td>\n",
       "      <td>36</td>\n",
       "      <td>среднее</td>\n",
       "      <td>1</td>\n",
       "      <td>женат / замужем</td>\n",
       "      <td>0</td>\n",
       "      <td>F</td>\n",
       "      <td>сотрудник</td>\n",
       "      <td>0</td>\n",
       "      <td>112</td>\n",
       "      <td>приобретение автомобиля</td>\n",
       "      <td>автомобиль</td>\n",
       "      <td>средний класс</td>\n",
       "      <td>есть дети</td>\n",
       "    </tr>\n",
       "    <tr>\n",
       "      <th>2</th>\n",
       "      <td>0</td>\n",
       "      <td>5623</td>\n",
       "      <td>33</td>\n",
       "      <td>среднее</td>\n",
       "      <td>1</td>\n",
       "      <td>женат / замужем</td>\n",
       "      <td>0</td>\n",
       "      <td>M</td>\n",
       "      <td>сотрудник</td>\n",
       "      <td>0</td>\n",
       "      <td>145</td>\n",
       "      <td>покупка жилья</td>\n",
       "      <td>недвижимость</td>\n",
       "      <td>состоятельные</td>\n",
       "      <td>нет детей</td>\n",
       "    </tr>\n",
       "    <tr>\n",
       "      <th>3</th>\n",
       "      <td>3</td>\n",
       "      <td>4124</td>\n",
       "      <td>32</td>\n",
       "      <td>среднее</td>\n",
       "      <td>1</td>\n",
       "      <td>женат / замужем</td>\n",
       "      <td>0</td>\n",
       "      <td>M</td>\n",
       "      <td>сотрудник</td>\n",
       "      <td>0</td>\n",
       "      <td>267</td>\n",
       "      <td>дополнительное образование</td>\n",
       "      <td>образование</td>\n",
       "      <td>богатые</td>\n",
       "      <td>есть дети</td>\n",
       "    </tr>\n",
       "    <tr>\n",
       "      <th>4</th>\n",
       "      <td>0</td>\n",
       "      <td>14177</td>\n",
       "      <td>53</td>\n",
       "      <td>среднее</td>\n",
       "      <td>1</td>\n",
       "      <td>гражданский брак</td>\n",
       "      <td>1</td>\n",
       "      <td>F</td>\n",
       "      <td>пенсионер</td>\n",
       "      <td>0</td>\n",
       "      <td>158</td>\n",
       "      <td>сыграть свадьбу</td>\n",
       "      <td>свадьба</td>\n",
       "      <td>состоятельные</td>\n",
       "      <td>нет детей</td>\n",
       "    </tr>\n",
       "    <tr>\n",
       "      <th>5</th>\n",
       "      <td>0</td>\n",
       "      <td>926</td>\n",
       "      <td>27</td>\n",
       "      <td>высшее</td>\n",
       "      <td>0</td>\n",
       "      <td>гражданский брак</td>\n",
       "      <td>1</td>\n",
       "      <td>M</td>\n",
       "      <td>компаньон</td>\n",
       "      <td>0</td>\n",
       "      <td>255</td>\n",
       "      <td>покупка жилья</td>\n",
       "      <td>недвижимость</td>\n",
       "      <td>богатые</td>\n",
       "      <td>нет детей</td>\n",
       "    </tr>\n",
       "    <tr>\n",
       "      <th>6</th>\n",
       "      <td>0</td>\n",
       "      <td>2879</td>\n",
       "      <td>43</td>\n",
       "      <td>высшее</td>\n",
       "      <td>0</td>\n",
       "      <td>женат / замужем</td>\n",
       "      <td>0</td>\n",
       "      <td>F</td>\n",
       "      <td>компаньон</td>\n",
       "      <td>0</td>\n",
       "      <td>240</td>\n",
       "      <td>операции с жильем</td>\n",
       "      <td>недвижимость</td>\n",
       "      <td>богатые</td>\n",
       "      <td>нет детей</td>\n",
       "    </tr>\n",
       "    <tr>\n",
       "      <th>7</th>\n",
       "      <td>0</td>\n",
       "      <td>152</td>\n",
       "      <td>50</td>\n",
       "      <td>среднее</td>\n",
       "      <td>1</td>\n",
       "      <td>женат / замужем</td>\n",
       "      <td>0</td>\n",
       "      <td>M</td>\n",
       "      <td>сотрудник</td>\n",
       "      <td>0</td>\n",
       "      <td>135</td>\n",
       "      <td>образование</td>\n",
       "      <td>образование</td>\n",
       "      <td>средний класс</td>\n",
       "      <td>нет детей</td>\n",
       "    </tr>\n",
       "    <tr>\n",
       "      <th>8</th>\n",
       "      <td>2</td>\n",
       "      <td>6929</td>\n",
       "      <td>35</td>\n",
       "      <td>высшее</td>\n",
       "      <td>0</td>\n",
       "      <td>гражданский брак</td>\n",
       "      <td>1</td>\n",
       "      <td>F</td>\n",
       "      <td>сотрудник</td>\n",
       "      <td>0</td>\n",
       "      <td>95</td>\n",
       "      <td>на проведение свадьбы</td>\n",
       "      <td>свадьба</td>\n",
       "      <td>малоимущие</td>\n",
       "      <td>есть дети</td>\n",
       "    </tr>\n",
       "    <tr>\n",
       "      <th>9</th>\n",
       "      <td>0</td>\n",
       "      <td>2188</td>\n",
       "      <td>41</td>\n",
       "      <td>среднее</td>\n",
       "      <td>1</td>\n",
       "      <td>женат / замужем</td>\n",
       "      <td>0</td>\n",
       "      <td>M</td>\n",
       "      <td>сотрудник</td>\n",
       "      <td>0</td>\n",
       "      <td>144</td>\n",
       "      <td>покупка жилья для семьи</td>\n",
       "      <td>недвижимость</td>\n",
       "      <td>состоятельные</td>\n",
       "      <td>нет детей</td>\n",
       "    </tr>\n",
       "  </tbody>\n",
       "</table>\n",
       "</div>"
      ],
      "text/plain": [
       "   children  days_employed  dob_years education  education_id  \\\n",
       "0         1           8437         42    высшее             0   \n",
       "1         1           4024         36   среднее             1   \n",
       "2         0           5623         33   среднее             1   \n",
       "3         3           4124         32   среднее             1   \n",
       "4         0          14177         53   среднее             1   \n",
       "5         0            926         27    высшее             0   \n",
       "6         0           2879         43    высшее             0   \n",
       "7         0            152         50   среднее             1   \n",
       "8         2           6929         35    высшее             0   \n",
       "9         0           2188         41   среднее             1   \n",
       "\n",
       "      family_status  family_status_id gender income_type  debt  total_income  \\\n",
       "0   женат / замужем                 0      F   сотрудник     0           253   \n",
       "1   женат / замужем                 0      F   сотрудник     0           112   \n",
       "2   женат / замужем                 0      M   сотрудник     0           145   \n",
       "3   женат / замужем                 0      M   сотрудник     0           267   \n",
       "4  гражданский брак                 1      F   пенсионер     0           158   \n",
       "5  гражданский брак                 1      M   компаньон     0           255   \n",
       "6   женат / замужем                 0      F   компаньон     0           240   \n",
       "7   женат / замужем                 0      M   сотрудник     0           135   \n",
       "8  гражданский брак                 1      F   сотрудник     0            95   \n",
       "9   женат / замужем                 0      M   сотрудник     0           144   \n",
       "\n",
       "                      purpose purpose_lemmas   class_income cat_children  \n",
       "0               покупка жилья   недвижимость        богатые    есть дети  \n",
       "1     приобретение автомобиля     автомобиль  средний класс    есть дети  \n",
       "2               покупка жилья   недвижимость  состоятельные    нет детей  \n",
       "3  дополнительное образование    образование        богатые    есть дети  \n",
       "4             сыграть свадьбу        свадьба  состоятельные    нет детей  \n",
       "5               покупка жилья   недвижимость        богатые    нет детей  \n",
       "6           операции с жильем   недвижимость        богатые    нет детей  \n",
       "7                 образование    образование  средний класс    нет детей  \n",
       "8       на проведение свадьбы        свадьба     малоимущие    есть дети  \n",
       "9     покупка жилья для семьи   недвижимость  состоятельные    нет детей  "
      ]
     },
     "metadata": {},
     "output_type": "display_data"
    }
   ],
   "source": [
    "display(clients.head(10)) # получение первых 10 строк таблицы clients"
   ]
  },
  {
   "cell_type": "markdown",
   "metadata": {},
   "source": [
    "**Вывод**"
   ]
  },
  {
   "cell_type": "markdown",
   "metadata": {},
   "source": [
    "* Созданы 4 категорий по уравню дохода:\n",
    "1. малоимущие\n",
    "2. средний класс\n",
    "3. состоятельные\n",
    "4. богатые"
   ]
  },
  {
   "cell_type": "markdown",
   "metadata": {},
   "source": [
    "## Шаг 3. Ответы на вопросы"
   ]
  },
  {
   "cell_type": "markdown",
   "metadata": {},
   "source": [
    "Для ответов на вопросы определим функцию, создающую сводную таблицу."
   ]
  },
  {
   "cell_type": "code",
   "execution_count": 33,
   "metadata": {},
   "outputs": [],
   "source": [
    "def pivot(col): # создаём функцию \n",
    "    clients_pivot = clients.pivot_table(index =col, columns ='debt', values = 'total_income',aggfunc='count') # создаём сводную таблицу\n",
    "    clients_pivot.columns = ['no_debt', 'debt'] # присваиваем колонкам новые названия \n",
    "    clients_pivot['%'] =  clients_pivot['debt']/(clients_pivot['debt']+clients_pivot['no_debt'])*100 # создаём столбец с процентным соотношением невозвратных кредитов\n",
    "    display(clients_pivot.sort_values(by = '%')) # выводим таблицу на экран"
   ]
  },
  {
   "cell_type": "markdown",
   "metadata": {},
   "source": [
    "- Есть ли зависимость между наличием детей и возвратом кредита в срок?"
   ]
  },
  {
   "cell_type": "code",
   "execution_count": 34,
   "metadata": {},
   "outputs": [
    {
     "data": {
      "text/html": [
       "<div>\n",
       "<style scoped>\n",
       "    .dataframe tbody tr th:only-of-type {\n",
       "        vertical-align: middle;\n",
       "    }\n",
       "\n",
       "    .dataframe tbody tr th {\n",
       "        vertical-align: top;\n",
       "    }\n",
       "\n",
       "    .dataframe thead th {\n",
       "        text-align: right;\n",
       "    }\n",
       "</style>\n",
       "<table border=\"1\" class=\"dataframe\">\n",
       "  <thead>\n",
       "    <tr style=\"text-align: right;\">\n",
       "      <th></th>\n",
       "      <th>no_debt</th>\n",
       "      <th>debt</th>\n",
       "      <th>%</th>\n",
       "    </tr>\n",
       "    <tr>\n",
       "      <th>cat_children</th>\n",
       "      <th></th>\n",
       "      <th></th>\n",
       "      <th></th>\n",
       "    </tr>\n",
       "  </thead>\n",
       "  <tbody>\n",
       "    <tr>\n",
       "      <th>нет детей</th>\n",
       "      <td>13028</td>\n",
       "      <td>1063</td>\n",
       "      <td>7.543822</td>\n",
       "    </tr>\n",
       "    <tr>\n",
       "      <th>есть дети</th>\n",
       "      <td>6685</td>\n",
       "      <td>678</td>\n",
       "      <td>9.208203</td>\n",
       "    </tr>\n",
       "  </tbody>\n",
       "</table>\n",
       "</div>"
      ],
      "text/plain": [
       "              no_debt  debt         %\n",
       "cat_children                         \n",
       "нет детей       13028  1063  7.543822\n",
       "есть дети        6685   678  9.208203"
      ]
     },
     "metadata": {},
     "output_type": "display_data"
    }
   ],
   "source": [
    "pivot('cat_children') # вызываем функцию pivot с аргументом 'cat_children'"
   ]
  },
  {
   "cell_type": "markdown",
   "metadata": {},
   "source": [
    "**Вывод**"
   ]
  },
  {
   "cell_type": "markdown",
   "metadata": {},
   "source": [
    "Наличие детей уменьшает вероятность возврата кредита в срок."
   ]
  },
  {
   "cell_type": "markdown",
   "metadata": {},
   "source": [
    "- Есть ли зависимость между семейным положением и возвратом кредита в срок?"
   ]
  },
  {
   "cell_type": "code",
   "execution_count": 35,
   "metadata": {},
   "outputs": [
    {
     "data": {
      "text/html": [
       "<div>\n",
       "<style scoped>\n",
       "    .dataframe tbody tr th:only-of-type {\n",
       "        vertical-align: middle;\n",
       "    }\n",
       "\n",
       "    .dataframe tbody tr th {\n",
       "        vertical-align: top;\n",
       "    }\n",
       "\n",
       "    .dataframe thead th {\n",
       "        text-align: right;\n",
       "    }\n",
       "</style>\n",
       "<table border=\"1\" class=\"dataframe\">\n",
       "  <thead>\n",
       "    <tr style=\"text-align: right;\">\n",
       "      <th></th>\n",
       "      <th>no_debt</th>\n",
       "      <th>debt</th>\n",
       "      <th>%</th>\n",
       "    </tr>\n",
       "    <tr>\n",
       "      <th>family_status</th>\n",
       "      <th></th>\n",
       "      <th></th>\n",
       "      <th></th>\n",
       "    </tr>\n",
       "  </thead>\n",
       "  <tbody>\n",
       "    <tr>\n",
       "      <th>вдовец / вдова</th>\n",
       "      <td>896</td>\n",
       "      <td>63</td>\n",
       "      <td>6.569343</td>\n",
       "    </tr>\n",
       "    <tr>\n",
       "      <th>в разводе</th>\n",
       "      <td>1110</td>\n",
       "      <td>85</td>\n",
       "      <td>7.112971</td>\n",
       "    </tr>\n",
       "    <tr>\n",
       "      <th>женат / замужем</th>\n",
       "      <td>11408</td>\n",
       "      <td>931</td>\n",
       "      <td>7.545182</td>\n",
       "    </tr>\n",
       "    <tr>\n",
       "      <th>гражданский брак</th>\n",
       "      <td>3763</td>\n",
       "      <td>388</td>\n",
       "      <td>9.347145</td>\n",
       "    </tr>\n",
       "    <tr>\n",
       "      <th>Не женат / не замужем</th>\n",
       "      <td>2536</td>\n",
       "      <td>274</td>\n",
       "      <td>9.750890</td>\n",
       "    </tr>\n",
       "  </tbody>\n",
       "</table>\n",
       "</div>"
      ],
      "text/plain": [
       "                       no_debt  debt         %\n",
       "family_status                                 \n",
       "вдовец / вдова             896    63  6.569343\n",
       "в разводе                 1110    85  7.112971\n",
       "женат / замужем          11408   931  7.545182\n",
       "гражданский брак          3763   388  9.347145\n",
       "Не женат / не замужем     2536   274  9.750890"
      ]
     },
     "metadata": {},
     "output_type": "display_data"
    }
   ],
   "source": [
    "pivot('family_status') # вызываем функцию pivot с аргументом 'family_status'"
   ]
  },
  {
   "cell_type": "markdown",
   "metadata": {},
   "source": [
    "**Вывод**"
   ]
  },
  {
   "cell_type": "markdown",
   "metadata": {},
   "source": [
    "Семейное положение влияет на вероятность возврата кредита в срок, люди никогда не находившиеся в браке по кредиту платят хуже."
   ]
  },
  {
   "cell_type": "markdown",
   "metadata": {},
   "source": [
    "- Есть ли зависимость между уровнем дохода и возвратом кредита в срок?"
   ]
  },
  {
   "cell_type": "code",
   "execution_count": 36,
   "metadata": {},
   "outputs": [
    {
     "data": {
      "text/html": [
       "<div>\n",
       "<style scoped>\n",
       "    .dataframe tbody tr th:only-of-type {\n",
       "        vertical-align: middle;\n",
       "    }\n",
       "\n",
       "    .dataframe tbody tr th {\n",
       "        vertical-align: top;\n",
       "    }\n",
       "\n",
       "    .dataframe thead th {\n",
       "        text-align: right;\n",
       "    }\n",
       "</style>\n",
       "<table border=\"1\" class=\"dataframe\">\n",
       "  <thead>\n",
       "    <tr style=\"text-align: right;\">\n",
       "      <th></th>\n",
       "      <th>no_debt</th>\n",
       "      <th>debt</th>\n",
       "      <th>%</th>\n",
       "    </tr>\n",
       "    <tr>\n",
       "      <th>class_income</th>\n",
       "      <th></th>\n",
       "      <th></th>\n",
       "      <th></th>\n",
       "    </tr>\n",
       "  </thead>\n",
       "  <tbody>\n",
       "    <tr>\n",
       "      <th>богатые</th>\n",
       "      <td>4971</td>\n",
       "      <td>383</td>\n",
       "      <td>7.153530</td>\n",
       "    </tr>\n",
       "    <tr>\n",
       "      <th>малоимущие</th>\n",
       "      <td>4451</td>\n",
       "      <td>383</td>\n",
       "      <td>7.923045</td>\n",
       "    </tr>\n",
       "    <tr>\n",
       "      <th>средний класс</th>\n",
       "      <td>4446</td>\n",
       "      <td>419</td>\n",
       "      <td>8.612539</td>\n",
       "    </tr>\n",
       "    <tr>\n",
       "      <th>состоятельные</th>\n",
       "      <td>5845</td>\n",
       "      <td>556</td>\n",
       "      <td>8.686143</td>\n",
       "    </tr>\n",
       "  </tbody>\n",
       "</table>\n",
       "</div>"
      ],
      "text/plain": [
       "               no_debt  debt         %\n",
       "class_income                          \n",
       "богатые           4971   383  7.153530\n",
       "малоимущие        4451   383  7.923045\n",
       "средний класс     4446   419  8.612539\n",
       "состоятельные     5845   556  8.686143"
      ]
     },
     "metadata": {},
     "output_type": "display_data"
    }
   ],
   "source": [
    "pivot('class_income') # вызываем функцию pivot с аргументом 'class_income'"
   ]
  },
  {
   "cell_type": "markdown",
   "metadata": {},
   "source": [
    "**Вывод**"
   ]
  },
  {
   "cell_type": "markdown",
   "metadata": {},
   "source": [
    "Зависимости от уровня дохода и возвратом кредита в срок нет. Можно выделить только богатых они по кредитам платят лучше."
   ]
  },
  {
   "cell_type": "markdown",
   "metadata": {},
   "source": [
    "- Как разные цели кредита влияют на его возврат в срок?"
   ]
  },
  {
   "cell_type": "code",
   "execution_count": 37,
   "metadata": {},
   "outputs": [
    {
     "data": {
      "text/html": [
       "<div>\n",
       "<style scoped>\n",
       "    .dataframe tbody tr th:only-of-type {\n",
       "        vertical-align: middle;\n",
       "    }\n",
       "\n",
       "    .dataframe tbody tr th {\n",
       "        vertical-align: top;\n",
       "    }\n",
       "\n",
       "    .dataframe thead th {\n",
       "        text-align: right;\n",
       "    }\n",
       "</style>\n",
       "<table border=\"1\" class=\"dataframe\">\n",
       "  <thead>\n",
       "    <tr style=\"text-align: right;\">\n",
       "      <th></th>\n",
       "      <th>no_debt</th>\n",
       "      <th>debt</th>\n",
       "      <th>%</th>\n",
       "    </tr>\n",
       "    <tr>\n",
       "      <th>purpose_lemmas</th>\n",
       "      <th></th>\n",
       "      <th></th>\n",
       "      <th></th>\n",
       "    </tr>\n",
       "  </thead>\n",
       "  <tbody>\n",
       "    <tr>\n",
       "      <th>недвижимость</th>\n",
       "      <td>10029</td>\n",
       "      <td>782</td>\n",
       "      <td>7.233373</td>\n",
       "    </tr>\n",
       "    <tr>\n",
       "      <th>свадьба</th>\n",
       "      <td>2138</td>\n",
       "      <td>186</td>\n",
       "      <td>8.003442</td>\n",
       "    </tr>\n",
       "    <tr>\n",
       "      <th>образование</th>\n",
       "      <td>3643</td>\n",
       "      <td>370</td>\n",
       "      <td>9.220035</td>\n",
       "    </tr>\n",
       "    <tr>\n",
       "      <th>автомобиль</th>\n",
       "      <td>3903</td>\n",
       "      <td>403</td>\n",
       "      <td>9.359034</td>\n",
       "    </tr>\n",
       "  </tbody>\n",
       "</table>\n",
       "</div>"
      ],
      "text/plain": [
       "                no_debt  debt         %\n",
       "purpose_lemmas                         \n",
       "недвижимость      10029   782  7.233373\n",
       "свадьба            2138   186  8.003442\n",
       "образование        3643   370  9.220035\n",
       "автомобиль         3903   403  9.359034"
      ]
     },
     "metadata": {},
     "output_type": "display_data"
    }
   ],
   "source": [
    "pivot('purpose_lemmas') # вызываем функцию pivot с аргументом 'purpose_lemmas'"
   ]
  },
  {
   "cell_type": "markdown",
   "metadata": {},
   "source": [
    "**Вывод**"
   ]
  },
  {
   "cell_type": "markdown",
   "metadata": {},
   "source": [
    "Кредит на жильё и недвижимость чаще выплачивают в срок, чем на образование и автомобили."
   ]
  },
  {
   "cell_type": "markdown",
   "metadata": {},
   "source": [
    "## Шаг 4. Общий вывод"
   ]
  },
  {
   "cell_type": "markdown",
   "metadata": {},
   "source": [
    "Лучше всего по кредитам платят богатые вдовы без детей покупающие жильё и недвижимость.\n",
    "Хуже всего по кредитам платят холостые с детьми средний класс покупающие автомобиль."
   ]
  }
 ],
 "metadata": {
  "ExecuteTimeLog": [
   {
    "duration": 937,
    "start_time": "2021-11-17T20:13:58.066Z"
   },
   {
    "duration": 100,
    "start_time": "2021-11-17T20:14:19.710Z"
   },
   {
    "duration": 107,
    "start_time": "2021-11-17T20:19:44.292Z"
   },
   {
    "duration": 142,
    "start_time": "2021-11-17T21:00:49.312Z"
   },
   {
    "duration": 9179,
    "start_time": "2021-11-17T21:14:23.567Z"
   },
   {
    "duration": 8002,
    "start_time": "2021-11-17T21:15:17.923Z"
   },
   {
    "duration": 9470,
    "start_time": "2021-11-17T21:15:38.131Z"
   },
   {
    "duration": 157,
    "start_time": "2021-11-17T21:16:07.471Z"
   },
   {
    "duration": 1050,
    "start_time": "2021-11-17T21:18:16.550Z"
   },
   {
    "duration": 137,
    "start_time": "2021-11-17T21:18:55.477Z"
   },
   {
    "duration": 144,
    "start_time": "2021-11-17T21:19:34.849Z"
   },
   {
    "duration": 212,
    "start_time": "2021-11-18T05:46:54.769Z"
   },
   {
    "duration": 682,
    "start_time": "2021-11-18T05:47:00.211Z"
   },
   {
    "duration": 21,
    "start_time": "2021-11-18T05:47:08.259Z"
   },
   {
    "duration": 8,
    "start_time": "2021-11-18T05:48:22.828Z"
   },
   {
    "duration": 20,
    "start_time": "2021-11-18T05:50:11.028Z"
   },
   {
    "duration": 116,
    "start_time": "2021-11-18T06:01:49.811Z"
   },
   {
    "duration": 171,
    "start_time": "2021-11-18T06:02:39.883Z"
   },
   {
    "duration": 22,
    "start_time": "2021-11-18T06:06:04.465Z"
   },
   {
    "duration": 21,
    "start_time": "2021-11-18T06:07:33.726Z"
   },
   {
    "duration": 8,
    "start_time": "2021-11-18T06:07:44.625Z"
   },
   {
    "duration": 8,
    "start_time": "2021-11-18T06:07:49.819Z"
   },
   {
    "duration": 23,
    "start_time": "2021-11-18T06:08:12.467Z"
   },
   {
    "duration": 59,
    "start_time": "2021-11-18T06:08:50.351Z"
   },
   {
    "duration": 9,
    "start_time": "2021-11-18T06:09:55.751Z"
   },
   {
    "duration": 23,
    "start_time": "2021-11-18T06:10:01.618Z"
   },
   {
    "duration": 25,
    "start_time": "2021-11-18T06:10:18.576Z"
   },
   {
    "duration": 103,
    "start_time": "2021-11-18T06:24:35.921Z"
   },
   {
    "duration": 269,
    "start_time": "2021-11-18T06:28:20.700Z"
   },
   {
    "duration": 260,
    "start_time": "2021-11-18T06:28:52.840Z"
   },
   {
    "duration": 255,
    "start_time": "2021-11-18T06:29:04.779Z"
   },
   {
    "duration": 102,
    "start_time": "2021-11-18T06:29:55.896Z"
   },
   {
    "duration": 940,
    "start_time": "2021-11-18T10:27:05.147Z"
   },
   {
    "duration": 173,
    "start_time": "2021-11-18T10:42:49.892Z"
   },
   {
    "duration": 40,
    "start_time": "2021-11-18T10:43:51.125Z"
   },
   {
    "duration": 55,
    "start_time": "2021-11-18T10:46:25.560Z"
   },
   {
    "duration": 44,
    "start_time": "2021-11-18T10:47:06.220Z"
   },
   {
    "duration": 108,
    "start_time": "2021-11-18T10:48:13.449Z"
   },
   {
    "duration": 109,
    "start_time": "2021-11-18T10:48:26.876Z"
   },
   {
    "duration": 18,
    "start_time": "2021-11-18T10:48:41.069Z"
   },
   {
    "duration": 44,
    "start_time": "2021-11-18T10:49:12.849Z"
   },
   {
    "duration": 85,
    "start_time": "2021-11-18T10:49:54.364Z"
   },
   {
    "duration": 82,
    "start_time": "2021-11-18T10:54:45.997Z"
   },
   {
    "duration": 79,
    "start_time": "2021-11-18T11:04:52.603Z"
   },
   {
    "duration": 45,
    "start_time": "2021-11-18T11:05:13.606Z"
   },
   {
    "duration": 79,
    "start_time": "2021-11-18T11:06:48.650Z"
   },
   {
    "duration": 86,
    "start_time": "2021-11-18T11:07:12.149Z"
   },
   {
    "duration": 2261,
    "start_time": "2021-11-18T11:08:27.636Z"
   },
   {
    "duration": 59,
    "start_time": "2021-11-18T11:09:30.223Z"
   },
   {
    "duration": 71,
    "start_time": "2021-11-18T11:10:09.552Z"
   },
   {
    "duration": 79,
    "start_time": "2021-11-18T11:10:23.623Z"
   },
   {
    "duration": 112,
    "start_time": "2021-11-18T11:10:54.274Z"
   },
   {
    "duration": 107,
    "start_time": "2021-11-18T11:11:00.984Z"
   },
   {
    "duration": 25,
    "start_time": "2021-11-18T11:11:08.192Z"
   },
   {
    "duration": 388,
    "start_time": "2021-11-18T11:50:21.894Z"
   },
   {
    "duration": 129,
    "start_time": "2021-11-18T11:50:33.606Z"
   },
   {
    "duration": 129,
    "start_time": "2021-11-18T11:50:53.400Z"
   },
   {
    "duration": 143,
    "start_time": "2021-11-18T12:06:14.626Z"
   },
   {
    "duration": 125,
    "start_time": "2021-11-18T12:06:27.423Z"
   },
   {
    "duration": 111,
    "start_time": "2021-11-18T12:06:28.821Z"
   },
   {
    "duration": 28,
    "start_time": "2021-11-18T12:06:42.101Z"
   },
   {
    "duration": 344,
    "start_time": "2021-11-18T12:09:43.285Z"
   },
   {
    "duration": 59,
    "start_time": "2021-11-18T12:10:44.191Z"
   },
   {
    "duration": 48,
    "start_time": "2021-11-18T12:12:26.155Z"
   },
   {
    "duration": 27,
    "start_time": "2021-11-18T12:12:55.020Z"
   },
   {
    "duration": 4,
    "start_time": "2021-11-18T12:34:19.570Z"
   },
   {
    "duration": 63,
    "start_time": "2021-11-18T12:34:22.240Z"
   },
   {
    "duration": 19,
    "start_time": "2021-11-18T12:34:25.130Z"
   },
   {
    "duration": 17,
    "start_time": "2021-11-18T12:37:09.528Z"
   },
   {
    "duration": 110,
    "start_time": "2021-11-18T12:42:12.539Z"
   },
   {
    "duration": 15,
    "start_time": "2021-11-18T12:42:19.912Z"
   },
   {
    "duration": 7,
    "start_time": "2021-11-18T12:42:49.621Z"
   },
   {
    "duration": 15,
    "start_time": "2021-11-18T12:46:38.266Z"
   },
   {
    "duration": 15,
    "start_time": "2021-11-18T12:49:25.212Z"
   },
   {
    "duration": 48,
    "start_time": "2021-11-18T12:52:58.144Z"
   },
   {
    "duration": 48,
    "start_time": "2021-11-18T12:53:48.214Z"
   },
   {
    "duration": 20,
    "start_time": "2021-11-18T12:57:54.405Z"
   },
   {
    "duration": 23,
    "start_time": "2021-11-18T13:24:30.528Z"
   },
   {
    "duration": 9143,
    "start_time": "2021-11-18T14:16:57.403Z"
   },
   {
    "duration": 7977,
    "start_time": "2021-11-18T14:17:12.308Z"
   },
   {
    "duration": 11,
    "start_time": "2021-11-18T14:17:31.430Z"
   },
   {
    "duration": 42,
    "start_time": "2021-11-18T14:17:52.552Z"
   },
   {
    "duration": 42,
    "start_time": "2021-11-18T14:18:23.080Z"
   },
   {
    "duration": 330,
    "start_time": "2021-11-18T14:18:54.821Z"
   },
   {
    "duration": 57,
    "start_time": "2021-11-18T14:20:25.646Z"
   },
   {
    "duration": 36,
    "start_time": "2021-11-18T14:27:10.075Z"
   },
   {
    "duration": 17,
    "start_time": "2021-11-18T14:28:43.677Z"
   },
   {
    "duration": 356,
    "start_time": "2021-11-18T15:39:37.323Z"
   },
   {
    "duration": 8,
    "start_time": "2021-11-18T15:39:46.288Z"
   },
   {
    "duration": 9,
    "start_time": "2021-11-18T15:40:14.021Z"
   },
   {
    "duration": 17,
    "start_time": "2021-11-18T17:48:19.860Z"
   },
   {
    "duration": 17,
    "start_time": "2021-11-18T17:49:02.576Z"
   },
   {
    "duration": 18,
    "start_time": "2021-11-18T17:49:28.217Z"
   },
   {
    "duration": 4,
    "start_time": "2021-11-18T18:35:15.551Z"
   },
   {
    "duration": 61,
    "start_time": "2021-11-18T18:35:16.878Z"
   },
   {
    "duration": 18,
    "start_time": "2021-11-18T18:35:17.937Z"
   },
   {
    "duration": 14,
    "start_time": "2021-11-18T18:35:19.261Z"
   },
   {
    "duration": 50,
    "start_time": "2021-11-18T18:35:22.416Z"
   },
   {
    "duration": 16,
    "start_time": "2021-11-18T18:35:24.728Z"
   },
   {
    "duration": 18,
    "start_time": "2021-11-18T18:35:28.200Z"
   },
   {
    "duration": 15,
    "start_time": "2021-11-18T18:35:33.717Z"
   },
   {
    "duration": 731,
    "start_time": "2021-11-18T18:36:21.236Z"
   },
   {
    "duration": 67,
    "start_time": "2021-11-18T18:36:22.848Z"
   },
   {
    "duration": 29,
    "start_time": "2021-11-18T18:36:28.573Z"
   },
   {
    "duration": 15,
    "start_time": "2021-11-18T18:36:30.499Z"
   },
   {
    "duration": 47,
    "start_time": "2021-11-18T18:36:34.445Z"
   },
   {
    "duration": 15,
    "start_time": "2021-11-18T18:36:37.085Z"
   },
   {
    "duration": 13,
    "start_time": "2021-11-18T18:36:44.804Z"
   },
   {
    "duration": 261,
    "start_time": "2021-11-19T10:08:42.399Z"
   },
   {
    "duration": 603,
    "start_time": "2021-11-19T10:08:48.384Z"
   },
   {
    "duration": 49,
    "start_time": "2021-11-19T10:08:48.989Z"
   },
   {
    "duration": 20,
    "start_time": "2021-11-19T10:08:49.701Z"
   },
   {
    "duration": 11,
    "start_time": "2021-11-19T10:08:50.520Z"
   },
   {
    "duration": 34,
    "start_time": "2021-11-19T10:08:52.788Z"
   },
   {
    "duration": 12,
    "start_time": "2021-11-19T10:08:55.216Z"
   },
   {
    "duration": 5,
    "start_time": "2021-11-19T10:08:57.996Z"
   },
   {
    "duration": 5,
    "start_time": "2021-11-19T10:09:09.118Z"
   },
   {
    "duration": 5,
    "start_time": "2021-11-19T10:09:27.660Z"
   },
   {
    "duration": 5,
    "start_time": "2021-11-19T10:09:41.272Z"
   },
   {
    "duration": 5,
    "start_time": "2021-11-19T10:10:09.575Z"
   },
   {
    "duration": 5,
    "start_time": "2021-11-19T10:20:15.286Z"
   },
   {
    "duration": 5,
    "start_time": "2021-11-19T10:20:26.712Z"
   },
   {
    "duration": 6,
    "start_time": "2021-11-19T10:20:40.515Z"
   },
   {
    "duration": 5,
    "start_time": "2021-11-19T10:36:10.501Z"
   },
   {
    "duration": 5,
    "start_time": "2021-11-19T10:36:46.580Z"
   },
   {
    "duration": 5,
    "start_time": "2021-11-19T10:37:34.108Z"
   },
   {
    "duration": 6,
    "start_time": "2021-11-19T10:37:57.897Z"
   },
   {
    "duration": 6,
    "start_time": "2021-11-19T10:38:13.893Z"
   },
   {
    "duration": 4,
    "start_time": "2021-11-19T10:38:27.030Z"
   },
   {
    "duration": 5,
    "start_time": "2021-11-19T10:38:41.516Z"
   },
   {
    "duration": 5,
    "start_time": "2021-11-19T10:41:58.971Z"
   },
   {
    "duration": 4,
    "start_time": "2021-11-19T10:45:57.435Z"
   },
   {
    "duration": 21,
    "start_time": "2021-11-19T10:46:23.690Z"
   },
   {
    "duration": 12,
    "start_time": "2021-11-19T10:47:32.276Z"
   },
   {
    "duration": 216,
    "start_time": "2021-11-19T10:48:54.064Z"
   },
   {
    "duration": 9,
    "start_time": "2021-11-19T10:48:58.954Z"
   },
   {
    "duration": 52,
    "start_time": "2021-11-19T10:50:26.564Z"
   },
   {
    "duration": 51,
    "start_time": "2021-11-19T10:51:10.562Z"
   },
   {
    "duration": 57,
    "start_time": "2021-11-19T10:51:48.291Z"
   },
   {
    "duration": 54,
    "start_time": "2021-11-19T10:51:56.657Z"
   },
   {
    "duration": 45,
    "start_time": "2021-11-19T10:52:20.143Z"
   },
   {
    "duration": 49,
    "start_time": "2021-11-19T10:52:33.298Z"
   },
   {
    "duration": 40,
    "start_time": "2021-11-19T10:52:46.995Z"
   },
   {
    "duration": 47,
    "start_time": "2021-11-19T10:53:02.970Z"
   },
   {
    "duration": 35,
    "start_time": "2021-11-19T10:54:13.752Z"
   },
   {
    "duration": 43,
    "start_time": "2021-11-19T10:55:03.190Z"
   },
   {
    "duration": 37,
    "start_time": "2021-11-19T10:55:36.402Z"
   },
   {
    "duration": 45,
    "start_time": "2021-11-19T10:59:37.501Z"
   },
   {
    "duration": 179,
    "start_time": "2021-11-19T11:01:36.766Z"
   },
   {
    "duration": 174,
    "start_time": "2021-11-19T11:01:47.158Z"
   },
   {
    "duration": 180,
    "start_time": "2021-11-19T11:01:57.202Z"
   },
   {
    "duration": 178,
    "start_time": "2021-11-19T11:03:12.157Z"
   },
   {
    "duration": 60,
    "start_time": "2021-11-19T11:03:35.569Z"
   },
   {
    "duration": 55,
    "start_time": "2021-11-19T11:04:52.854Z"
   },
   {
    "duration": 57,
    "start_time": "2021-11-19T11:10:10.006Z"
   },
   {
    "duration": 57,
    "start_time": "2021-11-19T11:10:30.267Z"
   },
   {
    "duration": 13,
    "start_time": "2021-11-19T11:33:30.966Z"
   },
   {
    "duration": 23,
    "start_time": "2021-11-19T11:35:21.934Z"
   },
   {
    "duration": 4,
    "start_time": "2021-11-19T12:12:34.673Z"
   },
   {
    "duration": 4,
    "start_time": "2021-11-19T12:14:30.513Z"
   },
   {
    "duration": 7,
    "start_time": "2021-11-19T12:14:48.094Z"
   },
   {
    "duration": 5,
    "start_time": "2021-11-19T12:15:45.962Z"
   },
   {
    "duration": 6,
    "start_time": "2021-11-19T17:28:19.319Z"
   },
   {
    "duration": 185,
    "start_time": "2021-11-19T17:47:10.344Z"
   },
   {
    "duration": 186,
    "start_time": "2021-11-19T17:48:28.537Z"
   },
   {
    "duration": 209,
    "start_time": "2021-11-19T17:49:43.918Z"
   },
   {
    "duration": 19,
    "start_time": "2021-11-19T17:49:50.270Z"
   },
   {
    "duration": 21,
    "start_time": "2021-11-19T17:50:11.938Z"
   },
   {
    "duration": 16,
    "start_time": "2021-11-19T17:50:42.701Z"
   },
   {
    "duration": 4765,
    "start_time": "2021-11-19T17:51:44.273Z"
   },
   {
    "duration": 4622,
    "start_time": "2021-11-19T17:51:56.029Z"
   },
   {
    "duration": 16,
    "start_time": "2021-11-19T17:52:13.725Z"
   },
   {
    "duration": 18,
    "start_time": "2021-11-19T17:53:55.828Z"
   },
   {
    "duration": 17,
    "start_time": "2021-11-19T17:54:38.895Z"
   },
   {
    "duration": 15,
    "start_time": "2021-11-19T17:54:43.860Z"
   },
   {
    "duration": 17,
    "start_time": "2021-11-19T17:55:05.751Z"
   },
   {
    "duration": 16,
    "start_time": "2021-11-19T17:55:26.027Z"
   },
   {
    "duration": 15,
    "start_time": "2021-11-19T17:55:35.923Z"
   },
   {
    "duration": 17,
    "start_time": "2021-11-19T17:55:49.531Z"
   },
   {
    "duration": 16,
    "start_time": "2021-11-19T17:55:58.995Z"
   },
   {
    "duration": 59,
    "start_time": "2021-11-19T17:57:29.214Z"
   },
   {
    "duration": 202,
    "start_time": "2021-11-19T17:57:40.290Z"
   },
   {
    "duration": 15,
    "start_time": "2021-11-19T17:58:11.550Z"
   },
   {
    "duration": 16,
    "start_time": "2021-11-19T17:58:24.006Z"
   },
   {
    "duration": 5,
    "start_time": "2021-11-19T17:58:49.642Z"
   },
   {
    "duration": 17,
    "start_time": "2021-11-19T17:58:54.529Z"
   },
   {
    "duration": 4,
    "start_time": "2021-11-19T17:58:55.990Z"
   },
   {
    "duration": 5,
    "start_time": "2021-11-19T17:59:22.725Z"
   },
   {
    "duration": 5,
    "start_time": "2021-11-19T17:59:24.525Z"
   },
   {
    "duration": 195,
    "start_time": "2021-11-19T18:00:07.181Z"
   },
   {
    "duration": 8,
    "start_time": "2021-11-19T18:01:56.624Z"
   },
   {
    "duration": 4,
    "start_time": "2021-11-19T18:02:01.821Z"
   },
   {
    "duration": 6,
    "start_time": "2021-11-19T18:02:46.236Z"
   },
   {
    "duration": 30,
    "start_time": "2021-11-19T18:06:54.499Z"
   },
   {
    "duration": 5,
    "start_time": "2021-11-19T18:07:04.743Z"
   },
   {
    "duration": 52,
    "start_time": "2021-11-19T18:07:21.579Z"
   },
   {
    "duration": 5,
    "start_time": "2021-11-19T18:07:28.691Z"
   },
   {
    "duration": 51,
    "start_time": "2021-11-19T18:11:11.582Z"
   },
   {
    "duration": 5,
    "start_time": "2021-11-19T18:11:20.865Z"
   },
   {
    "duration": 41,
    "start_time": "2021-11-19T18:13:42.661Z"
   },
   {
    "duration": 5,
    "start_time": "2021-11-19T18:13:46.459Z"
   },
   {
    "duration": 8,
    "start_time": "2021-11-19T18:14:19.665Z"
   },
   {
    "duration": 6,
    "start_time": "2021-11-19T18:14:33.816Z"
   },
   {
    "duration": 4,
    "start_time": "2021-11-19T18:14:35.573Z"
   },
   {
    "duration": 18,
    "start_time": "2021-11-19T18:14:52.536Z"
   },
   {
    "duration": 4,
    "start_time": "2021-11-19T18:14:55.857Z"
   },
   {
    "duration": 191,
    "start_time": "2021-11-19T18:15:32.369Z"
   },
   {
    "duration": 17,
    "start_time": "2021-11-19T18:15:40.748Z"
   },
   {
    "duration": 5,
    "start_time": "2021-11-19T22:19:33.630Z"
   },
   {
    "duration": 537,
    "start_time": "2021-11-19T22:20:00.694Z"
   },
   {
    "duration": 298,
    "start_time": "2021-11-19T22:20:02.012Z"
   },
   {
    "duration": 20,
    "start_time": "2021-11-19T22:20:03.144Z"
   },
   {
    "duration": 11,
    "start_time": "2021-11-19T22:20:05.552Z"
   },
   {
    "duration": 30,
    "start_time": "2021-11-19T22:20:10.164Z"
   },
   {
    "duration": 11,
    "start_time": "2021-11-19T22:20:14.408Z"
   },
   {
    "duration": 5,
    "start_time": "2021-11-19T22:20:19.432Z"
   },
   {
    "duration": 5,
    "start_time": "2021-11-19T22:20:24.258Z"
   },
   {
    "duration": 5,
    "start_time": "2021-11-19T22:20:26.907Z"
   },
   {
    "duration": 6,
    "start_time": "2021-11-19T22:20:31.675Z"
   },
   {
    "duration": 17,
    "start_time": "2021-11-19T22:20:42.380Z"
   },
   {
    "duration": 5,
    "start_time": "2021-11-19T22:20:43.908Z"
   },
   {
    "duration": 5,
    "start_time": "2021-11-19T22:21:16.180Z"
   },
   {
    "duration": 617,
    "start_time": "2021-11-20T11:57:19.816Z"
   },
   {
    "duration": 49,
    "start_time": "2021-11-20T11:57:20.636Z"
   },
   {
    "duration": 25,
    "start_time": "2021-11-20T11:57:21.513Z"
   },
   {
    "duration": 17,
    "start_time": "2021-11-20T11:57:23.745Z"
   },
   {
    "duration": 40,
    "start_time": "2021-11-20T11:57:26.636Z"
   },
   {
    "duration": 10,
    "start_time": "2021-11-20T11:57:28.817Z"
   },
   {
    "duration": 4,
    "start_time": "2021-11-20T11:57:34.545Z"
   },
   {
    "duration": 5,
    "start_time": "2021-11-20T11:57:36.413Z"
   },
   {
    "duration": 5,
    "start_time": "2021-11-20T11:57:38.092Z"
   },
   {
    "duration": 6,
    "start_time": "2021-11-20T11:57:49.664Z"
   },
   {
    "duration": 19,
    "start_time": "2021-11-20T11:57:55.313Z"
   },
   {
    "duration": 6,
    "start_time": "2021-11-20T11:57:57.648Z"
   },
   {
    "duration": 16,
    "start_time": "2021-11-20T12:00:43.982Z"
   },
   {
    "duration": 17,
    "start_time": "2021-11-20T12:01:18.416Z"
   },
   {
    "duration": 557,
    "start_time": "2021-11-20T12:01:49.959Z"
   },
   {
    "duration": 50,
    "start_time": "2021-11-20T12:01:51.451Z"
   },
   {
    "duration": 18,
    "start_time": "2021-11-20T12:01:52.463Z"
   },
   {
    "duration": 11,
    "start_time": "2021-11-20T12:01:53.710Z"
   },
   {
    "duration": 31,
    "start_time": "2021-11-20T12:01:56.651Z"
   },
   {
    "duration": 10,
    "start_time": "2021-11-20T12:02:01.804Z"
   },
   {
    "duration": 5,
    "start_time": "2021-11-20T12:02:08.195Z"
   },
   {
    "duration": 5,
    "start_time": "2021-11-20T12:02:09.622Z"
   },
   {
    "duration": 4,
    "start_time": "2021-11-20T12:02:10.607Z"
   },
   {
    "duration": 5,
    "start_time": "2021-11-20T12:02:14.079Z"
   },
   {
    "duration": 16,
    "start_time": "2021-11-20T12:02:16.863Z"
   },
   {
    "duration": 5,
    "start_time": "2021-11-20T12:02:18.603Z"
   },
   {
    "duration": 6,
    "start_time": "2021-11-20T12:04:20.623Z"
   },
   {
    "duration": 461,
    "start_time": "2021-11-20T12:04:58.178Z"
   },
   {
    "duration": 373,
    "start_time": "2021-11-20T12:05:07.336Z"
   },
   {
    "duration": 35,
    "start_time": "2021-11-20T12:05:24.839Z"
   },
   {
    "duration": 42,
    "start_time": "2021-11-20T12:06:27.379Z"
   },
   {
    "duration": 257,
    "start_time": "2021-11-20T12:07:50.947Z"
   },
   {
    "duration": 38,
    "start_time": "2021-11-20T12:08:04.891Z"
   },
   {
    "duration": 4821,
    "start_time": "2021-11-20T12:15:56.633Z"
   },
   {
    "duration": 6,
    "start_time": "2021-11-20T12:16:50.658Z"
   },
   {
    "duration": 12,
    "start_time": "2021-11-20T12:17:08.694Z"
   },
   {
    "duration": 939,
    "start_time": "2021-11-20T12:17:44.009Z"
   },
   {
    "duration": 10,
    "start_time": "2021-11-20T12:18:02.173Z"
   },
   {
    "duration": 11,
    "start_time": "2021-11-20T12:19:54.937Z"
   },
   {
    "duration": 599,
    "start_time": "2021-11-20T12:34:24.749Z"
   },
   {
    "duration": 51,
    "start_time": "2021-11-20T12:34:25.997Z"
   },
   {
    "duration": 19,
    "start_time": "2021-11-20T12:34:27.285Z"
   },
   {
    "duration": 11,
    "start_time": "2021-11-20T12:34:29.205Z"
   },
   {
    "duration": 31,
    "start_time": "2021-11-20T12:34:31.161Z"
   },
   {
    "duration": 10,
    "start_time": "2021-11-20T12:34:33.117Z"
   },
   {
    "duration": 5,
    "start_time": "2021-11-20T12:34:36.205Z"
   },
   {
    "duration": 5,
    "start_time": "2021-11-20T12:34:38.945Z"
   },
   {
    "duration": 4,
    "start_time": "2021-11-20T12:34:39.841Z"
   },
   {
    "duration": 5,
    "start_time": "2021-11-20T12:34:43.349Z"
   },
   {
    "duration": 4,
    "start_time": "2021-11-20T12:34:46.853Z"
   },
   {
    "duration": 43,
    "start_time": "2021-11-20T12:34:48.417Z"
   },
   {
    "duration": 10,
    "start_time": "2021-11-20T12:34:50.105Z"
   },
   {
    "duration": 9,
    "start_time": "2021-11-20T12:35:53.365Z"
   },
   {
    "duration": 9,
    "start_time": "2021-11-20T12:37:02.204Z"
   },
   {
    "duration": 5,
    "start_time": "2021-11-20T12:38:53.952Z"
   },
   {
    "duration": 8,
    "start_time": "2021-11-20T12:39:25.508Z"
   },
   {
    "duration": 14,
    "start_time": "2021-11-20T13:43:32.771Z"
   },
   {
    "duration": 25,
    "start_time": "2021-11-20T13:43:48.791Z"
   },
   {
    "duration": 33,
    "start_time": "2021-11-20T13:44:22.459Z"
   },
   {
    "duration": 603,
    "start_time": "2021-11-20T13:45:23.878Z"
   },
   {
    "duration": 53,
    "start_time": "2021-11-20T13:45:25.111Z"
   },
   {
    "duration": 19,
    "start_time": "2021-11-20T13:45:26.055Z"
   },
   {
    "duration": 12,
    "start_time": "2021-11-20T13:45:26.927Z"
   },
   {
    "duration": 32,
    "start_time": "2021-11-20T13:45:28.548Z"
   },
   {
    "duration": 11,
    "start_time": "2021-11-20T13:45:29.871Z"
   },
   {
    "duration": 5,
    "start_time": "2021-11-20T13:45:31.919Z"
   },
   {
    "duration": 5,
    "start_time": "2021-11-20T13:45:33.007Z"
   },
   {
    "duration": 5,
    "start_time": "2021-11-20T13:45:33.591Z"
   },
   {
    "duration": 6,
    "start_time": "2021-11-20T13:45:35.019Z"
   },
   {
    "duration": 4,
    "start_time": "2021-11-20T13:45:37.871Z"
   },
   {
    "duration": 41,
    "start_time": "2021-11-20T13:45:38.855Z"
   },
   {
    "duration": 9,
    "start_time": "2021-11-20T13:45:45.454Z"
   },
   {
    "duration": 5,
    "start_time": "2021-11-20T13:45:47.467Z"
   },
   {
    "duration": 10,
    "start_time": "2021-11-20T13:45:51.119Z"
   },
   {
    "duration": 36,
    "start_time": "2021-11-20T13:45:56.952Z"
   },
   {
    "duration": 20,
    "start_time": "2021-11-20T13:47:04.483Z"
   },
   {
    "duration": 637,
    "start_time": "2021-11-20T13:48:22.007Z"
   },
   {
    "duration": 53,
    "start_time": "2021-11-20T13:48:22.646Z"
   },
   {
    "duration": 20,
    "start_time": "2021-11-20T13:48:23.323Z"
   },
   {
    "duration": 11,
    "start_time": "2021-11-20T13:48:23.880Z"
   },
   {
    "duration": 32,
    "start_time": "2021-11-20T13:48:25.020Z"
   },
   {
    "duration": 10,
    "start_time": "2021-11-20T13:48:26.091Z"
   },
   {
    "duration": 5,
    "start_time": "2021-11-20T13:48:28.180Z"
   },
   {
    "duration": 6,
    "start_time": "2021-11-20T13:48:29.279Z"
   },
   {
    "duration": 5,
    "start_time": "2021-11-20T13:48:29.775Z"
   },
   {
    "duration": 5,
    "start_time": "2021-11-20T13:48:31.000Z"
   },
   {
    "duration": 5,
    "start_time": "2021-11-20T13:48:33.519Z"
   },
   {
    "duration": 42,
    "start_time": "2021-11-20T13:48:34.396Z"
   },
   {
    "duration": 8,
    "start_time": "2021-11-20T13:48:36.320Z"
   },
   {
    "duration": 5,
    "start_time": "2021-11-20T13:48:36.999Z"
   },
   {
    "duration": 6,
    "start_time": "2021-11-20T13:48:39.639Z"
   },
   {
    "duration": 78,
    "start_time": "2021-11-20T13:49:08.579Z"
   },
   {
    "duration": 99,
    "start_time": "2021-11-20T13:50:15.647Z"
   },
   {
    "duration": 36,
    "start_time": "2021-11-20T13:50:31.155Z"
   },
   {
    "duration": 636,
    "start_time": "2021-11-20T13:51:38.439Z"
   },
   {
    "duration": 34,
    "start_time": "2021-11-20T13:52:28.795Z"
   },
   {
    "duration": 34,
    "start_time": "2021-11-20T13:52:34.543Z"
   },
   {
    "duration": 585,
    "start_time": "2021-11-20T13:52:57.438Z"
   },
   {
    "duration": 50,
    "start_time": "2021-11-20T13:52:58.646Z"
   },
   {
    "duration": 20,
    "start_time": "2021-11-20T13:52:59.466Z"
   },
   {
    "duration": 10,
    "start_time": "2021-11-20T13:53:00.359Z"
   },
   {
    "duration": 31,
    "start_time": "2021-11-20T13:53:01.803Z"
   },
   {
    "duration": 11,
    "start_time": "2021-11-20T13:53:03.322Z"
   },
   {
    "duration": 5,
    "start_time": "2021-11-20T13:53:06.114Z"
   },
   {
    "duration": 5,
    "start_time": "2021-11-20T13:53:07.223Z"
   },
   {
    "duration": 4,
    "start_time": "2021-11-20T13:53:07.707Z"
   },
   {
    "duration": 5,
    "start_time": "2021-11-20T13:53:08.851Z"
   },
   {
    "duration": 5,
    "start_time": "2021-11-20T13:53:12.513Z"
   },
   {
    "duration": 41,
    "start_time": "2021-11-20T13:53:16.710Z"
   },
   {
    "duration": 7,
    "start_time": "2021-11-20T13:53:19.207Z"
   },
   {
    "duration": 5,
    "start_time": "2021-11-20T13:53:25.495Z"
   },
   {
    "duration": 28,
    "start_time": "2021-11-20T13:53:29.431Z"
   },
   {
    "duration": 14,
    "start_time": "2021-11-20T13:53:58.727Z"
   },
   {
    "duration": 17,
    "start_time": "2021-11-20T13:54:04.898Z"
   },
   {
    "duration": 27,
    "start_time": "2021-11-20T14:01:36.924Z"
   },
   {
    "duration": 311,
    "start_time": "2021-11-20T14:01:52.346Z"
   },
   {
    "duration": 37,
    "start_time": "2021-11-20T14:02:15.930Z"
   },
   {
    "duration": 535,
    "start_time": "2021-11-20T14:05:17.090Z"
   },
   {
    "duration": 53,
    "start_time": "2021-11-20T14:05:18.425Z"
   },
   {
    "duration": 19,
    "start_time": "2021-11-20T14:05:19.309Z"
   },
   {
    "duration": 12,
    "start_time": "2021-11-20T14:05:20.208Z"
   },
   {
    "duration": 32,
    "start_time": "2021-11-20T14:05:21.793Z"
   },
   {
    "duration": 10,
    "start_time": "2021-11-20T14:05:23.238Z"
   },
   {
    "duration": 5,
    "start_time": "2021-11-20T14:05:31.708Z"
   },
   {
    "duration": 5,
    "start_time": "2021-11-20T14:05:35.062Z"
   },
   {
    "duration": 5,
    "start_time": "2021-11-20T14:05:36.633Z"
   },
   {
    "duration": 7,
    "start_time": "2021-11-20T14:05:39.933Z"
   },
   {
    "duration": 5,
    "start_time": "2021-11-20T14:05:54.335Z"
   },
   {
    "duration": 43,
    "start_time": "2021-11-20T14:05:55.153Z"
   },
   {
    "duration": 8,
    "start_time": "2021-11-20T14:06:00.713Z"
   },
   {
    "duration": 4,
    "start_time": "2021-11-20T14:06:07.250Z"
   },
   {
    "duration": 8,
    "start_time": "2021-11-20T14:06:17.013Z"
   },
   {
    "duration": 41,
    "start_time": "2021-11-20T14:06:19.493Z"
   },
   {
    "duration": 603,
    "start_time": "2021-11-20T14:07:40.241Z"
   },
   {
    "duration": 51,
    "start_time": "2021-11-20T14:07:40.846Z"
   },
   {
    "duration": 20,
    "start_time": "2021-11-20T14:07:41.201Z"
   },
   {
    "duration": 13,
    "start_time": "2021-11-20T14:07:41.626Z"
   },
   {
    "duration": 32,
    "start_time": "2021-11-20T14:07:42.704Z"
   },
   {
    "duration": 12,
    "start_time": "2021-11-20T14:07:43.750Z"
   },
   {
    "duration": 5,
    "start_time": "2021-11-20T14:07:45.806Z"
   },
   {
    "duration": 6,
    "start_time": "2021-11-20T14:07:46.981Z"
   },
   {
    "duration": 5,
    "start_time": "2021-11-20T14:07:47.914Z"
   },
   {
    "duration": 7,
    "start_time": "2021-11-20T14:07:49.480Z"
   },
   {
    "duration": 5,
    "start_time": "2021-11-20T14:07:52.508Z"
   },
   {
    "duration": 53,
    "start_time": "2021-11-20T14:07:54.229Z"
   },
   {
    "duration": 9,
    "start_time": "2021-11-20T14:07:55.643Z"
   },
   {
    "duration": 5,
    "start_time": "2021-11-20T14:07:58.903Z"
   },
   {
    "duration": 8,
    "start_time": "2021-11-20T14:08:37.829Z"
   },
   {
    "duration": 5,
    "start_time": "2021-11-20T14:08:38.422Z"
   },
   {
    "duration": 7,
    "start_time": "2021-11-20T14:08:38.922Z"
   },
   {
    "duration": 39,
    "start_time": "2021-11-20T14:08:41.157Z"
   },
   {
    "duration": 337,
    "start_time": "2021-11-20T16:10:50.903Z"
   },
   {
    "duration": 6,
    "start_time": "2021-11-20T16:10:56.619Z"
   },
   {
    "duration": 255,
    "start_time": "2021-11-20T16:19:29.178Z"
   },
   {
    "duration": 279,
    "start_time": "2021-11-20T16:20:15.402Z"
   },
   {
    "duration": 262,
    "start_time": "2021-11-20T16:20:45.778Z"
   },
   {
    "duration": 250,
    "start_time": "2021-11-20T16:22:16.478Z"
   },
   {
    "duration": 15,
    "start_time": "2021-11-20T16:27:34.421Z"
   },
   {
    "duration": 18,
    "start_time": "2021-11-20T16:28:19.189Z"
   },
   {
    "duration": 17,
    "start_time": "2021-11-20T16:28:30.182Z"
   },
   {
    "duration": 641,
    "start_time": "2021-11-20T17:17:26.777Z"
   },
   {
    "duration": 59,
    "start_time": "2021-11-20T17:17:28.009Z"
   },
   {
    "duration": 20,
    "start_time": "2021-11-20T17:17:29.073Z"
   },
   {
    "duration": 12,
    "start_time": "2021-11-20T17:17:30.109Z"
   },
   {
    "duration": 33,
    "start_time": "2021-11-20T17:17:31.665Z"
   },
   {
    "duration": 11,
    "start_time": "2021-11-20T17:17:33.097Z"
   },
   {
    "duration": 6,
    "start_time": "2021-11-20T17:17:35.633Z"
   },
   {
    "duration": 6,
    "start_time": "2021-11-20T17:17:36.856Z"
   },
   {
    "duration": 4,
    "start_time": "2021-11-20T17:17:37.476Z"
   },
   {
    "duration": 8,
    "start_time": "2021-11-20T17:17:38.845Z"
   },
   {
    "duration": 5,
    "start_time": "2021-11-20T17:17:42.585Z"
   },
   {
    "duration": 48,
    "start_time": "2021-11-20T17:17:44.741Z"
   },
   {
    "duration": 9,
    "start_time": "2021-11-20T17:17:49.325Z"
   },
   {
    "duration": 8,
    "start_time": "2021-11-20T17:18:24.573Z"
   },
   {
    "duration": 367,
    "start_time": "2021-11-20T19:02:46.532Z"
   },
   {
    "duration": 604,
    "start_time": "2021-11-20T19:03:10.652Z"
   },
   {
    "duration": 54,
    "start_time": "2021-11-20T19:03:11.512Z"
   },
   {
    "duration": 20,
    "start_time": "2021-11-20T19:03:12.497Z"
   },
   {
    "duration": 12,
    "start_time": "2021-11-20T19:03:13.368Z"
   },
   {
    "duration": 39,
    "start_time": "2021-11-20T19:03:15.095Z"
   },
   {
    "duration": 10,
    "start_time": "2021-11-20T19:03:16.857Z"
   },
   {
    "duration": 5,
    "start_time": "2021-11-20T19:03:21.132Z"
   },
   {
    "duration": 6,
    "start_time": "2021-11-20T19:03:23.272Z"
   },
   {
    "duration": 5,
    "start_time": "2021-11-20T19:03:24.223Z"
   },
   {
    "duration": 6,
    "start_time": "2021-11-20T19:03:26.755Z"
   },
   {
    "duration": 7,
    "start_time": "2021-11-20T19:03:30.085Z"
   },
   {
    "duration": 67,
    "start_time": "2021-11-20T19:03:31.072Z"
   },
   {
    "duration": 11,
    "start_time": "2021-11-20T19:03:32.701Z"
   },
   {
    "duration": 5,
    "start_time": "2021-11-20T19:03:34.468Z"
   },
   {
    "duration": 8,
    "start_time": "2021-11-20T19:03:35.592Z"
   },
   {
    "duration": 11,
    "start_time": "2021-11-20T19:03:42.339Z"
   },
   {
    "duration": 6,
    "start_time": "2021-11-20T19:03:43.741Z"
   },
   {
    "duration": 7,
    "start_time": "2021-11-20T19:04:06.516Z"
   },
   {
    "duration": 595,
    "start_time": "2021-11-20T19:09:24.692Z"
   },
   {
    "duration": 54,
    "start_time": "2021-11-20T19:09:25.829Z"
   },
   {
    "duration": 20,
    "start_time": "2021-11-20T19:09:26.885Z"
   },
   {
    "duration": 11,
    "start_time": "2021-11-20T19:09:28.809Z"
   },
   {
    "duration": 33,
    "start_time": "2021-11-20T19:09:31.221Z"
   },
   {
    "duration": 11,
    "start_time": "2021-11-20T19:09:33.361Z"
   },
   {
    "duration": 5,
    "start_time": "2021-11-20T19:09:36.296Z"
   },
   {
    "duration": 6,
    "start_time": "2021-11-20T19:09:37.648Z"
   },
   {
    "duration": 6,
    "start_time": "2021-11-20T19:09:38.468Z"
   },
   {
    "duration": 5,
    "start_time": "2021-11-20T19:09:40.433Z"
   },
   {
    "duration": 6,
    "start_time": "2021-11-20T19:09:45.140Z"
   },
   {
    "duration": 314,
    "start_time": "2021-11-20T19:09:48.473Z"
   },
   {
    "duration": 40,
    "start_time": "2021-11-20T19:09:56.885Z"
   },
   {
    "duration": 288,
    "start_time": "2021-11-20T19:09:59.801Z"
   },
   {
    "duration": 8,
    "start_time": "2021-11-20T19:10:08.720Z"
   },
   {
    "duration": 5,
    "start_time": "2021-11-20T19:10:11.380Z"
   },
   {
    "duration": 7,
    "start_time": "2021-11-20T19:10:12.325Z"
   },
   {
    "duration": 267,
    "start_time": "2021-11-20T19:10:16.273Z"
   },
   {
    "duration": 11,
    "start_time": "2021-11-20T19:10:21.697Z"
   },
   {
    "duration": 7,
    "start_time": "2021-11-20T19:10:26.228Z"
   },
   {
    "duration": 7,
    "start_time": "2021-11-20T19:10:32.225Z"
   },
   {
    "duration": 18,
    "start_time": "2021-11-20T19:10:54.500Z"
   },
   {
    "duration": 656,
    "start_time": "2021-11-20T19:11:20.225Z"
   },
   {
    "duration": 52,
    "start_time": "2021-11-20T19:11:20.884Z"
   },
   {
    "duration": 21,
    "start_time": "2021-11-20T19:11:21.317Z"
   },
   {
    "duration": 18,
    "start_time": "2021-11-20T19:11:21.713Z"
   },
   {
    "duration": 35,
    "start_time": "2021-11-20T19:11:22.580Z"
   },
   {
    "duration": 12,
    "start_time": "2021-11-20T19:11:23.600Z"
   },
   {
    "duration": 5,
    "start_time": "2021-11-20T19:11:25.521Z"
   },
   {
    "duration": 5,
    "start_time": "2021-11-20T19:11:26.568Z"
   },
   {
    "duration": 5,
    "start_time": "2021-11-20T19:11:27.109Z"
   },
   {
    "duration": 5,
    "start_time": "2021-11-20T19:11:28.269Z"
   },
   {
    "duration": 5,
    "start_time": "2021-11-20T19:11:31.008Z"
   },
   {
    "duration": 45,
    "start_time": "2021-11-20T19:11:31.894Z"
   },
   {
    "duration": 8,
    "start_time": "2021-11-20T19:11:32.852Z"
   },
   {
    "duration": 4,
    "start_time": "2021-11-20T19:11:33.489Z"
   },
   {
    "duration": 7,
    "start_time": "2021-11-20T19:11:34.161Z"
   },
   {
    "duration": 11,
    "start_time": "2021-11-20T19:11:36.465Z"
   },
   {
    "duration": 6,
    "start_time": "2021-11-20T19:11:37.413Z"
   },
   {
    "duration": 6,
    "start_time": "2021-11-20T19:11:38.993Z"
   },
   {
    "duration": 14,
    "start_time": "2021-11-20T19:11:40.093Z"
   },
   {
    "duration": 16,
    "start_time": "2021-11-20T19:11:51.885Z"
   },
   {
    "duration": 316,
    "start_time": "2021-11-20T19:26:43.199Z"
   },
   {
    "duration": 14,
    "start_time": "2021-11-20T19:27:11.779Z"
   },
   {
    "duration": 645,
    "start_time": "2021-11-20T19:27:29.783Z"
   },
   {
    "duration": 17,
    "start_time": "2021-11-20T19:27:51.807Z"
   },
   {
    "duration": 561,
    "start_time": "2021-11-20T19:28:35.665Z"
   },
   {
    "duration": 50,
    "start_time": "2021-11-20T19:28:36.778Z"
   },
   {
    "duration": 19,
    "start_time": "2021-11-20T19:28:37.637Z"
   },
   {
    "duration": 13,
    "start_time": "2021-11-20T19:28:38.525Z"
   },
   {
    "duration": 34,
    "start_time": "2021-11-20T19:28:40.585Z"
   },
   {
    "duration": 11,
    "start_time": "2021-11-20T19:28:42.189Z"
   },
   {
    "duration": 5,
    "start_time": "2021-11-20T19:28:44.909Z"
   },
   {
    "duration": 5,
    "start_time": "2021-11-20T19:28:46.273Z"
   },
   {
    "duration": 5,
    "start_time": "2021-11-20T19:28:47.333Z"
   },
   {
    "duration": 5,
    "start_time": "2021-11-20T19:28:49.317Z"
   },
   {
    "duration": 4,
    "start_time": "2021-11-20T19:28:52.145Z"
   },
   {
    "duration": 41,
    "start_time": "2021-11-20T19:28:55.369Z"
   },
   {
    "duration": 7,
    "start_time": "2021-11-20T19:28:56.153Z"
   },
   {
    "duration": 5,
    "start_time": "2021-11-20T19:28:56.948Z"
   },
   {
    "duration": 7,
    "start_time": "2021-11-20T19:28:57.933Z"
   },
   {
    "duration": 11,
    "start_time": "2021-11-20T19:29:03.501Z"
   },
   {
    "duration": 5,
    "start_time": "2021-11-20T19:29:04.517Z"
   },
   {
    "duration": 5,
    "start_time": "2021-11-20T19:29:06.309Z"
   },
   {
    "duration": 15,
    "start_time": "2021-11-20T19:29:09.961Z"
   },
   {
    "duration": 17,
    "start_time": "2021-11-20T19:29:11.105Z"
   },
   {
    "duration": 23,
    "start_time": "2021-11-20T19:46:40.791Z"
   },
   {
    "duration": 49,
    "start_time": "2021-11-20T19:47:21.687Z"
   },
   {
    "duration": 1793,
    "start_time": "2021-11-20T19:50:28.554Z"
   },
   {
    "duration": 6,
    "start_time": "2021-11-20T19:51:19.355Z"
   },
   {
    "duration": 9,
    "start_time": "2021-11-20T20:09:27.821Z"
   },
   {
    "duration": 18,
    "start_time": "2021-11-20T20:10:45.253Z"
   },
   {
    "duration": 31,
    "start_time": "2021-11-20T20:11:22.989Z"
   },
   {
    "duration": 22,
    "start_time": "2021-11-20T20:12:27.589Z"
   },
   {
    "duration": 32,
    "start_time": "2021-11-20T20:12:32.749Z"
   },
   {
    "duration": 634,
    "start_time": "2021-11-20T20:13:01.038Z"
   },
   {
    "duration": 55,
    "start_time": "2021-11-20T20:13:02.258Z"
   },
   {
    "duration": 20,
    "start_time": "2021-11-20T20:13:03.478Z"
   },
   {
    "duration": 13,
    "start_time": "2021-11-20T20:13:04.454Z"
   },
   {
    "duration": 33,
    "start_time": "2021-11-20T20:13:06.370Z"
   },
   {
    "duration": 12,
    "start_time": "2021-11-20T20:13:08.022Z"
   },
   {
    "duration": 5,
    "start_time": "2021-11-20T20:13:10.990Z"
   },
   {
    "duration": 6,
    "start_time": "2021-11-20T20:13:12.366Z"
   },
   {
    "duration": 5,
    "start_time": "2021-11-20T20:13:13.058Z"
   },
   {
    "duration": 6,
    "start_time": "2021-11-20T20:13:14.462Z"
   },
   {
    "duration": 5,
    "start_time": "2021-11-20T20:13:17.992Z"
   },
   {
    "duration": 43,
    "start_time": "2021-11-20T20:13:18.782Z"
   },
   {
    "duration": 11,
    "start_time": "2021-11-20T20:13:19.675Z"
   },
   {
    "duration": 6,
    "start_time": "2021-11-20T20:13:20.634Z"
   },
   {
    "duration": 8,
    "start_time": "2021-11-20T20:13:21.334Z"
   },
   {
    "duration": 12,
    "start_time": "2021-11-20T20:13:24.042Z"
   },
   {
    "duration": 6,
    "start_time": "2021-11-20T20:13:24.814Z"
   },
   {
    "duration": 6,
    "start_time": "2021-11-20T20:13:25.642Z"
   },
   {
    "duration": 17,
    "start_time": "2021-11-20T20:13:26.594Z"
   },
   {
    "duration": 21,
    "start_time": "2021-11-20T20:13:27.354Z"
   },
   {
    "duration": 7,
    "start_time": "2021-11-20T20:13:28.194Z"
   },
   {
    "duration": 23,
    "start_time": "2021-11-20T20:13:29.518Z"
   },
   {
    "duration": 32,
    "start_time": "2021-11-20T20:13:31.506Z"
   },
   {
    "duration": 19,
    "start_time": "2021-11-20T20:14:40.114Z"
   },
   {
    "duration": 31,
    "start_time": "2021-11-20T20:14:43.282Z"
   },
   {
    "duration": 627,
    "start_time": "2021-11-20T20:15:38.058Z"
   },
   {
    "duration": 53,
    "start_time": "2021-11-20T20:15:38.687Z"
   },
   {
    "duration": 20,
    "start_time": "2021-11-20T20:15:38.742Z"
   },
   {
    "duration": 12,
    "start_time": "2021-11-20T20:15:38.764Z"
   },
   {
    "duration": 47,
    "start_time": "2021-11-20T20:15:38.777Z"
   },
   {
    "duration": 32,
    "start_time": "2021-11-20T20:15:38.827Z"
   },
   {
    "duration": 4,
    "start_time": "2021-11-20T20:15:38.861Z"
   },
   {
    "duration": 5,
    "start_time": "2021-11-20T20:15:38.868Z"
   },
   {
    "duration": 5,
    "start_time": "2021-11-20T20:15:38.874Z"
   },
   {
    "duration": 6,
    "start_time": "2021-11-20T20:15:38.881Z"
   },
   {
    "duration": 5,
    "start_time": "2021-11-20T20:15:38.889Z"
   },
   {
    "duration": 81,
    "start_time": "2021-11-20T20:15:38.895Z"
   },
   {
    "duration": 7,
    "start_time": "2021-11-20T20:15:38.978Z"
   },
   {
    "duration": 5,
    "start_time": "2021-11-20T20:15:38.986Z"
   },
   {
    "duration": 7,
    "start_time": "2021-11-20T20:15:38.992Z"
   },
   {
    "duration": 48,
    "start_time": "2021-11-20T20:15:39.001Z"
   },
   {
    "duration": 5,
    "start_time": "2021-11-20T20:15:39.051Z"
   },
   {
    "duration": 9,
    "start_time": "2021-11-20T20:15:39.058Z"
   },
   {
    "duration": 26,
    "start_time": "2021-11-20T20:15:39.069Z"
   },
   {
    "duration": 21,
    "start_time": "2021-11-20T20:15:39.097Z"
   },
   {
    "duration": 29,
    "start_time": "2021-11-20T20:15:39.120Z"
   },
   {
    "duration": 20,
    "start_time": "2021-11-20T20:15:39.151Z"
   },
   {
    "duration": 31,
    "start_time": "2021-11-20T20:15:39.174Z"
   },
   {
    "duration": 12,
    "start_time": "2021-11-20T20:17:06.453Z"
   },
   {
    "duration": 19,
    "start_time": "2021-11-20T20:20:06.173Z"
   },
   {
    "duration": 30,
    "start_time": "2021-11-20T20:20:08.225Z"
   },
   {
    "duration": 11,
    "start_time": "2021-11-20T20:20:14.289Z"
   },
   {
    "duration": 27,
    "start_time": "2021-11-20T20:20:18.933Z"
   },
   {
    "duration": 30,
    "start_time": "2021-11-20T20:20:19.821Z"
   },
   {
    "duration": 12,
    "start_time": "2021-11-20T20:20:22.633Z"
   },
   {
    "duration": 614,
    "start_time": "2021-11-20T20:20:31.331Z"
   },
   {
    "duration": 55,
    "start_time": "2021-11-20T20:20:31.947Z"
   },
   {
    "duration": 19,
    "start_time": "2021-11-20T20:20:32.004Z"
   },
   {
    "duration": 14,
    "start_time": "2021-11-20T20:20:32.025Z"
   },
   {
    "duration": 42,
    "start_time": "2021-11-20T20:20:32.044Z"
   },
   {
    "duration": 11,
    "start_time": "2021-11-20T20:20:32.087Z"
   },
   {
    "duration": 16,
    "start_time": "2021-11-20T20:20:32.100Z"
   },
   {
    "duration": 29,
    "start_time": "2021-11-20T20:20:32.119Z"
   },
   {
    "duration": 9,
    "start_time": "2021-11-20T20:20:32.151Z"
   },
   {
    "duration": 20,
    "start_time": "2021-11-20T20:20:32.162Z"
   },
   {
    "duration": 23,
    "start_time": "2021-11-20T20:20:32.184Z"
   },
   {
    "duration": 81,
    "start_time": "2021-11-20T20:20:32.210Z"
   },
   {
    "duration": 10,
    "start_time": "2021-11-20T20:20:32.293Z"
   },
   {
    "duration": 17,
    "start_time": "2021-11-20T20:20:32.305Z"
   },
   {
    "duration": 15,
    "start_time": "2021-11-20T20:20:32.325Z"
   },
   {
    "duration": 18,
    "start_time": "2021-11-20T20:20:32.344Z"
   },
   {
    "duration": 5,
    "start_time": "2021-11-20T20:20:32.364Z"
   },
   {
    "duration": 19,
    "start_time": "2021-11-20T20:20:32.371Z"
   },
   {
    "duration": 24,
    "start_time": "2021-11-20T20:20:32.392Z"
   },
   {
    "duration": 35,
    "start_time": "2021-11-20T20:20:32.418Z"
   },
   {
    "duration": 22,
    "start_time": "2021-11-20T20:20:32.454Z"
   },
   {
    "duration": 23,
    "start_time": "2021-11-20T20:20:32.477Z"
   },
   {
    "duration": 29,
    "start_time": "2021-11-20T20:20:32.504Z"
   },
   {
    "duration": 12,
    "start_time": "2021-11-20T20:20:32.535Z"
   },
   {
    "duration": 12,
    "start_time": "2021-11-20T20:20:58.602Z"
   },
   {
    "duration": 16,
    "start_time": "2021-11-20T20:24:14.794Z"
   },
   {
    "duration": 77,
    "start_time": "2021-11-20T20:27:52.558Z"
   },
   {
    "duration": 16,
    "start_time": "2021-11-20T20:28:06.525Z"
   },
   {
    "duration": 27,
    "start_time": "2021-11-20T20:28:07.465Z"
   },
   {
    "duration": 28,
    "start_time": "2021-11-20T20:28:40.845Z"
   },
   {
    "duration": 29,
    "start_time": "2021-11-20T20:29:59.534Z"
   },
   {
    "duration": 16,
    "start_time": "2021-11-20T20:30:14.873Z"
   },
   {
    "duration": 19,
    "start_time": "2021-11-20T20:30:46.662Z"
   },
   {
    "duration": 16,
    "start_time": "2021-11-20T20:30:50.202Z"
   },
   {
    "duration": 15,
    "start_time": "2021-11-20T20:31:07.670Z"
   },
   {
    "duration": 299,
    "start_time": "2021-11-20T20:31:15.340Z"
   },
   {
    "duration": 638,
    "start_time": "2021-11-20T20:31:26.335Z"
   },
   {
    "duration": 55,
    "start_time": "2021-11-20T20:31:26.975Z"
   },
   {
    "duration": 19,
    "start_time": "2021-11-20T20:31:27.032Z"
   },
   {
    "duration": 12,
    "start_time": "2021-11-20T20:31:27.054Z"
   },
   {
    "duration": 33,
    "start_time": "2021-11-20T20:31:27.068Z"
   },
   {
    "duration": 11,
    "start_time": "2021-11-20T20:31:27.103Z"
   },
   {
    "duration": 31,
    "start_time": "2021-11-20T20:31:27.116Z"
   },
   {
    "duration": 6,
    "start_time": "2021-11-20T20:31:27.149Z"
   },
   {
    "duration": 6,
    "start_time": "2021-11-20T20:31:27.158Z"
   },
   {
    "duration": 7,
    "start_time": "2021-11-20T20:31:27.166Z"
   },
   {
    "duration": 4,
    "start_time": "2021-11-20T20:31:27.175Z"
   },
   {
    "duration": 79,
    "start_time": "2021-11-20T20:31:27.181Z"
   },
   {
    "duration": 9,
    "start_time": "2021-11-20T20:31:27.261Z"
   },
   {
    "duration": 15,
    "start_time": "2021-11-20T20:31:27.272Z"
   },
   {
    "duration": 18,
    "start_time": "2021-11-20T20:31:27.290Z"
   },
   {
    "duration": 23,
    "start_time": "2021-11-20T20:31:27.310Z"
   },
   {
    "duration": 12,
    "start_time": "2021-11-20T20:31:27.335Z"
   },
   {
    "duration": 17,
    "start_time": "2021-11-20T20:31:27.349Z"
   },
   {
    "duration": 34,
    "start_time": "2021-11-20T20:31:27.368Z"
   },
   {
    "duration": 24,
    "start_time": "2021-11-20T20:31:27.404Z"
   },
   {
    "duration": 14,
    "start_time": "2021-11-20T20:31:27.430Z"
   },
   {
    "duration": 29,
    "start_time": "2021-11-20T20:31:27.445Z"
   },
   {
    "duration": 29,
    "start_time": "2021-11-20T20:31:27.476Z"
   },
   {
    "duration": 11,
    "start_time": "2021-11-20T20:31:27.507Z"
   },
   {
    "duration": 32,
    "start_time": "2021-11-20T20:31:27.519Z"
   },
   {
    "duration": 17,
    "start_time": "2021-11-20T20:31:27.553Z"
   },
   {
    "duration": 27,
    "start_time": "2021-11-20T20:31:27.573Z"
   },
   {
    "duration": 43,
    "start_time": "2021-11-20T20:31:59.230Z"
   },
   {
    "duration": 720,
    "start_time": "2021-11-21T12:58:01.901Z"
   },
   {
    "duration": 925,
    "start_time": "2021-11-21T12:58:19.101Z"
   },
   {
    "duration": 89,
    "start_time": "2021-11-21T12:58:20.029Z"
   },
   {
    "duration": 45,
    "start_time": "2021-11-21T12:58:20.122Z"
   },
   {
    "duration": 21,
    "start_time": "2021-11-21T12:58:20.171Z"
   },
   {
    "duration": 91,
    "start_time": "2021-11-21T12:58:20.194Z"
   },
   {
    "duration": 16,
    "start_time": "2021-11-21T12:58:20.288Z"
   },
   {
    "duration": 7,
    "start_time": "2021-11-21T12:58:20.306Z"
   },
   {
    "duration": 8,
    "start_time": "2021-11-21T12:58:20.318Z"
   },
   {
    "duration": 37,
    "start_time": "2021-11-21T12:58:20.329Z"
   },
   {
    "duration": 9,
    "start_time": "2021-11-21T12:58:20.369Z"
   },
   {
    "duration": 7,
    "start_time": "2021-11-21T12:58:20.381Z"
   },
   {
    "duration": 97,
    "start_time": "2021-11-21T12:58:20.390Z"
   },
   {
    "duration": 10,
    "start_time": "2021-11-21T12:58:20.489Z"
   },
   {
    "duration": 9,
    "start_time": "2021-11-21T12:58:20.501Z"
   },
   {
    "duration": 12,
    "start_time": "2021-11-21T12:58:20.513Z"
   },
   {
    "duration": 45,
    "start_time": "2021-11-21T12:58:20.528Z"
   },
   {
    "duration": 6,
    "start_time": "2021-11-21T12:58:20.576Z"
   },
   {
    "duration": 4,
    "start_time": "2021-11-21T12:58:20.584Z"
   },
   {
    "duration": 21,
    "start_time": "2021-11-21T12:58:20.591Z"
   },
   {
    "duration": 68,
    "start_time": "2021-11-21T12:58:20.614Z"
   },
   {
    "duration": 8,
    "start_time": "2021-11-21T12:58:20.684Z"
   },
   {
    "duration": 27,
    "start_time": "2021-11-21T12:58:20.695Z"
   },
   {
    "duration": 74,
    "start_time": "2021-11-21T12:58:20.727Z"
   },
   {
    "duration": 18,
    "start_time": "2021-11-21T12:58:20.803Z"
   },
   {
    "duration": 57,
    "start_time": "2021-11-21T12:58:20.823Z"
   },
   {
    "duration": 21,
    "start_time": "2021-11-21T12:58:20.882Z"
   },
   {
    "duration": 83,
    "start_time": "2021-11-21T12:58:20.906Z"
   },
   {
    "duration": 5222,
    "start_time": "2021-11-21T12:58:20.992Z"
   },
   {
    "duration": 5197,
    "start_time": "2021-11-21T12:58:53.080Z"
   },
   {
    "duration": 5671,
    "start_time": "2021-11-21T13:02:18.844Z"
   },
   {
    "duration": 807,
    "start_time": "2021-11-21T13:02:35.136Z"
   },
   {
    "duration": 66,
    "start_time": "2021-11-21T13:02:35.946Z"
   },
   {
    "duration": 44,
    "start_time": "2021-11-21T13:02:36.015Z"
   },
   {
    "duration": 16,
    "start_time": "2021-11-21T13:02:36.062Z"
   },
   {
    "duration": 50,
    "start_time": "2021-11-21T13:02:36.080Z"
   },
   {
    "duration": 17,
    "start_time": "2021-11-21T13:02:36.158Z"
   },
   {
    "duration": 6,
    "start_time": "2021-11-21T13:02:36.177Z"
   },
   {
    "duration": 9,
    "start_time": "2021-11-21T13:02:36.186Z"
   },
   {
    "duration": 7,
    "start_time": "2021-11-21T13:02:36.199Z"
   },
   {
    "duration": 56,
    "start_time": "2021-11-21T13:02:36.210Z"
   },
   {
    "duration": 7,
    "start_time": "2021-11-21T13:02:36.269Z"
   },
   {
    "duration": 94,
    "start_time": "2021-11-21T13:02:36.279Z"
   },
   {
    "duration": 10,
    "start_time": "2021-11-21T13:02:36.376Z"
   },
   {
    "duration": 6,
    "start_time": "2021-11-21T13:02:36.389Z"
   },
   {
    "duration": 11,
    "start_time": "2021-11-21T13:02:36.398Z"
   },
   {
    "duration": 56,
    "start_time": "2021-11-21T13:02:36.412Z"
   },
   {
    "duration": 5,
    "start_time": "2021-11-21T13:02:36.471Z"
   },
   {
    "duration": 6,
    "start_time": "2021-11-21T13:02:36.478Z"
   },
   {
    "duration": 34,
    "start_time": "2021-11-21T13:02:36.486Z"
   },
   {
    "duration": 73,
    "start_time": "2021-11-21T13:02:36.522Z"
   },
   {
    "duration": 9,
    "start_time": "2021-11-21T13:02:36.597Z"
   },
   {
    "duration": 59,
    "start_time": "2021-11-21T13:02:36.609Z"
   },
   {
    "duration": 60,
    "start_time": "2021-11-21T13:02:36.670Z"
   },
   {
    "duration": 37,
    "start_time": "2021-11-21T13:02:36.733Z"
   },
   {
    "duration": 24,
    "start_time": "2021-11-21T13:02:36.773Z"
   },
   {
    "duration": 22,
    "start_time": "2021-11-21T13:02:36.800Z"
   },
   {
    "duration": 105,
    "start_time": "2021-11-21T13:02:36.826Z"
   },
   {
    "duration": 5610,
    "start_time": "2021-11-21T13:02:36.933Z"
   },
   {
    "duration": 5201,
    "start_time": "2021-11-21T13:05:41.117Z"
   },
   {
    "duration": 393,
    "start_time": "2021-11-21T13:15:13.028Z"
   },
   {
    "duration": 14,
    "start_time": "2021-11-21T13:15:26.932Z"
   },
   {
    "duration": 12,
    "start_time": "2021-11-21T13:17:10.760Z"
   },
   {
    "duration": 12,
    "start_time": "2021-11-21T13:17:24.496Z"
   },
   {
    "duration": 977,
    "start_time": "2021-11-21T13:19:51.652Z"
   },
   {
    "duration": 380,
    "start_time": "2021-11-21T14:05:37.202Z"
   },
   {
    "duration": 23,
    "start_time": "2021-11-21T14:06:00.223Z"
   },
   {
    "duration": 32,
    "start_time": "2021-11-21T14:06:24.620Z"
   },
   {
    "duration": 593,
    "start_time": "2021-11-21T14:07:56.795Z"
   },
   {
    "duration": 385,
    "start_time": "2021-11-21T14:10:35.005Z"
   },
   {
    "duration": 4,
    "start_time": "2021-11-21T14:15:18.728Z"
   },
   {
    "duration": 4,
    "start_time": "2021-11-21T14:15:51.883Z"
   },
   {
    "duration": 4331,
    "start_time": "2021-11-21T14:16:00.053Z"
   },
   {
    "duration": 30,
    "start_time": "2021-11-21T14:16:04.387Z"
   },
   {
    "duration": 815,
    "start_time": "2021-11-21T15:58:04.121Z"
   },
   {
    "duration": 273,
    "start_time": "2021-11-21T15:58:04.939Z"
   },
   {
    "duration": 45,
    "start_time": "2021-11-21T15:58:05.215Z"
   },
   {
    "duration": 17,
    "start_time": "2021-11-21T15:58:05.263Z"
   },
   {
    "duration": 88,
    "start_time": "2021-11-21T15:58:05.283Z"
   },
   {
    "duration": 17,
    "start_time": "2021-11-21T15:58:05.374Z"
   },
   {
    "duration": 7,
    "start_time": "2021-11-21T15:58:05.393Z"
   },
   {
    "duration": 8,
    "start_time": "2021-11-21T15:58:05.406Z"
   },
   {
    "duration": 49,
    "start_time": "2021-11-21T15:58:05.417Z"
   },
   {
    "duration": 40,
    "start_time": "2021-11-21T15:58:05.469Z"
   },
   {
    "duration": 9,
    "start_time": "2021-11-21T15:58:05.513Z"
   },
   {
    "duration": 71,
    "start_time": "2021-11-21T15:58:05.525Z"
   },
   {
    "duration": 12,
    "start_time": "2021-11-21T15:58:05.599Z"
   },
   {
    "duration": 19,
    "start_time": "2021-11-21T15:58:05.614Z"
   },
   {
    "duration": 28,
    "start_time": "2021-11-21T15:58:05.636Z"
   },
   {
    "duration": 22,
    "start_time": "2021-11-21T15:58:05.667Z"
   },
   {
    "duration": 7,
    "start_time": "2021-11-21T15:58:05.692Z"
   },
   {
    "duration": 7,
    "start_time": "2021-11-21T15:58:05.701Z"
   },
   {
    "duration": 62,
    "start_time": "2021-11-21T15:58:05.711Z"
   },
   {
    "duration": 29,
    "start_time": "2021-11-21T15:58:05.775Z"
   },
   {
    "duration": 7,
    "start_time": "2021-11-21T15:58:05.807Z"
   },
   {
    "duration": 65,
    "start_time": "2021-11-21T15:58:05.817Z"
   },
   {
    "duration": 44,
    "start_time": "2021-11-21T15:58:05.887Z"
   },
   {
    "duration": 34,
    "start_time": "2021-11-21T15:58:05.934Z"
   },
   {
    "duration": 25,
    "start_time": "2021-11-21T15:58:05.970Z"
   },
   {
    "duration": 32,
    "start_time": "2021-11-21T15:58:05.998Z"
   },
   {
    "duration": 86,
    "start_time": "2021-11-21T15:58:06.060Z"
   },
   {
    "duration": 976,
    "start_time": "2021-11-21T15:58:06.149Z"
   },
   {
    "duration": 4200,
    "start_time": "2021-11-21T15:58:07.129Z"
   },
   {
    "duration": 56,
    "start_time": "2021-11-21T15:58:11.332Z"
   },
   {
    "duration": 13,
    "start_time": "2021-11-21T16:44:09.873Z"
   },
   {
    "duration": 34,
    "start_time": "2021-11-21T16:44:27.709Z"
   },
   {
    "duration": 471,
    "start_time": "2021-11-21T16:45:55.409Z"
   },
   {
    "duration": 50,
    "start_time": "2021-11-21T16:46:20.977Z"
   },
   {
    "duration": 539,
    "start_time": "2021-11-21T17:24:33.622Z"
   },
   {
    "duration": 453,
    "start_time": "2021-11-21T17:25:00.158Z"
   },
   {
    "duration": 395,
    "start_time": "2021-11-21T17:25:13.662Z"
   },
   {
    "duration": 75,
    "start_time": "2021-11-21T17:25:26.475Z"
   },
   {
    "duration": 40,
    "start_time": "2021-11-21T17:25:47.353Z"
   },
   {
    "duration": 728,
    "start_time": "2021-11-21T17:35:03.101Z"
   },
   {
    "duration": 428,
    "start_time": "2021-11-21T17:35:36.877Z"
   },
   {
    "duration": 400,
    "start_time": "2021-11-21T17:35:50.077Z"
   },
   {
    "duration": 21,
    "start_time": "2021-11-21T17:35:57.728Z"
   },
   {
    "duration": 30,
    "start_time": "2021-11-21T17:36:04.261Z"
   },
   {
    "duration": 420,
    "start_time": "2021-11-21T17:40:09.780Z"
   },
   {
    "duration": 31,
    "start_time": "2021-11-21T17:40:40.480Z"
   },
   {
    "duration": 25,
    "start_time": "2021-11-21T17:40:47.274Z"
   },
   {
    "duration": 39,
    "start_time": "2021-11-21T17:42:43.080Z"
   },
   {
    "duration": 28,
    "start_time": "2021-11-21T17:43:42.676Z"
   },
   {
    "duration": 34,
    "start_time": "2021-11-21T17:44:25.669Z"
   },
   {
    "duration": 31,
    "start_time": "2021-11-21T17:46:18.538Z"
   },
   {
    "duration": 422,
    "start_time": "2021-11-21T17:49:55.988Z"
   },
   {
    "duration": 400,
    "start_time": "2021-11-21T17:50:18.680Z"
   },
   {
    "duration": 65,
    "start_time": "2021-11-21T17:50:45.152Z"
   },
   {
    "duration": 31,
    "start_time": "2021-11-21T17:51:43.819Z"
   },
   {
    "duration": 35,
    "start_time": "2021-11-21T17:56:03.212Z"
   },
   {
    "duration": 1875,
    "start_time": "2021-11-21T18:02:25.172Z"
   },
   {
    "duration": 1960,
    "start_time": "2021-11-21T18:03:08.923Z"
   },
   {
    "duration": 13,
    "start_time": "2021-11-21T18:04:38.875Z"
   },
   {
    "duration": 16,
    "start_time": "2021-11-21T18:04:54.514Z"
   },
   {
    "duration": 22,
    "start_time": "2021-11-21T18:05:47.294Z"
   },
   {
    "duration": 401,
    "start_time": "2021-11-21T18:07:45.910Z"
   },
   {
    "duration": 27,
    "start_time": "2021-11-21T18:07:59.886Z"
   },
   {
    "duration": 29,
    "start_time": "2021-11-21T18:08:30.983Z"
   },
   {
    "duration": 31,
    "start_time": "2021-11-21T18:10:26.870Z"
   },
   {
    "duration": 56,
    "start_time": "2021-11-21T18:15:17.246Z"
   },
   {
    "duration": 32,
    "start_time": "2021-11-21T18:15:19.901Z"
   },
   {
    "duration": 845,
    "start_time": "2021-11-21T18:15:48.686Z"
   },
   {
    "duration": 73,
    "start_time": "2021-11-21T18:15:49.533Z"
   },
   {
    "duration": 57,
    "start_time": "2021-11-21T18:15:49.610Z"
   },
   {
    "duration": 18,
    "start_time": "2021-11-21T18:15:49.670Z"
   },
   {
    "duration": 77,
    "start_time": "2021-11-21T18:15:49.691Z"
   },
   {
    "duration": 16,
    "start_time": "2021-11-21T18:15:49.773Z"
   },
   {
    "duration": 11,
    "start_time": "2021-11-21T18:15:49.791Z"
   },
   {
    "duration": 17,
    "start_time": "2021-11-21T18:15:49.805Z"
   },
   {
    "duration": 8,
    "start_time": "2021-11-21T18:15:49.827Z"
   },
   {
    "duration": 10,
    "start_time": "2021-11-21T18:15:49.869Z"
   },
   {
    "duration": 7,
    "start_time": "2021-11-21T18:15:49.881Z"
   },
   {
    "duration": 82,
    "start_time": "2021-11-21T18:15:49.890Z"
   },
   {
    "duration": 12,
    "start_time": "2021-11-21T18:15:49.974Z"
   },
   {
    "duration": 9,
    "start_time": "2021-11-21T18:15:49.988Z"
   },
   {
    "duration": 17,
    "start_time": "2021-11-21T18:15:49.999Z"
   },
   {
    "duration": 56,
    "start_time": "2021-11-21T18:15:50.019Z"
   },
   {
    "duration": 8,
    "start_time": "2021-11-21T18:15:50.077Z"
   },
   {
    "duration": 10,
    "start_time": "2021-11-21T18:15:50.087Z"
   },
   {
    "duration": 22,
    "start_time": "2021-11-21T18:15:50.099Z"
   },
   {
    "duration": 53,
    "start_time": "2021-11-21T18:15:50.124Z"
   },
   {
    "duration": 7,
    "start_time": "2021-11-21T18:15:50.180Z"
   },
   {
    "duration": 29,
    "start_time": "2021-11-21T18:15:50.189Z"
   },
   {
    "duration": 77,
    "start_time": "2021-11-21T18:15:50.220Z"
   },
   {
    "duration": 17,
    "start_time": "2021-11-21T18:15:50.300Z"
   },
   {
    "duration": 25,
    "start_time": "2021-11-21T18:15:50.320Z"
   },
   {
    "duration": 27,
    "start_time": "2021-11-21T18:15:50.363Z"
   },
   {
    "duration": 81,
    "start_time": "2021-11-21T18:15:50.395Z"
   },
   {
    "duration": 1116,
    "start_time": "2021-11-21T18:15:50.479Z"
   },
   {
    "duration": 4235,
    "start_time": "2021-11-21T18:15:51.598Z"
   },
   {
    "duration": 57,
    "start_time": "2021-11-21T18:15:55.836Z"
   },
   {
    "duration": 54,
    "start_time": "2021-11-21T18:15:55.896Z"
   },
   {
    "duration": 37,
    "start_time": "2021-11-21T18:15:55.961Z"
   },
   {
    "duration": 79,
    "start_time": "2021-11-21T18:15:56.001Z"
   },
   {
    "duration": 44,
    "start_time": "2021-11-21T18:15:56.084Z"
   },
   {
    "duration": 62,
    "start_time": "2021-11-21T18:15:56.131Z"
   },
   {
    "duration": 31,
    "start_time": "2021-11-21T18:15:56.195Z"
   },
   {
    "duration": 60,
    "start_time": "2021-11-21T18:15:56.229Z"
   },
   {
    "duration": 8,
    "start_time": "2021-11-21T19:11:41.105Z"
   },
   {
    "duration": 7,
    "start_time": "2021-11-21T19:13:25.556Z"
   },
   {
    "duration": 795,
    "start_time": "2021-11-21T19:15:27.832Z"
   },
   {
    "duration": 65,
    "start_time": "2021-11-21T19:15:28.630Z"
   },
   {
    "duration": 32,
    "start_time": "2021-11-21T19:15:33.672Z"
   },
   {
    "duration": 16,
    "start_time": "2021-11-21T19:15:39.649Z"
   },
   {
    "duration": 66,
    "start_time": "2021-11-21T19:15:44.496Z"
   },
   {
    "duration": 20,
    "start_time": "2021-11-21T19:15:46.800Z"
   },
   {
    "duration": 13,
    "start_time": "2021-11-21T19:15:58.269Z"
   },
   {
    "duration": 7,
    "start_time": "2021-11-21T19:16:00.788Z"
   },
   {
    "duration": 6,
    "start_time": "2021-11-21T19:16:01.788Z"
   },
   {
    "duration": 9,
    "start_time": "2021-11-21T19:16:04.840Z"
   },
   {
    "duration": 1095,
    "start_time": "2021-11-21T19:21:03.490Z"
   },
   {
    "duration": 95,
    "start_time": "2021-11-21T19:21:04.589Z"
   },
   {
    "duration": 49,
    "start_time": "2021-11-21T19:21:04.725Z"
   },
   {
    "duration": 22,
    "start_time": "2021-11-21T19:21:06.888Z"
   },
   {
    "duration": 67,
    "start_time": "2021-11-21T19:21:08.473Z"
   },
   {
    "duration": 20,
    "start_time": "2021-11-21T19:21:10.293Z"
   },
   {
    "duration": 7,
    "start_time": "2021-11-21T19:21:15.105Z"
   },
   {
    "duration": 10,
    "start_time": "2021-11-21T19:21:16.893Z"
   },
   {
    "duration": 8,
    "start_time": "2021-11-21T19:21:17.926Z"
   },
   {
    "duration": 7,
    "start_time": "2021-11-21T19:21:19.546Z"
   },
   {
    "duration": 8,
    "start_time": "2021-11-21T19:21:27.081Z"
   },
   {
    "duration": 125,
    "start_time": "2021-11-21T21:03:27.446Z"
   },
   {
    "duration": 21,
    "start_time": "2021-11-21T21:03:36.606Z"
   },
   {
    "duration": 15,
    "start_time": "2021-11-21T21:07:20.998Z"
   },
   {
    "duration": 749,
    "start_time": "2021-11-21T21:09:15.701Z"
   },
   {
    "duration": 64,
    "start_time": "2021-11-21T21:09:16.817Z"
   },
   {
    "duration": 30,
    "start_time": "2021-11-21T21:09:17.817Z"
   },
   {
    "duration": 15,
    "start_time": "2021-11-21T21:09:19.745Z"
   },
   {
    "duration": 46,
    "start_time": "2021-11-21T21:09:21.341Z"
   },
   {
    "duration": 17,
    "start_time": "2021-11-21T21:09:24.693Z"
   },
   {
    "duration": 7,
    "start_time": "2021-11-21T21:09:28.361Z"
   },
   {
    "duration": 10,
    "start_time": "2021-11-21T21:09:31.273Z"
   },
   {
    "duration": 9,
    "start_time": "2021-11-21T21:09:32.148Z"
   },
   {
    "duration": 13,
    "start_time": "2021-11-21T21:09:33.790Z"
   },
   {
    "duration": 6,
    "start_time": "2021-11-21T21:09:38.607Z"
   },
   {
    "duration": 21,
    "start_time": "2021-11-21T21:09:41.018Z"
   },
   {
    "duration": 10,
    "start_time": "2021-11-21T21:09:41.893Z"
   },
   {
    "duration": 7,
    "start_time": "2021-11-21T21:09:43.633Z"
   },
   {
    "duration": 10,
    "start_time": "2021-11-21T21:09:45.953Z"
   },
   {
    "duration": 1857,
    "start_time": "2021-11-22T13:35:39.155Z"
   },
   {
    "duration": 69,
    "start_time": "2021-11-22T13:35:41.015Z"
   },
   {
    "duration": 33,
    "start_time": "2021-11-22T13:35:41.087Z"
   },
   {
    "duration": 17,
    "start_time": "2021-11-22T13:35:41.710Z"
   },
   {
    "duration": 47,
    "start_time": "2021-11-22T13:35:42.878Z"
   },
   {
    "duration": 15,
    "start_time": "2021-11-22T13:35:44.130Z"
   },
   {
    "duration": 7,
    "start_time": "2021-11-22T13:35:46.710Z"
   },
   {
    "duration": 7,
    "start_time": "2021-11-22T13:35:47.674Z"
   },
   {
    "duration": 6,
    "start_time": "2021-11-22T13:35:48.155Z"
   },
   {
    "duration": 8,
    "start_time": "2021-11-22T13:35:49.300Z"
   },
   {
    "duration": 6,
    "start_time": "2021-11-22T13:35:52.554Z"
   },
   {
    "duration": 19,
    "start_time": "2021-11-22T13:35:53.739Z"
   },
   {
    "duration": 10,
    "start_time": "2021-11-22T13:35:54.242Z"
   },
   {
    "duration": 6,
    "start_time": "2021-11-22T13:35:54.947Z"
   },
   {
    "duration": 10,
    "start_time": "2021-11-22T13:35:55.742Z"
   },
   {
    "duration": 14,
    "start_time": "2021-11-22T13:35:56.767Z"
   },
   {
    "duration": 791,
    "start_time": "2021-11-22T15:37:45.450Z"
   },
   {
    "duration": 66,
    "start_time": "2021-11-22T15:37:46.256Z"
   },
   {
    "duration": 30,
    "start_time": "2021-11-22T15:37:46.973Z"
   },
   {
    "duration": 16,
    "start_time": "2021-11-22T15:37:48.316Z"
   },
   {
    "duration": 48,
    "start_time": "2021-11-22T15:37:49.596Z"
   },
   {
    "duration": 15,
    "start_time": "2021-11-22T15:37:50.939Z"
   },
   {
    "duration": 7,
    "start_time": "2021-11-22T15:37:53.189Z"
   },
   {
    "duration": 7,
    "start_time": "2021-11-22T15:37:54.320Z"
   },
   {
    "duration": 7,
    "start_time": "2021-11-22T15:37:54.864Z"
   },
   {
    "duration": 7,
    "start_time": "2021-11-22T15:37:56.001Z"
   },
   {
    "duration": 7,
    "start_time": "2021-11-22T15:37:58.752Z"
   },
   {
    "duration": 21,
    "start_time": "2021-11-22T15:37:59.784Z"
   },
   {
    "duration": 8,
    "start_time": "2021-11-22T15:38:00.213Z"
   },
   {
    "duration": 7,
    "start_time": "2021-11-22T15:38:00.652Z"
   },
   {
    "duration": 8,
    "start_time": "2021-11-22T15:38:01.209Z"
   },
   {
    "duration": 14,
    "start_time": "2021-11-22T15:38:02.585Z"
   },
   {
    "duration": 15,
    "start_time": "2021-11-22T15:38:06.133Z"
   },
   {
    "duration": 5,
    "start_time": "2021-11-22T15:38:06.806Z"
   },
   {
    "duration": 6,
    "start_time": "2021-11-22T15:38:07.474Z"
   },
   {
    "duration": 22,
    "start_time": "2021-11-22T15:38:10.239Z"
   },
   {
    "duration": 29,
    "start_time": "2021-11-22T15:38:12.845Z"
   },
   {
    "duration": 8,
    "start_time": "2021-11-22T15:38:13.785Z"
   },
   {
    "duration": 29,
    "start_time": "2021-11-22T15:38:14.657Z"
   },
   {
    "duration": 46,
    "start_time": "2021-11-22T15:38:15.388Z"
   },
   {
    "duration": 41,
    "start_time": "2021-11-22T15:38:18.412Z"
   },
   {
    "duration": 480,
    "start_time": "2021-11-22T15:42:34.700Z"
   },
   {
    "duration": 72,
    "start_time": "2021-11-22T15:42:45.140Z"
   },
   {
    "duration": 737,
    "start_time": "2021-11-22T15:50:10.148Z"
   },
   {
    "duration": 66,
    "start_time": "2021-11-22T15:50:12.759Z"
   },
   {
    "duration": 71,
    "start_time": "2021-11-22T15:50:23.988Z"
   },
   {
    "duration": 60,
    "start_time": "2021-11-22T15:52:24.772Z"
   },
   {
    "duration": 14,
    "start_time": "2021-11-22T15:52:26.704Z"
   },
   {
    "duration": 48,
    "start_time": "2021-11-22T15:52:28.520Z"
   },
   {
    "duration": 15,
    "start_time": "2021-11-22T15:52:29.980Z"
   },
   {
    "duration": 7,
    "start_time": "2021-11-22T15:52:37.832Z"
   },
   {
    "duration": 8,
    "start_time": "2021-11-22T15:52:42.197Z"
   },
   {
    "duration": 7,
    "start_time": "2021-11-22T15:52:42.809Z"
   },
   {
    "duration": 9,
    "start_time": "2021-11-22T15:52:43.976Z"
   },
   {
    "duration": 6,
    "start_time": "2021-11-22T15:52:56.493Z"
   },
   {
    "duration": 56,
    "start_time": "2021-11-22T15:52:59.624Z"
   },
   {
    "duration": 20,
    "start_time": "2021-11-22T15:53:03.845Z"
   },
   {
    "duration": 10,
    "start_time": "2021-11-22T15:53:04.332Z"
   },
   {
    "duration": 7,
    "start_time": "2021-11-22T15:53:04.816Z"
   },
   {
    "duration": 9,
    "start_time": "2021-11-22T15:53:05.388Z"
   },
   {
    "duration": 13,
    "start_time": "2021-11-22T15:53:09.112Z"
   },
   {
    "duration": 61,
    "start_time": "2021-11-22T15:53:16.432Z"
   },
   {
    "duration": 15,
    "start_time": "2021-11-22T15:53:21.900Z"
   },
   {
    "duration": 6,
    "start_time": "2021-11-22T15:53:22.356Z"
   },
   {
    "duration": 5,
    "start_time": "2021-11-22T15:53:22.816Z"
   },
   {
    "duration": 22,
    "start_time": "2021-11-22T15:53:23.372Z"
   },
   {
    "duration": 31,
    "start_time": "2021-11-22T15:53:30.152Z"
   },
   {
    "duration": 55,
    "start_time": "2021-11-22T15:53:52.257Z"
   },
   {
    "duration": 809,
    "start_time": "2021-11-22T15:59:16.316Z"
   },
   {
    "duration": 66,
    "start_time": "2021-11-22T15:59:17.128Z"
   },
   {
    "duration": 44,
    "start_time": "2021-11-22T15:59:17.864Z"
   },
   {
    "duration": 16,
    "start_time": "2021-11-22T15:59:32.976Z"
   },
   {
    "duration": 48,
    "start_time": "2021-11-22T15:59:38.860Z"
   },
   {
    "duration": 16,
    "start_time": "2021-11-22T15:59:41.628Z"
   },
   {
    "duration": 7,
    "start_time": "2021-11-22T15:59:47.748Z"
   },
   {
    "duration": 7,
    "start_time": "2021-11-22T15:59:51.700Z"
   },
   {
    "duration": 6,
    "start_time": "2021-11-22T15:59:53.192Z"
   },
   {
    "duration": 8,
    "start_time": "2021-11-22T16:00:07.108Z"
   },
   {
    "duration": 7,
    "start_time": "2021-11-22T16:00:15.684Z"
   },
   {
    "duration": 61,
    "start_time": "2021-11-22T16:00:17.756Z"
   },
   {
    "duration": 18,
    "start_time": "2021-11-22T16:00:26.465Z"
   },
   {
    "duration": 8,
    "start_time": "2021-11-22T16:00:29.477Z"
   },
   {
    "duration": 6,
    "start_time": "2021-11-22T16:00:30.288Z"
   },
   {
    "duration": 8,
    "start_time": "2021-11-22T16:00:31.140Z"
   },
   {
    "duration": 14,
    "start_time": "2021-11-22T16:00:34.136Z"
   },
   {
    "duration": 60,
    "start_time": "2021-11-22T16:00:37.661Z"
   },
   {
    "duration": 61,
    "start_time": "2021-11-22T16:00:42.628Z"
   },
   {
    "duration": 16,
    "start_time": "2021-11-22T16:00:54.824Z"
   },
   {
    "duration": 5,
    "start_time": "2021-11-22T16:01:01.465Z"
   },
   {
    "duration": 5,
    "start_time": "2021-11-22T16:01:02.268Z"
   },
   {
    "duration": 21,
    "start_time": "2021-11-22T16:01:02.960Z"
   },
   {
    "duration": 61,
    "start_time": "2021-11-22T16:01:03.880Z"
   },
   {
    "duration": 777,
    "start_time": "2021-11-22T16:14:12.441Z"
   },
   {
    "duration": 76,
    "start_time": "2021-11-22T16:14:13.221Z"
   },
   {
    "duration": 29,
    "start_time": "2021-11-22T16:14:13.680Z"
   },
   {
    "duration": 16,
    "start_time": "2021-11-22T16:14:16.341Z"
   },
   {
    "duration": 49,
    "start_time": "2021-11-22T16:14:17.373Z"
   },
   {
    "duration": 16,
    "start_time": "2021-11-22T16:14:19.097Z"
   },
   {
    "duration": 8,
    "start_time": "2021-11-22T16:14:21.634Z"
   },
   {
    "duration": 7,
    "start_time": "2021-11-22T16:14:22.529Z"
   },
   {
    "duration": 7,
    "start_time": "2021-11-22T16:14:22.976Z"
   },
   {
    "duration": 8,
    "start_time": "2021-11-22T16:14:23.753Z"
   },
   {
    "duration": 7,
    "start_time": "2021-11-22T16:14:26.088Z"
   },
   {
    "duration": 20,
    "start_time": "2021-11-22T16:14:27.337Z"
   },
   {
    "duration": 8,
    "start_time": "2021-11-22T16:14:27.768Z"
   },
   {
    "duration": 6,
    "start_time": "2021-11-22T16:14:28.173Z"
   },
   {
    "duration": 8,
    "start_time": "2021-11-22T16:14:28.596Z"
   },
   {
    "duration": 13,
    "start_time": "2021-11-22T16:14:29.604Z"
   },
   {
    "duration": 16,
    "start_time": "2021-11-22T16:14:34.636Z"
   },
   {
    "duration": 5,
    "start_time": "2021-11-22T16:14:35.372Z"
   },
   {
    "duration": 7,
    "start_time": "2021-11-22T16:14:35.957Z"
   },
   {
    "duration": 28,
    "start_time": "2021-11-22T16:14:36.689Z"
   },
   {
    "duration": 29,
    "start_time": "2021-11-22T16:14:37.488Z"
   },
   {
    "duration": 8,
    "start_time": "2021-11-22T16:14:39.284Z"
   },
   {
    "duration": 27,
    "start_time": "2021-11-22T16:14:40.601Z"
   },
   {
    "duration": 44,
    "start_time": "2021-11-22T16:14:41.393Z"
   },
   {
    "duration": 69,
    "start_time": "2021-11-22T16:14:45.916Z"
   },
   {
    "duration": 49,
    "start_time": "2021-11-22T16:15:22.060Z"
   },
   {
    "duration": 684,
    "start_time": "2021-11-22T16:16:09.540Z"
   },
   {
    "duration": 49,
    "start_time": "2021-11-22T16:16:17.589Z"
   },
   {
    "duration": 50,
    "start_time": "2021-11-22T16:22:21.040Z"
   },
   {
    "duration": 50,
    "start_time": "2021-11-22T16:26:06.076Z"
   },
   {
    "duration": 22,
    "start_time": "2021-11-22T16:27:11.204Z"
   },
   {
    "duration": 35,
    "start_time": "2021-11-22T16:27:13.607Z"
   },
   {
    "duration": 34,
    "start_time": "2021-11-22T16:48:11.812Z"
   },
   {
    "duration": 33,
    "start_time": "2021-11-22T16:48:34.822Z"
   },
   {
    "duration": 14591,
    "start_time": "2021-11-22T16:59:05.949Z"
   },
   {
    "duration": 861,
    "start_time": "2021-11-22T16:59:31.130Z"
   },
   {
    "duration": 71,
    "start_time": "2021-11-22T16:59:31.994Z"
   },
   {
    "duration": 32,
    "start_time": "2021-11-22T16:59:32.068Z"
   },
   {
    "duration": 30,
    "start_time": "2021-11-22T16:59:32.103Z"
   },
   {
    "duration": 48,
    "start_time": "2021-11-22T16:59:32.136Z"
   },
   {
    "duration": 29,
    "start_time": "2021-11-22T16:59:32.187Z"
   },
   {
    "duration": 9,
    "start_time": "2021-11-22T16:59:32.219Z"
   },
   {
    "duration": 9,
    "start_time": "2021-11-22T16:59:32.232Z"
   },
   {
    "duration": 11,
    "start_time": "2021-11-22T16:59:32.248Z"
   },
   {
    "duration": 44,
    "start_time": "2021-11-22T16:59:32.262Z"
   },
   {
    "duration": 6,
    "start_time": "2021-11-22T16:59:32.309Z"
   },
   {
    "duration": 25,
    "start_time": "2021-11-22T16:59:32.318Z"
   },
   {
    "duration": 20,
    "start_time": "2021-11-22T16:59:32.346Z"
   },
   {
    "duration": 33,
    "start_time": "2021-11-22T16:59:32.369Z"
   },
   {
    "duration": 10,
    "start_time": "2021-11-22T16:59:32.405Z"
   },
   {
    "duration": 14,
    "start_time": "2021-11-22T16:59:32.417Z"
   },
   {
    "duration": 27,
    "start_time": "2021-11-22T16:59:32.435Z"
   },
   {
    "duration": 7,
    "start_time": "2021-11-22T16:59:32.502Z"
   },
   {
    "duration": 6,
    "start_time": "2021-11-22T16:59:32.512Z"
   },
   {
    "duration": 24,
    "start_time": "2021-11-22T16:59:32.521Z"
   },
   {
    "duration": 81,
    "start_time": "2021-11-22T16:59:32.547Z"
   },
   {
    "duration": 11,
    "start_time": "2021-11-22T16:59:32.631Z"
   },
   {
    "duration": 26,
    "start_time": "2021-11-22T16:59:32.645Z"
   },
   {
    "duration": 45,
    "start_time": "2021-11-22T16:59:32.701Z"
   },
   {
    "duration": 23,
    "start_time": "2021-11-22T16:59:32.748Z"
   },
   {
    "duration": 56,
    "start_time": "2021-11-22T16:59:32.773Z"
   },
   {
    "duration": 24,
    "start_time": "2021-11-22T16:59:32.835Z"
   },
   {
    "duration": 54,
    "start_time": "2021-11-22T16:59:32.862Z"
   },
   {
    "duration": 1440,
    "start_time": "2021-11-22T16:59:32.918Z"
   },
   {
    "duration": 3912,
    "start_time": "2021-11-22T16:59:34.362Z"
   },
   {
    "duration": 65,
    "start_time": "2021-11-22T16:59:38.278Z"
   },
   {
    "duration": 110,
    "start_time": "2021-11-22T16:59:38.347Z"
   },
   {
    "duration": 62,
    "start_time": "2021-11-22T16:59:38.461Z"
   },
   {
    "duration": 23,
    "start_time": "2021-11-22T16:59:38.526Z"
   },
   {
    "duration": 74,
    "start_time": "2021-11-22T16:59:38.552Z"
   },
   {
    "duration": 30,
    "start_time": "2021-11-22T16:59:38.629Z"
   },
   {
    "duration": 57,
    "start_time": "2021-11-22T16:59:38.662Z"
   },
   {
    "duration": 28,
    "start_time": "2021-11-22T16:59:38.722Z"
   },
   {
    "duration": 7,
    "start_time": "2021-11-22T17:01:23.389Z"
   },
   {
    "duration": 7,
    "start_time": "2021-11-22T17:01:38.656Z"
   },
   {
    "duration": 19,
    "start_time": "2021-11-22T17:02:25.931Z"
   },
   {
    "duration": 513,
    "start_time": "2021-11-22T17:23:42.602Z"
   },
   {
    "duration": 922,
    "start_time": "2021-11-22T17:23:48.103Z"
   },
   {
    "duration": 23,
    "start_time": "2021-11-22T18:24:32.397Z"
   },
   {
    "duration": 108,
    "start_time": "2021-11-22T18:38:57.896Z"
   },
   {
    "duration": 16,
    "start_time": "2021-11-22T18:56:52.801Z"
   },
   {
    "duration": 15,
    "start_time": "2021-11-22T18:57:19.790Z"
   },
   {
    "duration": 14,
    "start_time": "2021-11-22T18:57:37.102Z"
   },
   {
    "duration": 14,
    "start_time": "2021-11-22T18:57:54.605Z"
   },
   {
    "duration": 2041,
    "start_time": "2021-11-22T18:58:19.714Z"
   },
   {
    "duration": -467,
    "start_time": "2021-11-22T18:58:22.226Z"
   },
   {
    "duration": -471,
    "start_time": "2021-11-22T18:58:22.232Z"
   },
   {
    "duration": 19,
    "start_time": "2021-11-22T18:58:30.658Z"
   },
   {
    "duration": 1562,
    "start_time": "2021-11-22T18:58:53.906Z"
   },
   {
    "duration": 64,
    "start_time": "2021-11-22T18:58:55.470Z"
   },
   {
    "duration": 30,
    "start_time": "2021-11-22T18:58:55.537Z"
   },
   {
    "duration": 32,
    "start_time": "2021-11-22T18:58:55.570Z"
   },
   {
    "duration": 48,
    "start_time": "2021-11-22T18:58:55.604Z"
   },
   {
    "duration": 15,
    "start_time": "2021-11-22T18:58:55.654Z"
   },
   {
    "duration": 31,
    "start_time": "2021-11-22T18:58:55.671Z"
   },
   {
    "duration": 7,
    "start_time": "2021-11-22T18:58:55.706Z"
   },
   {
    "duration": 6,
    "start_time": "2021-11-22T18:58:55.716Z"
   },
   {
    "duration": 8,
    "start_time": "2021-11-22T18:58:55.724Z"
   },
   {
    "duration": 5,
    "start_time": "2021-11-22T18:58:55.735Z"
   },
   {
    "duration": 65,
    "start_time": "2021-11-22T18:58:55.742Z"
   },
   {
    "duration": 8,
    "start_time": "2021-11-22T18:58:55.809Z"
   },
   {
    "duration": 7,
    "start_time": "2021-11-22T18:58:55.819Z"
   },
   {
    "duration": 12,
    "start_time": "2021-11-22T18:58:55.828Z"
   },
   {
    "duration": 15,
    "start_time": "2021-11-22T18:58:55.843Z"
   },
   {
    "duration": 49,
    "start_time": "2021-11-22T18:58:55.861Z"
   },
   {
    "duration": 7,
    "start_time": "2021-11-22T18:58:55.913Z"
   },
   {
    "duration": 5,
    "start_time": "2021-11-22T18:58:55.922Z"
   },
   {
    "duration": 25,
    "start_time": "2021-11-22T18:58:55.930Z"
   },
   {
    "duration": 62,
    "start_time": "2021-11-22T18:58:55.958Z"
   },
   {
    "duration": 8,
    "start_time": "2021-11-22T18:58:56.023Z"
   },
   {
    "duration": 27,
    "start_time": "2021-11-22T18:58:56.036Z"
   },
   {
    "duration": 75,
    "start_time": "2021-11-22T18:58:56.066Z"
   },
   {
    "duration": 23,
    "start_time": "2021-11-22T18:58:56.143Z"
   },
   {
    "duration": 60,
    "start_time": "2021-11-22T18:58:56.169Z"
   },
   {
    "duration": 22,
    "start_time": "2021-11-22T18:58:56.231Z"
   },
   {
    "duration": 50,
    "start_time": "2021-11-22T18:58:56.255Z"
   },
   {
    "duration": 927,
    "start_time": "2021-11-22T18:58:56.308Z"
   },
   {
    "duration": 3794,
    "start_time": "2021-11-22T18:58:57.238Z"
   },
   {
    "duration": 22,
    "start_time": "2021-11-22T18:59:01.034Z"
   },
   {
    "duration": 43,
    "start_time": "2021-11-22T18:59:01.060Z"
   },
   {
    "duration": 6,
    "start_time": "2021-11-22T18:59:01.106Z"
   },
   {
    "duration": 46,
    "start_time": "2021-11-22T18:59:01.114Z"
   },
   {
    "duration": 38,
    "start_time": "2021-11-22T18:59:01.163Z"
   },
   {
    "duration": 21,
    "start_time": "2021-11-22T18:59:01.203Z"
   },
   {
    "duration": 40,
    "start_time": "2021-11-22T18:59:01.227Z"
   },
   {
    "duration": 51,
    "start_time": "2021-11-22T18:59:01.269Z"
   },
   {
    "duration": 30,
    "start_time": "2021-11-22T18:59:01.323Z"
   },
   {
    "duration": 59,
    "start_time": "2021-11-22T18:59:01.356Z"
   },
   {
    "duration": 14,
    "start_time": "2021-11-22T18:59:30.888Z"
   },
   {
    "duration": 444,
    "start_time": "2021-11-22T19:08:53.314Z"
   },
   {
    "duration": 115,
    "start_time": "2021-11-22T19:08:59.214Z"
   },
   {
    "duration": 5,
    "start_time": "2021-11-22T19:09:04.914Z"
   },
   {
    "duration": 29,
    "start_time": "2021-11-22T19:09:07.182Z"
   },
   {
    "duration": 30,
    "start_time": "2021-11-22T19:10:23.534Z"
   },
   {
    "duration": 30,
    "start_time": "2021-11-22T19:11:04.350Z"
   },
   {
    "duration": 29,
    "start_time": "2021-11-22T19:11:30.130Z"
   },
   {
    "duration": 31,
    "start_time": "2021-11-22T19:12:23.628Z"
   },
   {
    "duration": 30,
    "start_time": "2021-11-22T19:16:44.629Z"
   },
   {
    "duration": 31,
    "start_time": "2021-11-22T19:23:31.302Z"
   },
   {
    "duration": 22,
    "start_time": "2021-11-22T19:26:15.607Z"
   },
   {
    "duration": 790,
    "start_time": "2021-11-22T19:28:03.247Z"
   },
   {
    "duration": 70,
    "start_time": "2021-11-22T19:28:04.040Z"
   },
   {
    "duration": 31,
    "start_time": "2021-11-22T19:28:04.113Z"
   },
   {
    "duration": 15,
    "start_time": "2021-11-22T19:28:04.147Z"
   },
   {
    "duration": 56,
    "start_time": "2021-11-22T19:28:04.165Z"
   },
   {
    "duration": 14,
    "start_time": "2021-11-22T19:28:04.224Z"
   },
   {
    "duration": 6,
    "start_time": "2021-11-22T19:28:04.241Z"
   },
   {
    "duration": 11,
    "start_time": "2021-11-22T19:28:04.249Z"
   },
   {
    "duration": 7,
    "start_time": "2021-11-22T19:28:04.264Z"
   },
   {
    "duration": 8,
    "start_time": "2021-11-22T19:28:04.274Z"
   },
   {
    "duration": 6,
    "start_time": "2021-11-22T19:28:04.284Z"
   },
   {
    "duration": 21,
    "start_time": "2021-11-22T19:28:04.301Z"
   },
   {
    "duration": 9,
    "start_time": "2021-11-22T19:28:04.325Z"
   },
   {
    "duration": 7,
    "start_time": "2021-11-22T19:28:04.336Z"
   },
   {
    "duration": 18,
    "start_time": "2021-11-22T19:28:04.345Z"
   },
   {
    "duration": 18,
    "start_time": "2021-11-22T19:28:04.366Z"
   },
   {
    "duration": 22,
    "start_time": "2021-11-22T19:28:04.387Z"
   },
   {
    "duration": 4,
    "start_time": "2021-11-22T19:28:04.411Z"
   },
   {
    "duration": 32,
    "start_time": "2021-11-22T19:28:04.418Z"
   },
   {
    "duration": 32,
    "start_time": "2021-11-22T19:28:04.452Z"
   },
   {
    "duration": 38,
    "start_time": "2021-11-22T19:28:04.487Z"
   },
   {
    "duration": 15,
    "start_time": "2021-11-22T19:28:04.528Z"
   },
   {
    "duration": 27,
    "start_time": "2021-11-22T19:28:04.546Z"
   },
   {
    "duration": 50,
    "start_time": "2021-11-22T19:28:04.575Z"
   },
   {
    "duration": 27,
    "start_time": "2021-11-22T19:28:04.627Z"
   },
   {
    "duration": 35,
    "start_time": "2021-11-22T19:28:04.656Z"
   },
   {
    "duration": 27,
    "start_time": "2021-11-22T19:28:04.703Z"
   },
   {
    "duration": 26,
    "start_time": "2021-11-22T19:28:04.733Z"
   },
   {
    "duration": 1222,
    "start_time": "2021-11-22T19:28:04.762Z"
   },
   {
    "duration": 3630,
    "start_time": "2021-11-22T19:28:05.987Z"
   },
   {
    "duration": 21,
    "start_time": "2021-11-22T19:28:09.620Z"
   },
   {
    "duration": 20,
    "start_time": "2021-11-22T19:28:09.643Z"
   },
   {
    "duration": 4,
    "start_time": "2021-11-22T19:28:09.666Z"
   },
   {
    "duration": 60,
    "start_time": "2021-11-22T19:28:09.672Z"
   },
   {
    "duration": 21,
    "start_time": "2021-11-22T19:28:09.734Z"
   },
   {
    "duration": 7,
    "start_time": "2021-11-22T19:28:09.758Z"
   },
   {
    "duration": 65,
    "start_time": "2021-11-22T19:28:09.767Z"
   },
   {
    "duration": 30,
    "start_time": "2021-11-22T19:28:09.834Z"
   },
   {
    "duration": 52,
    "start_time": "2021-11-22T19:28:09.866Z"
   },
   {
    "duration": 29,
    "start_time": "2021-11-22T19:28:09.920Z"
   },
   {
    "duration": 53,
    "start_time": "2021-11-22T19:28:09.951Z"
   },
   {
    "duration": 32,
    "start_time": "2021-11-22T19:28:10.007Z"
   },
   {
    "duration": 37,
    "start_time": "2021-11-22T19:28:10.042Z"
   },
   {
    "duration": 24,
    "start_time": "2021-11-22T19:28:10.101Z"
   },
   {
    "duration": 5,
    "start_time": "2021-11-22T21:06:10.608Z"
   },
   {
    "duration": 31,
    "start_time": "2021-11-22T21:06:13.160Z"
   },
   {
    "duration": 6,
    "start_time": "2021-11-22T21:06:24.511Z"
   },
   {
    "duration": 30,
    "start_time": "2021-11-22T21:06:30.754Z"
   },
   {
    "duration": 30,
    "start_time": "2021-11-22T21:06:35.267Z"
   },
   {
    "duration": 29,
    "start_time": "2021-11-22T21:06:41.284Z"
   },
   {
    "duration": 792,
    "start_time": "2021-11-22T21:06:54.781Z"
   },
   {
    "duration": 65,
    "start_time": "2021-11-22T21:06:55.576Z"
   },
   {
    "duration": 29,
    "start_time": "2021-11-22T21:06:55.644Z"
   },
   {
    "duration": 31,
    "start_time": "2021-11-22T21:06:55.676Z"
   },
   {
    "duration": 48,
    "start_time": "2021-11-22T21:06:55.710Z"
   },
   {
    "duration": 42,
    "start_time": "2021-11-22T21:06:55.760Z"
   },
   {
    "duration": 6,
    "start_time": "2021-11-22T21:06:55.805Z"
   },
   {
    "duration": 9,
    "start_time": "2021-11-22T21:06:55.814Z"
   },
   {
    "duration": 9,
    "start_time": "2021-11-22T21:06:55.828Z"
   },
   {
    "duration": 10,
    "start_time": "2021-11-22T21:06:55.841Z"
   },
   {
    "duration": 51,
    "start_time": "2021-11-22T21:06:55.854Z"
   },
   {
    "duration": 21,
    "start_time": "2021-11-22T21:06:55.907Z"
   },
   {
    "duration": 8,
    "start_time": "2021-11-22T21:06:55.931Z"
   },
   {
    "duration": 16,
    "start_time": "2021-11-22T21:06:55.942Z"
   },
   {
    "duration": 18,
    "start_time": "2021-11-22T21:06:55.961Z"
   },
   {
    "duration": 28,
    "start_time": "2021-11-22T21:06:55.981Z"
   },
   {
    "duration": 19,
    "start_time": "2021-11-22T21:06:56.013Z"
   },
   {
    "duration": 6,
    "start_time": "2021-11-22T21:06:56.035Z"
   },
   {
    "duration": 8,
    "start_time": "2021-11-22T21:06:56.044Z"
   },
   {
    "duration": 52,
    "start_time": "2021-11-22T21:06:56.054Z"
   },
   {
    "duration": 29,
    "start_time": "2021-11-22T21:06:56.109Z"
   },
   {
    "duration": 12,
    "start_time": "2021-11-22T21:06:56.141Z"
   },
   {
    "duration": 64,
    "start_time": "2021-11-22T21:06:56.156Z"
   },
   {
    "duration": 44,
    "start_time": "2021-11-22T21:06:56.223Z"
   },
   {
    "duration": 40,
    "start_time": "2021-11-22T21:06:56.270Z"
   },
   {
    "duration": 34,
    "start_time": "2021-11-22T21:06:56.312Z"
   },
   {
    "duration": 24,
    "start_time": "2021-11-22T21:06:56.351Z"
   },
   {
    "duration": 24,
    "start_time": "2021-11-22T21:06:56.401Z"
   },
   {
    "duration": 957,
    "start_time": "2021-11-22T21:06:56.427Z"
   },
   {
    "duration": 3749,
    "start_time": "2021-11-22T21:06:57.387Z"
   },
   {
    "duration": 23,
    "start_time": "2021-11-22T21:07:01.139Z"
   },
   {
    "duration": 52,
    "start_time": "2021-11-22T21:07:01.164Z"
   },
   {
    "duration": 5,
    "start_time": "2021-11-22T21:07:01.220Z"
   },
   {
    "duration": 79,
    "start_time": "2021-11-22T21:07:01.228Z"
   },
   {
    "duration": 45,
    "start_time": "2021-11-22T21:07:01.309Z"
   },
   {
    "duration": 189,
    "start_time": "2021-11-22T21:07:01.357Z"
   },
   {
    "duration": -390,
    "start_time": "2021-11-22T21:07:01.939Z"
   },
   {
    "duration": -393,
    "start_time": "2021-11-22T21:07:01.943Z"
   },
   {
    "duration": -394,
    "start_time": "2021-11-22T21:07:01.946Z"
   },
   {
    "duration": -395,
    "start_time": "2021-11-22T21:07:01.948Z"
   },
   {
    "duration": -396,
    "start_time": "2021-11-22T21:07:01.950Z"
   },
   {
    "duration": -397,
    "start_time": "2021-11-22T21:07:01.952Z"
   },
   {
    "duration": -398,
    "start_time": "2021-11-22T21:07:01.955Z"
   },
   {
    "duration": -403,
    "start_time": "2021-11-22T21:07:01.961Z"
   },
   {
    "duration": 6,
    "start_time": "2021-11-22T21:07:27.632Z"
   },
   {
    "duration": 42,
    "start_time": "2021-11-22T21:07:29.797Z"
   },
   {
    "duration": 863,
    "start_time": "2021-11-22T21:18:45.021Z"
   },
   {
    "duration": 91,
    "start_time": "2021-11-22T21:18:45.887Z"
   },
   {
    "duration": 55,
    "start_time": "2021-11-22T21:18:45.982Z"
   },
   {
    "duration": 17,
    "start_time": "2021-11-22T21:18:46.041Z"
   },
   {
    "duration": 86,
    "start_time": "2021-11-22T21:18:46.061Z"
   },
   {
    "duration": 16,
    "start_time": "2021-11-22T21:18:46.149Z"
   },
   {
    "duration": 8,
    "start_time": "2021-11-22T21:18:46.167Z"
   },
   {
    "duration": 9,
    "start_time": "2021-11-22T21:18:46.201Z"
   },
   {
    "duration": 8,
    "start_time": "2021-11-22T21:18:46.215Z"
   },
   {
    "duration": 11,
    "start_time": "2021-11-22T21:18:46.227Z"
   },
   {
    "duration": 9,
    "start_time": "2021-11-22T21:18:46.240Z"
   },
   {
    "duration": 26,
    "start_time": "2021-11-22T21:18:46.302Z"
   },
   {
    "duration": 7,
    "start_time": "2021-11-22T21:18:46.330Z"
   },
   {
    "duration": 7,
    "start_time": "2021-11-22T21:18:46.340Z"
   },
   {
    "duration": 9,
    "start_time": "2021-11-22T21:18:46.349Z"
   },
   {
    "duration": 48,
    "start_time": "2021-11-22T21:18:46.360Z"
   },
   {
    "duration": 20,
    "start_time": "2021-11-22T21:18:46.410Z"
   },
   {
    "duration": 5,
    "start_time": "2021-11-22T21:18:46.433Z"
   },
   {
    "duration": 8,
    "start_time": "2021-11-22T21:18:46.440Z"
   },
   {
    "duration": 68,
    "start_time": "2021-11-22T21:18:46.451Z"
   },
   {
    "duration": 34,
    "start_time": "2021-11-22T21:18:46.523Z"
   },
   {
    "duration": 10,
    "start_time": "2021-11-22T21:18:46.559Z"
   },
   {
    "duration": 57,
    "start_time": "2021-11-22T21:18:46.571Z"
   },
   {
    "duration": 45,
    "start_time": "2021-11-22T21:18:46.631Z"
   },
   {
    "duration": 48,
    "start_time": "2021-11-22T21:18:46.679Z"
   },
   {
    "duration": 37,
    "start_time": "2021-11-22T21:18:46.730Z"
   },
   {
    "duration": 53,
    "start_time": "2021-11-22T21:18:46.774Z"
   },
   {
    "duration": 27,
    "start_time": "2021-11-22T21:18:46.831Z"
   },
   {
    "duration": 1047,
    "start_time": "2021-11-22T21:18:46.861Z"
   },
   {
    "duration": 3919,
    "start_time": "2021-11-22T21:18:47.911Z"
   },
   {
    "duration": 20,
    "start_time": "2021-11-22T21:18:51.832Z"
   },
   {
    "duration": 22,
    "start_time": "2021-11-22T21:18:51.854Z"
   },
   {
    "duration": 22,
    "start_time": "2021-11-22T21:18:51.879Z"
   },
   {
    "duration": 43,
    "start_time": "2021-11-22T21:18:51.904Z"
   },
   {
    "duration": 21,
    "start_time": "2021-11-22T21:18:51.950Z"
   },
   {
    "duration": 7,
    "start_time": "2021-11-22T21:18:52.001Z"
   },
   {
    "duration": 45,
    "start_time": "2021-11-22T21:18:52.011Z"
   },
   {
    "duration": 55,
    "start_time": "2021-11-22T21:18:52.058Z"
   },
   {
    "duration": 31,
    "start_time": "2021-11-22T21:18:52.115Z"
   },
   {
    "duration": 54,
    "start_time": "2021-11-22T21:18:52.149Z"
   },
   {
    "duration": 32,
    "start_time": "2021-11-22T21:18:52.206Z"
   },
   {
    "duration": 29,
    "start_time": "2021-11-22T21:18:52.240Z"
   },
   {
    "duration": 61,
    "start_time": "2021-11-22T21:18:52.271Z"
   },
   {
    "duration": 855,
    "start_time": "2021-11-23T06:21:54.504Z"
   },
   {
    "duration": 63,
    "start_time": "2021-11-23T06:21:55.362Z"
   },
   {
    "duration": 33,
    "start_time": "2021-11-23T06:21:55.428Z"
   },
   {
    "duration": 15,
    "start_time": "2021-11-23T06:21:55.464Z"
   },
   {
    "duration": 43,
    "start_time": "2021-11-23T06:21:55.482Z"
   },
   {
    "duration": 44,
    "start_time": "2021-11-23T06:21:55.528Z"
   },
   {
    "duration": 6,
    "start_time": "2021-11-23T06:21:55.574Z"
   },
   {
    "duration": 7,
    "start_time": "2021-11-23T06:21:55.583Z"
   },
   {
    "duration": 6,
    "start_time": "2021-11-23T06:21:55.594Z"
   },
   {
    "duration": 56,
    "start_time": "2021-11-23T06:21:55.603Z"
   },
   {
    "duration": 8,
    "start_time": "2021-11-23T06:21:55.662Z"
   },
   {
    "duration": 28,
    "start_time": "2021-11-23T06:21:55.673Z"
   },
   {
    "duration": 9,
    "start_time": "2021-11-23T06:21:55.703Z"
   },
   {
    "duration": 8,
    "start_time": "2021-11-23T06:21:55.715Z"
   },
   {
    "duration": 10,
    "start_time": "2021-11-23T06:21:55.760Z"
   },
   {
    "duration": 15,
    "start_time": "2021-11-23T06:21:55.773Z"
   },
   {
    "duration": 15,
    "start_time": "2021-11-23T06:21:55.791Z"
   },
   {
    "duration": 50,
    "start_time": "2021-11-23T06:21:55.809Z"
   },
   {
    "duration": 6,
    "start_time": "2021-11-23T06:21:55.862Z"
   },
   {
    "duration": 25,
    "start_time": "2021-11-23T06:21:55.871Z"
   },
   {
    "duration": 27,
    "start_time": "2021-11-23T06:21:55.899Z"
   },
   {
    "duration": 33,
    "start_time": "2021-11-23T06:21:55.928Z"
   },
   {
    "duration": 29,
    "start_time": "2021-11-23T06:21:55.963Z"
   },
   {
    "duration": 91,
    "start_time": "2021-11-23T06:21:55.995Z"
   },
   {
    "duration": 33,
    "start_time": "2021-11-23T06:21:56.089Z"
   },
   {
    "duration": 54,
    "start_time": "2021-11-23T06:21:56.125Z"
   },
   {
    "duration": 23,
    "start_time": "2021-11-23T06:21:56.186Z"
   },
   {
    "duration": 50,
    "start_time": "2021-11-23T06:21:56.211Z"
   },
   {
    "duration": 913,
    "start_time": "2021-11-23T06:21:56.263Z"
   },
   {
    "duration": 3660,
    "start_time": "2021-11-23T06:21:57.180Z"
   },
   {
    "duration": 35,
    "start_time": "2021-11-23T06:22:00.843Z"
   },
   {
    "duration": 23,
    "start_time": "2021-11-23T06:22:00.880Z"
   },
   {
    "duration": 5,
    "start_time": "2021-11-23T06:22:00.905Z"
   },
   {
    "duration": 63,
    "start_time": "2021-11-23T06:22:00.912Z"
   },
   {
    "duration": 30,
    "start_time": "2021-11-23T06:22:00.978Z"
   },
   {
    "duration": 13,
    "start_time": "2021-11-23T06:22:01.011Z"
   },
   {
    "duration": 72,
    "start_time": "2021-11-23T06:22:01.027Z"
   },
   {
    "duration": 30,
    "start_time": "2021-11-23T06:22:01.101Z"
   },
   {
    "duration": 49,
    "start_time": "2021-11-23T06:22:01.133Z"
   },
   {
    "duration": 28,
    "start_time": "2021-11-23T06:22:01.185Z"
   },
   {
    "duration": 65,
    "start_time": "2021-11-23T06:22:01.215Z"
   },
   {
    "duration": 25,
    "start_time": "2021-11-23T06:22:01.283Z"
   },
   {
    "duration": 54,
    "start_time": "2021-11-23T06:22:01.311Z"
   },
   {
    "duration": 758,
    "start_time": "2021-11-23T06:24:16.180Z"
   },
   {
    "duration": 64,
    "start_time": "2021-11-23T06:24:16.941Z"
   },
   {
    "duration": 28,
    "start_time": "2021-11-23T06:24:17.007Z"
   },
   {
    "duration": 31,
    "start_time": "2021-11-23T06:24:17.038Z"
   },
   {
    "duration": 49,
    "start_time": "2021-11-23T06:24:17.072Z"
   },
   {
    "duration": 37,
    "start_time": "2021-11-23T06:24:17.123Z"
   },
   {
    "duration": 7,
    "start_time": "2021-11-23T06:24:17.163Z"
   },
   {
    "duration": 24,
    "start_time": "2021-11-23T06:24:17.172Z"
   },
   {
    "duration": 10,
    "start_time": "2021-11-23T06:24:17.200Z"
   },
   {
    "duration": 17,
    "start_time": "2021-11-23T06:24:17.213Z"
   },
   {
    "duration": 10,
    "start_time": "2021-11-23T06:24:17.233Z"
   },
   {
    "duration": 21,
    "start_time": "2021-11-23T06:24:17.259Z"
   },
   {
    "duration": 7,
    "start_time": "2021-11-23T06:24:17.283Z"
   },
   {
    "duration": 16,
    "start_time": "2021-11-23T06:24:17.292Z"
   },
   {
    "duration": 15,
    "start_time": "2021-11-23T06:24:17.310Z"
   },
   {
    "duration": 14,
    "start_time": "2021-11-23T06:24:17.327Z"
   },
   {
    "duration": 15,
    "start_time": "2021-11-23T06:24:17.358Z"
   },
   {
    "duration": 15,
    "start_time": "2021-11-23T06:24:17.375Z"
   },
   {
    "duration": 24,
    "start_time": "2021-11-23T06:24:17.393Z"
   },
   {
    "duration": 25,
    "start_time": "2021-11-23T06:24:17.419Z"
   },
   {
    "duration": 27,
    "start_time": "2021-11-23T06:24:17.447Z"
   },
   {
    "duration": 7,
    "start_time": "2021-11-23T06:24:17.476Z"
   },
   {
    "duration": 28,
    "start_time": "2021-11-23T06:24:17.486Z"
   },
   {
    "duration": 76,
    "start_time": "2021-11-23T06:24:17.517Z"
   },
   {
    "duration": 21,
    "start_time": "2021-11-23T06:24:17.596Z"
   },
   {
    "duration": 51,
    "start_time": "2021-11-23T06:24:17.619Z"
   },
   {
    "duration": 22,
    "start_time": "2021-11-23T06:24:17.675Z"
   },
   {
    "duration": 23,
    "start_time": "2021-11-23T06:24:17.700Z"
   },
   {
    "duration": 923,
    "start_time": "2021-11-23T06:24:17.725Z"
   },
   {
    "duration": 3855,
    "start_time": "2021-11-23T06:24:18.651Z"
   },
   {
    "duration": 20,
    "start_time": "2021-11-23T06:24:22.508Z"
   },
   {
    "duration": 40,
    "start_time": "2021-11-23T06:24:22.530Z"
   },
   {
    "duration": 4,
    "start_time": "2021-11-23T06:24:22.572Z"
   },
   {
    "duration": 48,
    "start_time": "2021-11-23T06:24:22.578Z"
   },
   {
    "duration": 30,
    "start_time": "2021-11-23T06:24:22.629Z"
   },
   {
    "duration": 6,
    "start_time": "2021-11-23T06:24:22.662Z"
   },
   {
    "duration": 45,
    "start_time": "2021-11-23T06:24:22.670Z"
   },
   {
    "duration": 65,
    "start_time": "2021-11-23T06:24:22.719Z"
   },
   {
    "duration": 30,
    "start_time": "2021-11-23T06:24:22.787Z"
   },
   {
    "duration": 57,
    "start_time": "2021-11-23T06:24:22.820Z"
   },
   {
    "duration": 31,
    "start_time": "2021-11-23T06:24:22.880Z"
   },
   {
    "duration": 62,
    "start_time": "2021-11-23T06:24:22.914Z"
   },
   {
    "duration": 31,
    "start_time": "2021-11-23T06:24:22.979Z"
   },
   {
    "duration": 36,
    "start_time": "2021-11-23T06:38:09.510Z"
   },
   {
    "duration": 47,
    "start_time": "2021-11-23T06:49:51.779Z"
   },
   {
    "duration": 42,
    "start_time": "2021-11-23T06:50:21.205Z"
   },
   {
    "duration": 29,
    "start_time": "2021-11-23T06:50:22.736Z"
   },
   {
    "duration": 6,
    "start_time": "2021-11-23T07:06:38.398Z"
   },
   {
    "duration": 27,
    "start_time": "2021-11-23T07:06:52.718Z"
   },
   {
    "duration": 5,
    "start_time": "2021-11-23T07:06:54.845Z"
   },
   {
    "duration": 5,
    "start_time": "2021-11-23T07:06:58.157Z"
   },
   {
    "duration": 627,
    "start_time": "2021-11-23T20:07:47.820Z"
   },
   {
    "duration": 50,
    "start_time": "2021-11-23T20:07:48.448Z"
   },
   {
    "duration": 18,
    "start_time": "2021-11-23T20:07:48.500Z"
   },
   {
    "duration": 9,
    "start_time": "2021-11-23T20:07:48.520Z"
   },
   {
    "duration": 38,
    "start_time": "2021-11-23T20:07:48.531Z"
   },
   {
    "duration": 10,
    "start_time": "2021-11-23T20:07:48.571Z"
   },
   {
    "duration": 4,
    "start_time": "2021-11-23T20:07:48.582Z"
   },
   {
    "duration": 5,
    "start_time": "2021-11-23T20:07:48.588Z"
   },
   {
    "duration": 5,
    "start_time": "2021-11-23T20:07:48.594Z"
   },
   {
    "duration": 7,
    "start_time": "2021-11-23T20:07:48.600Z"
   },
   {
    "duration": 39,
    "start_time": "2021-11-23T20:07:48.608Z"
   },
   {
    "duration": 11,
    "start_time": "2021-11-23T20:07:48.649Z"
   },
   {
    "duration": 5,
    "start_time": "2021-11-23T20:07:48.662Z"
   },
   {
    "duration": 4,
    "start_time": "2021-11-23T20:07:48.669Z"
   },
   {
    "duration": 9,
    "start_time": "2021-11-23T20:07:48.674Z"
   },
   {
    "duration": 9,
    "start_time": "2021-11-23T20:07:48.685Z"
   },
   {
    "duration": 11,
    "start_time": "2021-11-23T20:07:48.695Z"
   },
   {
    "duration": 39,
    "start_time": "2021-11-23T20:07:48.707Z"
   },
   {
    "duration": 4,
    "start_time": "2021-11-23T20:07:48.748Z"
   },
   {
    "duration": 17,
    "start_time": "2021-11-23T20:07:48.754Z"
   },
   {
    "duration": 18,
    "start_time": "2021-11-23T20:07:48.772Z"
   },
   {
    "duration": 5,
    "start_time": "2021-11-23T20:07:48.792Z"
   },
   {
    "duration": 49,
    "start_time": "2021-11-23T20:07:48.800Z"
   },
   {
    "duration": 29,
    "start_time": "2021-11-23T20:07:48.851Z"
   },
   {
    "duration": 15,
    "start_time": "2021-11-23T20:07:48.882Z"
   },
   {
    "duration": 20,
    "start_time": "2021-11-23T20:07:48.899Z"
   },
   {
    "duration": 37,
    "start_time": "2021-11-23T20:07:48.920Z"
   },
   {
    "duration": 14,
    "start_time": "2021-11-23T20:07:48.959Z"
   },
   {
    "duration": 904,
    "start_time": "2021-11-23T20:07:48.975Z"
   },
   {
    "duration": 6083,
    "start_time": "2021-11-23T20:07:49.881Z"
   },
   {
    "duration": 19,
    "start_time": "2021-11-23T20:07:55.966Z"
   },
   {
    "duration": 72,
    "start_time": "2021-11-23T20:07:55.987Z"
   },
   {
    "duration": 3,
    "start_time": "2021-11-23T20:07:56.061Z"
   },
   {
    "duration": 84,
    "start_time": "2021-11-23T20:07:56.066Z"
   },
   {
    "duration": 14,
    "start_time": "2021-11-23T20:07:56.152Z"
   },
   {
    "duration": 3,
    "start_time": "2021-11-23T20:07:56.168Z"
   },
   {
    "duration": 86,
    "start_time": "2021-11-23T20:07:56.173Z"
   },
   {
    "duration": 25,
    "start_time": "2021-11-23T20:07:56.261Z"
   },
   {
    "duration": 20,
    "start_time": "2021-11-23T20:07:56.345Z"
   },
   {
    "duration": 89,
    "start_time": "2021-11-23T20:07:56.367Z"
   },
   {
    "duration": 86,
    "start_time": "2021-11-23T20:07:56.458Z"
   },
   {
    "duration": 580,
    "start_time": "2021-11-23T21:08:52.579Z"
   },
   {
    "duration": 50,
    "start_time": "2021-11-23T21:08:53.161Z"
   },
   {
    "duration": 17,
    "start_time": "2021-11-23T21:08:53.215Z"
   },
   {
    "duration": 9,
    "start_time": "2021-11-23T21:08:53.234Z"
   },
   {
    "duration": 26,
    "start_time": "2021-11-23T21:08:53.245Z"
   },
   {
    "duration": 15,
    "start_time": "2021-11-23T21:08:53.289Z"
   },
   {
    "duration": 4,
    "start_time": "2021-11-23T21:08:53.307Z"
   },
   {
    "duration": 7,
    "start_time": "2021-11-23T21:08:53.313Z"
   },
   {
    "duration": 5,
    "start_time": "2021-11-23T21:08:53.321Z"
   },
   {
    "duration": 6,
    "start_time": "2021-11-23T21:08:53.328Z"
   },
   {
    "duration": 4,
    "start_time": "2021-11-23T21:08:53.335Z"
   },
   {
    "duration": 13,
    "start_time": "2021-11-23T21:08:53.341Z"
   },
   {
    "duration": 5,
    "start_time": "2021-11-23T21:08:53.355Z"
   },
   {
    "duration": 29,
    "start_time": "2021-11-23T21:08:53.362Z"
   },
   {
    "duration": 14,
    "start_time": "2021-11-23T21:08:53.392Z"
   },
   {
    "duration": 7,
    "start_time": "2021-11-23T21:08:53.408Z"
   },
   {
    "duration": 9,
    "start_time": "2021-11-23T21:08:53.417Z"
   },
   {
    "duration": 3,
    "start_time": "2021-11-23T21:08:53.427Z"
   },
   {
    "duration": 5,
    "start_time": "2021-11-23T21:08:53.431Z"
   },
   {
    "duration": 14,
    "start_time": "2021-11-23T21:08:53.438Z"
   },
   {
    "duration": 42,
    "start_time": "2021-11-23T21:08:53.453Z"
   },
   {
    "duration": 6,
    "start_time": "2021-11-23T21:08:53.498Z"
   },
   {
    "duration": 16,
    "start_time": "2021-11-23T21:08:53.506Z"
   },
   {
    "duration": 26,
    "start_time": "2021-11-23T21:08:53.523Z"
   },
   {
    "duration": 13,
    "start_time": "2021-11-23T21:08:53.551Z"
   },
   {
    "duration": 43,
    "start_time": "2021-11-23T21:08:53.565Z"
   },
   {
    "duration": 14,
    "start_time": "2021-11-23T21:08:53.609Z"
   },
   {
    "duration": 15,
    "start_time": "2021-11-23T21:08:53.625Z"
   },
   {
    "duration": 674,
    "start_time": "2021-11-23T21:08:53.641Z"
   },
   {
    "duration": 2896,
    "start_time": "2021-11-23T21:08:54.317Z"
   },
   {
    "duration": 12,
    "start_time": "2021-11-23T21:08:57.215Z"
   },
   {
    "duration": 16,
    "start_time": "2021-11-23T21:08:57.228Z"
   },
   {
    "duration": 3,
    "start_time": "2021-11-23T21:08:57.245Z"
   },
   {
    "duration": 24,
    "start_time": "2021-11-23T21:08:57.250Z"
   },
   {
    "duration": 15,
    "start_time": "2021-11-23T21:08:57.288Z"
   },
   {
    "duration": 11,
    "start_time": "2021-11-23T21:08:57.304Z"
   },
   {
    "duration": 25,
    "start_time": "2021-11-23T21:08:57.316Z"
   },
   {
    "duration": 79,
    "start_time": "2021-11-23T21:08:57.343Z"
   },
   {
    "duration": -648,
    "start_time": "2021-11-23T21:08:58.072Z"
   },
   {
    "duration": -650,
    "start_time": "2021-11-23T21:08:58.075Z"
   },
   {
    "duration": -651,
    "start_time": "2021-11-23T21:08:58.077Z"
   },
   {
    "duration": 542,
    "start_time": "2021-11-23T21:09:32.356Z"
   },
   {
    "duration": 47,
    "start_time": "2021-11-23T21:09:32.900Z"
   },
   {
    "duration": 18,
    "start_time": "2021-11-23T21:09:32.949Z"
   },
   {
    "duration": 9,
    "start_time": "2021-11-23T21:09:32.969Z"
   },
   {
    "duration": 42,
    "start_time": "2021-11-23T21:09:32.979Z"
   },
   {
    "duration": 9,
    "start_time": "2021-11-23T21:09:33.022Z"
   },
   {
    "duration": 4,
    "start_time": "2021-11-23T21:09:33.033Z"
   },
   {
    "duration": 5,
    "start_time": "2021-11-23T21:09:33.039Z"
   },
   {
    "duration": 4,
    "start_time": "2021-11-23T21:09:33.046Z"
   },
   {
    "duration": 8,
    "start_time": "2021-11-23T21:09:33.051Z"
   },
   {
    "duration": 30,
    "start_time": "2021-11-23T21:09:33.060Z"
   },
   {
    "duration": 18,
    "start_time": "2021-11-23T21:09:33.092Z"
   },
   {
    "duration": 5,
    "start_time": "2021-11-23T21:09:33.112Z"
   },
   {
    "duration": 8,
    "start_time": "2021-11-23T21:09:33.119Z"
   },
   {
    "duration": 6,
    "start_time": "2021-11-23T21:09:33.128Z"
   },
   {
    "duration": 8,
    "start_time": "2021-11-23T21:09:33.135Z"
   },
   {
    "duration": 11,
    "start_time": "2021-11-23T21:09:33.145Z"
   },
   {
    "duration": 4,
    "start_time": "2021-11-23T21:09:33.157Z"
   },
   {
    "duration": 10,
    "start_time": "2021-11-23T21:09:33.188Z"
   },
   {
    "duration": 19,
    "start_time": "2021-11-23T21:09:33.200Z"
   },
   {
    "duration": 24,
    "start_time": "2021-11-23T21:09:33.221Z"
   },
   {
    "duration": 6,
    "start_time": "2021-11-23T21:09:33.246Z"
   },
   {
    "duration": 22,
    "start_time": "2021-11-23T21:09:33.255Z"
   },
   {
    "duration": 34,
    "start_time": "2021-11-23T21:09:33.278Z"
   },
   {
    "duration": 14,
    "start_time": "2021-11-23T21:09:33.313Z"
   },
   {
    "duration": 17,
    "start_time": "2021-11-23T21:09:33.329Z"
   },
   {
    "duration": 13,
    "start_time": "2021-11-23T21:09:33.348Z"
   },
   {
    "duration": 42,
    "start_time": "2021-11-23T21:09:33.362Z"
   },
   {
    "duration": 643,
    "start_time": "2021-11-23T21:09:33.405Z"
   },
   {
    "duration": 2870,
    "start_time": "2021-11-23T21:09:34.050Z"
   },
   {
    "duration": 13,
    "start_time": "2021-11-23T21:09:36.921Z"
   },
   {
    "duration": 16,
    "start_time": "2021-11-23T21:09:36.935Z"
   },
   {
    "duration": 2,
    "start_time": "2021-11-23T21:09:36.953Z"
   },
   {
    "duration": 42,
    "start_time": "2021-11-23T21:09:36.957Z"
   },
   {
    "duration": 13,
    "start_time": "2021-11-23T21:09:37.001Z"
   },
   {
    "duration": 4,
    "start_time": "2021-11-23T21:09:37.016Z"
   },
   {
    "duration": 24,
    "start_time": "2021-11-23T21:09:37.021Z"
   },
   {
    "duration": 24,
    "start_time": "2021-11-23T21:09:37.047Z"
   },
   {
    "duration": 39,
    "start_time": "2021-11-23T21:09:37.073Z"
   },
   {
    "duration": 15,
    "start_time": "2021-11-23T21:09:37.114Z"
   },
   {
    "duration": 16,
    "start_time": "2021-11-23T21:09:37.131Z"
   },
   {
    "duration": 551,
    "start_time": "2021-11-23T21:10:26.853Z"
   },
   {
    "duration": 48,
    "start_time": "2021-11-23T21:10:27.406Z"
   },
   {
    "duration": 16,
    "start_time": "2021-11-23T21:10:27.456Z"
   },
   {
    "duration": 9,
    "start_time": "2021-11-23T21:10:27.473Z"
   },
   {
    "duration": 29,
    "start_time": "2021-11-23T21:10:27.484Z"
   },
   {
    "duration": 9,
    "start_time": "2021-11-23T21:10:27.514Z"
   },
   {
    "duration": 8,
    "start_time": "2021-11-23T21:10:27.524Z"
   },
   {
    "duration": 7,
    "start_time": "2021-11-23T21:10:27.534Z"
   },
   {
    "duration": 4,
    "start_time": "2021-11-23T21:10:27.543Z"
   },
   {
    "duration": 6,
    "start_time": "2021-11-23T21:10:27.548Z"
   },
   {
    "duration": 33,
    "start_time": "2021-11-23T21:10:27.555Z"
   },
   {
    "duration": 10,
    "start_time": "2021-11-23T21:10:27.590Z"
   },
   {
    "duration": 5,
    "start_time": "2021-11-23T21:10:27.601Z"
   },
   {
    "duration": 4,
    "start_time": "2021-11-23T21:10:27.608Z"
   },
   {
    "duration": 5,
    "start_time": "2021-11-23T21:10:27.613Z"
   },
   {
    "duration": 7,
    "start_time": "2021-11-23T21:10:27.620Z"
   },
   {
    "duration": 9,
    "start_time": "2021-11-23T21:10:27.629Z"
   },
   {
    "duration": 4,
    "start_time": "2021-11-23T21:10:27.640Z"
   },
   {
    "duration": 4,
    "start_time": "2021-11-23T21:10:27.645Z"
   },
   {
    "duration": 45,
    "start_time": "2021-11-23T21:10:27.651Z"
   },
   {
    "duration": 17,
    "start_time": "2021-11-23T21:10:27.698Z"
   },
   {
    "duration": 4,
    "start_time": "2021-11-23T21:10:27.716Z"
   },
   {
    "duration": 17,
    "start_time": "2021-11-23T21:10:27.723Z"
   },
   {
    "duration": 48,
    "start_time": "2021-11-23T21:10:27.741Z"
   },
   {
    "duration": 14,
    "start_time": "2021-11-23T21:10:27.790Z"
   },
   {
    "duration": 19,
    "start_time": "2021-11-23T21:10:27.805Z"
   },
   {
    "duration": 13,
    "start_time": "2021-11-23T21:10:27.826Z"
   },
   {
    "duration": 13,
    "start_time": "2021-11-23T21:10:27.840Z"
   },
   {
    "duration": 621,
    "start_time": "2021-11-23T21:10:27.855Z"
   },
   {
    "duration": 2685,
    "start_time": "2021-11-23T21:10:28.478Z"
   },
   {
    "duration": 12,
    "start_time": "2021-11-23T21:10:31.165Z"
   },
   {
    "duration": 20,
    "start_time": "2021-11-23T21:10:31.178Z"
   },
   {
    "duration": 3,
    "start_time": "2021-11-23T21:10:31.199Z"
   },
   {
    "duration": 41,
    "start_time": "2021-11-23T21:10:31.203Z"
   },
   {
    "duration": 11,
    "start_time": "2021-11-23T21:10:31.246Z"
   },
   {
    "duration": 10,
    "start_time": "2021-11-23T21:10:31.258Z"
   },
   {
    "duration": 25,
    "start_time": "2021-11-23T21:10:31.269Z"
   },
   {
    "duration": 1143,
    "start_time": "2021-11-23T21:10:31.295Z"
   },
   {
    "duration": -736,
    "start_time": "2021-11-23T21:10:33.176Z"
   },
   {
    "duration": -739,
    "start_time": "2021-11-23T21:10:33.180Z"
   },
   {
    "duration": -740,
    "start_time": "2021-11-23T21:10:33.182Z"
   },
   {
    "duration": 556,
    "start_time": "2021-11-23T21:16:16.228Z"
   },
   {
    "duration": 49,
    "start_time": "2021-11-23T21:16:16.786Z"
   },
   {
    "duration": 17,
    "start_time": "2021-11-23T21:16:16.839Z"
   },
   {
    "duration": 12,
    "start_time": "2021-11-23T21:16:16.857Z"
   },
   {
    "duration": 37,
    "start_time": "2021-11-23T21:16:16.871Z"
   },
   {
    "duration": 8,
    "start_time": "2021-11-23T21:16:16.909Z"
   },
   {
    "duration": 3,
    "start_time": "2021-11-23T21:16:16.919Z"
   },
   {
    "duration": 4,
    "start_time": "2021-11-23T21:16:16.925Z"
   },
   {
    "duration": 5,
    "start_time": "2021-11-23T21:16:16.930Z"
   },
   {
    "duration": 5,
    "start_time": "2021-11-23T21:16:16.936Z"
   },
   {
    "duration": 5,
    "start_time": "2021-11-23T21:16:16.943Z"
   },
   {
    "duration": 46,
    "start_time": "2021-11-23T21:16:16.949Z"
   },
   {
    "duration": 4,
    "start_time": "2021-11-23T21:16:16.997Z"
   },
   {
    "duration": 4,
    "start_time": "2021-11-23T21:16:17.003Z"
   },
   {
    "duration": 22,
    "start_time": "2021-11-23T21:16:17.008Z"
   },
   {
    "duration": 9,
    "start_time": "2021-11-23T21:16:17.031Z"
   },
   {
    "duration": 9,
    "start_time": "2021-11-23T21:16:17.041Z"
   },
   {
    "duration": 4,
    "start_time": "2021-11-23T21:16:17.052Z"
   },
   {
    "duration": 5,
    "start_time": "2021-11-23T21:16:17.057Z"
   },
   {
    "duration": 29,
    "start_time": "2021-11-23T21:16:17.063Z"
   },
   {
    "duration": 18,
    "start_time": "2021-11-23T21:16:17.093Z"
   },
   {
    "duration": 4,
    "start_time": "2021-11-23T21:16:17.113Z"
   },
   {
    "duration": 15,
    "start_time": "2021-11-23T21:16:17.119Z"
   },
   {
    "duration": 25,
    "start_time": "2021-11-23T21:16:17.135Z"
   },
   {
    "duration": 37,
    "start_time": "2021-11-23T21:16:17.161Z"
   },
   {
    "duration": 18,
    "start_time": "2021-11-23T21:16:17.201Z"
   },
   {
    "duration": 15,
    "start_time": "2021-11-23T21:16:17.221Z"
   },
   {
    "duration": 15,
    "start_time": "2021-11-23T21:16:17.238Z"
   },
   {
    "duration": 628,
    "start_time": "2021-11-23T21:16:17.255Z"
   },
   {
    "duration": 2623,
    "start_time": "2021-11-23T21:16:17.887Z"
   },
   {
    "duration": 13,
    "start_time": "2021-11-23T21:16:20.511Z"
   },
   {
    "duration": 11,
    "start_time": "2021-11-23T21:16:20.525Z"
   },
   {
    "duration": 2,
    "start_time": "2021-11-23T21:16:20.538Z"
   },
   {
    "duration": 24,
    "start_time": "2021-11-23T21:16:20.542Z"
   },
   {
    "duration": 11,
    "start_time": "2021-11-23T21:16:20.588Z"
   },
   {
    "duration": 4,
    "start_time": "2021-11-23T21:16:20.601Z"
   },
   {
    "duration": 26,
    "start_time": "2021-11-23T21:16:20.606Z"
   },
   {
    "duration": 80,
    "start_time": "2021-11-23T21:16:20.634Z"
   },
   {
    "duration": -648,
    "start_time": "2021-11-23T21:16:21.364Z"
   },
   {
    "duration": -650,
    "start_time": "2021-11-23T21:16:21.367Z"
   },
   {
    "duration": -652,
    "start_time": "2021-11-23T21:16:21.370Z"
   },
   {
    "duration": 558,
    "start_time": "2021-11-23T21:17:00.918Z"
   },
   {
    "duration": 53,
    "start_time": "2021-11-23T21:17:01.478Z"
   },
   {
    "duration": 17,
    "start_time": "2021-11-23T21:17:01.535Z"
   },
   {
    "duration": 29,
    "start_time": "2021-11-23T21:17:01.554Z"
   },
   {
    "duration": 52,
    "start_time": "2021-11-23T21:17:01.584Z"
   },
   {
    "duration": 9,
    "start_time": "2021-11-23T21:17:01.638Z"
   },
   {
    "duration": 30,
    "start_time": "2021-11-23T21:17:01.649Z"
   },
   {
    "duration": 26,
    "start_time": "2021-11-23T21:17:01.683Z"
   },
   {
    "duration": 16,
    "start_time": "2021-11-23T21:17:01.712Z"
   },
   {
    "duration": 22,
    "start_time": "2021-11-23T21:17:01.730Z"
   },
   {
    "duration": 19,
    "start_time": "2021-11-23T21:17:01.754Z"
   },
   {
    "duration": 23,
    "start_time": "2021-11-23T21:17:01.775Z"
   },
   {
    "duration": 29,
    "start_time": "2021-11-23T21:17:01.800Z"
   },
   {
    "duration": 27,
    "start_time": "2021-11-23T21:17:01.831Z"
   },
   {
    "duration": 51,
    "start_time": "2021-11-23T21:17:01.859Z"
   },
   {
    "duration": 26,
    "start_time": "2021-11-23T21:17:01.912Z"
   },
   {
    "duration": 38,
    "start_time": "2021-11-23T21:17:01.940Z"
   },
   {
    "duration": 31,
    "start_time": "2021-11-23T21:17:01.980Z"
   },
   {
    "duration": 25,
    "start_time": "2021-11-23T21:17:02.013Z"
   },
   {
    "duration": 52,
    "start_time": "2021-11-23T21:17:02.040Z"
   },
   {
    "duration": 35,
    "start_time": "2021-11-23T21:17:02.093Z"
   },
   {
    "duration": 21,
    "start_time": "2021-11-23T21:17:02.130Z"
   },
   {
    "duration": 31,
    "start_time": "2021-11-23T21:17:02.153Z"
   },
   {
    "duration": 34,
    "start_time": "2021-11-23T21:17:02.186Z"
   },
   {
    "duration": 21,
    "start_time": "2021-11-23T21:17:02.221Z"
   },
   {
    "duration": 19,
    "start_time": "2021-11-23T21:17:02.245Z"
   },
   {
    "duration": 25,
    "start_time": "2021-11-23T21:17:02.266Z"
   },
   {
    "duration": 21,
    "start_time": "2021-11-23T21:17:02.292Z"
   },
   {
    "duration": 639,
    "start_time": "2021-11-23T21:17:02.315Z"
   },
   {
    "duration": 2864,
    "start_time": "2021-11-23T21:17:02.956Z"
   },
   {
    "duration": 13,
    "start_time": "2021-11-23T21:17:05.822Z"
   },
   {
    "duration": 24,
    "start_time": "2021-11-23T21:17:05.837Z"
   },
   {
    "duration": 23,
    "start_time": "2021-11-23T21:17:05.863Z"
   },
   {
    "duration": 45,
    "start_time": "2021-11-23T21:17:05.888Z"
   },
   {
    "duration": 42,
    "start_time": "2021-11-23T21:17:05.935Z"
   },
   {
    "duration": 29,
    "start_time": "2021-11-23T21:17:05.979Z"
   },
   {
    "duration": 55,
    "start_time": "2021-11-23T21:17:06.011Z"
   },
   {
    "duration": 101,
    "start_time": "2021-11-23T21:17:06.067Z"
   },
   {
    "duration": -672,
    "start_time": "2021-11-23T21:17:06.842Z"
   },
   {
    "duration": -673,
    "start_time": "2021-11-23T21:17:06.845Z"
   },
   {
    "duration": -675,
    "start_time": "2021-11-23T21:17:06.848Z"
   },
   {
    "duration": 27,
    "start_time": "2021-11-23T21:17:49.945Z"
   },
   {
    "duration": 1017,
    "start_time": "2021-11-23T21:19:02.718Z"
   },
   {
    "duration": 20,
    "start_time": "2021-11-23T21:25:40.103Z"
   },
   {
    "duration": 581,
    "start_time": "2021-11-23T21:30:29.170Z"
   },
   {
    "duration": 46,
    "start_time": "2021-11-23T21:30:29.753Z"
   },
   {
    "duration": 16,
    "start_time": "2021-11-23T21:30:29.801Z"
   },
   {
    "duration": 9,
    "start_time": "2021-11-23T21:30:29.819Z"
   },
   {
    "duration": 26,
    "start_time": "2021-11-23T21:30:29.830Z"
   },
   {
    "duration": 9,
    "start_time": "2021-11-23T21:30:29.857Z"
   },
   {
    "duration": 21,
    "start_time": "2021-11-23T21:30:29.867Z"
   },
   {
    "duration": 5,
    "start_time": "2021-11-23T21:30:29.890Z"
   },
   {
    "duration": 6,
    "start_time": "2021-11-23T21:30:29.897Z"
   },
   {
    "duration": 6,
    "start_time": "2021-11-23T21:30:29.904Z"
   },
   {
    "duration": 4,
    "start_time": "2021-11-23T21:30:29.912Z"
   },
   {
    "duration": 11,
    "start_time": "2021-11-23T21:30:29.917Z"
   },
   {
    "duration": 4,
    "start_time": "2021-11-23T21:30:29.930Z"
   },
   {
    "duration": 4,
    "start_time": "2021-11-23T21:30:29.935Z"
   },
   {
    "duration": 6,
    "start_time": "2021-11-23T21:30:29.940Z"
   },
   {
    "duration": 46,
    "start_time": "2021-11-23T21:30:29.947Z"
   },
   {
    "duration": 10,
    "start_time": "2021-11-23T21:30:29.994Z"
   },
   {
    "duration": 16,
    "start_time": "2021-11-23T21:30:30.006Z"
   },
   {
    "duration": 7,
    "start_time": "2021-11-23T21:30:30.023Z"
   },
   {
    "duration": 19,
    "start_time": "2021-11-23T21:30:30.031Z"
   },
   {
    "duration": 20,
    "start_time": "2021-11-23T21:30:30.051Z"
   },
   {
    "duration": 15,
    "start_time": "2021-11-23T21:30:30.073Z"
   },
   {
    "duration": 16,
    "start_time": "2021-11-23T21:30:30.090Z"
   },
   {
    "duration": 26,
    "start_time": "2021-11-23T21:30:30.108Z"
   },
   {
    "duration": 14,
    "start_time": "2021-11-23T21:30:30.136Z"
   },
   {
    "duration": 42,
    "start_time": "2021-11-23T21:30:30.152Z"
   },
   {
    "duration": 13,
    "start_time": "2021-11-23T21:30:30.196Z"
   },
   {
    "duration": 13,
    "start_time": "2021-11-23T21:30:30.210Z"
   },
   {
    "duration": 610,
    "start_time": "2021-11-23T21:30:30.225Z"
   },
   {
    "duration": 2542,
    "start_time": "2021-11-23T21:30:30.837Z"
   },
   {
    "duration": 17,
    "start_time": "2021-11-23T21:30:33.380Z"
   },
   {
    "duration": 30,
    "start_time": "2021-11-23T21:30:33.399Z"
   },
   {
    "duration": 10,
    "start_time": "2021-11-23T21:30:33.431Z"
   },
   {
    "duration": 5,
    "start_time": "2021-11-23T21:30:33.443Z"
   },
   {
    "duration": 42,
    "start_time": "2021-11-23T21:30:33.449Z"
   },
   {
    "duration": 12,
    "start_time": "2021-11-23T21:30:33.492Z"
   },
   {
    "duration": 7,
    "start_time": "2021-11-23T21:30:33.505Z"
   },
   {
    "duration": 23,
    "start_time": "2021-11-23T21:30:33.513Z"
   },
   {
    "duration": 998,
    "start_time": "2021-11-23T21:30:33.537Z"
   },
   {
    "duration": -684,
    "start_time": "2021-11-23T21:30:35.222Z"
   },
   {
    "duration": -687,
    "start_time": "2021-11-23T21:30:35.226Z"
   },
   {
    "duration": -689,
    "start_time": "2021-11-23T21:30:35.229Z"
   },
   {
    "duration": 26,
    "start_time": "2021-11-23T21:31:02.378Z"
   },
   {
    "duration": 18,
    "start_time": "2021-11-23T21:31:06.485Z"
   },
   {
    "duration": 17,
    "start_time": "2021-11-23T21:31:12.485Z"
   },
   {
    "duration": 17,
    "start_time": "2021-11-23T21:31:17.582Z"
   },
   {
    "duration": 2596,
    "start_time": "2021-11-23T21:33:02.958Z"
   },
   {
    "duration": 12,
    "start_time": "2021-11-23T21:33:05.556Z"
   },
   {
    "duration": 37,
    "start_time": "2021-11-23T21:33:05.570Z"
   },
   {
    "duration": 602,
    "start_time": "2021-11-23T21:33:14.360Z"
   },
   {
    "duration": 52,
    "start_time": "2021-11-23T21:33:14.964Z"
   },
   {
    "duration": 19,
    "start_time": "2021-11-23T21:33:15.018Z"
   },
   {
    "duration": 14,
    "start_time": "2021-11-23T21:33:15.039Z"
   },
   {
    "duration": 39,
    "start_time": "2021-11-23T21:33:15.055Z"
   },
   {
    "duration": 8,
    "start_time": "2021-11-23T21:33:15.096Z"
   },
   {
    "duration": 9,
    "start_time": "2021-11-23T21:33:15.106Z"
   },
   {
    "duration": 16,
    "start_time": "2021-11-23T21:33:15.118Z"
   },
   {
    "duration": 26,
    "start_time": "2021-11-23T21:33:15.136Z"
   },
   {
    "duration": 13,
    "start_time": "2021-11-23T21:33:15.164Z"
   },
   {
    "duration": 12,
    "start_time": "2021-11-23T21:33:15.178Z"
   },
   {
    "duration": 21,
    "start_time": "2021-11-23T21:33:15.191Z"
   },
   {
    "duration": 5,
    "start_time": "2021-11-23T21:33:15.214Z"
   },
   {
    "duration": 26,
    "start_time": "2021-11-23T21:33:15.221Z"
   },
   {
    "duration": 26,
    "start_time": "2021-11-23T21:33:15.248Z"
   },
   {
    "duration": 27,
    "start_time": "2021-11-23T21:33:15.275Z"
   },
   {
    "duration": 22,
    "start_time": "2021-11-23T21:33:15.303Z"
   },
   {
    "duration": 16,
    "start_time": "2021-11-23T21:33:15.326Z"
   },
   {
    "duration": 20,
    "start_time": "2021-11-23T21:33:15.343Z"
   },
   {
    "duration": 29,
    "start_time": "2021-11-23T21:33:15.364Z"
   },
   {
    "duration": 28,
    "start_time": "2021-11-23T21:33:15.395Z"
   },
   {
    "duration": 5,
    "start_time": "2021-11-23T21:33:15.425Z"
   },
   {
    "duration": 19,
    "start_time": "2021-11-23T21:33:15.432Z"
   },
   {
    "duration": 26,
    "start_time": "2021-11-23T21:33:15.453Z"
   },
   {
    "duration": 19,
    "start_time": "2021-11-23T21:33:15.480Z"
   },
   {
    "duration": 19,
    "start_time": "2021-11-23T21:33:15.500Z"
   },
   {
    "duration": 13,
    "start_time": "2021-11-23T21:33:15.520Z"
   },
   {
    "duration": 14,
    "start_time": "2021-11-23T21:33:15.534Z"
   },
   {
    "duration": 642,
    "start_time": "2021-11-23T21:33:15.549Z"
   },
   {
    "duration": 2477,
    "start_time": "2021-11-23T21:33:16.193Z"
   },
   {
    "duration": 20,
    "start_time": "2021-11-23T21:33:18.672Z"
   },
   {
    "duration": 30,
    "start_time": "2021-11-23T21:33:18.693Z"
   },
   {
    "duration": 7,
    "start_time": "2021-11-23T21:33:18.725Z"
   },
   {
    "duration": 3,
    "start_time": "2021-11-23T21:33:18.733Z"
   },
   {
    "duration": 27,
    "start_time": "2021-11-23T21:33:18.738Z"
   },
   {
    "duration": 24,
    "start_time": "2021-11-23T21:33:18.767Z"
   },
   {
    "duration": 6,
    "start_time": "2021-11-23T21:33:18.792Z"
   },
   {
    "duration": 25,
    "start_time": "2021-11-23T21:33:18.800Z"
   },
   {
    "duration": 23,
    "start_time": "2021-11-23T21:33:18.827Z"
   },
   {
    "duration": 37,
    "start_time": "2021-11-23T21:33:18.852Z"
   },
   {
    "duration": 18,
    "start_time": "2021-11-23T21:33:18.890Z"
   },
   {
    "duration": 16,
    "start_time": "2021-11-23T21:33:18.909Z"
   },
   {
    "duration": 534,
    "start_time": "2021-11-23T21:40:41.923Z"
   },
   {
    "duration": 50,
    "start_time": "2021-11-23T21:40:42.459Z"
   },
   {
    "duration": 18,
    "start_time": "2021-11-23T21:40:42.511Z"
   },
   {
    "duration": 11,
    "start_time": "2021-11-23T21:40:42.531Z"
   },
   {
    "duration": 29,
    "start_time": "2021-11-23T21:40:42.543Z"
   },
   {
    "duration": 21,
    "start_time": "2021-11-23T21:40:42.574Z"
   },
   {
    "duration": 4,
    "start_time": "2021-11-23T21:40:42.596Z"
   },
   {
    "duration": 5,
    "start_time": "2021-11-23T21:40:42.602Z"
   },
   {
    "duration": 5,
    "start_time": "2021-11-23T21:40:42.609Z"
   },
   {
    "duration": 7,
    "start_time": "2021-11-23T21:40:42.615Z"
   },
   {
    "duration": 3,
    "start_time": "2021-11-23T21:40:42.624Z"
   },
   {
    "duration": 11,
    "start_time": "2021-11-23T21:40:42.629Z"
   },
   {
    "duration": 4,
    "start_time": "2021-11-23T21:40:42.641Z"
   },
   {
    "duration": 42,
    "start_time": "2021-11-23T21:40:42.647Z"
   },
   {
    "duration": 7,
    "start_time": "2021-11-23T21:40:42.691Z"
   },
   {
    "duration": 9,
    "start_time": "2021-11-23T21:40:42.699Z"
   },
   {
    "duration": 10,
    "start_time": "2021-11-23T21:40:42.709Z"
   },
   {
    "duration": 4,
    "start_time": "2021-11-23T21:40:42.720Z"
   },
   {
    "duration": 6,
    "start_time": "2021-11-23T21:40:42.725Z"
   },
   {
    "duration": 15,
    "start_time": "2021-11-23T21:40:42.732Z"
   },
   {
    "duration": 42,
    "start_time": "2021-11-23T21:40:42.749Z"
   },
   {
    "duration": 5,
    "start_time": "2021-11-23T21:40:42.793Z"
   },
   {
    "duration": 24,
    "start_time": "2021-11-23T21:40:42.799Z"
   },
   {
    "duration": 47,
    "start_time": "2021-11-23T21:40:42.825Z"
   },
   {
    "duration": 14,
    "start_time": "2021-11-23T21:40:42.874Z"
   },
   {
    "duration": 19,
    "start_time": "2021-11-23T21:40:42.889Z"
   },
   {
    "duration": 15,
    "start_time": "2021-11-23T21:40:42.911Z"
   },
   {
    "duration": 15,
    "start_time": "2021-11-23T21:40:42.928Z"
   },
   {
    "duration": 643,
    "start_time": "2021-11-23T21:40:42.945Z"
   },
   {
    "duration": 2718,
    "start_time": "2021-11-23T21:40:43.589Z"
   },
   {
    "duration": 13,
    "start_time": "2021-11-23T21:40:46.309Z"
   },
   {
    "duration": 24,
    "start_time": "2021-11-23T21:40:46.323Z"
   },
   {
    "duration": 9,
    "start_time": "2021-11-23T21:40:46.349Z"
   },
   {
    "duration": 3,
    "start_time": "2021-11-23T21:40:46.359Z"
   },
   {
    "duration": 23,
    "start_time": "2021-11-23T21:40:46.388Z"
   },
   {
    "duration": 16,
    "start_time": "2021-11-23T21:40:46.413Z"
   },
   {
    "duration": 5,
    "start_time": "2021-11-23T21:40:46.431Z"
   },
   {
    "duration": 25,
    "start_time": "2021-11-23T21:40:46.438Z"
   },
   {
    "duration": 41,
    "start_time": "2021-11-23T21:40:46.464Z"
   },
   {
    "duration": 18,
    "start_time": "2021-11-23T21:40:46.507Z"
   },
   {
    "duration": 18,
    "start_time": "2021-11-23T21:40:46.526Z"
   },
   {
    "duration": 44,
    "start_time": "2021-11-23T21:40:46.545Z"
   },
   {
    "duration": 537,
    "start_time": "2021-11-23T21:42:53.717Z"
   },
   {
    "duration": 55,
    "start_time": "2021-11-23T21:42:54.256Z"
   },
   {
    "duration": 19,
    "start_time": "2021-11-23T21:42:54.315Z"
   },
   {
    "duration": 11,
    "start_time": "2021-11-23T21:42:54.336Z"
   },
   {
    "duration": 44,
    "start_time": "2021-11-23T21:42:54.349Z"
   },
   {
    "duration": 10,
    "start_time": "2021-11-23T21:42:54.394Z"
   },
   {
    "duration": 5,
    "start_time": "2021-11-23T21:42:54.406Z"
   },
   {
    "duration": 8,
    "start_time": "2021-11-23T21:42:54.412Z"
   },
   {
    "duration": 13,
    "start_time": "2021-11-23T21:42:54.421Z"
   },
   {
    "duration": 9,
    "start_time": "2021-11-23T21:42:54.436Z"
   },
   {
    "duration": 5,
    "start_time": "2021-11-23T21:42:54.446Z"
   },
   {
    "duration": 38,
    "start_time": "2021-11-23T21:42:54.452Z"
   },
   {
    "duration": 5,
    "start_time": "2021-11-23T21:42:54.492Z"
   },
   {
    "duration": 6,
    "start_time": "2021-11-23T21:42:54.499Z"
   },
   {
    "duration": 6,
    "start_time": "2021-11-23T21:42:54.506Z"
   },
   {
    "duration": 9,
    "start_time": "2021-11-23T21:42:54.514Z"
   },
   {
    "duration": 15,
    "start_time": "2021-11-23T21:42:54.524Z"
   },
   {
    "duration": 11,
    "start_time": "2021-11-23T21:42:54.541Z"
   },
   {
    "duration": 113,
    "start_time": "2021-11-23T21:42:54.553Z"
   },
   {
    "duration": -640,
    "start_time": "2021-11-23T21:42:55.308Z"
   },
   {
    "duration": -641,
    "start_time": "2021-11-23T21:42:55.310Z"
   },
   {
    "duration": -643,
    "start_time": "2021-11-23T21:42:55.313Z"
   },
   {
    "duration": -645,
    "start_time": "2021-11-23T21:42:55.316Z"
   },
   {
    "duration": -647,
    "start_time": "2021-11-23T21:42:55.319Z"
   },
   {
    "duration": -650,
    "start_time": "2021-11-23T21:42:55.322Z"
   },
   {
    "duration": -662,
    "start_time": "2021-11-23T21:42:55.335Z"
   },
   {
    "duration": -663,
    "start_time": "2021-11-23T21:42:55.337Z"
   },
   {
    "duration": -665,
    "start_time": "2021-11-23T21:42:55.340Z"
   },
   {
    "duration": -666,
    "start_time": "2021-11-23T21:42:55.342Z"
   },
   {
    "duration": -675,
    "start_time": "2021-11-23T21:42:55.351Z"
   },
   {
    "duration": -691,
    "start_time": "2021-11-23T21:42:55.368Z"
   },
   {
    "duration": -692,
    "start_time": "2021-11-23T21:42:55.370Z"
   },
   {
    "duration": -694,
    "start_time": "2021-11-23T21:42:55.373Z"
   },
   {
    "duration": -695,
    "start_time": "2021-11-23T21:42:55.375Z"
   },
   {
    "duration": -696,
    "start_time": "2021-11-23T21:42:55.377Z"
   },
   {
    "duration": -698,
    "start_time": "2021-11-23T21:42:55.379Z"
   },
   {
    "duration": -700,
    "start_time": "2021-11-23T21:42:55.382Z"
   },
   {
    "duration": -701,
    "start_time": "2021-11-23T21:42:55.384Z"
   },
   {
    "duration": -702,
    "start_time": "2021-11-23T21:42:55.386Z"
   },
   {
    "duration": -703,
    "start_time": "2021-11-23T21:42:55.388Z"
   },
   {
    "duration": -706,
    "start_time": "2021-11-23T21:42:55.391Z"
   },
   {
    "duration": -707,
    "start_time": "2021-11-23T21:42:55.393Z"
   },
   {
    "duration": 4,
    "start_time": "2021-11-23T21:43:48.260Z"
   },
   {
    "duration": 14,
    "start_time": "2021-11-23T21:43:54.568Z"
   },
   {
    "duration": 19,
    "start_time": "2021-11-23T21:43:55.041Z"
   },
   {
    "duration": 6,
    "start_time": "2021-11-23T21:43:56.459Z"
   },
   {
    "duration": 18,
    "start_time": "2021-11-23T21:43:58.145Z"
   },
   {
    "duration": 28,
    "start_time": "2021-11-23T21:43:58.815Z"
   },
   {
    "duration": 94,
    "start_time": "2021-11-23T21:45:39.522Z"
   },
   {
    "duration": 521,
    "start_time": "2021-11-23T21:56:48.637Z"
   },
   {
    "duration": 48,
    "start_time": "2021-11-23T21:56:49.160Z"
   },
   {
    "duration": 17,
    "start_time": "2021-11-23T21:56:49.210Z"
   },
   {
    "duration": 12,
    "start_time": "2021-11-23T21:56:49.228Z"
   },
   {
    "duration": 47,
    "start_time": "2021-11-23T21:56:49.242Z"
   },
   {
    "duration": 10,
    "start_time": "2021-11-23T21:56:49.291Z"
   },
   {
    "duration": 5,
    "start_time": "2021-11-23T21:56:49.302Z"
   },
   {
    "duration": 5,
    "start_time": "2021-11-23T21:56:49.309Z"
   },
   {
    "duration": 6,
    "start_time": "2021-11-23T21:56:49.315Z"
   },
   {
    "duration": 7,
    "start_time": "2021-11-23T21:56:49.322Z"
   },
   {
    "duration": 6,
    "start_time": "2021-11-23T21:56:49.330Z"
   },
   {
    "duration": 10,
    "start_time": "2021-11-23T21:56:49.337Z"
   },
   {
    "duration": 4,
    "start_time": "2021-11-23T21:56:49.349Z"
   },
   {
    "duration": 5,
    "start_time": "2021-11-23T21:56:49.387Z"
   },
   {
    "duration": 8,
    "start_time": "2021-11-23T21:56:49.394Z"
   },
   {
    "duration": 10,
    "start_time": "2021-11-23T21:56:49.404Z"
   },
   {
    "duration": 10,
    "start_time": "2021-11-23T21:56:49.416Z"
   },
   {
    "duration": 5,
    "start_time": "2021-11-23T21:56:49.428Z"
   },
   {
    "duration": 8,
    "start_time": "2021-11-23T21:56:49.435Z"
   },
   {
    "duration": 45,
    "start_time": "2021-11-23T21:56:49.444Z"
   },
   {
    "duration": 23,
    "start_time": "2021-11-23T21:56:49.491Z"
   },
   {
    "duration": 6,
    "start_time": "2021-11-23T21:56:49.516Z"
   },
   {
    "duration": 18,
    "start_time": "2021-11-23T21:56:49.525Z"
   },
   {
    "duration": 51,
    "start_time": "2021-11-23T21:56:49.545Z"
   },
   {
    "duration": 14,
    "start_time": "2021-11-23T21:56:49.598Z"
   },
   {
    "duration": 20,
    "start_time": "2021-11-23T21:56:49.613Z"
   },
   {
    "duration": 14,
    "start_time": "2021-11-23T21:56:49.634Z"
   },
   {
    "duration": 40,
    "start_time": "2021-11-23T21:56:49.650Z"
   },
   {
    "duration": 619,
    "start_time": "2021-11-23T21:56:49.691Z"
   },
   {
    "duration": 2759,
    "start_time": "2021-11-23T21:56:50.312Z"
   },
   {
    "duration": 21,
    "start_time": "2021-11-23T21:56:53.073Z"
   },
   {
    "duration": 24,
    "start_time": "2021-11-23T21:56:53.096Z"
   },
   {
    "duration": 8,
    "start_time": "2021-11-23T21:56:53.121Z"
   },
   {
    "duration": 4,
    "start_time": "2021-11-23T21:56:53.131Z"
   },
   {
    "duration": 29,
    "start_time": "2021-11-23T21:56:53.136Z"
   },
   {
    "duration": 3,
    "start_time": "2021-11-23T21:56:53.166Z"
   },
   {
    "duration": 13,
    "start_time": "2021-11-23T21:56:53.188Z"
   },
   {
    "duration": 15,
    "start_time": "2021-11-23T21:56:53.202Z"
   },
   {
    "duration": 7,
    "start_time": "2021-11-23T21:56:53.219Z"
   },
   {
    "duration": 26,
    "start_time": "2021-11-23T21:56:53.228Z"
   },
   {
    "duration": 35,
    "start_time": "2021-11-23T21:56:53.255Z"
   },
   {
    "duration": 18,
    "start_time": "2021-11-23T21:56:53.291Z"
   },
   {
    "duration": 17,
    "start_time": "2021-11-23T21:56:53.311Z"
   },
   {
    "duration": 604,
    "start_time": "2021-11-23T22:19:21.362Z"
   },
   {
    "duration": 51,
    "start_time": "2021-11-23T22:19:22.016Z"
   },
   {
    "duration": 21,
    "start_time": "2021-11-23T22:19:23.012Z"
   },
   {
    "duration": 12,
    "start_time": "2021-11-23T22:19:25.162Z"
   },
   {
    "duration": 29,
    "start_time": "2021-11-23T22:19:27.417Z"
   },
   {
    "duration": 10,
    "start_time": "2021-11-23T22:19:29.159Z"
   },
   {
    "duration": 4,
    "start_time": "2021-11-23T22:19:32.139Z"
   },
   {
    "duration": 5,
    "start_time": "2021-11-23T22:19:33.568Z"
   },
   {
    "duration": 5,
    "start_time": "2021-11-23T22:19:34.229Z"
   },
   {
    "duration": 6,
    "start_time": "2021-11-23T22:19:35.687Z"
   },
   {
    "duration": 574,
    "start_time": "2021-11-23T22:25:27.401Z"
   },
   {
    "duration": 48,
    "start_time": "2021-11-23T22:25:27.977Z"
   },
   {
    "duration": 16,
    "start_time": "2021-11-23T22:25:28.027Z"
   },
   {
    "duration": 10,
    "start_time": "2021-11-23T22:25:28.046Z"
   },
   {
    "duration": 41,
    "start_time": "2021-11-23T22:25:28.058Z"
   },
   {
    "duration": 10,
    "start_time": "2021-11-23T22:25:28.101Z"
   },
   {
    "duration": 6,
    "start_time": "2021-11-23T22:25:28.112Z"
   },
   {
    "duration": 5,
    "start_time": "2021-11-23T22:25:28.119Z"
   },
   {
    "duration": 4,
    "start_time": "2021-11-23T22:25:28.125Z"
   },
   {
    "duration": 6,
    "start_time": "2021-11-23T22:25:28.131Z"
   },
   {
    "duration": 4,
    "start_time": "2021-11-23T22:25:28.138Z"
   },
   {
    "duration": 14,
    "start_time": "2021-11-23T22:25:36.446Z"
   },
   {
    "duration": 286,
    "start_time": "2021-11-23T22:28:19.759Z"
   },
   {
    "duration": 1700,
    "start_time": "2021-11-23T22:28:31.139Z"
   },
   {
    "duration": 1609,
    "start_time": "2021-11-23T22:29:06.971Z"
   },
   {
    "duration": 1690,
    "start_time": "2021-11-23T22:37:32.917Z"
   },
   {
    "duration": 9,
    "start_time": "2021-11-23T22:38:20.276Z"
   },
   {
    "duration": 7,
    "start_time": "2021-11-23T22:38:59.160Z"
   },
   {
    "duration": 9,
    "start_time": "2021-11-23T22:39:01.395Z"
   },
   {
    "duration": 10,
    "start_time": "2021-11-23T22:40:18.033Z"
   },
   {
    "duration": 549,
    "start_time": "2021-11-23T22:40:45.900Z"
   },
   {
    "duration": 56,
    "start_time": "2021-11-23T22:40:46.451Z"
   },
   {
    "duration": 24,
    "start_time": "2021-11-23T22:40:46.510Z"
   },
   {
    "duration": 11,
    "start_time": "2021-11-23T22:40:46.536Z"
   },
   {
    "duration": 75,
    "start_time": "2021-11-23T22:40:46.548Z"
   },
   {
    "duration": 29,
    "start_time": "2021-11-23T22:40:46.626Z"
   },
   {
    "duration": 31,
    "start_time": "2021-11-23T22:40:46.660Z"
   },
   {
    "duration": 54,
    "start_time": "2021-11-23T22:40:46.709Z"
   },
   {
    "duration": 43,
    "start_time": "2021-11-23T22:40:46.781Z"
   },
   {
    "duration": 7,
    "start_time": "2021-11-23T22:40:46.832Z"
   },
   {
    "duration": 24,
    "start_time": "2021-11-23T22:40:46.841Z"
   },
   {
    "duration": 36,
    "start_time": "2021-11-23T22:40:46.867Z"
   },
   {
    "duration": 39,
    "start_time": "2021-11-23T22:40:46.920Z"
   },
   {
    "duration": 16,
    "start_time": "2021-11-23T22:40:46.976Z"
   },
   {
    "duration": 9,
    "start_time": "2021-11-23T22:40:46.994Z"
   },
   {
    "duration": 16,
    "start_time": "2021-11-23T22:40:47.005Z"
   },
   {
    "duration": 313,
    "start_time": "2021-11-23T22:40:47.022Z"
   },
   {
    "duration": -661,
    "start_time": "2021-11-23T22:40:47.999Z"
   },
   {
    "duration": -663,
    "start_time": "2021-11-23T22:40:48.002Z"
   },
   {
    "duration": -665,
    "start_time": "2021-11-23T22:40:48.005Z"
   },
   {
    "duration": -667,
    "start_time": "2021-11-23T22:40:48.008Z"
   },
   {
    "duration": -669,
    "start_time": "2021-11-23T22:40:48.011Z"
   },
   {
    "duration": -670,
    "start_time": "2021-11-23T22:40:48.013Z"
   },
   {
    "duration": -671,
    "start_time": "2021-11-23T22:40:48.015Z"
   },
   {
    "duration": -673,
    "start_time": "2021-11-23T22:40:48.018Z"
   },
   {
    "duration": -674,
    "start_time": "2021-11-23T22:40:48.020Z"
   },
   {
    "duration": -676,
    "start_time": "2021-11-23T22:40:48.023Z"
   },
   {
    "duration": -678,
    "start_time": "2021-11-23T22:40:48.026Z"
   },
   {
    "duration": -679,
    "start_time": "2021-11-23T22:40:48.028Z"
   },
   {
    "duration": -687,
    "start_time": "2021-11-23T22:40:48.037Z"
   },
   {
    "duration": -688,
    "start_time": "2021-11-23T22:40:48.039Z"
   },
   {
    "duration": -690,
    "start_time": "2021-11-23T22:40:48.042Z"
   },
   {
    "duration": -691,
    "start_time": "2021-11-23T22:40:48.044Z"
   },
   {
    "duration": -693,
    "start_time": "2021-11-23T22:40:48.047Z"
   },
   {
    "duration": -694,
    "start_time": "2021-11-23T22:40:48.049Z"
   },
   {
    "duration": -696,
    "start_time": "2021-11-23T22:40:48.052Z"
   },
   {
    "duration": -698,
    "start_time": "2021-11-23T22:40:48.055Z"
   },
   {
    "duration": -699,
    "start_time": "2021-11-23T22:40:48.057Z"
   },
   {
    "duration": -701,
    "start_time": "2021-11-23T22:40:48.060Z"
   },
   {
    "duration": -702,
    "start_time": "2021-11-23T22:40:48.062Z"
   },
   {
    "duration": -703,
    "start_time": "2021-11-23T22:40:48.064Z"
   },
   {
    "duration": -705,
    "start_time": "2021-11-23T22:40:48.067Z"
   },
   {
    "duration": 10,
    "start_time": "2021-11-23T22:42:10.807Z"
   },
   {
    "duration": 5,
    "start_time": "2021-11-23T22:42:20.174Z"
   },
   {
    "duration": 9,
    "start_time": "2021-11-23T22:42:22.761Z"
   },
   {
    "duration": 7,
    "start_time": "2021-11-23T22:47:20.976Z"
   },
   {
    "duration": 4,
    "start_time": "2021-11-23T22:48:06.175Z"
   },
   {
    "duration": 23,
    "start_time": "2021-11-23T22:48:48.990Z"
   },
   {
    "duration": 5,
    "start_time": "2021-11-23T22:48:51.922Z"
   },
   {
    "duration": 10,
    "start_time": "2021-11-23T22:48:54.238Z"
   },
   {
    "duration": 513,
    "start_time": "2021-11-23T22:51:33.149Z"
   },
   {
    "duration": 49,
    "start_time": "2021-11-23T22:51:33.664Z"
   },
   {
    "duration": 17,
    "start_time": "2021-11-23T22:51:33.715Z"
   },
   {
    "duration": 10,
    "start_time": "2021-11-23T22:51:33.734Z"
   },
   {
    "duration": 44,
    "start_time": "2021-11-23T22:51:33.745Z"
   },
   {
    "duration": 9,
    "start_time": "2021-11-23T22:51:33.791Z"
   },
   {
    "duration": 4,
    "start_time": "2021-11-23T22:51:33.802Z"
   },
   {
    "duration": 4,
    "start_time": "2021-11-23T22:51:33.809Z"
   },
   {
    "duration": 6,
    "start_time": "2021-11-23T22:51:33.815Z"
   },
   {
    "duration": 8,
    "start_time": "2021-11-23T22:51:33.822Z"
   },
   {
    "duration": 4,
    "start_time": "2021-11-23T22:51:33.831Z"
   },
   {
    "duration": 10,
    "start_time": "2021-11-23T22:51:33.837Z"
   },
   {
    "duration": 64,
    "start_time": "2021-11-23T22:51:33.849Z"
   },
   {
    "duration": 4,
    "start_time": "2021-11-23T22:51:33.915Z"
   },
   {
    "duration": 41,
    "start_time": "2021-11-23T22:51:33.921Z"
   },
   {
    "duration": 21,
    "start_time": "2021-11-23T22:51:33.963Z"
   },
   {
    "duration": 4,
    "start_time": "2021-11-23T22:51:33.985Z"
   },
   {
    "duration": 326,
    "start_time": "2021-11-23T22:51:33.991Z"
   },
   {
    "duration": -658,
    "start_time": "2021-11-23T22:51:34.978Z"
   },
   {
    "duration": -665,
    "start_time": "2021-11-23T22:51:34.987Z"
   },
   {
    "duration": -668,
    "start_time": "2021-11-23T22:51:34.991Z"
   },
   {
    "duration": -671,
    "start_time": "2021-11-23T22:51:34.995Z"
   },
   {
    "duration": -674,
    "start_time": "2021-11-23T22:51:34.999Z"
   },
   {
    "duration": -687,
    "start_time": "2021-11-23T22:51:35.014Z"
   },
   {
    "duration": -689,
    "start_time": "2021-11-23T22:51:35.017Z"
   },
   {
    "duration": -691,
    "start_time": "2021-11-23T22:51:35.020Z"
   },
   {
    "duration": -692,
    "start_time": "2021-11-23T22:51:35.022Z"
   },
   {
    "duration": -693,
    "start_time": "2021-11-23T22:51:35.025Z"
   },
   {
    "duration": -694,
    "start_time": "2021-11-23T22:51:35.027Z"
   },
   {
    "duration": -695,
    "start_time": "2021-11-23T22:51:35.029Z"
   },
   {
    "duration": -696,
    "start_time": "2021-11-23T22:51:35.031Z"
   },
   {
    "duration": -698,
    "start_time": "2021-11-23T22:51:35.034Z"
   },
   {
    "duration": -698,
    "start_time": "2021-11-23T22:51:35.036Z"
   },
   {
    "duration": -700,
    "start_time": "2021-11-23T22:51:35.039Z"
   },
   {
    "duration": -701,
    "start_time": "2021-11-23T22:51:35.041Z"
   },
   {
    "duration": -701,
    "start_time": "2021-11-23T22:51:35.043Z"
   },
   {
    "duration": -703,
    "start_time": "2021-11-23T22:51:35.046Z"
   },
   {
    "duration": -704,
    "start_time": "2021-11-23T22:51:35.048Z"
   },
   {
    "duration": -707,
    "start_time": "2021-11-23T22:51:35.052Z"
   },
   {
    "duration": -709,
    "start_time": "2021-11-23T22:51:35.055Z"
   },
   {
    "duration": -709,
    "start_time": "2021-11-23T22:51:35.057Z"
   },
   {
    "duration": -711,
    "start_time": "2021-11-23T22:51:35.060Z"
   },
   {
    "duration": 541,
    "start_time": "2021-11-23T22:53:52.615Z"
   },
   {
    "duration": 49,
    "start_time": "2021-11-23T22:53:53.158Z"
   },
   {
    "duration": 16,
    "start_time": "2021-11-23T22:53:53.208Z"
   },
   {
    "duration": 11,
    "start_time": "2021-11-23T22:53:53.226Z"
   },
   {
    "duration": 26,
    "start_time": "2021-11-23T22:53:53.238Z"
   },
   {
    "duration": 25,
    "start_time": "2021-11-23T22:53:53.265Z"
   },
   {
    "duration": 4,
    "start_time": "2021-11-23T22:53:53.292Z"
   },
   {
    "duration": 5,
    "start_time": "2021-11-23T22:53:53.297Z"
   },
   {
    "duration": 3,
    "start_time": "2021-11-23T22:53:53.305Z"
   },
   {
    "duration": 5,
    "start_time": "2021-11-23T22:53:53.310Z"
   },
   {
    "duration": 3,
    "start_time": "2021-11-23T22:53:53.317Z"
   },
   {
    "duration": 11,
    "start_time": "2021-11-23T22:53:53.322Z"
   },
   {
    "duration": 80,
    "start_time": "2021-11-23T22:53:53.335Z"
   },
   {
    "duration": 7,
    "start_time": "2021-11-23T22:53:53.417Z"
   },
   {
    "duration": 9,
    "start_time": "2021-11-23T22:53:53.426Z"
   },
   {
    "duration": 9,
    "start_time": "2021-11-23T22:53:53.436Z"
   },
   {
    "duration": 6,
    "start_time": "2021-11-23T22:53:53.446Z"
   },
   {
    "duration": 16,
    "start_time": "2021-11-23T22:53:53.453Z"
   },
   {
    "duration": 30,
    "start_time": "2021-11-23T22:53:53.470Z"
   },
   {
    "duration": 5,
    "start_time": "2021-11-23T22:53:53.501Z"
   },
   {
    "duration": 15,
    "start_time": "2021-11-23T22:53:53.507Z"
   },
   {
    "duration": 24,
    "start_time": "2021-11-23T22:53:53.524Z"
   },
   {
    "duration": 39,
    "start_time": "2021-11-23T22:53:53.549Z"
   },
   {
    "duration": 18,
    "start_time": "2021-11-23T22:53:53.589Z"
   },
   {
    "duration": 13,
    "start_time": "2021-11-23T22:53:53.608Z"
   },
   {
    "duration": 12,
    "start_time": "2021-11-23T22:53:53.622Z"
   },
   {
    "duration": 638,
    "start_time": "2021-11-23T22:53:53.637Z"
   },
   {
    "duration": 2844,
    "start_time": "2021-11-23T22:53:54.278Z"
   },
   {
    "duration": 12,
    "start_time": "2021-11-23T22:53:57.124Z"
   },
   {
    "duration": 23,
    "start_time": "2021-11-23T22:53:57.138Z"
   },
   {
    "duration": 26,
    "start_time": "2021-11-23T22:53:57.162Z"
   },
   {
    "duration": 3,
    "start_time": "2021-11-23T22:53:57.189Z"
   },
   {
    "duration": 23,
    "start_time": "2021-11-23T22:53:57.193Z"
   },
   {
    "duration": 2,
    "start_time": "2021-11-23T22:53:57.218Z"
   },
   {
    "duration": 9,
    "start_time": "2021-11-23T22:53:57.222Z"
   },
   {
    "duration": 14,
    "start_time": "2021-11-23T22:53:57.233Z"
   },
   {
    "duration": 8,
    "start_time": "2021-11-23T22:53:57.248Z"
   },
   {
    "duration": 38,
    "start_time": "2021-11-23T22:53:57.257Z"
   },
   {
    "duration": 17,
    "start_time": "2021-11-23T22:53:57.296Z"
   },
   {
    "duration": 16,
    "start_time": "2021-11-23T22:53:57.315Z"
   },
   {
    "duration": 16,
    "start_time": "2021-11-23T22:53:57.332Z"
   },
   {
    "duration": 89,
    "start_time": "2021-11-23T23:20:50.348Z"
   },
   {
    "duration": 6,
    "start_time": "2021-11-23T23:26:00.750Z"
   },
   {
    "duration": 540,
    "start_time": "2021-11-23T23:26:15.806Z"
   },
   {
    "duration": 49,
    "start_time": "2021-11-23T23:26:16.347Z"
   },
   {
    "duration": 16,
    "start_time": "2021-11-23T23:26:16.399Z"
   },
   {
    "duration": 10,
    "start_time": "2021-11-23T23:26:16.417Z"
   },
   {
    "duration": 26,
    "start_time": "2021-11-23T23:26:16.429Z"
   },
   {
    "duration": 8,
    "start_time": "2021-11-23T23:26:16.456Z"
   },
   {
    "duration": 21,
    "start_time": "2021-11-23T23:26:16.467Z"
   },
   {
    "duration": 5,
    "start_time": "2021-11-23T23:26:16.490Z"
   },
   {
    "duration": 5,
    "start_time": "2021-11-23T23:26:16.496Z"
   },
   {
    "duration": 5,
    "start_time": "2021-11-23T23:26:16.502Z"
   },
   {
    "duration": 4,
    "start_time": "2021-11-23T23:26:16.509Z"
   },
   {
    "duration": 10,
    "start_time": "2021-11-23T23:26:16.514Z"
   },
   {
    "duration": 101,
    "start_time": "2021-11-23T23:26:16.526Z"
   },
   {
    "duration": 8,
    "start_time": "2021-11-23T23:26:16.629Z"
   },
   {
    "duration": 9,
    "start_time": "2021-11-23T23:26:16.638Z"
   },
   {
    "duration": 3,
    "start_time": "2021-11-23T23:26:16.649Z"
   },
   {
    "duration": 6,
    "start_time": "2021-11-23T23:26:16.653Z"
   },
   {
    "duration": 37,
    "start_time": "2021-11-23T23:26:16.660Z"
   },
   {
    "duration": 19,
    "start_time": "2021-11-23T23:26:16.698Z"
   },
   {
    "duration": 5,
    "start_time": "2021-11-23T23:26:16.718Z"
   },
   {
    "duration": 15,
    "start_time": "2021-11-23T23:26:16.724Z"
   },
   {
    "duration": 46,
    "start_time": "2021-11-23T23:26:16.742Z"
   },
   {
    "duration": 12,
    "start_time": "2021-11-23T23:26:16.790Z"
   },
   {
    "duration": 17,
    "start_time": "2021-11-23T23:26:16.804Z"
   },
   {
    "duration": 13,
    "start_time": "2021-11-23T23:26:16.822Z"
   },
   {
    "duration": 13,
    "start_time": "2021-11-23T23:26:16.836Z"
   },
   {
    "duration": 633,
    "start_time": "2021-11-23T23:26:16.851Z"
   },
   {
    "duration": 2600,
    "start_time": "2021-11-23T23:26:17.488Z"
   },
   {
    "duration": 12,
    "start_time": "2021-11-23T23:26:20.090Z"
   },
   {
    "duration": 13,
    "start_time": "2021-11-23T23:26:20.104Z"
   },
   {
    "duration": 2,
    "start_time": "2021-11-23T23:26:20.119Z"
   },
   {
    "duration": 27,
    "start_time": "2021-11-23T23:26:20.123Z"
   },
   {
    "duration": 2,
    "start_time": "2021-11-23T23:26:20.151Z"
   },
   {
    "duration": 13,
    "start_time": "2021-11-23T23:26:20.155Z"
   },
   {
    "duration": 26,
    "start_time": "2021-11-23T23:26:20.170Z"
   },
   {
    "duration": 5,
    "start_time": "2021-11-23T23:26:20.197Z"
   },
   {
    "duration": 29,
    "start_time": "2021-11-23T23:26:20.204Z"
   },
   {
    "duration": 15,
    "start_time": "2021-11-23T23:26:20.234Z"
   },
   {
    "duration": 16,
    "start_time": "2021-11-23T23:26:20.251Z"
   },
   {
    "duration": 31,
    "start_time": "2021-11-23T23:26:20.269Z"
   },
   {
    "duration": 545,
    "start_time": "2021-11-23T23:30:00.104Z"
   },
   {
    "duration": 48,
    "start_time": "2021-11-23T23:30:00.651Z"
   },
   {
    "duration": 18,
    "start_time": "2021-11-23T23:30:00.702Z"
   },
   {
    "duration": 10,
    "start_time": "2021-11-23T23:30:00.722Z"
   },
   {
    "duration": 31,
    "start_time": "2021-11-23T23:30:00.734Z"
   },
   {
    "duration": 27,
    "start_time": "2021-11-23T23:30:00.767Z"
   },
   {
    "duration": 5,
    "start_time": "2021-11-23T23:30:00.796Z"
   },
   {
    "duration": 12,
    "start_time": "2021-11-23T23:30:00.802Z"
   },
   {
    "duration": 15,
    "start_time": "2021-11-23T23:30:00.817Z"
   },
   {
    "duration": 7,
    "start_time": "2021-11-23T23:30:00.834Z"
   },
   {
    "duration": 7,
    "start_time": "2021-11-23T23:30:00.842Z"
   },
   {
    "duration": 16,
    "start_time": "2021-11-23T23:30:00.851Z"
   },
   {
    "duration": 92,
    "start_time": "2021-11-23T23:30:00.868Z"
   },
   {
    "duration": 26,
    "start_time": "2021-11-23T23:30:00.962Z"
   },
   {
    "duration": 12,
    "start_time": "2021-11-23T23:30:00.989Z"
   },
   {
    "duration": 6,
    "start_time": "2021-11-23T23:30:01.002Z"
   },
   {
    "duration": 14,
    "start_time": "2021-11-23T23:30:01.010Z"
   },
   {
    "duration": 18,
    "start_time": "2021-11-23T23:30:01.025Z"
   },
   {
    "duration": 25,
    "start_time": "2021-11-23T23:30:01.045Z"
   },
   {
    "duration": 17,
    "start_time": "2021-11-23T23:30:01.072Z"
   },
   {
    "duration": 18,
    "start_time": "2021-11-23T23:30:01.091Z"
   },
   {
    "duration": 27,
    "start_time": "2021-11-23T23:30:01.111Z"
   },
   {
    "duration": 14,
    "start_time": "2021-11-23T23:30:01.140Z"
   },
   {
    "duration": 45,
    "start_time": "2021-11-23T23:30:01.155Z"
   },
   {
    "duration": 14,
    "start_time": "2021-11-23T23:30:01.201Z"
   },
   {
    "duration": 14,
    "start_time": "2021-11-23T23:30:01.217Z"
   },
   {
    "duration": 643,
    "start_time": "2021-11-23T23:30:01.234Z"
   },
   {
    "duration": 2593,
    "start_time": "2021-11-23T23:30:01.879Z"
   },
   {
    "duration": 17,
    "start_time": "2021-11-23T23:30:04.474Z"
   },
   {
    "duration": 14,
    "start_time": "2021-11-23T23:30:04.492Z"
   },
   {
    "duration": 3,
    "start_time": "2021-11-23T23:30:04.507Z"
   },
   {
    "duration": 26,
    "start_time": "2021-11-23T23:30:04.511Z"
   },
   {
    "duration": 3,
    "start_time": "2021-11-23T23:30:04.538Z"
   },
   {
    "duration": 8,
    "start_time": "2021-11-23T23:30:04.542Z"
   },
   {
    "duration": 37,
    "start_time": "2021-11-23T23:30:04.552Z"
   },
   {
    "duration": 3,
    "start_time": "2021-11-23T23:30:04.590Z"
   },
   {
    "duration": 25,
    "start_time": "2021-11-23T23:30:04.595Z"
   },
   {
    "duration": 17,
    "start_time": "2021-11-23T23:30:04.622Z"
   },
   {
    "duration": 17,
    "start_time": "2021-11-23T23:30:04.640Z"
   },
   {
    "duration": 44,
    "start_time": "2021-11-23T23:30:04.659Z"
   },
   {
    "duration": 589,
    "start_time": "2021-11-24T05:38:28.813Z"
   },
   {
    "duration": 52,
    "start_time": "2021-11-24T05:38:29.404Z"
   },
   {
    "duration": 22,
    "start_time": "2021-11-24T05:38:29.460Z"
   },
   {
    "duration": 11,
    "start_time": "2021-11-24T05:38:29.483Z"
   },
   {
    "duration": 30,
    "start_time": "2021-11-24T05:38:29.495Z"
   },
   {
    "duration": 10,
    "start_time": "2021-11-24T05:38:29.526Z"
   },
   {
    "duration": 12,
    "start_time": "2021-11-24T05:38:29.564Z"
   },
   {
    "duration": 7,
    "start_time": "2021-11-24T05:38:29.579Z"
   },
   {
    "duration": 5,
    "start_time": "2021-11-24T05:38:29.588Z"
   },
   {
    "duration": 7,
    "start_time": "2021-11-24T05:38:29.595Z"
   },
   {
    "duration": 4,
    "start_time": "2021-11-24T05:38:29.604Z"
   },
   {
    "duration": 14,
    "start_time": "2021-11-24T05:38:29.610Z"
   },
   {
    "duration": 128,
    "start_time": "2021-11-24T05:38:29.625Z"
   },
   {
    "duration": 12,
    "start_time": "2021-11-24T05:38:29.768Z"
   },
   {
    "duration": 11,
    "start_time": "2021-11-24T05:38:29.782Z"
   },
   {
    "duration": 5,
    "start_time": "2021-11-24T05:38:29.794Z"
   },
   {
    "duration": 5,
    "start_time": "2021-11-24T05:38:29.800Z"
   },
   {
    "duration": 17,
    "start_time": "2021-11-24T05:38:29.806Z"
   },
   {
    "duration": 48,
    "start_time": "2021-11-24T05:38:29.824Z"
   },
   {
    "duration": 8,
    "start_time": "2021-11-24T05:38:29.874Z"
   },
   {
    "duration": 19,
    "start_time": "2021-11-24T05:38:29.884Z"
   },
   {
    "duration": 27,
    "start_time": "2021-11-24T05:38:29.907Z"
   },
   {
    "duration": 41,
    "start_time": "2021-11-24T05:38:29.937Z"
   },
   {
    "duration": 21,
    "start_time": "2021-11-24T05:38:29.980Z"
   },
   {
    "duration": 16,
    "start_time": "2021-11-24T05:38:30.003Z"
   },
   {
    "duration": 23,
    "start_time": "2021-11-24T05:38:30.021Z"
   },
   {
    "duration": 690,
    "start_time": "2021-11-24T05:38:30.065Z"
   },
   {
    "duration": 3069,
    "start_time": "2021-11-24T05:38:30.758Z"
   },
   {
    "duration": 13,
    "start_time": "2021-11-24T05:38:33.829Z"
   },
   {
    "duration": 51,
    "start_time": "2021-11-24T05:38:33.844Z"
   },
   {
    "duration": 28,
    "start_time": "2021-11-24T05:38:33.897Z"
   },
   {
    "duration": 53,
    "start_time": "2021-11-24T05:38:33.927Z"
   },
   {
    "duration": 11,
    "start_time": "2021-11-24T05:38:33.981Z"
   },
   {
    "duration": 31,
    "start_time": "2021-11-24T05:38:33.993Z"
   },
   {
    "duration": 27,
    "start_time": "2021-11-24T05:38:34.026Z"
   },
   {
    "duration": 28,
    "start_time": "2021-11-24T05:38:34.054Z"
   },
   {
    "duration": 43,
    "start_time": "2021-11-24T05:38:34.084Z"
   },
   {
    "duration": 25,
    "start_time": "2021-11-24T05:38:34.129Z"
   },
   {
    "duration": 41,
    "start_time": "2021-11-24T05:38:34.156Z"
   },
   {
    "duration": 27,
    "start_time": "2021-11-24T05:38:34.199Z"
   },
   {
    "duration": 121,
    "start_time": "2022-03-26T08:35:48.655Z"
   },
   {
    "duration": 468,
    "start_time": "2022-03-26T08:35:55.135Z"
   },
   {
    "duration": 121,
    "start_time": "2022-03-26T08:35:56.270Z"
   },
   {
    "duration": 76,
    "start_time": "2022-03-26T08:36:18.358Z"
   },
   {
    "duration": 102,
    "start_time": "2022-03-26T08:36:36.087Z"
   },
   {
    "duration": 90,
    "start_time": "2022-03-26T08:37:44.254Z"
   },
   {
    "duration": 722,
    "start_time": "2022-03-26T08:37:57.295Z"
   },
   {
    "duration": 613,
    "start_time": "2022-03-26T08:38:56.622Z"
   },
   {
    "duration": 4,
    "start_time": "2022-03-26T09:53:35.870Z"
   },
   {
    "duration": 653,
    "start_time": "2022-03-26T09:53:38.447Z"
   },
   {
    "duration": 541,
    "start_time": "2022-03-26T09:59:55.469Z"
   },
   {
    "duration": 80,
    "start_time": "2022-03-26T09:59:56.012Z"
   },
   {
    "duration": 30,
    "start_time": "2022-03-26T09:59:56.095Z"
   },
   {
    "duration": 22,
    "start_time": "2022-03-26T09:59:56.129Z"
   },
   {
    "duration": 73,
    "start_time": "2022-03-26T09:59:56.154Z"
   },
   {
    "duration": 15,
    "start_time": "2022-03-26T09:59:56.229Z"
   },
   {
    "duration": 7,
    "start_time": "2022-03-26T09:59:56.246Z"
   },
   {
    "duration": 34,
    "start_time": "2022-03-26T09:59:56.255Z"
   },
   {
    "duration": 9,
    "start_time": "2022-03-26T09:59:56.291Z"
   },
   {
    "duration": 9,
    "start_time": "2022-03-26T09:59:56.304Z"
   },
   {
    "duration": 10,
    "start_time": "2022-03-26T09:59:56.315Z"
   },
   {
    "duration": 17,
    "start_time": "2022-03-26T09:59:56.327Z"
   },
   {
    "duration": 116,
    "start_time": "2022-03-26T09:59:56.385Z"
   },
   {
    "duration": 14,
    "start_time": "2022-03-26T09:59:56.503Z"
   },
   {
    "duration": 13,
    "start_time": "2022-03-26T09:59:56.519Z"
   },
   {
    "duration": 7,
    "start_time": "2022-03-26T09:59:56.534Z"
   },
   {
    "duration": 42,
    "start_time": "2022-03-26T09:59:56.542Z"
   },
   {
    "duration": 31,
    "start_time": "2022-03-26T09:59:56.586Z"
   },
   {
    "duration": 28,
    "start_time": "2022-03-26T09:59:56.620Z"
   },
   {
    "duration": 8,
    "start_time": "2022-03-26T09:59:56.650Z"
   },
   {
    "duration": 42,
    "start_time": "2022-03-26T09:59:56.660Z"
   },
   {
    "duration": 41,
    "start_time": "2022-03-26T09:59:56.704Z"
   },
   {
    "duration": 52,
    "start_time": "2022-03-26T09:59:56.748Z"
   },
   {
    "duration": 32,
    "start_time": "2022-03-26T09:59:56.802Z"
   },
   {
    "duration": 23,
    "start_time": "2022-03-26T09:59:56.837Z"
   },
   {
    "duration": 24,
    "start_time": "2022-03-26T09:59:56.884Z"
   },
   {
    "duration": 945,
    "start_time": "2022-03-26T09:59:56.910Z"
   },
   {
    "duration": 4054,
    "start_time": "2022-03-26T09:59:57.860Z"
   },
   {
    "duration": 21,
    "start_time": "2022-03-26T10:00:01.916Z"
   },
   {
    "duration": 60,
    "start_time": "2022-03-26T10:00:01.939Z"
   },
   {
    "duration": 37,
    "start_time": "2022-03-26T10:00:02.001Z"
   },
   {
    "duration": 101,
    "start_time": "2022-03-26T10:00:02.040Z"
   },
   {
    "duration": 107,
    "start_time": "2022-03-26T10:00:02.144Z"
   },
   {
    "duration": 38,
    "start_time": "2022-03-26T10:00:02.253Z"
   },
   {
    "duration": 62,
    "start_time": "2022-03-26T10:00:02.293Z"
   },
   {
    "duration": 36,
    "start_time": "2022-03-26T10:00:02.357Z"
   },
   {
    "duration": 83,
    "start_time": "2022-03-26T10:00:02.395Z"
   },
   {
    "duration": 29,
    "start_time": "2022-03-26T10:00:02.480Z"
   },
   {
    "duration": 131,
    "start_time": "2022-03-26T10:00:02.511Z"
   },
   {
    "duration": 27,
    "start_time": "2022-03-26T10:00:02.644Z"
   },
   {
    "duration": 3,
    "start_time": "2022-03-26T10:09:38.136Z"
   },
   {
    "duration": 147,
    "start_time": "2022-03-26T10:09:39.744Z"
   },
   {
    "duration": 9,
    "start_time": "2022-03-26T10:09:40.884Z"
   },
   {
    "duration": 187,
    "start_time": "2022-03-26T10:09:56.668Z"
   },
   {
    "duration": 548,
    "start_time": "2022-03-26T10:12:21.997Z"
   },
   {
    "duration": 156,
    "start_time": "2022-03-26T10:12:22.547Z"
   },
   {
    "duration": 10,
    "start_time": "2022-03-26T10:12:22.705Z"
   },
   {
    "duration": 206,
    "start_time": "2022-03-26T10:12:22.718Z"
   },
   {
    "duration": 15,
    "start_time": "2022-03-26T10:12:22.926Z"
   },
   {
    "duration": 8,
    "start_time": "2022-03-26T10:12:22.944Z"
   },
   {
    "duration": 17,
    "start_time": "2022-03-26T10:12:22.983Z"
   },
   {
    "duration": 13,
    "start_time": "2022-03-26T10:12:23.002Z"
   },
   {
    "duration": 26,
    "start_time": "2022-03-26T10:12:23.018Z"
   },
   {
    "duration": 24,
    "start_time": "2022-03-26T10:12:23.048Z"
   },
   {
    "duration": 137,
    "start_time": "2022-03-26T10:12:23.075Z"
   },
   {
    "duration": 15,
    "start_time": "2022-03-26T10:12:23.214Z"
   },
   {
    "duration": 16,
    "start_time": "2022-03-26T10:12:23.231Z"
   },
   {
    "duration": 37,
    "start_time": "2022-03-26T10:12:23.249Z"
   },
   {
    "duration": 18,
    "start_time": "2022-03-26T10:12:23.289Z"
   },
   {
    "duration": 27,
    "start_time": "2022-03-26T10:12:23.310Z"
   },
   {
    "duration": 26,
    "start_time": "2022-03-26T10:12:23.339Z"
   },
   {
    "duration": 23,
    "start_time": "2022-03-26T10:12:23.367Z"
   },
   {
    "duration": 34,
    "start_time": "2022-03-26T10:12:23.393Z"
   },
   {
    "duration": 69,
    "start_time": "2022-03-26T10:12:23.430Z"
   },
   {
    "duration": 38,
    "start_time": "2022-03-26T10:12:23.502Z"
   },
   {
    "duration": 58,
    "start_time": "2022-03-26T10:12:23.542Z"
   },
   {
    "duration": 32,
    "start_time": "2022-03-26T10:12:23.602Z"
   },
   {
    "duration": 967,
    "start_time": "2022-03-26T10:12:23.636Z"
   },
   {
    "duration": 4453,
    "start_time": "2022-03-26T10:12:24.606Z"
   },
   {
    "duration": 33,
    "start_time": "2022-03-26T10:12:29.061Z"
   },
   {
    "duration": 23,
    "start_time": "2022-03-26T10:12:29.097Z"
   },
   {
    "duration": 5,
    "start_time": "2022-03-26T10:12:29.125Z"
   },
   {
    "duration": 60,
    "start_time": "2022-03-26T10:12:29.132Z"
   },
   {
    "duration": 5,
    "start_time": "2022-03-26T10:12:29.195Z"
   },
   {
    "duration": 21,
    "start_time": "2022-03-26T10:12:29.201Z"
   },
   {
    "duration": 22,
    "start_time": "2022-03-26T10:12:29.224Z"
   },
   {
    "duration": 6,
    "start_time": "2022-03-26T10:12:29.249Z"
   },
   {
    "duration": 39,
    "start_time": "2022-03-26T10:12:29.284Z"
   },
   {
    "duration": 28,
    "start_time": "2022-03-26T10:12:29.325Z"
   },
   {
    "duration": 52,
    "start_time": "2022-03-26T10:12:29.355Z"
   },
   {
    "duration": 27,
    "start_time": "2022-03-26T10:12:29.409Z"
   },
   {
    "duration": 4,
    "start_time": "2022-03-26T10:19:24.076Z"
   },
   {
    "duration": 225,
    "start_time": "2022-03-26T10:19:25.151Z"
   },
   {
    "duration": 588,
    "start_time": "2022-03-26T10:19:33.734Z"
   },
   {
    "duration": 206,
    "start_time": "2022-03-26T10:19:35.058Z"
   },
   {
    "duration": 9,
    "start_time": "2022-03-26T10:19:36.099Z"
   },
   {
    "duration": 181,
    "start_time": "2022-03-26T10:19:37.343Z"
   },
   {
    "duration": 69,
    "start_time": "2022-03-26T10:21:03.362Z"
   },
   {
    "duration": 9,
    "start_time": "2022-03-26T10:21:04.735Z"
   },
   {
    "duration": 166,
    "start_time": "2022-03-26T10:21:06.050Z"
   },
   {
    "duration": 536,
    "start_time": "2022-03-26T10:21:33.857Z"
   },
   {
    "duration": 74,
    "start_time": "2022-03-26T10:21:34.396Z"
   },
   {
    "duration": 13,
    "start_time": "2022-03-26T10:21:34.472Z"
   },
   {
    "duration": 205,
    "start_time": "2022-03-26T10:21:34.488Z"
   },
   {
    "duration": 15,
    "start_time": "2022-03-26T10:21:34.696Z"
   },
   {
    "duration": 8,
    "start_time": "2022-03-26T10:21:34.714Z"
   },
   {
    "duration": 13,
    "start_time": "2022-03-26T10:21:34.724Z"
   },
   {
    "duration": 7,
    "start_time": "2022-03-26T10:21:34.740Z"
   },
   {
    "duration": 44,
    "start_time": "2022-03-26T10:21:34.749Z"
   },
   {
    "duration": 14,
    "start_time": "2022-03-26T10:21:34.798Z"
   },
   {
    "duration": 144,
    "start_time": "2022-03-26T10:21:34.814Z"
   },
   {
    "duration": 30,
    "start_time": "2022-03-26T10:21:34.960Z"
   },
   {
    "duration": 17,
    "start_time": "2022-03-26T10:21:34.992Z"
   },
   {
    "duration": 10,
    "start_time": "2022-03-26T10:21:35.012Z"
   },
   {
    "duration": 7,
    "start_time": "2022-03-26T10:21:35.024Z"
   },
   {
    "duration": 55,
    "start_time": "2022-03-26T10:21:35.034Z"
   },
   {
    "duration": 26,
    "start_time": "2022-03-26T10:21:35.092Z"
   },
   {
    "duration": 9,
    "start_time": "2022-03-26T10:21:35.120Z"
   },
   {
    "duration": 55,
    "start_time": "2022-03-26T10:21:35.131Z"
   },
   {
    "duration": 46,
    "start_time": "2022-03-26T10:21:35.189Z"
   },
   {
    "duration": 57,
    "start_time": "2022-03-26T10:21:35.238Z"
   },
   {
    "duration": 24,
    "start_time": "2022-03-26T10:21:35.297Z"
   },
   {
    "duration": 25,
    "start_time": "2022-03-26T10:21:35.324Z"
   },
   {
    "duration": 961,
    "start_time": "2022-03-26T10:21:35.352Z"
   },
   {
    "duration": 3954,
    "start_time": "2022-03-26T10:21:36.315Z"
   },
   {
    "duration": 30,
    "start_time": "2022-03-26T10:21:40.271Z"
   },
   {
    "duration": 19,
    "start_time": "2022-03-26T10:21:40.304Z"
   },
   {
    "duration": 5,
    "start_time": "2022-03-26T10:21:40.328Z"
   },
   {
    "duration": 65,
    "start_time": "2022-03-26T10:21:40.336Z"
   },
   {
    "duration": 4,
    "start_time": "2022-03-26T10:21:40.403Z"
   },
   {
    "duration": 15,
    "start_time": "2022-03-26T10:21:40.409Z"
   },
   {
    "duration": 23,
    "start_time": "2022-03-26T10:21:40.426Z"
   },
   {
    "duration": 33,
    "start_time": "2022-03-26T10:21:40.452Z"
   },
   {
    "duration": 39,
    "start_time": "2022-03-26T10:21:40.488Z"
   },
   {
    "duration": 29,
    "start_time": "2022-03-26T10:21:40.529Z"
   },
   {
    "duration": 28,
    "start_time": "2022-03-26T10:21:40.585Z"
   },
   {
    "duration": 28,
    "start_time": "2022-03-26T10:21:40.615Z"
   }
  ],
  "kernelspec": {
   "display_name": "Python 3 (ipykernel)",
   "language": "python",
   "name": "python3"
  },
  "language_info": {
   "codemirror_mode": {
    "name": "ipython",
    "version": 3
   },
   "file_extension": ".py",
   "mimetype": "text/x-python",
   "name": "python",
   "nbconvert_exporter": "python",
   "pygments_lexer": "ipython3",
   "version": "3.9.5"
  },
  "toc": {
   "base_numbering": 1,
   "nav_menu": {},
   "number_sections": true,
   "sideBar": true,
   "skip_h1_title": true,
   "title_cell": "Table of Contents",
   "title_sidebar": "Contents",
   "toc_cell": false,
   "toc_position": {},
   "toc_section_display": true,
   "toc_window_display": true
  }
 },
 "nbformat": 4,
 "nbformat_minor": 2
}


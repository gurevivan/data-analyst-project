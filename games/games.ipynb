{
 "cells": [
  {
   "cell_type": "markdown",
   "metadata": {},
   "source": [
    "## Шаг 1. Изучение данных из файла"
   ]
  },
  {
   "cell_type": "code",
   "execution_count": 1,
   "metadata": {},
   "outputs": [],
   "source": [
    "# импорт библиотек\n",
    "import pandas as pd \n",
    "import matplotlib.pyplot as plt \n",
    "import seaborn as sns \n",
    "import warnings \n",
    "warnings.filterwarnings('ignore') \n",
    "from scipy import stats as st "
   ]
  },
  {
   "cell_type": "code",
   "execution_count": 2,
   "metadata": {},
   "outputs": [],
   "source": [
    "# чтение файла с данными и сохранение в df\n",
    "try:\n",
    "    df = pd.read_csv('/datasets/games.csv') \n",
    "except FileNotFoundError:\n",
    "    print('файл или директория не существует!')  "
   ]
  },
  {
   "cell_type": "code",
   "execution_count": 3,
   "metadata": {},
   "outputs": [],
   "source": [
    "# функция получения информации\n",
    "def get_info(name, df): \n",
    "    print('\\033[1m' + 'Первые 5 строк таблицы: ' + name + '\\033[0m')\n",
    "    display(df.head())\n",
    "    print()\n",
    "    print('\\033[1m' + 'Сводная информация о таблице: ' + name + '\\033[0m')\n",
    "    print()\n",
    "    df.info()\n",
    "    print()\n",
    "    print('\\033[1m' + 'Описательная статистика таблицы: ' + name + '\\033[0m')\n",
    "    display(df.describe())\n",
    "    print()\n",
    "    print('\\033[1m' + 'Описательная статистика таблицы: ' + name + '\\033[0m')\n",
    "    display(df.describe(include=[object]))\n",
    "    print()\n",
    "    print('\\033[1m' + 'Пропуски в таблице: ' + name + '\\033[0m')\n",
    "    report = df.isna().sum().to_frame()\n",
    "    report = report.rename(columns = {0: 'missing_values'})\n",
    "    report['% of total'] = (100 * report['missing_values'] / df.shape[0]).round(2)\n",
    "    display(report.sort_values(by = 'missing_values', ascending = False))\n",
    "    print()\n",
    "    print('\\033[1m' + 'Дубликатов в таблице ' + name + '\\033[0m'':', df.duplicated().sum())\n",
    "    print()"
   ]
  },
  {
   "cell_type": "code",
   "execution_count": 4,
   "metadata": {},
   "outputs": [
    {
     "name": "stdout",
     "output_type": "stream",
     "text": [
      "\u001b[1mПервые 5 строк таблицы: Игры\u001b[0m\n"
     ]
    },
    {
     "data": {
      "text/html": [
       "<div>\n",
       "<style scoped>\n",
       "    .dataframe tbody tr th:only-of-type {\n",
       "        vertical-align: middle;\n",
       "    }\n",
       "\n",
       "    .dataframe tbody tr th {\n",
       "        vertical-align: top;\n",
       "    }\n",
       "\n",
       "    .dataframe thead th {\n",
       "        text-align: right;\n",
       "    }\n",
       "</style>\n",
       "<table border=\"1\" class=\"dataframe\">\n",
       "  <thead>\n",
       "    <tr style=\"text-align: right;\">\n",
       "      <th></th>\n",
       "      <th>Name</th>\n",
       "      <th>Platform</th>\n",
       "      <th>Year_of_Release</th>\n",
       "      <th>Genre</th>\n",
       "      <th>NA_sales</th>\n",
       "      <th>EU_sales</th>\n",
       "      <th>JP_sales</th>\n",
       "      <th>Other_sales</th>\n",
       "      <th>Critic_Score</th>\n",
       "      <th>User_Score</th>\n",
       "      <th>Rating</th>\n",
       "    </tr>\n",
       "  </thead>\n",
       "  <tbody>\n",
       "    <tr>\n",
       "      <th>0</th>\n",
       "      <td>Wii Sports</td>\n",
       "      <td>Wii</td>\n",
       "      <td>2006.0</td>\n",
       "      <td>Sports</td>\n",
       "      <td>41.36</td>\n",
       "      <td>28.96</td>\n",
       "      <td>3.77</td>\n",
       "      <td>8.45</td>\n",
       "      <td>76.0</td>\n",
       "      <td>8</td>\n",
       "      <td>E</td>\n",
       "    </tr>\n",
       "    <tr>\n",
       "      <th>1</th>\n",
       "      <td>Super Mario Bros.</td>\n",
       "      <td>NES</td>\n",
       "      <td>1985.0</td>\n",
       "      <td>Platform</td>\n",
       "      <td>29.08</td>\n",
       "      <td>3.58</td>\n",
       "      <td>6.81</td>\n",
       "      <td>0.77</td>\n",
       "      <td>NaN</td>\n",
       "      <td>NaN</td>\n",
       "      <td>NaN</td>\n",
       "    </tr>\n",
       "    <tr>\n",
       "      <th>2</th>\n",
       "      <td>Mario Kart Wii</td>\n",
       "      <td>Wii</td>\n",
       "      <td>2008.0</td>\n",
       "      <td>Racing</td>\n",
       "      <td>15.68</td>\n",
       "      <td>12.76</td>\n",
       "      <td>3.79</td>\n",
       "      <td>3.29</td>\n",
       "      <td>82.0</td>\n",
       "      <td>8.3</td>\n",
       "      <td>E</td>\n",
       "    </tr>\n",
       "    <tr>\n",
       "      <th>3</th>\n",
       "      <td>Wii Sports Resort</td>\n",
       "      <td>Wii</td>\n",
       "      <td>2009.0</td>\n",
       "      <td>Sports</td>\n",
       "      <td>15.61</td>\n",
       "      <td>10.93</td>\n",
       "      <td>3.28</td>\n",
       "      <td>2.95</td>\n",
       "      <td>80.0</td>\n",
       "      <td>8</td>\n",
       "      <td>E</td>\n",
       "    </tr>\n",
       "    <tr>\n",
       "      <th>4</th>\n",
       "      <td>Pokemon Red/Pokemon Blue</td>\n",
       "      <td>GB</td>\n",
       "      <td>1996.0</td>\n",
       "      <td>Role-Playing</td>\n",
       "      <td>11.27</td>\n",
       "      <td>8.89</td>\n",
       "      <td>10.22</td>\n",
       "      <td>1.00</td>\n",
       "      <td>NaN</td>\n",
       "      <td>NaN</td>\n",
       "      <td>NaN</td>\n",
       "    </tr>\n",
       "  </tbody>\n",
       "</table>\n",
       "</div>"
      ],
      "text/plain": [
       "                       Name Platform  Year_of_Release         Genre  NA_sales  \\\n",
       "0                Wii Sports      Wii           2006.0        Sports     41.36   \n",
       "1         Super Mario Bros.      NES           1985.0      Platform     29.08   \n",
       "2            Mario Kart Wii      Wii           2008.0        Racing     15.68   \n",
       "3         Wii Sports Resort      Wii           2009.0        Sports     15.61   \n",
       "4  Pokemon Red/Pokemon Blue       GB           1996.0  Role-Playing     11.27   \n",
       "\n",
       "   EU_sales  JP_sales  Other_sales  Critic_Score User_Score Rating  \n",
       "0     28.96      3.77         8.45          76.0          8      E  \n",
       "1      3.58      6.81         0.77           NaN        NaN    NaN  \n",
       "2     12.76      3.79         3.29          82.0        8.3      E  \n",
       "3     10.93      3.28         2.95          80.0          8      E  \n",
       "4      8.89     10.22         1.00           NaN        NaN    NaN  "
      ]
     },
     "metadata": {},
     "output_type": "display_data"
    },
    {
     "name": "stdout",
     "output_type": "stream",
     "text": [
      "\n",
      "\u001b[1mСводная информация о таблице: Игры\u001b[0m\n",
      "\n",
      "<class 'pandas.core.frame.DataFrame'>\n",
      "RangeIndex: 16715 entries, 0 to 16714\n",
      "Data columns (total 11 columns):\n",
      " #   Column           Non-Null Count  Dtype  \n",
      "---  ------           --------------  -----  \n",
      " 0   Name             16713 non-null  object \n",
      " 1   Platform         16715 non-null  object \n",
      " 2   Year_of_Release  16446 non-null  float64\n",
      " 3   Genre            16713 non-null  object \n",
      " 4   NA_sales         16715 non-null  float64\n",
      " 5   EU_sales         16715 non-null  float64\n",
      " 6   JP_sales         16715 non-null  float64\n",
      " 7   Other_sales      16715 non-null  float64\n",
      " 8   Critic_Score     8137 non-null   float64\n",
      " 9   User_Score       10014 non-null  object \n",
      " 10  Rating           9949 non-null   object \n",
      "dtypes: float64(6), object(5)\n",
      "memory usage: 1.4+ MB\n",
      "\n",
      "\u001b[1mОписательная статистика таблицы: Игры\u001b[0m\n"
     ]
    },
    {
     "data": {
      "text/html": [
       "<div>\n",
       "<style scoped>\n",
       "    .dataframe tbody tr th:only-of-type {\n",
       "        vertical-align: middle;\n",
       "    }\n",
       "\n",
       "    .dataframe tbody tr th {\n",
       "        vertical-align: top;\n",
       "    }\n",
       "\n",
       "    .dataframe thead th {\n",
       "        text-align: right;\n",
       "    }\n",
       "</style>\n",
       "<table border=\"1\" class=\"dataframe\">\n",
       "  <thead>\n",
       "    <tr style=\"text-align: right;\">\n",
       "      <th></th>\n",
       "      <th>Year_of_Release</th>\n",
       "      <th>NA_sales</th>\n",
       "      <th>EU_sales</th>\n",
       "      <th>JP_sales</th>\n",
       "      <th>Other_sales</th>\n",
       "      <th>Critic_Score</th>\n",
       "    </tr>\n",
       "  </thead>\n",
       "  <tbody>\n",
       "    <tr>\n",
       "      <th>count</th>\n",
       "      <td>16446.000000</td>\n",
       "      <td>16715.000000</td>\n",
       "      <td>16715.000000</td>\n",
       "      <td>16715.000000</td>\n",
       "      <td>16715.000000</td>\n",
       "      <td>8137.000000</td>\n",
       "    </tr>\n",
       "    <tr>\n",
       "      <th>mean</th>\n",
       "      <td>2006.484616</td>\n",
       "      <td>0.263377</td>\n",
       "      <td>0.145060</td>\n",
       "      <td>0.077617</td>\n",
       "      <td>0.047342</td>\n",
       "      <td>68.967679</td>\n",
       "    </tr>\n",
       "    <tr>\n",
       "      <th>std</th>\n",
       "      <td>5.877050</td>\n",
       "      <td>0.813604</td>\n",
       "      <td>0.503339</td>\n",
       "      <td>0.308853</td>\n",
       "      <td>0.186731</td>\n",
       "      <td>13.938165</td>\n",
       "    </tr>\n",
       "    <tr>\n",
       "      <th>min</th>\n",
       "      <td>1980.000000</td>\n",
       "      <td>0.000000</td>\n",
       "      <td>0.000000</td>\n",
       "      <td>0.000000</td>\n",
       "      <td>0.000000</td>\n",
       "      <td>13.000000</td>\n",
       "    </tr>\n",
       "    <tr>\n",
       "      <th>25%</th>\n",
       "      <td>2003.000000</td>\n",
       "      <td>0.000000</td>\n",
       "      <td>0.000000</td>\n",
       "      <td>0.000000</td>\n",
       "      <td>0.000000</td>\n",
       "      <td>60.000000</td>\n",
       "    </tr>\n",
       "    <tr>\n",
       "      <th>50%</th>\n",
       "      <td>2007.000000</td>\n",
       "      <td>0.080000</td>\n",
       "      <td>0.020000</td>\n",
       "      <td>0.000000</td>\n",
       "      <td>0.010000</td>\n",
       "      <td>71.000000</td>\n",
       "    </tr>\n",
       "    <tr>\n",
       "      <th>75%</th>\n",
       "      <td>2010.000000</td>\n",
       "      <td>0.240000</td>\n",
       "      <td>0.110000</td>\n",
       "      <td>0.040000</td>\n",
       "      <td>0.030000</td>\n",
       "      <td>79.000000</td>\n",
       "    </tr>\n",
       "    <tr>\n",
       "      <th>max</th>\n",
       "      <td>2016.000000</td>\n",
       "      <td>41.360000</td>\n",
       "      <td>28.960000</td>\n",
       "      <td>10.220000</td>\n",
       "      <td>10.570000</td>\n",
       "      <td>98.000000</td>\n",
       "    </tr>\n",
       "  </tbody>\n",
       "</table>\n",
       "</div>"
      ],
      "text/plain": [
       "       Year_of_Release      NA_sales      EU_sales      JP_sales  \\\n",
       "count     16446.000000  16715.000000  16715.000000  16715.000000   \n",
       "mean       2006.484616      0.263377      0.145060      0.077617   \n",
       "std           5.877050      0.813604      0.503339      0.308853   \n",
       "min        1980.000000      0.000000      0.000000      0.000000   \n",
       "25%        2003.000000      0.000000      0.000000      0.000000   \n",
       "50%        2007.000000      0.080000      0.020000      0.000000   \n",
       "75%        2010.000000      0.240000      0.110000      0.040000   \n",
       "max        2016.000000     41.360000     28.960000     10.220000   \n",
       "\n",
       "        Other_sales  Critic_Score  \n",
       "count  16715.000000   8137.000000  \n",
       "mean       0.047342     68.967679  \n",
       "std        0.186731     13.938165  \n",
       "min        0.000000     13.000000  \n",
       "25%        0.000000     60.000000  \n",
       "50%        0.010000     71.000000  \n",
       "75%        0.030000     79.000000  \n",
       "max       10.570000     98.000000  "
      ]
     },
     "metadata": {},
     "output_type": "display_data"
    },
    {
     "name": "stdout",
     "output_type": "stream",
     "text": [
      "\n",
      "\u001b[1mОписательная статистика таблицы: Игры\u001b[0m\n"
     ]
    },
    {
     "data": {
      "text/html": [
       "<div>\n",
       "<style scoped>\n",
       "    .dataframe tbody tr th:only-of-type {\n",
       "        vertical-align: middle;\n",
       "    }\n",
       "\n",
       "    .dataframe tbody tr th {\n",
       "        vertical-align: top;\n",
       "    }\n",
       "\n",
       "    .dataframe thead th {\n",
       "        text-align: right;\n",
       "    }\n",
       "</style>\n",
       "<table border=\"1\" class=\"dataframe\">\n",
       "  <thead>\n",
       "    <tr style=\"text-align: right;\">\n",
       "      <th></th>\n",
       "      <th>Name</th>\n",
       "      <th>Platform</th>\n",
       "      <th>Genre</th>\n",
       "      <th>User_Score</th>\n",
       "      <th>Rating</th>\n",
       "    </tr>\n",
       "  </thead>\n",
       "  <tbody>\n",
       "    <tr>\n",
       "      <th>count</th>\n",
       "      <td>16713</td>\n",
       "      <td>16715</td>\n",
       "      <td>16713</td>\n",
       "      <td>10014</td>\n",
       "      <td>9949</td>\n",
       "    </tr>\n",
       "    <tr>\n",
       "      <th>unique</th>\n",
       "      <td>11559</td>\n",
       "      <td>31</td>\n",
       "      <td>12</td>\n",
       "      <td>96</td>\n",
       "      <td>8</td>\n",
       "    </tr>\n",
       "    <tr>\n",
       "      <th>top</th>\n",
       "      <td>Need for Speed: Most Wanted</td>\n",
       "      <td>PS2</td>\n",
       "      <td>Action</td>\n",
       "      <td>tbd</td>\n",
       "      <td>E</td>\n",
       "    </tr>\n",
       "    <tr>\n",
       "      <th>freq</th>\n",
       "      <td>12</td>\n",
       "      <td>2161</td>\n",
       "      <td>3369</td>\n",
       "      <td>2424</td>\n",
       "      <td>3990</td>\n",
       "    </tr>\n",
       "  </tbody>\n",
       "</table>\n",
       "</div>"
      ],
      "text/plain": [
       "                               Name Platform   Genre User_Score Rating\n",
       "count                         16713    16715   16713      10014   9949\n",
       "unique                        11559       31      12         96      8\n",
       "top     Need for Speed: Most Wanted      PS2  Action        tbd      E\n",
       "freq                             12     2161    3369       2424   3990"
      ]
     },
     "metadata": {},
     "output_type": "display_data"
    },
    {
     "name": "stdout",
     "output_type": "stream",
     "text": [
      "\n",
      "\u001b[1mПропуски в таблице: Игры\u001b[0m\n"
     ]
    },
    {
     "data": {
      "text/html": [
       "<div>\n",
       "<style scoped>\n",
       "    .dataframe tbody tr th:only-of-type {\n",
       "        vertical-align: middle;\n",
       "    }\n",
       "\n",
       "    .dataframe tbody tr th {\n",
       "        vertical-align: top;\n",
       "    }\n",
       "\n",
       "    .dataframe thead th {\n",
       "        text-align: right;\n",
       "    }\n",
       "</style>\n",
       "<table border=\"1\" class=\"dataframe\">\n",
       "  <thead>\n",
       "    <tr style=\"text-align: right;\">\n",
       "      <th></th>\n",
       "      <th>missing_values</th>\n",
       "      <th>% of total</th>\n",
       "    </tr>\n",
       "  </thead>\n",
       "  <tbody>\n",
       "    <tr>\n",
       "      <th>Critic_Score</th>\n",
       "      <td>8578</td>\n",
       "      <td>51.32</td>\n",
       "    </tr>\n",
       "    <tr>\n",
       "      <th>Rating</th>\n",
       "      <td>6766</td>\n",
       "      <td>40.48</td>\n",
       "    </tr>\n",
       "    <tr>\n",
       "      <th>User_Score</th>\n",
       "      <td>6701</td>\n",
       "      <td>40.09</td>\n",
       "    </tr>\n",
       "    <tr>\n",
       "      <th>Year_of_Release</th>\n",
       "      <td>269</td>\n",
       "      <td>1.61</td>\n",
       "    </tr>\n",
       "    <tr>\n",
       "      <th>Name</th>\n",
       "      <td>2</td>\n",
       "      <td>0.01</td>\n",
       "    </tr>\n",
       "    <tr>\n",
       "      <th>Genre</th>\n",
       "      <td>2</td>\n",
       "      <td>0.01</td>\n",
       "    </tr>\n",
       "    <tr>\n",
       "      <th>Platform</th>\n",
       "      <td>0</td>\n",
       "      <td>0.00</td>\n",
       "    </tr>\n",
       "    <tr>\n",
       "      <th>NA_sales</th>\n",
       "      <td>0</td>\n",
       "      <td>0.00</td>\n",
       "    </tr>\n",
       "    <tr>\n",
       "      <th>EU_sales</th>\n",
       "      <td>0</td>\n",
       "      <td>0.00</td>\n",
       "    </tr>\n",
       "    <tr>\n",
       "      <th>JP_sales</th>\n",
       "      <td>0</td>\n",
       "      <td>0.00</td>\n",
       "    </tr>\n",
       "    <tr>\n",
       "      <th>Other_sales</th>\n",
       "      <td>0</td>\n",
       "      <td>0.00</td>\n",
       "    </tr>\n",
       "  </tbody>\n",
       "</table>\n",
       "</div>"
      ],
      "text/plain": [
       "                 missing_values  % of total\n",
       "Critic_Score               8578       51.32\n",
       "Rating                     6766       40.48\n",
       "User_Score                 6701       40.09\n",
       "Year_of_Release             269        1.61\n",
       "Name                          2        0.01\n",
       "Genre                         2        0.01\n",
       "Platform                      0        0.00\n",
       "NA_sales                      0        0.00\n",
       "EU_sales                      0        0.00\n",
       "JP_sales                      0        0.00\n",
       "Other_sales                   0        0.00"
      ]
     },
     "metadata": {},
     "output_type": "display_data"
    },
    {
     "name": "stdout",
     "output_type": "stream",
     "text": [
      "\n",
      "\u001b[1mДубликатов в таблице Игры\u001b[0m: 0\n",
      "\n"
     ]
    }
   ],
   "source": [
    "# получаем информацию по таблицам\n",
    "dict_df = {'Игры': df} \n",
    "for dfd in dict_df:\n",
    "    get_info(dfd, dict_df[dfd])"
   ]
  },
  {
   "cell_type": "code",
   "execution_count": 5,
   "metadata": {},
   "outputs": [
    {
     "data": {
      "text/html": [
       "<div>\n",
       "<style scoped>\n",
       "    .dataframe tbody tr th:only-of-type {\n",
       "        vertical-align: middle;\n",
       "    }\n",
       "\n",
       "    .dataframe tbody tr th {\n",
       "        vertical-align: top;\n",
       "    }\n",
       "\n",
       "    .dataframe thead th {\n",
       "        text-align: right;\n",
       "    }\n",
       "</style>\n",
       "<table border=\"1\" class=\"dataframe\">\n",
       "  <thead>\n",
       "    <tr style=\"text-align: right;\">\n",
       "      <th></th>\n",
       "      <th>Name</th>\n",
       "      <th>Platform</th>\n",
       "      <th>Year_of_Release</th>\n",
       "      <th>Genre</th>\n",
       "      <th>NA_sales</th>\n",
       "      <th>EU_sales</th>\n",
       "      <th>JP_sales</th>\n",
       "      <th>Other_sales</th>\n",
       "      <th>Critic_Score</th>\n",
       "      <th>User_Score</th>\n",
       "      <th>Rating</th>\n",
       "    </tr>\n",
       "  </thead>\n",
       "  <tbody>\n",
       "    <tr>\n",
       "      <th>659</th>\n",
       "      <td>NaN</td>\n",
       "      <td>GEN</td>\n",
       "      <td>1993.0</td>\n",
       "      <td>NaN</td>\n",
       "      <td>1.78</td>\n",
       "      <td>0.53</td>\n",
       "      <td>0.00</td>\n",
       "      <td>0.08</td>\n",
       "      <td>NaN</td>\n",
       "      <td>NaN</td>\n",
       "      <td>NaN</td>\n",
       "    </tr>\n",
       "    <tr>\n",
       "      <th>14244</th>\n",
       "      <td>NaN</td>\n",
       "      <td>GEN</td>\n",
       "      <td>1993.0</td>\n",
       "      <td>NaN</td>\n",
       "      <td>0.00</td>\n",
       "      <td>0.00</td>\n",
       "      <td>0.03</td>\n",
       "      <td>0.00</td>\n",
       "      <td>NaN</td>\n",
       "      <td>NaN</td>\n",
       "      <td>NaN</td>\n",
       "    </tr>\n",
       "  </tbody>\n",
       "</table>\n",
       "</div>"
      ],
      "text/plain": [
       "      Name Platform  Year_of_Release Genre  NA_sales  EU_sales  JP_sales  \\\n",
       "659    NaN      GEN           1993.0   NaN      1.78      0.53      0.00   \n",
       "14244  NaN      GEN           1993.0   NaN      0.00      0.00      0.03   \n",
       "\n",
       "       Other_sales  Critic_Score User_Score Rating  \n",
       "659           0.08           NaN        NaN    NaN  \n",
       "14244         0.00           NaN        NaN    NaN  "
      ]
     },
     "metadata": {},
     "output_type": "display_data"
    }
   ],
   "source": [
    "display(df[df['Name'].isna()]) # выводим на экран данные с играми без названий"
   ]
  },
  {
   "cell_type": "code",
   "execution_count": 6,
   "metadata": {},
   "outputs": [
    {
     "data": {
      "text/plain": [
       "array(['Sports', 'Platform', 'Racing', 'Role-Playing', 'Puzzle', 'Misc',\n",
       "       'Shooter', 'Simulation', 'Action', 'Fighting', 'Adventure',\n",
       "       'Strategy', nan], dtype=object)"
      ]
     },
     "execution_count": 6,
     "metadata": {},
     "output_type": "execute_result"
    }
   ],
   "source": [
    "df['Genre'].unique() # выводим на экран уникальные название жанров"
   ]
  },
  {
   "cell_type": "code",
   "execution_count": 7,
   "metadata": {},
   "outputs": [
    {
     "data": {
      "text/plain": [
       "array(['E', nan, 'M', 'T', 'E10+', 'K-A', 'AO', 'EC', 'RP'], dtype=object)"
      ]
     },
     "execution_count": 7,
     "metadata": {},
     "output_type": "execute_result"
    }
   ],
   "source": [
    "df['Rating'].unique()  # выводим на экран уникальные название рейтинга"
   ]
  },
  {
   "cell_type": "code",
   "execution_count": 8,
   "metadata": {},
   "outputs": [
    {
     "data": {
      "text/plain": [
       "array(['Wii', 'NES', 'GB', 'DS', 'X360', 'PS3', 'PS2', 'SNES', 'GBA',\n",
       "       'PS4', '3DS', 'N64', 'PS', 'XB', 'PC', '2600', 'PSP', 'XOne',\n",
       "       'WiiU', 'GC', 'GEN', 'DC', 'PSV', 'SAT', 'SCD', 'WS', 'NG', 'TG16',\n",
       "       '3DO', 'GG', 'PCFX'], dtype=object)"
      ]
     },
     "execution_count": 8,
     "metadata": {},
     "output_type": "execute_result"
    }
   ],
   "source": [
    "df['Platform'].unique()  # выводим на экран уникальные название платформ"
   ]
  },
  {
   "cell_type": "markdown",
   "metadata": {},
   "source": [
    "При изучении файла выявлены ошибки:\n",
    "\n",
    "- Названия всех столбцов с большой буквы. Приведём к нижнему регистру.\n",
    "- Name, Genre - есть пропуски. Удалим строки с пропусками.\n",
    "- Year_of_Release — есть пропуски. Оставим без изменений.\n",
    "- Critic_Score — есть пропуски. \n",
    "- User_Score — есть пропуски, tbd - to be determined значение еще не определено.\n",
    "- Rating — есть пропуски.\n",
    "\n",
    "Перед анализом нужно предобработать данные."
   ]
  },
  {
   "cell_type": "markdown",
   "metadata": {},
   "source": [
    "## Шаг 2. Предобработка данных"
   ]
  },
  {
   "cell_type": "markdown",
   "metadata": {},
   "source": [
    "### Стиль заголовков"
   ]
  },
  {
   "cell_type": "code",
   "execution_count": 9,
   "metadata": {},
   "outputs": [
    {
     "name": "stdout",
     "output_type": "stream",
     "text": [
      "Index(['Name', 'Platform', 'Year_of_Release', 'Genre', 'NA_sales', 'EU_sales',\n",
      "       'JP_sales', 'Other_sales', 'Critic_Score', 'User_Score', 'Rating'],\n",
      "      dtype='object')\n",
      "Index(['name', 'platform', 'year_of_release', 'genre', 'na_sales', 'eu_sales',\n",
      "       'jp_sales', 'other_sales', 'critic_score', 'user_score', 'rating'],\n",
      "      dtype='object')\n"
     ]
    }
   ],
   "source": [
    "print(df.columns) # выводим название столбцов на экран\n",
    "df.columns = [col.lower() for col in df.columns] # приводи название столбцов к нижнему регистру\n",
    "print(df.columns) # выводим название столбцов на экран"
   ]
  },
  {
   "cell_type": "markdown",
   "metadata": {},
   "source": [
    "### Пропуски значений"
   ]
  },
  {
   "cell_type": "code",
   "execution_count": 10,
   "metadata": {},
   "outputs": [
    {
     "name": "stdout",
     "output_type": "stream",
     "text": [
      "2\n",
      "0\n"
     ]
    }
   ],
   "source": [
    "print(df['name'].isna().sum()) # подсчёт пропусков в столбце name\n",
    "df.dropna(subset = ['name'], inplace = True)\n",
    "print(df['name'].isna().sum()) # подсчёт пропусков в столбце name"
   ]
  },
  {
   "cell_type": "code",
   "execution_count": 11,
   "metadata": {},
   "outputs": [],
   "source": [
    "df.loc[df['user_score'] == 'tbd', 'user_score'] = float('nan') # заменяем tbd на nan"
   ]
  },
  {
   "cell_type": "code",
   "execution_count": 12,
   "metadata": {},
   "outputs": [],
   "source": [
    "df['user_score'] = df['user_score'].astype('float') # меняем тип даных на float"
   ]
  },
  {
   "cell_type": "code",
   "execution_count": 13,
   "metadata": {},
   "outputs": [],
   "source": [
    "df['rating'] = df['rating'].fillna('NA') # пропуски меняем на 'NA'"
   ]
  },
  {
   "cell_type": "markdown",
   "metadata": {},
   "source": [
    "### Суммарные продажи во всех регионах"
   ]
  },
  {
   "cell_type": "code",
   "execution_count": 14,
   "metadata": {},
   "outputs": [],
   "source": [
    "df['sum_sales'] = df['na_sales'] + df['eu_sales'] + df['jp_sales'] + df['other_sales'] # создаём столбец sum_sales с суммарными продажами во всех региона"
   ]
  },
  {
   "cell_type": "markdown",
   "metadata": {},
   "source": [
    "**Вывод**"
   ]
  },
  {
   "cell_type": "markdown",
   "metadata": {},
   "source": [
    "- Заменены названия столбцов (приведите к нижнему регистру).\n",
    "- Удалены строки с пропущеными названиями игр.\n",
    "- tbd - to be determined значение еще не определено заменили на nan\n",
    "- Столбец user_score заменили на тип float\n",
    "- Пропуски в столбце rating заменили на 'NA'\n",
    "- Создали столбец с  суммарными продажами во всех регионах  sum_saales"
   ]
  },
  {
   "cell_type": "markdown",
   "metadata": {},
   "source": [
    "## Шаг 3. Исследовательский анализ данных"
   ]
  },
  {
   "cell_type": "markdown",
   "metadata": {},
   "source": [
    "### Посмотрите, сколько игр выпускалось в разные годы. Важны ли данные за все периоды?"
   ]
  },
  {
   "cell_type": "code",
   "execution_count": 15,
   "metadata": {},
   "outputs": [
    {
     "data": {
      "image/png": "[encoded data removed]",
      "text/plain": [
       "<Figure size 1080x360 with 1 Axes>"
      ]
     },
     "metadata": {
      "needs_background": "light"
     },
     "output_type": "display_data"
    }
   ],
   "source": [
    "df['year_of_release'].plot(kind = 'hist',bins = 37, title ='year_of_release', grid = True, figsize=(15,5)) # строим гисторграмму\n",
    "plt.show()"
   ]
  },
  {
   "cell_type": "code",
   "execution_count": 16,
   "metadata": {},
   "outputs": [
    {
     "data": {
      "image/png": "[encoded data removed]",
      "text/plain": [
       "<Figure size 720x720 with 1 Axes>"
      ]
     },
     "metadata": {
      "needs_background": "light"
     },
     "output_type": "display_data"
    }
   ],
   "source": [
    "df.boxplot(column ='year_of_release',  figsize=(10,10)) # строим графико распределения данных\n",
    "plt.show()"
   ]
  },
  {
   "cell_type": "code",
   "execution_count": 17,
   "metadata": {},
   "outputs": [
    {
     "data": {
      "image/png": "[encoded data removed]",
      "text/plain": [
       "<Figure size 1152x288 with 1 Axes>"
      ]
     },
     "metadata": {
      "needs_background": "light"
     },
     "output_type": "display_data"
    }
   ],
   "source": [
    "df.groupby('year_of_release')['sum_sales'].sum().plot(x='year_of_release', y=df.groupby('year_of_release')['sum_sales'].sum(), kind='bar', figsize=(16,4), grid = True) # строим столбчатую диаграмму\n",
    "plt.title('Продажи по годам', fontsize=22) # задаём название графика\n",
    "plt.xlabel('год') # задаём подпись горизонтальной оси\n",
    "plt.ylabel('миллионы проданных копий') # задаём подпись вертикальной оси\n",
    "plt.show() # показываем график   "
   ]
  },
  {
   "cell_type": "code",
   "execution_count": 18,
   "metadata": {},
   "outputs": [],
   "source": [
    "df93 = df.query('year_of_release >= 1993') # сделаем срез по 1993 году"
   ]
  },
  {
   "cell_type": "markdown",
   "metadata": {},
   "source": [
    "**Вывод**"
   ]
  },
  {
   "cell_type": "markdown",
   "metadata": {},
   "source": [
    "До 1993 года выпускалось заметно меньше игр чем после, данные до 1993 года не важны и в дальнейших исследования их не используем."
   ]
  },
  {
   "cell_type": "markdown",
   "metadata": {},
   "source": [
    "### Посмотрите, как менялись продажи по платформам. Выберите платформы с наибольшими суммарными продажами и постройте распределение по годам. За какой характерный срок появляются новые и исчезают старые платформы?"
   ]
  },
  {
   "cell_type": "code",
   "execution_count": 19,
   "metadata": {},
   "outputs": [],
   "source": [
    "top = df93.groupby('platform').agg({'sum_sales': 'sum'}).sort_values(by = 'sum_sales').tail(10).index # создаём рейтинг платформ"
   ]
  },
  {
   "cell_type": "code",
   "execution_count": 20,
   "metadata": {},
   "outputs": [
    {
     "data": {
      "image/png": "[encoded data removed]",
      "text/plain": [
       "<Figure size 1152x288 with 1 Axes>"
      ]
     },
     "metadata": {
      "needs_background": "light"
     },
     "output_type": "display_data"
    }
   ],
   "source": [
    "df93.query('platform in @top').pivot_table(index = 'year_of_release', columns = 'platform', values = 'sum_sales', aggfunc = 'sum').plot(figsize=(16,4)) # строим графиги продажи по годама\n",
    "plt.title('Продажи по годам', fontsize=22) # задаём название графика \n",
    "plt.xlabel('год') # задаём подпись горизонтальной оси\n",
    "plt.ylabel('миллионы проданных копий') # задаём подпись вертикальной оси\n",
    "plt.show() # показываем график "
   ]
  },
  {
   "cell_type": "code",
   "execution_count": 21,
   "metadata": {
    "scrolled": true
   },
   "outputs": [
    {
     "name": "stdout",
     "output_type": "stream",
     "text": [
      "Появляются новые и исчезают старые платформы в среднем за 9 лет\n"
     ]
    }
   ],
   "source": [
    "count_sum = 0 # создаём переменную\n",
    "for platform in top: # создаём цикл    \n",
    "    count_sum += df93[df93['platform'] == platform].groupby('year_of_release')['sum_sales'].sum().count() # суммируем года когда были продажи \n",
    "print('Появляются новые и исчезают старые платформы в среднем за', (count_sum/10).astype(int), 'лет') # выводми на экран среднее"
   ]
  },
  {
   "cell_type": "markdown",
   "metadata": {},
   "source": [
    "### Возьмите данные за соответствующий актуальный период. Не учитывайте в работе данные за предыдущие годы."
   ]
  },
  {
   "cell_type": "code",
   "execution_count": 22,
   "metadata": {},
   "outputs": [],
   "source": [
    "df8 = df.query('year_of_release >= 2008')"
   ]
  },
  {
   "cell_type": "markdown",
   "metadata": {},
   "source": [
    "**Вывод**"
   ]
  },
  {
   "cell_type": "markdown",
   "metadata": {},
   "source": [
    "Так как появляются новые и исчезают старые платформы в среднем за 9 лет, актуальный период будем считать с 2008 года."
   ]
  },
  {
   "cell_type": "markdown",
   "metadata": {},
   "source": [
    "### Какие платформы лидируют по продажам, растут или падают? Выберите несколько потенциально прибыльных платформ."
   ]
  },
  {
   "cell_type": "code",
   "execution_count": 23,
   "metadata": {},
   "outputs": [],
   "source": [
    "top_10 = df8.groupby('platform').agg({'sum_sales': 'sum'}).sort_values(by = 'sum_sales').tail(10).index # создаём рейтинг платформ с 2008 года"
   ]
  },
  {
   "cell_type": "code",
   "execution_count": 24,
   "metadata": {},
   "outputs": [
    {
     "data": {
      "image/png": "[encoded data removed]",
      "text/plain": [
       "<Figure size 1152x288 with 1 Axes>"
      ]
     },
     "metadata": {
      "needs_background": "light"
     },
     "output_type": "display_data"
    }
   ],
   "source": [
    "df8.query('platform in @top_10').pivot_table(index = 'year_of_release', columns = 'platform', values = 'sum_sales', aggfunc = 'mean').plot(figsize=(16,4)) # строим графиги продажи по годама\n",
    "plt.title('Продажи по годам', fontsize=22) # задаём название графика \n",
    "plt.xlabel('год') # задаём подпись горизонтальной оси\n",
    "plt.ylabel('миллионы проданных копий') # задаём подпись вертикальной оси\n",
    "plt.show() # показываем график  "
   ]
  },
  {
   "cell_type": "markdown",
   "metadata": {},
   "source": [
    "**Вывод**"
   ]
  },
  {
   "cell_type": "markdown",
   "metadata": {},
   "source": [
    "В последнее время по продажам лидируют PS4 и XOne, c 2008 года по всем платформам продажи падают, потенциально прибыльные пока остаются лидеры PS4 и XOne."
   ]
  },
  {
   "cell_type": "markdown",
   "metadata": {},
   "source": [
    "### Постройте график «ящик с усами» по глобальным продажам игр в разбивке по платформам. Опишите результат"
   ]
  },
  {
   "cell_type": "code",
   "execution_count": 25,
   "metadata": {},
   "outputs": [
    {
     "data": {
      "image/png": "[encoded data removed]",
      "text/plain": [
       "<Figure size 1152x720 with 1 Axes>"
      ]
     },
     "metadata": {
      "needs_background": "light"
     },
     "output_type": "display_data"
    }
   ],
   "source": [
    "df8.query('platform in @top_10').boxplot(column ='sum_sales', by = 'platform', figsize=(16,10)) # строим графико распределения данных по платформам\n",
    "plt.ylabel('миллионы проданных копий') # задаём подпись вертикальной оси\n",
    "plt.ylim(0, 2) # обрезаме график по вертикали\n",
    "plt.show() # показываем график "
   ]
  },
  {
   "cell_type": "markdown",
   "metadata": {},
   "source": [
    "**Вывод**"
   ]
  },
  {
   "cell_type": "markdown",
   "metadata": {},
   "source": [
    "За последние 9 лет лидеры продаж PS3 и X360 их догоняют более новые платформы PS4 и XOne."
   ]
  },
  {
   "cell_type": "markdown",
   "metadata": {},
   "source": [
    "### Посмотрите, как влияют на продажи внутри одной популярной платформы отзывы пользователей и критиков. Постройте диаграмму рассеяния и посчитайте корреляцию между отзывами и продажами. Сформулируйте выводы."
   ]
  },
  {
   "cell_type": "code",
   "execution_count": 26,
   "metadata": {},
   "outputs": [
    {
     "data": {
      "image/png": "[encoded data removed]",
      "text/plain": [
       "<Figure size 1152x576 with 2 Axes>"
      ]
     },
     "metadata": {
      "needs_background": "light"
     },
     "output_type": "display_data"
    },
    {
     "name": "stdout",
     "output_type": "stream",
     "text": [
      "Коррелция  между отзывами критиков и продажами 0.4337315172826896\n",
      "Коррелция  между отзывами пользователей и продажами 0.11507962414430672\n"
     ]
    }
   ],
   "source": [
    "plt.figure(figsize=(16, 8)) # задаём размер графиков\n",
    "plt.subplot(121) # устанавливаем подокно графика    \n",
    "sns.scatterplot(data=df8.query('platform == \"PS3\"'), x='critic_score', y='sum_sales') # строим диаграмму рассеиния\n",
    "plt.title('График влияния оценок критиков на продажи') # задаём название графика    \n",
    "plt.xlabel('оценка критиков') # задаём подпись горизонтальной оси\n",
    "plt.ylabel('миллионы проданных копий') # задаём подпись вертикальной оси\n",
    "plt.subplot(122) # устанавливаем подокно графика    \n",
    "sns.scatterplot(data=df8.query('platform == \"PS3\"'), x='user_score', y='sum_sales') # строим диаграмму рассеиния\n",
    "plt.title('График влияния оценок пользователей на продажи') # задаём название графика  \n",
    "plt.xlabel('оценка пользователей') # задаём подпись горизонтальной оси\n",
    "plt.ylabel('миллионы проданных копий') # задаём подпись вертикальной оси\n",
    "plt.show() # показываем график\n",
    "print('Коррелция  между отзывами критиков и продажами', df8.query('platform == \"PS3\"')['critic_score'].corr(df['sum_sales'])) # выводим на экран корреляцию\n",
    "print('Коррелция  между отзывами пользователей и продажами', df8.query('platform == \"PS3\"')['user_score'].corr(df['sum_sales'])) # выводим на экран корреляцию"
   ]
  },
  {
   "cell_type": "markdown",
   "metadata": {},
   "source": [
    "**Вывод**"
   ]
  },
  {
   "cell_type": "markdown",
   "metadata": {},
   "source": [
    "Отзывы критиков влияют на продажи, отзывы пользователей почти не влияют на продажи PS3."
   ]
  },
  {
   "cell_type": "markdown",
   "metadata": {},
   "source": [
    "### Соотнесите выводы с продажами игр на других платформах"
   ]
  },
  {
   "cell_type": "code",
   "execution_count": 27,
   "metadata": {},
   "outputs": [
    {
     "name": "stdout",
     "output_type": "stream",
     "text": [
      "Платформа: PS2\n",
      "Коррелция  между отзывами критиков и продажами 0.34483115443912876\n",
      "Коррелция  между отзывами пользователей и продажами 0.1223723901293979\n",
      "Платформа: PSP\n",
      "Коррелция  между отзывами критиков и продажами 0.33468103952904893\n",
      "Коррелция  между отзывами пользователей и продажами 0.21656156902299614\n",
      "Платформа: PC\n",
      "Коррелция  между отзывами критиков и продажами 0.2974609078144443\n",
      "Коррелция  между отзывами пользователей и продажами -0.01865012471759223\n",
      "Платформа: XOne\n",
      "Коррелция  между отзывами критиков и продажами 0.4169983280084017\n",
      "Коррелция  между отзывами пользователей и продажами -0.06892505328279414\n",
      "Платформа: 3DS\n",
      "Коррелция  между отзывами критиков и продажами 0.3487397305984834\n",
      "Коррелция  между отзывами пользователей и продажами 0.22207843643390882\n",
      "Платформа: PS4\n",
      "Коррелция  между отзывами критиков и продажами 0.40656790206178095\n",
      "Коррелция  между отзывами пользователей и продажами -0.031957110204556424\n",
      "Платформа: DS\n",
      "Коррелция  между отзывами критиков и продажами 0.30713909204534273\n",
      "Коррелция  между отзывами пользователей и продажами 0.19922302496645283\n",
      "Платформа: Wii\n",
      "Коррелция  между отзывами критиков и продажами 0.2251085171069155\n",
      "Коррелция  между отзывами пользователей и продажами 0.13024203026623343\n",
      "Платформа: X360\n",
      "Коррелция  между отзывами критиков и продажами 0.3886526625814236\n",
      "Коррелция  между отзывами пользователей и продажами 0.10110099387279446\n",
      "Платформа: PS3\n",
      "Коррелция  между отзывами критиков и продажами 0.4337315172826896\n",
      "Коррелция  между отзывами пользователей и продажами 0.11507962414430672\n"
     ]
    }
   ],
   "source": [
    "for index in top_10: # создаём цикл\n",
    "    print('Платформа:', index) # выводим на экран название платформы\n",
    "    print('Коррелция  между отзывами критиков и продажами', df8.query('platform == @index')['critic_score'].corr(df['sum_sales'])) # выводим на экран корреляцию\n",
    "    print('Коррелция  между отзывами пользователей и продажами', df8.query('platform == @index')['user_score'].corr(df['sum_sales'])) # выводим на экран корреляцию\n",
    "    "
   ]
  },
  {
   "cell_type": "markdown",
   "metadata": {},
   "source": [
    "**Вывод**"
   ]
  },
  {
   "cell_type": "markdown",
   "metadata": {},
   "source": [
    "По остальным платформам выводы почти совпадают, отзывы критиков влияют на продажи, отзывы пользователей почти не влияют на продажи. У PC, PS4, XOne корреляция между отзывами пользователей и продажами отрицательная.  "
   ]
  },
  {
   "cell_type": "markdown",
   "metadata": {},
   "source": [
    "### Посмотрите на общее распределение игр по жанрам. Что можно сказать о самых прибыльных жанрах? Выделяются ли жанры с высокими и низкими продажами?"
   ]
  },
  {
   "cell_type": "code",
   "execution_count": 28,
   "metadata": {},
   "outputs": [
    {
     "data": {
      "image/png": "[encoded data removed]",
      "text/plain": [
       "<Figure size 1152x288 with 1 Axes>"
      ]
     },
     "metadata": {
      "needs_background": "light"
     },
     "output_type": "display_data"
    }
   ],
   "source": [
    "df8.groupby('genre')['sum_sales'].sum().plot(x='year_of_release', y=df.groupby('genre')['sum_sales'].sum(), kind='bar', figsize=(16,4), grid = True) # строим столбчатую диаграмму\n",
    "plt.title('Продажи по жанрам', fontsize=22) # задаём название графика\n",
    "plt.xlabel('жанр') # задаём подпись горизонтальной оси\n",
    "plt.ylabel('миллионы проданных копий') # задаём подпись вертикальной оси\n",
    "plt.show() # показываем график  "
   ]
  },
  {
   "cell_type": "code",
   "execution_count": 29,
   "metadata": {},
   "outputs": [
    {
     "data": {
      "image/png": "[encoded data removed]",
      "text/plain": [
       "<Figure size 1152x288 with 1 Axes>"
      ]
     },
     "metadata": {
      "needs_background": "light"
     },
     "output_type": "display_data"
    }
   ],
   "source": [
    "df8.groupby('genre')['sum_sales'].mean().plot(x='year_of_release', y=df.groupby('genre')['sum_sales'].sum(), kind='bar', figsize=(16,4), grid = True) # строим столбчатую диаграмму\n",
    "plt.title('Продажи по жанрам', fontsize=22) # задаём название графика\n",
    "plt.xlabel('жанр') # задаём подпись горизонтальной оси\n",
    "plt.ylabel('миллионы проданных копий') # задаём подпись вертикальной оси\n",
    "plt.show() # показываем график  "
   ]
  },
  {
   "cell_type": "markdown",
   "metadata": {},
   "source": [
    "**Вывод**"
   ]
  },
  {
   "cell_type": "markdown",
   "metadata": {},
   "source": [
    "Самый популярный жанр Action он сильно выделяется от остальных жанров, самые низкие продажи у Puzzle и Strategy."
   ]
  },
  {
   "cell_type": "markdown",
   "metadata": {},
   "source": [
    "## Шаг 4. Составьте портрет пользователя каждого региона"
   ]
  },
  {
   "cell_type": "markdown",
   "metadata": {},
   "source": [
    "### Самые популярные платформы (топ-5)"
   ]
  },
  {
   "cell_type": "code",
   "execution_count": 30,
   "metadata": {},
   "outputs": [
    {
     "data": {
      "text/html": [
       "<div>\n",
       "<style scoped>\n",
       "    .dataframe tbody tr th:only-of-type {\n",
       "        vertical-align: middle;\n",
       "    }\n",
       "\n",
       "    .dataframe tbody tr th {\n",
       "        vertical-align: top;\n",
       "    }\n",
       "\n",
       "    .dataframe thead th {\n",
       "        text-align: right;\n",
       "    }\n",
       "</style>\n",
       "<table border=\"1\" class=\"dataframe\">\n",
       "  <thead>\n",
       "    <tr style=\"text-align: right;\">\n",
       "      <th></th>\n",
       "      <th>na_sales</th>\n",
       "      <th>ratio %</th>\n",
       "    </tr>\n",
       "    <tr>\n",
       "      <th>platform</th>\n",
       "      <th></th>\n",
       "      <th></th>\n",
       "    </tr>\n",
       "  </thead>\n",
       "  <tbody>\n",
       "    <tr>\n",
       "      <th>X360</th>\n",
       "      <td>490.69</td>\n",
       "      <td>27.040476</td>\n",
       "    </tr>\n",
       "    <tr>\n",
       "      <th>PS3</th>\n",
       "      <td>349.13</td>\n",
       "      <td>19.239523</td>\n",
       "    </tr>\n",
       "    <tr>\n",
       "      <th>Wii</th>\n",
       "      <td>332.87</td>\n",
       "      <td>18.343482</td>\n",
       "    </tr>\n",
       "    <tr>\n",
       "      <th>DS</th>\n",
       "      <td>198.73</td>\n",
       "      <td>10.951423</td>\n",
       "    </tr>\n",
       "    <tr>\n",
       "      <th>PS4</th>\n",
       "      <td>108.74</td>\n",
       "      <td>5.992340</td>\n",
       "    </tr>\n",
       "  </tbody>\n",
       "</table>\n",
       "</div>"
      ],
      "text/plain": [
       "          na_sales    ratio %\n",
       "platform                     \n",
       "X360        490.69  27.040476\n",
       "PS3         349.13  19.239523\n",
       "Wii         332.87  18.343482\n",
       "DS          198.73  10.951423\n",
       "PS4         108.74   5.992340"
      ]
     },
     "metadata": {},
     "output_type": "display_data"
    }
   ],
   "source": [
    "top_na = df8.groupby('platform').agg({'na_sales': 'sum'}).sort_values(by = 'na_sales',  ascending = False) # создаём рейтинг платформ Северной Америки \n",
    "top_na['ratio %'] = (top_na['na_sales']/top_na['na_sales'].sum())*100 # созаём столбцец ratio % доля от всех продаж\n",
    "display(top_na.head()) # выводи топ-5 на экран"
   ]
  },
  {
   "cell_type": "code",
   "execution_count": 31,
   "metadata": {},
   "outputs": [
    {
     "data": {
      "text/html": [
       "<div>\n",
       "<style scoped>\n",
       "    .dataframe tbody tr th:only-of-type {\n",
       "        vertical-align: middle;\n",
       "    }\n",
       "\n",
       "    .dataframe tbody tr th {\n",
       "        vertical-align: top;\n",
       "    }\n",
       "\n",
       "    .dataframe thead th {\n",
       "        text-align: right;\n",
       "    }\n",
       "</style>\n",
       "<table border=\"1\" class=\"dataframe\">\n",
       "  <thead>\n",
       "    <tr style=\"text-align: right;\">\n",
       "      <th></th>\n",
       "      <th>eu_sales</th>\n",
       "      <th>ratio %</th>\n",
       "    </tr>\n",
       "    <tr>\n",
       "      <th>platform</th>\n",
       "      <th></th>\n",
       "      <th></th>\n",
       "    </tr>\n",
       "  </thead>\n",
       "  <tbody>\n",
       "    <tr>\n",
       "      <th>PS3</th>\n",
       "      <td>293.73</td>\n",
       "      <td>24.269390</td>\n",
       "    </tr>\n",
       "    <tr>\n",
       "      <th>X360</th>\n",
       "      <td>234.88</td>\n",
       "      <td>19.406919</td>\n",
       "    </tr>\n",
       "    <tr>\n",
       "      <th>Wii</th>\n",
       "      <td>170.74</td>\n",
       "      <td>14.107363</td>\n",
       "    </tr>\n",
       "    <tr>\n",
       "      <th>PS4</th>\n",
       "      <td>141.09</td>\n",
       "      <td>11.657537</td>\n",
       "    </tr>\n",
       "    <tr>\n",
       "      <th>PC</th>\n",
       "      <td>92.17</td>\n",
       "      <td>7.615530</td>\n",
       "    </tr>\n",
       "  </tbody>\n",
       "</table>\n",
       "</div>"
      ],
      "text/plain": [
       "          eu_sales    ratio %\n",
       "platform                     \n",
       "PS3         293.73  24.269390\n",
       "X360        234.88  19.406919\n",
       "Wii         170.74  14.107363\n",
       "PS4         141.09  11.657537\n",
       "PC           92.17   7.615530"
      ]
     },
     "metadata": {},
     "output_type": "display_data"
    }
   ],
   "source": [
    "top_eu = df8.groupby('platform').agg({'eu_sales': 'sum'}).sort_values(by = 'eu_sales',  ascending = False) # создаём рейтинг платформ Европы \n",
    "top_eu['ratio %'] = (top_eu['eu_sales']/top_eu['eu_sales'].sum())*100 # созаём столбцец ratio % доля от всех продаж\n",
    "display(top_eu.head()) # выводим топ-5 на экран"
   ]
  },
  {
   "cell_type": "code",
   "execution_count": 32,
   "metadata": {},
   "outputs": [
    {
     "data": {
      "text/html": [
       "<div>\n",
       "<style scoped>\n",
       "    .dataframe tbody tr th:only-of-type {\n",
       "        vertical-align: middle;\n",
       "    }\n",
       "\n",
       "    .dataframe tbody tr th {\n",
       "        vertical-align: top;\n",
       "    }\n",
       "\n",
       "    .dataframe thead th {\n",
       "        text-align: right;\n",
       "    }\n",
       "</style>\n",
       "<table border=\"1\" class=\"dataframe\">\n",
       "  <thead>\n",
       "    <tr style=\"text-align: right;\">\n",
       "      <th></th>\n",
       "      <th>jp_sales</th>\n",
       "      <th>ratio %</th>\n",
       "    </tr>\n",
       "    <tr>\n",
       "      <th>platform</th>\n",
       "      <th></th>\n",
       "      <th></th>\n",
       "    </tr>\n",
       "  </thead>\n",
       "  <tbody>\n",
       "    <tr>\n",
       "      <th>3DS</th>\n",
       "      <td>100.62</td>\n",
       "      <td>23.548961</td>\n",
       "    </tr>\n",
       "    <tr>\n",
       "      <th>DS</th>\n",
       "      <td>76.12</td>\n",
       "      <td>17.815016</td>\n",
       "    </tr>\n",
       "    <tr>\n",
       "      <th>PS3</th>\n",
       "      <td>74.11</td>\n",
       "      <td>17.344598</td>\n",
       "    </tr>\n",
       "    <tr>\n",
       "      <th>PSP</th>\n",
       "      <td>60.46</td>\n",
       "      <td>14.149972</td>\n",
       "    </tr>\n",
       "    <tr>\n",
       "      <th>Wii</th>\n",
       "      <td>47.01</td>\n",
       "      <td>11.002153</td>\n",
       "    </tr>\n",
       "  </tbody>\n",
       "</table>\n",
       "</div>"
      ],
      "text/plain": [
       "          jp_sales    ratio %\n",
       "platform                     \n",
       "3DS         100.62  23.548961\n",
       "DS           76.12  17.815016\n",
       "PS3          74.11  17.344598\n",
       "PSP          60.46  14.149972\n",
       "Wii          47.01  11.002153"
      ]
     },
     "metadata": {},
     "output_type": "display_data"
    }
   ],
   "source": [
    "top_jp = df8.groupby('platform').agg({'jp_sales': 'sum'}).sort_values(by = 'jp_sales',  ascending = False) # создаём рейтинг платформ Японии \n",
    "top_jp['ratio %'] = (top_jp['jp_sales']/top_jp['jp_sales'].sum())*100 # созаём столбцец ratio % доля от всех продаж\n",
    "display(top_jp.head()) # выводим топ-5 на экран"
   ]
  },
  {
   "cell_type": "markdown",
   "metadata": {},
   "source": [
    "**Вывод**"
   ]
  },
  {
   "cell_type": "markdown",
   "metadata": {},
   "source": [
    "Самая популярная платформа в Северной Америке X360 27% от всех продаж, в Европе PS3 24%  от всех продаж, в Японии 3DS 23% от всех продаж."
   ]
  },
  {
   "cell_type": "markdown",
   "metadata": {},
   "source": [
    "### Самые популярные жанры (топ-5) "
   ]
  },
  {
   "cell_type": "code",
   "execution_count": 33,
   "metadata": {},
   "outputs": [
    {
     "data": {
      "text/html": [
       "<div>\n",
       "<style scoped>\n",
       "    .dataframe tbody tr th:only-of-type {\n",
       "        vertical-align: middle;\n",
       "    }\n",
       "\n",
       "    .dataframe tbody tr th {\n",
       "        vertical-align: top;\n",
       "    }\n",
       "\n",
       "    .dataframe thead th {\n",
       "        text-align: right;\n",
       "    }\n",
       "</style>\n",
       "<table border=\"1\" class=\"dataframe\">\n",
       "  <thead>\n",
       "    <tr style=\"text-align: right;\">\n",
       "      <th></th>\n",
       "      <th>na_sales</th>\n",
       "      <th>ratio %</th>\n",
       "    </tr>\n",
       "    <tr>\n",
       "      <th>genre</th>\n",
       "      <th></th>\n",
       "      <th></th>\n",
       "    </tr>\n",
       "  </thead>\n",
       "  <tbody>\n",
       "    <tr>\n",
       "      <th>Action</th>\n",
       "      <td>433.74</td>\n",
       "      <td>23.902130</td>\n",
       "    </tr>\n",
       "    <tr>\n",
       "      <th>Shooter</th>\n",
       "      <td>311.26</td>\n",
       "      <td>17.152619</td>\n",
       "    </tr>\n",
       "    <tr>\n",
       "      <th>Sports</th>\n",
       "      <td>276.27</td>\n",
       "      <td>15.224423</td>\n",
       "    </tr>\n",
       "    <tr>\n",
       "      <th>Misc</th>\n",
       "      <td>211.61</td>\n",
       "      <td>11.661202</td>\n",
       "    </tr>\n",
       "    <tr>\n",
       "      <th>Role-Playing</th>\n",
       "      <td>155.81</td>\n",
       "      <td>8.586229</td>\n",
       "    </tr>\n",
       "  </tbody>\n",
       "</table>\n",
       "</div>"
      ],
      "text/plain": [
       "              na_sales    ratio %\n",
       "genre                            \n",
       "Action          433.74  23.902130\n",
       "Shooter         311.26  17.152619\n",
       "Sports          276.27  15.224423\n",
       "Misc            211.61  11.661202\n",
       "Role-Playing    155.81   8.586229"
      ]
     },
     "metadata": {},
     "output_type": "display_data"
    }
   ],
   "source": [
    "top_na = df8.groupby('genre').agg({'na_sales': 'sum'}).sort_values(by = 'na_sales',  ascending = False) # создаём рейтинг жанров Северной Америки \n",
    "top_na['ratio %'] = (top_na['na_sales']/top_na['na_sales'].sum())*100 # созаём столбцец ratio % доля от всех продаж\n",
    "display(top_na.head()) # выводим топ-5 на экран"
   ]
  },
  {
   "cell_type": "code",
   "execution_count": 34,
   "metadata": {},
   "outputs": [
    {
     "data": {
      "text/html": [
       "<div>\n",
       "<style scoped>\n",
       "    .dataframe tbody tr th:only-of-type {\n",
       "        vertical-align: middle;\n",
       "    }\n",
       "\n",
       "    .dataframe tbody tr th {\n",
       "        vertical-align: top;\n",
       "    }\n",
       "\n",
       "    .dataframe thead th {\n",
       "        text-align: right;\n",
       "    }\n",
       "</style>\n",
       "<table border=\"1\" class=\"dataframe\">\n",
       "  <thead>\n",
       "    <tr style=\"text-align: right;\">\n",
       "      <th></th>\n",
       "      <th>eu_sales</th>\n",
       "      <th>ratio %</th>\n",
       "    </tr>\n",
       "    <tr>\n",
       "      <th>genre</th>\n",
       "      <th></th>\n",
       "      <th></th>\n",
       "    </tr>\n",
       "  </thead>\n",
       "  <tbody>\n",
       "    <tr>\n",
       "      <th>Action</th>\n",
       "      <td>310.59</td>\n",
       "      <td>25.662445</td>\n",
       "    </tr>\n",
       "    <tr>\n",
       "      <th>Shooter</th>\n",
       "      <td>208.35</td>\n",
       "      <td>17.214882</td>\n",
       "    </tr>\n",
       "    <tr>\n",
       "      <th>Sports</th>\n",
       "      <td>185.19</td>\n",
       "      <td>15.301291</td>\n",
       "    </tr>\n",
       "    <tr>\n",
       "      <th>Misc</th>\n",
       "      <td>107.00</td>\n",
       "      <td>8.840856</td>\n",
       "    </tr>\n",
       "    <tr>\n",
       "      <th>Role-Playing</th>\n",
       "      <td>94.46</td>\n",
       "      <td>7.804741</td>\n",
       "    </tr>\n",
       "  </tbody>\n",
       "</table>\n",
       "</div>"
      ],
      "text/plain": [
       "              eu_sales    ratio %\n",
       "genre                            \n",
       "Action          310.59  25.662445\n",
       "Shooter         208.35  17.214882\n",
       "Sports          185.19  15.301291\n",
       "Misc            107.00   8.840856\n",
       "Role-Playing     94.46   7.804741"
      ]
     },
     "metadata": {},
     "output_type": "display_data"
    }
   ],
   "source": [
    "top_eu = df8.groupby('genre').agg({'eu_sales': 'sum'}).sort_values(by = 'eu_sales',  ascending = False) # создаём рейтинг жанров Европы\n",
    "top_eu['ratio %'] = (top_eu['eu_sales']/top_eu['eu_sales'].sum())*100 # созаём столбцец ratio % доля от всех продаж\n",
    "display(top_eu.head()) # выводим топ-5 на экран"
   ]
  },
  {
   "cell_type": "code",
   "execution_count": 35,
   "metadata": {},
   "outputs": [
    {
     "data": {
      "text/html": [
       "<div>\n",
       "<style scoped>\n",
       "    .dataframe tbody tr th:only-of-type {\n",
       "        vertical-align: middle;\n",
       "    }\n",
       "\n",
       "    .dataframe tbody tr th {\n",
       "        vertical-align: top;\n",
       "    }\n",
       "\n",
       "    .dataframe thead th {\n",
       "        text-align: right;\n",
       "    }\n",
       "</style>\n",
       "<table border=\"1\" class=\"dataframe\">\n",
       "  <thead>\n",
       "    <tr style=\"text-align: right;\">\n",
       "      <th></th>\n",
       "      <th>jp_sales</th>\n",
       "      <th>ratio %</th>\n",
       "    </tr>\n",
       "    <tr>\n",
       "      <th>genre</th>\n",
       "      <th></th>\n",
       "      <th></th>\n",
       "    </tr>\n",
       "  </thead>\n",
       "  <tbody>\n",
       "    <tr>\n",
       "      <th>Role-Playing</th>\n",
       "      <td>138.12</td>\n",
       "      <td>32.325407</td>\n",
       "    </tr>\n",
       "    <tr>\n",
       "      <th>Action</th>\n",
       "      <td>90.16</td>\n",
       "      <td>21.100917</td>\n",
       "    </tr>\n",
       "    <tr>\n",
       "      <th>Misc</th>\n",
       "      <td>37.33</td>\n",
       "      <td>8.736660</td>\n",
       "    </tr>\n",
       "    <tr>\n",
       "      <th>Sports</th>\n",
       "      <td>30.69</td>\n",
       "      <td>7.182644</td>\n",
       "    </tr>\n",
       "    <tr>\n",
       "      <th>Adventure</th>\n",
       "      <td>23.36</td>\n",
       "      <td>5.467141</td>\n",
       "    </tr>\n",
       "  </tbody>\n",
       "</table>\n",
       "</div>"
      ],
      "text/plain": [
       "              jp_sales    ratio %\n",
       "genre                            \n",
       "Role-Playing    138.12  32.325407\n",
       "Action           90.16  21.100917\n",
       "Misc             37.33   8.736660\n",
       "Sports           30.69   7.182644\n",
       "Adventure        23.36   5.467141"
      ]
     },
     "metadata": {},
     "output_type": "display_data"
    }
   ],
   "source": [
    "top_jp = df8.groupby('genre').agg({'jp_sales': 'sum'}).sort_values(by = 'jp_sales',  ascending = False) # создаём рейтинг жанров Японии \n",
    "top_jp['ratio %'] = (top_jp['jp_sales']/top_jp['jp_sales'].sum())*100 # созаём столбцец ratio % доля от всех продаж\n",
    "display(top_jp.head()) # выводим топ-5 на экран"
   ]
  },
  {
   "cell_type": "markdown",
   "metadata": {},
   "source": [
    "**Вывод**"
   ]
  },
  {
   "cell_type": "markdown",
   "metadata": {},
   "source": [
    "Самый популярный жанр в Северной Америке и Европе Action, в Японии Role-Playing. Япония густонаселённая страна с маленькой территорией, японцам хочется побегать по открытому миру Role-Playing игр, Американцы и Европейцы любят пострелять."
   ]
  },
  {
   "cell_type": "markdown",
   "metadata": {},
   "source": [
    "### Влияет ли рейтинг ESRB на продажи в отдельном регионе?"
   ]
  },
  {
   "cell_type": "code",
   "execution_count": 36,
   "metadata": {},
   "outputs": [
    {
     "data": {
      "text/html": [
       "<div>\n",
       "<style scoped>\n",
       "    .dataframe tbody tr th:only-of-type {\n",
       "        vertical-align: middle;\n",
       "    }\n",
       "\n",
       "    .dataframe tbody tr th {\n",
       "        vertical-align: top;\n",
       "    }\n",
       "\n",
       "    .dataframe thead th {\n",
       "        text-align: right;\n",
       "    }\n",
       "</style>\n",
       "<table border=\"1\" class=\"dataframe\">\n",
       "  <thead>\n",
       "    <tr style=\"text-align: right;\">\n",
       "      <th></th>\n",
       "      <th>na_sales</th>\n",
       "    </tr>\n",
       "    <tr>\n",
       "      <th>rating</th>\n",
       "      <th></th>\n",
       "    </tr>\n",
       "  </thead>\n",
       "  <tbody>\n",
       "    <tr>\n",
       "      <th>E</th>\n",
       "      <td>536.93</td>\n",
       "    </tr>\n",
       "    <tr>\n",
       "      <th>M</th>\n",
       "      <td>502.60</td>\n",
       "    </tr>\n",
       "    <tr>\n",
       "      <th>T</th>\n",
       "      <td>303.41</td>\n",
       "    </tr>\n",
       "    <tr>\n",
       "      <th>E10+</th>\n",
       "      <td>251.88</td>\n",
       "    </tr>\n",
       "    <tr>\n",
       "      <th>NA</th>\n",
       "      <td>218.51</td>\n",
       "    </tr>\n",
       "    <tr>\n",
       "      <th>EC</th>\n",
       "      <td>1.32</td>\n",
       "    </tr>\n",
       "    <tr>\n",
       "      <th>RP</th>\n",
       "      <td>0.00</td>\n",
       "    </tr>\n",
       "  </tbody>\n",
       "</table>\n",
       "</div>"
      ],
      "text/plain": [
       "        na_sales\n",
       "rating          \n",
       "E         536.93\n",
       "M         502.60\n",
       "T         303.41\n",
       "E10+      251.88\n",
       "NA        218.51\n",
       "EC          1.32\n",
       "RP          0.00"
      ]
     },
     "execution_count": 36,
     "metadata": {},
     "output_type": "execute_result"
    }
   ],
   "source": [
    "df8.groupby('rating').agg({'na_sales': 'sum'}).sort_values(by = 'na_sales',  ascending = False) # группируем продажи в Северной Америке по рейтингу ESRB "
   ]
  },
  {
   "cell_type": "code",
   "execution_count": 37,
   "metadata": {},
   "outputs": [
    {
     "data": {
      "text/html": [
       "<div>\n",
       "<style scoped>\n",
       "    .dataframe tbody tr th:only-of-type {\n",
       "        vertical-align: middle;\n",
       "    }\n",
       "\n",
       "    .dataframe tbody tr th {\n",
       "        vertical-align: top;\n",
       "    }\n",
       "\n",
       "    .dataframe thead th {\n",
       "        text-align: right;\n",
       "    }\n",
       "</style>\n",
       "<table border=\"1\" class=\"dataframe\">\n",
       "  <thead>\n",
       "    <tr style=\"text-align: right;\">\n",
       "      <th></th>\n",
       "      <th>eu_sales</th>\n",
       "    </tr>\n",
       "    <tr>\n",
       "      <th>rating</th>\n",
       "      <th></th>\n",
       "    </tr>\n",
       "  </thead>\n",
       "  <tbody>\n",
       "    <tr>\n",
       "      <th>M</th>\n",
       "      <td>362.65</td>\n",
       "    </tr>\n",
       "    <tr>\n",
       "      <th>E</th>\n",
       "      <td>326.61</td>\n",
       "    </tr>\n",
       "    <tr>\n",
       "      <th>NA</th>\n",
       "      <td>188.85</td>\n",
       "    </tr>\n",
       "    <tr>\n",
       "      <th>T</th>\n",
       "      <td>187.62</td>\n",
       "    </tr>\n",
       "    <tr>\n",
       "      <th>E10+</th>\n",
       "      <td>144.53</td>\n",
       "    </tr>\n",
       "    <tr>\n",
       "      <th>RP</th>\n",
       "      <td>0.03</td>\n",
       "    </tr>\n",
       "    <tr>\n",
       "      <th>EC</th>\n",
       "      <td>0.00</td>\n",
       "    </tr>\n",
       "  </tbody>\n",
       "</table>\n",
       "</div>"
      ],
      "text/plain": [
       "        eu_sales\n",
       "rating          \n",
       "M         362.65\n",
       "E         326.61\n",
       "NA        188.85\n",
       "T         187.62\n",
       "E10+      144.53\n",
       "RP          0.03\n",
       "EC          0.00"
      ]
     },
     "execution_count": 37,
     "metadata": {},
     "output_type": "execute_result"
    }
   ],
   "source": [
    "df8.groupby('rating').agg({'eu_sales': 'sum'}).sort_values(by = 'eu_sales',  ascending = False) # группируем продажи в Европе по рейтингу ESRB "
   ]
  },
  {
   "cell_type": "code",
   "execution_count": 38,
   "metadata": {},
   "outputs": [
    {
     "data": {
      "text/html": [
       "<div>\n",
       "<style scoped>\n",
       "    .dataframe tbody tr th:only-of-type {\n",
       "        vertical-align: middle;\n",
       "    }\n",
       "\n",
       "    .dataframe tbody tr th {\n",
       "        vertical-align: top;\n",
       "    }\n",
       "\n",
       "    .dataframe thead th {\n",
       "        text-align: right;\n",
       "    }\n",
       "</style>\n",
       "<table border=\"1\" class=\"dataframe\">\n",
       "  <thead>\n",
       "    <tr style=\"text-align: right;\">\n",
       "      <th></th>\n",
       "      <th>jp_sales</th>\n",
       "    </tr>\n",
       "    <tr>\n",
       "      <th>rating</th>\n",
       "      <th></th>\n",
       "    </tr>\n",
       "  </thead>\n",
       "  <tbody>\n",
       "    <tr>\n",
       "      <th>NA</th>\n",
       "      <td>220.60</td>\n",
       "    </tr>\n",
       "    <tr>\n",
       "      <th>E</th>\n",
       "      <td>77.17</td>\n",
       "    </tr>\n",
       "    <tr>\n",
       "      <th>T</th>\n",
       "      <td>64.51</td>\n",
       "    </tr>\n",
       "    <tr>\n",
       "      <th>M</th>\n",
       "      <td>39.33</td>\n",
       "    </tr>\n",
       "    <tr>\n",
       "      <th>E10+</th>\n",
       "      <td>25.67</td>\n",
       "    </tr>\n",
       "    <tr>\n",
       "      <th>EC</th>\n",
       "      <td>0.00</td>\n",
       "    </tr>\n",
       "    <tr>\n",
       "      <th>RP</th>\n",
       "      <td>0.00</td>\n",
       "    </tr>\n",
       "  </tbody>\n",
       "</table>\n",
       "</div>"
      ],
      "text/plain": [
       "        jp_sales\n",
       "rating          \n",
       "NA        220.60\n",
       "E          77.17\n",
       "T          64.51\n",
       "M          39.33\n",
       "E10+       25.67\n",
       "EC          0.00\n",
       "RP          0.00"
      ]
     },
     "execution_count": 38,
     "metadata": {},
     "output_type": "execute_result"
    }
   ],
   "source": [
    "df8.groupby('rating').agg({'jp_sales': 'sum'}).sort_values(by = 'jp_sales',  ascending = False) # группируем продажи в Японии по рейтингу ESRB "
   ]
  },
  {
   "cell_type": "markdown",
   "metadata": {},
   "source": [
    "**Вывод**"
   ]
  },
  {
   "cell_type": "markdown",
   "metadata": {},
   "source": [
    "В Северной Америке и Японии не продают игры без рейтинга ESRB (RP). В Европе и Японии не продают игры для детей младшего возраста (EC)."
   ]
  },
  {
   "cell_type": "markdown",
   "metadata": {},
   "source": [
    "## Шаг 5. Проверка гипотез"
   ]
  },
  {
   "cell_type": "markdown",
   "metadata": {},
   "source": [
    "### Средние пользовательские рейтинги платформ Xbox One и PC одинаковые"
   ]
  },
  {
   "cell_type": "markdown",
   "metadata": {},
   "source": [
    "- Нулевая гипотеза: средние пользовательские рейтинги платформ Xbox One и PC одинаковые.\n",
    "- Альтернативная гипотеза: средние пользовательские рейтинги платформ Xbox One и PC различаются."
   ]
  },
  {
   "cell_type": "code",
   "execution_count": 39,
   "metadata": {},
   "outputs": [
    {
     "name": "stdout",
     "output_type": "stream",
     "text": [
      "p-значение:  nan\n",
      "Не получилось отвергнуть нулевую гипотезу\n"
     ]
    }
   ],
   "source": [
    "alpha = 0.05 # задаём пороговое значение\n",
    "results = st.ttest_ind(df8.query('platform == \"XOne\" & user_score != \"nan\"')['user_score'], df8.query('platform == \"PC\" & user_score != \"nan\"')['user_score']) # проверка гипотезы о равенстве среднего двух генеральных совокупностей по взятым из них выборкам \n",
    "print('p-значение: ', results.pvalue) # вывод на экран значения p-value\n",
    "if results.pvalue < alpha: # сравниваем p-value с пороговым значением\n",
    "    print('Отвергаем нулевую гипотезу') \n",
    "else:\n",
    "    print('Не получилось отвергнуть нулевую гипотезу')"
   ]
  },
  {
   "cell_type": "markdown",
   "metadata": {},
   "source": [
    "**Вывод**"
   ]
  },
  {
   "cell_type": "markdown",
   "metadata": {},
   "source": [
    "Не получилось отвергнуть нулевую гипотезу, делаем вывод, что средние пользовательские рейтинги платформ Xbox One и PC одинаковые."
   ]
  },
  {
   "cell_type": "markdown",
   "metadata": {},
   "source": [
    "### Средние пользовательские рейтинги жанров Action (англ. «действие», экшен-игры) и Sports (англ. «спортивные соревнования») разные."
   ]
  },
  {
   "cell_type": "markdown",
   "metadata": {},
   "source": [
    "- Нулевая гипотеза: средние пользовательские рейтинги жанров Action и Sports одинаковые.\n",
    "- Альтернативная гипотеза: средние пользовательские рейтинги жанров Action и Sports различаются."
   ]
  },
  {
   "cell_type": "code",
   "execution_count": 40,
   "metadata": {},
   "outputs": [
    {
     "name": "stdout",
     "output_type": "stream",
     "text": [
      "p-значение:  nan\n",
      "Не получилось отвергнуть нулевую гипотезу\n"
     ]
    }
   ],
   "source": [
    "alpha = 0.05 # задаём пороговое значение\n",
    "results = st.ttest_ind(df8.query('genre == \"Action\" & user_score != \"nan\"')['user_score'], df8.query('genre == \"Sports\" & user_score != \"nan\"')['user_score']) # проверка гипотезы о равенстве среднего двух генеральных совокупностей по взятым из них выборкам \n",
    "print('p-значение: ', results.pvalue) # вывод на экран значения p-value\n",
    "if results.pvalue < alpha: # сравниваем p-value с пороговым значением\n",
    "    print('Отвергаем нулевую гипотезу') \n",
    "else:\n",
    "    print('Не получилось отвергнуть нулевую гипотезу')"
   ]
  },
  {
   "cell_type": "markdown",
   "metadata": {},
   "source": [
    "**Вывод**"
   ]
  },
  {
   "cell_type": "markdown",
   "metadata": {},
   "source": [
    "Мы отвергли нулевую гипотезу, делаем вывод, что средние пользовательские рейтинги жанров Action и Sports различаются."
   ]
  },
  {
   "cell_type": "markdown",
   "metadata": {},
   "source": [
    "## Шаг 6. Общий вывод"
   ]
  },
  {
   "cell_type": "markdown",
   "metadata": {},
   "source": [
    "Потенциально популярные игры будут в жанрах Action, Shooter, Sports на платформах PS4 и XOne, рекламные компании нужно запускать на эти игры. "
   ]
  }
 ],
 "metadata": {
  "ExecuteTimeLog": [
   {
    "duration": 590,
    "start_time": "2021-12-27T08:44:25.119Z"
   },
   {
    "duration": 41,
    "start_time": "2021-12-27T08:45:53.426Z"
   },
   {
    "duration": 18,
    "start_time": "2021-12-27T08:46:16.102Z"
   },
   {
    "duration": 12,
    "start_time": "2021-12-27T08:46:56.424Z"
   },
   {
    "duration": 15,
    "start_time": "2021-12-27T08:47:15.206Z"
   },
   {
    "duration": 324,
    "start_time": "2021-12-27T08:49:53.786Z"
   },
   {
    "duration": 31,
    "start_time": "2021-12-27T08:50:00.782Z"
   },
   {
    "duration": 20,
    "start_time": "2021-12-27T09:00:58.592Z"
   },
   {
    "duration": 7,
    "start_time": "2021-12-27T09:09:06.535Z"
   },
   {
    "duration": 13,
    "start_time": "2021-12-27T09:11:51.092Z"
   },
   {
    "duration": 20,
    "start_time": "2021-12-27T09:13:07.335Z"
   },
   {
    "duration": 7,
    "start_time": "2021-12-27T09:16:21.647Z"
   },
   {
    "duration": 323,
    "start_time": "2021-12-27T09:17:03.505Z"
   },
   {
    "duration": 7,
    "start_time": "2021-12-27T09:17:25.769Z"
   },
   {
    "duration": 33,
    "start_time": "2021-12-27T09:19:09.637Z"
   },
   {
    "duration": 6,
    "start_time": "2021-12-27T09:27:25.800Z"
   },
   {
    "duration": 302,
    "start_time": "2021-12-27T09:38:16.833Z"
   },
   {
    "duration": 337,
    "start_time": "2021-12-27T09:38:35.956Z"
   },
   {
    "duration": 14,
    "start_time": "2021-12-27T09:38:48.474Z"
   },
   {
    "duration": 5,
    "start_time": "2021-12-27T09:50:11.668Z"
   },
   {
    "duration": 6,
    "start_time": "2021-12-27T09:58:22.161Z"
   },
   {
    "duration": 10,
    "start_time": "2021-12-27T10:10:20.371Z"
   },
   {
    "duration": 12,
    "start_time": "2021-12-27T10:23:55.121Z"
   },
   {
    "duration": 19,
    "start_time": "2021-12-27T10:27:06.214Z"
   },
   {
    "duration": 23,
    "start_time": "2021-12-27T10:32:09.299Z"
   },
   {
    "duration": 20,
    "start_time": "2021-12-27T10:32:58.891Z"
   },
   {
    "duration": 6,
    "start_time": "2021-12-27T10:33:21.294Z"
   },
   {
    "duration": 9,
    "start_time": "2021-12-27T10:33:33.548Z"
   },
   {
    "duration": 9,
    "start_time": "2021-12-27T10:33:49.305Z"
   },
   {
    "duration": 280,
    "start_time": "2021-12-27T10:35:04.839Z"
   },
   {
    "duration": 23,
    "start_time": "2021-12-27T10:35:31.531Z"
   },
   {
    "duration": 15,
    "start_time": "2021-12-27T10:37:00.275Z"
   },
   {
    "duration": 18,
    "start_time": "2021-12-27T10:41:05.187Z"
   },
   {
    "duration": 16,
    "start_time": "2021-12-27T10:48:27.826Z"
   },
   {
    "duration": 3,
    "start_time": "2021-12-27T11:36:14.465Z"
   },
   {
    "duration": 278,
    "start_time": "2021-12-27T11:36:34.974Z"
   },
   {
    "duration": 4,
    "start_time": "2021-12-27T11:36:39.757Z"
   },
   {
    "duration": 599,
    "start_time": "2021-12-27T11:37:18.822Z"
   },
   {
    "duration": 41,
    "start_time": "2021-12-27T11:37:19.423Z"
   },
   {
    "duration": 10,
    "start_time": "2021-12-27T11:37:19.466Z"
   },
   {
    "duration": 29,
    "start_time": "2021-12-27T11:37:19.478Z"
   },
   {
    "duration": 46,
    "start_time": "2021-12-27T11:37:19.508Z"
   },
   {
    "duration": 34,
    "start_time": "2021-12-27T11:37:19.555Z"
   },
   {
    "duration": 17,
    "start_time": "2021-12-27T11:37:19.591Z"
   },
   {
    "duration": 39,
    "start_time": "2021-12-27T11:37:19.610Z"
   },
   {
    "duration": 20,
    "start_time": "2021-12-27T11:37:19.651Z"
   },
   {
    "duration": 24,
    "start_time": "2021-12-27T11:37:19.673Z"
   },
   {
    "duration": 15,
    "start_time": "2021-12-27T11:37:19.699Z"
   },
   {
    "duration": 14,
    "start_time": "2021-12-27T11:37:19.716Z"
   },
   {
    "duration": 9,
    "start_time": "2021-12-27T11:37:19.732Z"
   },
   {
    "duration": 24,
    "start_time": "2021-12-27T11:37:19.743Z"
   },
   {
    "duration": 28,
    "start_time": "2021-12-27T11:37:19.769Z"
   },
   {
    "duration": 5,
    "start_time": "2021-12-27T11:37:52.947Z"
   },
   {
    "duration": 581,
    "start_time": "2021-12-27T11:38:52.489Z"
   },
   {
    "duration": 44,
    "start_time": "2021-12-27T11:38:53.072Z"
   },
   {
    "duration": 13,
    "start_time": "2021-12-27T11:38:53.121Z"
   },
   {
    "duration": 25,
    "start_time": "2021-12-27T11:38:53.136Z"
   },
   {
    "duration": 47,
    "start_time": "2021-12-27T11:38:53.163Z"
   },
   {
    "duration": 35,
    "start_time": "2021-12-27T11:38:53.212Z"
   },
   {
    "duration": 19,
    "start_time": "2021-12-27T11:38:53.249Z"
   },
   {
    "duration": 32,
    "start_time": "2021-12-27T11:38:53.270Z"
   },
   {
    "duration": 20,
    "start_time": "2021-12-27T11:38:53.304Z"
   },
   {
    "duration": 28,
    "start_time": "2021-12-27T11:38:53.325Z"
   },
   {
    "duration": 30,
    "start_time": "2021-12-27T11:38:53.355Z"
   },
   {
    "duration": 27,
    "start_time": "2021-12-27T11:38:53.386Z"
   },
   {
    "duration": 22,
    "start_time": "2021-12-27T11:38:53.415Z"
   },
   {
    "duration": 37,
    "start_time": "2021-12-27T11:38:53.439Z"
   },
   {
    "duration": 22,
    "start_time": "2021-12-27T11:38:53.478Z"
   },
   {
    "duration": 3,
    "start_time": "2021-12-27T11:40:12.385Z"
   },
   {
    "duration": 11,
    "start_time": "2021-12-27T11:49:24.796Z"
   },
   {
    "duration": 946,
    "start_time": "2021-12-27T12:07:29.942Z"
   },
   {
    "duration": 579,
    "start_time": "2021-12-27T12:07:58.803Z"
   },
   {
    "duration": 41,
    "start_time": "2021-12-27T12:07:59.384Z"
   },
   {
    "duration": 10,
    "start_time": "2021-12-27T12:07:59.428Z"
   },
   {
    "duration": 29,
    "start_time": "2021-12-27T12:07:59.440Z"
   },
   {
    "duration": 29,
    "start_time": "2021-12-27T12:07:59.470Z"
   },
   {
    "duration": 35,
    "start_time": "2021-12-27T12:07:59.501Z"
   },
   {
    "duration": 37,
    "start_time": "2021-12-27T12:07:59.537Z"
   },
   {
    "duration": 21,
    "start_time": "2021-12-27T12:07:59.576Z"
   },
   {
    "duration": 14,
    "start_time": "2021-12-27T12:07:59.599Z"
   },
   {
    "duration": 14,
    "start_time": "2021-12-27T12:07:59.615Z"
   },
   {
    "duration": 40,
    "start_time": "2021-12-27T12:07:59.631Z"
   },
   {
    "duration": 6,
    "start_time": "2021-12-27T12:07:59.673Z"
   },
   {
    "duration": 6,
    "start_time": "2021-12-27T12:07:59.681Z"
   },
   {
    "duration": 13,
    "start_time": "2021-12-27T12:07:59.689Z"
   },
   {
    "duration": 5,
    "start_time": "2021-12-27T12:07:59.704Z"
   },
   {
    "duration": 14,
    "start_time": "2021-12-27T12:07:59.711Z"
   },
   {
    "duration": 1040,
    "start_time": "2021-12-27T12:07:59.727Z"
   },
   {
    "duration": 5,
    "start_time": "2021-12-27T12:12:26.325Z"
   },
   {
    "duration": 464,
    "start_time": "2021-12-27T12:18:12.609Z"
   },
   {
    "duration": 786,
    "start_time": "2021-12-27T12:18:55.684Z"
   },
   {
    "duration": 40,
    "start_time": "2021-12-27T12:18:56.472Z"
   },
   {
    "duration": 11,
    "start_time": "2021-12-27T12:18:56.517Z"
   },
   {
    "duration": 31,
    "start_time": "2021-12-27T12:18:56.531Z"
   },
   {
    "duration": 30,
    "start_time": "2021-12-27T12:18:56.564Z"
   },
   {
    "duration": 38,
    "start_time": "2021-12-27T12:18:56.596Z"
   },
   {
    "duration": 46,
    "start_time": "2021-12-27T12:18:56.637Z"
   },
   {
    "duration": 22,
    "start_time": "2021-12-27T12:18:56.685Z"
   },
   {
    "duration": 20,
    "start_time": "2021-12-27T12:18:56.709Z"
   },
   {
    "duration": 37,
    "start_time": "2021-12-27T12:18:56.731Z"
   },
   {
    "duration": 14,
    "start_time": "2021-12-27T12:18:56.769Z"
   },
   {
    "duration": 8,
    "start_time": "2021-12-27T12:18:56.785Z"
   },
   {
    "duration": 8,
    "start_time": "2021-12-27T12:18:56.794Z"
   },
   {
    "duration": 9,
    "start_time": "2021-12-27T12:18:56.803Z"
   },
   {
    "duration": 4,
    "start_time": "2021-12-27T12:18:56.814Z"
   },
   {
    "duration": 15,
    "start_time": "2021-12-27T12:18:56.861Z"
   },
   {
    "duration": 8,
    "start_time": "2021-12-27T12:18:56.879Z"
   },
   {
    "duration": 440,
    "start_time": "2021-12-27T12:18:56.889Z"
   },
   {
    "duration": 97,
    "start_time": "2021-12-27T12:19:21.617Z"
   },
   {
    "duration": 633,
    "start_time": "2021-12-27T12:19:27.577Z"
   },
   {
    "duration": 451,
    "start_time": "2021-12-27T12:19:42.461Z"
   },
   {
    "duration": 390,
    "start_time": "2021-12-27T12:19:57.674Z"
   },
   {
    "duration": 293,
    "start_time": "2021-12-27T12:22:32.289Z"
   },
   {
    "duration": 315,
    "start_time": "2021-12-27T12:40:00.499Z"
   },
   {
    "duration": 369,
    "start_time": "2021-12-27T12:40:16.363Z"
   },
   {
    "duration": 296,
    "start_time": "2021-12-27T12:40:25.943Z"
   },
   {
    "duration": 1161,
    "start_time": "2021-12-27T12:43:59.488Z"
   },
   {
    "duration": 40,
    "start_time": "2021-12-27T12:44:00.651Z"
   },
   {
    "duration": 11,
    "start_time": "2021-12-27T12:44:00.693Z"
   },
   {
    "duration": 38,
    "start_time": "2021-12-27T12:44:00.706Z"
   },
   {
    "duration": 33,
    "start_time": "2021-12-27T12:44:00.746Z"
   },
   {
    "duration": 37,
    "start_time": "2021-12-27T12:44:00.780Z"
   },
   {
    "duration": 15,
    "start_time": "2021-12-27T12:44:00.819Z"
   },
   {
    "duration": 48,
    "start_time": "2021-12-27T12:44:00.836Z"
   },
   {
    "duration": 15,
    "start_time": "2021-12-27T12:44:00.886Z"
   },
   {
    "duration": 16,
    "start_time": "2021-12-27T12:44:00.903Z"
   },
   {
    "duration": 40,
    "start_time": "2021-12-27T12:44:00.921Z"
   },
   {
    "duration": 5,
    "start_time": "2021-12-27T12:44:00.963Z"
   },
   {
    "duration": 15,
    "start_time": "2021-12-27T12:44:00.970Z"
   },
   {
    "duration": 8,
    "start_time": "2021-12-27T12:44:00.987Z"
   },
   {
    "duration": 9,
    "start_time": "2021-12-27T12:44:00.997Z"
   },
   {
    "duration": 17,
    "start_time": "2021-12-27T12:44:01.008Z"
   },
   {
    "duration": 16,
    "start_time": "2021-12-27T12:44:01.027Z"
   },
   {
    "duration": 330,
    "start_time": "2021-12-27T12:44:01.046Z"
   },
   {
    "duration": 501,
    "start_time": "2021-12-27T12:51:19.067Z"
   },
   {
    "duration": 296,
    "start_time": "2021-12-27T12:53:01.964Z"
   },
   {
    "duration": 1838,
    "start_time": "2021-12-27T12:53:22.209Z"
   },
   {
    "duration": 289,
    "start_time": "2021-12-27T12:53:41.147Z"
   },
   {
    "duration": 148,
    "start_time": "2021-12-27T13:00:20.251Z"
   },
   {
    "duration": 141,
    "start_time": "2021-12-27T13:00:49.651Z"
   },
   {
    "duration": 332,
    "start_time": "2021-12-27T13:03:33.807Z"
   },
   {
    "duration": 736,
    "start_time": "2021-12-27T13:43:41.638Z"
   },
   {
    "duration": 275,
    "start_time": "2021-12-27T13:44:18.522Z"
   },
   {
    "duration": 269,
    "start_time": "2021-12-27T13:44:27.026Z"
   },
   {
    "duration": 243,
    "start_time": "2021-12-27T13:44:37.226Z"
   },
   {
    "duration": 238,
    "start_time": "2021-12-27T13:51:25.376Z"
   },
   {
    "duration": 1125,
    "start_time": "2021-12-27T14:22:33.312Z"
   },
   {
    "duration": 38,
    "start_time": "2021-12-27T14:22:34.439Z"
   },
   {
    "duration": 10,
    "start_time": "2021-12-27T14:22:34.479Z"
   },
   {
    "duration": 16,
    "start_time": "2021-12-27T14:22:34.491Z"
   },
   {
    "duration": 31,
    "start_time": "2021-12-27T14:22:34.509Z"
   },
   {
    "duration": 52,
    "start_time": "2021-12-27T14:22:34.541Z"
   },
   {
    "duration": 15,
    "start_time": "2021-12-27T14:22:34.595Z"
   },
   {
    "duration": 20,
    "start_time": "2021-12-27T14:22:34.612Z"
   },
   {
    "duration": 46,
    "start_time": "2021-12-27T14:22:34.634Z"
   },
   {
    "duration": 17,
    "start_time": "2021-12-27T14:22:34.681Z"
   },
   {
    "duration": 12,
    "start_time": "2021-12-27T14:22:34.700Z"
   },
   {
    "duration": 10,
    "start_time": "2021-12-27T14:22:34.713Z"
   },
   {
    "duration": 7,
    "start_time": "2021-12-27T14:22:34.725Z"
   },
   {
    "duration": 30,
    "start_time": "2021-12-27T14:22:34.734Z"
   },
   {
    "duration": 7,
    "start_time": "2021-12-27T14:22:34.766Z"
   },
   {
    "duration": 20,
    "start_time": "2021-12-27T14:22:34.775Z"
   },
   {
    "duration": 6,
    "start_time": "2021-12-27T14:22:34.797Z"
   },
   {
    "duration": 399,
    "start_time": "2021-12-27T14:22:34.805Z"
   },
   {
    "duration": 230,
    "start_time": "2021-12-27T14:22:35.205Z"
   },
   {
    "duration": 363,
    "start_time": "2021-12-27T14:49:06.303Z"
   },
   {
    "duration": 306,
    "start_time": "2021-12-27T14:49:51.399Z"
   },
   {
    "duration": 346,
    "start_time": "2021-12-27T14:50:35.830Z"
   },
   {
    "duration": 10,
    "start_time": "2021-12-27T15:23:30.261Z"
   },
   {
    "duration": 561,
    "start_time": "2021-12-27T17:19:24.833Z"
   },
   {
    "duration": 601,
    "start_time": "2021-12-27T17:40:49.089Z"
   },
   {
    "duration": 11,
    "start_time": "2021-12-27T17:41:59.023Z"
   },
   {
    "duration": 301,
    "start_time": "2021-12-27T18:16:32.344Z"
   },
   {
    "duration": 7,
    "start_time": "2021-12-27T18:17:08.451Z"
   },
   {
    "duration": 15,
    "start_time": "2021-12-27T18:19:35.120Z"
   },
   {
    "duration": 14,
    "start_time": "2021-12-27T18:24:07.387Z"
   },
   {
    "duration": 14,
    "start_time": "2021-12-27T18:24:21.670Z"
   },
   {
    "duration": 421,
    "start_time": "2021-12-27T18:28:04.019Z"
   },
   {
    "duration": 618,
    "start_time": "2021-12-27T18:30:13.727Z"
   },
   {
    "duration": 1456,
    "start_time": "2021-12-27T18:30:55.142Z"
   },
   {
    "duration": 15,
    "start_time": "2021-12-27T18:31:47.143Z"
   },
   {
    "duration": 2460,
    "start_time": "2021-12-27T18:32:55.919Z"
   },
   {
    "duration": 3656,
    "start_time": "2021-12-27T18:39:32.754Z"
   },
   {
    "duration": 342,
    "start_time": "2021-12-27T18:39:42.232Z"
   },
   {
    "duration": 452,
    "start_time": "2021-12-27T19:22:28.211Z"
   },
   {
    "duration": 559,
    "start_time": "2021-12-27T19:23:27.846Z"
   },
   {
    "duration": 476,
    "start_time": "2021-12-27T19:23:41.415Z"
   },
   {
    "duration": 700,
    "start_time": "2021-12-27T19:25:04.522Z"
   },
   {
    "duration": 415,
    "start_time": "2021-12-27T19:25:28.033Z"
   },
   {
    "duration": 700,
    "start_time": "2021-12-27T19:25:58.426Z"
   },
   {
    "duration": 489,
    "start_time": "2021-12-27T19:26:13.312Z"
   },
   {
    "duration": 529,
    "start_time": "2021-12-27T19:26:52.610Z"
   },
   {
    "duration": 434,
    "start_time": "2021-12-27T19:27:53.930Z"
   },
   {
    "duration": 490,
    "start_time": "2021-12-27T19:30:10.907Z"
   },
   {
    "duration": 443,
    "start_time": "2021-12-27T19:30:18.526Z"
   },
   {
    "duration": 252,
    "start_time": "2021-12-27T19:31:43.842Z"
   },
   {
    "duration": 316,
    "start_time": "2021-12-27T19:32:09.786Z"
   },
   {
    "duration": 10,
    "start_time": "2021-12-27T19:36:17.625Z"
   },
   {
    "duration": 23,
    "start_time": "2021-12-27T19:38:04.929Z"
   },
   {
    "duration": 14,
    "start_time": "2021-12-27T19:39:13.755Z"
   },
   {
    "duration": 13,
    "start_time": "2021-12-27T19:39:24.585Z"
   },
   {
    "duration": 15,
    "start_time": "2021-12-27T19:39:37.184Z"
   },
   {
    "duration": 16,
    "start_time": "2021-12-27T19:39:45.249Z"
   },
   {
    "duration": 13,
    "start_time": "2021-12-27T19:40:15.381Z"
   },
   {
    "duration": 57,
    "start_time": "2021-12-27T19:41:33.926Z"
   },
   {
    "duration": 98,
    "start_time": "2021-12-27T19:43:08.875Z"
   },
   {
    "duration": 96,
    "start_time": "2021-12-27T19:43:57.105Z"
   },
   {
    "duration": 115,
    "start_time": "2021-12-27T19:45:30.501Z"
   },
   {
    "duration": 62,
    "start_time": "2021-12-27T19:46:37.264Z"
   },
   {
    "duration": 305,
    "start_time": "2021-12-27T19:47:24.500Z"
   },
   {
    "duration": 55,
    "start_time": "2021-12-27T19:47:45.712Z"
   },
   {
    "duration": 59,
    "start_time": "2021-12-27T19:48:31.864Z"
   },
   {
    "duration": 60,
    "start_time": "2021-12-27T19:50:05.744Z"
   },
   {
    "duration": 67,
    "start_time": "2021-12-27T19:50:56.312Z"
   },
   {
    "duration": 3,
    "start_time": "2021-12-27T19:51:37.812Z"
   },
   {
    "duration": 69,
    "start_time": "2021-12-27T19:53:39.863Z"
   },
   {
    "duration": 63,
    "start_time": "2021-12-27T19:55:16.155Z"
   },
   {
    "duration": 56,
    "start_time": "2021-12-27T19:58:07.588Z"
   },
   {
    "duration": 254,
    "start_time": "2021-12-27T19:58:41.855Z"
   },
   {
    "duration": 61,
    "start_time": "2021-12-27T19:58:53.246Z"
   },
   {
    "duration": 67,
    "start_time": "2021-12-27T19:59:13.231Z"
   },
   {
    "duration": 81,
    "start_time": "2021-12-27T20:00:19.759Z"
   },
   {
    "duration": 61,
    "start_time": "2021-12-27T20:00:26.211Z"
   },
   {
    "duration": 60,
    "start_time": "2021-12-27T20:00:40.137Z"
   },
   {
    "duration": 65,
    "start_time": "2021-12-27T20:04:55.594Z"
   },
   {
    "duration": 276,
    "start_time": "2021-12-27T20:05:28.468Z"
   },
   {
    "duration": 294,
    "start_time": "2021-12-27T20:06:10.718Z"
   },
   {
    "duration": 261,
    "start_time": "2021-12-27T20:07:12.131Z"
   },
   {
    "duration": 60,
    "start_time": "2021-12-27T20:07:41.714Z"
   },
   {
    "duration": 65,
    "start_time": "2021-12-27T20:09:35.925Z"
   },
   {
    "duration": 63,
    "start_time": "2021-12-27T20:10:05.250Z"
   },
   {
    "duration": 43,
    "start_time": "2021-12-27T20:12:07.434Z"
   },
   {
    "duration": 77,
    "start_time": "2021-12-27T20:12:45.534Z"
   },
   {
    "duration": 33,
    "start_time": "2021-12-27T20:13:03.540Z"
   },
   {
    "duration": 37,
    "start_time": "2021-12-27T20:13:28.417Z"
   },
   {
    "duration": 29,
    "start_time": "2021-12-27T20:13:46.186Z"
   },
   {
    "duration": 29,
    "start_time": "2021-12-27T20:14:56.806Z"
   },
   {
    "duration": 45,
    "start_time": "2021-12-27T20:16:42.538Z"
   },
   {
    "duration": 66,
    "start_time": "2021-12-27T20:20:35.025Z"
   },
   {
    "duration": 61,
    "start_time": "2021-12-27T20:20:51.485Z"
   },
   {
    "duration": 62,
    "start_time": "2021-12-27T20:21:00.461Z"
   },
   {
    "duration": 10,
    "start_time": "2021-12-27T20:24:34.189Z"
   },
   {
    "duration": 11,
    "start_time": "2021-12-27T20:24:41.184Z"
   },
   {
    "duration": 643,
    "start_time": "2021-12-27T20:26:40.081Z"
   },
   {
    "duration": 49,
    "start_time": "2021-12-27T20:26:40.726Z"
   },
   {
    "duration": 12,
    "start_time": "2021-12-27T20:26:40.778Z"
   },
   {
    "duration": 20,
    "start_time": "2021-12-27T20:26:40.792Z"
   },
   {
    "duration": 29,
    "start_time": "2021-12-27T20:26:40.814Z"
   },
   {
    "duration": 46,
    "start_time": "2021-12-27T20:26:40.845Z"
   },
   {
    "duration": 15,
    "start_time": "2021-12-27T20:26:40.893Z"
   },
   {
    "duration": 20,
    "start_time": "2021-12-27T20:26:40.911Z"
   },
   {
    "duration": 42,
    "start_time": "2021-12-27T20:26:40.933Z"
   },
   {
    "duration": 16,
    "start_time": "2021-12-27T20:26:40.977Z"
   },
   {
    "duration": 12,
    "start_time": "2021-12-27T20:26:40.995Z"
   },
   {
    "duration": 7,
    "start_time": "2021-12-27T20:26:41.009Z"
   },
   {
    "duration": 5,
    "start_time": "2021-12-27T20:26:41.018Z"
   },
   {
    "duration": 37,
    "start_time": "2021-12-27T20:26:41.025Z"
   },
   {
    "duration": 4,
    "start_time": "2021-12-27T20:26:41.064Z"
   },
   {
    "duration": 14,
    "start_time": "2021-12-27T20:26:41.070Z"
   },
   {
    "duration": 6,
    "start_time": "2021-12-27T20:26:41.086Z"
   },
   {
    "duration": 7,
    "start_time": "2021-12-27T20:26:41.093Z"
   },
   {
    "duration": 307,
    "start_time": "2021-12-27T20:26:41.101Z"
   },
   {
    "duration": 218,
    "start_time": "2021-12-27T20:26:41.410Z"
   },
   {
    "duration": 521,
    "start_time": "2021-12-27T20:26:41.630Z"
   },
   {
    "duration": 7,
    "start_time": "2021-12-27T20:26:42.160Z"
   },
   {
    "duration": 13,
    "start_time": "2021-12-27T20:26:42.171Z"
   },
   {
    "duration": 447,
    "start_time": "2021-12-27T20:26:42.186Z"
   },
   {
    "duration": 66,
    "start_time": "2021-12-27T20:26:42.635Z"
   },
   {
    "duration": 10,
    "start_time": "2021-12-27T20:29:25.562Z"
   },
   {
    "duration": 335,
    "start_time": "2021-12-27T20:39:25.649Z"
   },
   {
    "duration": 7,
    "start_time": "2021-12-27T20:39:31.501Z"
   },
   {
    "duration": 319,
    "start_time": "2021-12-27T20:39:38.369Z"
   },
   {
    "duration": 320,
    "start_time": "2021-12-27T20:40:09.565Z"
   },
   {
    "duration": 53,
    "start_time": "2021-12-27T20:42:28.160Z"
   },
   {
    "duration": 29,
    "start_time": "2021-12-27T20:43:22.369Z"
   },
   {
    "duration": 32,
    "start_time": "2021-12-27T20:43:56.277Z"
   },
   {
    "duration": 84,
    "start_time": "2021-12-27T20:45:05.169Z"
   },
   {
    "duration": 32,
    "start_time": "2021-12-27T20:45:12.054Z"
   },
   {
    "duration": 6,
    "start_time": "2021-12-27T20:55:08.091Z"
   },
   {
    "duration": 8,
    "start_time": "2021-12-27T20:56:09.344Z"
   },
   {
    "duration": 26,
    "start_time": "2021-12-27T20:56:31.124Z"
   },
   {
    "duration": 8,
    "start_time": "2021-12-27T20:56:53.899Z"
   },
   {
    "duration": 626,
    "start_time": "2021-12-27T20:57:09.510Z"
   },
   {
    "duration": 38,
    "start_time": "2021-12-27T20:57:10.138Z"
   },
   {
    "duration": 11,
    "start_time": "2021-12-27T20:57:10.178Z"
   },
   {
    "duration": 17,
    "start_time": "2021-12-27T20:57:10.191Z"
   },
   {
    "duration": 29,
    "start_time": "2021-12-27T20:57:10.209Z"
   },
   {
    "duration": 51,
    "start_time": "2021-12-27T20:57:10.240Z"
   },
   {
    "duration": 15,
    "start_time": "2021-12-27T20:57:10.293Z"
   },
   {
    "duration": 22,
    "start_time": "2021-12-27T20:57:10.309Z"
   },
   {
    "duration": 41,
    "start_time": "2021-12-27T20:57:10.334Z"
   },
   {
    "duration": 14,
    "start_time": "2021-12-27T20:57:10.377Z"
   },
   {
    "duration": 15,
    "start_time": "2021-12-27T20:57:10.393Z"
   },
   {
    "duration": 22,
    "start_time": "2021-12-27T20:57:10.410Z"
   },
   {
    "duration": 21,
    "start_time": "2021-12-27T20:57:10.433Z"
   },
   {
    "duration": 21,
    "start_time": "2021-12-27T20:57:10.456Z"
   },
   {
    "duration": 20,
    "start_time": "2021-12-27T20:57:10.478Z"
   },
   {
    "duration": 30,
    "start_time": "2021-12-27T20:57:10.499Z"
   },
   {
    "duration": 8,
    "start_time": "2021-12-27T20:57:10.530Z"
   },
   {
    "duration": 21,
    "start_time": "2021-12-27T20:57:10.540Z"
   },
   {
    "duration": 284,
    "start_time": "2021-12-27T20:57:10.563Z"
   },
   {
    "duration": 216,
    "start_time": "2021-12-27T20:57:10.849Z"
   },
   {
    "duration": 454,
    "start_time": "2021-12-27T20:57:11.068Z"
   },
   {
    "duration": 7,
    "start_time": "2021-12-27T20:57:11.524Z"
   },
   {
    "duration": 8,
    "start_time": "2021-12-27T20:57:11.532Z"
   },
   {
    "duration": 431,
    "start_time": "2021-12-27T20:57:11.541Z"
   },
   {
    "duration": 30,
    "start_time": "2021-12-27T20:57:11.975Z"
   },
   {
    "duration": 6,
    "start_time": "2021-12-27T20:57:12.007Z"
   },
   {
    "duration": 677,
    "start_time": "2021-12-27T20:57:52.548Z"
   },
   {
    "duration": 36,
    "start_time": "2021-12-27T20:57:53.227Z"
   },
   {
    "duration": 10,
    "start_time": "2021-12-27T20:57:53.265Z"
   },
   {
    "duration": 15,
    "start_time": "2021-12-27T20:57:53.277Z"
   },
   {
    "duration": 29,
    "start_time": "2021-12-27T20:57:53.293Z"
   },
   {
    "duration": 57,
    "start_time": "2021-12-27T20:57:53.324Z"
   },
   {
    "duration": 17,
    "start_time": "2021-12-27T20:57:53.382Z"
   },
   {
    "duration": 21,
    "start_time": "2021-12-27T20:57:53.402Z"
   },
   {
    "duration": 41,
    "start_time": "2021-12-27T20:57:53.426Z"
   },
   {
    "duration": 16,
    "start_time": "2021-12-27T20:57:53.469Z"
   },
   {
    "duration": 13,
    "start_time": "2021-12-27T20:57:53.487Z"
   },
   {
    "duration": 6,
    "start_time": "2021-12-27T20:57:53.501Z"
   },
   {
    "duration": 6,
    "start_time": "2021-12-27T20:57:53.509Z"
   },
   {
    "duration": 6,
    "start_time": "2021-12-27T20:57:53.516Z"
   },
   {
    "duration": 37,
    "start_time": "2021-12-27T20:57:53.524Z"
   },
   {
    "duration": 13,
    "start_time": "2021-12-27T20:57:53.563Z"
   },
   {
    "duration": 5,
    "start_time": "2021-12-27T20:57:53.578Z"
   },
   {
    "duration": 5,
    "start_time": "2021-12-27T20:57:53.585Z"
   },
   {
    "duration": 306,
    "start_time": "2021-12-27T20:57:53.592Z"
   },
   {
    "duration": 218,
    "start_time": "2021-12-27T20:57:53.900Z"
   },
   {
    "duration": 450,
    "start_time": "2021-12-27T20:57:54.120Z"
   },
   {
    "duration": 7,
    "start_time": "2021-12-27T20:57:54.572Z"
   },
   {
    "duration": 9,
    "start_time": "2021-12-27T20:57:54.582Z"
   },
   {
    "duration": 320,
    "start_time": "2021-12-27T20:57:54.592Z"
   },
   {
    "duration": 30,
    "start_time": "2021-12-27T20:57:54.914Z"
   },
   {
    "duration": 344,
    "start_time": "2021-12-27T20:57:54.960Z"
   },
   {
    "duration": 109,
    "start_time": "2021-12-27T20:57:55.197Z"
   },
   {
    "duration": 7,
    "start_time": "2021-12-27T20:58:32.626Z"
   },
   {
    "duration": 302,
    "start_time": "2021-12-27T20:58:35.152Z"
   },
   {
    "duration": 9,
    "start_time": "2021-12-27T20:59:01.496Z"
   },
   {
    "duration": 254,
    "start_time": "2021-12-27T20:59:04.644Z"
   },
   {
    "duration": 8,
    "start_time": "2021-12-27T20:59:38.707Z"
   },
   {
    "duration": 217,
    "start_time": "2021-12-27T20:59:40.496Z"
   },
   {
    "duration": 657,
    "start_time": "2021-12-27T21:11:37.391Z"
   },
   {
    "duration": 38,
    "start_time": "2021-12-27T21:11:38.050Z"
   },
   {
    "duration": 10,
    "start_time": "2021-12-27T21:11:38.091Z"
   },
   {
    "duration": 17,
    "start_time": "2021-12-27T21:11:38.103Z"
   },
   {
    "duration": 50,
    "start_time": "2021-12-27T21:11:38.121Z"
   },
   {
    "duration": 35,
    "start_time": "2021-12-27T21:11:38.173Z"
   },
   {
    "duration": 16,
    "start_time": "2021-12-27T21:11:38.209Z"
   },
   {
    "duration": 42,
    "start_time": "2021-12-27T21:11:38.227Z"
   },
   {
    "duration": 16,
    "start_time": "2021-12-27T21:11:38.272Z"
   },
   {
    "duration": 16,
    "start_time": "2021-12-27T21:11:38.291Z"
   },
   {
    "duration": 13,
    "start_time": "2021-12-27T21:11:38.309Z"
   },
   {
    "duration": 37,
    "start_time": "2021-12-27T21:11:38.324Z"
   },
   {
    "duration": 5,
    "start_time": "2021-12-27T21:11:38.363Z"
   },
   {
    "duration": 12,
    "start_time": "2021-12-27T21:11:38.370Z"
   },
   {
    "duration": 5,
    "start_time": "2021-12-27T21:11:38.384Z"
   },
   {
    "duration": 15,
    "start_time": "2021-12-27T21:11:38.391Z"
   },
   {
    "duration": 6,
    "start_time": "2021-12-27T21:11:38.408Z"
   },
   {
    "duration": 8,
    "start_time": "2021-12-27T21:11:38.416Z"
   },
   {
    "duration": 309,
    "start_time": "2021-12-27T21:11:38.426Z"
   },
   {
    "duration": 215,
    "start_time": "2021-12-27T21:11:38.737Z"
   },
   {
    "duration": 442,
    "start_time": "2021-12-27T21:11:38.953Z"
   },
   {
    "duration": 8,
    "start_time": "2021-12-27T21:11:39.397Z"
   },
   {
    "duration": 13,
    "start_time": "2021-12-27T21:11:39.406Z"
   },
   {
    "duration": 335,
    "start_time": "2021-12-27T21:11:39.421Z"
   },
   {
    "duration": 33,
    "start_time": "2021-12-27T21:11:39.760Z"
   },
   {
    "duration": 6,
    "start_time": "2021-12-27T21:11:39.795Z"
   },
   {
    "duration": 245,
    "start_time": "2021-12-27T21:11:39.804Z"
   },
   {
    "duration": 695,
    "start_time": "2021-12-27T21:50:31.254Z"
   },
   {
    "duration": 40,
    "start_time": "2021-12-27T21:50:31.954Z"
   },
   {
    "duration": 11,
    "start_time": "2021-12-27T21:50:31.996Z"
   },
   {
    "duration": 21,
    "start_time": "2021-12-27T21:50:32.009Z"
   },
   {
    "duration": 48,
    "start_time": "2021-12-27T21:50:32.032Z"
   },
   {
    "duration": 38,
    "start_time": "2021-12-27T21:50:32.081Z"
   },
   {
    "duration": 41,
    "start_time": "2021-12-27T21:50:32.121Z"
   },
   {
    "duration": 21,
    "start_time": "2021-12-27T21:50:32.164Z"
   },
   {
    "duration": 15,
    "start_time": "2021-12-27T21:50:32.187Z"
   },
   {
    "duration": 18,
    "start_time": "2021-12-27T21:50:32.204Z"
   },
   {
    "duration": 48,
    "start_time": "2021-12-27T21:50:32.223Z"
   },
   {
    "duration": 18,
    "start_time": "2021-12-27T21:50:32.273Z"
   },
   {
    "duration": 18,
    "start_time": "2021-12-27T21:50:32.293Z"
   },
   {
    "duration": 34,
    "start_time": "2021-12-27T21:50:32.313Z"
   },
   {
    "duration": 9,
    "start_time": "2021-12-27T21:50:32.349Z"
   },
   {
    "duration": 23,
    "start_time": "2021-12-27T21:50:32.360Z"
   },
   {
    "duration": 23,
    "start_time": "2021-12-27T21:50:32.386Z"
   },
   {
    "duration": 27,
    "start_time": "2021-12-27T21:50:32.411Z"
   },
   {
    "duration": 310,
    "start_time": "2021-12-27T21:50:32.440Z"
   },
   {
    "duration": 221,
    "start_time": "2021-12-27T21:50:32.752Z"
   },
   {
    "duration": 448,
    "start_time": "2021-12-27T21:50:32.975Z"
   },
   {
    "duration": 7,
    "start_time": "2021-12-27T21:50:33.426Z"
   },
   {
    "duration": 8,
    "start_time": "2021-12-27T21:50:33.435Z"
   },
   {
    "duration": 366,
    "start_time": "2021-12-27T21:50:33.444Z"
   },
   {
    "duration": 30,
    "start_time": "2021-12-27T21:50:33.812Z"
   },
   {
    "duration": 19,
    "start_time": "2021-12-27T21:50:33.844Z"
   },
   {
    "duration": 721,
    "start_time": "2021-12-28T11:15:53.347Z"
   },
   {
    "duration": 41,
    "start_time": "2021-12-28T11:15:54.070Z"
   },
   {
    "duration": 14,
    "start_time": "2021-12-28T11:15:54.114Z"
   },
   {
    "duration": 35,
    "start_time": "2021-12-28T11:15:54.131Z"
   },
   {
    "duration": 35,
    "start_time": "2021-12-28T11:15:54.168Z"
   },
   {
    "duration": 52,
    "start_time": "2021-12-28T11:15:54.205Z"
   },
   {
    "duration": 15,
    "start_time": "2021-12-28T11:15:54.259Z"
   },
   {
    "duration": 23,
    "start_time": "2021-12-28T11:15:54.276Z"
   },
   {
    "duration": 34,
    "start_time": "2021-12-28T11:15:54.302Z"
   },
   {
    "duration": 17,
    "start_time": "2021-12-28T11:15:54.339Z"
   },
   {
    "duration": 13,
    "start_time": "2021-12-28T11:15:54.358Z"
   },
   {
    "duration": 10,
    "start_time": "2021-12-28T11:15:54.373Z"
   },
   {
    "duration": 8,
    "start_time": "2021-12-28T11:15:54.385Z"
   },
   {
    "duration": 34,
    "start_time": "2021-12-28T11:15:54.395Z"
   },
   {
    "duration": 8,
    "start_time": "2021-12-28T11:15:54.431Z"
   },
   {
    "duration": 17,
    "start_time": "2021-12-28T11:15:54.440Z"
   },
   {
    "duration": 9,
    "start_time": "2021-12-28T11:15:54.458Z"
   },
   {
    "duration": 6,
    "start_time": "2021-12-28T11:15:54.469Z"
   },
   {
    "duration": 447,
    "start_time": "2021-12-28T11:15:54.477Z"
   },
   {
    "duration": 302,
    "start_time": "2021-12-28T11:15:54.926Z"
   },
   {
    "duration": 530,
    "start_time": "2021-12-28T11:15:55.230Z"
   },
   {
    "duration": 7,
    "start_time": "2021-12-28T11:15:55.761Z"
   },
   {
    "duration": 12,
    "start_time": "2021-12-28T11:15:55.769Z"
   },
   {
    "duration": 310,
    "start_time": "2021-12-28T11:15:55.783Z"
   },
   {
    "duration": 42,
    "start_time": "2021-12-28T11:15:56.095Z"
   },
   {
    "duration": 5,
    "start_time": "2021-12-28T11:15:56.138Z"
   },
   {
    "duration": 7,
    "start_time": "2021-12-28T11:16:56.508Z"
   },
   {
    "duration": 7,
    "start_time": "2021-12-28T11:17:40.692Z"
   },
   {
    "duration": 13,
    "start_time": "2021-12-28T11:18:07.830Z"
   },
   {
    "duration": 10,
    "start_time": "2021-12-28T11:21:31.036Z"
   },
   {
    "duration": 9,
    "start_time": "2021-12-28T11:21:50.984Z"
   },
   {
    "duration": 9,
    "start_time": "2021-12-28T11:22:31.660Z"
   },
   {
    "duration": 10,
    "start_time": "2021-12-28T11:22:50.920Z"
   },
   {
    "duration": 537,
    "start_time": "2021-12-28T11:29:47.571Z"
   },
   {
    "duration": 1103,
    "start_time": "2021-12-28T11:29:56.856Z"
   },
   {
    "duration": 34,
    "start_time": "2021-12-28T11:29:57.960Z"
   },
   {
    "duration": 10,
    "start_time": "2021-12-28T11:29:57.998Z"
   },
   {
    "duration": 24,
    "start_time": "2021-12-28T11:29:58.010Z"
   },
   {
    "duration": 25,
    "start_time": "2021-12-28T11:29:58.035Z"
   },
   {
    "duration": 30,
    "start_time": "2021-12-28T11:29:58.061Z"
   },
   {
    "duration": 13,
    "start_time": "2021-12-28T11:29:58.092Z"
   },
   {
    "duration": 20,
    "start_time": "2021-12-28T11:29:58.127Z"
   },
   {
    "duration": 13,
    "start_time": "2021-12-28T11:29:58.149Z"
   },
   {
    "duration": 13,
    "start_time": "2021-12-28T11:29:58.164Z"
   },
   {
    "duration": 12,
    "start_time": "2021-12-28T11:29:58.178Z"
   },
   {
    "duration": 7,
    "start_time": "2021-12-28T11:29:58.191Z"
   },
   {
    "duration": 5,
    "start_time": "2021-12-28T11:29:58.227Z"
   },
   {
    "duration": 5,
    "start_time": "2021-12-28T11:29:58.233Z"
   },
   {
    "duration": 4,
    "start_time": "2021-12-28T11:29:58.240Z"
   },
   {
    "duration": 23,
    "start_time": "2021-12-28T11:29:58.246Z"
   },
   {
    "duration": 6,
    "start_time": "2021-12-28T11:29:58.270Z"
   },
   {
    "duration": 7,
    "start_time": "2021-12-28T11:29:58.277Z"
   },
   {
    "duration": 283,
    "start_time": "2021-12-28T11:29:58.285Z"
   },
   {
    "duration": 203,
    "start_time": "2021-12-28T11:29:58.570Z"
   },
   {
    "duration": 355,
    "start_time": "2021-12-28T11:29:58.774Z"
   },
   {
    "duration": 6,
    "start_time": "2021-12-28T11:29:59.131Z"
   },
   {
    "duration": 10,
    "start_time": "2021-12-28T11:29:59.139Z"
   },
   {
    "duration": 364,
    "start_time": "2021-12-28T11:29:59.150Z"
   },
   {
    "duration": 48,
    "start_time": "2021-12-28T11:29:59.515Z"
   },
   {
    "duration": 6,
    "start_time": "2021-12-28T11:29:59.567Z"
   },
   {
    "duration": 13,
    "start_time": "2021-12-28T11:29:59.575Z"
   },
   {
    "duration": 1825,
    "start_time": "2021-12-28T11:29:59.590Z"
   },
   {
    "duration": 415,
    "start_time": "2021-12-28T11:32:28.569Z"
   },
   {
    "duration": 6,
    "start_time": "2021-12-28T11:33:28.193Z"
   },
   {
    "duration": 359,
    "start_time": "2021-12-28T11:33:30.437Z"
   },
   {
    "duration": 249,
    "start_time": "2021-12-28T11:33:39.571Z"
   },
   {
    "duration": 27,
    "start_time": "2021-12-28T12:12:48.910Z"
   },
   {
    "duration": 27,
    "start_time": "2021-12-28T12:13:18.354Z"
   },
   {
    "duration": 6,
    "start_time": "2021-12-28T12:19:21.313Z"
   },
   {
    "duration": 271,
    "start_time": "2021-12-28T12:19:24.129Z"
   },
   {
    "duration": 326,
    "start_time": "2021-12-28T12:19:58.969Z"
   },
   {
    "duration": 2698,
    "start_time": "2021-12-28T12:20:09.861Z"
   },
   {
    "duration": 34,
    "start_time": "2021-12-28T12:20:12.561Z"
   },
   {
    "duration": 9,
    "start_time": "2021-12-28T12:20:12.597Z"
   },
   {
    "duration": 21,
    "start_time": "2021-12-28T12:20:12.608Z"
   },
   {
    "duration": 27,
    "start_time": "2021-12-28T12:20:12.630Z"
   },
   {
    "duration": 31,
    "start_time": "2021-12-28T12:20:12.659Z"
   },
   {
    "duration": 36,
    "start_time": "2021-12-28T12:20:12.692Z"
   },
   {
    "duration": 22,
    "start_time": "2021-12-28T12:20:12.730Z"
   },
   {
    "duration": 14,
    "start_time": "2021-12-28T12:20:12.754Z"
   },
   {
    "duration": 12,
    "start_time": "2021-12-28T12:20:12.770Z"
   },
   {
    "duration": 12,
    "start_time": "2021-12-28T12:20:12.783Z"
   },
   {
    "duration": 31,
    "start_time": "2021-12-28T12:20:12.797Z"
   },
   {
    "duration": 8,
    "start_time": "2021-12-28T12:20:12.829Z"
   },
   {
    "duration": 7,
    "start_time": "2021-12-28T12:20:12.839Z"
   },
   {
    "duration": 9,
    "start_time": "2021-12-28T12:20:12.847Z"
   },
   {
    "duration": 14,
    "start_time": "2021-12-28T12:20:12.857Z"
   },
   {
    "duration": 5,
    "start_time": "2021-12-28T12:20:12.873Z"
   },
   {
    "duration": 5,
    "start_time": "2021-12-28T12:20:12.880Z"
   },
   {
    "duration": 282,
    "start_time": "2021-12-28T12:20:12.886Z"
   },
   {
    "duration": 205,
    "start_time": "2021-12-28T12:20:13.170Z"
   },
   {
    "duration": 528,
    "start_time": "2021-12-28T12:20:13.376Z"
   },
   {
    "duration": 6,
    "start_time": "2021-12-28T12:20:13.906Z"
   },
   {
    "duration": 16,
    "start_time": "2021-12-28T12:20:13.915Z"
   },
   {
    "duration": 306,
    "start_time": "2021-12-28T12:20:13.932Z"
   },
   {
    "duration": 27,
    "start_time": "2021-12-28T12:20:14.240Z"
   },
   {
    "duration": 5,
    "start_time": "2021-12-28T12:20:14.269Z"
   },
   {
    "duration": 7,
    "start_time": "2021-12-28T12:20:14.275Z"
   },
   {
    "duration": 298,
    "start_time": "2021-12-28T12:20:14.284Z"
   },
   {
    "duration": 502,
    "start_time": "2021-12-28T12:24:19.970Z"
   },
   {
    "duration": 366,
    "start_time": "2021-12-28T12:25:24.125Z"
   },
   {
    "duration": 280,
    "start_time": "2021-12-28T12:26:44.062Z"
   },
   {
    "duration": 267,
    "start_time": "2021-12-28T12:27:47.673Z"
   },
   {
    "duration": 273,
    "start_time": "2021-12-28T12:28:02.801Z"
   },
   {
    "duration": 365,
    "start_time": "2021-12-28T12:28:16.733Z"
   },
   {
    "duration": 359,
    "start_time": "2021-12-28T12:29:35.045Z"
   },
   {
    "duration": 603,
    "start_time": "2021-12-28T12:29:56.497Z"
   },
   {
    "duration": 389,
    "start_time": "2021-12-28T12:30:10.141Z"
   },
   {
    "duration": 424,
    "start_time": "2021-12-28T12:30:18.305Z"
   },
   {
    "duration": 2,
    "start_time": "2021-12-28T12:34:14.765Z"
   },
   {
    "duration": 1083,
    "start_time": "2021-12-28T12:34:19.825Z"
   },
   {
    "duration": 35,
    "start_time": "2021-12-28T12:34:20.910Z"
   },
   {
    "duration": 10,
    "start_time": "2021-12-28T12:34:20.950Z"
   },
   {
    "duration": 17,
    "start_time": "2021-12-28T12:34:20.961Z"
   },
   {
    "duration": 28,
    "start_time": "2021-12-28T12:34:20.980Z"
   },
   {
    "duration": 43,
    "start_time": "2021-12-28T12:34:21.010Z"
   },
   {
    "duration": 13,
    "start_time": "2021-12-28T12:34:21.055Z"
   },
   {
    "duration": 20,
    "start_time": "2021-12-28T12:34:21.070Z"
   },
   {
    "duration": 42,
    "start_time": "2021-12-28T12:34:21.091Z"
   },
   {
    "duration": 13,
    "start_time": "2021-12-28T12:34:21.135Z"
   },
   {
    "duration": 13,
    "start_time": "2021-12-28T12:34:21.149Z"
   },
   {
    "duration": 7,
    "start_time": "2021-12-28T12:34:21.163Z"
   },
   {
    "duration": 6,
    "start_time": "2021-12-28T12:34:21.171Z"
   },
   {
    "duration": 5,
    "start_time": "2021-12-28T12:34:21.178Z"
   },
   {
    "duration": 4,
    "start_time": "2021-12-28T12:34:21.184Z"
   },
   {
    "duration": 37,
    "start_time": "2021-12-28T12:34:21.190Z"
   },
   {
    "duration": 5,
    "start_time": "2021-12-28T12:34:21.229Z"
   },
   {
    "duration": 6,
    "start_time": "2021-12-28T12:34:21.235Z"
   },
   {
    "duration": 274,
    "start_time": "2021-12-28T12:34:21.242Z"
   },
   {
    "duration": 196,
    "start_time": "2021-12-28T12:34:21.517Z"
   },
   {
    "duration": 354,
    "start_time": "2021-12-28T12:34:21.715Z"
   },
   {
    "duration": 6,
    "start_time": "2021-12-28T12:34:22.071Z"
   },
   {
    "duration": 8,
    "start_time": "2021-12-28T12:34:22.078Z"
   },
   {
    "duration": 295,
    "start_time": "2021-12-28T12:34:22.087Z"
   },
   {
    "duration": 28,
    "start_time": "2021-12-28T12:34:22.383Z"
   },
   {
    "duration": 18,
    "start_time": "2021-12-28T12:34:22.413Z"
   },
   {
    "duration": 6,
    "start_time": "2021-12-28T12:34:22.432Z"
   },
   {
    "duration": 288,
    "start_time": "2021-12-28T12:34:22.439Z"
   },
   {
    "duration": 463,
    "start_time": "2021-12-28T12:34:22.728Z"
   },
   {
    "duration": 1098,
    "start_time": "2021-12-28T12:36:53.368Z"
   },
   {
    "duration": 38,
    "start_time": "2021-12-28T12:36:54.468Z"
   },
   {
    "duration": 11,
    "start_time": "2021-12-28T12:36:54.508Z"
   },
   {
    "duration": 15,
    "start_time": "2021-12-28T12:36:54.526Z"
   },
   {
    "duration": 26,
    "start_time": "2021-12-28T12:36:54.543Z"
   },
   {
    "duration": 58,
    "start_time": "2021-12-28T12:36:54.572Z"
   },
   {
    "duration": 14,
    "start_time": "2021-12-28T12:36:54.631Z"
   },
   {
    "duration": 16,
    "start_time": "2021-12-28T12:36:54.647Z"
   },
   {
    "duration": 17,
    "start_time": "2021-12-28T12:36:54.665Z"
   },
   {
    "duration": 13,
    "start_time": "2021-12-28T12:36:54.683Z"
   },
   {
    "duration": 35,
    "start_time": "2021-12-28T12:36:54.698Z"
   },
   {
    "duration": 6,
    "start_time": "2021-12-28T12:36:54.735Z"
   },
   {
    "duration": 6,
    "start_time": "2021-12-28T12:36:54.742Z"
   },
   {
    "duration": 6,
    "start_time": "2021-12-28T12:36:54.749Z"
   },
   {
    "duration": 5,
    "start_time": "2021-12-28T12:36:54.756Z"
   },
   {
    "duration": 11,
    "start_time": "2021-12-28T12:36:54.762Z"
   },
   {
    "duration": 6,
    "start_time": "2021-12-28T12:36:54.774Z"
   },
   {
    "duration": 46,
    "start_time": "2021-12-28T12:36:54.783Z"
   },
   {
    "duration": 269,
    "start_time": "2021-12-28T12:36:54.831Z"
   },
   {
    "duration": 201,
    "start_time": "2021-12-28T12:36:55.102Z"
   },
   {
    "duration": 350,
    "start_time": "2021-12-28T12:36:55.304Z"
   },
   {
    "duration": 7,
    "start_time": "2021-12-28T12:36:55.656Z"
   },
   {
    "duration": 6,
    "start_time": "2021-12-28T12:36:55.664Z"
   },
   {
    "duration": 300,
    "start_time": "2021-12-28T12:36:55.671Z"
   },
   {
    "duration": 28,
    "start_time": "2021-12-28T12:36:55.972Z"
   },
   {
    "duration": 26,
    "start_time": "2021-12-28T12:36:56.001Z"
   },
   {
    "duration": 5,
    "start_time": "2021-12-28T12:36:56.029Z"
   },
   {
    "duration": 286,
    "start_time": "2021-12-28T12:36:56.036Z"
   },
   {
    "duration": 468,
    "start_time": "2021-12-28T12:36:56.324Z"
   },
   {
    "duration": 400,
    "start_time": "2021-12-28T13:38:01.971Z"
   },
   {
    "duration": 338,
    "start_time": "2021-12-28T13:38:23.638Z"
   },
   {
    "duration": 739,
    "start_time": "2021-12-28T13:38:46.181Z"
   },
   {
    "duration": 244,
    "start_time": "2021-12-28T13:39:16.062Z"
   },
   {
    "duration": 548,
    "start_time": "2021-12-28T13:40:57.241Z"
   },
   {
    "duration": 259,
    "start_time": "2021-12-28T13:41:57.878Z"
   },
   {
    "duration": 284,
    "start_time": "2021-12-28T13:42:31.111Z"
   },
   {
    "duration": 286,
    "start_time": "2021-12-28T13:43:03.597Z"
   },
   {
    "duration": 300,
    "start_time": "2021-12-28T13:43:37.413Z"
   },
   {
    "duration": 247,
    "start_time": "2021-12-28T13:44:08.553Z"
   },
   {
    "duration": 1023,
    "start_time": "2021-12-28T13:45:19.565Z"
   },
   {
    "duration": 637,
    "start_time": "2021-12-28T13:46:00.293Z"
   },
   {
    "duration": 979,
    "start_time": "2021-12-28T13:48:54.737Z"
   },
   {
    "duration": 557,
    "start_time": "2021-12-28T13:50:52.272Z"
   },
   {
    "duration": 447,
    "start_time": "2021-12-28T13:51:38.504Z"
   },
   {
    "duration": 461,
    "start_time": "2021-12-28T13:52:12.193Z"
   },
   {
    "duration": 962,
    "start_time": "2021-12-28T13:52:28.253Z"
   },
   {
    "duration": 983,
    "start_time": "2021-12-28T13:54:27.584Z"
   },
   {
    "duration": 904,
    "start_time": "2021-12-28T13:54:46.844Z"
   },
   {
    "duration": 1043,
    "start_time": "2021-12-28T13:54:55.307Z"
   },
   {
    "duration": 1141,
    "start_time": "2021-12-28T13:55:02.531Z"
   },
   {
    "duration": 1030,
    "start_time": "2021-12-28T13:55:12.058Z"
   },
   {
    "duration": 844,
    "start_time": "2021-12-28T13:57:54.900Z"
   },
   {
    "duration": 1051,
    "start_time": "2021-12-28T13:59:37.965Z"
   },
   {
    "duration": 1032,
    "start_time": "2021-12-28T13:59:56.480Z"
   },
   {
    "duration": 1193,
    "start_time": "2021-12-28T14:00:13.422Z"
   },
   {
    "duration": 754,
    "start_time": "2021-12-28T14:02:35.080Z"
   },
   {
    "duration": 873,
    "start_time": "2021-12-28T14:02:56.623Z"
   },
   {
    "duration": 1086,
    "start_time": "2021-12-28T14:03:54.193Z"
   },
   {
    "duration": 36,
    "start_time": "2021-12-28T14:03:55.281Z"
   },
   {
    "duration": 9,
    "start_time": "2021-12-28T14:03:55.319Z"
   },
   {
    "duration": 20,
    "start_time": "2021-12-28T14:03:55.330Z"
   },
   {
    "duration": 29,
    "start_time": "2021-12-28T14:03:55.351Z"
   },
   {
    "duration": 48,
    "start_time": "2021-12-28T14:03:55.381Z"
   },
   {
    "duration": 15,
    "start_time": "2021-12-28T14:03:55.431Z"
   },
   {
    "duration": 19,
    "start_time": "2021-12-28T14:03:55.449Z"
   },
   {
    "duration": 15,
    "start_time": "2021-12-28T14:03:55.470Z"
   },
   {
    "duration": 43,
    "start_time": "2021-12-28T14:03:55.487Z"
   },
   {
    "duration": 12,
    "start_time": "2021-12-28T14:03:55.532Z"
   },
   {
    "duration": 6,
    "start_time": "2021-12-28T14:03:55.546Z"
   },
   {
    "duration": 9,
    "start_time": "2021-12-28T14:03:55.553Z"
   },
   {
    "duration": 13,
    "start_time": "2021-12-28T14:03:55.563Z"
   },
   {
    "duration": 6,
    "start_time": "2021-12-28T14:03:55.578Z"
   },
   {
    "duration": 13,
    "start_time": "2021-12-28T14:03:55.585Z"
   },
   {
    "duration": 10,
    "start_time": "2021-12-28T14:03:55.599Z"
   },
   {
    "duration": 18,
    "start_time": "2021-12-28T14:03:55.611Z"
   },
   {
    "duration": 276,
    "start_time": "2021-12-28T14:03:55.631Z"
   },
   {
    "duration": 204,
    "start_time": "2021-12-28T14:03:55.908Z"
   },
   {
    "duration": 355,
    "start_time": "2021-12-28T14:03:56.113Z"
   },
   {
    "duration": 6,
    "start_time": "2021-12-28T14:03:56.470Z"
   },
   {
    "duration": 9,
    "start_time": "2021-12-28T14:03:56.479Z"
   },
   {
    "duration": 304,
    "start_time": "2021-12-28T14:03:56.490Z"
   },
   {
    "duration": 41,
    "start_time": "2021-12-28T14:03:56.795Z"
   },
   {
    "duration": 6,
    "start_time": "2021-12-28T14:03:56.837Z"
   },
   {
    "duration": 7,
    "start_time": "2021-12-28T14:03:56.844Z"
   },
   {
    "duration": 303,
    "start_time": "2021-12-28T14:03:56.853Z"
   },
   {
    "duration": 488,
    "start_time": "2021-12-28T14:03:57.158Z"
   },
   {
    "duration": 1049,
    "start_time": "2021-12-28T14:03:57.647Z"
   },
   {
    "duration": 946,
    "start_time": "2021-12-28T14:03:58.698Z"
   },
   {
    "duration": 9,
    "start_time": "2021-12-28T14:05:45.663Z"
   },
   {
    "duration": 1094,
    "start_time": "2021-12-28T14:08:00.272Z"
   },
   {
    "duration": 38,
    "start_time": "2021-12-28T14:08:01.368Z"
   },
   {
    "duration": 10,
    "start_time": "2021-12-28T14:08:01.411Z"
   },
   {
    "duration": 18,
    "start_time": "2021-12-28T14:08:01.423Z"
   },
   {
    "duration": 30,
    "start_time": "2021-12-28T14:08:01.442Z"
   },
   {
    "duration": 32,
    "start_time": "2021-12-28T14:08:01.474Z"
   },
   {
    "duration": 14,
    "start_time": "2021-12-28T14:08:01.529Z"
   },
   {
    "duration": 18,
    "start_time": "2021-12-28T14:08:01.545Z"
   },
   {
    "duration": 15,
    "start_time": "2021-12-28T14:08:01.565Z"
   },
   {
    "duration": 13,
    "start_time": "2021-12-28T14:08:01.582Z"
   },
   {
    "duration": 39,
    "start_time": "2021-12-28T14:08:01.597Z"
   },
   {
    "duration": 7,
    "start_time": "2021-12-28T14:08:01.638Z"
   },
   {
    "duration": 6,
    "start_time": "2021-12-28T14:08:01.646Z"
   },
   {
    "duration": 6,
    "start_time": "2021-12-28T14:08:01.653Z"
   },
   {
    "duration": 4,
    "start_time": "2021-12-28T14:08:01.660Z"
   },
   {
    "duration": 15,
    "start_time": "2021-12-28T14:08:01.665Z"
   },
   {
    "duration": 10,
    "start_time": "2021-12-28T14:08:01.682Z"
   },
   {
    "duration": 10,
    "start_time": "2021-12-28T14:08:01.694Z"
   },
   {
    "duration": 6,
    "start_time": "2021-12-28T14:08:01.705Z"
   },
   {
    "duration": 289,
    "start_time": "2021-12-28T14:08:01.713Z"
   },
   {
    "duration": 205,
    "start_time": "2021-12-28T14:08:02.003Z"
   },
   {
    "duration": 353,
    "start_time": "2021-12-28T14:08:02.211Z"
   },
   {
    "duration": 6,
    "start_time": "2021-12-28T14:08:02.566Z"
   },
   {
    "duration": 7,
    "start_time": "2021-12-28T14:08:02.574Z"
   },
   {
    "duration": 313,
    "start_time": "2021-12-28T14:08:02.582Z"
   },
   {
    "duration": 37,
    "start_time": "2021-12-28T14:08:02.897Z"
   },
   {
    "duration": 5,
    "start_time": "2021-12-28T14:08:02.936Z"
   },
   {
    "duration": 6,
    "start_time": "2021-12-28T14:08:02.942Z"
   },
   {
    "duration": 344,
    "start_time": "2021-12-28T14:08:02.950Z"
   },
   {
    "duration": 478,
    "start_time": "2021-12-28T14:08:03.296Z"
   },
   {
    "duration": 8,
    "start_time": "2021-12-28T14:08:03.775Z"
   },
   {
    "duration": 638,
    "start_time": "2021-12-28T14:08:03.784Z"
   },
   {
    "duration": 389,
    "start_time": "2021-12-28T14:08:04.424Z"
   },
   {
    "duration": 8,
    "start_time": "2021-12-28T14:46:02.190Z"
   },
   {
    "duration": 7,
    "start_time": "2021-12-28T14:46:55.163Z"
   },
   {
    "duration": 7,
    "start_time": "2021-12-28T14:47:32.053Z"
   },
   {
    "duration": 613,
    "start_time": "2021-12-28T14:54:18.836Z"
   },
   {
    "duration": 559,
    "start_time": "2021-12-28T14:55:04.975Z"
   },
   {
    "duration": 3994,
    "start_time": "2021-12-28T14:58:54.412Z"
   },
   {
    "duration": 58,
    "start_time": "2021-12-28T15:00:36.924Z"
   },
   {
    "duration": 53,
    "start_time": "2021-12-28T15:01:09.638Z"
   },
   {
    "duration": 59,
    "start_time": "2021-12-28T15:02:02.132Z"
   },
   {
    "duration": 57,
    "start_time": "2021-12-28T15:02:50.947Z"
   },
   {
    "duration": 8751,
    "start_time": "2021-12-28T15:06:30.431Z"
   },
   {
    "duration": 2475,
    "start_time": "2021-12-28T15:08:03.818Z"
   },
   {
    "duration": 10077,
    "start_time": "2021-12-28T15:08:51.859Z"
   },
   {
    "duration": 2360,
    "start_time": "2021-12-28T15:11:06.462Z"
   },
   {
    "duration": 9680,
    "start_time": "2021-12-28T15:11:25.039Z"
   },
   {
    "duration": 3659,
    "start_time": "2021-12-28T15:15:08.398Z"
   },
   {
    "duration": 1504,
    "start_time": "2021-12-28T15:15:23.511Z"
   },
   {
    "duration": 225,
    "start_time": "2021-12-28T15:19:41.578Z"
   },
   {
    "duration": 216,
    "start_time": "2021-12-28T15:19:54.099Z"
   },
   {
    "duration": 212,
    "start_time": "2021-12-28T15:20:17.306Z"
   },
   {
    "duration": 9,
    "start_time": "2021-12-28T15:30:48.977Z"
   },
   {
    "duration": 9387,
    "start_time": "2021-12-28T15:31:07.057Z"
   },
   {
    "duration": 10,
    "start_time": "2021-12-28T15:31:36.903Z"
   },
   {
    "duration": 20,
    "start_time": "2021-12-28T15:31:59.581Z"
   },
   {
    "duration": 18,
    "start_time": "2021-12-28T15:33:20.289Z"
   },
   {
    "duration": 311,
    "start_time": "2021-12-28T15:35:32.317Z"
   },
   {
    "duration": 19,
    "start_time": "2021-12-28T15:35:57.182Z"
   },
   {
    "duration": 19,
    "start_time": "2021-12-28T15:39:15.684Z"
   },
   {
    "duration": 130,
    "start_time": "2021-12-28T16:04:03.279Z"
   },
   {
    "duration": 6,
    "start_time": "2021-12-28T16:08:10.686Z"
   },
   {
    "duration": 10,
    "start_time": "2021-12-28T16:32:23.094Z"
   },
   {
    "duration": 331,
    "start_time": "2021-12-28T16:33:05.367Z"
   },
   {
    "duration": 338,
    "start_time": "2021-12-28T16:33:28.123Z"
   },
   {
    "duration": 335,
    "start_time": "2021-12-28T16:33:36.647Z"
   },
   {
    "duration": 8290,
    "start_time": "2021-12-28T16:34:20.915Z"
   },
   {
    "duration": 7,
    "start_time": "2021-12-28T16:34:34.671Z"
   },
   {
    "duration": 9,
    "start_time": "2021-12-28T16:34:50.988Z"
   },
   {
    "duration": 11,
    "start_time": "2021-12-28T16:35:27.207Z"
   },
   {
    "duration": 10,
    "start_time": "2021-12-28T16:35:34.915Z"
   },
   {
    "duration": 360,
    "start_time": "2021-12-28T16:36:03.343Z"
   },
   {
    "duration": 14,
    "start_time": "2021-12-28T16:36:17.250Z"
   },
   {
    "duration": 9,
    "start_time": "2021-12-28T16:37:57.767Z"
   },
   {
    "duration": 370,
    "start_time": "2021-12-28T16:40:24.448Z"
   },
   {
    "duration": 343,
    "start_time": "2021-12-28T16:40:29.159Z"
   },
   {
    "duration": 145,
    "start_time": "2021-12-28T16:40:56.643Z"
   },
   {
    "duration": 10,
    "start_time": "2021-12-28T16:41:42.947Z"
   },
   {
    "duration": 6,
    "start_time": "2021-12-28T16:42:23.822Z"
   },
   {
    "duration": 11,
    "start_time": "2021-12-28T16:42:42.658Z"
   },
   {
    "duration": 10,
    "start_time": "2021-12-28T16:43:29.200Z"
   },
   {
    "duration": 11,
    "start_time": "2021-12-28T16:44:11.230Z"
   },
   {
    "duration": 9,
    "start_time": "2021-12-28T16:44:18.543Z"
   },
   {
    "duration": 10,
    "start_time": "2021-12-28T16:44:35.850Z"
   },
   {
    "duration": 371,
    "start_time": "2021-12-28T16:44:58.191Z"
   },
   {
    "duration": 12,
    "start_time": "2021-12-28T16:46:46.346Z"
   },
   {
    "duration": 8393,
    "start_time": "2021-12-28T16:51:12.022Z"
   },
   {
    "duration": 9640,
    "start_time": "2021-12-28T16:52:00.270Z"
   },
   {
    "duration": 1088,
    "start_time": "2021-12-28T16:52:14.271Z"
   },
   {
    "duration": 36,
    "start_time": "2021-12-28T16:52:15.361Z"
   },
   {
    "duration": 10,
    "start_time": "2021-12-28T16:52:15.399Z"
   },
   {
    "duration": 18,
    "start_time": "2021-12-28T16:52:15.410Z"
   },
   {
    "duration": 25,
    "start_time": "2021-12-28T16:52:15.429Z"
   },
   {
    "duration": 31,
    "start_time": "2021-12-28T16:52:15.455Z"
   },
   {
    "duration": 14,
    "start_time": "2021-12-28T16:52:15.487Z"
   },
   {
    "duration": 40,
    "start_time": "2021-12-28T16:52:15.503Z"
   },
   {
    "duration": 13,
    "start_time": "2021-12-28T16:52:15.545Z"
   },
   {
    "duration": 13,
    "start_time": "2021-12-28T16:52:15.560Z"
   },
   {
    "duration": 11,
    "start_time": "2021-12-28T16:52:15.574Z"
   },
   {
    "duration": 6,
    "start_time": "2021-12-28T16:52:15.586Z"
   },
   {
    "duration": 34,
    "start_time": "2021-12-28T16:52:15.594Z"
   },
   {
    "duration": 5,
    "start_time": "2021-12-28T16:52:15.629Z"
   },
   {
    "duration": 5,
    "start_time": "2021-12-28T16:52:15.636Z"
   },
   {
    "duration": 11,
    "start_time": "2021-12-28T16:52:15.643Z"
   },
   {
    "duration": 5,
    "start_time": "2021-12-28T16:52:15.655Z"
   },
   {
    "duration": 6,
    "start_time": "2021-12-28T16:52:15.662Z"
   },
   {
    "duration": 5,
    "start_time": "2021-12-28T16:52:15.669Z"
   },
   {
    "duration": 309,
    "start_time": "2021-12-28T16:52:15.675Z"
   },
   {
    "duration": 206,
    "start_time": "2021-12-28T16:52:15.986Z"
   },
   {
    "duration": 362,
    "start_time": "2021-12-28T16:52:16.193Z"
   },
   {
    "duration": 7,
    "start_time": "2021-12-28T16:52:16.557Z"
   },
   {
    "duration": 6,
    "start_time": "2021-12-28T16:52:16.565Z"
   },
   {
    "duration": 310,
    "start_time": "2021-12-28T16:52:16.573Z"
   },
   {
    "duration": 42,
    "start_time": "2021-12-28T16:52:16.885Z"
   },
   {
    "duration": 5,
    "start_time": "2021-12-28T16:52:16.929Z"
   },
   {
    "duration": 6,
    "start_time": "2021-12-28T16:52:16.936Z"
   },
   {
    "duration": 302,
    "start_time": "2021-12-28T16:52:16.943Z"
   },
   {
    "duration": 486,
    "start_time": "2021-12-28T16:52:17.247Z"
   },
   {
    "duration": 592,
    "start_time": "2021-12-28T16:52:17.735Z"
   },
   {
    "duration": 57,
    "start_time": "2021-12-28T16:52:18.329Z"
   },
   {
    "duration": 240,
    "start_time": "2021-12-28T16:52:18.387Z"
   },
   {
    "duration": 10,
    "start_time": "2021-12-28T16:52:18.629Z"
   },
   {
    "duration": 8538,
    "start_time": "2021-12-28T16:52:18.641Z"
   },
   {
    "duration": 12,
    "start_time": "2021-12-28T16:52:59.527Z"
   },
   {
    "duration": 12,
    "start_time": "2021-12-28T16:53:31.747Z"
   },
   {
    "duration": 8652,
    "start_time": "2021-12-28T16:53:56.203Z"
   },
   {
    "duration": 11,
    "start_time": "2021-12-28T16:54:19.695Z"
   },
   {
    "duration": 12,
    "start_time": "2021-12-28T16:54:55.035Z"
   },
   {
    "duration": 11,
    "start_time": "2021-12-28T16:56:21.582Z"
   },
   {
    "duration": 11,
    "start_time": "2021-12-28T16:59:40.615Z"
   },
   {
    "duration": 1118,
    "start_time": "2021-12-28T17:00:07.261Z"
   },
   {
    "duration": 38,
    "start_time": "2021-12-28T17:00:08.381Z"
   },
   {
    "duration": 12,
    "start_time": "2021-12-28T17:00:08.422Z"
   },
   {
    "duration": 34,
    "start_time": "2021-12-28T17:00:08.436Z"
   },
   {
    "duration": 48,
    "start_time": "2021-12-28T17:00:08.472Z"
   },
   {
    "duration": 32,
    "start_time": "2021-12-28T17:00:08.521Z"
   },
   {
    "duration": 14,
    "start_time": "2021-12-28T17:00:08.554Z"
   },
   {
    "duration": 21,
    "start_time": "2021-12-28T17:00:08.571Z"
   },
   {
    "duration": 15,
    "start_time": "2021-12-28T17:00:08.594Z"
   },
   {
    "duration": 28,
    "start_time": "2021-12-28T17:00:08.611Z"
   },
   {
    "duration": 11,
    "start_time": "2021-12-28T17:00:08.641Z"
   },
   {
    "duration": 18,
    "start_time": "2021-12-28T17:00:08.653Z"
   },
   {
    "duration": 9,
    "start_time": "2021-12-28T17:00:08.673Z"
   },
   {
    "duration": 16,
    "start_time": "2021-12-28T17:00:08.683Z"
   },
   {
    "duration": 29,
    "start_time": "2021-12-28T17:00:08.701Z"
   },
   {
    "duration": 10,
    "start_time": "2021-12-28T17:00:08.732Z"
   },
   {
    "duration": 11,
    "start_time": "2021-12-28T17:00:08.744Z"
   },
   {
    "duration": 15,
    "start_time": "2021-12-28T17:00:08.756Z"
   },
   {
    "duration": 7,
    "start_time": "2021-12-28T17:00:08.773Z"
   },
   {
    "duration": 271,
    "start_time": "2021-12-28T17:00:08.782Z"
   },
   {
    "duration": 276,
    "start_time": "2021-12-28T17:00:09.055Z"
   },
   {
    "duration": 355,
    "start_time": "2021-12-28T17:00:09.334Z"
   },
   {
    "duration": 6,
    "start_time": "2021-12-28T17:00:09.693Z"
   },
   {
    "duration": 8,
    "start_time": "2021-12-28T17:00:09.701Z"
   },
   {
    "duration": 306,
    "start_time": "2021-12-28T17:00:09.710Z"
   },
   {
    "duration": 29,
    "start_time": "2021-12-28T17:00:10.017Z"
   },
   {
    "duration": 5,
    "start_time": "2021-12-28T17:00:10.048Z"
   },
   {
    "duration": 8,
    "start_time": "2021-12-28T17:00:10.055Z"
   },
   {
    "duration": 303,
    "start_time": "2021-12-28T17:00:10.064Z"
   },
   {
    "duration": 482,
    "start_time": "2021-12-28T17:00:10.369Z"
   },
   {
    "duration": 581,
    "start_time": "2021-12-28T17:00:10.852Z"
   },
   {
    "duration": 57,
    "start_time": "2021-12-28T17:00:11.435Z"
   },
   {
    "duration": 260,
    "start_time": "2021-12-28T17:00:11.494Z"
   },
   {
    "duration": 10,
    "start_time": "2021-12-28T17:00:11.756Z"
   },
   {
    "duration": 9,
    "start_time": "2021-12-28T17:00:11.768Z"
   },
   {
    "duration": 9,
    "start_time": "2021-12-28T17:00:11.779Z"
   },
   {
    "duration": 407,
    "start_time": "2021-12-28T17:01:37.590Z"
   },
   {
    "duration": 11,
    "start_time": "2021-12-28T17:02:04.740Z"
   },
   {
    "duration": 11,
    "start_time": "2021-12-28T17:02:31.704Z"
   },
   {
    "duration": 11,
    "start_time": "2021-12-28T17:02:50.315Z"
   },
   {
    "duration": 125,
    "start_time": "2021-12-28T17:11:07.706Z"
   },
   {
    "duration": 9,
    "start_time": "2021-12-28T17:11:13.422Z"
   },
   {
    "duration": 9,
    "start_time": "2021-12-28T17:11:42.987Z"
   },
   {
    "duration": 9,
    "start_time": "2021-12-28T17:12:20.383Z"
   },
   {
    "duration": 11,
    "start_time": "2021-12-28T17:12:50.898Z"
   },
   {
    "duration": 1087,
    "start_time": "2021-12-28T17:15:46.777Z"
   },
   {
    "duration": 37,
    "start_time": "2021-12-28T17:15:47.866Z"
   },
   {
    "duration": 9,
    "start_time": "2021-12-28T17:15:47.905Z"
   },
   {
    "duration": 16,
    "start_time": "2021-12-28T17:15:47.915Z"
   },
   {
    "duration": 26,
    "start_time": "2021-12-28T17:15:47.933Z"
   },
   {
    "duration": 36,
    "start_time": "2021-12-28T17:15:47.960Z"
   },
   {
    "duration": 37,
    "start_time": "2021-12-28T17:15:47.998Z"
   },
   {
    "duration": 24,
    "start_time": "2021-12-28T17:15:48.037Z"
   },
   {
    "duration": 15,
    "start_time": "2021-12-28T17:15:48.063Z"
   },
   {
    "duration": 14,
    "start_time": "2021-12-28T17:15:48.079Z"
   },
   {
    "duration": 35,
    "start_time": "2021-12-28T17:15:48.095Z"
   },
   {
    "duration": 6,
    "start_time": "2021-12-28T17:15:48.131Z"
   },
   {
    "duration": 8,
    "start_time": "2021-12-28T17:15:48.138Z"
   },
   {
    "duration": 5,
    "start_time": "2021-12-28T17:15:48.147Z"
   },
   {
    "duration": 4,
    "start_time": "2021-12-28T17:15:48.154Z"
   },
   {
    "duration": 12,
    "start_time": "2021-12-28T17:15:48.159Z"
   },
   {
    "duration": 6,
    "start_time": "2021-12-28T17:15:48.172Z"
   },
   {
    "duration": 6,
    "start_time": "2021-12-28T17:15:48.179Z"
   },
   {
    "duration": 8,
    "start_time": "2021-12-28T17:15:48.186Z"
   },
   {
    "duration": 31,
    "start_time": "2021-12-28T17:15:48.196Z"
   },
   {
    "duration": 267,
    "start_time": "2021-12-28T17:15:48.229Z"
   },
   {
    "duration": 210,
    "start_time": "2021-12-28T17:15:48.497Z"
   },
   {
    "duration": 353,
    "start_time": "2021-12-28T17:15:48.710Z"
   },
   {
    "duration": 6,
    "start_time": "2021-12-28T17:15:49.065Z"
   },
   {
    "duration": 7,
    "start_time": "2021-12-28T17:15:49.073Z"
   },
   {
    "duration": 310,
    "start_time": "2021-12-28T17:15:49.081Z"
   },
   {
    "duration": 40,
    "start_time": "2021-12-28T17:15:49.393Z"
   },
   {
    "duration": 6,
    "start_time": "2021-12-28T17:15:49.435Z"
   },
   {
    "duration": 6,
    "start_time": "2021-12-28T17:15:49.443Z"
   },
   {
    "duration": 298,
    "start_time": "2021-12-28T17:15:49.451Z"
   },
   {
    "duration": 520,
    "start_time": "2021-12-28T17:15:49.750Z"
   },
   {
    "duration": 560,
    "start_time": "2021-12-28T17:15:50.272Z"
   },
   {
    "duration": 57,
    "start_time": "2021-12-28T17:15:50.834Z"
   },
   {
    "duration": 235,
    "start_time": "2021-12-28T17:15:50.893Z"
   },
   {
    "duration": 11,
    "start_time": "2021-12-28T17:15:51.130Z"
   },
   {
    "duration": 10,
    "start_time": "2021-12-28T17:15:51.143Z"
   },
   {
    "duration": 9,
    "start_time": "2021-12-28T17:15:51.155Z"
   },
   {
    "duration": 10,
    "start_time": "2021-12-28T17:15:51.165Z"
   },
   {
    "duration": 10,
    "start_time": "2021-12-28T17:15:51.176Z"
   },
   {
    "duration": 42,
    "start_time": "2021-12-28T17:15:51.187Z"
   },
   {
    "duration": 8,
    "start_time": "2021-12-28T17:15:51.230Z"
   },
   {
    "duration": 7,
    "start_time": "2021-12-28T17:15:51.240Z"
   },
   {
    "duration": 7,
    "start_time": "2021-12-28T17:15:51.249Z"
   },
   {
    "duration": 1121,
    "start_time": "2021-12-28T17:31:52.556Z"
   },
   {
    "duration": 37,
    "start_time": "2021-12-28T17:31:53.678Z"
   },
   {
    "duration": 12,
    "start_time": "2021-12-28T17:31:53.719Z"
   },
   {
    "duration": 17,
    "start_time": "2021-12-28T17:31:53.732Z"
   },
   {
    "duration": 26,
    "start_time": "2021-12-28T17:31:53.751Z"
   },
   {
    "duration": 30,
    "start_time": "2021-12-28T17:31:53.778Z"
   },
   {
    "duration": 29,
    "start_time": "2021-12-28T17:31:53.810Z"
   },
   {
    "duration": 19,
    "start_time": "2021-12-28T17:31:53.842Z"
   },
   {
    "duration": 13,
    "start_time": "2021-12-28T17:31:53.863Z"
   },
   {
    "duration": 13,
    "start_time": "2021-12-28T17:31:53.878Z"
   },
   {
    "duration": 36,
    "start_time": "2021-12-28T17:31:53.892Z"
   },
   {
    "duration": 6,
    "start_time": "2021-12-28T17:31:53.930Z"
   },
   {
    "duration": 6,
    "start_time": "2021-12-28T17:31:53.938Z"
   },
   {
    "duration": 5,
    "start_time": "2021-12-28T17:31:53.945Z"
   },
   {
    "duration": 4,
    "start_time": "2021-12-28T17:31:53.952Z"
   },
   {
    "duration": 11,
    "start_time": "2021-12-28T17:31:53.958Z"
   },
   {
    "duration": 7,
    "start_time": "2021-12-28T17:31:53.970Z"
   },
   {
    "duration": 7,
    "start_time": "2021-12-28T17:31:53.978Z"
   },
   {
    "duration": 5,
    "start_time": "2021-12-28T17:31:54.028Z"
   },
   {
    "duration": 6,
    "start_time": "2021-12-28T17:31:54.035Z"
   },
   {
    "duration": 277,
    "start_time": "2021-12-28T17:31:54.043Z"
   },
   {
    "duration": 208,
    "start_time": "2021-12-28T17:31:54.322Z"
   },
   {
    "duration": 365,
    "start_time": "2021-12-28T17:31:54.532Z"
   },
   {
    "duration": 8,
    "start_time": "2021-12-28T17:31:54.899Z"
   },
   {
    "duration": 22,
    "start_time": "2021-12-28T17:31:54.908Z"
   },
   {
    "duration": 329,
    "start_time": "2021-12-28T17:31:54.934Z"
   },
   {
    "duration": 30,
    "start_time": "2021-12-28T17:31:55.266Z"
   },
   {
    "duration": 6,
    "start_time": "2021-12-28T17:31:55.298Z"
   },
   {
    "duration": 26,
    "start_time": "2021-12-28T17:31:55.306Z"
   },
   {
    "duration": 314,
    "start_time": "2021-12-28T17:31:55.334Z"
   },
   {
    "duration": 518,
    "start_time": "2021-12-28T17:31:55.649Z"
   },
   {
    "duration": 569,
    "start_time": "2021-12-28T17:31:56.169Z"
   },
   {
    "duration": 56,
    "start_time": "2021-12-28T17:31:56.740Z"
   },
   {
    "duration": 244,
    "start_time": "2021-12-28T17:31:56.797Z"
   },
   {
    "duration": 12,
    "start_time": "2021-12-28T17:31:57.042Z"
   },
   {
    "duration": 13,
    "start_time": "2021-12-28T17:31:57.055Z"
   },
   {
    "duration": 10,
    "start_time": "2021-12-28T17:31:57.069Z"
   },
   {
    "duration": 9,
    "start_time": "2021-12-28T17:31:57.080Z"
   },
   {
    "duration": 38,
    "start_time": "2021-12-28T17:31:57.090Z"
   },
   {
    "duration": 11,
    "start_time": "2021-12-28T17:31:57.130Z"
   },
   {
    "duration": 7,
    "start_time": "2021-12-28T17:31:57.142Z"
   },
   {
    "duration": 6,
    "start_time": "2021-12-28T17:31:57.151Z"
   },
   {
    "duration": 9,
    "start_time": "2021-12-28T17:31:57.159Z"
   },
   {
    "duration": 9,
    "start_time": "2021-12-28T17:31:57.169Z"
   },
   {
    "duration": 9,
    "start_time": "2021-12-28T17:32:07.864Z"
   },
   {
    "duration": 619,
    "start_time": "2021-12-28T17:35:34.604Z"
   },
   {
    "duration": 447,
    "start_time": "2021-12-28T17:36:01.021Z"
   },
   {
    "duration": 355,
    "start_time": "2021-12-28T17:37:38.035Z"
   },
   {
    "duration": 13,
    "start_time": "2021-12-28T17:37:52.704Z"
   },
   {
    "duration": 12,
    "start_time": "2021-12-28T17:42:00.544Z"
   },
   {
    "duration": 11,
    "start_time": "2021-12-28T17:43:19.632Z"
   },
   {
    "duration": 114,
    "start_time": "2021-12-28T18:23:27.569Z"
   },
   {
    "duration": 195,
    "start_time": "2021-12-28T18:38:58.559Z"
   },
   {
    "duration": 633,
    "start_time": "2021-12-28T19:04:58.997Z"
   },
   {
    "duration": 524,
    "start_time": "2021-12-28T19:17:35.903Z"
   },
   {
    "duration": 104,
    "start_time": "2021-12-28T19:27:35.197Z"
   },
   {
    "duration": 214,
    "start_time": "2021-12-28T19:30:17.062Z"
   },
   {
    "duration": 1127,
    "start_time": "2021-12-28T19:49:34.984Z"
   },
   {
    "duration": 37,
    "start_time": "2021-12-28T19:49:36.113Z"
   },
   {
    "duration": 9,
    "start_time": "2021-12-28T19:49:36.152Z"
   },
   {
    "duration": 15,
    "start_time": "2021-12-28T19:49:36.163Z"
   },
   {
    "duration": 27,
    "start_time": "2021-12-28T19:49:36.179Z"
   },
   {
    "duration": 48,
    "start_time": "2021-12-28T19:49:36.208Z"
   },
   {
    "duration": 19,
    "start_time": "2021-12-28T19:49:36.258Z"
   },
   {
    "duration": 19,
    "start_time": "2021-12-28T19:49:36.281Z"
   },
   {
    "duration": 42,
    "start_time": "2021-12-28T19:49:36.301Z"
   },
   {
    "duration": 15,
    "start_time": "2021-12-28T19:49:36.344Z"
   },
   {
    "duration": 10,
    "start_time": "2021-12-28T19:49:36.361Z"
   },
   {
    "duration": 5,
    "start_time": "2021-12-28T19:49:36.373Z"
   },
   {
    "duration": 6,
    "start_time": "2021-12-28T19:49:36.379Z"
   },
   {
    "duration": 42,
    "start_time": "2021-12-28T19:49:36.386Z"
   },
   {
    "duration": 4,
    "start_time": "2021-12-28T19:49:36.429Z"
   },
   {
    "duration": 11,
    "start_time": "2021-12-28T19:49:36.434Z"
   },
   {
    "duration": 6,
    "start_time": "2021-12-28T19:49:36.446Z"
   },
   {
    "duration": 6,
    "start_time": "2021-12-28T19:49:36.453Z"
   },
   {
    "duration": 7,
    "start_time": "2021-12-28T19:49:36.461Z"
   },
   {
    "duration": 7,
    "start_time": "2021-12-28T19:49:36.469Z"
   },
   {
    "duration": 311,
    "start_time": "2021-12-28T19:49:36.477Z"
   },
   {
    "duration": 208,
    "start_time": "2021-12-28T19:49:36.790Z"
   },
   {
    "duration": 372,
    "start_time": "2021-12-28T19:49:37.002Z"
   },
   {
    "duration": 7,
    "start_time": "2021-12-28T19:49:37.376Z"
   },
   {
    "duration": 6,
    "start_time": "2021-12-28T19:49:37.384Z"
   },
   {
    "duration": 309,
    "start_time": "2021-12-28T19:49:37.392Z"
   },
   {
    "duration": 42,
    "start_time": "2021-12-28T19:49:37.703Z"
   },
   {
    "duration": 5,
    "start_time": "2021-12-28T19:49:37.747Z"
   },
   {
    "duration": 7,
    "start_time": "2021-12-28T19:49:37.753Z"
   },
   {
    "duration": 300,
    "start_time": "2021-12-28T19:49:37.761Z"
   },
   {
    "duration": 504,
    "start_time": "2021-12-28T19:49:38.063Z"
   },
   {
    "duration": 605,
    "start_time": "2021-12-28T19:49:38.569Z"
   },
   {
    "duration": 91,
    "start_time": "2021-12-28T19:49:39.176Z"
   },
   {
    "duration": 240,
    "start_time": "2021-12-28T19:49:39.269Z"
   },
   {
    "duration": 20,
    "start_time": "2021-12-28T19:49:39.511Z"
   },
   {
    "duration": 12,
    "start_time": "2021-12-28T19:49:39.532Z"
   },
   {
    "duration": 11,
    "start_time": "2021-12-28T19:49:39.545Z"
   },
   {
    "duration": 11,
    "start_time": "2021-12-28T19:49:39.557Z"
   },
   {
    "duration": 11,
    "start_time": "2021-12-28T19:49:39.570Z"
   },
   {
    "duration": 47,
    "start_time": "2021-12-28T19:49:39.583Z"
   },
   {
    "duration": 8,
    "start_time": "2021-12-28T19:49:39.631Z"
   },
   {
    "duration": 8,
    "start_time": "2021-12-28T19:49:39.640Z"
   },
   {
    "duration": 7,
    "start_time": "2021-12-28T19:49:39.649Z"
   },
   {
    "duration": 11,
    "start_time": "2021-12-28T19:49:39.658Z"
   },
   {
    "duration": 12,
    "start_time": "2021-12-28T19:49:39.671Z"
   },
   {
    "duration": 1089,
    "start_time": "2021-12-28T20:50:49.783Z"
   },
   {
    "duration": 38,
    "start_time": "2021-12-28T20:50:50.875Z"
   },
   {
    "duration": 9,
    "start_time": "2021-12-28T20:50:50.915Z"
   },
   {
    "duration": 16,
    "start_time": "2021-12-28T20:50:50.926Z"
   },
   {
    "duration": 32,
    "start_time": "2021-12-28T20:50:50.943Z"
   },
   {
    "duration": 34,
    "start_time": "2021-12-28T20:50:50.976Z"
   },
   {
    "duration": 29,
    "start_time": "2021-12-28T20:50:51.013Z"
   },
   {
    "duration": 15,
    "start_time": "2021-12-28T20:50:51.045Z"
   },
   {
    "duration": 13,
    "start_time": "2021-12-28T20:50:51.062Z"
   },
   {
    "duration": 9,
    "start_time": "2021-12-28T20:50:51.077Z"
   },
   {
    "duration": 11,
    "start_time": "2021-12-28T20:50:51.087Z"
   },
   {
    "duration": 37,
    "start_time": "2021-12-28T20:50:51.099Z"
   },
   {
    "duration": 5,
    "start_time": "2021-12-28T20:50:51.138Z"
   },
   {
    "duration": 20,
    "start_time": "2021-12-28T20:50:51.145Z"
   },
   {
    "duration": 8,
    "start_time": "2021-12-28T20:50:51.167Z"
   },
   {
    "duration": 10,
    "start_time": "2021-12-28T20:50:51.177Z"
   },
   {
    "duration": 6,
    "start_time": "2021-12-28T20:50:51.189Z"
   },
   {
    "duration": 7,
    "start_time": "2021-12-28T20:50:51.197Z"
   },
   {
    "duration": 324,
    "start_time": "2021-12-28T20:50:51.205Z"
   },
   {
    "duration": 220,
    "start_time": "2021-12-28T20:50:51.531Z"
   },
   {
    "duration": 408,
    "start_time": "2021-12-28T20:50:51.753Z"
   },
   {
    "duration": 10,
    "start_time": "2021-12-28T20:50:52.166Z"
   },
   {
    "duration": 8,
    "start_time": "2021-12-28T20:50:52.178Z"
   },
   {
    "duration": 319,
    "start_time": "2021-12-28T20:50:52.187Z"
   },
   {
    "duration": 36,
    "start_time": "2021-12-28T20:50:52.508Z"
   },
   {
    "duration": 5,
    "start_time": "2021-12-28T20:50:52.546Z"
   },
   {
    "duration": 7,
    "start_time": "2021-12-28T20:50:52.552Z"
   },
   {
    "duration": 358,
    "start_time": "2021-12-28T20:50:52.560Z"
   },
   {
    "duration": 594,
    "start_time": "2021-12-28T20:50:52.927Z"
   },
   {
    "duration": 636,
    "start_time": "2021-12-28T20:50:53.523Z"
   },
   {
    "duration": 79,
    "start_time": "2021-12-28T20:50:54.161Z"
   },
   {
    "duration": 266,
    "start_time": "2021-12-28T20:50:54.242Z"
   },
   {
    "duration": 11,
    "start_time": "2021-12-28T20:50:54.510Z"
   },
   {
    "duration": 15,
    "start_time": "2021-12-28T20:50:54.527Z"
   },
   {
    "duration": 12,
    "start_time": "2021-12-28T20:50:54.544Z"
   },
   {
    "duration": 13,
    "start_time": "2021-12-28T20:50:54.558Z"
   },
   {
    "duration": 14,
    "start_time": "2021-12-28T20:50:54.573Z"
   },
   {
    "duration": 44,
    "start_time": "2021-12-28T20:50:54.589Z"
   },
   {
    "duration": 9,
    "start_time": "2021-12-28T20:50:54.636Z"
   },
   {
    "duration": 11,
    "start_time": "2021-12-28T20:50:54.647Z"
   },
   {
    "duration": 8,
    "start_time": "2021-12-28T20:50:54.660Z"
   },
   {
    "duration": 12,
    "start_time": "2021-12-28T20:50:54.670Z"
   },
   {
    "duration": 52,
    "start_time": "2021-12-28T20:50:54.684Z"
   },
   {
    "duration": 1556,
    "start_time": "2021-12-29T19:04:13.530Z"
   },
   {
    "duration": 47,
    "start_time": "2021-12-29T19:04:15.089Z"
   },
   {
    "duration": 28,
    "start_time": "2021-12-29T19:04:15.139Z"
   },
   {
    "duration": 26,
    "start_time": "2021-12-29T19:04:15.170Z"
   },
   {
    "duration": 75,
    "start_time": "2021-12-29T19:04:15.200Z"
   },
   {
    "duration": 53,
    "start_time": "2021-12-29T19:04:15.278Z"
   },
   {
    "duration": 47,
    "start_time": "2021-12-29T19:04:15.334Z"
   },
   {
    "duration": 25,
    "start_time": "2021-12-29T19:04:15.384Z"
   },
   {
    "duration": 22,
    "start_time": "2021-12-29T19:04:15.413Z"
   },
   {
    "duration": 9,
    "start_time": "2021-12-29T19:04:15.469Z"
   },
   {
    "duration": 7,
    "start_time": "2021-12-29T19:04:15.481Z"
   },
   {
    "duration": 7,
    "start_time": "2021-12-29T19:04:15.490Z"
   },
   {
    "duration": 7,
    "start_time": "2021-12-29T19:04:15.500Z"
   },
   {
    "duration": 64,
    "start_time": "2021-12-29T19:04:15.510Z"
   },
   {
    "duration": 9,
    "start_time": "2021-12-29T19:04:15.576Z"
   },
   {
    "duration": 8,
    "start_time": "2021-12-29T19:04:15.587Z"
   },
   {
    "duration": 7,
    "start_time": "2021-12-29T19:04:15.597Z"
   },
   {
    "duration": 8,
    "start_time": "2021-12-29T19:04:15.606Z"
   },
   {
    "duration": 528,
    "start_time": "2021-12-29T19:04:15.616Z"
   },
   {
    "duration": 373,
    "start_time": "2021-12-29T19:04:16.147Z"
   },
   {
    "duration": 645,
    "start_time": "2021-12-29T19:04:16.522Z"
   },
   {
    "duration": 9,
    "start_time": "2021-12-29T19:04:17.170Z"
   },
   {
    "duration": 9,
    "start_time": "2021-12-29T19:04:17.181Z"
   },
   {
    "duration": 658,
    "start_time": "2021-12-29T19:04:17.193Z"
   },
   {
    "duration": 52,
    "start_time": "2021-12-29T19:04:17.853Z"
   },
   {
    "duration": 8,
    "start_time": "2021-12-29T19:04:17.908Z"
   },
   {
    "duration": 10,
    "start_time": "2021-12-29T19:04:17.921Z"
   },
   {
    "duration": 567,
    "start_time": "2021-12-29T19:04:17.934Z"
   },
   {
    "duration": 922,
    "start_time": "2021-12-29T19:04:18.504Z"
   },
   {
    "duration": 949,
    "start_time": "2021-12-29T19:04:19.429Z"
   },
   {
    "duration": 121,
    "start_time": "2021-12-29T19:04:20.380Z"
   },
   {
    "duration": 410,
    "start_time": "2021-12-29T19:04:20.503Z"
   },
   {
    "duration": 17,
    "start_time": "2021-12-29T19:04:20.915Z"
   },
   {
    "duration": 42,
    "start_time": "2021-12-29T19:04:20.934Z"
   },
   {
    "duration": 16,
    "start_time": "2021-12-29T19:04:20.978Z"
   },
   {
    "duration": 15,
    "start_time": "2021-12-29T19:04:20.997Z"
   },
   {
    "duration": 57,
    "start_time": "2021-12-29T19:04:21.015Z"
   },
   {
    "duration": 18,
    "start_time": "2021-12-29T19:04:21.075Z"
   },
   {
    "duration": 13,
    "start_time": "2021-12-29T19:04:21.096Z"
   },
   {
    "duration": 55,
    "start_time": "2021-12-29T19:04:21.111Z"
   },
   {
    "duration": 15,
    "start_time": "2021-12-29T19:04:21.169Z"
   },
   {
    "duration": 18,
    "start_time": "2021-12-29T19:04:21.186Z"
   },
   {
    "duration": 19,
    "start_time": "2021-12-29T19:04:21.206Z"
   },
   {
    "duration": 319,
    "start_time": "2021-12-29T19:37:30.688Z"
   },
   {
    "duration": 1225,
    "start_time": "2021-12-29T19:37:39.750Z"
   },
   {
    "duration": 44,
    "start_time": "2021-12-29T19:37:40.978Z"
   },
   {
    "duration": 10,
    "start_time": "2021-12-29T19:37:41.024Z"
   },
   {
    "duration": 18,
    "start_time": "2021-12-29T19:37:41.036Z"
   },
   {
    "duration": 41,
    "start_time": "2021-12-29T19:37:41.056Z"
   },
   {
    "duration": 32,
    "start_time": "2021-12-29T19:37:41.099Z"
   },
   {
    "duration": 33,
    "start_time": "2021-12-29T19:37:41.133Z"
   },
   {
    "duration": 24,
    "start_time": "2021-12-29T19:37:41.170Z"
   },
   {
    "duration": 12,
    "start_time": "2021-12-29T19:37:41.196Z"
   },
   {
    "duration": 14,
    "start_time": "2021-12-29T19:37:41.210Z"
   },
   {
    "duration": 6,
    "start_time": "2021-12-29T19:37:41.226Z"
   },
   {
    "duration": 31,
    "start_time": "2021-12-29T19:37:41.233Z"
   },
   {
    "duration": 6,
    "start_time": "2021-12-29T19:37:41.267Z"
   },
   {
    "duration": 29,
    "start_time": "2021-12-29T19:37:41.275Z"
   },
   {
    "duration": 6,
    "start_time": "2021-12-29T19:37:41.306Z"
   },
   {
    "duration": 7,
    "start_time": "2021-12-29T19:37:41.314Z"
   },
   {
    "duration": 7,
    "start_time": "2021-12-29T19:37:41.322Z"
   },
   {
    "duration": 16,
    "start_time": "2021-12-29T19:37:41.330Z"
   },
   {
    "duration": 353,
    "start_time": "2021-12-29T19:37:41.348Z"
   },
   {
    "duration": 235,
    "start_time": "2021-12-29T19:37:41.703Z"
   },
   {
    "duration": 423,
    "start_time": "2021-12-29T19:37:41.940Z"
   },
   {
    "duration": 9,
    "start_time": "2021-12-29T19:37:42.366Z"
   },
   {
    "duration": 12,
    "start_time": "2021-12-29T19:37:42.379Z"
   },
   {
    "duration": 375,
    "start_time": "2021-12-29T19:37:42.393Z"
   },
   {
    "duration": 40,
    "start_time": "2021-12-29T19:37:42.770Z"
   },
   {
    "duration": 6,
    "start_time": "2021-12-29T19:37:42.812Z"
   },
   {
    "duration": 6,
    "start_time": "2021-12-29T19:37:42.820Z"
   },
   {
    "duration": 364,
    "start_time": "2021-12-29T19:37:42.828Z"
   },
   {
    "duration": 622,
    "start_time": "2021-12-29T19:37:43.194Z"
   },
   {
    "duration": 654,
    "start_time": "2021-12-29T19:37:43.818Z"
   },
   {
    "duration": 71,
    "start_time": "2021-12-29T19:37:44.474Z"
   },
   {
    "duration": 281,
    "start_time": "2021-12-29T19:37:44.560Z"
   },
   {
    "duration": 336,
    "start_time": "2021-12-29T19:37:44.843Z"
   },
   {
    "duration": 21,
    "start_time": "2021-12-29T19:37:45.189Z"
   },
   {
    "duration": 58,
    "start_time": "2021-12-29T19:37:45.221Z"
   },
   {
    "duration": 122,
    "start_time": "2021-12-29T19:37:45.282Z"
   },
   {
    "duration": 25,
    "start_time": "2021-12-29T19:37:45.407Z"
   },
   {
    "duration": 157,
    "start_time": "2021-12-29T19:37:45.434Z"
   },
   {
    "duration": 95,
    "start_time": "2021-12-29T19:37:45.594Z"
   },
   {
    "duration": 16,
    "start_time": "2021-12-29T19:37:45.691Z"
   },
   {
    "duration": 11,
    "start_time": "2021-12-29T19:37:45.709Z"
   },
   {
    "duration": 8,
    "start_time": "2021-12-29T19:37:45.722Z"
   },
   {
    "duration": 11,
    "start_time": "2021-12-29T19:37:45.731Z"
   },
   {
    "duration": 27,
    "start_time": "2021-12-29T19:37:45.744Z"
   },
   {
    "duration": 1472,
    "start_time": "2021-12-30T12:56:57.201Z"
   },
   {
    "duration": 43,
    "start_time": "2021-12-30T12:56:58.675Z"
   },
   {
    "duration": 14,
    "start_time": "2021-12-30T12:56:58.720Z"
   },
   {
    "duration": 23,
    "start_time": "2021-12-30T12:56:58.737Z"
   },
   {
    "duration": 68,
    "start_time": "2021-12-30T12:56:58.763Z"
   },
   {
    "duration": 48,
    "start_time": "2021-12-30T12:56:58.833Z"
   },
   {
    "duration": 41,
    "start_time": "2021-12-30T12:56:58.884Z"
   },
   {
    "duration": 23,
    "start_time": "2021-12-30T12:56:58.929Z"
   },
   {
    "duration": 19,
    "start_time": "2021-12-30T12:56:58.955Z"
   },
   {
    "duration": 46,
    "start_time": "2021-12-30T12:56:58.977Z"
   },
   {
    "duration": 8,
    "start_time": "2021-12-30T12:56:59.026Z"
   },
   {
    "duration": 7,
    "start_time": "2021-12-30T12:56:59.036Z"
   },
   {
    "duration": 9,
    "start_time": "2021-12-30T12:56:59.046Z"
   },
   {
    "duration": 16,
    "start_time": "2021-12-30T12:56:59.057Z"
   },
   {
    "duration": 51,
    "start_time": "2021-12-30T12:56:59.075Z"
   },
   {
    "duration": 7,
    "start_time": "2021-12-30T12:56:59.128Z"
   },
   {
    "duration": 7,
    "start_time": "2021-12-30T12:56:59.137Z"
   },
   {
    "duration": 8,
    "start_time": "2021-12-30T12:56:59.146Z"
   },
   {
    "duration": 513,
    "start_time": "2021-12-30T12:56:59.156Z"
   },
   {
    "duration": 414,
    "start_time": "2021-12-30T12:56:59.672Z"
   },
   {
    "duration": 622,
    "start_time": "2021-12-30T12:57:00.088Z"
   },
   {
    "duration": 14,
    "start_time": "2021-12-30T12:57:00.713Z"
   },
   {
    "duration": 18,
    "start_time": "2021-12-30T12:57:00.733Z"
   },
   {
    "duration": 514,
    "start_time": "2021-12-30T12:57:00.755Z"
   },
   {
    "duration": 54,
    "start_time": "2021-12-30T12:57:01.271Z"
   },
   {
    "duration": 7,
    "start_time": "2021-12-30T12:57:01.328Z"
   },
   {
    "duration": 33,
    "start_time": "2021-12-30T12:57:01.337Z"
   },
   {
    "duration": 501,
    "start_time": "2021-12-30T12:57:01.372Z"
   },
   {
    "duration": 798,
    "start_time": "2021-12-30T12:57:01.876Z"
   },
   {
    "duration": 912,
    "start_time": "2021-12-30T12:57:02.677Z"
   },
   {
    "duration": 109,
    "start_time": "2021-12-30T12:57:03.592Z"
   },
   {
    "duration": 386,
    "start_time": "2021-12-30T12:57:03.703Z"
   },
   {
    "duration": 394,
    "start_time": "2021-12-30T12:57:04.091Z"
   },
   {
    "duration": 17,
    "start_time": "2021-12-30T12:57:04.488Z"
   },
   {
    "duration": 15,
    "start_time": "2021-12-30T12:57:04.523Z"
   },
   {
    "duration": 16,
    "start_time": "2021-12-30T12:57:04.540Z"
   },
   {
    "duration": 15,
    "start_time": "2021-12-30T12:57:04.558Z"
   },
   {
    "duration": 52,
    "start_time": "2021-12-30T12:57:04.575Z"
   },
   {
    "duration": 17,
    "start_time": "2021-12-30T12:57:04.629Z"
   },
   {
    "duration": 11,
    "start_time": "2021-12-30T12:57:04.648Z"
   },
   {
    "duration": 11,
    "start_time": "2021-12-30T12:57:04.662Z"
   },
   {
    "duration": 52,
    "start_time": "2021-12-30T12:57:04.675Z"
   },
   {
    "duration": 16,
    "start_time": "2021-12-30T12:57:04.729Z"
   },
   {
    "duration": 16,
    "start_time": "2021-12-30T12:57:04.748Z"
   },
   {
    "duration": 430,
    "start_time": "2021-12-30T12:58:05.462Z"
   },
   {
    "duration": 654,
    "start_time": "2021-12-30T12:58:27.010Z"
   },
   {
    "duration": 1434,
    "start_time": "2021-12-30T12:59:17.936Z"
   },
   {
    "duration": 47,
    "start_time": "2021-12-30T12:59:19.373Z"
   },
   {
    "duration": 450,
    "start_time": "2021-12-30T12:59:19.423Z"
   },
   {
    "duration": -971,
    "start_time": "2021-12-30T12:59:20.850Z"
   },
   {
    "duration": -977,
    "start_time": "2021-12-30T12:59:20.857Z"
   },
   {
    "duration": -980,
    "start_time": "2021-12-30T12:59:20.862Z"
   },
   {
    "duration": -982,
    "start_time": "2021-12-30T12:59:20.866Z"
   },
   {
    "duration": -986,
    "start_time": "2021-12-30T12:59:20.871Z"
   },
   {
    "duration": -991,
    "start_time": "2021-12-30T12:59:20.877Z"
   },
   {
    "duration": -995,
    "start_time": "2021-12-30T12:59:20.883Z"
   },
   {
    "duration": -1001,
    "start_time": "2021-12-30T12:59:20.890Z"
   },
   {
    "duration": -1005,
    "start_time": "2021-12-30T12:59:20.895Z"
   },
   {
    "duration": -1007,
    "start_time": "2021-12-30T12:59:20.899Z"
   },
   {
    "duration": -1011,
    "start_time": "2021-12-30T12:59:20.904Z"
   },
   {
    "duration": -1013,
    "start_time": "2021-12-30T12:59:20.907Z"
   },
   {
    "duration": -1017,
    "start_time": "2021-12-30T12:59:20.913Z"
   },
   {
    "duration": -1021,
    "start_time": "2021-12-30T12:59:20.918Z"
   },
   {
    "duration": -1025,
    "start_time": "2021-12-30T12:59:20.923Z"
   },
   {
    "duration": -1030,
    "start_time": "2021-12-30T12:59:20.929Z"
   },
   {
    "duration": -1033,
    "start_time": "2021-12-30T12:59:20.934Z"
   },
   {
    "duration": -1057,
    "start_time": "2021-12-30T12:59:20.959Z"
   },
   {
    "duration": -1062,
    "start_time": "2021-12-30T12:59:20.965Z"
   },
   {
    "duration": -1064,
    "start_time": "2021-12-30T12:59:20.968Z"
   },
   {
    "duration": -1068,
    "start_time": "2021-12-30T12:59:20.973Z"
   },
   {
    "duration": -1055,
    "start_time": "2021-12-30T12:59:20.977Z"
   },
   {
    "duration": -1056,
    "start_time": "2021-12-30T12:59:20.980Z"
   },
   {
    "duration": -1057,
    "start_time": "2021-12-30T12:59:20.982Z"
   },
   {
    "duration": -1059,
    "start_time": "2021-12-30T12:59:20.985Z"
   },
   {
    "duration": -1059,
    "start_time": "2021-12-30T12:59:20.987Z"
   },
   {
    "duration": -1061,
    "start_time": "2021-12-30T12:59:20.990Z"
   },
   {
    "duration": -1062,
    "start_time": "2021-12-30T12:59:20.992Z"
   },
   {
    "duration": -1063,
    "start_time": "2021-12-30T12:59:20.995Z"
   },
   {
    "duration": -1065,
    "start_time": "2021-12-30T12:59:20.998Z"
   },
   {
    "duration": -1065,
    "start_time": "2021-12-30T12:59:21.000Z"
   },
   {
    "duration": -1067,
    "start_time": "2021-12-30T12:59:21.003Z"
   },
   {
    "duration": -1070,
    "start_time": "2021-12-30T12:59:21.007Z"
   },
   {
    "duration": -1071,
    "start_time": "2021-12-30T12:59:21.010Z"
   },
   {
    "duration": -1072,
    "start_time": "2021-12-30T12:59:21.012Z"
   },
   {
    "duration": -1074,
    "start_time": "2021-12-30T12:59:21.015Z"
   },
   {
    "duration": -1075,
    "start_time": "2021-12-30T12:59:21.018Z"
   },
   {
    "duration": -1076,
    "start_time": "2021-12-30T12:59:21.020Z"
   },
   {
    "duration": -1077,
    "start_time": "2021-12-30T12:59:21.023Z"
   },
   {
    "duration": -1078,
    "start_time": "2021-12-30T12:59:21.025Z"
   },
   {
    "duration": -1080,
    "start_time": "2021-12-30T12:59:21.028Z"
   },
   {
    "duration": -1082,
    "start_time": "2021-12-30T12:59:21.031Z"
   },
   {
    "duration": -1082,
    "start_time": "2021-12-30T12:59:21.033Z"
   },
   {
    "duration": 347,
    "start_time": "2021-12-30T12:59:34.037Z"
   },
   {
    "duration": 13,
    "start_time": "2021-12-30T13:00:02.105Z"
   },
   {
    "duration": 1459,
    "start_time": "2021-12-30T13:00:12.560Z"
   },
   {
    "duration": 48,
    "start_time": "2021-12-30T13:00:14.024Z"
   },
   {
    "duration": 16,
    "start_time": "2021-12-30T13:00:14.076Z"
   },
   {
    "duration": 41,
    "start_time": "2021-12-30T13:00:14.096Z"
   },
   {
    "duration": 42,
    "start_time": "2021-12-30T13:00:14.140Z"
   },
   {
    "duration": 76,
    "start_time": "2021-12-30T13:00:14.185Z"
   },
   {
    "duration": 21,
    "start_time": "2021-12-30T13:00:14.263Z"
   },
   {
    "duration": 53,
    "start_time": "2021-12-30T13:00:14.289Z"
   },
   {
    "duration": 18,
    "start_time": "2021-12-30T13:00:14.345Z"
   },
   {
    "duration": 15,
    "start_time": "2021-12-30T13:00:14.365Z"
   },
   {
    "duration": 41,
    "start_time": "2021-12-30T13:00:14.383Z"
   },
   {
    "duration": 5,
    "start_time": "2021-12-30T13:00:14.427Z"
   },
   {
    "duration": 13,
    "start_time": "2021-12-30T13:00:14.435Z"
   },
   {
    "duration": 15,
    "start_time": "2021-12-30T13:00:14.451Z"
   },
   {
    "duration": 9,
    "start_time": "2021-12-30T13:00:14.469Z"
   },
   {
    "duration": 6,
    "start_time": "2021-12-30T13:00:14.523Z"
   },
   {
    "duration": 13,
    "start_time": "2021-12-30T13:00:14.532Z"
   },
   {
    "duration": 7,
    "start_time": "2021-12-30T13:00:14.547Z"
   },
   {
    "duration": 482,
    "start_time": "2021-12-30T13:00:14.556Z"
   },
   {
    "duration": 346,
    "start_time": "2021-12-30T13:00:15.041Z"
   },
   {
    "duration": 635,
    "start_time": "2021-12-30T13:00:15.390Z"
   },
   {
    "duration": 10,
    "start_time": "2021-12-30T13:00:16.028Z"
   },
   {
    "duration": 11,
    "start_time": "2021-12-30T13:00:16.046Z"
   },
   {
    "duration": 812,
    "start_time": "2021-12-30T13:00:16.062Z"
   },
   {
    "duration": 79,
    "start_time": "2021-12-30T13:00:16.878Z"
   },
   {
    "duration": 10,
    "start_time": "2021-12-30T13:00:16.960Z"
   },
   {
    "duration": 12,
    "start_time": "2021-12-30T13:00:16.973Z"
   },
   {
    "duration": 781,
    "start_time": "2021-12-30T13:00:16.988Z"
   },
   {
    "duration": 831,
    "start_time": "2021-12-30T13:00:17.771Z"
   },
   {
    "duration": 896,
    "start_time": "2021-12-30T13:00:18.604Z"
   },
   {
    "duration": 120,
    "start_time": "2021-12-30T13:00:19.503Z"
   },
   {
    "duration": 407,
    "start_time": "2021-12-30T13:00:19.625Z"
   },
   {
    "duration": 410,
    "start_time": "2021-12-30T13:00:20.035Z"
   },
   {
    "duration": 19,
    "start_time": "2021-12-30T13:00:20.448Z"
   },
   {
    "duration": 17,
    "start_time": "2021-12-30T13:00:20.470Z"
   },
   {
    "duration": 50,
    "start_time": "2021-12-30T13:00:20.489Z"
   },
   {
    "duration": 21,
    "start_time": "2021-12-30T13:00:20.541Z"
   },
   {
    "duration": 17,
    "start_time": "2021-12-30T13:00:20.564Z"
   },
   {
    "duration": 52,
    "start_time": "2021-12-30T13:00:20.583Z"
   },
   {
    "duration": 14,
    "start_time": "2021-12-30T13:00:20.638Z"
   },
   {
    "duration": 14,
    "start_time": "2021-12-30T13:00:20.654Z"
   },
   {
    "duration": 57,
    "start_time": "2021-12-30T13:00:20.671Z"
   },
   {
    "duration": 17,
    "start_time": "2021-12-30T13:00:20.731Z"
   },
   {
    "duration": 17,
    "start_time": "2021-12-30T13:00:20.751Z"
   },
   {
    "duration": 635,
    "start_time": "2021-12-30T13:00:55.501Z"
   },
   {
    "duration": 1471,
    "start_time": "2021-12-30T13:01:04.311Z"
   },
   {
    "duration": 45,
    "start_time": "2021-12-30T13:01:05.785Z"
   },
   {
    "duration": 17,
    "start_time": "2021-12-30T13:01:05.834Z"
   },
   {
    "duration": 25,
    "start_time": "2021-12-30T13:01:05.853Z"
   },
   {
    "duration": 83,
    "start_time": "2021-12-30T13:01:05.880Z"
   },
   {
    "duration": 72,
    "start_time": "2021-12-30T13:01:05.966Z"
   },
   {
    "duration": 22,
    "start_time": "2021-12-30T13:01:06.040Z"
   },
   {
    "duration": 23,
    "start_time": "2021-12-30T13:01:06.066Z"
   },
   {
    "duration": 48,
    "start_time": "2021-12-30T13:01:06.092Z"
   },
   {
    "duration": 12,
    "start_time": "2021-12-30T13:01:06.143Z"
   },
   {
    "duration": 9,
    "start_time": "2021-12-30T13:01:06.158Z"
   },
   {
    "duration": 9,
    "start_time": "2021-12-30T13:01:06.170Z"
   },
   {
    "duration": 73,
    "start_time": "2021-12-30T13:01:06.182Z"
   },
   {
    "duration": 9,
    "start_time": "2021-12-30T13:01:06.258Z"
   },
   {
    "duration": 22,
    "start_time": "2021-12-30T13:01:06.270Z"
   },
   {
    "duration": 37,
    "start_time": "2021-12-30T13:01:06.295Z"
   },
   {
    "duration": 15,
    "start_time": "2021-12-30T13:01:06.335Z"
   },
   {
    "duration": 7,
    "start_time": "2021-12-30T13:01:06.353Z"
   },
   {
    "duration": 7,
    "start_time": "2021-12-30T13:01:06.363Z"
   },
   {
    "duration": 532,
    "start_time": "2021-12-30T13:01:06.373Z"
   },
   {
    "duration": 373,
    "start_time": "2021-12-30T13:01:06.908Z"
   },
   {
    "duration": 1039,
    "start_time": "2021-12-30T13:01:07.284Z"
   },
   {
    "duration": 12,
    "start_time": "2021-12-30T13:01:08.332Z"
   },
   {
    "duration": 12,
    "start_time": "2021-12-30T13:01:08.348Z"
   },
   {
    "duration": 998,
    "start_time": "2021-12-30T13:01:08.363Z"
   },
   {
    "duration": 64,
    "start_time": "2021-12-30T13:01:09.364Z"
   },
   {
    "duration": 8,
    "start_time": "2021-12-30T13:01:09.430Z"
   },
   {
    "duration": 13,
    "start_time": "2021-12-30T13:01:09.441Z"
   },
   {
    "duration": 800,
    "start_time": "2021-12-30T13:01:09.457Z"
   },
   {
    "duration": 1225,
    "start_time": "2021-12-30T13:01:10.260Z"
   },
   {
    "duration": 1305,
    "start_time": "2021-12-30T13:01:11.488Z"
   },
   {
    "duration": 153,
    "start_time": "2021-12-30T13:01:12.796Z"
   },
   {
    "duration": 456,
    "start_time": "2021-12-30T13:01:12.952Z"
   },
   {
    "duration": 404,
    "start_time": "2021-12-30T13:01:13.412Z"
   },
   {
    "duration": 19,
    "start_time": "2021-12-30T13:01:13.823Z"
   },
   {
    "duration": 23,
    "start_time": "2021-12-30T13:01:13.846Z"
   },
   {
    "duration": 59,
    "start_time": "2021-12-30T13:01:13.872Z"
   },
   {
    "duration": 23,
    "start_time": "2021-12-30T13:01:13.935Z"
   },
   {
    "duration": 38,
    "start_time": "2021-12-30T13:01:13.961Z"
   },
   {
    "duration": 32,
    "start_time": "2021-12-30T13:01:14.001Z"
   },
   {
    "duration": 31,
    "start_time": "2021-12-30T13:01:14.035Z"
   },
   {
    "duration": 11,
    "start_time": "2021-12-30T13:01:14.068Z"
   },
   {
    "duration": 29,
    "start_time": "2021-12-30T13:01:14.081Z"
   },
   {
    "duration": 18,
    "start_time": "2021-12-30T13:01:14.124Z"
   },
   {
    "duration": 17,
    "start_time": "2021-12-30T13:01:14.144Z"
   },
   {
    "duration": 487,
    "start_time": "2021-12-30T16:07:05.488Z"
   },
   {
    "duration": 1684,
    "start_time": "2022-01-05T17:21:06.343Z"
   },
   {
    "duration": 54,
    "start_time": "2022-01-05T17:21:08.030Z"
   },
   {
    "duration": 19,
    "start_time": "2022-01-05T17:21:08.088Z"
   },
   {
    "duration": 24,
    "start_time": "2022-01-05T17:21:08.110Z"
   },
   {
    "duration": 72,
    "start_time": "2022-01-05T17:21:08.137Z"
   },
   {
    "duration": 76,
    "start_time": "2022-01-05T17:21:08.211Z"
   },
   {
    "duration": 22,
    "start_time": "2022-01-05T17:21:08.290Z"
   },
   {
    "duration": 47,
    "start_time": "2022-01-05T17:21:08.316Z"
   },
   {
    "duration": 20,
    "start_time": "2022-01-05T17:21:08.366Z"
   },
   {
    "duration": 14,
    "start_time": "2022-01-05T17:21:08.389Z"
   },
   {
    "duration": 8,
    "start_time": "2022-01-05T17:21:08.405Z"
   },
   {
    "duration": 6,
    "start_time": "2022-01-05T17:21:08.415Z"
   },
   {
    "duration": 42,
    "start_time": "2022-01-05T17:21:08.424Z"
   },
   {
    "duration": 16,
    "start_time": "2022-01-05T17:21:08.469Z"
   },
   {
    "duration": 9,
    "start_time": "2022-01-05T17:21:08.488Z"
   },
   {
    "duration": 6,
    "start_time": "2022-01-05T17:21:08.500Z"
   },
   {
    "duration": 7,
    "start_time": "2022-01-05T17:21:08.508Z"
   },
   {
    "duration": 52,
    "start_time": "2022-01-05T17:21:08.517Z"
   },
   {
    "duration": 511,
    "start_time": "2022-01-05T17:21:08.571Z"
   },
   {
    "duration": 388,
    "start_time": "2022-01-05T17:21:09.085Z"
   },
   {
    "duration": 639,
    "start_time": "2022-01-05T17:21:09.476Z"
   },
   {
    "duration": 9,
    "start_time": "2022-01-05T17:21:10.117Z"
   },
   {
    "duration": 9,
    "start_time": "2022-01-05T17:21:10.130Z"
   },
   {
    "duration": 542,
    "start_time": "2022-01-05T17:21:10.163Z"
   },
   {
    "duration": 55,
    "start_time": "2022-01-05T17:21:10.708Z"
   },
   {
    "duration": 7,
    "start_time": "2022-01-05T17:21:10.766Z"
   },
   {
    "duration": 7,
    "start_time": "2022-01-05T17:21:10.776Z"
   },
   {
    "duration": 556,
    "start_time": "2022-01-05T17:21:10.786Z"
   },
   {
    "duration": 833,
    "start_time": "2022-01-05T17:21:11.344Z"
   },
   {
    "duration": 950,
    "start_time": "2022-01-05T17:21:12.179Z"
   },
   {
    "duration": 113,
    "start_time": "2022-01-05T17:21:13.131Z"
   },
   {
    "duration": 420,
    "start_time": "2022-01-05T17:21:13.246Z"
   },
   {
    "duration": 419,
    "start_time": "2022-01-05T17:21:13.669Z"
   },
   {
    "duration": 18,
    "start_time": "2022-01-05T17:21:14.090Z"
   },
   {
    "duration": 19,
    "start_time": "2022-01-05T17:21:14.110Z"
   },
   {
    "duration": 18,
    "start_time": "2022-01-05T17:21:14.163Z"
   },
   {
    "duration": 19,
    "start_time": "2022-01-05T17:21:14.183Z"
   },
   {
    "duration": 17,
    "start_time": "2022-01-05T17:21:14.204Z"
   },
   {
    "duration": 57,
    "start_time": "2022-01-05T17:21:14.223Z"
   },
   {
    "duration": 13,
    "start_time": "2022-01-05T17:21:14.283Z"
   },
   {
    "duration": 12,
    "start_time": "2022-01-05T17:21:14.299Z"
   },
   {
    "duration": 53,
    "start_time": "2022-01-05T17:21:14.314Z"
   },
   {
    "duration": 17,
    "start_time": "2022-01-05T17:21:14.370Z"
   },
   {
    "duration": 16,
    "start_time": "2022-01-05T17:21:14.390Z"
   },
   {
    "duration": 667,
    "start_time": "2022-01-05T17:23:02.966Z"
   },
   {
    "duration": 283,
    "start_time": "2022-01-05T17:23:31.551Z"
   },
   {
    "duration": 278,
    "start_time": "2022-01-05T17:23:53.939Z"
   },
   {
    "duration": 278,
    "start_time": "2022-01-05T17:24:29.987Z"
   },
   {
    "duration": 261,
    "start_time": "2022-01-05T17:24:37.779Z"
   },
   {
    "duration": 304,
    "start_time": "2022-01-05T17:24:58.639Z"
   },
   {
    "duration": 250,
    "start_time": "2022-01-05T17:25:08.583Z"
   },
   {
    "duration": 364,
    "start_time": "2022-01-05T17:25:20.055Z"
   },
   {
    "duration": 14,
    "start_time": "2022-01-05T17:28:39.451Z"
   },
   {
    "duration": 14,
    "start_time": "2022-01-05T17:29:14.139Z"
   },
   {
    "duration": 253,
    "start_time": "2022-01-05T17:42:02.629Z"
   },
   {
    "duration": 333,
    "start_time": "2022-01-05T17:42:42.937Z"
   },
   {
    "duration": 13,
    "start_time": "2022-01-05T17:44:47.245Z"
   },
   {
    "duration": 15,
    "start_time": "2022-01-05T17:45:39.193Z"
   },
   {
    "duration": 16,
    "start_time": "2022-01-05T17:47:07.464Z"
   },
   {
    "duration": 16,
    "start_time": "2022-01-05T17:47:25.245Z"
   },
   {
    "duration": 1936,
    "start_time": "2022-01-06T13:56:26.952Z"
   },
   {
    "duration": 46,
    "start_time": "2022-01-06T13:56:28.891Z"
   },
   {
    "duration": 15,
    "start_time": "2022-01-06T13:56:28.940Z"
   },
   {
    "duration": 26,
    "start_time": "2022-01-06T13:56:28.959Z"
   },
   {
    "duration": 75,
    "start_time": "2022-01-06T13:56:28.987Z"
   },
   {
    "duration": 90,
    "start_time": "2022-01-06T13:56:29.064Z"
   },
   {
    "duration": 30,
    "start_time": "2022-01-06T13:56:29.157Z"
   },
   {
    "duration": 52,
    "start_time": "2022-01-06T13:56:29.193Z"
   },
   {
    "duration": 22,
    "start_time": "2022-01-06T13:56:29.249Z"
   },
   {
    "duration": 10,
    "start_time": "2022-01-06T13:56:29.273Z"
   },
   {
    "duration": 40,
    "start_time": "2022-01-06T13:56:29.286Z"
   },
   {
    "duration": 8,
    "start_time": "2022-01-06T13:56:29.328Z"
   },
   {
    "duration": 8,
    "start_time": "2022-01-06T13:56:29.339Z"
   },
   {
    "duration": 18,
    "start_time": "2022-01-06T13:56:29.350Z"
   },
   {
    "duration": 54,
    "start_time": "2022-01-06T13:56:29.371Z"
   },
   {
    "duration": 10,
    "start_time": "2022-01-06T13:56:29.428Z"
   },
   {
    "duration": 7,
    "start_time": "2022-01-06T13:56:29.440Z"
   },
   {
    "duration": 10,
    "start_time": "2022-01-06T13:56:29.450Z"
   },
   {
    "duration": 733,
    "start_time": "2022-01-06T13:56:29.463Z"
   },
   {
    "duration": 520,
    "start_time": "2022-01-06T13:56:30.200Z"
   },
   {
    "duration": 1112,
    "start_time": "2022-01-06T13:56:30.724Z"
   },
   {
    "duration": 13,
    "start_time": "2022-01-06T13:56:31.839Z"
   },
   {
    "duration": 15,
    "start_time": "2022-01-06T13:56:31.860Z"
   },
   {
    "duration": 663,
    "start_time": "2022-01-06T13:56:31.878Z"
   },
   {
    "duration": 49,
    "start_time": "2022-01-06T13:56:32.544Z"
   },
   {
    "duration": 9,
    "start_time": "2022-01-06T13:56:32.625Z"
   },
   {
    "duration": 26,
    "start_time": "2022-01-06T13:56:32.637Z"
   },
   {
    "duration": 574,
    "start_time": "2022-01-06T13:56:32.666Z"
   },
   {
    "duration": 896,
    "start_time": "2022-01-06T13:56:33.243Z"
   },
   {
    "duration": 985,
    "start_time": "2022-01-06T13:56:34.141Z"
   },
   {
    "duration": 125,
    "start_time": "2022-01-06T13:56:35.129Z"
   },
   {
    "duration": 419,
    "start_time": "2022-01-06T13:56:35.257Z"
   },
   {
    "duration": 417,
    "start_time": "2022-01-06T13:56:35.678Z"
   },
   {
    "duration": 29,
    "start_time": "2022-01-06T13:56:36.098Z"
   },
   {
    "duration": 18,
    "start_time": "2022-01-06T13:56:36.130Z"
   },
   {
    "duration": 16,
    "start_time": "2022-01-06T13:56:36.150Z"
   },
   {
    "duration": 56,
    "start_time": "2022-01-06T13:56:36.169Z"
   },
   {
    "duration": 17,
    "start_time": "2022-01-06T13:56:36.227Z"
   },
   {
    "duration": 17,
    "start_time": "2022-01-06T13:56:36.246Z"
   },
   {
    "duration": 63,
    "start_time": "2022-01-06T13:56:36.266Z"
   },
   {
    "duration": 15,
    "start_time": "2022-01-06T13:56:36.331Z"
   },
   {
    "duration": 14,
    "start_time": "2022-01-06T13:56:36.348Z"
   },
   {
    "duration": 65,
    "start_time": "2022-01-06T13:56:36.365Z"
   },
   {
    "duration": 21,
    "start_time": "2022-01-06T13:56:36.433Z"
   },
   {
    "duration": 581,
    "start_time": "2022-01-06T13:57:19.801Z"
   },
   {
    "duration": 2000,
    "start_time": "2022-01-06T13:57:48.284Z"
   },
   {
    "duration": 61,
    "start_time": "2022-01-06T13:57:50.287Z"
   },
   {
    "duration": 15,
    "start_time": "2022-01-06T13:57:50.351Z"
   },
   {
    "duration": 26,
    "start_time": "2022-01-06T13:57:50.370Z"
   },
   {
    "duration": 68,
    "start_time": "2022-01-06T13:57:50.398Z"
   },
   {
    "duration": 80,
    "start_time": "2022-01-06T13:57:50.468Z"
   },
   {
    "duration": 24,
    "start_time": "2022-01-06T13:57:50.550Z"
   },
   {
    "duration": 54,
    "start_time": "2022-01-06T13:57:50.577Z"
   },
   {
    "duration": 21,
    "start_time": "2022-01-06T13:57:50.638Z"
   },
   {
    "duration": 11,
    "start_time": "2022-01-06T13:57:50.663Z"
   },
   {
    "duration": 13,
    "start_time": "2022-01-06T13:57:50.676Z"
   },
   {
    "duration": 34,
    "start_time": "2022-01-06T13:57:50.691Z"
   },
   {
    "duration": 9,
    "start_time": "2022-01-06T13:57:50.728Z"
   },
   {
    "duration": 25,
    "start_time": "2022-01-06T13:57:50.740Z"
   },
   {
    "duration": 13,
    "start_time": "2022-01-06T13:57:50.769Z"
   },
   {
    "duration": 46,
    "start_time": "2022-01-06T13:57:50.785Z"
   },
   {
    "duration": 8,
    "start_time": "2022-01-06T13:57:50.835Z"
   },
   {
    "duration": 9,
    "start_time": "2022-01-06T13:57:50.847Z"
   },
   {
    "duration": 525,
    "start_time": "2022-01-06T13:57:50.859Z"
   },
   {
    "duration": 372,
    "start_time": "2022-01-06T13:57:51.387Z"
   },
   {
    "duration": 652,
    "start_time": "2022-01-06T13:57:51.762Z"
   },
   {
    "duration": 10,
    "start_time": "2022-01-06T13:57:52.424Z"
   },
   {
    "duration": 9,
    "start_time": "2022-01-06T13:57:52.437Z"
   },
   {
    "duration": 547,
    "start_time": "2022-01-06T13:57:52.448Z"
   },
   {
    "duration": 75,
    "start_time": "2022-01-06T13:57:52.998Z"
   },
   {
    "duration": 10,
    "start_time": "2022-01-06T13:57:53.076Z"
   },
   {
    "duration": 34,
    "start_time": "2022-01-06T13:57:53.096Z"
   },
   {
    "duration": 782,
    "start_time": "2022-01-06T13:57:53.134Z"
   },
   {
    "duration": 831,
    "start_time": "2022-01-06T13:57:53.919Z"
   },
   {
    "duration": 916,
    "start_time": "2022-01-06T13:57:54.752Z"
   },
   {
    "duration": 130,
    "start_time": "2022-01-06T13:57:55.670Z"
   },
   {
    "duration": 409,
    "start_time": "2022-01-06T13:57:55.804Z"
   },
   {
    "duration": 411,
    "start_time": "2022-01-06T13:57:56.215Z"
   },
   {
    "duration": 19,
    "start_time": "2022-01-06T13:57:56.629Z"
   },
   {
    "duration": 29,
    "start_time": "2022-01-06T13:57:56.652Z"
   },
   {
    "duration": 47,
    "start_time": "2022-01-06T13:57:56.684Z"
   },
   {
    "duration": 19,
    "start_time": "2022-01-06T13:57:56.734Z"
   },
   {
    "duration": 20,
    "start_time": "2022-01-06T13:57:56.757Z"
   },
   {
    "duration": 61,
    "start_time": "2022-01-06T13:57:56.780Z"
   },
   {
    "duration": 18,
    "start_time": "2022-01-06T13:57:56.844Z"
   },
   {
    "duration": 18,
    "start_time": "2022-01-06T13:57:56.865Z"
   },
   {
    "duration": 51,
    "start_time": "2022-01-06T13:57:56.885Z"
   },
   {
    "duration": 23,
    "start_time": "2022-01-06T13:57:56.939Z"
   },
   {
    "duration": 60,
    "start_time": "2022-01-06T13:57:56.965Z"
   },
   {
    "duration": 537,
    "start_time": "2022-01-06T13:57:57.029Z"
   },
   {
    "duration": 46,
    "start_time": "2022-01-06T13:58:31.989Z"
   },
   {
    "duration": 87,
    "start_time": "2022-01-06T13:58:53.832Z"
   },
   {
    "duration": 15,
    "start_time": "2022-01-06T14:05:24.644Z"
   },
   {
    "duration": 11,
    "start_time": "2022-01-06T14:20:06.734Z"
   },
   {
    "duration": 10,
    "start_time": "2022-01-06T14:20:18.706Z"
   },
   {
    "duration": 12,
    "start_time": "2022-01-06T14:20:31.271Z"
   },
   {
    "duration": 9,
    "start_time": "2022-01-06T14:20:38.506Z"
   },
   {
    "duration": 49,
    "start_time": "2022-01-06T14:32:59.112Z"
   },
   {
    "duration": 38,
    "start_time": "2022-01-06T14:34:35.770Z"
   },
   {
    "duration": 36,
    "start_time": "2022-01-06T14:35:42.151Z"
   },
   {
    "duration": 48,
    "start_time": "2022-01-06T14:46:48.571Z"
   },
   {
    "duration": 37,
    "start_time": "2022-01-06T14:47:09.485Z"
   },
   {
    "duration": 883,
    "start_time": "2022-01-06T14:47:28.240Z"
   },
   {
    "duration": 59,
    "start_time": "2022-01-06T14:47:39.248Z"
   },
   {
    "duration": 2185,
    "start_time": "2022-01-08T18:37:25.686Z"
   },
   {
    "duration": 45,
    "start_time": "2022-01-08T18:37:27.874Z"
   },
   {
    "duration": 13,
    "start_time": "2022-01-08T18:37:27.925Z"
   },
   {
    "duration": 24,
    "start_time": "2022-01-08T18:37:27.940Z"
   },
   {
    "duration": 69,
    "start_time": "2022-01-08T18:37:27.966Z"
   },
   {
    "duration": 47,
    "start_time": "2022-01-08T18:37:28.038Z"
   },
   {
    "duration": 42,
    "start_time": "2022-01-08T18:37:28.089Z"
   },
   {
    "duration": 27,
    "start_time": "2022-01-08T18:37:28.135Z"
   },
   {
    "duration": 22,
    "start_time": "2022-01-08T18:37:28.165Z"
   },
   {
    "duration": 45,
    "start_time": "2022-01-08T18:37:28.189Z"
   },
   {
    "duration": 16,
    "start_time": "2022-01-08T18:37:28.237Z"
   },
   {
    "duration": 10,
    "start_time": "2022-01-08T18:37:28.256Z"
   },
   {
    "duration": 8,
    "start_time": "2022-01-08T18:37:28.270Z"
   },
   {
    "duration": 52,
    "start_time": "2022-01-08T18:37:28.281Z"
   },
   {
    "duration": 12,
    "start_time": "2022-01-08T18:37:28.337Z"
   },
   {
    "duration": 8,
    "start_time": "2022-01-08T18:37:28.352Z"
   },
   {
    "duration": 8,
    "start_time": "2022-01-08T18:37:28.365Z"
   },
   {
    "duration": 15,
    "start_time": "2022-01-08T18:37:28.376Z"
   },
   {
    "duration": 514,
    "start_time": "2022-01-08T18:37:28.394Z"
   },
   {
    "duration": 359,
    "start_time": "2022-01-08T18:37:28.911Z"
   },
   {
    "duration": 618,
    "start_time": "2022-01-08T18:37:29.272Z"
   },
   {
    "duration": 10,
    "start_time": "2022-01-08T18:37:29.895Z"
   },
   {
    "duration": 11,
    "start_time": "2022-01-08T18:37:29.922Z"
   },
   {
    "duration": 513,
    "start_time": "2022-01-08T18:37:29.935Z"
   },
   {
    "duration": 40,
    "start_time": "2022-01-08T18:37:30.451Z"
   },
   {
    "duration": 30,
    "start_time": "2022-01-08T18:37:30.494Z"
   },
   {
    "duration": 9,
    "start_time": "2022-01-08T18:37:30.526Z"
   },
   {
    "duration": 518,
    "start_time": "2022-01-08T18:37:30.538Z"
   },
   {
    "duration": 794,
    "start_time": "2022-01-08T18:37:31.059Z"
   },
   {
    "duration": 888,
    "start_time": "2022-01-08T18:37:31.855Z"
   },
   {
    "duration": 111,
    "start_time": "2022-01-08T18:37:32.745Z"
   },
   {
    "duration": 381,
    "start_time": "2022-01-08T18:37:32.859Z"
   },
   {
    "duration": 383,
    "start_time": "2022-01-08T18:37:33.243Z"
   },
   {
    "duration": 18,
    "start_time": "2022-01-08T18:37:33.628Z"
   },
   {
    "duration": 18,
    "start_time": "2022-01-08T18:37:33.648Z"
   },
   {
    "duration": 16,
    "start_time": "2022-01-08T18:37:33.668Z"
   },
   {
    "duration": 49,
    "start_time": "2022-01-08T18:37:33.686Z"
   },
   {
    "duration": 15,
    "start_time": "2022-01-08T18:37:33.737Z"
   },
   {
    "duration": 15,
    "start_time": "2022-01-08T18:37:33.754Z"
   },
   {
    "duration": 53,
    "start_time": "2022-01-08T18:37:33.772Z"
   },
   {
    "duration": 13,
    "start_time": "2022-01-08T18:37:33.827Z"
   },
   {
    "duration": 12,
    "start_time": "2022-01-08T18:37:33.842Z"
   },
   {
    "duration": 16,
    "start_time": "2022-01-08T18:37:33.855Z"
   },
   {
    "duration": 51,
    "start_time": "2022-01-08T18:37:33.873Z"
   },
   {
    "duration": 1471,
    "start_time": "2022-01-08T18:39:16.713Z"
   },
   {
    "duration": 46,
    "start_time": "2022-01-08T18:39:18.187Z"
   },
   {
    "duration": 15,
    "start_time": "2022-01-08T18:39:18.237Z"
   },
   {
    "duration": 25,
    "start_time": "2022-01-08T18:39:18.255Z"
   },
   {
    "duration": 69,
    "start_time": "2022-01-08T18:39:18.282Z"
   },
   {
    "duration": 47,
    "start_time": "2022-01-08T18:39:18.354Z"
   },
   {
    "duration": 40,
    "start_time": "2022-01-08T18:39:18.403Z"
   },
   {
    "duration": 23,
    "start_time": "2022-01-08T18:39:18.447Z"
   },
   {
    "duration": 18,
    "start_time": "2022-01-08T18:39:18.473Z"
   },
   {
    "duration": 34,
    "start_time": "2022-01-08T18:39:18.493Z"
   },
   {
    "duration": 8,
    "start_time": "2022-01-08T18:39:18.530Z"
   },
   {
    "duration": 7,
    "start_time": "2022-01-08T18:39:18.540Z"
   },
   {
    "duration": 7,
    "start_time": "2022-01-08T18:39:18.549Z"
   },
   {
    "duration": 16,
    "start_time": "2022-01-08T18:39:18.558Z"
   },
   {
    "duration": 53,
    "start_time": "2022-01-08T18:39:18.576Z"
   },
   {
    "duration": 7,
    "start_time": "2022-01-08T18:39:18.631Z"
   },
   {
    "duration": 6,
    "start_time": "2022-01-08T18:39:18.640Z"
   },
   {
    "duration": 6,
    "start_time": "2022-01-08T18:39:18.649Z"
   },
   {
    "duration": 481,
    "start_time": "2022-01-08T18:39:18.657Z"
   },
   {
    "duration": 341,
    "start_time": "2022-01-08T18:39:19.140Z"
   },
   {
    "duration": 606,
    "start_time": "2022-01-08T18:39:19.484Z"
   },
   {
    "duration": 10,
    "start_time": "2022-01-08T18:39:20.092Z"
   },
   {
    "duration": 8,
    "start_time": "2022-01-08T18:39:20.123Z"
   },
   {
    "duration": 582,
    "start_time": "2022-01-08T18:39:20.134Z"
   },
   {
    "duration": 41,
    "start_time": "2022-01-08T18:39:20.719Z"
   },
   {
    "duration": 7,
    "start_time": "2022-01-08T18:39:20.762Z"
   },
   {
    "duration": 9,
    "start_time": "2022-01-08T18:39:20.771Z"
   },
   {
    "duration": 527,
    "start_time": "2022-01-08T18:39:20.783Z"
   },
   {
    "duration": 884,
    "start_time": "2022-01-08T18:39:21.312Z"
   },
   {
    "duration": 860,
    "start_time": "2022-01-08T18:39:22.199Z"
   },
   {
    "duration": 119,
    "start_time": "2022-01-08T18:39:23.061Z"
   },
   {
    "duration": 374,
    "start_time": "2022-01-08T18:39:23.183Z"
   },
   {
    "duration": 375,
    "start_time": "2022-01-08T18:39:23.559Z"
   },
   {
    "duration": 19,
    "start_time": "2022-01-08T18:39:23.937Z"
   },
   {
    "duration": 15,
    "start_time": "2022-01-08T18:39:23.958Z"
   },
   {
    "duration": 52,
    "start_time": "2022-01-08T18:39:23.976Z"
   },
   {
    "duration": 16,
    "start_time": "2022-01-08T18:39:24.030Z"
   },
   {
    "duration": 15,
    "start_time": "2022-01-08T18:39:24.049Z"
   },
   {
    "duration": 16,
    "start_time": "2022-01-08T18:39:24.066Z"
   },
   {
    "duration": 48,
    "start_time": "2022-01-08T18:39:24.085Z"
   },
   {
    "duration": 12,
    "start_time": "2022-01-08T18:39:24.136Z"
   },
   {
    "duration": 13,
    "start_time": "2022-01-08T18:39:24.150Z"
   },
   {
    "duration": 15,
    "start_time": "2022-01-08T18:39:24.165Z"
   },
   {
    "duration": 52,
    "start_time": "2022-01-08T18:39:24.182Z"
   },
   {
    "duration": 1462,
    "start_time": "2022-03-26T16:39:00.471Z"
   },
   {
    "duration": 38,
    "start_time": "2022-03-26T16:39:01.935Z"
   },
   {
    "duration": 6,
    "start_time": "2022-03-26T16:39:01.974Z"
   },
   {
    "duration": 119,
    "start_time": "2022-03-26T16:39:01.983Z"
   },
   {
    "duration": 12,
    "start_time": "2022-03-26T16:39:02.104Z"
   },
   {
    "duration": 9,
    "start_time": "2022-03-26T16:39:02.117Z"
   },
   {
    "duration": 9,
    "start_time": "2022-03-26T16:39:02.128Z"
   },
   {
    "duration": 24,
    "start_time": "2022-03-26T16:39:02.139Z"
   },
   {
    "duration": 12,
    "start_time": "2022-03-26T16:39:02.164Z"
   },
   {
    "duration": 19,
    "start_time": "2022-03-26T16:39:02.179Z"
   },
   {
    "duration": 9,
    "start_time": "2022-03-26T16:39:02.199Z"
   },
   {
    "duration": 14,
    "start_time": "2022-03-26T16:39:02.210Z"
   },
   {
    "duration": 6,
    "start_time": "2022-03-26T16:39:02.226Z"
   },
   {
    "duration": 7,
    "start_time": "2022-03-26T16:39:02.234Z"
   },
   {
    "duration": 200,
    "start_time": "2022-03-26T16:39:02.243Z"
   },
   {
    "duration": 133,
    "start_time": "2022-03-26T16:39:02.444Z"
   },
   {
    "duration": 300,
    "start_time": "2022-03-26T16:39:02.578Z"
   },
   {
    "duration": 8,
    "start_time": "2022-03-26T16:39:02.880Z"
   },
   {
    "duration": 10,
    "start_time": "2022-03-26T16:39:02.889Z"
   },
   {
    "duration": 251,
    "start_time": "2022-03-26T16:39:02.900Z"
   },
   {
    "duration": 28,
    "start_time": "2022-03-26T16:39:03.153Z"
   },
   {
    "duration": 5,
    "start_time": "2022-03-26T16:39:03.183Z"
   },
   {
    "duration": 10,
    "start_time": "2022-03-26T16:39:03.190Z"
   },
   {
    "duration": 264,
    "start_time": "2022-03-26T16:39:03.202Z"
   },
   {
    "duration": 257,
    "start_time": "2022-03-26T16:39:03.468Z"
   },
   {
    "duration": 346,
    "start_time": "2022-03-26T16:39:03.727Z"
   },
   {
    "duration": 61,
    "start_time": "2022-03-26T16:39:04.074Z"
   },
   {
    "duration": 189,
    "start_time": "2022-03-26T16:39:04.139Z"
   },
   {
    "duration": 179,
    "start_time": "2022-03-26T16:39:04.330Z"
   },
   {
    "duration": 13,
    "start_time": "2022-03-26T16:39:04.511Z"
   },
   {
    "duration": 12,
    "start_time": "2022-03-26T16:39:04.525Z"
   },
   {
    "duration": 37,
    "start_time": "2022-03-26T16:39:04.539Z"
   },
   {
    "duration": 10,
    "start_time": "2022-03-26T16:39:04.578Z"
   },
   {
    "duration": 12,
    "start_time": "2022-03-26T16:39:04.589Z"
   },
   {
    "duration": 11,
    "start_time": "2022-03-26T16:39:04.603Z"
   },
   {
    "duration": 13,
    "start_time": "2022-03-26T16:39:04.615Z"
   },
   {
    "duration": 33,
    "start_time": "2022-03-26T16:39:04.630Z"
   },
   {
    "duration": 11,
    "start_time": "2022-03-26T16:39:04.664Z"
   },
   {
    "duration": 13,
    "start_time": "2022-03-26T16:39:04.676Z"
   },
   {
    "duration": 11,
    "start_time": "2022-03-26T16:39:04.691Z"
   }
  ],
  "kernelspec": {
   "display_name": "Python 3 (ipykernel)",
   "language": "python",
   "name": "python3"
  },
  "language_info": {
   "codemirror_mode": {
    "name": "ipython",
    "version": 3
   },
   "file_extension": ".py",
   "mimetype": "text/x-python",
   "name": "python",
   "nbconvert_exporter": "python",
   "pygments_lexer": "ipython3",
   "version": "3.9.5"
  },
  "toc": {
   "base_numbering": 1,
   "nav_menu": {},
   "number_sections": true,
   "sideBar": true,
   "skip_h1_title": true,
   "title_cell": "Table of Contents",
   "title_sidebar": "Contents",
   "toc_cell": false,
   "toc_position": {},
   "toc_section_display": true,
   "toc_window_display": false
  }
 },
 "nbformat": 4,
 "nbformat_minor": 2
}


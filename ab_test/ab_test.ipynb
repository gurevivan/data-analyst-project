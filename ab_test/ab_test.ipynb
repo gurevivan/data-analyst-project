{
 "cells": [
  {
   "cell_type": "markdown",
   "metadata": {},
   "source": [
    "## Приоритизация гипотез"
   ]
  },
  {
   "cell_type": "markdown",
   "metadata": {},
   "source": [
    "### Шаг 1. Загрузка данных и подготовка их к анализу"
   ]
  },
  {
   "cell_type": "code",
   "execution_count": 1,
   "metadata": {
    "scrolled": false
   },
   "outputs": [],
   "source": [
    "import pandas as pd # импорт библиотеки pandas\n",
    "import numpy as np # импорт библиотеки numpy\n",
    "from datetime import datetime, timedelta # импорт библиотеки datetime\n",
    "from matplotlib import pyplot as plt # импорт библиотеки matplotlib\n",
    "import scipy.stats as stats # импорт библиотеки scipy\n",
    "import seaborn as sns # импорт библиотеки seaborn\n",
    "import warnings # импорт библиотеки warnings\n",
    "warnings.filterwarnings('ignore') # фильтр предупреждений\n"
   ]
  },
  {
   "cell_type": "code",
   "execution_count": 2,
   "metadata": {
    "scrolled": false
   },
   "outputs": [],
   "source": [
    "# чтение файла с данными и сохранение в hypothesis \n",
    "try:\n",
    "    hypothesis = pd.read_csv('/datasets/hypothesis.csv')\n",
    "except FileNotFoundError:\n",
    "    print('файл или директория не существует!') "
   ]
  },
  {
   "cell_type": "code",
   "execution_count": 3,
   "metadata": {
    "scrolled": false
   },
   "outputs": [],
   "source": [
    "dict_df = {'Гипотезы': hypothesis} "
   ]
  },
  {
   "cell_type": "code",
   "execution_count": 4,
   "metadata": {
    "scrolled": false
   },
   "outputs": [],
   "source": [
    "# функция получения информации\n",
    "def get_info(name, df): \n",
    "    \n",
    "    print('Первые 5 строк таблицы', name)\n",
    "    display(df.head())\n",
    "    print()\n",
    "    print('Сводная информация о таблице', name)\n",
    "    print()\n",
    "    df.info()\n",
    "    print()\n",
    "    print('Описательная статистика таблицы', name)\n",
    "    display(df.describe())\n",
    "    print()\n",
    "    print('Дубликатов в таблице', name, ':', df.duplicated().sum())\n",
    "    print()"
   ]
  },
  {
   "cell_type": "code",
   "execution_count": 5,
   "metadata": {},
   "outputs": [],
   "source": [
    "pd.set_option('display.max_columns', None)\n",
    "pd.options.display.max_colwidth = 150 "
   ]
  },
  {
   "cell_type": "code",
   "execution_count": 6,
   "metadata": {
    "scrolled": false
   },
   "outputs": [
    {
     "name": "stdout",
     "output_type": "stream",
     "text": [
      "Первые 5 строк таблицы Гипотезы\n"
     ]
    },
    {
     "data": {
      "text/html": [
       "<div>\n",
       "<style scoped>\n",
       "    .dataframe tbody tr th:only-of-type {\n",
       "        vertical-align: middle;\n",
       "    }\n",
       "\n",
       "    .dataframe tbody tr th {\n",
       "        vertical-align: top;\n",
       "    }\n",
       "\n",
       "    .dataframe thead th {\n",
       "        text-align: right;\n",
       "    }\n",
       "</style>\n",
       "<table border=\"1\" class=\"dataframe\">\n",
       "  <thead>\n",
       "    <tr style=\"text-align: right;\">\n",
       "      <th></th>\n",
       "      <th>Hypothesis</th>\n",
       "      <th>Reach</th>\n",
       "      <th>Impact</th>\n",
       "      <th>Confidence</th>\n",
       "      <th>Efforts</th>\n",
       "    </tr>\n",
       "  </thead>\n",
       "  <tbody>\n",
       "    <tr>\n",
       "      <td>0</td>\n",
       "      <td>Добавить два новых канала привлечения трафика, что позволит привлекать на 30% больше пользователей</td>\n",
       "      <td>3</td>\n",
       "      <td>10</td>\n",
       "      <td>8</td>\n",
       "      <td>6</td>\n",
       "    </tr>\n",
       "    <tr>\n",
       "      <td>1</td>\n",
       "      <td>Запустить собственную службу доставки, что сократит срок доставки заказов</td>\n",
       "      <td>2</td>\n",
       "      <td>5</td>\n",
       "      <td>4</td>\n",
       "      <td>10</td>\n",
       "    </tr>\n",
       "    <tr>\n",
       "      <td>2</td>\n",
       "      <td>Добавить блоки рекомендаций товаров на сайт интернет магазина, чтобы повысить конверсию и средний чек заказа</td>\n",
       "      <td>8</td>\n",
       "      <td>3</td>\n",
       "      <td>7</td>\n",
       "      <td>3</td>\n",
       "    </tr>\n",
       "    <tr>\n",
       "      <td>3</td>\n",
       "      <td>Изменить структура категорий, что увеличит конверсию, т.к. пользователи быстрее найдут нужный товар</td>\n",
       "      <td>8</td>\n",
       "      <td>3</td>\n",
       "      <td>3</td>\n",
       "      <td>8</td>\n",
       "    </tr>\n",
       "    <tr>\n",
       "      <td>4</td>\n",
       "      <td>Изменить цвет фона главной страницы, чтобы увеличить вовлеченность пользователей</td>\n",
       "      <td>3</td>\n",
       "      <td>1</td>\n",
       "      <td>1</td>\n",
       "      <td>1</td>\n",
       "    </tr>\n",
       "  </tbody>\n",
       "</table>\n",
       "</div>"
      ],
      "text/plain": [
       "                                                                                                     Hypothesis  \\\n",
       "0            Добавить два новых канала привлечения трафика, что позволит привлекать на 30% больше пользователей   \n",
       "1                                     Запустить собственную службу доставки, что сократит срок доставки заказов   \n",
       "2  Добавить блоки рекомендаций товаров на сайт интернет магазина, чтобы повысить конверсию и средний чек заказа   \n",
       "3           Изменить структура категорий, что увеличит конверсию, т.к. пользователи быстрее найдут нужный товар   \n",
       "4                              Изменить цвет фона главной страницы, чтобы увеличить вовлеченность пользователей   \n",
       "\n",
       "   Reach  Impact  Confidence  Efforts  \n",
       "0      3      10           8        6  \n",
       "1      2       5           4       10  \n",
       "2      8       3           7        3  \n",
       "3      8       3           3        8  \n",
       "4      3       1           1        1  "
      ]
     },
     "metadata": {},
     "output_type": "display_data"
    },
    {
     "name": "stdout",
     "output_type": "stream",
     "text": [
      "\n",
      "Сводная информация о таблице Гипотезы\n",
      "\n",
      "<class 'pandas.core.frame.DataFrame'>\n",
      "RangeIndex: 9 entries, 0 to 8\n",
      "Data columns (total 5 columns):\n",
      "Hypothesis    9 non-null object\n",
      "Reach         9 non-null int64\n",
      "Impact        9 non-null int64\n",
      "Confidence    9 non-null int64\n",
      "Efforts       9 non-null int64\n",
      "dtypes: int64(4), object(1)\n",
      "memory usage: 488.0+ bytes\n",
      "\n",
      "Описательная статистика таблицы Гипотезы\n"
     ]
    },
    {
     "data": {
      "text/html": [
       "<div>\n",
       "<style scoped>\n",
       "    .dataframe tbody tr th:only-of-type {\n",
       "        vertical-align: middle;\n",
       "    }\n",
       "\n",
       "    .dataframe tbody tr th {\n",
       "        vertical-align: top;\n",
       "    }\n",
       "\n",
       "    .dataframe thead th {\n",
       "        text-align: right;\n",
       "    }\n",
       "</style>\n",
       "<table border=\"1\" class=\"dataframe\">\n",
       "  <thead>\n",
       "    <tr style=\"text-align: right;\">\n",
       "      <th></th>\n",
       "      <th>Reach</th>\n",
       "      <th>Impact</th>\n",
       "      <th>Confidence</th>\n",
       "      <th>Efforts</th>\n",
       "    </tr>\n",
       "  </thead>\n",
       "  <tbody>\n",
       "    <tr>\n",
       "      <td>count</td>\n",
       "      <td>9.000000</td>\n",
       "      <td>9.000000</td>\n",
       "      <td>9.000000</td>\n",
       "      <td>9.000000</td>\n",
       "    </tr>\n",
       "    <tr>\n",
       "      <td>mean</td>\n",
       "      <td>4.777778</td>\n",
       "      <td>4.777778</td>\n",
       "      <td>5.555556</td>\n",
       "      <td>4.888889</td>\n",
       "    </tr>\n",
       "    <tr>\n",
       "      <td>std</td>\n",
       "      <td>3.153481</td>\n",
       "      <td>3.192874</td>\n",
       "      <td>3.045944</td>\n",
       "      <td>2.803767</td>\n",
       "    </tr>\n",
       "    <tr>\n",
       "      <td>min</td>\n",
       "      <td>1.000000</td>\n",
       "      <td>1.000000</td>\n",
       "      <td>1.000000</td>\n",
       "      <td>1.000000</td>\n",
       "    </tr>\n",
       "    <tr>\n",
       "      <td>25%</td>\n",
       "      <td>3.000000</td>\n",
       "      <td>3.000000</td>\n",
       "      <td>3.000000</td>\n",
       "      <td>3.000000</td>\n",
       "    </tr>\n",
       "    <tr>\n",
       "      <td>50%</td>\n",
       "      <td>3.000000</td>\n",
       "      <td>3.000000</td>\n",
       "      <td>7.000000</td>\n",
       "      <td>5.000000</td>\n",
       "    </tr>\n",
       "    <tr>\n",
       "      <td>75%</td>\n",
       "      <td>8.000000</td>\n",
       "      <td>7.000000</td>\n",
       "      <td>8.000000</td>\n",
       "      <td>6.000000</td>\n",
       "    </tr>\n",
       "    <tr>\n",
       "      <td>max</td>\n",
       "      <td>10.000000</td>\n",
       "      <td>10.000000</td>\n",
       "      <td>9.000000</td>\n",
       "      <td>10.000000</td>\n",
       "    </tr>\n",
       "  </tbody>\n",
       "</table>\n",
       "</div>"
      ],
      "text/plain": [
       "           Reach     Impact  Confidence    Efforts\n",
       "count   9.000000   9.000000    9.000000   9.000000\n",
       "mean    4.777778   4.777778    5.555556   4.888889\n",
       "std     3.153481   3.192874    3.045944   2.803767\n",
       "min     1.000000   1.000000    1.000000   1.000000\n",
       "25%     3.000000   3.000000    3.000000   3.000000\n",
       "50%     3.000000   3.000000    7.000000   5.000000\n",
       "75%     8.000000   7.000000    8.000000   6.000000\n",
       "max    10.000000  10.000000    9.000000  10.000000"
      ]
     },
     "metadata": {},
     "output_type": "display_data"
    },
    {
     "name": "stdout",
     "output_type": "stream",
     "text": [
      "\n",
      "Дубликатов в таблице Гипотезы : 0\n",
      "\n"
     ]
    }
   ],
   "source": [
    "# получаем информацию по таблицам\n",
    "for dfd in dict_df:\n",
    "    get_info(dfd, dict_df[dfd])"
   ]
  },
  {
   "cell_type": "code",
   "execution_count": 7,
   "metadata": {
    "scrolled": false
   },
   "outputs": [],
   "source": [
    "# перевод названия столбцов к змеиному регистру\n",
    "for dfd in dict_df:\n",
    "    dict_df[dfd].columns = dict_df[dfd].columns.str.lower()"
   ]
  },
  {
   "cell_type": "markdown",
   "metadata": {},
   "source": [
    "### Шаг 2. Применение фреймворка ICE для приоритизации гипотез"
   ]
  },
  {
   "cell_type": "code",
   "execution_count": 8,
   "metadata": {
    "scrolled": false
   },
   "outputs": [
    {
     "data": {
      "text/html": [
       "<div>\n",
       "<style scoped>\n",
       "    .dataframe tbody tr th:only-of-type {\n",
       "        vertical-align: middle;\n",
       "    }\n",
       "\n",
       "    .dataframe tbody tr th {\n",
       "        vertical-align: top;\n",
       "    }\n",
       "\n",
       "    .dataframe thead th {\n",
       "        text-align: right;\n",
       "    }\n",
       "</style>\n",
       "<table border=\"1\" class=\"dataframe\">\n",
       "  <thead>\n",
       "    <tr style=\"text-align: right;\">\n",
       "      <th></th>\n",
       "      <th>hypothesis</th>\n",
       "      <th>ICE</th>\n",
       "    </tr>\n",
       "  </thead>\n",
       "  <tbody>\n",
       "    <tr>\n",
       "      <td>8</td>\n",
       "      <td>Запустить акцию, дающую скидку на товар в день рождения</td>\n",
       "      <td>16.2</td>\n",
       "    </tr>\n",
       "    <tr>\n",
       "      <td>0</td>\n",
       "      <td>Добавить два новых канала привлечения трафика, что позволит привлекать на 30% больше пользователей</td>\n",
       "      <td>13.3</td>\n",
       "    </tr>\n",
       "    <tr>\n",
       "      <td>7</td>\n",
       "      <td>Добавить форму подписки на все основные страницы, чтобы собрать базу клиентов для email-рассылок</td>\n",
       "      <td>11.2</td>\n",
       "    </tr>\n",
       "    <tr>\n",
       "      <td>6</td>\n",
       "      <td>Показать на главной странице баннеры с актуальными акциями и распродажами, чтобы увеличить конверсию</td>\n",
       "      <td>8.0</td>\n",
       "    </tr>\n",
       "    <tr>\n",
       "      <td>2</td>\n",
       "      <td>Добавить блоки рекомендаций товаров на сайт интернет магазина, чтобы повысить конверсию и средний чек заказа</td>\n",
       "      <td>7.0</td>\n",
       "    </tr>\n",
       "    <tr>\n",
       "      <td>1</td>\n",
       "      <td>Запустить собственную службу доставки, что сократит срок доставки заказов</td>\n",
       "      <td>2.0</td>\n",
       "    </tr>\n",
       "    <tr>\n",
       "      <td>5</td>\n",
       "      <td>Добавить страницу отзывов клиентов о магазине, что позволит увеличить количество заказов</td>\n",
       "      <td>1.3</td>\n",
       "    </tr>\n",
       "    <tr>\n",
       "      <td>3</td>\n",
       "      <td>Изменить структура категорий, что увеличит конверсию, т.к. пользователи быстрее найдут нужный товар</td>\n",
       "      <td>1.1</td>\n",
       "    </tr>\n",
       "    <tr>\n",
       "      <td>4</td>\n",
       "      <td>Изменить цвет фона главной страницы, чтобы увеличить вовлеченность пользователей</td>\n",
       "      <td>1.0</td>\n",
       "    </tr>\n",
       "  </tbody>\n",
       "</table>\n",
       "</div>"
      ],
      "text/plain": [
       "                                                                                                     hypothesis  \\\n",
       "8                                                       Запустить акцию, дающую скидку на товар в день рождения   \n",
       "0            Добавить два новых канала привлечения трафика, что позволит привлекать на 30% больше пользователей   \n",
       "7              Добавить форму подписки на все основные страницы, чтобы собрать базу клиентов для email-рассылок   \n",
       "6          Показать на главной странице баннеры с актуальными акциями и распродажами, чтобы увеличить конверсию   \n",
       "2  Добавить блоки рекомендаций товаров на сайт интернет магазина, чтобы повысить конверсию и средний чек заказа   \n",
       "1                                     Запустить собственную службу доставки, что сократит срок доставки заказов   \n",
       "5                      Добавить страницу отзывов клиентов о магазине, что позволит увеличить количество заказов   \n",
       "3           Изменить структура категорий, что увеличит конверсию, т.к. пользователи быстрее найдут нужный товар   \n",
       "4                              Изменить цвет фона главной страницы, чтобы увеличить вовлеченность пользователей   \n",
       "\n",
       "    ICE  \n",
       "8  16.2  \n",
       "0  13.3  \n",
       "7  11.2  \n",
       "6   8.0  \n",
       "2   7.0  \n",
       "1   2.0  \n",
       "5   1.3  \n",
       "3   1.1  \n",
       "4   1.0  "
      ]
     },
     "execution_count": 8,
     "metadata": {},
     "output_type": "execute_result"
    }
   ],
   "source": [
    "hypothesis['ICE'] = round(hypothesis['impact']*hypothesis['confidence']/hypothesis['efforts'], 1) # расчитываем ICE\n",
    "hypothesis[['hypothesis', 'ICE']].sort_values(by = 'ICE', ascending=False) # выводим на экран в порядке убывания"
   ]
  },
  {
   "cell_type": "markdown",
   "metadata": {},
   "source": [
    "### Шаг 3. Применение фреймворка RICE для приоритизации гипотез"
   ]
  },
  {
   "cell_type": "code",
   "execution_count": 9,
   "metadata": {
    "scrolled": false
   },
   "outputs": [
    {
     "data": {
      "text/html": [
       "<div>\n",
       "<style scoped>\n",
       "    .dataframe tbody tr th:only-of-type {\n",
       "        vertical-align: middle;\n",
       "    }\n",
       "\n",
       "    .dataframe tbody tr th {\n",
       "        vertical-align: top;\n",
       "    }\n",
       "\n",
       "    .dataframe thead th {\n",
       "        text-align: right;\n",
       "    }\n",
       "</style>\n",
       "<table border=\"1\" class=\"dataframe\">\n",
       "  <thead>\n",
       "    <tr style=\"text-align: right;\">\n",
       "      <th></th>\n",
       "      <th>hypothesis</th>\n",
       "      <th>RICE</th>\n",
       "      <th>reach</th>\n",
       "    </tr>\n",
       "  </thead>\n",
       "  <tbody>\n",
       "    <tr>\n",
       "      <td>7</td>\n",
       "      <td>Добавить форму подписки на все основные страницы, чтобы собрать базу клиентов для email-рассылок</td>\n",
       "      <td>112.0</td>\n",
       "      <td>10</td>\n",
       "    </tr>\n",
       "    <tr>\n",
       "      <td>2</td>\n",
       "      <td>Добавить блоки рекомендаций товаров на сайт интернет магазина, чтобы повысить конверсию и средний чек заказа</td>\n",
       "      <td>56.0</td>\n",
       "      <td>8</td>\n",
       "    </tr>\n",
       "    <tr>\n",
       "      <td>0</td>\n",
       "      <td>Добавить два новых канала привлечения трафика, что позволит привлекать на 30% больше пользователей</td>\n",
       "      <td>40.0</td>\n",
       "      <td>3</td>\n",
       "    </tr>\n",
       "    <tr>\n",
       "      <td>6</td>\n",
       "      <td>Показать на главной странице баннеры с актуальными акциями и распродажами, чтобы увеличить конверсию</td>\n",
       "      <td>40.0</td>\n",
       "      <td>5</td>\n",
       "    </tr>\n",
       "    <tr>\n",
       "      <td>8</td>\n",
       "      <td>Запустить акцию, дающую скидку на товар в день рождения</td>\n",
       "      <td>16.2</td>\n",
       "      <td>1</td>\n",
       "    </tr>\n",
       "    <tr>\n",
       "      <td>3</td>\n",
       "      <td>Изменить структура категорий, что увеличит конверсию, т.к. пользователи быстрее найдут нужный товар</td>\n",
       "      <td>9.0</td>\n",
       "      <td>8</td>\n",
       "    </tr>\n",
       "    <tr>\n",
       "      <td>1</td>\n",
       "      <td>Запустить собственную службу доставки, что сократит срок доставки заказов</td>\n",
       "      <td>4.0</td>\n",
       "      <td>2</td>\n",
       "    </tr>\n",
       "    <tr>\n",
       "      <td>5</td>\n",
       "      <td>Добавить страницу отзывов клиентов о магазине, что позволит увеличить количество заказов</td>\n",
       "      <td>4.0</td>\n",
       "      <td>3</td>\n",
       "    </tr>\n",
       "    <tr>\n",
       "      <td>4</td>\n",
       "      <td>Изменить цвет фона главной страницы, чтобы увеличить вовлеченность пользователей</td>\n",
       "      <td>3.0</td>\n",
       "      <td>3</td>\n",
       "    </tr>\n",
       "  </tbody>\n",
       "</table>\n",
       "</div>"
      ],
      "text/plain": [
       "                                                                                                     hypothesis  \\\n",
       "7              Добавить форму подписки на все основные страницы, чтобы собрать базу клиентов для email-рассылок   \n",
       "2  Добавить блоки рекомендаций товаров на сайт интернет магазина, чтобы повысить конверсию и средний чек заказа   \n",
       "0            Добавить два новых канала привлечения трафика, что позволит привлекать на 30% больше пользователей   \n",
       "6          Показать на главной странице баннеры с актуальными акциями и распродажами, чтобы увеличить конверсию   \n",
       "8                                                       Запустить акцию, дающую скидку на товар в день рождения   \n",
       "3           Изменить структура категорий, что увеличит конверсию, т.к. пользователи быстрее найдут нужный товар   \n",
       "1                                     Запустить собственную службу доставки, что сократит срок доставки заказов   \n",
       "5                      Добавить страницу отзывов клиентов о магазине, что позволит увеличить количество заказов   \n",
       "4                              Изменить цвет фона главной страницы, чтобы увеличить вовлеченность пользователей   \n",
       "\n",
       "    RICE  reach  \n",
       "7  112.0     10  \n",
       "2   56.0      8  \n",
       "0   40.0      3  \n",
       "6   40.0      5  \n",
       "8   16.2      1  \n",
       "3    9.0      8  \n",
       "1    4.0      2  \n",
       "5    4.0      3  \n",
       "4    3.0      3  "
      ]
     },
     "execution_count": 9,
     "metadata": {},
     "output_type": "execute_result"
    }
   ],
   "source": [
    "hypothesis['RICE'] = hypothesis['reach']*hypothesis['impact']*hypothesis['confidence']/hypothesis['efforts'] # расчитываем RICE\n",
    "hypothesis[['hypothesis', 'RICE', 'reach']].sort_values(by = 'RICE', ascending=False) # выводим на экран в порядке убывания"
   ]
  },
  {
   "cell_type": "code",
   "execution_count": 10,
   "metadata": {},
   "outputs": [
    {
     "data": {
      "text/html": [
       "<style  type=\"text/css\" >\n",
       "    #T_d76bfd66_a524_11ec_aeb7_02420a393793row0_col1 {\n",
       "            background-color:  #ff4c4c;\n",
       "            color:  #000000;\n",
       "        }    #T_d76bfd66_a524_11ec_aeb7_02420a393793row0_col2 {\n",
       "            background-color:  #ff0000;\n",
       "            color:  #f1f1f1;\n",
       "        }    #T_d76bfd66_a524_11ec_aeb7_02420a393793row1_col1 {\n",
       "            background-color:  #ff8b8b;\n",
       "            color:  #000000;\n",
       "        }    #T_d76bfd66_a524_11ec_aeb7_02420a393793row1_col2 {\n",
       "            background-color:  #ff7676;\n",
       "            color:  #000000;\n",
       "        }    #T_d76bfd66_a524_11ec_aeb7_02420a393793row2_col1 {\n",
       "            background-color:  #ff2b2b;\n",
       "            color:  #f1f1f1;\n",
       "        }    #T_d76bfd66_a524_11ec_aeb7_02420a393793row2_col2 {\n",
       "            background-color:  #ff9898;\n",
       "            color:  #000000;\n",
       "        }    #T_d76bfd66_a524_11ec_aeb7_02420a393793row3_col1 {\n",
       "            background-color:  #ff7c7c;\n",
       "            color:  #000000;\n",
       "        }    #T_d76bfd66_a524_11ec_aeb7_02420a393793row3_col2 {\n",
       "            background-color:  #ff9898;\n",
       "            color:  #000000;\n",
       "        }    #T_d76bfd66_a524_11ec_aeb7_02420a393793row4_col1 {\n",
       "            background-color:  #ff0000;\n",
       "            color:  #f1f1f1;\n",
       "        }    #T_d76bfd66_a524_11ec_aeb7_02420a393793row4_col2 {\n",
       "            background-color:  #ffcaca;\n",
       "            color:  #000000;\n",
       "        }    #T_d76bfd66_a524_11ec_aeb7_02420a393793row5_col1 {\n",
       "            background-color:  #ffe5e5;\n",
       "            color:  #000000;\n",
       "        }    #T_d76bfd66_a524_11ec_aeb7_02420a393793row5_col2 {\n",
       "            background-color:  #ffd9d9;\n",
       "            color:  #000000;\n",
       "        }    #T_d76bfd66_a524_11ec_aeb7_02420a393793row6_col1 {\n",
       "            background-color:  #ffd7d7;\n",
       "            color:  #000000;\n",
       "        }    #T_d76bfd66_a524_11ec_aeb7_02420a393793row6_col2 {\n",
       "            background-color:  #ffe4e4;\n",
       "            color:  #000000;\n",
       "        }    #T_d76bfd66_a524_11ec_aeb7_02420a393793row7_col1 {\n",
       "            background-color:  #ffe1e1;\n",
       "            color:  #000000;\n",
       "        }    #T_d76bfd66_a524_11ec_aeb7_02420a393793row7_col2 {\n",
       "            background-color:  #ffe4e4;\n",
       "            color:  #000000;\n",
       "        }    #T_d76bfd66_a524_11ec_aeb7_02420a393793row8_col1 {\n",
       "            background-color:  #ffe5e5;\n",
       "            color:  #000000;\n",
       "        }    #T_d76bfd66_a524_11ec_aeb7_02420a393793row8_col2 {\n",
       "            background-color:  #ffe5e5;\n",
       "            color:  #000000;\n",
       "        }</style><table id=\"T_d76bfd66_a524_11ec_aeb7_02420a393793\" ><thead>    <tr>        <th class=\"blank level0\" ></th>        <th class=\"col_heading level0 col0\" >hypothesis</th>        <th class=\"col_heading level0 col1\" >ICE</th>        <th class=\"col_heading level0 col2\" >RICE</th>    </tr></thead><tbody>\n",
       "                <tr>\n",
       "                        <th id=\"T_d76bfd66_a524_11ec_aeb7_02420a393793level0_row0\" class=\"row_heading level0 row0\" >7</th>\n",
       "                        <td id=\"T_d76bfd66_a524_11ec_aeb7_02420a393793row0_col0\" class=\"data row0 col0\" >Добавить форму подписки на все основные страницы, чтобы собрать базу клиентов для email-рассылок</td>\n",
       "                        <td id=\"T_d76bfd66_a524_11ec_aeb7_02420a393793row0_col1\" class=\"data row0 col1\" >11.2</td>\n",
       "                        <td id=\"T_d76bfd66_a524_11ec_aeb7_02420a393793row0_col2\" class=\"data row0 col2\" >112</td>\n",
       "            </tr>\n",
       "            <tr>\n",
       "                        <th id=\"T_d76bfd66_a524_11ec_aeb7_02420a393793level0_row1\" class=\"row_heading level0 row1\" >2</th>\n",
       "                        <td id=\"T_d76bfd66_a524_11ec_aeb7_02420a393793row1_col0\" class=\"data row1 col0\" >Добавить блоки рекомендаций товаров на сайт интернет магазина, чтобы повысить конверсию и средний чек заказа</td>\n",
       "                        <td id=\"T_d76bfd66_a524_11ec_aeb7_02420a393793row1_col1\" class=\"data row1 col1\" >7</td>\n",
       "                        <td id=\"T_d76bfd66_a524_11ec_aeb7_02420a393793row1_col2\" class=\"data row1 col2\" >56</td>\n",
       "            </tr>\n",
       "            <tr>\n",
       "                        <th id=\"T_d76bfd66_a524_11ec_aeb7_02420a393793level0_row2\" class=\"row_heading level0 row2\" >0</th>\n",
       "                        <td id=\"T_d76bfd66_a524_11ec_aeb7_02420a393793row2_col0\" class=\"data row2 col0\" >Добавить два новых канала привлечения трафика, что позволит привлекать на 30% больше пользователей</td>\n",
       "                        <td id=\"T_d76bfd66_a524_11ec_aeb7_02420a393793row2_col1\" class=\"data row2 col1\" >13.3</td>\n",
       "                        <td id=\"T_d76bfd66_a524_11ec_aeb7_02420a393793row2_col2\" class=\"data row2 col2\" >40</td>\n",
       "            </tr>\n",
       "            <tr>\n",
       "                        <th id=\"T_d76bfd66_a524_11ec_aeb7_02420a393793level0_row3\" class=\"row_heading level0 row3\" >6</th>\n",
       "                        <td id=\"T_d76bfd66_a524_11ec_aeb7_02420a393793row3_col0\" class=\"data row3 col0\" >Показать на главной странице баннеры с актуальными акциями и распродажами, чтобы увеличить конверсию</td>\n",
       "                        <td id=\"T_d76bfd66_a524_11ec_aeb7_02420a393793row3_col1\" class=\"data row3 col1\" >8</td>\n",
       "                        <td id=\"T_d76bfd66_a524_11ec_aeb7_02420a393793row3_col2\" class=\"data row3 col2\" >40</td>\n",
       "            </tr>\n",
       "            <tr>\n",
       "                        <th id=\"T_d76bfd66_a524_11ec_aeb7_02420a393793level0_row4\" class=\"row_heading level0 row4\" >8</th>\n",
       "                        <td id=\"T_d76bfd66_a524_11ec_aeb7_02420a393793row4_col0\" class=\"data row4 col0\" >Запустить акцию, дающую скидку на товар в день рождения</td>\n",
       "                        <td id=\"T_d76bfd66_a524_11ec_aeb7_02420a393793row4_col1\" class=\"data row4 col1\" >16.2</td>\n",
       "                        <td id=\"T_d76bfd66_a524_11ec_aeb7_02420a393793row4_col2\" class=\"data row4 col2\" >16.2</td>\n",
       "            </tr>\n",
       "            <tr>\n",
       "                        <th id=\"T_d76bfd66_a524_11ec_aeb7_02420a393793level0_row5\" class=\"row_heading level0 row5\" >3</th>\n",
       "                        <td id=\"T_d76bfd66_a524_11ec_aeb7_02420a393793row5_col0\" class=\"data row5 col0\" >Изменить структура категорий, что увеличит конверсию, т.к. пользователи быстрее найдут нужный товар</td>\n",
       "                        <td id=\"T_d76bfd66_a524_11ec_aeb7_02420a393793row5_col1\" class=\"data row5 col1\" >1.1</td>\n",
       "                        <td id=\"T_d76bfd66_a524_11ec_aeb7_02420a393793row5_col2\" class=\"data row5 col2\" >9</td>\n",
       "            </tr>\n",
       "            <tr>\n",
       "                        <th id=\"T_d76bfd66_a524_11ec_aeb7_02420a393793level0_row6\" class=\"row_heading level0 row6\" >1</th>\n",
       "                        <td id=\"T_d76bfd66_a524_11ec_aeb7_02420a393793row6_col0\" class=\"data row6 col0\" >Запустить собственную службу доставки, что сократит срок доставки заказов</td>\n",
       "                        <td id=\"T_d76bfd66_a524_11ec_aeb7_02420a393793row6_col1\" class=\"data row6 col1\" >2</td>\n",
       "                        <td id=\"T_d76bfd66_a524_11ec_aeb7_02420a393793row6_col2\" class=\"data row6 col2\" >4</td>\n",
       "            </tr>\n",
       "            <tr>\n",
       "                        <th id=\"T_d76bfd66_a524_11ec_aeb7_02420a393793level0_row7\" class=\"row_heading level0 row7\" >5</th>\n",
       "                        <td id=\"T_d76bfd66_a524_11ec_aeb7_02420a393793row7_col0\" class=\"data row7 col0\" >Добавить страницу отзывов клиентов о магазине, что позволит увеличить количество заказов</td>\n",
       "                        <td id=\"T_d76bfd66_a524_11ec_aeb7_02420a393793row7_col1\" class=\"data row7 col1\" >1.3</td>\n",
       "                        <td id=\"T_d76bfd66_a524_11ec_aeb7_02420a393793row7_col2\" class=\"data row7 col2\" >4</td>\n",
       "            </tr>\n",
       "            <tr>\n",
       "                        <th id=\"T_d76bfd66_a524_11ec_aeb7_02420a393793level0_row8\" class=\"row_heading level0 row8\" >4</th>\n",
       "                        <td id=\"T_d76bfd66_a524_11ec_aeb7_02420a393793row8_col0\" class=\"data row8 col0\" >Изменить цвет фона главной страницы, чтобы увеличить вовлеченность пользователей</td>\n",
       "                        <td id=\"T_d76bfd66_a524_11ec_aeb7_02420a393793row8_col1\" class=\"data row8 col1\" >1</td>\n",
       "                        <td id=\"T_d76bfd66_a524_11ec_aeb7_02420a393793row8_col2\" class=\"data row8 col2\" >3</td>\n",
       "            </tr>\n",
       "    </tbody></table>"
      ],
      "text/plain": [
       "<pandas.io.formats.style.Styler at 0x7fc48b890410>"
      ]
     },
     "execution_count": 10,
     "metadata": {},
     "output_type": "execute_result"
    }
   ],
   "source": [
    "hypothesis[['hypothesis','ICE', 'RICE']].sort_values(by = 'RICE', ascending=False).style.background_gradient(sns.light_palette(\"red\", as_cmap=True))"
   ]
  },
  {
   "cell_type": "markdown",
   "metadata": {},
   "source": [
    "### Шаг 4. Вывод"
   ]
  },
  {
   "cell_type": "markdown",
   "metadata": {},
   "source": [
    " При применении RICE вместо ICE гипотеза добавить форму подписки на все основные страницы, чтобы собрать базу клиентов для email-рассылок с третьего места перешла на первое из-за охвата пользователей 10, а гипотеза запустить акцию, дающую скидку на товар в день рождения с первого места перешла на 5 из-за охвата пользователей 1. Чем больше охват пользователей и тем выше приоритет гипотезы."
   ]
  },
  {
   "cell_type": "markdown",
   "metadata": {},
   "source": [
    "## Анализ A/B-теста"
   ]
  },
  {
   "cell_type": "markdown",
   "metadata": {},
   "source": [
    "Задачи:\n",
    "* Постройте график кумулятивной выручки по группам. Сделайте выводы и предположения.\n",
    "* Постройте график кумулятивного среднего чека по группам. Сделайте выводы и предположения.\n",
    "* Постройте график относительного изменения кумулятивного среднего чека группы B к группе A. Сделайте выводы и предположения.\n",
    "* Постройте график кумулятивной конверсии по группам. Сделайте выводы и предположения.\n",
    "* Постройте график относительного изменения кумулятивной конверсии группы B к группе A. Сделайте выводы и предположения.\n",
    "* Постройте точечный график количества заказов по пользователям. Сделайте выводы и предположения.\n",
    "* Посчитайте 95-й и 99-й перцентили количества заказов на пользователя. Выберите границу для определения аномальных пользователей.\n",
    "* Постройте точечный график стоимостей заказов. Сделайте выводы и предположения.\n",
    "* Посчитайте 95-й и 99-й перцентили стоимости заказов. Выберите границу для определения аномальных заказов.\n",
    "* Посчитайте статистическую значимость различий в конверсии между группами по «сырым» данным. Сделайте выводы и предположения.\n",
    "* Посчитайте статистическую значимость различий в среднем чеке заказа между группами по «сырым» данным. Сделайте выводы и предположения.\n",
    "* Посчитайте статистическую значимость различий в конверсии между группами по «очищенным» данным. Сделайте выводы и предположения.\n",
    "* Посчитайте статистическую значимость различий в среднем чеке заказа между группами по «очищенным» данным. Сделайте выводы и предположения.\n",
    "* Примите решение по результатам теста и объясните его. Варианты решений: 1. Остановить тест, зафиксировать победу одной из групп. 2. Остановить тест, зафиксировать отсутствие различий между группами. 3. Продолжить тест."
   ]
  },
  {
   "cell_type": "markdown",
   "metadata": {},
   "source": [
    "Исходные данные:\n",
    "/datasets/orders.csv   \n",
    "* transactionId — идентификатор заказа;\n",
    "* visitorId — идентификатор пользователя, совершившего заказ;\n",
    "* date — дата, когда был совершён заказ;\n",
    "* revenue — выручка заказа;\n",
    "* group — группа A/B-теста, в которую попал заказ."
   ]
  },
  {
   "cell_type": "markdown",
   "metadata": {},
   "source": [
    "/datasets/visitors.csv\n",
    "* date — дата;\n",
    "* group — группа A/B-теста;\n",
    "* visitors — количество пользователей в указанную дату в указанной группе A/B-теста"
   ]
  },
  {
   "cell_type": "markdown",
   "metadata": {},
   "source": [
    "### Шаг 5. Загрузка данных и подготовка их к анализу"
   ]
  },
  {
   "cell_type": "code",
   "execution_count": 11,
   "metadata": {},
   "outputs": [],
   "source": [
    "# чтение файлов с данными и сохранение в orders и visitors \n",
    "try:\n",
    "    orders = pd.read_csv('/datasets/orders.csv')\n",
    "    visitors = pd.read_csv('/datasets/visitors.csv')\n",
    "    \n",
    "except FileNotFoundError:\n",
    "    print('файл или директория не существует!') "
   ]
  },
  {
   "cell_type": "code",
   "execution_count": 12,
   "metadata": {},
   "outputs": [],
   "source": [
    "dict_df = {'Заказы': orders, 'Визиты': visitors} "
   ]
  },
  {
   "cell_type": "code",
   "execution_count": 13,
   "metadata": {},
   "outputs": [
    {
     "name": "stdout",
     "output_type": "stream",
     "text": [
      "Первые 5 строк таблицы Заказы\n"
     ]
    },
    {
     "data": {
      "text/html": [
       "<div>\n",
       "<style scoped>\n",
       "    .dataframe tbody tr th:only-of-type {\n",
       "        vertical-align: middle;\n",
       "    }\n",
       "\n",
       "    .dataframe tbody tr th {\n",
       "        vertical-align: top;\n",
       "    }\n",
       "\n",
       "    .dataframe thead th {\n",
       "        text-align: right;\n",
       "    }\n",
       "</style>\n",
       "<table border=\"1\" class=\"dataframe\">\n",
       "  <thead>\n",
       "    <tr style=\"text-align: right;\">\n",
       "      <th></th>\n",
       "      <th>transactionId</th>\n",
       "      <th>visitorId</th>\n",
       "      <th>date</th>\n",
       "      <th>revenue</th>\n",
       "      <th>group</th>\n",
       "    </tr>\n",
       "  </thead>\n",
       "  <tbody>\n",
       "    <tr>\n",
       "      <td>0</td>\n",
       "      <td>3667963787</td>\n",
       "      <td>3312258926</td>\n",
       "      <td>2019-08-15</td>\n",
       "      <td>1650</td>\n",
       "      <td>B</td>\n",
       "    </tr>\n",
       "    <tr>\n",
       "      <td>1</td>\n",
       "      <td>2804400009</td>\n",
       "      <td>3642806036</td>\n",
       "      <td>2019-08-15</td>\n",
       "      <td>730</td>\n",
       "      <td>B</td>\n",
       "    </tr>\n",
       "    <tr>\n",
       "      <td>2</td>\n",
       "      <td>2961555356</td>\n",
       "      <td>4069496402</td>\n",
       "      <td>2019-08-15</td>\n",
       "      <td>400</td>\n",
       "      <td>A</td>\n",
       "    </tr>\n",
       "    <tr>\n",
       "      <td>3</td>\n",
       "      <td>3797467345</td>\n",
       "      <td>1196621759</td>\n",
       "      <td>2019-08-15</td>\n",
       "      <td>9759</td>\n",
       "      <td>B</td>\n",
       "    </tr>\n",
       "    <tr>\n",
       "      <td>4</td>\n",
       "      <td>2282983706</td>\n",
       "      <td>2322279887</td>\n",
       "      <td>2019-08-15</td>\n",
       "      <td>2308</td>\n",
       "      <td>B</td>\n",
       "    </tr>\n",
       "  </tbody>\n",
       "</table>\n",
       "</div>"
      ],
      "text/plain": [
       "   transactionId   visitorId        date  revenue group\n",
       "0     3667963787  3312258926  2019-08-15     1650     B\n",
       "1     2804400009  3642806036  2019-08-15      730     B\n",
       "2     2961555356  4069496402  2019-08-15      400     A\n",
       "3     3797467345  1196621759  2019-08-15     9759     B\n",
       "4     2282983706  2322279887  2019-08-15     2308     B"
      ]
     },
     "metadata": {},
     "output_type": "display_data"
    },
    {
     "name": "stdout",
     "output_type": "stream",
     "text": [
      "\n",
      "Сводная информация о таблице Заказы\n",
      "\n",
      "<class 'pandas.core.frame.DataFrame'>\n",
      "RangeIndex: 1197 entries, 0 to 1196\n",
      "Data columns (total 5 columns):\n",
      "transactionId    1197 non-null int64\n",
      "visitorId        1197 non-null int64\n",
      "date             1197 non-null object\n",
      "revenue          1197 non-null int64\n",
      "group            1197 non-null object\n",
      "dtypes: int64(3), object(2)\n",
      "memory usage: 46.9+ KB\n",
      "\n",
      "Описательная статистика таблицы Заказы\n"
     ]
    },
    {
     "data": {
      "text/html": [
       "<div>\n",
       "<style scoped>\n",
       "    .dataframe tbody tr th:only-of-type {\n",
       "        vertical-align: middle;\n",
       "    }\n",
       "\n",
       "    .dataframe tbody tr th {\n",
       "        vertical-align: top;\n",
       "    }\n",
       "\n",
       "    .dataframe thead th {\n",
       "        text-align: right;\n",
       "    }\n",
       "</style>\n",
       "<table border=\"1\" class=\"dataframe\">\n",
       "  <thead>\n",
       "    <tr style=\"text-align: right;\">\n",
       "      <th></th>\n",
       "      <th>transactionId</th>\n",
       "      <th>visitorId</th>\n",
       "      <th>revenue</th>\n",
       "    </tr>\n",
       "  </thead>\n",
       "  <tbody>\n",
       "    <tr>\n",
       "      <td>count</td>\n",
       "      <td>1.197000e+03</td>\n",
       "      <td>1.197000e+03</td>\n",
       "      <td>1.197000e+03</td>\n",
       "    </tr>\n",
       "    <tr>\n",
       "      <td>mean</td>\n",
       "      <td>2.155621e+09</td>\n",
       "      <td>2.165960e+09</td>\n",
       "      <td>8.348006e+03</td>\n",
       "    </tr>\n",
       "    <tr>\n",
       "      <td>std</td>\n",
       "      <td>1.229085e+09</td>\n",
       "      <td>1.236014e+09</td>\n",
       "      <td>3.919113e+04</td>\n",
       "    </tr>\n",
       "    <tr>\n",
       "      <td>min</td>\n",
       "      <td>1.062393e+06</td>\n",
       "      <td>5.114589e+06</td>\n",
       "      <td>5.000000e+01</td>\n",
       "    </tr>\n",
       "    <tr>\n",
       "      <td>25%</td>\n",
       "      <td>1.166776e+09</td>\n",
       "      <td>1.111826e+09</td>\n",
       "      <td>1.220000e+03</td>\n",
       "    </tr>\n",
       "    <tr>\n",
       "      <td>50%</td>\n",
       "      <td>2.145194e+09</td>\n",
       "      <td>2.217985e+09</td>\n",
       "      <td>2.978000e+03</td>\n",
       "    </tr>\n",
       "    <tr>\n",
       "      <td>75%</td>\n",
       "      <td>3.237740e+09</td>\n",
       "      <td>3.177606e+09</td>\n",
       "      <td>8.290000e+03</td>\n",
       "    </tr>\n",
       "    <tr>\n",
       "      <td>max</td>\n",
       "      <td>4.293856e+09</td>\n",
       "      <td>4.283872e+09</td>\n",
       "      <td>1.294500e+06</td>\n",
       "    </tr>\n",
       "  </tbody>\n",
       "</table>\n",
       "</div>"
      ],
      "text/plain": [
       "       transactionId     visitorId       revenue\n",
       "count   1.197000e+03  1.197000e+03  1.197000e+03\n",
       "mean    2.155621e+09  2.165960e+09  8.348006e+03\n",
       "std     1.229085e+09  1.236014e+09  3.919113e+04\n",
       "min     1.062393e+06  5.114589e+06  5.000000e+01\n",
       "25%     1.166776e+09  1.111826e+09  1.220000e+03\n",
       "50%     2.145194e+09  2.217985e+09  2.978000e+03\n",
       "75%     3.237740e+09  3.177606e+09  8.290000e+03\n",
       "max     4.293856e+09  4.283872e+09  1.294500e+06"
      ]
     },
     "metadata": {},
     "output_type": "display_data"
    },
    {
     "name": "stdout",
     "output_type": "stream",
     "text": [
      "\n",
      "Дубликатов в таблице Заказы : 0\n",
      "\n",
      "Первые 5 строк таблицы Визиты\n"
     ]
    },
    {
     "data": {
      "text/html": [
       "<div>\n",
       "<style scoped>\n",
       "    .dataframe tbody tr th:only-of-type {\n",
       "        vertical-align: middle;\n",
       "    }\n",
       "\n",
       "    .dataframe tbody tr th {\n",
       "        vertical-align: top;\n",
       "    }\n",
       "\n",
       "    .dataframe thead th {\n",
       "        text-align: right;\n",
       "    }\n",
       "</style>\n",
       "<table border=\"1\" class=\"dataframe\">\n",
       "  <thead>\n",
       "    <tr style=\"text-align: right;\">\n",
       "      <th></th>\n",
       "      <th>date</th>\n",
       "      <th>group</th>\n",
       "      <th>visitors</th>\n",
       "    </tr>\n",
       "  </thead>\n",
       "  <tbody>\n",
       "    <tr>\n",
       "      <td>0</td>\n",
       "      <td>2019-08-01</td>\n",
       "      <td>A</td>\n",
       "      <td>719</td>\n",
       "    </tr>\n",
       "    <tr>\n",
       "      <td>1</td>\n",
       "      <td>2019-08-02</td>\n",
       "      <td>A</td>\n",
       "      <td>619</td>\n",
       "    </tr>\n",
       "    <tr>\n",
       "      <td>2</td>\n",
       "      <td>2019-08-03</td>\n",
       "      <td>A</td>\n",
       "      <td>507</td>\n",
       "    </tr>\n",
       "    <tr>\n",
       "      <td>3</td>\n",
       "      <td>2019-08-04</td>\n",
       "      <td>A</td>\n",
       "      <td>717</td>\n",
       "    </tr>\n",
       "    <tr>\n",
       "      <td>4</td>\n",
       "      <td>2019-08-05</td>\n",
       "      <td>A</td>\n",
       "      <td>756</td>\n",
       "    </tr>\n",
       "  </tbody>\n",
       "</table>\n",
       "</div>"
      ],
      "text/plain": [
       "         date group  visitors\n",
       "0  2019-08-01     A       719\n",
       "1  2019-08-02     A       619\n",
       "2  2019-08-03     A       507\n",
       "3  2019-08-04     A       717\n",
       "4  2019-08-05     A       756"
      ]
     },
     "metadata": {},
     "output_type": "display_data"
    },
    {
     "name": "stdout",
     "output_type": "stream",
     "text": [
      "\n",
      "Сводная информация о таблице Визиты\n",
      "\n",
      "<class 'pandas.core.frame.DataFrame'>\n",
      "RangeIndex: 62 entries, 0 to 61\n",
      "Data columns (total 3 columns):\n",
      "date        62 non-null object\n",
      "group       62 non-null object\n",
      "visitors    62 non-null int64\n",
      "dtypes: int64(1), object(2)\n",
      "memory usage: 1.6+ KB\n",
      "\n",
      "Описательная статистика таблицы Визиты\n"
     ]
    },
    {
     "data": {
      "text/html": [
       "<div>\n",
       "<style scoped>\n",
       "    .dataframe tbody tr th:only-of-type {\n",
       "        vertical-align: middle;\n",
       "    }\n",
       "\n",
       "    .dataframe tbody tr th {\n",
       "        vertical-align: top;\n",
       "    }\n",
       "\n",
       "    .dataframe thead th {\n",
       "        text-align: right;\n",
       "    }\n",
       "</style>\n",
       "<table border=\"1\" class=\"dataframe\">\n",
       "  <thead>\n",
       "    <tr style=\"text-align: right;\">\n",
       "      <th></th>\n",
       "      <th>visitors</th>\n",
       "    </tr>\n",
       "  </thead>\n",
       "  <tbody>\n",
       "    <tr>\n",
       "      <td>count</td>\n",
       "      <td>62.000000</td>\n",
       "    </tr>\n",
       "    <tr>\n",
       "      <td>mean</td>\n",
       "      <td>607.290323</td>\n",
       "    </tr>\n",
       "    <tr>\n",
       "      <td>std</td>\n",
       "      <td>114.400560</td>\n",
       "    </tr>\n",
       "    <tr>\n",
       "      <td>min</td>\n",
       "      <td>361.000000</td>\n",
       "    </tr>\n",
       "    <tr>\n",
       "      <td>25%</td>\n",
       "      <td>534.000000</td>\n",
       "    </tr>\n",
       "    <tr>\n",
       "      <td>50%</td>\n",
       "      <td>624.500000</td>\n",
       "    </tr>\n",
       "    <tr>\n",
       "      <td>75%</td>\n",
       "      <td>710.500000</td>\n",
       "    </tr>\n",
       "    <tr>\n",
       "      <td>max</td>\n",
       "      <td>770.000000</td>\n",
       "    </tr>\n",
       "  </tbody>\n",
       "</table>\n",
       "</div>"
      ],
      "text/plain": [
       "         visitors\n",
       "count   62.000000\n",
       "mean   607.290323\n",
       "std    114.400560\n",
       "min    361.000000\n",
       "25%    534.000000\n",
       "50%    624.500000\n",
       "75%    710.500000\n",
       "max    770.000000"
      ]
     },
     "metadata": {},
     "output_type": "display_data"
    },
    {
     "name": "stdout",
     "output_type": "stream",
     "text": [
      "\n",
      "Дубликатов в таблице Визиты : 0\n",
      "\n"
     ]
    }
   ],
   "source": [
    "# получаем информацию по таблицам\n",
    "for dfd in dict_df:\n",
    "    get_info(dfd, dict_df[dfd])"
   ]
  },
  {
   "cell_type": "code",
   "execution_count": 14,
   "metadata": {},
   "outputs": [],
   "source": [
    "# преобразование данных о времени\n",
    "orders['date'] = pd.to_datetime(orders['date'])\n",
    "visitors['date'] = pd.to_datetime(visitors['date'])"
   ]
  },
  {
   "cell_type": "code",
   "execution_count": 15,
   "metadata": {},
   "outputs": [
    {
     "name": "stdout",
     "output_type": "stream",
     "text": [
      "(181, 5)\n"
     ]
    },
    {
     "data": {
      "text/html": [
       "<div>\n",
       "<style scoped>\n",
       "    .dataframe tbody tr th:only-of-type {\n",
       "        vertical-align: middle;\n",
       "    }\n",
       "\n",
       "    .dataframe tbody tr th {\n",
       "        vertical-align: top;\n",
       "    }\n",
       "\n",
       "    .dataframe thead th {\n",
       "        text-align: right;\n",
       "    }\n",
       "</style>\n",
       "<table border=\"1\" class=\"dataframe\">\n",
       "  <thead>\n",
       "    <tr style=\"text-align: right;\">\n",
       "      <th></th>\n",
       "      <th>transactionId</th>\n",
       "      <th>visitorId</th>\n",
       "      <th>date</th>\n",
       "      <th>revenue</th>\n",
       "      <th>group</th>\n",
       "    </tr>\n",
       "  </thead>\n",
       "  <tbody>\n",
       "    <tr>\n",
       "      <td>703</td>\n",
       "      <td>4293855558</td>\n",
       "      <td>8300375</td>\n",
       "      <td>2019-08-07</td>\n",
       "      <td>1790</td>\n",
       "      <td>A</td>\n",
       "    </tr>\n",
       "    <tr>\n",
       "      <td>71</td>\n",
       "      <td>3679129301</td>\n",
       "      <td>8300375</td>\n",
       "      <td>2019-08-01</td>\n",
       "      <td>10510</td>\n",
       "      <td>B</td>\n",
       "    </tr>\n",
       "    <tr>\n",
       "      <td>823</td>\n",
       "      <td>2971973105</td>\n",
       "      <td>199603092</td>\n",
       "      <td>2019-08-27</td>\n",
       "      <td>2790</td>\n",
       "      <td>A</td>\n",
       "    </tr>\n",
       "    <tr>\n",
       "      <td>246</td>\n",
       "      <td>437656952</td>\n",
       "      <td>199603092</td>\n",
       "      <td>2019-08-02</td>\n",
       "      <td>3488</td>\n",
       "      <td>B</td>\n",
       "    </tr>\n",
       "    <tr>\n",
       "      <td>26</td>\n",
       "      <td>2223239646</td>\n",
       "      <td>199603092</td>\n",
       "      <td>2019-08-15</td>\n",
       "      <td>3488</td>\n",
       "      <td>A</td>\n",
       "    </tr>\n",
       "  </tbody>\n",
       "</table>\n",
       "</div>"
      ],
      "text/plain": [
       "     transactionId  visitorId       date  revenue group\n",
       "703     4293855558    8300375 2019-08-07     1790     A\n",
       "71      3679129301    8300375 2019-08-01    10510     B\n",
       "823     2971973105  199603092 2019-08-27     2790     A\n",
       "246      437656952  199603092 2019-08-02     3488     B\n",
       "26      2223239646  199603092 2019-08-15     3488     A"
      ]
     },
     "execution_count": 15,
     "metadata": {},
     "output_type": "execute_result"
    }
   ],
   "source": [
    "# поиск заказов пользователей попавших в обе группы\n",
    "ordersA = orders[orders['group'] == 'A']['visitorId'] \n",
    "ordersB = orders[orders['group'] == 'B']['visitorId'] \n",
    "ordersAB = orders.query('visitorId in @ordersA & visitorId in @ordersB') \n",
    "print(ordersAB.shape) \n",
    "ordersAB.sort_values(by = 'visitorId').head(5) "
   ]
  },
  {
   "cell_type": "markdown",
   "metadata": {},
   "source": [
    "Всего 181 заказов которые совершили пользователи попавшие в обе группы теста, удалим их."
   ]
  },
  {
   "cell_type": "code",
   "execution_count": 16,
   "metadata": {},
   "outputs": [],
   "source": [
    "orders = orders.query('visitorId not in @ordersAB') "
   ]
  },
  {
   "cell_type": "markdown",
   "metadata": {},
   "source": [
    "### Шаг 6. График кумулятивной выручки по группам"
   ]
  },
  {
   "cell_type": "code",
   "execution_count": 17,
   "metadata": {},
   "outputs": [
    {
     "data": {
      "text/html": [
       "<div>\n",
       "<style scoped>\n",
       "    .dataframe tbody tr th:only-of-type {\n",
       "        vertical-align: middle;\n",
       "    }\n",
       "\n",
       "    .dataframe tbody tr th {\n",
       "        vertical-align: top;\n",
       "    }\n",
       "\n",
       "    .dataframe thead th {\n",
       "        text-align: right;\n",
       "    }\n",
       "</style>\n",
       "<table border=\"1\" class=\"dataframe\">\n",
       "  <thead>\n",
       "    <tr style=\"text-align: right;\">\n",
       "      <th></th>\n",
       "      <th>date</th>\n",
       "      <th>visitorsADaily</th>\n",
       "      <th>visitorsBDaily</th>\n",
       "      <th>transactionIdADaily</th>\n",
       "      <th>revenueADaily</th>\n",
       "      <th>transactionIdBDaily</th>\n",
       "      <th>revenueBDaily</th>\n",
       "      <th>visitorsACummulative</th>\n",
       "      <th>visitorsBCummulative</th>\n",
       "      <th>transactionIdACummulative</th>\n",
       "      <th>revenueACummulative</th>\n",
       "      <th>transactionIdBCummulative</th>\n",
       "      <th>revenueBCummulative</th>\n",
       "    </tr>\n",
       "  </thead>\n",
       "  <tbody>\n",
       "    <tr>\n",
       "      <td>0</td>\n",
       "      <td>2019-08-01</td>\n",
       "      <td>719</td>\n",
       "      <td>713</td>\n",
       "      <td>24</td>\n",
       "      <td>148579</td>\n",
       "      <td>21</td>\n",
       "      <td>101217</td>\n",
       "      <td>719</td>\n",
       "      <td>713</td>\n",
       "      <td>24</td>\n",
       "      <td>148579</td>\n",
       "      <td>21</td>\n",
       "      <td>101217</td>\n",
       "    </tr>\n",
       "    <tr>\n",
       "      <td>1</td>\n",
       "      <td>2019-08-02</td>\n",
       "      <td>619</td>\n",
       "      <td>581</td>\n",
       "      <td>20</td>\n",
       "      <td>93822</td>\n",
       "      <td>24</td>\n",
       "      <td>165531</td>\n",
       "      <td>1338</td>\n",
       "      <td>1294</td>\n",
       "      <td>44</td>\n",
       "      <td>242401</td>\n",
       "      <td>45</td>\n",
       "      <td>266748</td>\n",
       "    </tr>\n",
       "    <tr>\n",
       "      <td>2</td>\n",
       "      <td>2019-08-03</td>\n",
       "      <td>507</td>\n",
       "      <td>509</td>\n",
       "      <td>24</td>\n",
       "      <td>112473</td>\n",
       "      <td>16</td>\n",
       "      <td>114248</td>\n",
       "      <td>1845</td>\n",
       "      <td>1803</td>\n",
       "      <td>68</td>\n",
       "      <td>354874</td>\n",
       "      <td>61</td>\n",
       "      <td>380996</td>\n",
       "    </tr>\n",
       "    <tr>\n",
       "      <td>3</td>\n",
       "      <td>2019-08-04</td>\n",
       "      <td>717</td>\n",
       "      <td>770</td>\n",
       "      <td>16</td>\n",
       "      <td>70825</td>\n",
       "      <td>17</td>\n",
       "      <td>108571</td>\n",
       "      <td>2562</td>\n",
       "      <td>2573</td>\n",
       "      <td>84</td>\n",
       "      <td>425699</td>\n",
       "      <td>78</td>\n",
       "      <td>489567</td>\n",
       "    </tr>\n",
       "    <tr>\n",
       "      <td>4</td>\n",
       "      <td>2019-08-05</td>\n",
       "      <td>756</td>\n",
       "      <td>707</td>\n",
       "      <td>25</td>\n",
       "      <td>124218</td>\n",
       "      <td>23</td>\n",
       "      <td>92428</td>\n",
       "      <td>3318</td>\n",
       "      <td>3280</td>\n",
       "      <td>109</td>\n",
       "      <td>549917</td>\n",
       "      <td>101</td>\n",
       "      <td>581995</td>\n",
       "    </tr>\n",
       "  </tbody>\n",
       "</table>\n",
       "</div>"
      ],
      "text/plain": [
       "        date  visitorsADaily  visitorsBDaily  transactionIdADaily  \\\n",
       "0 2019-08-01             719             713                   24   \n",
       "1 2019-08-02             619             581                   20   \n",
       "2 2019-08-03             507             509                   24   \n",
       "3 2019-08-04             717             770                   16   \n",
       "4 2019-08-05             756             707                   25   \n",
       "\n",
       "   revenueADaily  transactionIdBDaily  revenueBDaily  visitorsACummulative  \\\n",
       "0         148579                   21         101217                   719   \n",
       "1          93822                   24         165531                  1338   \n",
       "2         112473                   16         114248                  1845   \n",
       "3          70825                   17         108571                  2562   \n",
       "4         124218                   23          92428                  3318   \n",
       "\n",
       "   visitorsBCummulative  transactionIdACummulative  revenueACummulative  \\\n",
       "0                   713                         24               148579   \n",
       "1                  1294                         44               242401   \n",
       "2                  1803                         68               354874   \n",
       "3                  2573                         84               425699   \n",
       "4                  3280                        109               549917   \n",
       "\n",
       "   transactionIdBCummulative  revenueBCummulative  \n",
       "0                         21               101217  \n",
       "1                         45               266748  \n",
       "2                         61               380996  \n",
       "3                         78               489567  \n",
       "4                        101               581995  "
      ]
     },
     "execution_count": 17,
     "metadata": {},
     "output_type": "execute_result"
    }
   ],
   "source": [
    "# делим visitors на группы A и B\n",
    "visitorsADaily = visitors[visitors['group'] == 'A'][['date', 'visitors']]\n",
    "visitorsBDaily = visitors[visitors['group'] == 'B'][['date', 'visitors']]\n",
    "\n",
    "# делим orders на группы A и B, группируем по дате\n",
    "ordersADaily = (\n",
    "    orders[orders['group'] == 'A'][['date', 'transactionId', 'visitorId', 'revenue']]\n",
    "    .groupby('date', as_index=False)\n",
    "    .agg({'transactionId': pd.Series.nunique, 'revenue': 'sum'})\n",
    ")\n",
    "ordersBDaily = (\n",
    "    orders[orders['group'] == 'B'][['date', 'transactionId', 'visitorId', 'revenue']]\n",
    "    .groupby('date', as_index=False)\n",
    "    .agg({'transactionId': pd.Series.nunique, 'revenue': 'sum'})\n",
    ")\n",
    "# объединяем visitorsADaily, visitorsBDaily, ordersADaily, ordersBDaily\n",
    "data = visitorsADaily.merge(\n",
    "    visitorsBDaily, left_on='date', right_on='date', how='left',suffixes=['A', 'B']\n",
    ").merge(\n",
    "    ordersADaily, left_on='date', right_on='date', how='left'\n",
    ").merge(\n",
    "    ordersBDaily, left_on='date', right_on='date', how='left',suffixes=['A', 'B'])  \n",
    "\n",
    "#  применим lambda-функцию к data\n",
    "dataCummulative = data.apply(\n",
    "    lambda x: data[data['date'] <= x['date']].agg(\n",
    "        {'date': 'max', 'visitorsA': 'sum', 'visitorsB': 'sum', 'transactionIdA': 'sum', 'revenueA': 'sum', 'transactionIdB': 'sum', 'revenueB': 'sum'}\n",
    "    ),\n",
    "    axis=1,\n",
    ").sort_values(by=['date'])\n",
    "\n",
    "# объединяем data и dataCummulative\n",
    "data = data.merge(dataCummulative,  left_on='date', right_on='date', how='left',suffixes=['Daily', 'Cummulative'])\n",
    "data.head(5) # выводим на экран первые 5 строк data"
   ]
  },
  {
   "cell_type": "code",
   "execution_count": 18,
   "metadata": {},
   "outputs": [
    {
     "data": {
      "image/png": "[encoded data removed]",
      "text/plain": [
       "<Figure size 1080x360 with 1 Axes>"
      ]
     },
     "metadata": {
      "needs_background": "light"
     },
     "output_type": "display_data"
    }
   ],
   "source": [
    "plt.figure(figsize=(15, 5)) # задаём размер графика \n",
    "plt.plot(data['date'], data['revenueACummulative'], label = 'A') # строим график A \n",
    "plt.plot(data['date'], data['revenueBCummulative'], label = 'B') # строим график B\n",
    "plt.ylabel('Кумулятивная выручка') # подписываем ось y\n",
    "plt.xlabel('Дата') # подписываем ось x\n",
    "plt.title('График кумулятивной выручки по группам') # Подписываем заголовок \n",
    "plt.legend() # помещаем легенду \n",
    "\n",
    "plt.annotate('скачок', xy=('2019-08-18', 2800000), xytext=('2019-08-10', 3500000),\n",
    "            arrowprops=dict(facecolor='g'))\n",
    "plt.annotate('отрыв', xy=('2019-08-05', 800000), xytext=('2019-08-05', 2000000),\n",
    "            arrowprops=dict(facecolor='g'))\n",
    "\n",
    "plt.show() # показываем график"
   ]
  },
  {
   "cell_type": "markdown",
   "metadata": {},
   "source": [
    "Выручка увеличивается в течении всего теста, в группе B наблюдается резкий рост. Возможно либо резки рост числа заказов, либо появление дорогих заказов."
   ]
  },
  {
   "cell_type": "markdown",
   "metadata": {},
   "source": [
    "### Шаг 7. График кумулятивного среднего чека по группам"
   ]
  },
  {
   "cell_type": "code",
   "execution_count": 19,
   "metadata": {},
   "outputs": [
    {
     "data": {
      "image/png": "[encoded data removed]",
      "text/plain": [
       "<Figure size 1080x360 with 1 Axes>"
      ]
     },
     "metadata": {
      "needs_background": "light"
     },
     "output_type": "display_data"
    }
   ],
   "source": [
    "plt.figure(figsize=(15, 5)) # задаём размер графика \n",
    "plt.plot(data['date'], data['revenueACummulative']/data['transactionIdACummulative'], label = 'A') # строим график A\n",
    "plt.plot(data['date'], data['revenueBCummulative']/data['transactionIdBCummulative'], label = 'B') # строим график B\n",
    "plt.ylabel('Средний чек') # подписываем ось y\n",
    "plt.xlabel('Дата') # подписываем ось x\n",
    "plt.title('График кумулятивного среднего чека по группам') # Подписываем заголовок\n",
    "plt.legend() # помещаем легенду\n",
    "plt.annotate('скачок', xy=('2019-08-18', 7100), xytext=('2019-08-13', 8000),\n",
    "            arrowprops=dict(facecolor='g'))\n",
    "plt.show() # показываем график"
   ]
  },
  {
   "cell_type": "markdown",
   "metadata": {},
   "source": [
    "Резкий рост среднего чека в группе B подтверждает появление дорогих заказов."
   ]
  },
  {
   "cell_type": "markdown",
   "metadata": {},
   "source": [
    "### Шаг 8. График относительного изменения кумулятивного среднего чека группы B к группе A"
   ]
  },
  {
   "cell_type": "code",
   "execution_count": 20,
   "metadata": {},
   "outputs": [
    {
     "data": {
      "image/png": "[encoded data removed]",
      "text/plain": [
       "<Figure size 1080x360 with 1 Axes>"
      ]
     },
     "metadata": {
      "needs_background": "light"
     },
     "output_type": "display_data"
    }
   ],
   "source": [
    "plt.figure(figsize=(15, 5)) # задаём размер графика\n",
    "plt.plot(data['date'], (data['revenueBCummulative']/data['transactionIdBCummulative'])/(data['revenueACummulative']/data['transactionIdACummulative'])-1) # строим график\n",
    "plt.ylabel('Изменение') # подписываем ось y\n",
    "plt.xlabel('Дата') # подписываем ось x\n",
    "plt.title('График относительного изменения кумулятивного среднего чека группы B к группе A') # Подписываем заголовок\n",
    "plt.axhline(y=0, color='black', linestyle='--') # добавляем ось X\n",
    "plt.show() # показываем график"
   ]
  },
  {
   "cell_type": "markdown",
   "metadata": {},
   "source": [
    "На графике относительного изменения кумулятивного среднего чека группы B к группе A хорошо видны выбросы в начале месяца и середине."
   ]
  },
  {
   "cell_type": "markdown",
   "metadata": {},
   "source": [
    "### Шаг 9. График кумулятивной конверсии по группам"
   ]
  },
  {
   "cell_type": "code",
   "execution_count": 21,
   "metadata": {},
   "outputs": [
    {
     "data": {
      "image/png": "[encoded data removed]",
      "text/plain": [
       "<Figure size 1080x360 with 1 Axes>"
      ]
     },
     "metadata": {
      "needs_background": "light"
     },
     "output_type": "display_data"
    }
   ],
   "source": [
    "plt.figure(figsize=(15, 5)) # задаём размер графика\n",
    "plt.plot(data['date'], data['transactionIdACummulative']/data['visitorsACummulative'], label = 'A') # строим график A\n",
    "plt.plot(data['date'], data['transactionIdBCummulative']/data['visitorsBCummulative'], label = 'B') # строим график B\n",
    "plt.ylabel('Конверсия') # подписываем ось y\n",
    "plt.xlabel('Дата') # подписываем ось x\n",
    "plt.title('График кумулятивной конверсии по группам') # Подписываем заголовок\n",
    "plt.legend()\n",
    "plt.show() # показываем график"
   ]
  },
  {
   "cell_type": "markdown",
   "metadata": {},
   "source": [
    "На графике кумулятивной конверсии по группам видно что группа B после колебаний в начале месяца вырвалась вперёд."
   ]
  },
  {
   "cell_type": "markdown",
   "metadata": {},
   "source": [
    "### Шаг 10. График относительного изменения кумулятивной конверсии группы B к группе A"
   ]
  },
  {
   "cell_type": "code",
   "execution_count": 22,
   "metadata": {},
   "outputs": [
    {
     "data": {
      "image/png": "[encoded data removed]",
      "text/plain": [
       "<Figure size 1080x360 with 1 Axes>"
      ]
     },
     "metadata": {
      "needs_background": "light"
     },
     "output_type": "display_data"
    }
   ],
   "source": [
    "plt.figure(figsize=(15, 5)) # задаём размер графика\n",
    "plt.plot(data['date'], (data['transactionIdBCummulative']/data['visitorsBCummulative'])/(data['transactionIdACummulative']/data['visitorsACummulative'])-1) # строим график\n",
    "plt.ylabel('Изменение') # подписываем ось y\n",
    "plt.xlabel('Дата') # подписываем ось x\n",
    "plt.title('График относительного изменения кумулятивной конверсии группы B к группе A') # Подписываем заголовок\n",
    "plt.axhline(y=0, color='black', linestyle='--') # добавляем ось X \n",
    "plt.axhline(y=0.10, color='green', linestyle='--') # добавляем ось X \n",
    "plt.show() # показываем график"
   ]
  },
  {
   "cell_type": "markdown",
   "metadata": {},
   "source": [
    "Относительное изменение конверсии B относительно A зафткстровалась выше 10%."
   ]
  },
  {
   "cell_type": "markdown",
   "metadata": {},
   "source": [
    "### Шаг 11. Точечный график количества заказов по пользователям"
   ]
  },
  {
   "cell_type": "code",
   "execution_count": 23,
   "metadata": {},
   "outputs": [],
   "source": [
    "# группируем orders по пользователям\n",
    "ordersByUsers = (\n",
    "    orders.groupby('visitorId', as_index=False)\n",
    "    .agg({'transactionId': pd.Series.nunique, 'revenue': 'sum'})\n",
    ")"
   ]
  },
  {
   "cell_type": "code",
   "execution_count": 24,
   "metadata": {},
   "outputs": [
    {
     "data": {
      "image/png": "[encoded data removed]",
      "text/plain": [
       "<Figure size 1080x360 with 1 Axes>"
      ]
     },
     "metadata": {
      "needs_background": "light"
     },
     "output_type": "display_data"
    }
   ],
   "source": [
    "x_values = pd.Series(range(0,len(ordersByUsers))) # задаём № пользователя\n",
    "plt.figure(figsize=(15, 5)) # задаём размер графика\n",
    "plt.scatter(x_values, ordersByUsers['transactionId']) # строим точечныйт график\n",
    "plt.ylabel('количества заказов') # подписываем ось y\n",
    "plt.xlabel('№ пользователя') # подписываем ось x\n",
    "plt.title('Точечный график количества заказов по пользователям') # Подписываем заголовок\n",
    "plt.show() # показываем график"
   ]
  },
  {
   "cell_type": "markdown",
   "metadata": {},
   "source": [
    "На точечном графике наблюдаются аномальные выбросы заказов, но визуально границу определить сложно, для определения границ аномальных заказов посчитаем перцентели."
   ]
  },
  {
   "cell_type": "markdown",
   "metadata": {},
   "source": [
    "### Шаг 12. 95-й и 99-й перцентили количества заказов на пользователя"
   ]
  },
  {
   "cell_type": "code",
   "execution_count": 25,
   "metadata": {},
   "outputs": [
    {
     "name": "stdout",
     "output_type": "stream",
     "text": [
      "[2. 4.]\n"
     ]
    }
   ],
   "source": [
    "print(np.percentile(ordersByUsers['transactionId'], [95, 99])) # выводим на экран перцентили 95 и 99"
   ]
  },
  {
   "cell_type": "markdown",
   "metadata": {},
   "source": [
    "Всех пользователей у кого больше 2 заказов будем считать аномальными."
   ]
  },
  {
   "cell_type": "markdown",
   "metadata": {},
   "source": [
    "### Шаг 13. Точечный график стоимостей заказов"
   ]
  },
  {
   "cell_type": "code",
   "execution_count": 26,
   "metadata": {},
   "outputs": [
    {
     "data": {
      "image/png": "[encoded data removed]",
      "text/plain": [
       "<Figure size 1080x360 with 1 Axes>"
      ]
     },
     "metadata": {
      "needs_background": "light"
     },
     "output_type": "display_data"
    }
   ],
   "source": [
    "x_values = pd.Series(range(0,len(orders))) # задаём № пользователя\n",
    "plt.figure(figsize=(15, 5)) # задаём размер графика\n",
    "plt.scatter(x_values, orders['revenue']) # строим точечныйт график\n",
    "plt.ylabel('стоимость заказа') # подписываем ось y\n",
    "plt.xlabel('№ пользователя') # подписываем ось x\n",
    "plt.title('Точечный график стоимостей заказов') # Подписываем заголовок\n",
    "plt.show() # показываем график"
   ]
  },
  {
   "cell_type": "markdown",
   "metadata": {},
   "source": [
    "На точечном графике наблюдаются аномальные выбросы стоимости заказов, но визуально границу определить сложно, для определения границ аномальной стоимости заказов посчитаем перцентели."
   ]
  },
  {
   "cell_type": "markdown",
   "metadata": {},
   "source": [
    "### Шаг 14. 95-й и 99-й перцентили стоимостей заказов"
   ]
  },
  {
   "cell_type": "code",
   "execution_count": 27,
   "metadata": {},
   "outputs": [
    {
     "name": "stdout",
     "output_type": "stream",
     "text": [
      "[28000.  58233.2]\n"
     ]
    }
   ],
   "source": [
    "print(np.percentile(orders['revenue'], [95, 99])) # выводим на экран перцентили 95 и 99 "
   ]
  },
  {
   "cell_type": "markdown",
   "metadata": {},
   "source": [
    "Всех пользователей у кого стоимость заказа больше 28000 будем считать аномальными."
   ]
  },
  {
   "cell_type": "markdown",
   "metadata": {},
   "source": [
    "### Шаг 15. Расчет статистической значимости различий в конверсии между группами по «сырым» данным"
   ]
  },
  {
   "cell_type": "markdown",
   "metadata": {},
   "source": [
    "Сформулируем нулевую и альтернативную гипотезу:\n",
    "- Нулевая гипотеза: Вероятность того, что наблюдение из группы B превышает наблюдение из группы A равна 50%.\n",
    "- Альтернативная гипотеза: Вероятность того, что наблюдение из группы B превышает наблюдение из группы A не равна 50%.\n",
    "- задаём пороговое значение 0.05"
   ]
  },
  {
   "cell_type": "code",
   "execution_count": 28,
   "metadata": {},
   "outputs": [],
   "source": [
    "# группируем orders по пользователям группы A\n",
    "ordersByUsersA = (\n",
    "    orders[orders['group'] == 'A']\n",
    "    .groupby('visitorId', as_index=False)\n",
    "    .agg({'transactionId': pd.Series.nunique})\n",
    ")\n",
    "\n",
    "# группируем orders по пользователям группы B\n",
    "ordersByUsersB = (\n",
    "    orders[orders['group'] == 'B']\n",
    "    .groupby('visitorId', as_index=False)\n",
    "    .agg({'transactionId': pd.Series.nunique})\n",
    ")"
   ]
  },
  {
   "cell_type": "code",
   "execution_count": 29,
   "metadata": {},
   "outputs": [
    {
     "name": "stdout",
     "output_type": "stream",
     "text": [
      "0.017\n",
      "0.138\n"
     ]
    }
   ],
   "source": [
    "# объединяем пользователей А которые делали зака и не делали\n",
    "sampleA = pd.concat(\n",
    "    [\n",
    "        ordersByUsersA['transactionId'],\n",
    "        pd.Series(\n",
    "            0,\n",
    "            index=np.arange(\n",
    "                data['visitorsADaily'].sum() - len(ordersByUsersA['transactionId'])\n",
    "            ),\n",
    "            name='transactionId',\n",
    "        ),\n",
    "    ],\n",
    "    axis=0,\n",
    ")\n",
    "\n",
    "# объединяем пользователей B которые делали зака и не делали\n",
    "sampleB = pd.concat(\n",
    "    [\n",
    "        ordersByUsersB['transactionId'],\n",
    "        pd.Series(\n",
    "            0,\n",
    "            index=np.arange(\n",
    "                data['visitorsBDaily'].sum() - len(ordersByUsersB['transactionId'])\n",
    "            ),\n",
    "            name='transactionId',\n",
    "        ),\n",
    "    ],\n",
    "    axis=0,\n",
    ")\n",
    "\n",
    "print(\"{0:.3f}\".format(stats.mannwhitneyu(sampleA, sampleB, alternative = 'two-sided')[1])) # выводим на экран p-value\n",
    "print(\"{0:.3f}\".format(sampleB.mean() / sampleA.mean() - 1)) # выводим на экран относительный прирост конверсии группы B"
   ]
  },
  {
   "cell_type": "markdown",
   "metadata": {},
   "source": [
    "p-value меньше 0.05, отвергаем нулевую гипотезу. Конверсия B на 13.8% выше A."
   ]
  },
  {
   "cell_type": "markdown",
   "metadata": {},
   "source": [
    "### Шаг 16. Расчет статистической значимости различий в среднем чеке заказа между группами по «сырым» данным"
   ]
  },
  {
   "cell_type": "markdown",
   "metadata": {},
   "source": [
    "Сформулируем нулевую и альтернативную гипотезу:\n",
    "- Нулевая гипотеза: Вероятность того, что наблюдение из группы B превышает наблюдение из группы A равна 50%.\n",
    "- Альтернативная гипотеза: Вероятность того, что наблюдение из группы B превышает наблюдение из группы A не равна 50%.\n",
    "- задаём пороговое значение 0.05"
   ]
  },
  {
   "cell_type": "code",
   "execution_count": 30,
   "metadata": {},
   "outputs": [
    {
     "name": "stdout",
     "output_type": "stream",
     "text": [
      "0.729\n",
      "0.259\n"
     ]
    }
   ],
   "source": [
    "print('{0:.3f}'.format(stats.mannwhitneyu(orders[orders['group']=='A']['revenue'], orders[orders['group']=='B']['revenue'], alternative = 'two-sided')[1])) # выводим на экран p-value\n",
    "print('{0:.3f}'.format(orders[orders['group']=='B']['revenue'].mean()/orders[orders['group']=='A']['revenue'].mean()-1)) # выводим на экран относительный прирост среднего чека группы B "
   ]
  },
  {
   "cell_type": "markdown",
   "metadata": {},
   "source": [
    "p-value больше 0.05, нулевую гипотезу не отвергаем. Средний чек групппы B на 25.9% выше среднего чека группы A скорее всего из-за аномальных заказов."
   ]
  },
  {
   "cell_type": "markdown",
   "metadata": {},
   "source": [
    "### Шаг 17. Расчет статистической значимости различий в конверсии между группами по «очищенным» данным"
   ]
  },
  {
   "cell_type": "markdown",
   "metadata": {},
   "source": [
    "Сформулируем нулевую и альтернативную гипотезу:\n",
    "- Нулевая гипотеза: Вероятность того, что наблюдение из группы B превышает наблюдение из группы A равна 50%.\n",
    "- Альтернативная гипотеза: Вероятность того, что наблюдение из группы B превышает наблюдение из группы A не равна 50%.\n",
    "- задаём пороговое значение 0.05"
   ]
  },
  {
   "cell_type": "code",
   "execution_count": 31,
   "metadata": {},
   "outputs": [
    {
     "name": "stdout",
     "output_type": "stream",
     "text": [
      "1099    148427295\n",
      "18      199603092\n",
      "928     204675465\n",
      "23      237748145\n",
      "37      249864742\n",
      "Name: visitorId, dtype: int64\n",
      "(74,)\n"
     ]
    }
   ],
   "source": [
    "# объединяем пользователей А и B у котоых больше двух заказов\n",
    "usersWithManyOrders = pd.concat(\n",
    "   [\n",
    "        ordersByUsersA[ordersByUsersA['transactionId'] > 2]['visitorId'],\n",
    "        ordersByUsersB[ordersByUsersB['transactionId'] > 2]['visitorId'],\n",
    "    ],\n",
    "    axis=0,\n",
    ")\n",
    "\n",
    "# находим пользователей у которых заказ дороже 32899.5\n",
    "usersWithExpensiveOrders = orders[orders['revenue'] > 28000]['visitorId']\n",
    "\n",
    "# находим всех аномальных пользователей \n",
    "abnormalUsers = (\n",
    "    pd.concat([usersWithManyOrders, usersWithExpensiveOrders], axis=0)\n",
    "    .drop_duplicates()\n",
    "    .sort_values()\n",
    ")\n",
    "print(abnormalUsers.head(5)) #\n",
    "print(abnormalUsers.shape) #"
   ]
  },
  {
   "cell_type": "code",
   "execution_count": 32,
   "metadata": {},
   "outputs": [
    {
     "name": "stdout",
     "output_type": "stream",
     "text": [
      "0.01304\n",
      "0.173\n"
     ]
    }
   ],
   "source": [
    "# объединяем отфильтрованных пользователей А которые делали зака и не делали\n",
    "sampleAFiltered = pd.concat(\n",
    "    [\n",
    "        ordersByUsersA[\n",
    "            np.logical_not(ordersByUsersA['visitorId'].isin(abnormalUsers))\n",
    "        ]['transactionId'],\n",
    "        pd.Series(\n",
    "            0,\n",
    "            index=np.arange(\n",
    "                data['visitorsADaily'].sum() - len(ordersByUsersA['transactionId'])\n",
    "            ),\n",
    "            name='transactionId',\n",
    "        ),\n",
    "    ],\n",
    "    axis=0,\n",
    ")\n",
    "\n",
    "# объединяем отфильтрованных пользователей B которые делали зака и не делали\n",
    "sampleBFiltered = pd.concat(\n",
    "    [\n",
    "        ordersByUsersB[\n",
    "            np.logical_not(ordersByUsersB['visitorId'].isin(abnormalUsers))\n",
    "        ]['transactionId'],\n",
    "        pd.Series(\n",
    "            0,\n",
    "            index=np.arange(\n",
    "                data['visitorsBDaily'].sum() - len(ordersByUsersB['transactionId'])\n",
    "            ),\n",
    "            name='transactionId',\n",
    "        ),\n",
    "    ],\n",
    "    axis=0,\n",
    ") \n",
    "\n",
    "print('{0:.5f}'.format(stats.mannwhitneyu(sampleAFiltered, sampleBFiltered, alternative = 'two-sided')[1])) # выводим на экран p-value\n",
    "print('{0:.3f}'.format(sampleBFiltered.mean()/sampleAFiltered.mean()-1)) # выводим на экран относительный прирост конверсии группы B "
   ]
  },
  {
   "cell_type": "markdown",
   "metadata": {},
   "source": [
    "p-value меньше 0.05, отвергаем нулевую гипотезу. Конверсия B на 17.3% выше A. На очищеных данных разница ещё больше. "
   ]
  },
  {
   "cell_type": "markdown",
   "metadata": {},
   "source": [
    "### Шаг 18. Расчет статистической значимости различий в конверсии между группами по «очищенным» данным"
   ]
  },
  {
   "cell_type": "markdown",
   "metadata": {},
   "source": [
    "Сформулируем нулевую и альтернативную гипотезу:\n",
    "- Нулевая гипотеза: Вероятность того, что наблюдение из группы B превышает наблюдение из группы A равна 50%.\n",
    "- Альтернативная гипотеза: Вероятность того, что наблюдение из группы B превышает наблюдение из группы A не равна 50%.\n",
    "- задаём пороговое значение 0.05"
   ]
  },
  {
   "cell_type": "code",
   "execution_count": 33,
   "metadata": {},
   "outputs": [
    {
     "name": "stdout",
     "output_type": "stream",
     "text": [
      "0.738\n",
      "-0.020\n"
     ]
    }
   ],
   "source": [
    "# выводим на экран p-value\n",
    "print(\n",
    "    '{0:.3f}'.format(\n",
    "        stats.mannwhitneyu(\n",
    "            orders[\n",
    "                np.logical_and(\n",
    "                    orders['group'] == 'A',\n",
    "                    np.logical_not(orders['visitorId'].isin(abnormalUsers)),\n",
    "                )\n",
    "            ]['revenue'],\n",
    "            orders[\n",
    "                np.logical_and(\n",
    "                    orders['group'] == 'B',\n",
    "                    np.logical_not(orders['visitorId'].isin(abnormalUsers)),\n",
    "                )\n",
    "            ]['revenue'], alternative = 'two-sided'\n",
    "        )[1]\n",
    "    )\n",
    ")\n",
    "\n",
    "# выводим на экран относительный прирост среднего чека группы B \n",
    "print(\n",
    "    \"{0:.3f}\".format(\n",
    "        orders[\n",
    "            np.logical_and(\n",
    "                orders['group'] == 'B',\n",
    "                np.logical_not(orders['visitorId'].isin(abnormalUsers)),\n",
    "            )\n",
    "        ]['revenue'].mean()\n",
    "        / orders[\n",
    "            np.logical_and(\n",
    "                orders['group'] == 'A',\n",
    "                np.logical_not(orders['visitorId'].isin(abnormalUsers)),\n",
    "            )\n",
    "        ]['revenue'].mean()\n",
    "        - 1\n",
    "    )\n",
    ") "
   ]
  },
  {
   "cell_type": "markdown",
   "metadata": {},
   "source": [
    "p-value больше 0.05, нулевую гипотезу не отвергаем. Убрав аномалии разница с 25.9% сократилась до -2%."
   ]
  },
  {
   "cell_type": "markdown",
   "metadata": {},
   "source": [
    "### Шаг 19. Принимаем решение по результатам теста"
   ]
  },
  {
   "cell_type": "markdown",
   "metadata": {},
   "source": [
    "Останавливаем тест, фиксируем победу группы B по конверсии. Средний чек группы A и B не изменился. Конверсия группы B увеличилась на 17.3%."
   ]
  },
  {
   "cell_type": "markdown",
   "metadata": {},
   "source": [
    "## Шаг 20. Вывод"
   ]
  },
  {
   "cell_type": "markdown",
   "metadata": {},
   "source": [
    "В проекте были изучены файлы hypothesis.csv, orders.csv, visitors.csv. В файле orders.csv были найдены пользователи попавшие в обе группы A/B теста, скорее всего пользователи оформляли заказы с разных устройств. Заказы этих пользователей были удалены из A/B теста. Была проведена приоритезация гипотез двумя способами, с помощью ICE первое место заняла гипотеза Запустить акцию, дающую скидку на товар в день рождения с помощью RICE Добавить форму подписки на все основные страницы, чтобы собрать базу клиентов для email-рассылок. Анализ A/B теста показал увеличение конверсии гуппы B относительно группы A на 17.3%. Средний чек не изменился. Тест можно остановить."
   ]
  },
  {
   "cell_type": "code",
   "execution_count": null,
   "metadata": {},
   "outputs": [],
   "source": []
  }
 ],
 "metadata": {
  "ExecuteTimeLog": [
   {
    "duration": 175,
    "start_time": "2022-02-18T13:10:00.486Z"
   },
   {
    "duration": 888,
    "start_time": "2022-02-18T13:13:02.518Z"
   },
   {
    "duration": 14,
    "start_time": "2022-02-18T13:14:05.270Z"
   },
   {
    "duration": 4,
    "start_time": "2022-02-18T13:15:44.726Z"
   },
   {
    "duration": 5,
    "start_time": "2022-02-18T13:16:00.178Z"
   },
   {
    "duration": 50,
    "start_time": "2022-02-18T13:16:18.060Z"
   },
   {
    "duration": 6,
    "start_time": "2022-02-18T13:18:42.150Z"
   },
   {
    "duration": 48,
    "start_time": "2022-02-18T13:19:03.906Z"
   },
   {
    "duration": 4,
    "start_time": "2022-02-18T13:43:48.287Z"
   },
   {
    "duration": 18,
    "start_time": "2022-02-18T14:04:28.290Z"
   },
   {
    "duration": 16,
    "start_time": "2022-02-18T14:10:02.585Z"
   },
   {
    "duration": 11,
    "start_time": "2022-02-18T14:10:16.685Z"
   },
   {
    "duration": 434,
    "start_time": "2022-02-18T14:15:09.841Z"
   },
   {
    "duration": 323,
    "start_time": "2022-02-18T14:15:28.264Z"
   },
   {
    "duration": 16,
    "start_time": "2022-02-18T14:15:34.045Z"
   },
   {
    "duration": 3,
    "start_time": "2022-02-18T14:17:20.065Z"
   },
   {
    "duration": 11,
    "start_time": "2022-02-18T14:55:13.887Z"
   },
   {
    "duration": 5,
    "start_time": "2022-02-18T15:20:43.928Z"
   },
   {
    "duration": 14,
    "start_time": "2022-02-18T15:20:44.223Z"
   },
   {
    "duration": 3,
    "start_time": "2022-02-18T15:20:44.464Z"
   },
   {
    "duration": 5,
    "start_time": "2022-02-18T15:20:44.687Z"
   },
   {
    "duration": 52,
    "start_time": "2022-02-18T15:20:45.139Z"
   },
   {
    "duration": 4,
    "start_time": "2022-02-18T15:20:49.013Z"
   },
   {
    "duration": 17,
    "start_time": "2022-02-18T15:20:50.243Z"
   },
   {
    "duration": 14,
    "start_time": "2022-02-18T15:20:51.779Z"
   },
   {
    "duration": 114,
    "start_time": "2022-02-18T17:50:13.455Z"
   },
   {
    "duration": 30,
    "start_time": "2022-02-18T18:08:09.384Z"
   },
   {
    "duration": 4,
    "start_time": "2022-02-18T18:10:26.604Z"
   },
   {
    "duration": 84,
    "start_time": "2022-02-18T18:10:41.965Z"
   },
   {
    "duration": 1300,
    "start_time": "2022-02-18T19:44:04.456Z"
   },
   {
    "duration": 690,
    "start_time": "2022-02-18T19:46:07.204Z"
   },
   {
    "duration": 1623,
    "start_time": "2022-02-18T19:46:14.876Z"
   },
   {
    "duration": 1410,
    "start_time": "2022-02-18T19:49:02.084Z"
   },
   {
    "duration": 1312,
    "start_time": "2022-02-18T19:50:20.800Z"
   },
   {
    "duration": 4,
    "start_time": "2022-02-18T19:57:47.619Z"
   },
   {
    "duration": 9,
    "start_time": "2022-02-18T19:59:06.503Z"
   },
   {
    "duration": 302,
    "start_time": "2022-02-18T20:27:22.880Z"
   },
   {
    "duration": 7520,
    "start_time": "2022-02-18T20:28:27.853Z"
   },
   {
    "duration": 24,
    "start_time": "2022-02-18T20:28:51.183Z"
   },
   {
    "duration": 13,
    "start_time": "2022-02-18T20:30:23.172Z"
   },
   {
    "duration": 134,
    "start_time": "2022-02-18T20:43:10.351Z"
   },
   {
    "duration": 13,
    "start_time": "2022-02-18T20:43:23.582Z"
   },
   {
    "duration": 136,
    "start_time": "2022-02-18T20:56:03.589Z"
   },
   {
    "duration": 295,
    "start_time": "2022-02-18T20:56:54.489Z"
   },
   {
    "duration": 398,
    "start_time": "2022-02-18T20:57:31.909Z"
   },
   {
    "duration": 122,
    "start_time": "2022-02-18T20:57:46.277Z"
   },
   {
    "duration": 125,
    "start_time": "2022-02-18T20:57:47.314Z"
   },
   {
    "duration": 311,
    "start_time": "2022-02-18T20:57:48.181Z"
   },
   {
    "duration": 119,
    "start_time": "2022-02-18T20:58:03.017Z"
   },
   {
    "duration": 296,
    "start_time": "2022-02-18T20:58:03.905Z"
   },
   {
    "duration": 1323,
    "start_time": "2022-02-18T20:58:42.483Z"
   },
   {
    "duration": 16,
    "start_time": "2022-02-18T20:58:43.809Z"
   },
   {
    "duration": 19,
    "start_time": "2022-02-18T20:58:43.829Z"
   },
   {
    "duration": 7,
    "start_time": "2022-02-18T20:58:43.853Z"
   },
   {
    "duration": 108,
    "start_time": "2022-02-18T20:58:43.863Z"
   },
   {
    "duration": 5,
    "start_time": "2022-02-18T20:58:43.973Z"
   },
   {
    "duration": 18,
    "start_time": "2022-02-18T20:58:43.980Z"
   },
   {
    "duration": 12,
    "start_time": "2022-02-18T20:58:44.001Z"
   },
   {
    "duration": 60,
    "start_time": "2022-02-18T20:58:44.016Z"
   },
   {
    "duration": 4,
    "start_time": "2022-02-18T20:58:44.080Z"
   },
   {
    "duration": 99,
    "start_time": "2022-02-18T20:58:44.086Z"
   },
   {
    "duration": 9,
    "start_time": "2022-02-18T20:58:44.188Z"
   },
   {
    "duration": 172,
    "start_time": "2022-02-18T20:58:44.200Z"
   },
   {
    "duration": 7466,
    "start_time": "2022-02-18T20:58:44.375Z"
   },
   {
    "duration": -22,
    "start_time": "2022-02-18T20:58:51.866Z"
   },
   {
    "duration": 126,
    "start_time": "2022-02-18T20:59:30.251Z"
   },
   {
    "duration": 341,
    "start_time": "2022-02-18T20:59:31.459Z"
   },
   {
    "duration": 327,
    "start_time": "2022-02-18T21:00:13.767Z"
   },
   {
    "duration": 450,
    "start_time": "2022-02-18T21:00:25.925Z"
   },
   {
    "duration": 420,
    "start_time": "2022-02-18T21:01:14.931Z"
   },
   {
    "duration": 947,
    "start_time": "2022-02-18T21:02:10.762Z"
   },
   {
    "duration": 548,
    "start_time": "2022-02-18T21:02:33.926Z"
   },
   {
    "duration": 400,
    "start_time": "2022-02-18T21:02:43.282Z"
   },
   {
    "duration": 448,
    "start_time": "2022-02-18T21:04:13.030Z"
   },
   {
    "duration": 430,
    "start_time": "2022-02-18T21:04:28.102Z"
   },
   {
    "duration": 486,
    "start_time": "2022-02-18T21:42:35.079Z"
   },
   {
    "duration": 417,
    "start_time": "2022-02-18T21:45:57.303Z"
   },
   {
    "duration": 1128,
    "start_time": "2022-02-19T08:55:37.957Z"
   },
   {
    "duration": 29,
    "start_time": "2022-02-19T08:55:39.087Z"
   },
   {
    "duration": 17,
    "start_time": "2022-02-19T08:55:39.119Z"
   },
   {
    "duration": 8,
    "start_time": "2022-02-19T08:55:39.138Z"
   },
   {
    "duration": 48,
    "start_time": "2022-02-19T08:55:39.148Z"
   },
   {
    "duration": 3,
    "start_time": "2022-02-19T08:55:39.198Z"
   },
   {
    "duration": 15,
    "start_time": "2022-02-19T08:55:39.203Z"
   },
   {
    "duration": 10,
    "start_time": "2022-02-19T08:55:39.221Z"
   },
   {
    "duration": 52,
    "start_time": "2022-02-19T08:55:39.233Z"
   },
   {
    "duration": 5,
    "start_time": "2022-02-19T08:55:39.286Z"
   },
   {
    "duration": 78,
    "start_time": "2022-02-19T08:55:39.292Z"
   },
   {
    "duration": 6,
    "start_time": "2022-02-19T08:55:39.372Z"
   },
   {
    "duration": 96,
    "start_time": "2022-02-19T08:55:39.380Z"
   },
   {
    "duration": 95,
    "start_time": "2022-02-19T08:55:39.478Z"
   },
   {
    "duration": 336,
    "start_time": "2022-02-19T08:55:39.575Z"
   },
   {
    "duration": 315,
    "start_time": "2022-02-19T08:55:39.913Z"
   },
   {
    "duration": 314,
    "start_time": "2022-02-19T08:59:53.968Z"
   },
   {
    "duration": 236,
    "start_time": "2022-02-19T09:00:37.144Z"
   },
   {
    "duration": 90,
    "start_time": "2022-02-19T09:00:44.676Z"
   },
   {
    "duration": 299,
    "start_time": "2022-02-19T09:01:03.348Z"
   },
   {
    "duration": 336,
    "start_time": "2022-02-19T09:02:42.216Z"
   },
   {
    "duration": 6798,
    "start_time": "2022-02-19T09:04:33.220Z"
   },
   {
    "duration": 7174,
    "start_time": "2022-02-19T09:05:01.184Z"
   },
   {
    "duration": 328,
    "start_time": "2022-02-19T09:07:22.279Z"
   },
   {
    "duration": 358,
    "start_time": "2022-02-19T09:07:33.959Z"
   },
   {
    "duration": 412,
    "start_time": "2022-02-19T09:09:48.867Z"
   },
   {
    "duration": 438,
    "start_time": "2022-02-19T09:09:55.951Z"
   },
   {
    "duration": 459,
    "start_time": "2022-02-19T09:10:28.447Z"
   },
   {
    "duration": 12,
    "start_time": "2022-02-19T09:38:16.371Z"
   },
   {
    "duration": 6,
    "start_time": "2022-02-19T09:48:47.694Z"
   },
   {
    "duration": 14,
    "start_time": "2022-02-19T09:48:54.654Z"
   },
   {
    "duration": 276,
    "start_time": "2022-02-19T09:50:39.724Z"
   },
   {
    "duration": 4,
    "start_time": "2022-02-19T09:50:44.808Z"
   },
   {
    "duration": 4,
    "start_time": "2022-02-19T09:51:29.583Z"
   },
   {
    "duration": 6,
    "start_time": "2022-02-19T09:51:34.694Z"
   },
   {
    "duration": 4,
    "start_time": "2022-02-19T09:51:36.334Z"
   },
   {
    "duration": 210,
    "start_time": "2022-02-19T09:52:05.705Z"
   },
   {
    "duration": 86,
    "start_time": "2022-02-19T09:53:32.210Z"
   },
   {
    "duration": 3,
    "start_time": "2022-02-19T09:53:33.190Z"
   },
   {
    "duration": 52,
    "start_time": "2022-02-19T09:53:33.948Z"
   },
   {
    "duration": 6,
    "start_time": "2022-02-19T09:53:37.198Z"
   },
   {
    "duration": 4,
    "start_time": "2022-02-19T09:53:39.182Z"
   },
   {
    "duration": 206,
    "start_time": "2022-02-19T09:53:53.766Z"
   },
   {
    "duration": 159,
    "start_time": "2022-02-19T09:55:07.330Z"
   },
   {
    "duration": 209,
    "start_time": "2022-02-19T09:56:04.890Z"
   },
   {
    "duration": 167,
    "start_time": "2022-02-19T09:56:41.238Z"
   },
   {
    "duration": 175,
    "start_time": "2022-02-19T09:56:52.908Z"
   },
   {
    "duration": 17,
    "start_time": "2022-02-19T10:10:56.249Z"
   },
   {
    "duration": 7176,
    "start_time": "2022-02-19T10:18:18.350Z"
   },
   {
    "duration": 77,
    "start_time": "2022-02-19T10:18:52.640Z"
   },
   {
    "duration": 82,
    "start_time": "2022-02-19T10:19:06.536Z"
   },
   {
    "duration": 81,
    "start_time": "2022-02-19T10:19:33.296Z"
   },
   {
    "duration": 81,
    "start_time": "2022-02-19T10:21:20.187Z"
   },
   {
    "duration": 81,
    "start_time": "2022-02-19T10:21:40.167Z"
   },
   {
    "duration": 82,
    "start_time": "2022-02-19T10:21:58.063Z"
   },
   {
    "duration": 80,
    "start_time": "2022-02-19T10:23:32.148Z"
   },
   {
    "duration": 86,
    "start_time": "2022-02-19T10:24:24.383Z"
   },
   {
    "duration": 6604,
    "start_time": "2022-02-19T10:25:12.774Z"
   },
   {
    "duration": 268,
    "start_time": "2022-02-19T10:25:27.427Z"
   },
   {
    "duration": 8054,
    "start_time": "2022-02-19T10:30:58.742Z"
   },
   {
    "duration": 311,
    "start_time": "2022-02-19T10:31:12.842Z"
   },
   {
    "duration": 405,
    "start_time": "2022-02-19T10:31:52.155Z"
   },
   {
    "duration": 13,
    "start_time": "2022-02-19T11:19:57.502Z"
   },
   {
    "duration": 20,
    "start_time": "2022-02-19T11:22:37.046Z"
   },
   {
    "duration": 76,
    "start_time": "2022-02-19T11:30:11.897Z"
   },
   {
    "duration": 3,
    "start_time": "2022-02-19T11:30:12.649Z"
   },
   {
    "duration": 51,
    "start_time": "2022-02-19T11:30:13.533Z"
   },
   {
    "duration": 8,
    "start_time": "2022-02-19T11:30:14.376Z"
   },
   {
    "duration": 4,
    "start_time": "2022-02-19T11:30:16.129Z"
   },
   {
    "duration": 91,
    "start_time": "2022-02-19T11:30:17.325Z"
   },
   {
    "duration": 12,
    "start_time": "2022-02-19T11:31:12.828Z"
   },
   {
    "duration": 1061,
    "start_time": "2022-02-19T11:32:57.476Z"
   },
   {
    "duration": 13,
    "start_time": "2022-02-19T11:33:15.120Z"
   },
   {
    "duration": 1140,
    "start_time": "2022-02-19T11:34:55.648Z"
   },
   {
    "duration": 4058,
    "start_time": "2022-02-19T11:35:05.093Z"
   },
   {
    "duration": 14,
    "start_time": "2022-02-19T11:35:15.840Z"
   },
   {
    "duration": 14,
    "start_time": "2022-02-19T11:35:39.836Z"
   },
   {
    "duration": 18,
    "start_time": "2022-02-19T11:37:32.236Z"
   },
   {
    "duration": 10,
    "start_time": "2022-02-19T11:38:53.960Z"
   },
   {
    "duration": 372,
    "start_time": "2022-02-19T11:39:31.200Z"
   },
   {
    "duration": 67,
    "start_time": "2022-02-19T11:40:20.940Z"
   },
   {
    "duration": 133,
    "start_time": "2022-02-19T11:40:48.236Z"
   },
   {
    "duration": 260,
    "start_time": "2022-02-19T11:46:45.959Z"
   },
   {
    "duration": 6651,
    "start_time": "2022-02-19T11:47:19.984Z"
   },
   {
    "duration": 40,
    "start_time": "2022-02-19T11:47:54.375Z"
   },
   {
    "duration": 45,
    "start_time": "2022-02-19T11:49:04.931Z"
   },
   {
    "duration": 90,
    "start_time": "2022-02-19T11:50:46.887Z"
   },
   {
    "duration": 92,
    "start_time": "2022-02-19T11:51:44.426Z"
   },
   {
    "duration": 95,
    "start_time": "2022-02-19T11:52:20.319Z"
   },
   {
    "duration": 49,
    "start_time": "2022-02-19T11:52:52.435Z"
   },
   {
    "duration": 4,
    "start_time": "2022-02-19T11:59:06.870Z"
   },
   {
    "duration": 3555,
    "start_time": "2022-02-19T11:59:30.086Z"
   },
   {
    "duration": 3537,
    "start_time": "2022-02-19T11:59:51.620Z"
   },
   {
    "duration": 3592,
    "start_time": "2022-02-19T12:02:25.202Z"
   },
   {
    "duration": 3623,
    "start_time": "2022-02-19T12:03:02.615Z"
   },
   {
    "duration": 3604,
    "start_time": "2022-02-19T12:05:07.710Z"
   },
   {
    "duration": 95,
    "start_time": "2022-02-19T12:05:39.885Z"
   },
   {
    "duration": 97,
    "start_time": "2022-02-19T12:05:44.806Z"
   },
   {
    "duration": 478,
    "start_time": "2022-02-19T12:06:09.545Z"
   },
   {
    "duration": 487,
    "start_time": "2022-02-19T12:06:28.125Z"
   },
   {
    "duration": 511,
    "start_time": "2022-02-19T12:06:50.446Z"
   },
   {
    "duration": 486,
    "start_time": "2022-02-19T12:08:49.305Z"
   },
   {
    "duration": 484,
    "start_time": "2022-02-19T12:09:22.492Z"
   },
   {
    "duration": 116,
    "start_time": "2022-02-19T12:11:02.445Z"
   },
   {
    "duration": 133,
    "start_time": "2022-02-19T12:11:15.306Z"
   },
   {
    "duration": 129,
    "start_time": "2022-02-19T12:12:55.557Z"
   },
   {
    "duration": 124,
    "start_time": "2022-02-19T12:13:49.001Z"
   },
   {
    "duration": 5,
    "start_time": "2022-02-19T12:13:56.141Z"
   },
   {
    "duration": 306,
    "start_time": "2022-02-19T12:57:22.127Z"
   },
   {
    "duration": 299,
    "start_time": "2022-02-19T12:58:59.567Z"
   },
   {
    "duration": 282,
    "start_time": "2022-02-19T13:01:12.711Z"
   },
   {
    "duration": 290,
    "start_time": "2022-02-19T13:01:44.439Z"
   },
   {
    "duration": 299,
    "start_time": "2022-02-19T13:02:12.163Z"
   },
   {
    "duration": 504,
    "start_time": "2022-02-19T13:02:49.767Z"
   },
   {
    "duration": 312,
    "start_time": "2022-02-19T13:08:46.055Z"
   },
   {
    "duration": 283,
    "start_time": "2022-02-19T13:11:25.674Z"
   },
   {
    "duration": 307,
    "start_time": "2022-02-19T13:11:51.886Z"
   },
   {
    "duration": 285,
    "start_time": "2022-02-19T13:12:00.302Z"
   },
   {
    "duration": 422,
    "start_time": "2022-02-19T13:12:23.666Z"
   },
   {
    "duration": 6593,
    "start_time": "2022-02-19T13:20:43.377Z"
   },
   {
    "duration": 372,
    "start_time": "2022-02-19T13:21:05.653Z"
   },
   {
    "duration": 4,
    "start_time": "2022-02-19T13:22:50.253Z"
   },
   {
    "duration": 274,
    "start_time": "2022-02-19T13:23:05.513Z"
   },
   {
    "duration": 116,
    "start_time": "2022-02-19T13:23:15.881Z"
   },
   {
    "duration": 288,
    "start_time": "2022-02-19T13:23:55.697Z"
   },
   {
    "duration": 257,
    "start_time": "2022-02-19T13:24:10.621Z"
   },
   {
    "duration": 6,
    "start_time": "2022-02-19T13:26:39.592Z"
   },
   {
    "duration": 5,
    "start_time": "2022-02-19T13:29:03.305Z"
   },
   {
    "duration": 4,
    "start_time": "2022-02-19T13:29:12.886Z"
   },
   {
    "duration": 5,
    "start_time": "2022-02-19T13:29:20.114Z"
   },
   {
    "duration": 5,
    "start_time": "2022-02-19T14:03:56.131Z"
   },
   {
    "duration": 86,
    "start_time": "2022-02-19T14:06:34.838Z"
   },
   {
    "duration": 119,
    "start_time": "2022-02-19T14:07:10.003Z"
   },
   {
    "duration": 314,
    "start_time": "2022-02-19T14:07:11.647Z"
   },
   {
    "duration": 4,
    "start_time": "2022-02-19T14:07:16.424Z"
   },
   {
    "duration": 288,
    "start_time": "2022-02-19T14:07:44.114Z"
   },
   {
    "duration": 5,
    "start_time": "2022-02-19T14:08:34.728Z"
   },
   {
    "duration": 10,
    "start_time": "2022-02-19T18:30:26.561Z"
   },
   {
    "duration": 255,
    "start_time": "2022-02-19T18:31:21.293Z"
   },
   {
    "duration": 123,
    "start_time": "2022-02-19T18:32:04.781Z"
   },
   {
    "duration": 6596,
    "start_time": "2022-02-19T18:32:56.739Z"
   },
   {
    "duration": 13,
    "start_time": "2022-02-19T18:35:24.757Z"
   },
   {
    "duration": 10,
    "start_time": "2022-02-19T18:35:46.461Z"
   },
   {
    "duration": 10,
    "start_time": "2022-02-19T18:37:10.689Z"
   },
   {
    "duration": 3,
    "start_time": "2022-02-19T18:42:57.608Z"
   },
   {
    "duration": 12,
    "start_time": "2022-02-19T18:45:40.032Z"
   },
   {
    "duration": 8,
    "start_time": "2022-02-19T18:49:08.788Z"
   },
   {
    "duration": 14,
    "start_time": "2022-02-19T18:49:21.840Z"
   },
   {
    "duration": 15,
    "start_time": "2022-02-19T18:52:11.523Z"
   },
   {
    "duration": 122,
    "start_time": "2022-02-19T19:26:38.728Z"
   },
   {
    "duration": 10,
    "start_time": "2022-02-19T19:30:18.035Z"
   },
   {
    "duration": 15,
    "start_time": "2022-02-19T19:30:22.071Z"
   },
   {
    "duration": 16,
    "start_time": "2022-02-19T19:30:29.971Z"
   },
   {
    "duration": 12,
    "start_time": "2022-02-19T19:31:04.171Z"
   },
   {
    "duration": 21,
    "start_time": "2022-02-19T19:31:05.327Z"
   },
   {
    "duration": 15,
    "start_time": "2022-02-19T19:31:07.592Z"
   },
   {
    "duration": 360,
    "start_time": "2022-02-19T21:57:11.441Z"
   },
   {
    "duration": 435,
    "start_time": "2022-02-19T22:02:12.836Z"
   },
   {
    "duration": 372,
    "start_time": "2022-02-19T22:02:50.932Z"
   },
   {
    "duration": 356,
    "start_time": "2022-02-19T22:03:26.420Z"
   },
   {
    "duration": 365,
    "start_time": "2022-02-19T22:04:07.800Z"
   },
   {
    "duration": 1191,
    "start_time": "2022-02-20T08:21:03.237Z"
   },
   {
    "duration": 14,
    "start_time": "2022-02-20T08:21:04.431Z"
   },
   {
    "duration": 6,
    "start_time": "2022-02-20T08:21:04.448Z"
   },
   {
    "duration": 9,
    "start_time": "2022-02-20T08:21:04.456Z"
   },
   {
    "duration": 51,
    "start_time": "2022-02-20T08:21:04.468Z"
   },
   {
    "duration": 4,
    "start_time": "2022-02-20T08:21:04.521Z"
   },
   {
    "duration": 23,
    "start_time": "2022-02-20T08:21:04.527Z"
   },
   {
    "duration": 28,
    "start_time": "2022-02-20T08:21:04.554Z"
   },
   {
    "duration": 45,
    "start_time": "2022-02-20T08:21:04.584Z"
   },
   {
    "duration": 12,
    "start_time": "2022-02-20T08:21:04.631Z"
   },
   {
    "duration": 65,
    "start_time": "2022-02-20T08:21:04.645Z"
   },
   {
    "duration": 13,
    "start_time": "2022-02-20T08:21:04.712Z"
   },
   {
    "duration": 156,
    "start_time": "2022-02-20T08:21:04.727Z"
   },
   {
    "duration": 359,
    "start_time": "2022-02-20T08:21:04.885Z"
   },
   {
    "duration": 364,
    "start_time": "2022-02-20T08:21:05.246Z"
   },
   {
    "duration": 405,
    "start_time": "2022-02-20T08:21:05.612Z"
   },
   {
    "duration": 319,
    "start_time": "2022-02-20T08:21:06.019Z"
   },
   {
    "duration": 390,
    "start_time": "2022-02-20T08:21:06.340Z"
   },
   {
    "duration": 148,
    "start_time": "2022-02-20T08:21:06.732Z"
   },
   {
    "duration": 419,
    "start_time": "2022-02-20T08:21:06.882Z"
   },
   {
    "duration": 5,
    "start_time": "2022-02-20T08:21:07.302Z"
   },
   {
    "duration": 409,
    "start_time": "2022-02-20T08:21:07.309Z"
   },
   {
    "duration": 5,
    "start_time": "2022-02-20T08:21:07.721Z"
   },
   {
    "duration": 136,
    "start_time": "2022-02-20T08:21:07.728Z"
   },
   {
    "duration": 13,
    "start_time": "2022-02-20T08:21:07.865Z"
   },
   {
    "duration": 20,
    "start_time": "2022-02-20T08:21:07.880Z"
   },
   {
    "duration": 41,
    "start_time": "2022-02-20T08:21:07.902Z"
   },
   {
    "duration": 34,
    "start_time": "2022-02-20T08:21:07.945Z"
   },
   {
    "duration": 31,
    "start_time": "2022-02-20T08:21:07.980Z"
   },
   {
    "duration": 6,
    "start_time": "2022-02-20T08:21:23.791Z"
   },
   {
    "duration": 4,
    "start_time": "2022-02-20T08:22:03.788Z"
   },
   {
    "duration": 6,
    "start_time": "2022-02-20T08:23:26.559Z"
   },
   {
    "duration": 5,
    "start_time": "2022-02-20T08:23:52.715Z"
   },
   {
    "duration": 115,
    "start_time": "2022-02-20T08:50:45.236Z"
   },
   {
    "duration": 10,
    "start_time": "2022-02-20T08:51:16.837Z"
   },
   {
    "duration": 10,
    "start_time": "2022-02-20T08:51:44.805Z"
   },
   {
    "duration": 11,
    "start_time": "2022-02-20T08:52:47.397Z"
   },
   {
    "duration": 267,
    "start_time": "2022-02-20T09:13:23.168Z"
   },
   {
    "duration": 114,
    "start_time": "2022-02-20T10:13:11.842Z"
   },
   {
    "duration": 8,
    "start_time": "2022-02-20T10:13:27.894Z"
   },
   {
    "duration": 1110,
    "start_time": "2022-02-20T10:13:33.599Z"
   },
   {
    "duration": 13,
    "start_time": "2022-02-20T10:13:34.711Z"
   },
   {
    "duration": 9,
    "start_time": "2022-02-20T10:13:34.727Z"
   },
   {
    "duration": 6,
    "start_time": "2022-02-20T10:13:34.739Z"
   },
   {
    "duration": 43,
    "start_time": "2022-02-20T10:13:34.747Z"
   },
   {
    "duration": 3,
    "start_time": "2022-02-20T10:13:34.792Z"
   },
   {
    "duration": 29,
    "start_time": "2022-02-20T10:13:34.797Z"
   },
   {
    "duration": 10,
    "start_time": "2022-02-20T10:13:34.828Z"
   },
   {
    "duration": 39,
    "start_time": "2022-02-20T10:13:34.840Z"
   },
   {
    "duration": 3,
    "start_time": "2022-02-20T10:13:34.880Z"
   },
   {
    "duration": 63,
    "start_time": "2022-02-20T10:13:34.884Z"
   },
   {
    "duration": 6,
    "start_time": "2022-02-20T10:13:34.948Z"
   },
   {
    "duration": 13,
    "start_time": "2022-02-20T10:13:34.956Z"
   },
   {
    "duration": 123,
    "start_time": "2022-02-20T10:13:34.971Z"
   },
   {
    "duration": 295,
    "start_time": "2022-02-20T10:13:35.096Z"
   },
   {
    "duration": 282,
    "start_time": "2022-02-20T10:13:35.393Z"
   },
   {
    "duration": 381,
    "start_time": "2022-02-20T10:13:35.677Z"
   },
   {
    "duration": 276,
    "start_time": "2022-02-20T10:13:36.060Z"
   },
   {
    "duration": 393,
    "start_time": "2022-02-20T10:13:36.338Z"
   },
   {
    "duration": 62,
    "start_time": "2022-02-20T10:13:36.733Z"
   },
   {
    "duration": 411,
    "start_time": "2022-02-20T10:13:36.797Z"
   },
   {
    "duration": 12,
    "start_time": "2022-02-20T10:13:37.210Z"
   },
   {
    "duration": 431,
    "start_time": "2022-02-20T10:13:37.226Z"
   },
   {
    "duration": 5,
    "start_time": "2022-02-20T10:13:37.659Z"
   },
   {
    "duration": 98,
    "start_time": "2022-02-20T10:13:37.666Z"
   },
   {
    "duration": 56,
    "start_time": "2022-02-20T10:13:37.766Z"
   },
   {
    "duration": 13,
    "start_time": "2022-02-20T10:13:37.824Z"
   },
   {
    "duration": 13,
    "start_time": "2022-02-20T10:13:37.839Z"
   },
   {
    "duration": 14,
    "start_time": "2022-02-20T10:13:37.853Z"
   },
   {
    "duration": 12,
    "start_time": "2022-02-20T10:13:37.869Z"
   },
   {
    "duration": 1078,
    "start_time": "2022-02-20T10:37:17.445Z"
   },
   {
    "duration": 12,
    "start_time": "2022-02-20T10:37:18.525Z"
   },
   {
    "duration": 15,
    "start_time": "2022-02-20T10:37:18.540Z"
   },
   {
    "duration": 36,
    "start_time": "2022-02-20T10:37:18.557Z"
   },
   {
    "duration": 59,
    "start_time": "2022-02-20T10:37:18.595Z"
   },
   {
    "duration": 3,
    "start_time": "2022-02-20T10:37:18.656Z"
   },
   {
    "duration": 36,
    "start_time": "2022-02-20T10:37:18.660Z"
   },
   {
    "duration": 12,
    "start_time": "2022-02-20T10:37:18.699Z"
   },
   {
    "duration": 49,
    "start_time": "2022-02-20T10:37:18.714Z"
   },
   {
    "duration": 11,
    "start_time": "2022-02-20T10:37:18.765Z"
   },
   {
    "duration": 64,
    "start_time": "2022-02-20T10:37:18.778Z"
   },
   {
    "duration": 6,
    "start_time": "2022-02-20T10:37:18.844Z"
   },
   {
    "duration": 143,
    "start_time": "2022-02-20T10:37:18.852Z"
   },
   {
    "duration": 293,
    "start_time": "2022-02-20T10:37:18.997Z"
   },
   {
    "duration": 281,
    "start_time": "2022-02-20T10:37:19.292Z"
   },
   {
    "duration": 369,
    "start_time": "2022-02-20T10:37:19.575Z"
   },
   {
    "duration": 340,
    "start_time": "2022-02-20T10:37:19.945Z"
   },
   {
    "duration": 418,
    "start_time": "2022-02-20T10:37:20.287Z"
   },
   {
    "duration": 137,
    "start_time": "2022-02-20T10:37:20.706Z"
   },
   {
    "duration": 362,
    "start_time": "2022-02-20T10:37:20.845Z"
   },
   {
    "duration": 10,
    "start_time": "2022-02-20T10:37:21.209Z"
   },
   {
    "duration": 384,
    "start_time": "2022-02-20T10:37:21.220Z"
   },
   {
    "duration": 4,
    "start_time": "2022-02-20T10:37:21.607Z"
   },
   {
    "duration": 126,
    "start_time": "2022-02-20T10:37:21.617Z"
   },
   {
    "duration": 12,
    "start_time": "2022-02-20T10:37:21.745Z"
   },
   {
    "duration": 10,
    "start_time": "2022-02-20T10:37:21.759Z"
   },
   {
    "duration": 9,
    "start_time": "2022-02-20T10:37:21.770Z"
   },
   {
    "duration": 42,
    "start_time": "2022-02-20T10:37:21.781Z"
   },
   {
    "duration": 26,
    "start_time": "2022-02-20T10:37:21.825Z"
   },
   {
    "duration": 1127,
    "start_time": "2022-02-20T10:37:49.474Z"
   },
   {
    "duration": 11,
    "start_time": "2022-02-20T10:37:50.603Z"
   },
   {
    "duration": 8,
    "start_time": "2022-02-20T10:37:50.619Z"
   },
   {
    "duration": 5,
    "start_time": "2022-02-20T10:37:50.628Z"
   },
   {
    "duration": 46,
    "start_time": "2022-02-20T10:37:50.635Z"
   },
   {
    "duration": 3,
    "start_time": "2022-02-20T10:37:50.683Z"
   },
   {
    "duration": 34,
    "start_time": "2022-02-20T10:37:50.687Z"
   },
   {
    "duration": 12,
    "start_time": "2022-02-20T10:37:50.723Z"
   },
   {
    "duration": 27,
    "start_time": "2022-02-20T10:37:50.739Z"
   },
   {
    "duration": 3,
    "start_time": "2022-02-20T10:37:50.769Z"
   },
   {
    "duration": 61,
    "start_time": "2022-02-20T10:37:50.774Z"
   },
   {
    "duration": 5,
    "start_time": "2022-02-20T10:37:50.837Z"
   },
   {
    "duration": 138,
    "start_time": "2022-02-20T10:37:50.844Z"
   },
   {
    "duration": 278,
    "start_time": "2022-02-20T10:37:50.984Z"
   },
   {
    "duration": 275,
    "start_time": "2022-02-20T10:37:51.263Z"
   },
   {
    "duration": 374,
    "start_time": "2022-02-20T10:37:51.539Z"
   },
   {
    "duration": 290,
    "start_time": "2022-02-20T10:37:51.918Z"
   },
   {
    "duration": 402,
    "start_time": "2022-02-20T10:37:52.210Z"
   },
   {
    "duration": 126,
    "start_time": "2022-02-20T10:37:52.614Z"
   },
   {
    "duration": 341,
    "start_time": "2022-02-20T10:37:52.742Z"
   },
   {
    "duration": 5,
    "start_time": "2022-02-20T10:37:53.085Z"
   },
   {
    "duration": 383,
    "start_time": "2022-02-20T10:37:53.092Z"
   },
   {
    "duration": 4,
    "start_time": "2022-02-20T10:37:53.476Z"
   },
   {
    "duration": 121,
    "start_time": "2022-02-20T10:37:53.482Z"
   },
   {
    "duration": 17,
    "start_time": "2022-02-20T10:37:53.605Z"
   },
   {
    "duration": 11,
    "start_time": "2022-02-20T10:37:53.624Z"
   },
   {
    "duration": 10,
    "start_time": "2022-02-20T10:37:53.638Z"
   },
   {
    "duration": 19,
    "start_time": "2022-02-20T10:37:53.650Z"
   },
   {
    "duration": 48,
    "start_time": "2022-02-20T10:37:53.670Z"
   },
   {
    "duration": 405,
    "start_time": "2022-02-20T10:52:45.708Z"
   },
   {
    "duration": 397,
    "start_time": "2022-02-20T10:53:02.909Z"
   },
   {
    "duration": 77,
    "start_time": "2022-02-20T11:07:37.935Z"
   },
   {
    "duration": 84,
    "start_time": "2022-02-20T11:09:23.348Z"
   },
   {
    "duration": 119,
    "start_time": "2022-02-20T12:45:06.532Z"
   },
   {
    "duration": 91,
    "start_time": "2022-02-20T12:51:50.848Z"
   },
   {
    "duration": 161,
    "start_time": "2022-02-20T13:08:00.327Z"
   },
   {
    "duration": 90,
    "start_time": "2022-02-20T13:10:20.617Z"
   },
   {
    "duration": 100,
    "start_time": "2022-02-20T13:11:02.649Z"
   },
   {
    "duration": 353,
    "start_time": "2022-02-20T13:13:24.472Z"
   },
   {
    "duration": 97,
    "start_time": "2022-02-20T13:22:35.428Z"
   },
   {
    "duration": 1469,
    "start_time": "2022-02-20T13:26:03.084Z"
   },
   {
    "duration": 14,
    "start_time": "2022-02-20T13:26:04.556Z"
   },
   {
    "duration": 3,
    "start_time": "2022-02-20T13:26:04.574Z"
   },
   {
    "duration": 5,
    "start_time": "2022-02-20T13:26:04.580Z"
   },
   {
    "duration": 70,
    "start_time": "2022-02-20T13:26:04.588Z"
   },
   {
    "duration": 4,
    "start_time": "2022-02-20T13:26:04.661Z"
   },
   {
    "duration": 19,
    "start_time": "2022-02-20T13:26:04.666Z"
   },
   {
    "duration": 32,
    "start_time": "2022-02-20T13:26:04.688Z"
   },
   {
    "duration": 29,
    "start_time": "2022-02-20T13:26:04.722Z"
   },
   {
    "duration": 3,
    "start_time": "2022-02-20T13:26:04.756Z"
   },
   {
    "duration": 61,
    "start_time": "2022-02-20T13:26:04.761Z"
   },
   {
    "duration": 8,
    "start_time": "2022-02-20T13:26:04.825Z"
   },
   {
    "duration": 143,
    "start_time": "2022-02-20T13:26:04.835Z"
   },
   {
    "duration": 297,
    "start_time": "2022-02-20T13:26:04.980Z"
   },
   {
    "duration": 299,
    "start_time": "2022-02-20T13:26:05.279Z"
   },
   {
    "duration": 393,
    "start_time": "2022-02-20T13:26:05.580Z"
   },
   {
    "duration": 294,
    "start_time": "2022-02-20T13:26:05.975Z"
   },
   {
    "duration": 395,
    "start_time": "2022-02-20T13:26:06.271Z"
   },
   {
    "duration": 152,
    "start_time": "2022-02-20T13:26:06.668Z"
   },
   {
    "duration": 379,
    "start_time": "2022-02-20T13:26:06.821Z"
   },
   {
    "duration": 5,
    "start_time": "2022-02-20T13:26:07.202Z"
   },
   {
    "duration": 389,
    "start_time": "2022-02-20T13:26:07.218Z"
   },
   {
    "duration": 10,
    "start_time": "2022-02-20T13:26:07.611Z"
   },
   {
    "duration": 217,
    "start_time": "2022-02-20T13:26:07.624Z"
   },
   {
    "duration": 12,
    "start_time": "2022-02-20T13:26:07.844Z"
   },
   {
    "duration": 10,
    "start_time": "2022-02-20T13:26:07.858Z"
   },
   {
    "duration": 10,
    "start_time": "2022-02-20T13:26:07.870Z"
   },
   {
    "duration": 44,
    "start_time": "2022-02-20T13:26:07.883Z"
   },
   {
    "duration": 21,
    "start_time": "2022-02-20T13:26:07.930Z"
   },
   {
    "duration": 1569,
    "start_time": "2022-02-20T18:14:08.576Z"
   },
   {
    "duration": 31,
    "start_time": "2022-02-20T18:14:10.148Z"
   },
   {
    "duration": 4,
    "start_time": "2022-02-20T18:14:10.183Z"
   },
   {
    "duration": 7,
    "start_time": "2022-02-20T18:14:10.190Z"
   },
   {
    "duration": 92,
    "start_time": "2022-02-20T18:14:10.200Z"
   },
   {
    "duration": 4,
    "start_time": "2022-02-20T18:14:10.295Z"
   },
   {
    "duration": 112,
    "start_time": "2022-02-20T18:14:10.302Z"
   },
   {
    "duration": 13,
    "start_time": "2022-02-20T18:14:10.416Z"
   },
   {
    "duration": 35,
    "start_time": "2022-02-20T18:14:10.434Z"
   },
   {
    "duration": 4,
    "start_time": "2022-02-20T18:14:10.472Z"
   },
   {
    "duration": 120,
    "start_time": "2022-02-20T18:14:10.478Z"
   },
   {
    "duration": 8,
    "start_time": "2022-02-20T18:14:10.601Z"
   },
   {
    "duration": 209,
    "start_time": "2022-02-20T18:14:10.611Z"
   },
   {
    "duration": 482,
    "start_time": "2022-02-20T18:14:10.823Z"
   },
   {
    "duration": 503,
    "start_time": "2022-02-20T18:14:11.308Z"
   },
   {
    "duration": 588,
    "start_time": "2022-02-20T18:14:11.814Z"
   },
   {
    "duration": 489,
    "start_time": "2022-02-20T18:14:12.405Z"
   },
   {
    "duration": 508,
    "start_time": "2022-02-20T18:14:12.896Z"
   },
   {
    "duration": 116,
    "start_time": "2022-02-20T18:14:13.406Z"
   },
   {
    "duration": 549,
    "start_time": "2022-02-20T18:14:13.525Z"
   },
   {
    "duration": 7,
    "start_time": "2022-02-20T18:14:14.077Z"
   },
   {
    "duration": 518,
    "start_time": "2022-02-20T18:14:14.087Z"
   },
   {
    "duration": 7,
    "start_time": "2022-02-20T18:14:14.607Z"
   },
   {
    "duration": 145,
    "start_time": "2022-02-20T18:14:14.616Z"
   },
   {
    "duration": 102,
    "start_time": "2022-02-20T18:14:14.764Z"
   },
   {
    "duration": 16,
    "start_time": "2022-02-20T18:14:14.869Z"
   },
   {
    "duration": 12,
    "start_time": "2022-02-20T18:14:14.891Z"
   },
   {
    "duration": 17,
    "start_time": "2022-02-20T18:14:14.906Z"
   },
   {
    "duration": 21,
    "start_time": "2022-02-20T18:14:14.962Z"
   },
   {
    "duration": 13,
    "start_time": "2022-02-20T18:20:55.212Z"
   },
   {
    "duration": 3,
    "start_time": "2022-02-20T18:38:48.733Z"
   },
   {
    "duration": 53,
    "start_time": "2022-02-20T18:38:50.686Z"
   },
   {
    "duration": 1276,
    "start_time": "2022-02-20T18:39:09.718Z"
   },
   {
    "duration": 18,
    "start_time": "2022-02-20T18:39:10.997Z"
   },
   {
    "duration": 3,
    "start_time": "2022-02-20T18:39:11.018Z"
   },
   {
    "duration": 6,
    "start_time": "2022-02-20T18:39:11.023Z"
   },
   {
    "duration": 6,
    "start_time": "2022-02-20T18:39:11.030Z"
   },
   {
    "duration": 39,
    "start_time": "2022-02-20T18:39:11.038Z"
   },
   {
    "duration": 3,
    "start_time": "2022-02-20T18:39:11.079Z"
   },
   {
    "duration": 47,
    "start_time": "2022-02-20T18:39:11.084Z"
   },
   {
    "duration": 11,
    "start_time": "2022-02-20T18:39:11.134Z"
   },
   {
    "duration": 45,
    "start_time": "2022-02-20T18:39:11.148Z"
   },
   {
    "duration": 3,
    "start_time": "2022-02-20T18:39:11.195Z"
   },
   {
    "duration": 57,
    "start_time": "2022-02-20T18:39:11.199Z"
   },
   {
    "duration": 7,
    "start_time": "2022-02-20T18:39:11.257Z"
   },
   {
    "duration": 155,
    "start_time": "2022-02-20T18:39:11.265Z"
   },
   {
    "duration": 291,
    "start_time": "2022-02-20T18:39:11.423Z"
   },
   {
    "duration": 273,
    "start_time": "2022-02-20T18:39:11.719Z"
   },
   {
    "duration": 424,
    "start_time": "2022-02-20T18:39:11.994Z"
   },
   {
    "duration": 298,
    "start_time": "2022-02-20T18:39:12.420Z"
   },
   {
    "duration": 383,
    "start_time": "2022-02-20T18:39:12.720Z"
   },
   {
    "duration": 135,
    "start_time": "2022-02-20T18:39:13.105Z"
   },
   {
    "duration": 446,
    "start_time": "2022-02-20T18:39:13.242Z"
   },
   {
    "duration": 6,
    "start_time": "2022-02-20T18:39:13.690Z"
   },
   {
    "duration": 496,
    "start_time": "2022-02-20T18:39:13.701Z"
   },
   {
    "duration": 5,
    "start_time": "2022-02-20T18:39:14.200Z"
   },
   {
    "duration": 143,
    "start_time": "2022-02-20T18:39:14.219Z"
   },
   {
    "duration": 13,
    "start_time": "2022-02-20T18:39:14.365Z"
   },
   {
    "duration": 10,
    "start_time": "2022-02-20T18:39:14.380Z"
   },
   {
    "duration": 33,
    "start_time": "2022-02-20T18:39:14.392Z"
   },
   {
    "duration": 36,
    "start_time": "2022-02-20T18:39:14.427Z"
   },
   {
    "duration": 20,
    "start_time": "2022-02-20T18:39:14.465Z"
   },
   {
    "duration": 12,
    "start_time": "2022-02-20T18:40:22.682Z"
   },
   {
    "duration": 13,
    "start_time": "2022-02-20T18:40:54.878Z"
   },
   {
    "duration": 11,
    "start_time": "2022-02-20T18:52:43.196Z"
   },
   {
    "duration": 11,
    "start_time": "2022-02-20T18:53:49.830Z"
   },
   {
    "duration": 11,
    "start_time": "2022-02-20T18:55:11.005Z"
   },
   {
    "duration": 334,
    "start_time": "2022-02-20T18:58:11.937Z"
   },
   {
    "duration": 11,
    "start_time": "2022-02-20T18:58:21.824Z"
   },
   {
    "duration": 171,
    "start_time": "2022-02-20T18:59:21.400Z"
   },
   {
    "duration": 573,
    "start_time": "2022-02-20T19:00:17.208Z"
   },
   {
    "duration": 29,
    "start_time": "2022-02-20T19:01:11.523Z"
   },
   {
    "duration": 20,
    "start_time": "2022-02-20T19:06:52.351Z"
   },
   {
    "duration": 97,
    "start_time": "2022-02-20T19:07:18.296Z"
   },
   {
    "duration": 92,
    "start_time": "2022-02-20T19:07:23.659Z"
   },
   {
    "duration": 20,
    "start_time": "2022-02-20T19:08:00.711Z"
   },
   {
    "duration": 6,
    "start_time": "2022-02-20T19:14:07.458Z"
   },
   {
    "duration": 9,
    "start_time": "2022-02-20T19:14:17.403Z"
   },
   {
    "duration": 329,
    "start_time": "2022-02-20T19:17:54.157Z"
   },
   {
    "duration": 96,
    "start_time": "2022-02-20T19:18:58.119Z"
   },
   {
    "duration": 319,
    "start_time": "2022-02-20T19:19:12.882Z"
   },
   {
    "duration": 13,
    "start_time": "2022-02-20T19:19:21.382Z"
   },
   {
    "duration": 22,
    "start_time": "2022-02-20T19:19:31.270Z"
   },
   {
    "duration": 88,
    "start_time": "2022-02-20T19:20:21.026Z"
   },
   {
    "duration": 31,
    "start_time": "2022-02-20T19:20:25.426Z"
   },
   {
    "duration": 12,
    "start_time": "2022-02-20T19:23:54.822Z"
   },
   {
    "duration": 16,
    "start_time": "2022-02-20T19:24:04.502Z"
   },
   {
    "duration": 17,
    "start_time": "2022-02-20T19:24:31.435Z"
   },
   {
    "duration": 95,
    "start_time": "2022-02-20T19:28:27.861Z"
   },
   {
    "duration": 21,
    "start_time": "2022-02-20T19:28:57.156Z"
   },
   {
    "duration": 9,
    "start_time": "2022-02-20T19:28:59.329Z"
   },
   {
    "duration": 1254,
    "start_time": "2022-02-20T19:29:08.205Z"
   },
   {
    "duration": 14,
    "start_time": "2022-02-20T19:29:09.462Z"
   },
   {
    "duration": 8,
    "start_time": "2022-02-20T19:29:09.478Z"
   },
   {
    "duration": 8,
    "start_time": "2022-02-20T19:29:09.489Z"
   },
   {
    "duration": 9,
    "start_time": "2022-02-20T19:29:09.499Z"
   },
   {
    "duration": 43,
    "start_time": "2022-02-20T19:29:09.510Z"
   },
   {
    "duration": 4,
    "start_time": "2022-02-20T19:29:09.555Z"
   },
   {
    "duration": 26,
    "start_time": "2022-02-20T19:29:09.561Z"
   },
   {
    "duration": 35,
    "start_time": "2022-02-20T19:29:09.590Z"
   },
   {
    "duration": 501,
    "start_time": "2022-02-20T19:29:09.627Z"
   },
   {
    "duration": 28,
    "start_time": "2022-02-20T19:29:10.131Z"
   },
   {
    "duration": 3,
    "start_time": "2022-02-20T19:29:10.161Z"
   },
   {
    "duration": 79,
    "start_time": "2022-02-20T19:29:10.165Z"
   },
   {
    "duration": 10,
    "start_time": "2022-02-20T19:29:10.246Z"
   },
   {
    "duration": 21,
    "start_time": "2022-02-20T19:29:10.258Z"
   },
   {
    "duration": 41,
    "start_time": "2022-02-20T19:29:10.282Z"
   },
   {
    "duration": 146,
    "start_time": "2022-02-20T19:29:10.325Z"
   },
   {
    "duration": 306,
    "start_time": "2022-02-20T19:29:10.474Z"
   },
   {
    "duration": 302,
    "start_time": "2022-02-20T19:29:10.782Z"
   },
   {
    "duration": 464,
    "start_time": "2022-02-20T19:29:11.086Z"
   },
   {
    "duration": 299,
    "start_time": "2022-02-20T19:29:11.553Z"
   },
   {
    "duration": 586,
    "start_time": "2022-02-20T19:29:11.854Z"
   },
   {
    "duration": 206,
    "start_time": "2022-02-20T19:29:12.445Z"
   },
   {
    "duration": 362,
    "start_time": "2022-02-20T19:29:12.654Z"
   },
   {
    "duration": 5,
    "start_time": "2022-02-20T19:29:13.018Z"
   },
   {
    "duration": 388,
    "start_time": "2022-02-20T19:29:13.025Z"
   },
   {
    "duration": 5,
    "start_time": "2022-02-20T19:29:13.415Z"
   },
   {
    "duration": 154,
    "start_time": "2022-02-20T19:29:13.422Z"
   },
   {
    "duration": 14,
    "start_time": "2022-02-20T19:29:13.579Z"
   },
   {
    "duration": 30,
    "start_time": "2022-02-20T19:29:13.596Z"
   },
   {
    "duration": 11,
    "start_time": "2022-02-20T19:29:13.628Z"
   },
   {
    "duration": 17,
    "start_time": "2022-02-20T19:29:13.641Z"
   },
   {
    "duration": 15,
    "start_time": "2022-02-20T19:29:13.660Z"
   },
   {
    "duration": 668,
    "start_time": "2022-02-20T19:33:26.972Z"
   },
   {
    "duration": 380,
    "start_time": "2022-02-20T19:33:49.611Z"
   },
   {
    "duration": 5,
    "start_time": "2022-02-20T19:34:01.915Z"
   },
   {
    "duration": 11,
    "start_time": "2022-02-20T19:35:07.544Z"
   },
   {
    "duration": 19,
    "start_time": "2022-02-20T19:35:15.178Z"
   },
   {
    "duration": 18,
    "start_time": "2022-02-20T19:35:52.119Z"
   },
   {
    "duration": 342,
    "start_time": "2022-02-20T19:37:57.283Z"
   },
   {
    "duration": 352,
    "start_time": "2022-02-20T19:38:38.731Z"
   },
   {
    "duration": 311,
    "start_time": "2022-02-20T19:40:31.229Z"
   },
   {
    "duration": 311,
    "start_time": "2022-02-20T19:40:47.959Z"
   },
   {
    "duration": 314,
    "start_time": "2022-02-20T19:40:55.942Z"
   },
   {
    "duration": 301,
    "start_time": "2022-02-20T19:41:02.407Z"
   },
   {
    "duration": 406,
    "start_time": "2022-02-20T19:41:22.522Z"
   },
   {
    "duration": 20,
    "start_time": "2022-02-20T20:47:51.225Z"
   },
   {
    "duration": 301,
    "start_time": "2022-02-20T20:52:44.932Z"
   },
   {
    "duration": 18,
    "start_time": "2022-02-20T20:52:54.376Z"
   },
   {
    "duration": 24,
    "start_time": "2022-02-20T20:56:36.708Z"
   },
   {
    "duration": 335,
    "start_time": "2022-02-20T20:56:51.256Z"
   },
   {
    "duration": 261,
    "start_time": "2022-02-20T20:57:08.052Z"
   },
   {
    "duration": 19,
    "start_time": "2022-02-20T20:57:23.967Z"
   },
   {
    "duration": 17,
    "start_time": "2022-02-20T20:57:53.836Z"
   },
   {
    "duration": 106,
    "start_time": "2022-02-20T21:02:31.784Z"
   },
   {
    "duration": 250,
    "start_time": "2022-02-20T21:14:06.677Z"
   },
   {
    "duration": 15,
    "start_time": "2022-02-20T21:28:20.446Z"
   },
   {
    "duration": 14,
    "start_time": "2022-02-20T21:28:23.136Z"
   },
   {
    "duration": 16,
    "start_time": "2022-02-20T21:28:42.053Z"
   },
   {
    "duration": 15,
    "start_time": "2022-02-20T21:29:11.173Z"
   },
   {
    "duration": 16,
    "start_time": "2022-02-20T21:29:22.338Z"
   },
   {
    "duration": 13,
    "start_time": "2022-02-20T21:29:32.194Z"
   },
   {
    "duration": 16,
    "start_time": "2022-02-20T21:30:58.921Z"
   },
   {
    "duration": 11,
    "start_time": "2022-02-20T21:34:53.461Z"
   },
   {
    "duration": 12,
    "start_time": "2022-02-20T21:35:10.578Z"
   },
   {
    "duration": 315,
    "start_time": "2022-02-21T07:23:54.387Z"
   },
   {
    "duration": 1562,
    "start_time": "2022-02-21T07:24:00.983Z"
   },
   {
    "duration": 20,
    "start_time": "2022-02-21T07:24:02.548Z"
   },
   {
    "duration": 13,
    "start_time": "2022-02-21T07:24:02.573Z"
   },
   {
    "duration": 11,
    "start_time": "2022-02-21T07:24:02.589Z"
   },
   {
    "duration": 12,
    "start_time": "2022-02-21T07:24:02.602Z"
   },
   {
    "duration": 78,
    "start_time": "2022-02-21T07:24:02.616Z"
   },
   {
    "duration": 4,
    "start_time": "2022-02-21T07:24:02.697Z"
   },
   {
    "duration": 36,
    "start_time": "2022-02-21T07:24:02.705Z"
   },
   {
    "duration": 18,
    "start_time": "2022-02-21T07:24:02.744Z"
   },
   {
    "duration": 846,
    "start_time": "2022-02-21T07:24:02.764Z"
   },
   {
    "duration": 41,
    "start_time": "2022-02-21T07:24:03.614Z"
   },
   {
    "duration": 4,
    "start_time": "2022-02-21T07:24:03.658Z"
   },
   {
    "duration": 93,
    "start_time": "2022-02-21T07:24:03.664Z"
   },
   {
    "duration": 11,
    "start_time": "2022-02-21T07:24:03.760Z"
   },
   {
    "duration": 64,
    "start_time": "2022-02-21T07:24:03.773Z"
   },
   {
    "duration": 12,
    "start_time": "2022-02-21T07:24:03.839Z"
   },
   {
    "duration": 236,
    "start_time": "2022-02-21T07:24:03.853Z"
   },
   {
    "duration": 671,
    "start_time": "2022-02-21T07:24:04.092Z"
   },
   {
    "duration": 508,
    "start_time": "2022-02-21T07:24:04.766Z"
   },
   {
    "duration": 605,
    "start_time": "2022-02-21T07:24:05.277Z"
   },
   {
    "duration": 463,
    "start_time": "2022-02-21T07:24:05.884Z"
   },
   {
    "duration": 604,
    "start_time": "2022-02-21T07:24:06.350Z"
   },
   {
    "duration": 204,
    "start_time": "2022-02-21T07:24:06.961Z"
   },
   {
    "duration": 468,
    "start_time": "2022-02-21T07:24:07.168Z"
   },
   {
    "duration": 5,
    "start_time": "2022-02-21T07:24:07.639Z"
   },
   {
    "duration": 498,
    "start_time": "2022-02-21T07:24:07.646Z"
   },
   {
    "duration": 5,
    "start_time": "2022-02-21T07:24:08.147Z"
   },
   {
    "duration": 243,
    "start_time": "2022-02-21T07:24:08.154Z"
   },
   {
    "duration": 29,
    "start_time": "2022-02-21T07:24:08.400Z"
   },
   {
    "duration": 19,
    "start_time": "2022-02-21T07:24:08.432Z"
   },
   {
    "duration": 35,
    "start_time": "2022-02-21T07:24:08.453Z"
   },
   {
    "duration": 34,
    "start_time": "2022-02-21T07:24:08.491Z"
   },
   {
    "duration": 36,
    "start_time": "2022-02-21T07:24:08.527Z"
   },
   {
    "duration": 1171,
    "start_time": "2022-02-21T15:39:54.027Z"
   },
   {
    "duration": 11,
    "start_time": "2022-02-21T15:39:55.200Z"
   },
   {
    "duration": 11,
    "start_time": "2022-02-21T15:39:55.213Z"
   },
   {
    "duration": 13,
    "start_time": "2022-02-21T15:39:55.226Z"
   },
   {
    "duration": 8,
    "start_time": "2022-02-21T15:39:55.241Z"
   },
   {
    "duration": 48,
    "start_time": "2022-02-21T15:39:55.251Z"
   },
   {
    "duration": 2,
    "start_time": "2022-02-21T15:39:55.301Z"
   },
   {
    "duration": 19,
    "start_time": "2022-02-21T15:39:55.306Z"
   },
   {
    "duration": 10,
    "start_time": "2022-02-21T15:39:55.328Z"
   },
   {
    "duration": 312,
    "start_time": "2022-02-21T15:39:55.340Z"
   },
   {
    "duration": 31,
    "start_time": "2022-02-21T15:39:55.654Z"
   },
   {
    "duration": 8,
    "start_time": "2022-02-21T15:39:55.687Z"
   },
   {
    "duration": 57,
    "start_time": "2022-02-21T15:39:55.696Z"
   },
   {
    "duration": 5,
    "start_time": "2022-02-21T15:39:55.755Z"
   },
   {
    "duration": 22,
    "start_time": "2022-02-21T15:39:55.762Z"
   },
   {
    "duration": 7,
    "start_time": "2022-02-21T15:39:55.785Z"
   },
   {
    "duration": 150,
    "start_time": "2022-02-21T15:39:55.793Z"
   },
   {
    "duration": 346,
    "start_time": "2022-02-21T15:39:55.945Z"
   },
   {
    "duration": 314,
    "start_time": "2022-02-21T15:39:56.292Z"
   },
   {
    "duration": 450,
    "start_time": "2022-02-21T15:39:56.608Z"
   },
   {
    "duration": 274,
    "start_time": "2022-02-21T15:39:57.060Z"
   },
   {
    "duration": 454,
    "start_time": "2022-02-21T15:39:57.336Z"
   },
   {
    "duration": 107,
    "start_time": "2022-02-21T15:39:57.793Z"
   },
   {
    "duration": 370,
    "start_time": "2022-02-21T15:39:57.902Z"
   },
   {
    "duration": 4,
    "start_time": "2022-02-21T15:39:58.273Z"
   },
   {
    "duration": 353,
    "start_time": "2022-02-21T15:39:58.279Z"
   },
   {
    "duration": 5,
    "start_time": "2022-02-21T15:39:58.634Z"
   },
   {
    "duration": 124,
    "start_time": "2022-02-21T15:39:58.640Z"
   },
   {
    "duration": 12,
    "start_time": "2022-02-21T15:39:58.766Z"
   },
   {
    "duration": 10,
    "start_time": "2022-02-21T15:39:58.780Z"
   },
   {
    "duration": 9,
    "start_time": "2022-02-21T15:39:58.791Z"
   },
   {
    "duration": 13,
    "start_time": "2022-02-21T15:39:58.819Z"
   },
   {
    "duration": 12,
    "start_time": "2022-02-21T15:39:58.834Z"
   },
   {
    "duration": 1140,
    "start_time": "2022-03-16T12:30:17.390Z"
   },
   {
    "duration": 27,
    "start_time": "2022-03-16T12:30:18.532Z"
   },
   {
    "duration": 12,
    "start_time": "2022-03-16T12:30:18.561Z"
   },
   {
    "duration": 22,
    "start_time": "2022-03-16T12:30:18.575Z"
   },
   {
    "duration": 24,
    "start_time": "2022-03-16T12:30:18.598Z"
   },
   {
    "duration": 46,
    "start_time": "2022-03-16T12:30:18.624Z"
   },
   {
    "duration": 2,
    "start_time": "2022-03-16T12:30:18.672Z"
   },
   {
    "duration": 35,
    "start_time": "2022-03-16T12:30:18.677Z"
   },
   {
    "duration": 27,
    "start_time": "2022-03-16T12:30:18.713Z"
   },
   {
    "duration": 587,
    "start_time": "2022-03-16T12:30:18.741Z"
   },
   {
    "duration": 54,
    "start_time": "2022-03-16T12:30:19.330Z"
   },
   {
    "duration": 2,
    "start_time": "2022-03-16T12:30:19.386Z"
   },
   {
    "duration": 41,
    "start_time": "2022-03-16T12:30:19.389Z"
   },
   {
    "duration": 5,
    "start_time": "2022-03-16T12:30:19.431Z"
   },
   {
    "duration": 14,
    "start_time": "2022-03-16T12:30:19.438Z"
   },
   {
    "duration": 6,
    "start_time": "2022-03-16T12:30:19.453Z"
   },
   {
    "duration": 126,
    "start_time": "2022-03-16T12:30:19.460Z"
   },
   {
    "duration": 295,
    "start_time": "2022-03-16T12:30:19.588Z"
   },
   {
    "duration": 264,
    "start_time": "2022-03-16T12:30:19.885Z"
   },
   {
    "duration": 367,
    "start_time": "2022-03-16T12:30:20.150Z"
   },
   {
    "duration": 234,
    "start_time": "2022-03-16T12:30:20.519Z"
   },
   {
    "duration": 419,
    "start_time": "2022-03-16T12:30:20.755Z"
   },
   {
    "duration": 95,
    "start_time": "2022-03-16T12:30:21.177Z"
   },
   {
    "duration": 324,
    "start_time": "2022-03-16T12:30:21.273Z"
   },
   {
    "duration": 4,
    "start_time": "2022-03-16T12:30:21.598Z"
   },
   {
    "duration": 336,
    "start_time": "2022-03-16T12:30:21.604Z"
   },
   {
    "duration": 4,
    "start_time": "2022-03-16T12:30:21.941Z"
   },
   {
    "duration": 112,
    "start_time": "2022-03-16T12:30:21.947Z"
   },
   {
    "duration": 11,
    "start_time": "2022-03-16T12:30:22.061Z"
   },
   {
    "duration": 27,
    "start_time": "2022-03-16T12:30:22.074Z"
   },
   {
    "duration": 9,
    "start_time": "2022-03-16T12:30:22.103Z"
   },
   {
    "duration": 13,
    "start_time": "2022-03-16T12:30:22.113Z"
   },
   {
    "duration": 14,
    "start_time": "2022-03-16T12:30:22.128Z"
   }
  ],
  "kernelspec": {
   "display_name": "Python 3 (ipykernel)",
   "language": "python",
   "name": "python3"
  },
  "language_info": {
   "codemirror_mode": {
    "name": "ipython",
    "version": 3
   },
   "file_extension": ".py",
   "mimetype": "text/x-python",
   "name": "python",
   "nbconvert_exporter": "python",
   "pygments_lexer": "ipython3",
   "version": "3.9.5"
  },
  "toc": {
   "base_numbering": 1,
   "nav_menu": {},
   "number_sections": true,
   "sideBar": true,
   "skip_h1_title": true,
   "title_cell": "Table of Contents",
   "title_sidebar": "Contents",
   "toc_cell": false,
   "toc_position": {},
   "toc_section_display": true,
   "toc_window_display": false
  }
 },
 "nbformat": 4,
 "nbformat_minor": 2
}


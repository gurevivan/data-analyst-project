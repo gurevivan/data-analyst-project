# импортируем библиотеки
import pandas as pd
from sqlalchemy import create_engine
# устанавливаем параметры
db_config = {'user': 'praktikum_student', # имя пользователя
             'pwd': 'Sdf4$2;d-d30pp', # пароль
             'host': 'rc1b-wcoijxj3yxfsf3fs.mdb.yandexcloud.net',
             'port': 6432, # порт подключения
             'db': 'data-analyst-final-project-db'} # название базы данных
connection_string = 'postgresql://{}:{}@{}:{}/{}'.format(db_config['user'],
                                                         db_config['pwd'],
                                                         db_config['host'],
                                                         db_config['port'],
                                                         db_config['db'])
# сохраняем коннектор
engine = create_engine(connection_string, connect_args={'sslmode':'require'})


for table in ['books', 'authors', 'publishers', 'ratings', 'reviews']:    
    query = 'SELECT * FROM '+ table +' LIMIT 1'
    print(table)
    display(pd.io.sql.read_sql(query, con = engine))

books
book_id	author_id	title	num_pages	publication_date	publisher_id
0	1	546	'Salem's Lot	594	2005-11-01	93
authors
author_id	author
0	1	A.S. Byatt
publishers
publisher_id	publisher
0	1	Ace
ratings
rating_id	book_id	username	rating
0	1	1	ryanfranco	4
reviews
review_id	book_id	username	text


Посчитайте, сколько книг вышло после 1 января 2000 года.

query = '''
        SELECT 
               COUNT(book_id)
        FROM books
        WHERE EXTRACT(YEAR FROM publication_date) >= 2000        
        '''
pd.io.sql.read_sql(query, con = engine)


После 1 января 2000 года вышло 821 книга. 

Для каждой книги посчитайте количество обзоров и среднюю оценку.

query = '''
        WITH count_rw AS (
                          SELECT 
                                 book_id,
                                 COUNT(review_id)
                          FROM reviews
                          GROUP BY book_id
                          ),
             mean_rt AS (
                          SELECT 
                                 book_id,
                                 AVG(rating)
                          FROM ratings
                          GROUP BY book_id
                          )
        SELECT 
                b.book_id,
                b.title,
                coalesce(rw.count, 0) AS count_reviews,
                coalesce(rt.avg, 0) AS avg_ratings
        FROM books AS b
        LEFT JOIN count_rw AS rw ON b.book_id = rw.book_id     
        LEFT JOIN mean_rt AS rt ON b.book_id = rt.book_id  
        '''
pd.io.sql.read_sql(query, con = engine)


В севрвисе 1000 книг у каждой свой средний рейтинг и колтчество обзоров.

Определите издательство, которое выпустило наибольшее число книг толще 50 страниц — так вы исключите из анализа брошюры.


query = '''
        WITH book_pub  AS (
                          SELECT 
                                 publisher_id,
                                 COUNT(book_id)
                          FROM books
                          WHERE num_pages > 50
                          GROUP BY publisher_id
                          )
        SELECT 
                p.publisher_id,
                p.publisher,
                coalesce(b.count, 0 )AS count_books
        FROM publishers AS p 
        LEFT JOIN book_pub AS b ON p.publisher_id = b.publisher_id
        ORDER BY count_books DESC
        LIMIT 1
        '''
pd.io.sql.read_sql(query, con = engine)


Издательство Penguin Books выпустило 42 книги толще 50 страниц. 

Определите автора с самой высокой средней оценкой книг — учитывайте только книги с 50 и более оценками.

query = '''
        WITH book_rt AS (
                         SELECT 
                                book_id
                         FROM
                                (SELECT 
                                        b.book_id,
                                        COUNT(rating)
                                FROM books AS b    
                                LEFT JOIN ratings AS rt ON b.book_id = rt.book_id
                                GROUP BY b.book_id 
                                ) AS book_r
                          WHERE COUNT > 50
                          )
        SELECT 
              b.author_id, 
              a.author,
              AVG(rt.rating)
         
        FROM book_rt AS brt
        JOIN books AS b ON b.book_id = brt.book_id
        LEFT JOIN ratings AS rt ON b.book_id = rt.book_id
        LEFT JOIN authors AS a ON a.author_id = b.author_id
        GROUP BY b.author_id, a.author 
        ORDER BY avg DESC
        LIMIT 1
        '''
pd.io.sql.read_sql(query, con = engine)

У J.K. Rowling/Mary GrandPré самая высока средняя оценка книг 4.287097

Посчитайте среднее количество обзоров от пользователей, которые поставили больше 50 оценок.

query = '''
        SELECT
              COUNT(review_id)/COUNT(DISTINCT(username)) AS avg_reviews
        FROM reviews
        WHERE username in (
                           SELECT username
                           FROM
                                (SELECT 
                                       username,
                                       COUNT(rating) 
                                 FROM ratings AS rt
                                 GROUP BY username
                                 ) AS rt
                           WHERE COUNT > 50
                           )
        '''
pd.io.sql.read_sql(query, con = engine)


Среднее количество обзоров от пользователей, которые поставили больше 50 оценок 24.
0	1	1	brandtandrea	Mention society tell send professor analysis. ...
